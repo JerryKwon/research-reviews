{
  "nbformat": 4,
  "nbformat_minor": 0,
  "metadata": {
    "colab": {
      "name": "LightFM_Implementation.ipynb",
      "provenance": [],
      "collapsed_sections": [],
      "machine_shape": "hm"
    },
    "kernelspec": {
      "name": "python3",
      "display_name": "Python 3"
    },
    "accelerator": "GPU",
    "widgets": {
      "application/vnd.jupyter.widget-state+json": {
        "aae3d640cd244637aae0af6510f1b606": {
          "model_module": "@jupyter-widgets/controls",
          "model_name": "HBoxModel",
          "state": {
            "_view_name": "HBoxView",
            "_dom_classes": [],
            "_model_name": "HBoxModel",
            "_view_module": "@jupyter-widgets/controls",
            "_model_module_version": "1.5.0",
            "_view_count": null,
            "_view_module_version": "1.5.0",
            "box_style": "",
            "layout": "IPY_MODEL_8f661a050a854bb887a3be4aee8887ef",
            "_model_module": "@jupyter-widgets/controls",
            "children": [
              "IPY_MODEL_f420c3c7798749c0a3aed07af578f7bc",
              "IPY_MODEL_0f6b47f6f7fb4c7a8852f561aa74e5e7"
            ]
          }
        },
        "8f661a050a854bb887a3be4aee8887ef": {
          "model_module": "@jupyter-widgets/base",
          "model_name": "LayoutModel",
          "state": {
            "_view_name": "LayoutView",
            "grid_template_rows": null,
            "right": null,
            "justify_content": null,
            "_view_module": "@jupyter-widgets/base",
            "overflow": null,
            "_model_module_version": "1.2.0",
            "_view_count": null,
            "flex_flow": null,
            "width": null,
            "min_width": null,
            "border": null,
            "align_items": null,
            "bottom": null,
            "_model_module": "@jupyter-widgets/base",
            "top": null,
            "grid_column": null,
            "overflow_y": null,
            "overflow_x": null,
            "grid_auto_flow": null,
            "grid_area": null,
            "grid_template_columns": null,
            "flex": null,
            "_model_name": "LayoutModel",
            "justify_items": null,
            "grid_row": null,
            "max_height": null,
            "align_content": null,
            "visibility": null,
            "align_self": null,
            "height": null,
            "min_height": null,
            "padding": null,
            "grid_auto_rows": null,
            "grid_gap": null,
            "max_width": null,
            "order": null,
            "_view_module_version": "1.2.0",
            "grid_template_areas": null,
            "object_position": null,
            "object_fit": null,
            "grid_auto_columns": null,
            "margin": null,
            "display": null,
            "left": null
          }
        },
        "f420c3c7798749c0a3aed07af578f7bc": {
          "model_module": "@jupyter-widgets/controls",
          "model_name": "FloatProgressModel",
          "state": {
            "_view_name": "ProgressView",
            "style": "IPY_MODEL_82b2977f1c344100a8c2184c6640aa9d",
            "_dom_classes": [],
            "description": "100%",
            "_model_name": "FloatProgressModel",
            "bar_style": "success",
            "max": 9742,
            "_view_module": "@jupyter-widgets/controls",
            "_model_module_version": "1.5.0",
            "value": 9742,
            "_view_count": null,
            "_view_module_version": "1.5.0",
            "orientation": "horizontal",
            "min": 0,
            "description_tooltip": null,
            "_model_module": "@jupyter-widgets/controls",
            "layout": "IPY_MODEL_24bfb3a880ca41b48c4efaa02feb7230"
          }
        },
        "0f6b47f6f7fb4c7a8852f561aa74e5e7": {
          "model_module": "@jupyter-widgets/controls",
          "model_name": "HTMLModel",
          "state": {
            "_view_name": "HTMLView",
            "style": "IPY_MODEL_f05716d39002499ab704cd755f4c3363",
            "_dom_classes": [],
            "description": "",
            "_model_name": "HTMLModel",
            "placeholder": "​",
            "_view_module": "@jupyter-widgets/controls",
            "_model_module_version": "1.5.0",
            "value": " 9742/9742 [00:02&lt;00:00, 3663.00it/s]",
            "_view_count": null,
            "_view_module_version": "1.5.0",
            "description_tooltip": null,
            "_model_module": "@jupyter-widgets/controls",
            "layout": "IPY_MODEL_4debe22f4a63407e9104538e80a359d4"
          }
        },
        "82b2977f1c344100a8c2184c6640aa9d": {
          "model_module": "@jupyter-widgets/controls",
          "model_name": "ProgressStyleModel",
          "state": {
            "_view_name": "StyleView",
            "_model_name": "ProgressStyleModel",
            "description_width": "initial",
            "_view_module": "@jupyter-widgets/base",
            "_model_module_version": "1.5.0",
            "_view_count": null,
            "_view_module_version": "1.2.0",
            "bar_color": null,
            "_model_module": "@jupyter-widgets/controls"
          }
        },
        "24bfb3a880ca41b48c4efaa02feb7230": {
          "model_module": "@jupyter-widgets/base",
          "model_name": "LayoutModel",
          "state": {
            "_view_name": "LayoutView",
            "grid_template_rows": null,
            "right": null,
            "justify_content": null,
            "_view_module": "@jupyter-widgets/base",
            "overflow": null,
            "_model_module_version": "1.2.0",
            "_view_count": null,
            "flex_flow": null,
            "width": null,
            "min_width": null,
            "border": null,
            "align_items": null,
            "bottom": null,
            "_model_module": "@jupyter-widgets/base",
            "top": null,
            "grid_column": null,
            "overflow_y": null,
            "overflow_x": null,
            "grid_auto_flow": null,
            "grid_area": null,
            "grid_template_columns": null,
            "flex": null,
            "_model_name": "LayoutModel",
            "justify_items": null,
            "grid_row": null,
            "max_height": null,
            "align_content": null,
            "visibility": null,
            "align_self": null,
            "height": null,
            "min_height": null,
            "padding": null,
            "grid_auto_rows": null,
            "grid_gap": null,
            "max_width": null,
            "order": null,
            "_view_module_version": "1.2.0",
            "grid_template_areas": null,
            "object_position": null,
            "object_fit": null,
            "grid_auto_columns": null,
            "margin": null,
            "display": null,
            "left": null
          }
        },
        "f05716d39002499ab704cd755f4c3363": {
          "model_module": "@jupyter-widgets/controls",
          "model_name": "DescriptionStyleModel",
          "state": {
            "_view_name": "StyleView",
            "_model_name": "DescriptionStyleModel",
            "description_width": "",
            "_view_module": "@jupyter-widgets/base",
            "_model_module_version": "1.5.0",
            "_view_count": null,
            "_view_module_version": "1.2.0",
            "_model_module": "@jupyter-widgets/controls"
          }
        },
        "4debe22f4a63407e9104538e80a359d4": {
          "model_module": "@jupyter-widgets/base",
          "model_name": "LayoutModel",
          "state": {
            "_view_name": "LayoutView",
            "grid_template_rows": null,
            "right": null,
            "justify_content": null,
            "_view_module": "@jupyter-widgets/base",
            "overflow": null,
            "_model_module_version": "1.2.0",
            "_view_count": null,
            "flex_flow": null,
            "width": null,
            "min_width": null,
            "border": null,
            "align_items": null,
            "bottom": null,
            "_model_module": "@jupyter-widgets/base",
            "top": null,
            "grid_column": null,
            "overflow_y": null,
            "overflow_x": null,
            "grid_auto_flow": null,
            "grid_area": null,
            "grid_template_columns": null,
            "flex": null,
            "_model_name": "LayoutModel",
            "justify_items": null,
            "grid_row": null,
            "max_height": null,
            "align_content": null,
            "visibility": null,
            "align_self": null,
            "height": null,
            "min_height": null,
            "padding": null,
            "grid_auto_rows": null,
            "grid_gap": null,
            "max_width": null,
            "order": null,
            "_view_module_version": "1.2.0",
            "grid_template_areas": null,
            "object_position": null,
            "object_fit": null,
            "grid_auto_columns": null,
            "margin": null,
            "display": null,
            "left": null
          }
        },
        "25561cf34b3d4fc588767d30f59b74d3": {
          "model_module": "@jupyter-widgets/controls",
          "model_name": "HBoxModel",
          "state": {
            "_view_name": "HBoxView",
            "_dom_classes": [],
            "_model_name": "HBoxModel",
            "_view_module": "@jupyter-widgets/controls",
            "_model_module_version": "1.5.0",
            "_view_count": null,
            "_view_module_version": "1.5.0",
            "box_style": "",
            "layout": "IPY_MODEL_8e85ad3f8e70464984fe998a21d48688",
            "_model_module": "@jupyter-widgets/controls",
            "children": [
              "IPY_MODEL_ca745f8341be4a31a7ec82b0db0e1c43",
              "IPY_MODEL_63a27224bc0b4af0ba6c86b0f9623311"
            ]
          }
        },
        "8e85ad3f8e70464984fe998a21d48688": {
          "model_module": "@jupyter-widgets/base",
          "model_name": "LayoutModel",
          "state": {
            "_view_name": "LayoutView",
            "grid_template_rows": null,
            "right": null,
            "justify_content": null,
            "_view_module": "@jupyter-widgets/base",
            "overflow": null,
            "_model_module_version": "1.2.0",
            "_view_count": null,
            "flex_flow": null,
            "width": null,
            "min_width": null,
            "border": null,
            "align_items": null,
            "bottom": null,
            "_model_module": "@jupyter-widgets/base",
            "top": null,
            "grid_column": null,
            "overflow_y": null,
            "overflow_x": null,
            "grid_auto_flow": null,
            "grid_area": null,
            "grid_template_columns": null,
            "flex": null,
            "_model_name": "LayoutModel",
            "justify_items": null,
            "grid_row": null,
            "max_height": null,
            "align_content": null,
            "visibility": null,
            "align_self": null,
            "height": null,
            "min_height": null,
            "padding": null,
            "grid_auto_rows": null,
            "grid_gap": null,
            "max_width": null,
            "order": null,
            "_view_module_version": "1.2.0",
            "grid_template_areas": null,
            "object_position": null,
            "object_fit": null,
            "grid_auto_columns": null,
            "margin": null,
            "display": null,
            "left": null
          }
        },
        "ca745f8341be4a31a7ec82b0db0e1c43": {
          "model_module": "@jupyter-widgets/controls",
          "model_name": "FloatProgressModel",
          "state": {
            "_view_name": "ProgressView",
            "style": "IPY_MODEL_f6f05e9e9e9a429ebff7550df7815c7e",
            "_dom_classes": [],
            "description": "100%",
            "_model_name": "FloatProgressModel",
            "bar_style": "success",
            "max": 9742,
            "_view_module": "@jupyter-widgets/controls",
            "_model_module_version": "1.5.0",
            "value": 9742,
            "_view_count": null,
            "_view_module_version": "1.5.0",
            "orientation": "horizontal",
            "min": 0,
            "description_tooltip": null,
            "_model_module": "@jupyter-widgets/controls",
            "layout": "IPY_MODEL_f12d46bc332042fc977bdf4149203490"
          }
        },
        "63a27224bc0b4af0ba6c86b0f9623311": {
          "model_module": "@jupyter-widgets/controls",
          "model_name": "HTMLModel",
          "state": {
            "_view_name": "HTMLView",
            "style": "IPY_MODEL_b3f106edbdc94b96be52b2a990c8ed30",
            "_dom_classes": [],
            "description": "",
            "_model_name": "HTMLModel",
            "placeholder": "​",
            "_view_module": "@jupyter-widgets/controls",
            "_model_module_version": "1.5.0",
            "value": " 9742/9742 [01:17&lt;00:00, 125.78it/s]",
            "_view_count": null,
            "_view_module_version": "1.5.0",
            "description_tooltip": null,
            "_model_module": "@jupyter-widgets/controls",
            "layout": "IPY_MODEL_4bb3438f1ffb424b8b896f547e1913df"
          }
        },
        "f6f05e9e9e9a429ebff7550df7815c7e": {
          "model_module": "@jupyter-widgets/controls",
          "model_name": "ProgressStyleModel",
          "state": {
            "_view_name": "StyleView",
            "_model_name": "ProgressStyleModel",
            "description_width": "initial",
            "_view_module": "@jupyter-widgets/base",
            "_model_module_version": "1.5.0",
            "_view_count": null,
            "_view_module_version": "1.2.0",
            "bar_color": null,
            "_model_module": "@jupyter-widgets/controls"
          }
        },
        "f12d46bc332042fc977bdf4149203490": {
          "model_module": "@jupyter-widgets/base",
          "model_name": "LayoutModel",
          "state": {
            "_view_name": "LayoutView",
            "grid_template_rows": null,
            "right": null,
            "justify_content": null,
            "_view_module": "@jupyter-widgets/base",
            "overflow": null,
            "_model_module_version": "1.2.0",
            "_view_count": null,
            "flex_flow": null,
            "width": null,
            "min_width": null,
            "border": null,
            "align_items": null,
            "bottom": null,
            "_model_module": "@jupyter-widgets/base",
            "top": null,
            "grid_column": null,
            "overflow_y": null,
            "overflow_x": null,
            "grid_auto_flow": null,
            "grid_area": null,
            "grid_template_columns": null,
            "flex": null,
            "_model_name": "LayoutModel",
            "justify_items": null,
            "grid_row": null,
            "max_height": null,
            "align_content": null,
            "visibility": null,
            "align_self": null,
            "height": null,
            "min_height": null,
            "padding": null,
            "grid_auto_rows": null,
            "grid_gap": null,
            "max_width": null,
            "order": null,
            "_view_module_version": "1.2.0",
            "grid_template_areas": null,
            "object_position": null,
            "object_fit": null,
            "grid_auto_columns": null,
            "margin": null,
            "display": null,
            "left": null
          }
        },
        "b3f106edbdc94b96be52b2a990c8ed30": {
          "model_module": "@jupyter-widgets/controls",
          "model_name": "DescriptionStyleModel",
          "state": {
            "_view_name": "StyleView",
            "_model_name": "DescriptionStyleModel",
            "description_width": "",
            "_view_module": "@jupyter-widgets/base",
            "_model_module_version": "1.5.0",
            "_view_count": null,
            "_view_module_version": "1.2.0",
            "_model_module": "@jupyter-widgets/controls"
          }
        },
        "4bb3438f1ffb424b8b896f547e1913df": {
          "model_module": "@jupyter-widgets/base",
          "model_name": "LayoutModel",
          "state": {
            "_view_name": "LayoutView",
            "grid_template_rows": null,
            "right": null,
            "justify_content": null,
            "_view_module": "@jupyter-widgets/base",
            "overflow": null,
            "_model_module_version": "1.2.0",
            "_view_count": null,
            "flex_flow": null,
            "width": null,
            "min_width": null,
            "border": null,
            "align_items": null,
            "bottom": null,
            "_model_module": "@jupyter-widgets/base",
            "top": null,
            "grid_column": null,
            "overflow_y": null,
            "overflow_x": null,
            "grid_auto_flow": null,
            "grid_area": null,
            "grid_template_columns": null,
            "flex": null,
            "_model_name": "LayoutModel",
            "justify_items": null,
            "grid_row": null,
            "max_height": null,
            "align_content": null,
            "visibility": null,
            "align_self": null,
            "height": null,
            "min_height": null,
            "padding": null,
            "grid_auto_rows": null,
            "grid_gap": null,
            "max_width": null,
            "order": null,
            "_view_module_version": "1.2.0",
            "grid_template_areas": null,
            "object_position": null,
            "object_fit": null,
            "grid_auto_columns": null,
            "margin": null,
            "display": null,
            "left": null
          }
        }
      }
    }
  },
  "cells": [
    {
      "cell_type": "markdown",
      "metadata": {
        "id": "zPRfaGW1TCbp"
      },
      "source": [
        "# References\n",
        "\n",
        "1. https://www.kaggle.com/niyamatalmass/lightfm-hybrid-recommendation-system\n",
        "2. https://towardsdatascience.com/how-i-would-explain-building-lightfm-hybrid-recommenders-to-a-5-year-old-b6ee18571309"
      ]
    },
    {
      "cell_type": "code",
      "metadata": {
        "colab": {
          "base_uri": "https://localhost:8080/"
        },
        "id": "fHeAUtqrSruA",
        "outputId": "d35d3d1b-10fa-4936-ae99-b04352efacca"
      },
      "source": [
        "from google.colab import drive\n",
        "drive.mount(\"/gdrive\")"
      ],
      "execution_count": 3,
      "outputs": [
        {
          "output_type": "stream",
          "text": [
            "Mounted at /gdrive\n"
          ],
          "name": "stdout"
        }
      ]
    },
    {
      "cell_type": "code",
      "metadata": {
        "colab": {
          "base_uri": "https://localhost:8080/"
        },
        "id": "ewXSLzNIS_S6",
        "outputId": "1c4fa05e-7e90-4982-ebac-6bc05523b7aa"
      },
      "source": [
        "!pip install lightfm"
      ],
      "execution_count": 2,
      "outputs": [
        {
          "output_type": "stream",
          "text": [
            "Collecting lightfm\n",
            "\u001b[?25l  Downloading https://files.pythonhosted.org/packages/5e/fe/8864d723daa8e5afc74080ce510c30f7ad52facf6a157d4b42dec83dfab4/lightfm-1.16.tar.gz (310kB)\n",
            "\r\u001b[K     |█                               | 10kB 21.9MB/s eta 0:00:01\r\u001b[K     |██▏                             | 20kB 18.6MB/s eta 0:00:01\r\u001b[K     |███▏                            | 30kB 10.8MB/s eta 0:00:01\r\u001b[K     |████▎                           | 40kB 9.2MB/s eta 0:00:01\r\u001b[K     |█████▎                          | 51kB 5.0MB/s eta 0:00:01\r\u001b[K     |██████▍                         | 61kB 5.4MB/s eta 0:00:01\r\u001b[K     |███████▍                        | 71kB 5.9MB/s eta 0:00:01\r\u001b[K     |████████▌                       | 81kB 6.4MB/s eta 0:00:01\r\u001b[K     |█████████▌                      | 92kB 6.0MB/s eta 0:00:01\r\u001b[K     |██████████▋                     | 102kB 6.6MB/s eta 0:00:01\r\u001b[K     |███████████▋                    | 112kB 6.6MB/s eta 0:00:01\r\u001b[K     |████████████▊                   | 122kB 6.6MB/s eta 0:00:01\r\u001b[K     |█████████████▊                  | 133kB 6.6MB/s eta 0:00:01\r\u001b[K     |██████████████▉                 | 143kB 6.6MB/s eta 0:00:01\r\u001b[K     |███████████████▉                | 153kB 6.6MB/s eta 0:00:01\r\u001b[K     |█████████████████               | 163kB 6.6MB/s eta 0:00:01\r\u001b[K     |██████████████████              | 174kB 6.6MB/s eta 0:00:01\r\u001b[K     |███████████████████             | 184kB 6.6MB/s eta 0:00:01\r\u001b[K     |████████████████████            | 194kB 6.6MB/s eta 0:00:01\r\u001b[K     |█████████████████████▏          | 204kB 6.6MB/s eta 0:00:01\r\u001b[K     |██████████████████████▏         | 215kB 6.6MB/s eta 0:00:01\r\u001b[K     |███████████████████████▎        | 225kB 6.6MB/s eta 0:00:01\r\u001b[K     |████████████████████████▎       | 235kB 6.6MB/s eta 0:00:01\r\u001b[K     |█████████████████████████▍      | 245kB 6.6MB/s eta 0:00:01\r\u001b[K     |██████████████████████████▍     | 256kB 6.6MB/s eta 0:00:01\r\u001b[K     |███████████████████████████▌    | 266kB 6.6MB/s eta 0:00:01\r\u001b[K     |████████████████████████████▌   | 276kB 6.6MB/s eta 0:00:01\r\u001b[K     |█████████████████████████████▋  | 286kB 6.6MB/s eta 0:00:01\r\u001b[K     |██████████████████████████████▋ | 296kB 6.6MB/s eta 0:00:01\r\u001b[K     |███████████████████████████████▊| 307kB 6.6MB/s eta 0:00:01\r\u001b[K     |████████████████████████████████| 317kB 6.6MB/s \n",
            "\u001b[?25hRequirement already satisfied: numpy in /usr/local/lib/python3.6/dist-packages (from lightfm) (1.18.5)\n",
            "Requirement already satisfied: scipy>=0.17.0 in /usr/local/lib/python3.6/dist-packages (from lightfm) (1.4.1)\n",
            "Requirement already satisfied: requests in /usr/local/lib/python3.6/dist-packages (from lightfm) (2.23.0)\n",
            "Requirement already satisfied: scikit-learn in /usr/local/lib/python3.6/dist-packages (from lightfm) (0.22.2.post1)\n",
            "Requirement already satisfied: certifi>=2017.4.17 in /usr/local/lib/python3.6/dist-packages (from requests->lightfm) (2020.11.8)\n",
            "Requirement already satisfied: urllib3!=1.25.0,!=1.25.1,<1.26,>=1.21.1 in /usr/local/lib/python3.6/dist-packages (from requests->lightfm) (1.24.3)\n",
            "Requirement already satisfied: chardet<4,>=3.0.2 in /usr/local/lib/python3.6/dist-packages (from requests->lightfm) (3.0.4)\n",
            "Requirement already satisfied: idna<3,>=2.5 in /usr/local/lib/python3.6/dist-packages (from requests->lightfm) (2.10)\n",
            "Requirement already satisfied: joblib>=0.11 in /usr/local/lib/python3.6/dist-packages (from scikit-learn->lightfm) (0.17.0)\n",
            "Building wheels for collected packages: lightfm\n",
            "  Building wheel for lightfm (setup.py) ... \u001b[?25l\u001b[?25hdone\n",
            "  Created wheel for lightfm: filename=lightfm-1.16-cp36-cp36m-linux_x86_64.whl size=704288 sha256=684be486a06cf3af9696a593a61ee1906e361a3cc3cfdd0bd20680abd6e101f9\n",
            "  Stored in directory: /root/.cache/pip/wheels/c6/64/d4/673c7277f71ac4c5ad4835b94708c01b653ef2d3aa78ef20aa\n",
            "Successfully built lightfm\n",
            "Installing collected packages: lightfm\n",
            "Successfully installed lightfm-1.16\n"
          ],
          "name": "stdout"
        }
      ]
    },
    {
      "cell_type": "code",
      "metadata": {
        "colab": {
          "base_uri": "https://localhost:8080/"
        },
        "id": "jlG0Ox4oTpsZ",
        "outputId": "5574d81e-503a-4ce7-f68a-92e23d5a8103"
      },
      "source": [
        "ls -l /gdrive/MyDrive/colab/Factorization_Machine/data"
      ],
      "execution_count": 4,
      "outputs": [
        {
          "output_type": "stream",
          "text": [
            "total 18939\n",
            "-rw------- 1 root root   197979 Nov 19 04:30 links.csv\n",
            "-rw------- 1 root root   494431 Nov 24 01:17 movies.csv\n",
            "-rw------- 1 root root  2483723 Nov 24 01:17 ratings.csv\n",
            "-rw------- 1 root root   118660 Nov 19 04:30 tags.csv\n",
            "-rw------- 1 root root   238833 Dec  3 01:17 tag_tokenizer_bpe_100.model\n",
            "-rw------- 1 root root      672 Dec  3 01:17 tag_tokenizer_bpe_100.vocab\n",
            "-rw------- 1 root root   370999 Nov 27 05:52 tag_tokenizer_bpe_9000.model\n",
            "-rw------- 1 root root   114127 Nov 27 05:52 tag_tokenizer_bpe_9000.vocab\n",
            "-rw------- 1 root root   271684 Dec  3 01:17 tag_tokenizer_input_bpe_100.txt\n",
            "-rw------- 1 root root   236678 Nov 27 05:52 tag_tokenizer_input_bpe_24000.txt\n",
            "-rw------- 1 root root   271684 Nov 27 05:57 tag_tokenizer_input_bpe_9000.txt\n",
            "-rw------- 1 root root   276196 Dec  3 01:17 tag_w2v_bpe_100.model\n",
            "-rw------- 1 root root   613252 Dec  7 01:32 title_tokenizer_bpe_24000.model\n",
            "-rw------- 1 root root   340369 Dec  7 01:32 title_tokenizer_bpe_24000.vocab\n",
            "-rw------- 1 root root   193941 Dec  7 01:32 title_tokenizer_input_bpe_24000.txt\n",
            "-rw------- 1 root root 13166424 Dec  7 01:32 title_w2v_bpe_24000.model\n",
            "-rw------- 1 root root        0 Nov 27 08:43 X_data.npy\n"
          ],
          "name": "stdout"
        }
      ]
    },
    {
      "cell_type": "code",
      "metadata": {
        "id": "lZ-bfFEVTrwY"
      },
      "source": [
        "import pandas as pd\n",
        "import numpy as np\n",
        "import os\n",
        "\n",
        "data_path = \"/gdrive/MyDrive/colab/Factorization_Machine/data\"\n",
        "ratings_path = os.path.join(data_path,\"ratings.csv\")\n",
        "movies_path = os.path.join(data_path,\"movies.csv\")\n",
        "links_path = os.path.join(data_path,\"links.csv\")\n",
        "tags_path = os.path.join(data_path,\"tags.csv\")\n",
        "\n",
        "ratings = pd.read_csv(ratings_path)\n",
        "movies = pd.read_csv(movies_path)\n",
        "links = pd.read_csv(links_path)\n",
        "tags = pd.read_csv(tags_path)"
      ],
      "execution_count": 5,
      "outputs": []
    },
    {
      "cell_type": "code",
      "metadata": {
        "colab": {
          "base_uri": "https://localhost:8080/",
          "height": 204
        },
        "id": "9bG00k5NUGkx",
        "outputId": "9c5728d7-74d3-4268-e84b-9ec3c8c13f04"
      },
      "source": [
        "ratings.head()"
      ],
      "execution_count": 6,
      "outputs": [
        {
          "output_type": "execute_result",
          "data": {
            "text/html": [
              "<div>\n",
              "<style scoped>\n",
              "    .dataframe tbody tr th:only-of-type {\n",
              "        vertical-align: middle;\n",
              "    }\n",
              "\n",
              "    .dataframe tbody tr th {\n",
              "        vertical-align: top;\n",
              "    }\n",
              "\n",
              "    .dataframe thead th {\n",
              "        text-align: right;\n",
              "    }\n",
              "</style>\n",
              "<table border=\"1\" class=\"dataframe\">\n",
              "  <thead>\n",
              "    <tr style=\"text-align: right;\">\n",
              "      <th></th>\n",
              "      <th>userId</th>\n",
              "      <th>movieId</th>\n",
              "      <th>rating</th>\n",
              "      <th>timestamp</th>\n",
              "    </tr>\n",
              "  </thead>\n",
              "  <tbody>\n",
              "    <tr>\n",
              "      <th>0</th>\n",
              "      <td>1</td>\n",
              "      <td>1</td>\n",
              "      <td>4.0</td>\n",
              "      <td>964982703</td>\n",
              "    </tr>\n",
              "    <tr>\n",
              "      <th>1</th>\n",
              "      <td>1</td>\n",
              "      <td>3</td>\n",
              "      <td>4.0</td>\n",
              "      <td>964981247</td>\n",
              "    </tr>\n",
              "    <tr>\n",
              "      <th>2</th>\n",
              "      <td>1</td>\n",
              "      <td>6</td>\n",
              "      <td>4.0</td>\n",
              "      <td>964982224</td>\n",
              "    </tr>\n",
              "    <tr>\n",
              "      <th>3</th>\n",
              "      <td>1</td>\n",
              "      <td>47</td>\n",
              "      <td>5.0</td>\n",
              "      <td>964983815</td>\n",
              "    </tr>\n",
              "    <tr>\n",
              "      <th>4</th>\n",
              "      <td>1</td>\n",
              "      <td>50</td>\n",
              "      <td>5.0</td>\n",
              "      <td>964982931</td>\n",
              "    </tr>\n",
              "  </tbody>\n",
              "</table>\n",
              "</div>"
            ],
            "text/plain": [
              "   userId  movieId  rating  timestamp\n",
              "0       1        1     4.0  964982703\n",
              "1       1        3     4.0  964981247\n",
              "2       1        6     4.0  964982224\n",
              "3       1       47     5.0  964983815\n",
              "4       1       50     5.0  964982931"
            ]
          },
          "metadata": {
            "tags": []
          },
          "execution_count": 6
        }
      ]
    },
    {
      "cell_type": "code",
      "metadata": {
        "colab": {
          "base_uri": "https://localhost:8080/",
          "height": 204
        },
        "id": "n7NIkHnoUSDP",
        "outputId": "d523e2c5-0506-4120-c81f-1ea4a236335a"
      },
      "source": [
        "movies.head()"
      ],
      "execution_count": 7,
      "outputs": [
        {
          "output_type": "execute_result",
          "data": {
            "text/html": [
              "<div>\n",
              "<style scoped>\n",
              "    .dataframe tbody tr th:only-of-type {\n",
              "        vertical-align: middle;\n",
              "    }\n",
              "\n",
              "    .dataframe tbody tr th {\n",
              "        vertical-align: top;\n",
              "    }\n",
              "\n",
              "    .dataframe thead th {\n",
              "        text-align: right;\n",
              "    }\n",
              "</style>\n",
              "<table border=\"1\" class=\"dataframe\">\n",
              "  <thead>\n",
              "    <tr style=\"text-align: right;\">\n",
              "      <th></th>\n",
              "      <th>movieId</th>\n",
              "      <th>title</th>\n",
              "      <th>genres</th>\n",
              "    </tr>\n",
              "  </thead>\n",
              "  <tbody>\n",
              "    <tr>\n",
              "      <th>0</th>\n",
              "      <td>1</td>\n",
              "      <td>Toy Story (1995)</td>\n",
              "      <td>Adventure|Animation|Children|Comedy|Fantasy</td>\n",
              "    </tr>\n",
              "    <tr>\n",
              "      <th>1</th>\n",
              "      <td>2</td>\n",
              "      <td>Jumanji (1995)</td>\n",
              "      <td>Adventure|Children|Fantasy</td>\n",
              "    </tr>\n",
              "    <tr>\n",
              "      <th>2</th>\n",
              "      <td>3</td>\n",
              "      <td>Grumpier Old Men (1995)</td>\n",
              "      <td>Comedy|Romance</td>\n",
              "    </tr>\n",
              "    <tr>\n",
              "      <th>3</th>\n",
              "      <td>4</td>\n",
              "      <td>Waiting to Exhale (1995)</td>\n",
              "      <td>Comedy|Drama|Romance</td>\n",
              "    </tr>\n",
              "    <tr>\n",
              "      <th>4</th>\n",
              "      <td>5</td>\n",
              "      <td>Father of the Bride Part II (1995)</td>\n",
              "      <td>Comedy</td>\n",
              "    </tr>\n",
              "  </tbody>\n",
              "</table>\n",
              "</div>"
            ],
            "text/plain": [
              "   movieId  ...                                       genres\n",
              "0        1  ...  Adventure|Animation|Children|Comedy|Fantasy\n",
              "1        2  ...                   Adventure|Children|Fantasy\n",
              "2        3  ...                               Comedy|Romance\n",
              "3        4  ...                         Comedy|Drama|Romance\n",
              "4        5  ...                                       Comedy\n",
              "\n",
              "[5 rows x 3 columns]"
            ]
          },
          "metadata": {
            "tags": []
          },
          "execution_count": 7
        }
      ]
    },
    {
      "cell_type": "code",
      "metadata": {
        "colab": {
          "base_uri": "https://localhost:8080/",
          "height": 204
        },
        "id": "z6WkTRsGUS2s",
        "outputId": "68ae9ade-066b-42e7-e3d1-65ce430a7732"
      },
      "source": [
        "tags.head()"
      ],
      "execution_count": 8,
      "outputs": [
        {
          "output_type": "execute_result",
          "data": {
            "text/html": [
              "<div>\n",
              "<style scoped>\n",
              "    .dataframe tbody tr th:only-of-type {\n",
              "        vertical-align: middle;\n",
              "    }\n",
              "\n",
              "    .dataframe tbody tr th {\n",
              "        vertical-align: top;\n",
              "    }\n",
              "\n",
              "    .dataframe thead th {\n",
              "        text-align: right;\n",
              "    }\n",
              "</style>\n",
              "<table border=\"1\" class=\"dataframe\">\n",
              "  <thead>\n",
              "    <tr style=\"text-align: right;\">\n",
              "      <th></th>\n",
              "      <th>userId</th>\n",
              "      <th>movieId</th>\n",
              "      <th>tag</th>\n",
              "      <th>timestamp</th>\n",
              "    </tr>\n",
              "  </thead>\n",
              "  <tbody>\n",
              "    <tr>\n",
              "      <th>0</th>\n",
              "      <td>2</td>\n",
              "      <td>60756</td>\n",
              "      <td>funny</td>\n",
              "      <td>1445714994</td>\n",
              "    </tr>\n",
              "    <tr>\n",
              "      <th>1</th>\n",
              "      <td>2</td>\n",
              "      <td>60756</td>\n",
              "      <td>Highly quotable</td>\n",
              "      <td>1445714996</td>\n",
              "    </tr>\n",
              "    <tr>\n",
              "      <th>2</th>\n",
              "      <td>2</td>\n",
              "      <td>60756</td>\n",
              "      <td>will ferrell</td>\n",
              "      <td>1445714992</td>\n",
              "    </tr>\n",
              "    <tr>\n",
              "      <th>3</th>\n",
              "      <td>2</td>\n",
              "      <td>89774</td>\n",
              "      <td>Boxing story</td>\n",
              "      <td>1445715207</td>\n",
              "    </tr>\n",
              "    <tr>\n",
              "      <th>4</th>\n",
              "      <td>2</td>\n",
              "      <td>89774</td>\n",
              "      <td>MMA</td>\n",
              "      <td>1445715200</td>\n",
              "    </tr>\n",
              "  </tbody>\n",
              "</table>\n",
              "</div>"
            ],
            "text/plain": [
              "   userId  movieId              tag   timestamp\n",
              "0       2    60756            funny  1445714994\n",
              "1       2    60756  Highly quotable  1445714996\n",
              "2       2    60756     will ferrell  1445714992\n",
              "3       2    89774     Boxing story  1445715207\n",
              "4       2    89774              MMA  1445715200"
            ]
          },
          "metadata": {
            "tags": []
          },
          "execution_count": 8
        }
      ]
    },
    {
      "cell_type": "code",
      "metadata": {
        "colab": {
          "base_uri": "https://localhost:8080/",
          "height": 204
        },
        "id": "ltpRwMbmUT_T",
        "outputId": "f268a878-22e6-497a-ddb4-62a3ccefbc51"
      },
      "source": [
        "links.head()"
      ],
      "execution_count": 9,
      "outputs": [
        {
          "output_type": "execute_result",
          "data": {
            "text/html": [
              "<div>\n",
              "<style scoped>\n",
              "    .dataframe tbody tr th:only-of-type {\n",
              "        vertical-align: middle;\n",
              "    }\n",
              "\n",
              "    .dataframe tbody tr th {\n",
              "        vertical-align: top;\n",
              "    }\n",
              "\n",
              "    .dataframe thead th {\n",
              "        text-align: right;\n",
              "    }\n",
              "</style>\n",
              "<table border=\"1\" class=\"dataframe\">\n",
              "  <thead>\n",
              "    <tr style=\"text-align: right;\">\n",
              "      <th></th>\n",
              "      <th>movieId</th>\n",
              "      <th>imdbId</th>\n",
              "      <th>tmdbId</th>\n",
              "    </tr>\n",
              "  </thead>\n",
              "  <tbody>\n",
              "    <tr>\n",
              "      <th>0</th>\n",
              "      <td>1</td>\n",
              "      <td>114709</td>\n",
              "      <td>862.0</td>\n",
              "    </tr>\n",
              "    <tr>\n",
              "      <th>1</th>\n",
              "      <td>2</td>\n",
              "      <td>113497</td>\n",
              "      <td>8844.0</td>\n",
              "    </tr>\n",
              "    <tr>\n",
              "      <th>2</th>\n",
              "      <td>3</td>\n",
              "      <td>113228</td>\n",
              "      <td>15602.0</td>\n",
              "    </tr>\n",
              "    <tr>\n",
              "      <th>3</th>\n",
              "      <td>4</td>\n",
              "      <td>114885</td>\n",
              "      <td>31357.0</td>\n",
              "    </tr>\n",
              "    <tr>\n",
              "      <th>4</th>\n",
              "      <td>5</td>\n",
              "      <td>113041</td>\n",
              "      <td>11862.0</td>\n",
              "    </tr>\n",
              "  </tbody>\n",
              "</table>\n",
              "</div>"
            ],
            "text/plain": [
              "   movieId  imdbId   tmdbId\n",
              "0        1  114709    862.0\n",
              "1        2  113497   8844.0\n",
              "2        3  113228  15602.0\n",
              "3        4  114885  31357.0\n",
              "4        5  113041  11862.0"
            ]
          },
          "metadata": {
            "tags": []
          },
          "execution_count": 9
        }
      ]
    },
    {
      "cell_type": "markdown",
      "metadata": {
        "id": "PRUp9hC0VdHV"
      },
      "source": [
        "## 1. LightFM Using Categorical Data only \n",
        "\n",
        "### 1.1. Data Preparation for making LightFM Dataset\n",
        "\n",
        "#### 1.1.1. Genre Vectorization\n",
        "movies DataFrame에 \"|\"로 구분된 각 영화의 장르를 각각의 element로 나누어 벡터로 표현"
      ]
    },
    {
      "cell_type": "code",
      "metadata": {
        "colab": {
          "base_uri": "https://localhost:8080/"
        },
        "id": "Q1_VwmaaVuzr",
        "outputId": "ea348d8a-7e44-4e31-a92a-63ba705f3bb5"
      },
      "source": [
        "unique_genres = np.unique(np.concatenate(np.array(movies.genres.apply(lambda x: np.array(x.split(\"|\"))).tolist())))\n",
        "dict_gid_2_gnr = { gid:genre for gid, genre in enumerate(unique_genres)} \n",
        "dict_gnr_2_gid = { genre:gid for gid, genre in dict_gid_2_gnr.items()}\n",
        "unique_genres"
      ],
      "execution_count": 10,
      "outputs": [
        {
          "output_type": "execute_result",
          "data": {
            "text/plain": [
              "array(['(no genres listed)', 'Action', 'Adventure', 'Animation',\n",
              "       'Children', 'Comedy', 'Crime', 'Documentary', 'Drama', 'Fantasy',\n",
              "       'Film-Noir', 'Horror', 'IMAX', 'Musical', 'Mystery', 'Romance',\n",
              "       'Sci-Fi', 'Thriller', 'War', 'Western'], dtype='<U18')"
            ]
          },
          "metadata": {
            "tags": []
          },
          "execution_count": 10
        }
      ]
    },
    {
      "cell_type": "code",
      "metadata": {
        "id": "X0d-IrofVxhk"
      },
      "source": [
        "gnr_vectors = list()\n",
        "for gnrs in movies.genres.apply(lambda x: x.split(\"|\")).tolist():\n",
        "  gnr_vector = np.zeros(len(unique_genres),dtype=np.int8)\n",
        "  for gnr in gnrs:\n",
        "    gnr_vector[dict_gnr_2_gid[gnr]] = 1\n",
        "  gnr_vectors.append(gnr_vector)"
      ],
      "execution_count": 11,
      "outputs": []
    },
    {
      "cell_type": "code",
      "metadata": {
        "colab": {
          "base_uri": "https://localhost:8080/",
          "height": 204
        },
        "id": "a51e3yuiV7UM",
        "outputId": "41a6ea00-3284-43e3-da66-68770b27a7f7"
      },
      "source": [
        "movies.loc[:,\"genres_vectors\"] = pd.Series(gnr_vectors)\n",
        "movies.head()"
      ],
      "execution_count": 12,
      "outputs": [
        {
          "output_type": "execute_result",
          "data": {
            "text/html": [
              "<div>\n",
              "<style scoped>\n",
              "    .dataframe tbody tr th:only-of-type {\n",
              "        vertical-align: middle;\n",
              "    }\n",
              "\n",
              "    .dataframe tbody tr th {\n",
              "        vertical-align: top;\n",
              "    }\n",
              "\n",
              "    .dataframe thead th {\n",
              "        text-align: right;\n",
              "    }\n",
              "</style>\n",
              "<table border=\"1\" class=\"dataframe\">\n",
              "  <thead>\n",
              "    <tr style=\"text-align: right;\">\n",
              "      <th></th>\n",
              "      <th>movieId</th>\n",
              "      <th>title</th>\n",
              "      <th>genres</th>\n",
              "      <th>genres_vectors</th>\n",
              "    </tr>\n",
              "  </thead>\n",
              "  <tbody>\n",
              "    <tr>\n",
              "      <th>0</th>\n",
              "      <td>1</td>\n",
              "      <td>Toy Story (1995)</td>\n",
              "      <td>Adventure|Animation|Children|Comedy|Fantasy</td>\n",
              "      <td>[0, 0, 1, 1, 1, 1, 0, 0, 0, 1, 0, 0, 0, 0, 0, ...</td>\n",
              "    </tr>\n",
              "    <tr>\n",
              "      <th>1</th>\n",
              "      <td>2</td>\n",
              "      <td>Jumanji (1995)</td>\n",
              "      <td>Adventure|Children|Fantasy</td>\n",
              "      <td>[0, 0, 1, 0, 1, 0, 0, 0, 0, 1, 0, 0, 0, 0, 0, ...</td>\n",
              "    </tr>\n",
              "    <tr>\n",
              "      <th>2</th>\n",
              "      <td>3</td>\n",
              "      <td>Grumpier Old Men (1995)</td>\n",
              "      <td>Comedy|Romance</td>\n",
              "      <td>[0, 0, 0, 0, 0, 1, 0, 0, 0, 0, 0, 0, 0, 0, 0, ...</td>\n",
              "    </tr>\n",
              "    <tr>\n",
              "      <th>3</th>\n",
              "      <td>4</td>\n",
              "      <td>Waiting to Exhale (1995)</td>\n",
              "      <td>Comedy|Drama|Romance</td>\n",
              "      <td>[0, 0, 0, 0, 0, 1, 0, 0, 1, 0, 0, 0, 0, 0, 0, ...</td>\n",
              "    </tr>\n",
              "    <tr>\n",
              "      <th>4</th>\n",
              "      <td>5</td>\n",
              "      <td>Father of the Bride Part II (1995)</td>\n",
              "      <td>Comedy</td>\n",
              "      <td>[0, 0, 0, 0, 0, 1, 0, 0, 0, 0, 0, 0, 0, 0, 0, ...</td>\n",
              "    </tr>\n",
              "  </tbody>\n",
              "</table>\n",
              "</div>"
            ],
            "text/plain": [
              "   movieId  ...                                     genres_vectors\n",
              "0        1  ...  [0, 0, 1, 1, 1, 1, 0, 0, 0, 1, 0, 0, 0, 0, 0, ...\n",
              "1        2  ...  [0, 0, 1, 0, 1, 0, 0, 0, 0, 1, 0, 0, 0, 0, 0, ...\n",
              "2        3  ...  [0, 0, 0, 0, 0, 1, 0, 0, 0, 0, 0, 0, 0, 0, 0, ...\n",
              "3        4  ...  [0, 0, 0, 0, 0, 1, 0, 0, 1, 0, 0, 0, 0, 0, 0, ...\n",
              "4        5  ...  [0, 0, 0, 0, 0, 1, 0, 0, 0, 0, 0, 0, 0, 0, 0, ...\n",
              "\n",
              "[5 rows x 4 columns]"
            ]
          },
          "metadata": {
            "tags": []
          },
          "execution_count": 12
        }
      ]
    },
    {
      "cell_type": "markdown",
      "metadata": {
        "id": "B5C4dbpZU2KD"
      },
      "source": [
        "#### 1.1.2. Launched Year Vectorization\n",
        "각 영화가 출시된 년도 값을 장르와 동일하게 년도 별로 구분하여 벡터로 표현"
      ]
    },
    {
      "cell_type": "code",
      "metadata": {
        "id": "X1UsolPyVB0X"
      },
      "source": [
        "import re\n",
        "\n",
        "def get_year(regex, string):\n",
        "  try:\n",
        "    found = re.search(regex,string).group(0)[1:-1]\n",
        "  except AttributeError:\n",
        "    found = ''\n",
        "  return found\n",
        "\n",
        "regex = '\\([0-9]{4}\\)'\n",
        "movies.loc[:,\"launch_year\"] = movies.title.apply(lambda x:get_year(regex,x))"
      ],
      "execution_count": 13,
      "outputs": []
    },
    {
      "cell_type": "code",
      "metadata": {
        "colab": {
          "base_uri": "https://localhost:8080/",
          "height": 204
        },
        "id": "5hiBPl41WFrN",
        "outputId": "f7ef1ecd-1fe0-4fb7-d3ae-77256fc0e290"
      },
      "source": [
        "movies.head()"
      ],
      "execution_count": 14,
      "outputs": [
        {
          "output_type": "execute_result",
          "data": {
            "text/html": [
              "<div>\n",
              "<style scoped>\n",
              "    .dataframe tbody tr th:only-of-type {\n",
              "        vertical-align: middle;\n",
              "    }\n",
              "\n",
              "    .dataframe tbody tr th {\n",
              "        vertical-align: top;\n",
              "    }\n",
              "\n",
              "    .dataframe thead th {\n",
              "        text-align: right;\n",
              "    }\n",
              "</style>\n",
              "<table border=\"1\" class=\"dataframe\">\n",
              "  <thead>\n",
              "    <tr style=\"text-align: right;\">\n",
              "      <th></th>\n",
              "      <th>movieId</th>\n",
              "      <th>title</th>\n",
              "      <th>genres</th>\n",
              "      <th>genres_vectors</th>\n",
              "      <th>launch_year</th>\n",
              "    </tr>\n",
              "  </thead>\n",
              "  <tbody>\n",
              "    <tr>\n",
              "      <th>0</th>\n",
              "      <td>1</td>\n",
              "      <td>Toy Story (1995)</td>\n",
              "      <td>Adventure|Animation|Children|Comedy|Fantasy</td>\n",
              "      <td>[0, 0, 1, 1, 1, 1, 0, 0, 0, 1, 0, 0, 0, 0, 0, ...</td>\n",
              "      <td>1995</td>\n",
              "    </tr>\n",
              "    <tr>\n",
              "      <th>1</th>\n",
              "      <td>2</td>\n",
              "      <td>Jumanji (1995)</td>\n",
              "      <td>Adventure|Children|Fantasy</td>\n",
              "      <td>[0, 0, 1, 0, 1, 0, 0, 0, 0, 1, 0, 0, 0, 0, 0, ...</td>\n",
              "      <td>1995</td>\n",
              "    </tr>\n",
              "    <tr>\n",
              "      <th>2</th>\n",
              "      <td>3</td>\n",
              "      <td>Grumpier Old Men (1995)</td>\n",
              "      <td>Comedy|Romance</td>\n",
              "      <td>[0, 0, 0, 0, 0, 1, 0, 0, 0, 0, 0, 0, 0, 0, 0, ...</td>\n",
              "      <td>1995</td>\n",
              "    </tr>\n",
              "    <tr>\n",
              "      <th>3</th>\n",
              "      <td>4</td>\n",
              "      <td>Waiting to Exhale (1995)</td>\n",
              "      <td>Comedy|Drama|Romance</td>\n",
              "      <td>[0, 0, 0, 0, 0, 1, 0, 0, 1, 0, 0, 0, 0, 0, 0, ...</td>\n",
              "      <td>1995</td>\n",
              "    </tr>\n",
              "    <tr>\n",
              "      <th>4</th>\n",
              "      <td>5</td>\n",
              "      <td>Father of the Bride Part II (1995)</td>\n",
              "      <td>Comedy</td>\n",
              "      <td>[0, 0, 0, 0, 0, 1, 0, 0, 0, 0, 0, 0, 0, 0, 0, ...</td>\n",
              "      <td>1995</td>\n",
              "    </tr>\n",
              "  </tbody>\n",
              "</table>\n",
              "</div>"
            ],
            "text/plain": [
              "   movieId  ... launch_year\n",
              "0        1  ...        1995\n",
              "1        2  ...        1995\n",
              "2        3  ...        1995\n",
              "3        4  ...        1995\n",
              "4        5  ...        1995\n",
              "\n",
              "[5 rows x 5 columns]"
            ]
          },
          "metadata": {
            "tags": []
          },
          "execution_count": 14
        }
      ]
    },
    {
      "cell_type": "code",
      "metadata": {
        "colab": {
          "base_uri": "https://localhost:8080/",
          "height": 204
        },
        "id": "54BEa-bUWeD7",
        "outputId": "c0a50583-b548-4de2-bbab-3e57063c23d2"
      },
      "source": [
        "movies.loc[movies.launch_year==\"\",\"launch_year\"] = 0\n",
        "movies.loc[:,\"launch_year\"] = movies.launch_year.astype(\"int\")\n",
        "movies.loc[movies.launch_year==0].head()"
      ],
      "execution_count": 15,
      "outputs": [
        {
          "output_type": "execute_result",
          "data": {
            "text/html": [
              "<div>\n",
              "<style scoped>\n",
              "    .dataframe tbody tr th:only-of-type {\n",
              "        vertical-align: middle;\n",
              "    }\n",
              "\n",
              "    .dataframe tbody tr th {\n",
              "        vertical-align: top;\n",
              "    }\n",
              "\n",
              "    .dataframe thead th {\n",
              "        text-align: right;\n",
              "    }\n",
              "</style>\n",
              "<table border=\"1\" class=\"dataframe\">\n",
              "  <thead>\n",
              "    <tr style=\"text-align: right;\">\n",
              "      <th></th>\n",
              "      <th>movieId</th>\n",
              "      <th>title</th>\n",
              "      <th>genres</th>\n",
              "      <th>genres_vectors</th>\n",
              "      <th>launch_year</th>\n",
              "    </tr>\n",
              "  </thead>\n",
              "  <tbody>\n",
              "    <tr>\n",
              "      <th>6059</th>\n",
              "      <td>40697</td>\n",
              "      <td>Babylon 5</td>\n",
              "      <td>Sci-Fi</td>\n",
              "      <td>[0, 0, 0, 0, 0, 0, 0, 0, 0, 0, 0, 0, 0, 0, 0, ...</td>\n",
              "      <td>0</td>\n",
              "    </tr>\n",
              "    <tr>\n",
              "      <th>9031</th>\n",
              "      <td>140956</td>\n",
              "      <td>Ready Player One</td>\n",
              "      <td>Action|Sci-Fi|Thriller</td>\n",
              "      <td>[0, 1, 0, 0, 0, 0, 0, 0, 0, 0, 0, 0, 0, 0, 0, ...</td>\n",
              "      <td>0</td>\n",
              "    </tr>\n",
              "    <tr>\n",
              "      <th>9091</th>\n",
              "      <td>143410</td>\n",
              "      <td>Hyena Road</td>\n",
              "      <td>(no genres listed)</td>\n",
              "      <td>[1, 0, 0, 0, 0, 0, 0, 0, 0, 0, 0, 0, 0, 0, 0, ...</td>\n",
              "      <td>0</td>\n",
              "    </tr>\n",
              "    <tr>\n",
              "      <th>9138</th>\n",
              "      <td>147250</td>\n",
              "      <td>The Adventures of Sherlock Holmes and Doctor W...</td>\n",
              "      <td>(no genres listed)</td>\n",
              "      <td>[1, 0, 0, 0, 0, 0, 0, 0, 0, 0, 0, 0, 0, 0, 0, ...</td>\n",
              "      <td>0</td>\n",
              "    </tr>\n",
              "    <tr>\n",
              "      <th>9179</th>\n",
              "      <td>149334</td>\n",
              "      <td>Nocturnal Animals</td>\n",
              "      <td>Drama|Thriller</td>\n",
              "      <td>[0, 0, 0, 0, 0, 0, 0, 0, 1, 0, 0, 0, 0, 0, 0, ...</td>\n",
              "      <td>0</td>\n",
              "    </tr>\n",
              "  </tbody>\n",
              "</table>\n",
              "</div>"
            ],
            "text/plain": [
              "      movieId  ... launch_year\n",
              "6059    40697  ...           0\n",
              "9031   140956  ...           0\n",
              "9091   143410  ...           0\n",
              "9138   147250  ...           0\n",
              "9179   149334  ...           0\n",
              "\n",
              "[5 rows x 5 columns]"
            ]
          },
          "metadata": {
            "tags": []
          },
          "execution_count": 15
        }
      ]
    },
    {
      "cell_type": "code",
      "metadata": {
        "id": "GGS_YfuWWiXE"
      },
      "source": [
        "movies.loc[movies.launch_year != 0,\"movie_title\"] = movies.loc[movies.launch_year!= 0,\"title\"].apply(lambda x:x[:-6].strip()) \n",
        "movies.loc[movies.launch_year== 0,\"movie_title\"] = movies.loc[movies.launch_year== 0,\"title\"]"
      ],
      "execution_count": 16,
      "outputs": []
    },
    {
      "cell_type": "code",
      "metadata": {
        "colab": {
          "base_uri": "https://localhost:8080/",
          "height": 204
        },
        "id": "RysbKimUWlWe",
        "outputId": "05fbe57b-9d41-44e8-f5ef-4a36ff391719"
      },
      "source": [
        "movies.head()"
      ],
      "execution_count": 17,
      "outputs": [
        {
          "output_type": "execute_result",
          "data": {
            "text/html": [
              "<div>\n",
              "<style scoped>\n",
              "    .dataframe tbody tr th:only-of-type {\n",
              "        vertical-align: middle;\n",
              "    }\n",
              "\n",
              "    .dataframe tbody tr th {\n",
              "        vertical-align: top;\n",
              "    }\n",
              "\n",
              "    .dataframe thead th {\n",
              "        text-align: right;\n",
              "    }\n",
              "</style>\n",
              "<table border=\"1\" class=\"dataframe\">\n",
              "  <thead>\n",
              "    <tr style=\"text-align: right;\">\n",
              "      <th></th>\n",
              "      <th>movieId</th>\n",
              "      <th>title</th>\n",
              "      <th>genres</th>\n",
              "      <th>genres_vectors</th>\n",
              "      <th>launch_year</th>\n",
              "      <th>movie_title</th>\n",
              "    </tr>\n",
              "  </thead>\n",
              "  <tbody>\n",
              "    <tr>\n",
              "      <th>0</th>\n",
              "      <td>1</td>\n",
              "      <td>Toy Story (1995)</td>\n",
              "      <td>Adventure|Animation|Children|Comedy|Fantasy</td>\n",
              "      <td>[0, 0, 1, 1, 1, 1, 0, 0, 0, 1, 0, 0, 0, 0, 0, ...</td>\n",
              "      <td>1995</td>\n",
              "      <td>Toy Story</td>\n",
              "    </tr>\n",
              "    <tr>\n",
              "      <th>1</th>\n",
              "      <td>2</td>\n",
              "      <td>Jumanji (1995)</td>\n",
              "      <td>Adventure|Children|Fantasy</td>\n",
              "      <td>[0, 0, 1, 0, 1, 0, 0, 0, 0, 1, 0, 0, 0, 0, 0, ...</td>\n",
              "      <td>1995</td>\n",
              "      <td>Jumanji</td>\n",
              "    </tr>\n",
              "    <tr>\n",
              "      <th>2</th>\n",
              "      <td>3</td>\n",
              "      <td>Grumpier Old Men (1995)</td>\n",
              "      <td>Comedy|Romance</td>\n",
              "      <td>[0, 0, 0, 0, 0, 1, 0, 0, 0, 0, 0, 0, 0, 0, 0, ...</td>\n",
              "      <td>1995</td>\n",
              "      <td>Grumpier Old Men</td>\n",
              "    </tr>\n",
              "    <tr>\n",
              "      <th>3</th>\n",
              "      <td>4</td>\n",
              "      <td>Waiting to Exhale (1995)</td>\n",
              "      <td>Comedy|Drama|Romance</td>\n",
              "      <td>[0, 0, 0, 0, 0, 1, 0, 0, 1, 0, 0, 0, 0, 0, 0, ...</td>\n",
              "      <td>1995</td>\n",
              "      <td>Waiting to Exhale</td>\n",
              "    </tr>\n",
              "    <tr>\n",
              "      <th>4</th>\n",
              "      <td>5</td>\n",
              "      <td>Father of the Bride Part II (1995)</td>\n",
              "      <td>Comedy</td>\n",
              "      <td>[0, 0, 0, 0, 0, 1, 0, 0, 0, 0, 0, 0, 0, 0, 0, ...</td>\n",
              "      <td>1995</td>\n",
              "      <td>Father of the Bride Part II</td>\n",
              "    </tr>\n",
              "  </tbody>\n",
              "</table>\n",
              "</div>"
            ],
            "text/plain": [
              "   movieId  ...                  movie_title\n",
              "0        1  ...                    Toy Story\n",
              "1        2  ...                      Jumanji\n",
              "2        3  ...             Grumpier Old Men\n",
              "3        4  ...            Waiting to Exhale\n",
              "4        5  ...  Father of the Bride Part II\n",
              "\n",
              "[5 rows x 6 columns]"
            ]
          },
          "metadata": {
            "tags": []
          },
          "execution_count": 17
        }
      ]
    },
    {
      "cell_type": "code",
      "metadata": {
        "id": "f66PgkBoX_De"
      },
      "source": [
        "dict_id_2_year = { idx:year for idx, year in enumerate(np.sort(movies.launch_year.unique()))}\n",
        "dict_year_2_id = { year:key for key, year in dict_id_2_year.items()}"
      ],
      "execution_count": 18,
      "outputs": []
    },
    {
      "cell_type": "code",
      "metadata": {
        "id": "1AsUMCXsYZfE"
      },
      "source": [
        "launch_year_vectors = list()\n",
        "for idx,row in movies.iterrows():\n",
        "  launch_year= row[\"launch_year\"]\n",
        "  id = dict_year_2_id[launch_year]\n",
        "  launch_year_vector = np.zeros(len(dict_year_2_id),dtype=np.int8)\n",
        "  launch_year_vector[id] = 1\n",
        "  launch_year_vectors.append(launch_year_vector)"
      ],
      "execution_count": 19,
      "outputs": []
    },
    {
      "cell_type": "code",
      "metadata": {
        "id": "IT5oY4d2ZtIJ"
      },
      "source": [
        "movies.loc[:,\"launch_year_vectors\"]= pd.Series(launch_year_vectors)"
      ],
      "execution_count": 20,
      "outputs": []
    },
    {
      "cell_type": "code",
      "metadata": {
        "colab": {
          "base_uri": "https://localhost:8080/",
          "height": 204
        },
        "id": "d05kHAhYZ1li",
        "outputId": "a0611739-0c2f-4fc6-b452-2ad76241f48c"
      },
      "source": [
        "movies.head()"
      ],
      "execution_count": 21,
      "outputs": [
        {
          "output_type": "execute_result",
          "data": {
            "text/html": [
              "<div>\n",
              "<style scoped>\n",
              "    .dataframe tbody tr th:only-of-type {\n",
              "        vertical-align: middle;\n",
              "    }\n",
              "\n",
              "    .dataframe tbody tr th {\n",
              "        vertical-align: top;\n",
              "    }\n",
              "\n",
              "    .dataframe thead th {\n",
              "        text-align: right;\n",
              "    }\n",
              "</style>\n",
              "<table border=\"1\" class=\"dataframe\">\n",
              "  <thead>\n",
              "    <tr style=\"text-align: right;\">\n",
              "      <th></th>\n",
              "      <th>movieId</th>\n",
              "      <th>title</th>\n",
              "      <th>genres</th>\n",
              "      <th>genres_vectors</th>\n",
              "      <th>launch_year</th>\n",
              "      <th>movie_title</th>\n",
              "      <th>launch_year_vectors</th>\n",
              "    </tr>\n",
              "  </thead>\n",
              "  <tbody>\n",
              "    <tr>\n",
              "      <th>0</th>\n",
              "      <td>1</td>\n",
              "      <td>Toy Story (1995)</td>\n",
              "      <td>Adventure|Animation|Children|Comedy|Fantasy</td>\n",
              "      <td>[0, 0, 1, 1, 1, 1, 0, 0, 0, 1, 0, 0, 0, 0, 0, ...</td>\n",
              "      <td>1995</td>\n",
              "      <td>Toy Story</td>\n",
              "      <td>[0, 0, 0, 0, 0, 0, 0, 0, 0, 0, 0, 0, 0, 0, 0, ...</td>\n",
              "    </tr>\n",
              "    <tr>\n",
              "      <th>1</th>\n",
              "      <td>2</td>\n",
              "      <td>Jumanji (1995)</td>\n",
              "      <td>Adventure|Children|Fantasy</td>\n",
              "      <td>[0, 0, 1, 0, 1, 0, 0, 0, 0, 1, 0, 0, 0, 0, 0, ...</td>\n",
              "      <td>1995</td>\n",
              "      <td>Jumanji</td>\n",
              "      <td>[0, 0, 0, 0, 0, 0, 0, 0, 0, 0, 0, 0, 0, 0, 0, ...</td>\n",
              "    </tr>\n",
              "    <tr>\n",
              "      <th>2</th>\n",
              "      <td>3</td>\n",
              "      <td>Grumpier Old Men (1995)</td>\n",
              "      <td>Comedy|Romance</td>\n",
              "      <td>[0, 0, 0, 0, 0, 1, 0, 0, 0, 0, 0, 0, 0, 0, 0, ...</td>\n",
              "      <td>1995</td>\n",
              "      <td>Grumpier Old Men</td>\n",
              "      <td>[0, 0, 0, 0, 0, 0, 0, 0, 0, 0, 0, 0, 0, 0, 0, ...</td>\n",
              "    </tr>\n",
              "    <tr>\n",
              "      <th>3</th>\n",
              "      <td>4</td>\n",
              "      <td>Waiting to Exhale (1995)</td>\n",
              "      <td>Comedy|Drama|Romance</td>\n",
              "      <td>[0, 0, 0, 0, 0, 1, 0, 0, 1, 0, 0, 0, 0, 0, 0, ...</td>\n",
              "      <td>1995</td>\n",
              "      <td>Waiting to Exhale</td>\n",
              "      <td>[0, 0, 0, 0, 0, 0, 0, 0, 0, 0, 0, 0, 0, 0, 0, ...</td>\n",
              "    </tr>\n",
              "    <tr>\n",
              "      <th>4</th>\n",
              "      <td>5</td>\n",
              "      <td>Father of the Bride Part II (1995)</td>\n",
              "      <td>Comedy</td>\n",
              "      <td>[0, 0, 0, 0, 0, 1, 0, 0, 0, 0, 0, 0, 0, 0, 0, ...</td>\n",
              "      <td>1995</td>\n",
              "      <td>Father of the Bride Part II</td>\n",
              "      <td>[0, 0, 0, 0, 0, 0, 0, 0, 0, 0, 0, 0, 0, 0, 0, ...</td>\n",
              "    </tr>\n",
              "  </tbody>\n",
              "</table>\n",
              "</div>"
            ],
            "text/plain": [
              "   movieId  ...                                launch_year_vectors\n",
              "0        1  ...  [0, 0, 0, 0, 0, 0, 0, 0, 0, 0, 0, 0, 0, 0, 0, ...\n",
              "1        2  ...  [0, 0, 0, 0, 0, 0, 0, 0, 0, 0, 0, 0, 0, 0, 0, ...\n",
              "2        3  ...  [0, 0, 0, 0, 0, 0, 0, 0, 0, 0, 0, 0, 0, 0, 0, ...\n",
              "3        4  ...  [0, 0, 0, 0, 0, 0, 0, 0, 0, 0, 0, 0, 0, 0, 0, ...\n",
              "4        5  ...  [0, 0, 0, 0, 0, 0, 0, 0, 0, 0, 0, 0, 0, 0, 0, ...\n",
              "\n",
              "[5 rows x 7 columns]"
            ]
          },
          "metadata": {
            "tags": []
          },
          "execution_count": 21
        }
      ]
    },
    {
      "cell_type": "code",
      "metadata": {
        "colab": {
          "base_uri": "https://localhost:8080/"
        },
        "id": "_vtDcbd4XGk9",
        "outputId": "2168eee9-14ef-4785-80fd-529e69163db3"
      },
      "source": [
        "!pip install sentencepiece"
      ],
      "execution_count": 22,
      "outputs": [
        {
          "output_type": "stream",
          "text": [
            "Collecting sentencepiece\n",
            "\u001b[?25l  Downloading https://files.pythonhosted.org/packages/e5/2d/6d4ca4bef9a67070fa1cac508606328329152b1df10bdf31fb6e4e727894/sentencepiece-0.1.94-cp36-cp36m-manylinux2014_x86_64.whl (1.1MB)\n",
            "\u001b[K     |████████████████████████████████| 1.1MB 5.2MB/s \n",
            "\u001b[?25hInstalling collected packages: sentencepiece\n",
            "Successfully installed sentencepiece-0.1.94\n"
          ],
          "name": "stdout"
        }
      ]
    },
    {
      "cell_type": "markdown",
      "metadata": {
        "id": "0qxv2-lXX4e2"
      },
      "source": [
        "#### 1.1.3. Title Vectorization\n",
        "\n",
        "각 영화마다 가지고 있는 Title값을 token화하고 w2v모델로 임의의 크기의 벡터로 변환"
      ]
    },
    {
      "cell_type": "code",
      "metadata": {
        "colab": {
          "base_uri": "https://localhost:8080/",
          "height": 234,
          "referenced_widgets": [
            "aae3d640cd244637aae0af6510f1b606",
            "8f661a050a854bb887a3be4aee8887ef",
            "f420c3c7798749c0a3aed07af578f7bc",
            "0f6b47f6f7fb4c7a8852f561aa74e5e7",
            "82b2977f1c344100a8c2184c6640aa9d",
            "24bfb3a880ca41b48c4efaa02feb7230",
            "f05716d39002499ab704cd755f4c3363",
            "4debe22f4a63407e9104538e80a359d4",
            "25561cf34b3d4fc588767d30f59b74d3",
            "8e85ad3f8e70464984fe998a21d48688",
            "ca745f8341be4a31a7ec82b0db0e1c43",
            "63a27224bc0b4af0ba6c86b0f9623311",
            "f6f05e9e9e9a429ebff7550df7815c7e",
            "f12d46bc332042fc977bdf4149203490",
            "b3f106edbdc94b96be52b2a990c8ed30",
            "4bb3438f1ffb424b8b896f547e1913df"
          ]
        },
        "id": "YAZ0K8P9Uewb",
        "outputId": "fddc1583-5991-44c8-dc07-2532b8b6f218"
      },
      "source": [
        "from tqdm import tqdm_notebook\n",
        "from gensim.models import Word2Vec as w2v\n",
        "import sentencepiece as spm\n",
        "\n",
        "### 특수문자 제외 및 단어별 배열로 변경\n",
        "# list_title_frac= movies.movie_title.apply(lambda x:re.findall(regex,x)).to_list()\n",
        "\n",
        "vocab_size = 24000\n",
        "method = \"bpe\"\n",
        "\n",
        "input_file_path = os.path.join(data_path,\"title_tokenizer_input_{}_{}.txt\".format(method,vocab_size))\n",
        "tokenizer_name = os.path.join(data_path,\"title_tokenizer_{}_{}\".format(method, vocab_size))\n",
        "tokenizer_name_model = os.path.join(data_path,\"title_tokenizer_{}_{}.model\".format(method, vocab_size))\n",
        "\n",
        "### make_input4tokenizer\n",
        "# sentences = list(map(lambda x:\" \".join(x),list_title_frac))\n",
        "sentences = movies.movie_title.to_list()\n",
        "\n",
        "\n",
        "with open(input_file_path,'w',encoding='utf8') as f:\n",
        "  for sentence in tqdm_notebook(sentences):\n",
        "    f.write(sentence+'\\n')\n",
        "\n",
        "### train_tokenizer\n",
        "templates = ' --input={} \\\n",
        "    --pad_id=0 \\\n",
        "    --bos_id=1 \\\n",
        "    --eos_id=2 \\\n",
        "    --unk_id=3 \\\n",
        "    --model_prefix={} \\\n",
        "    --vocab_size={} \\\n",
        "    --character_coverage=1.0 \\\n",
        "    --model_type={}'\n",
        "\n",
        "cmd = templates.format(input_file_path, tokenizer_name, vocab_size, method)\n",
        "spm.SentencePieceTrainer.Train(cmd)\n",
        "print(\"title_tokenizer {} is generated\".format(tokenizer_name))\n",
        "sp = spm.SentencePieceProcessor()\n",
        "sp.Load(tokenizer_name_model)\n",
        "\n",
        "\n",
        "def get_tokens_from_sentences(sp, sentences):\n",
        "    tokenized_sentences = []\n",
        "    for sentence in sentences:\n",
        "        tokens = sp.EncodeAsPieces(sentence)\n",
        "        new_tokens = []\n",
        "        for token in tokens:\n",
        "            token = token.replace(\"▁\", \"\")\n",
        "            # if len(token) > 1:\n",
        "            new_tokens.append(token)\n",
        "        # if len(new_tokens) > 1:\n",
        "        tokenized_sentences.append(new_tokens)\n",
        "\n",
        "    return tokenized_sentences\n",
        "\n",
        "\n",
        "def get_tokens_from_sentence(sp, sentence):\n",
        "    new_tokens = []\n",
        "    tokens = sp.EncodeAsPieces(sentence)\n",
        "    for token in tokens:\n",
        "        token = token.replace(\"▁\", \"\")\n",
        "        if len(token) > 1:\n",
        "            new_tokens.append(token)\n",
        "    return new_tokens\n",
        "\n",
        "tokenized_sentences = get_tokens_from_sentences(sp,sentences)\n",
        "\n",
        "### train w2v\n",
        "w2v_name = os.path.join(data_path,\"title_w2v_{}_{}.model\".format(method,vocab_size))\n",
        "print(\"start train_title_w2v....\")\n",
        "\n",
        "size = 200\n",
        "window =5\n",
        "min_count = 2\n",
        "workers = 8\n",
        "sg = 1\n",
        "hs = 1\n",
        "\n",
        "model = w2v(tokenized_sentences,size=size,window=window,min_count=min_count,workers=workers,sg=sg,hs=hs)\n",
        "model.save(w2v_name)\n",
        "print(\"title_w2v {} is generated\".format(w2v_name))\n",
        "\n",
        "# ### get embedding\n",
        "\n",
        "sp = spm.SentencePieceProcessor()\n",
        "sp.Load(tokenizer_name_model)\n",
        "\n",
        "w2v_model = w2v.load(w2v_name)\n",
        "\n",
        "sentence_embs = []\n",
        "# # 학습이 안되는 벡터들에 대해서는 0값이 나으므로 0벡터로 input 처리 수행\n",
        "for sentence in tqdm_notebook(tokenized_sentences):\n",
        "  word_embs = []\n",
        "  for p_word in sentence:\n",
        "    try:\n",
        "      word_embs.append(w2v_model.wv[p_word])\n",
        "    except KeyError:\n",
        "      pass\n",
        "  if len(word_embs):\n",
        "    p_emb = np.average(word_embs, axis=0).tolist()\n",
        "  else:\n",
        "    p_emb = np.zeros(200).tolist()\n",
        "  sentence_embs.append(p_emb)"
      ],
      "execution_count": 23,
      "outputs": [
        {
          "output_type": "stream",
          "text": [
            "/usr/local/lib/python3.6/dist-packages/ipykernel_launcher.py:21: TqdmDeprecationWarning: This function will be removed in tqdm==5.0.0\n",
            "Please use `tqdm.notebook.tqdm` instead of `tqdm.tqdm_notebook`\n"
          ],
          "name": "stderr"
        },
        {
          "output_type": "display_data",
          "data": {
            "application/vnd.jupyter.widget-view+json": {
              "model_id": "aae3d640cd244637aae0af6510f1b606",
              "version_minor": 0,
              "version_major": 2
            },
            "text/plain": [
              "HBox(children=(FloatProgress(value=0.0, max=9742.0), HTML(value='')))"
            ]
          },
          "metadata": {
            "tags": []
          }
        },
        {
          "output_type": "stream",
          "text": [
            "\n",
            "title_tokenizer /gdrive/MyDrive/colab/Factorization_Machine/data/title_tokenizer_bpe_24000 is generated\n",
            "start train_title_w2v....\n",
            "title_w2v /gdrive/MyDrive/colab/Factorization_Machine/data/title_w2v_bpe_24000.model is generated\n"
          ],
          "name": "stdout"
        },
        {
          "output_type": "stream",
          "text": [
            "/usr/local/lib/python3.6/dist-packages/ipykernel_launcher.py:84: TqdmDeprecationWarning: This function will be removed in tqdm==5.0.0\n",
            "Please use `tqdm.notebook.tqdm` instead of `tqdm.tqdm_notebook`\n"
          ],
          "name": "stderr"
        },
        {
          "output_type": "display_data",
          "data": {
            "application/vnd.jupyter.widget-view+json": {
              "model_id": "25561cf34b3d4fc588767d30f59b74d3",
              "version_minor": 0,
              "version_major": 2
            },
            "text/plain": [
              "HBox(children=(FloatProgress(value=0.0, max=9742.0), HTML(value='')))"
            ]
          },
          "metadata": {
            "tags": []
          }
        },
        {
          "output_type": "stream",
          "text": [
            "\n"
          ],
          "name": "stdout"
        }
      ]
    },
    {
      "cell_type": "code",
      "metadata": {
        "colab": {
          "base_uri": "https://localhost:8080/",
          "height": 204
        },
        "id": "yWxSkYaXU4zn",
        "outputId": "bdadd5aa-17bd-474a-d099-6ab807816484"
      },
      "source": [
        "movies.loc[:,\"title_vector\"] = pd.Series(sentence_embs)\n",
        "movies.head()"
      ],
      "execution_count": 24,
      "outputs": [
        {
          "output_type": "execute_result",
          "data": {
            "text/html": [
              "<div>\n",
              "<style scoped>\n",
              "    .dataframe tbody tr th:only-of-type {\n",
              "        vertical-align: middle;\n",
              "    }\n",
              "\n",
              "    .dataframe tbody tr th {\n",
              "        vertical-align: top;\n",
              "    }\n",
              "\n",
              "    .dataframe thead th {\n",
              "        text-align: right;\n",
              "    }\n",
              "</style>\n",
              "<table border=\"1\" class=\"dataframe\">\n",
              "  <thead>\n",
              "    <tr style=\"text-align: right;\">\n",
              "      <th></th>\n",
              "      <th>movieId</th>\n",
              "      <th>title</th>\n",
              "      <th>genres</th>\n",
              "      <th>genres_vectors</th>\n",
              "      <th>launch_year</th>\n",
              "      <th>movie_title</th>\n",
              "      <th>launch_year_vectors</th>\n",
              "      <th>title_vector</th>\n",
              "    </tr>\n",
              "  </thead>\n",
              "  <tbody>\n",
              "    <tr>\n",
              "      <th>0</th>\n",
              "      <td>1</td>\n",
              "      <td>Toy Story (1995)</td>\n",
              "      <td>Adventure|Animation|Children|Comedy|Fantasy</td>\n",
              "      <td>[0, 0, 1, 1, 1, 1, 0, 0, 0, 1, 0, 0, 0, 0, 0, ...</td>\n",
              "      <td>1995</td>\n",
              "      <td>Toy Story</td>\n",
              "      <td>[0, 0, 0, 0, 0, 0, 0, 0, 0, 0, 0, 0, 0, 0, 0, ...</td>\n",
              "      <td>[0.07315196096897125, 0.03338630869984627, -0....</td>\n",
              "    </tr>\n",
              "    <tr>\n",
              "      <th>1</th>\n",
              "      <td>2</td>\n",
              "      <td>Jumanji (1995)</td>\n",
              "      <td>Adventure|Children|Fantasy</td>\n",
              "      <td>[0, 0, 1, 0, 1, 0, 0, 0, 0, 1, 0, 0, 0, 0, 0, ...</td>\n",
              "      <td>1995</td>\n",
              "      <td>Jumanji</td>\n",
              "      <td>[0, 0, 0, 0, 0, 0, 0, 0, 0, 0, 0, 0, 0, 0, 0, ...</td>\n",
              "      <td>[0.012492736801505089, -0.0013318296987563372,...</td>\n",
              "    </tr>\n",
              "    <tr>\n",
              "      <th>2</th>\n",
              "      <td>3</td>\n",
              "      <td>Grumpier Old Men (1995)</td>\n",
              "      <td>Comedy|Romance</td>\n",
              "      <td>[0, 0, 0, 0, 0, 1, 0, 0, 0, 0, 0, 0, 0, 0, 0, ...</td>\n",
              "      <td>1995</td>\n",
              "      <td>Grumpier Old Men</td>\n",
              "      <td>[0, 0, 0, 0, 0, 0, 0, 0, 0, 0, 0, 0, 0, 0, 0, ...</td>\n",
              "      <td>[0.1090451180934906, 0.04261535033583641, -0.0...</td>\n",
              "    </tr>\n",
              "    <tr>\n",
              "      <th>3</th>\n",
              "      <td>4</td>\n",
              "      <td>Waiting to Exhale (1995)</td>\n",
              "      <td>Comedy|Drama|Romance</td>\n",
              "      <td>[0, 0, 0, 0, 0, 1, 0, 0, 1, 0, 0, 0, 0, 0, 0, ...</td>\n",
              "      <td>1995</td>\n",
              "      <td>Waiting to Exhale</td>\n",
              "      <td>[0, 0, 0, 0, 0, 0, 0, 0, 0, 0, 0, 0, 0, 0, 0, ...</td>\n",
              "      <td>[0.09161976724863052, 0.05943426117300987, -0....</td>\n",
              "    </tr>\n",
              "    <tr>\n",
              "      <th>4</th>\n",
              "      <td>5</td>\n",
              "      <td>Father of the Bride Part II (1995)</td>\n",
              "      <td>Comedy</td>\n",
              "      <td>[0, 0, 0, 0, 0, 1, 0, 0, 0, 0, 0, 0, 0, 0, 0, ...</td>\n",
              "      <td>1995</td>\n",
              "      <td>Father of the Bride Part II</td>\n",
              "      <td>[0, 0, 0, 0, 0, 0, 0, 0, 0, 0, 0, 0, 0, 0, 0, ...</td>\n",
              "      <td>[0.1521586775779724, 0.08280359953641891, -0.0...</td>\n",
              "    </tr>\n",
              "  </tbody>\n",
              "</table>\n",
              "</div>"
            ],
            "text/plain": [
              "   movieId  ...                                       title_vector\n",
              "0        1  ...  [0.07315196096897125, 0.03338630869984627, -0....\n",
              "1        2  ...  [0.012492736801505089, -0.0013318296987563372,...\n",
              "2        3  ...  [0.1090451180934906, 0.04261535033583641, -0.0...\n",
              "3        4  ...  [0.09161976724863052, 0.05943426117300987, -0....\n",
              "4        5  ...  [0.1521586775779724, 0.08280359953641891, -0.0...\n",
              "\n",
              "[5 rows x 8 columns]"
            ]
          },
          "metadata": {
            "tags": []
          },
          "execution_count": 24
        }
      ]
    },
    {
      "cell_type": "code",
      "metadata": {
        "colab": {
          "base_uri": "https://localhost:8080/",
          "height": 204
        },
        "id": "ZGxIs5EXXL5U",
        "outputId": "2ff4f71f-319c-4d88-fae9-2012db2e4207"
      },
      "source": [
        "ratings.head()"
      ],
      "execution_count": 25,
      "outputs": [
        {
          "output_type": "execute_result",
          "data": {
            "text/html": [
              "<div>\n",
              "<style scoped>\n",
              "    .dataframe tbody tr th:only-of-type {\n",
              "        vertical-align: middle;\n",
              "    }\n",
              "\n",
              "    .dataframe tbody tr th {\n",
              "        vertical-align: top;\n",
              "    }\n",
              "\n",
              "    .dataframe thead th {\n",
              "        text-align: right;\n",
              "    }\n",
              "</style>\n",
              "<table border=\"1\" class=\"dataframe\">\n",
              "  <thead>\n",
              "    <tr style=\"text-align: right;\">\n",
              "      <th></th>\n",
              "      <th>userId</th>\n",
              "      <th>movieId</th>\n",
              "      <th>rating</th>\n",
              "      <th>timestamp</th>\n",
              "    </tr>\n",
              "  </thead>\n",
              "  <tbody>\n",
              "    <tr>\n",
              "      <th>0</th>\n",
              "      <td>1</td>\n",
              "      <td>1</td>\n",
              "      <td>4.0</td>\n",
              "      <td>964982703</td>\n",
              "    </tr>\n",
              "    <tr>\n",
              "      <th>1</th>\n",
              "      <td>1</td>\n",
              "      <td>3</td>\n",
              "      <td>4.0</td>\n",
              "      <td>964981247</td>\n",
              "    </tr>\n",
              "    <tr>\n",
              "      <th>2</th>\n",
              "      <td>1</td>\n",
              "      <td>6</td>\n",
              "      <td>4.0</td>\n",
              "      <td>964982224</td>\n",
              "    </tr>\n",
              "    <tr>\n",
              "      <th>3</th>\n",
              "      <td>1</td>\n",
              "      <td>47</td>\n",
              "      <td>5.0</td>\n",
              "      <td>964983815</td>\n",
              "    </tr>\n",
              "    <tr>\n",
              "      <th>4</th>\n",
              "      <td>1</td>\n",
              "      <td>50</td>\n",
              "      <td>5.0</td>\n",
              "      <td>964982931</td>\n",
              "    </tr>\n",
              "  </tbody>\n",
              "</table>\n",
              "</div>"
            ],
            "text/plain": [
              "   userId  movieId  rating  timestamp\n",
              "0       1        1     4.0  964982703\n",
              "1       1        3     4.0  964981247\n",
              "2       1        6     4.0  964982224\n",
              "3       1       47     5.0  964983815\n",
              "4       1       50     5.0  964982931"
            ]
          },
          "metadata": {
            "tags": []
          },
          "execution_count": 25
        }
      ]
    },
    {
      "cell_type": "markdown",
      "metadata": {
        "id": "MCfhg6LzaIYD"
      },
      "source": [
        "### 1.2. DataPreparation for lighFM"
      ]
    },
    {
      "cell_type": "code",
      "metadata": {
        "id": "B-ygDjFaaHDt"
      },
      "source": [
        "org_ratings = ratings.copy()\n",
        "org_movies = movies.copy()"
      ],
      "execution_count": 26,
      "outputs": []
    },
    {
      "cell_type": "code",
      "metadata": {
        "id": "hAEMOH5EaXOP"
      },
      "source": [
        "ratings.loc[:,\"movieId\"] = (ratings.movieId - 1)\n",
        "ratings.loc[:,\"userId\"] = (ratings.userId - 1)\n",
        "\n",
        "movies.loc[:,\"movieId\"] = (movies.movieId - 1)"
      ],
      "execution_count": 27,
      "outputs": []
    },
    {
      "cell_type": "markdown",
      "metadata": {
        "id": "gvR5nsa5fOqn"
      },
      "source": [
        "#### 1.2.1. Define user/item features"
      ]
    },
    {
      "cell_type": "code",
      "metadata": {
        "id": "aPy29pYPasWM"
      },
      "source": [
        "len_gnr_vec = len(movies.iloc[0][\"genres_vectors\"])\n",
        "len_year_vec = len(movies.iloc[0][\"launch_year_vectors\"])\n",
        "# len_title_vec = len(movies.iloc[0][\"title_vector\"])"
      ],
      "execution_count": 28,
      "outputs": []
    },
    {
      "cell_type": "code",
      "metadata": {
        "id": "5Mp7VeXrbuNV"
      },
      "source": [
        "gnr_vec_cols = [ \"gv_{}\".format(i) for i in range(len_gnr_vec)]\n",
        "year_vec_cols = [ \"yv_{}\".format(i) for i in range(len_year_vec)]\n",
        "# title_vec_cols = [ \"tv_{}\".format(i) for i in range(len_title_vec)]"
      ],
      "execution_count": 43,
      "outputs": []
    },
    {
      "cell_type": "code",
      "metadata": {
        "id": "WUE9TlF0gytG"
      },
      "source": [
        "list_if = [ gnr_vec+\":\"+\"{}\".format(i) for gnr_vec in gnr_vec_cols for i in range(2)] + [ year_vec+\":\"+\"{}\".format(i) for year_vec in year_vec_cols for i in range(2)]"
      ],
      "execution_count": 44,
      "outputs": []
    },
    {
      "cell_type": "code",
      "metadata": {
        "id": "PGTFGm5pbePz"
      },
      "source": [
        "gnr_vec_list = list(map(lambda x: [ \"{}\".format(gnr_vec_cols[idx])+\":\"+\"{}\".format(value) for idx,value in enumerate(x)] ,movies.genres_vectors.to_list()))\n",
        "year_vec_list = list(map(lambda x: [ \"{}\".format(year_vec_cols[idx])+\":\"+\"{}\".format(value) for idx,value in enumerate(x)] ,movies.launch_year_vectors.to_list()))\n",
        "# title_vec_list = list(map(lambda x: [ \"{}\".format(title_vec_cols[idx])+\":\"+\"{}\".format(value) for idx,value in enumerate(x)] ,movies.title_vector.to_list()))"
      ],
      "execution_count": 45,
      "outputs": []
    },
    {
      "cell_type": "code",
      "metadata": {
        "id": "6BwhiDCWbl45"
      },
      "source": [
        "# item_vec_list = np.concatenate([np.array(gnr_vec_list), np.array(year_vec_list), np.array(title_vec_list)],axis=1)\n",
        "item_vec_list = np.concatenate([np.array(gnr_vec_list), np.array(year_vec_list)],axis=1)"
      ],
      "execution_count": 46,
      "outputs": []
    },
    {
      "cell_type": "code",
      "metadata": {
        "id": "oBGA7ILwdQT5"
      },
      "source": [
        "item_tuple= list(zip(movies.movieId, item_vec_list))"
      ],
      "execution_count": 47,
      "outputs": []
    },
    {
      "cell_type": "markdown",
      "metadata": {
        "id": "NEUrA-gsfqk7"
      },
      "source": [
        "#### 1.2.2. Define dataset"
      ]
    },
    {
      "cell_type": "code",
      "metadata": {
        "id": "ptiPAebGfqKq"
      },
      "source": [
        "from lightfm.data import Dataset\n",
        "\n",
        "dataset = Dataset()\n",
        "\n",
        "user_ids = [i for i in range(ratings.userId.max()+1)]\n",
        "movie_ids = [i for i in range(movies.movieId.max()+1)]\n",
        "\n",
        "dataset.fit(\n",
        "    user_ids,\n",
        "    movie_ids,\n",
        "    item_features = list_if\n",
        ")"
      ],
      "execution_count": 48,
      "outputs": []
    },
    {
      "cell_type": "markdown",
      "metadata": {
        "id": "w5dkhPxzmEER"
      },
      "source": [
        "#### 1.2.3. Define interaction"
      ]
    },
    {
      "cell_type": "code",
      "metadata": {
        "colab": {
          "base_uri": "https://localhost:8080/",
          "height": 204
        },
        "id": "e5GrwATwlVOr",
        "outputId": "d103f16d-ed7e-4617-ac98-6d4130748fb5"
      },
      "source": [
        "ratings.loc[:,\"user_movie_rating\"] = pd.Series(list(zip(ratings.userId, ratings.movieId, ratings.rating)))\n",
        "ratings.head()"
      ],
      "execution_count": 49,
      "outputs": [
        {
          "output_type": "execute_result",
          "data": {
            "text/html": [
              "<div>\n",
              "<style scoped>\n",
              "    .dataframe tbody tr th:only-of-type {\n",
              "        vertical-align: middle;\n",
              "    }\n",
              "\n",
              "    .dataframe tbody tr th {\n",
              "        vertical-align: top;\n",
              "    }\n",
              "\n",
              "    .dataframe thead th {\n",
              "        text-align: right;\n",
              "    }\n",
              "</style>\n",
              "<table border=\"1\" class=\"dataframe\">\n",
              "  <thead>\n",
              "    <tr style=\"text-align: right;\">\n",
              "      <th></th>\n",
              "      <th>userId</th>\n",
              "      <th>movieId</th>\n",
              "      <th>rating</th>\n",
              "      <th>timestamp</th>\n",
              "      <th>user_movie_rating</th>\n",
              "    </tr>\n",
              "  </thead>\n",
              "  <tbody>\n",
              "    <tr>\n",
              "      <th>0</th>\n",
              "      <td>0</td>\n",
              "      <td>0</td>\n",
              "      <td>4.0</td>\n",
              "      <td>964982703</td>\n",
              "      <td>(0, 0, 4.0)</td>\n",
              "    </tr>\n",
              "    <tr>\n",
              "      <th>1</th>\n",
              "      <td>0</td>\n",
              "      <td>2</td>\n",
              "      <td>4.0</td>\n",
              "      <td>964981247</td>\n",
              "      <td>(0, 2, 4.0)</td>\n",
              "    </tr>\n",
              "    <tr>\n",
              "      <th>2</th>\n",
              "      <td>0</td>\n",
              "      <td>5</td>\n",
              "      <td>4.0</td>\n",
              "      <td>964982224</td>\n",
              "      <td>(0, 5, 4.0)</td>\n",
              "    </tr>\n",
              "    <tr>\n",
              "      <th>3</th>\n",
              "      <td>0</td>\n",
              "      <td>46</td>\n",
              "      <td>5.0</td>\n",
              "      <td>964983815</td>\n",
              "      <td>(0, 46, 5.0)</td>\n",
              "    </tr>\n",
              "    <tr>\n",
              "      <th>4</th>\n",
              "      <td>0</td>\n",
              "      <td>49</td>\n",
              "      <td>5.0</td>\n",
              "      <td>964982931</td>\n",
              "      <td>(0, 49, 5.0)</td>\n",
              "    </tr>\n",
              "  </tbody>\n",
              "</table>\n",
              "</div>"
            ],
            "text/plain": [
              "   userId  movieId  rating  timestamp user_movie_rating\n",
              "0       0        0     4.0  964982703       (0, 0, 4.0)\n",
              "1       0        2     4.0  964981247       (0, 2, 4.0)\n",
              "2       0        5     4.0  964982224       (0, 5, 4.0)\n",
              "3       0       46     5.0  964983815      (0, 46, 5.0)\n",
              "4       0       49     5.0  964982931      (0, 49, 5.0)"
            ]
          },
          "metadata": {
            "tags": []
          },
          "execution_count": 49
        }
      ]
    },
    {
      "cell_type": "code",
      "metadata": {
        "id": "P4nj7oKLmB4R"
      },
      "source": [
        "interactions, weights = dataset.build_interactions(ratings[\"user_movie_rating\"])"
      ],
      "execution_count": 35,
      "outputs": []
    },
    {
      "cell_type": "code",
      "metadata": {
        "colab": {
          "base_uri": "https://localhost:8080/"
        },
        "id": "Uv-wnZHGmxRP",
        "outputId": "0ecb2c40-2ed8-4397-b48b-58774533eed5"
      },
      "source": [
        "interactions"
      ],
      "execution_count": 36,
      "outputs": [
        {
          "output_type": "execute_result",
          "data": {
            "text/plain": [
              "<610x193609 sparse matrix of type '<class 'numpy.int32'>'\n",
              "\twith 100836 stored elements in COOrdinate format>"
            ]
          },
          "metadata": {
            "tags": []
          },
          "execution_count": 36
        }
      ]
    },
    {
      "cell_type": "code",
      "metadata": {
        "colab": {
          "base_uri": "https://localhost:8080/"
        },
        "id": "wEth8JUCm-DU",
        "outputId": "284d61f5-aa48-43ad-fe5a-ef3a226b873d"
      },
      "source": [
        "weights"
      ],
      "execution_count": 37,
      "outputs": [
        {
          "output_type": "execute_result",
          "data": {
            "text/plain": [
              "<610x193609 sparse matrix of type '<class 'numpy.float32'>'\n",
              "\twith 100836 stored elements in COOrdinate format>"
            ]
          },
          "metadata": {
            "tags": []
          },
          "execution_count": 37
        }
      ]
    },
    {
      "cell_type": "code",
      "metadata": {
        "colab": {
          "base_uri": "https://localhost:8080/"
        },
        "id": "Ks1fjKS6m_t9",
        "outputId": "1061d615-2239-413e-92be-8332f6b8a778"
      },
      "source": [
        "item_tuple[0]"
      ],
      "execution_count": 38,
      "outputs": [
        {
          "output_type": "execute_result",
          "data": {
            "text/plain": [
              "(0, array(['gv_0:0', 'gv_1:0', 'gv_2:1', 'gv_3:1', 'gv_4:1', 'gv_5:1',\n",
              "        'gv_6:0', 'gv_7:0', 'gv_8:0', 'gv_9:1', 'gv_10:0', 'gv_11:0',\n",
              "        'gv_12:0', 'gv_13:0', 'gv_14:0', 'gv_15:0', 'gv_16:0', 'gv_17:0',\n",
              "        'gv_18:0', 'gv_19:0', 'yv_0:0', 'yv_1:0', 'yv_2:0', 'yv_3:0',\n",
              "        'yv_4:0', 'yv_5:0', 'yv_6:0', 'yv_7:0', 'yv_8:0', 'yv_9:0',\n",
              "        'yv_10:0', 'yv_11:0', 'yv_12:0', 'yv_13:0', 'yv_14:0', 'yv_15:0',\n",
              "        'yv_16:0', 'yv_17:0', 'yv_18:0', 'yv_19:0', 'yv_20:0', 'yv_21:0',\n",
              "        'yv_22:0', 'yv_23:0', 'yv_24:0', 'yv_25:0', 'yv_26:0', 'yv_27:0',\n",
              "        'yv_28:0', 'yv_29:0', 'yv_30:0', 'yv_31:0', 'yv_32:0', 'yv_33:0',\n",
              "        'yv_34:0', 'yv_35:0', 'yv_36:0', 'yv_37:0', 'yv_38:0', 'yv_39:0',\n",
              "        'yv_40:0', 'yv_41:0', 'yv_42:0', 'yv_43:0', 'yv_44:0', 'yv_45:0',\n",
              "        'yv_46:0', 'yv_47:0', 'yv_48:0', 'yv_49:0', 'yv_50:0', 'yv_51:0',\n",
              "        'yv_52:0', 'yv_53:0', 'yv_54:0', 'yv_55:0', 'yv_56:0', 'yv_57:0',\n",
              "        'yv_58:0', 'yv_59:0', 'yv_60:0', 'yv_61:0', 'yv_62:0', 'yv_63:0',\n",
              "        'yv_64:0', 'yv_65:0', 'yv_66:0', 'yv_67:0', 'yv_68:0', 'yv_69:0',\n",
              "        'yv_70:0', 'yv_71:0', 'yv_72:0', 'yv_73:0', 'yv_74:0', 'yv_75:0',\n",
              "        'yv_76:0', 'yv_77:0', 'yv_78:0', 'yv_79:0', 'yv_80:0', 'yv_81:0',\n",
              "        'yv_82:0', 'yv_83:1', 'yv_84:0', 'yv_85:0', 'yv_86:0', 'yv_87:0',\n",
              "        'yv_88:0', 'yv_89:0', 'yv_90:0', 'yv_91:0', 'yv_92:0', 'yv_93:0',\n",
              "        'yv_94:0', 'yv_95:0', 'yv_96:0', 'yv_97:0', 'yv_98:0', 'yv_99:0',\n",
              "        'yv_100:0', 'yv_101:0', 'yv_102:0', 'yv_103:0', 'yv_104:0',\n",
              "        'yv_105:0', 'yv_106:0'], dtype='<U8'))"
            ]
          },
          "metadata": {
            "tags": []
          },
          "execution_count": 38
        }
      ]
    },
    {
      "cell_type": "code",
      "metadata": {
        "id": "7Z-mHxa7nIQV"
      },
      "source": [
        "item_features = dataset.build_item_features(item_tuple, normalize=False)"
      ],
      "execution_count": 39,
      "outputs": []
    },
    {
      "cell_type": "markdown",
      "metadata": {
        "id": "REdxigwPjHIT"
      },
      "source": [
        "### 1.3. Train LightFM"
      ]
    },
    {
      "cell_type": "code",
      "metadata": {
        "id": "tGwO-CL2osEY"
      },
      "source": [
        "from lightfm import cross_validation\n",
        "from lightfm import LightFM\n",
        "\n",
        "class TrainLightFM:\n",
        "  def __init__(self):\n",
        "    pass\n",
        "\n",
        "  def train_test_split(self, interactions, weights, random_state=101):\n",
        "    train_interactions, test_interactions = cross_validation.random_train_test_split(interactions, random_state=np.random.RandomState(101))\n",
        "    train_weights, test_weights = cross_validation.random_train_test_split(weights, random_state=np.random.RandomState(101))\n",
        "    \n",
        "    return train_interactions, test_interactions, train_weights, test_weights\n",
        "\n",
        "  def fit(self, interactions, weights, user_features, item_features, cross_validation=False, no_components=150, learning_rate=0.05, loss=\"warp\", random_state=101, verbose=True, num_threads=4, epochs=5):\n",
        "    model = LightFM(no_components, learning_rate, loss=loss, random_state=random_state)\n",
        "\n",
        "    if cross_validation:\n",
        "      train_interactions, test_interactions, train_weights, test_weights = self.train_test_split(interactions, weights, random_state)\n",
        "      model.fit(train_interactions, user_features=user_features, item_features=item_features, sample_weight=train_weights,epochs=epochs, num_threads=num_threads, verbose=verbose)\n",
        "\n",
        "      return model, train_interactions, test_interactions, train_weights, test_weights\n",
        "\n",
        "    else:\n",
        "      model.fit(interactions, item_features=item_features, user_features=user_features, sample_weight=weights, epochs=epochs, num_threads=num_threads, verbose=verbose)\n",
        "\n",
        "      return model\n"
      ],
      "execution_count": 63,
      "outputs": []
    },
    {
      "cell_type": "code",
      "metadata": {
        "colab": {
          "base_uri": "https://localhost:8080/"
        },
        "id": "kcVgO4iNnj4r",
        "outputId": "6f2bd5b4-bdca-47ee-c4a4-31f6532e3ae7"
      },
      "source": [
        "lightFM_trainer = TrainLightFM()\n",
        "\n",
        "# non_val_model = lightFM_trainer.fit(interactions, weights, user_features=None, item_features=item_features, cross_validation=False, no_components=150, learning_rate=0.05, loss=\"warp\", random_state=101, verbose=True, num_threads=4, epochs=5)\n",
        "val_model, train_interactions, test_interactions, train_weights, test_weights = lightFM_trainer.fit(interactions, weights, user_features=None, item_features=item_features, cross_validation=True, no_components=150, learning_rate=0.05, loss=\"warp\", random_state=101, verbose=True, num_threads=4, epochs=100)"
      ],
      "execution_count": null,
      "outputs": [
        {
          "output_type": "stream",
          "text": [
            "Epoch: 100%|██████████| 100/100 [02:30<00:00,  1.50s/it]\n"
          ],
          "name": "stderr"
        }
      ]
    },
    {
      "cell_type": "markdown",
      "metadata": {
        "id": "40gJ89NXjONl"
      },
      "source": [
        "### 1.4. Make a Recommendation using LightFM"
      ]
    },
    {
      "cell_type": "code",
      "metadata": {
        "id": "c3krifGbrHCj"
      },
      "source": [
        "class LightFMRecommendations:\n",
        "  def __init__(self, lightfm_model,  user_features, item_features, movies, ratings):\n",
        "    self.model = lightfm_model\n",
        "    self.user_features = user_features\n",
        "    self.item_features = item_features\n",
        "    self.movies = movies\n",
        "    self.ratings = ratings\n",
        "\n",
        "  def previous_rated_movies(self, user_id):\n",
        "    previous_rated_movies = self.ratings.loc[self.ratings[\"userId\"] == user_id]\n",
        "    \n",
        "    return previous_rated_movies\n",
        "\n",
        "  def _filter_item_by_user(self, user_id, filter_previous=False):\n",
        "    if filter_previous:\n",
        "      previous_rated_movies = self.previous_rated_movies(user_id)\n",
        "      list_prev_rated_movieIds = previous_rated_movies[\"movieId\"].values.tolist()\n",
        "      movies_for_prediction = self.movies.loc[~self.movies[\"movieId\"].isin(list_prev_rated_movieIds)]\n",
        "    else:\n",
        "      movies_for_prediction = self.movies\n",
        "\n",
        "    return movies_for_prediction\n",
        "\n",
        "  def recommend_by_user_id(self, user_id, filter_previous=False, num_prediction=10):\n",
        "    movies_for_prediction = self._filter_item_by_user(user_id,filter_previous)\n",
        "    score = self.model.predict(\n",
        "        user_id,\n",
        "        movies_for_prediction[\"movieId\"].values.tolist(),\n",
        "        item_features=self.item_features\n",
        "        # user_features=self.user_features\n",
        "    )\n",
        "\n",
        "    movies_for_prediction[\"recommendation_score\"] = score\n",
        "    movies_for_prediction = movies_for_prediction.sort_values(by=\"recommendation_score\",ascending=False)[:num_prediction]\n",
        "\n",
        "    return movies_for_prediction"
      ],
      "execution_count": 74,
      "outputs": []
    },
    {
      "cell_type": "markdown",
      "metadata": {
        "id": "dAfJsuWZjxWh"
      },
      "source": [
        "#### 1.4.1. Result Validation"
      ]
    },
    {
      "cell_type": "code",
      "metadata": {
        "colab": {
          "base_uri": "https://localhost:8080/"
        },
        "id": "_EBoQMZusWWD",
        "outputId": "168149ed-0b30-4c42-bd57-5946c2c167ec"
      },
      "source": [
        "from lightfm.evaluation import auc_score\n",
        "\n",
        "def calculate_auc_score(lightfm_model, interactions_matrix, \n",
        "                        question_features, professional_features): \n",
        "    \"\"\"\n",
        "    Measure the ROC AUC metric for a model. \n",
        "    A perfect score is 1.0.\n",
        "\n",
        "    Parameters\n",
        "    ----------\n",
        "    lightfm_model: LightFM model \n",
        "        A fitted lightfm model \n",
        "    interactions_matrix : \n",
        "        A lightfm interactions matrix \n",
        "    question_features, professional_features: \n",
        "        Lightfm features \n",
        "        \n",
        "    Returns\n",
        "    -------\n",
        "    String containing AUC score \n",
        "    \"\"\"\n",
        "    score = auc_score( \n",
        "        lightfm_model, interactions_matrix, \n",
        "        item_features=question_features, \n",
        "        user_features=professional_features, \n",
        "        num_threads=4).mean()\n",
        "    return score\n",
        "\n",
        "calculate_auc_score(val_model, train_interactions, item_features, None)"
      ],
      "execution_count": null,
      "outputs": [
        {
          "output_type": "execute_result",
          "data": {
            "text/plain": [
              "0.99971306"
            ]
          },
          "metadata": {
            "tags": []
          },
          "execution_count": 45
        }
      ]
    },
    {
      "cell_type": "code",
      "metadata": {
        "colab": {
          "base_uri": "https://localhost:8080/"
        },
        "id": "UhSpWqmass3A",
        "outputId": "5e1ed54c-a7ff-4a78-84f1-018c3ed11642"
      },
      "source": [
        "calculate_auc_score(val_model, test_interactions, item_features, None)"
      ],
      "execution_count": null,
      "outputs": [
        {
          "output_type": "execute_result",
          "data": {
            "text/plain": [
              "0.9965533"
            ]
          },
          "metadata": {
            "tags": []
          },
          "execution_count": 46
        }
      ]
    },
    {
      "cell_type": "code",
      "metadata": {
        "id": "bPcEzfwasvET"
      },
      "source": [
        "### epoch 5\n",
        "from lightfm.evaluation import precision_at_k\n",
        "\n",
        "# %%time\n",
        "# precision_at_k(val_model,train_interactions,item_features=item_features).mean()"
      ],
      "execution_count": null,
      "outputs": []
    },
    {
      "cell_type": "code",
      "metadata": {
        "colab": {
          "base_uri": "https://localhost:8080/"
        },
        "id": "n2xutzsdv8gG",
        "outputId": "5329d45a-6165-4ddc-d25f-afb3bfa8d8ac"
      },
      "source": [
        "### epoch 100\n",
        "%%time\n",
        "precision_at_k(val_model,train_interactions,item_features=item_features).mean()"
      ],
      "execution_count": null,
      "outputs": [
        {
          "output_type": "stream",
          "text": [
            "CPU times: user 2min 12s, sys: 2.21 ms, total: 2min 12s\n",
            "Wall time: 2min 12s\n"
          ],
          "name": "stdout"
        },
        {
          "output_type": "execute_result",
          "data": {
            "text/plain": [
              "0.6262295"
            ]
          },
          "metadata": {
            "tags": []
          },
          "execution_count": 50
        }
      ]
    },
    {
      "cell_type": "code",
      "metadata": {
        "colab": {
          "base_uri": "https://localhost:8080/"
        },
        "id": "wJL3Qe05v8-s",
        "outputId": "ce1e8faf-4d05-4895-b33a-dd93233d4c21"
      },
      "source": [
        "### epoch 100\n",
        "%%time\n",
        "precision_at_k(val_model,test_interactions, train_interactions,item_features=item_features).mean()"
      ],
      "execution_count": null,
      "outputs": [
        {
          "output_type": "stream",
          "text": [
            "CPU times: user 2min 3s, sys: 1.18 ms, total: 2min 3s\n",
            "Wall time: 2min 3s\n"
          ],
          "name": "stdout"
        },
        {
          "output_type": "execute_result",
          "data": {
            "text/plain": [
              "0.24672131"
            ]
          },
          "metadata": {
            "tags": []
          },
          "execution_count": 51
        }
      ]
    },
    {
      "cell_type": "markdown",
      "metadata": {
        "id": "o5ifr_tAj9KN"
      },
      "source": [
        "#### 1.4.2. Make a Recommendation"
      ]
    },
    {
      "cell_type": "code",
      "metadata": {
        "colab": {
          "base_uri": "https://localhost:8080/"
        },
        "id": "U2Vk5b8_umI6",
        "outputId": "d2f728c8-1a7e-42e7-dbef-5bf8f298f75a"
      },
      "source": [
        "lightFM_recommender = LightFMRecommendations(val_model,None,item_features,movies,ratings)\n",
        "movies_for_prediction_F = lightFM_recommender.recommend_by_user_id(user_id=0,filter_previous=False,num_prediction=10)\n",
        "movies_for_prediction_T = lightFM_recommender.recommend_by_user_id(0,True,10)"
      ],
      "execution_count": null,
      "outputs": [
        {
          "output_type": "stream",
          "text": [
            "/usr/local/lib/python3.6/dist-packages/ipykernel_launcher.py:33: SettingWithCopyWarning: \n",
            "A value is trying to be set on a copy of a slice from a DataFrame.\n",
            "Try using .loc[row_indexer,col_indexer] = value instead\n",
            "\n",
            "See the caveats in the documentation: https://pandas.pydata.org/pandas-docs/stable/user_guide/indexing.html#returning-a-view-versus-a-copy\n"
          ],
          "name": "stderr"
        }
      ]
    },
    {
      "cell_type": "code",
      "metadata": {
        "colab": {
          "base_uri": "https://localhost:8080/",
          "height": 838
        },
        "id": "eqXUSEiVxByC",
        "outputId": "64570ae0-a5dc-4ab7-8205-64342b8880d3"
      },
      "source": [
        "movies_for_prediction_F"
      ],
      "execution_count": null,
      "outputs": [
        {
          "output_type": "execute_result",
          "data": {
            "text/html": [
              "<div>\n",
              "<style scoped>\n",
              "    .dataframe tbody tr th:only-of-type {\n",
              "        vertical-align: middle;\n",
              "    }\n",
              "\n",
              "    .dataframe tbody tr th {\n",
              "        vertical-align: top;\n",
              "    }\n",
              "\n",
              "    .dataframe thead th {\n",
              "        text-align: right;\n",
              "    }\n",
              "</style>\n",
              "<table border=\"1\" class=\"dataframe\">\n",
              "  <thead>\n",
              "    <tr style=\"text-align: right;\">\n",
              "      <th></th>\n",
              "      <th>movieId</th>\n",
              "      <th>title</th>\n",
              "      <th>genres</th>\n",
              "      <th>genres_vectors</th>\n",
              "      <th>launch_year</th>\n",
              "      <th>movie_title</th>\n",
              "      <th>launch_year_vectors</th>\n",
              "      <th>title_vector</th>\n",
              "      <th>recommendation_score</th>\n",
              "    </tr>\n",
              "  </thead>\n",
              "  <tbody>\n",
              "    <tr>\n",
              "      <th>1503</th>\n",
              "      <td>2027</td>\n",
              "      <td>Saving Private Ryan (1998)</td>\n",
              "      <td>Action|Drama|War</td>\n",
              "      <td>[0, 1, 0, 0, 0, 0, 0, 0, 1, 0, 0, 0, 0, 0, 0, ...</td>\n",
              "      <td>1998</td>\n",
              "      <td>Saving Private Ryan</td>\n",
              "      <td>[0, 0, 0, 0, 0, 0, 0, 0, 0, 0, 0, 0, 0, 0, 0, ...</td>\n",
              "      <td>[-0.0071511901915073395, 0.06231992319226265, ...</td>\n",
              "      <td>82.218781</td>\n",
              "    </tr>\n",
              "    <tr>\n",
              "      <th>898</th>\n",
              "      <td>1195</td>\n",
              "      <td>Star Wars: Episode V - The Empire Strikes Back...</td>\n",
              "      <td>Action|Adventure|Sci-Fi</td>\n",
              "      <td>[0, 1, 1, 0, 0, 0, 0, 0, 0, 0, 0, 0, 0, 0, 0, ...</td>\n",
              "      <td>1980</td>\n",
              "      <td>Star Wars: Episode V - The Empire Strikes Back</td>\n",
              "      <td>[0, 0, 0, 0, 0, 0, 0, 0, 0, 0, 0, 0, 0, 0, 0, ...</td>\n",
              "      <td>[0.006401954684406519, 0.15503838658332825, -0...</td>\n",
              "      <td>82.038666</td>\n",
              "    </tr>\n",
              "    <tr>\n",
              "      <th>506</th>\n",
              "      <td>587</td>\n",
              "      <td>Aladdin (1992)</td>\n",
              "      <td>Adventure|Animation|Children|Comedy|Musical</td>\n",
              "      <td>[0, 0, 1, 1, 1, 1, 0, 0, 0, 0, 0, 0, 0, 1, 0, ...</td>\n",
              "      <td>1992</td>\n",
              "      <td>Aladdin</td>\n",
              "      <td>[0, 0, 0, 0, 0, 0, 0, 0, 0, 0, 0, 0, 0, 0, 0, ...</td>\n",
              "      <td>[-0.00826896633952856, 0.012394865974783897, 0...</td>\n",
              "      <td>82.032471</td>\n",
              "    </tr>\n",
              "    <tr>\n",
              "      <th>2250</th>\n",
              "      <td>2986</td>\n",
              "      <td>Who Framed Roger Rabbit? (1988)</td>\n",
              "      <td>Adventure|Animation|Children|Comedy|Crime|Fant...</td>\n",
              "      <td>[0, 0, 1, 1, 1, 1, 1, 0, 0, 1, 0, 0, 0, 0, 1, ...</td>\n",
              "      <td>1988</td>\n",
              "      <td>Who Framed Roger Rabbit?</td>\n",
              "      <td>[0, 0, 0, 0, 0, 0, 0, 0, 0, 0, 0, 0, 0, 0, 0, ...</td>\n",
              "      <td>[0.00496014766395092, 0.15055891871452332, 0.0...</td>\n",
              "      <td>81.845535</td>\n",
              "    </tr>\n",
              "    <tr>\n",
              "      <th>2078</th>\n",
              "      <td>2761</td>\n",
              "      <td>Sixth Sense, The (1999)</td>\n",
              "      <td>Drama|Horror|Mystery</td>\n",
              "      <td>[0, 0, 0, 0, 0, 0, 0, 0, 1, 0, 0, 1, 0, 0, 1, ...</td>\n",
              "      <td>1999</td>\n",
              "      <td>Sixth Sense, The</td>\n",
              "      <td>[0, 0, 0, 0, 0, 0, 0, 0, 0, 0, 0, 0, 0, 0, 0, ...</td>\n",
              "      <td>[0.039835866540670395, 0.13840249180793762, -0...</td>\n",
              "      <td>81.768730</td>\n",
              "    </tr>\n",
              "    <tr>\n",
              "      <th>1706</th>\n",
              "      <td>2293</td>\n",
              "      <td>Antz (1998)</td>\n",
              "      <td>Adventure|Animation|Children|Comedy|Fantasy</td>\n",
              "      <td>[0, 0, 1, 1, 1, 1, 0, 0, 0, 1, 0, 0, 0, 0, 0, ...</td>\n",
              "      <td>1998</td>\n",
              "      <td>Antz</td>\n",
              "      <td>[0, 0, 0, 0, 0, 0, 0, 0, 0, 0, 0, 0, 0, 0, 0, ...</td>\n",
              "      <td>[0.0, 0.0, 0.0, 0.0, 0.0, 0.0, 0.0, 0.0, 0.0, ...</td>\n",
              "      <td>81.648109</td>\n",
              "    </tr>\n",
              "    <tr>\n",
              "      <th>911</th>\n",
              "      <td>1209</td>\n",
              "      <td>Star Wars: Episode VI - Return of the Jedi (1983)</td>\n",
              "      <td>Action|Adventure|Sci-Fi</td>\n",
              "      <td>[0, 1, 1, 0, 0, 0, 0, 0, 0, 0, 0, 0, 0, 0, 0, ...</td>\n",
              "      <td>1983</td>\n",
              "      <td>Star Wars: Episode VI - Return of the Jedi</td>\n",
              "      <td>[0, 0, 0, 0, 0, 0, 0, 0, 0, 0, 0, 0, 0, 0, 0, ...</td>\n",
              "      <td>[0.028825968503952026, 0.17170323431491852, -0...</td>\n",
              "      <td>81.468903</td>\n",
              "    </tr>\n",
              "    <tr>\n",
              "      <th>789</th>\n",
              "      <td>1031</td>\n",
              "      <td>Alice in Wonderland (1951)</td>\n",
              "      <td>Adventure|Animation|Children|Fantasy|Musical</td>\n",
              "      <td>[0, 0, 1, 1, 1, 0, 0, 0, 0, 1, 0, 0, 0, 1, 0, ...</td>\n",
              "      <td>1951</td>\n",
              "      <td>Alice in Wonderland</td>\n",
              "      <td>[0, 0, 0, 0, 0, 0, 0, 0, 0, 0, 0, 0, 0, 0, 0, ...</td>\n",
              "      <td>[0.010601167567074299, 0.11100053787231445, -0...</td>\n",
              "      <td>81.419182</td>\n",
              "    </tr>\n",
              "    <tr>\n",
              "      <th>863</th>\n",
              "      <td>1135</td>\n",
              "      <td>Monty Python and the Holy Grail (1975)</td>\n",
              "      <td>Adventure|Comedy|Fantasy</td>\n",
              "      <td>[0, 0, 1, 0, 0, 1, 0, 0, 0, 1, 0, 0, 0, 0, 0, ...</td>\n",
              "      <td>1975</td>\n",
              "      <td>Monty Python and the Holy Grail</td>\n",
              "      <td>[0, 0, 0, 0, 0, 0, 0, 0, 0, 0, 0, 0, 0, 0, 0, ...</td>\n",
              "      <td>[0.016194066032767296, 0.12340718507766724, -0...</td>\n",
              "      <td>81.401321</td>\n",
              "    </tr>\n",
              "    <tr>\n",
              "      <th>659</th>\n",
              "      <td>857</td>\n",
              "      <td>Godfather, The (1972)</td>\n",
              "      <td>Crime|Drama</td>\n",
              "      <td>[0, 0, 0, 0, 0, 0, 1, 0, 1, 0, 0, 0, 0, 0, 0, ...</td>\n",
              "      <td>1972</td>\n",
              "      <td>Godfather, The</td>\n",
              "      <td>[0, 0, 0, 0, 0, 0, 0, 0, 0, 0, 0, 0, 0, 0, 0, ...</td>\n",
              "      <td>[0.05780700966715813, 0.1697556972503662, -0.0...</td>\n",
              "      <td>81.366302</td>\n",
              "    </tr>\n",
              "  </tbody>\n",
              "</table>\n",
              "</div>"
            ],
            "text/plain": [
              "      movieId  ... recommendation_score\n",
              "1503     2027  ...            82.218781\n",
              "898      1195  ...            82.038666\n",
              "506       587  ...            82.032471\n",
              "2250     2986  ...            81.845535\n",
              "2078     2761  ...            81.768730\n",
              "1706     2293  ...            81.648109\n",
              "911      1209  ...            81.468903\n",
              "789      1031  ...            81.419182\n",
              "863      1135  ...            81.401321\n",
              "659       857  ...            81.366302\n",
              "\n",
              "[10 rows x 9 columns]"
            ]
          },
          "metadata": {
            "tags": []
          },
          "execution_count": 53
        }
      ]
    },
    {
      "cell_type": "code",
      "metadata": {
        "colab": {
          "base_uri": "https://localhost:8080/",
          "height": 736
        },
        "id": "S-tgCBoexDe_",
        "outputId": "62ed1d1e-77cf-406b-b148-c8f29153198b"
      },
      "source": [
        "movies_for_prediction_T"
      ],
      "execution_count": null,
      "outputs": [
        {
          "output_type": "execute_result",
          "data": {
            "text/html": [
              "<div>\n",
              "<style scoped>\n",
              "    .dataframe tbody tr th:only-of-type {\n",
              "        vertical-align: middle;\n",
              "    }\n",
              "\n",
              "    .dataframe tbody tr th {\n",
              "        vertical-align: top;\n",
              "    }\n",
              "\n",
              "    .dataframe thead th {\n",
              "        text-align: right;\n",
              "    }\n",
              "</style>\n",
              "<table border=\"1\" class=\"dataframe\">\n",
              "  <thead>\n",
              "    <tr style=\"text-align: right;\">\n",
              "      <th></th>\n",
              "      <th>movieId</th>\n",
              "      <th>title</th>\n",
              "      <th>genres</th>\n",
              "      <th>genres_vectors</th>\n",
              "      <th>launch_year</th>\n",
              "      <th>movie_title</th>\n",
              "      <th>launch_year_vectors</th>\n",
              "      <th>title_vector</th>\n",
              "      <th>recommendation_score</th>\n",
              "    </tr>\n",
              "  </thead>\n",
              "  <tbody>\n",
              "    <tr>\n",
              "      <th>506</th>\n",
              "      <td>587</td>\n",
              "      <td>Aladdin (1992)</td>\n",
              "      <td>Adventure|Animation|Children|Comedy|Musical</td>\n",
              "      <td>[0, 0, 1, 1, 1, 1, 0, 0, 0, 0, 0, 0, 0, 1, 0, ...</td>\n",
              "      <td>1992</td>\n",
              "      <td>Aladdin</td>\n",
              "      <td>[0, 0, 0, 0, 0, 0, 0, 0, 0, 0, 0, 0, 0, 0, 0, ...</td>\n",
              "      <td>[-0.00826896633952856, 0.012394865974783897, 0...</td>\n",
              "      <td>82.032471</td>\n",
              "    </tr>\n",
              "    <tr>\n",
              "      <th>2078</th>\n",
              "      <td>2761</td>\n",
              "      <td>Sixth Sense, The (1999)</td>\n",
              "      <td>Drama|Horror|Mystery</td>\n",
              "      <td>[0, 0, 0, 0, 0, 0, 0, 0, 1, 0, 0, 1, 0, 0, 1, ...</td>\n",
              "      <td>1999</td>\n",
              "      <td>Sixth Sense, The</td>\n",
              "      <td>[0, 0, 0, 0, 0, 0, 0, 0, 0, 0, 0, 0, 0, 0, 0, ...</td>\n",
              "      <td>[0.039835866540670395, 0.13840249180793762, -0...</td>\n",
              "      <td>81.768730</td>\n",
              "    </tr>\n",
              "    <tr>\n",
              "      <th>1706</th>\n",
              "      <td>2293</td>\n",
              "      <td>Antz (1998)</td>\n",
              "      <td>Adventure|Animation|Children|Comedy|Fantasy</td>\n",
              "      <td>[0, 0, 1, 1, 1, 1, 0, 0, 0, 1, 0, 0, 0, 0, 0, ...</td>\n",
              "      <td>1998</td>\n",
              "      <td>Antz</td>\n",
              "      <td>[0, 0, 0, 0, 0, 0, 0, 0, 0, 0, 0, 0, 0, 0, 0, ...</td>\n",
              "      <td>[0.0, 0.0, 0.0, 0.0, 0.0, 0.0, 0.0, 0.0, 0.0, ...</td>\n",
              "      <td>81.648109</td>\n",
              "    </tr>\n",
              "    <tr>\n",
              "      <th>659</th>\n",
              "      <td>857</td>\n",
              "      <td>Godfather, The (1972)</td>\n",
              "      <td>Crime|Drama</td>\n",
              "      <td>[0, 0, 0, 0, 0, 0, 1, 0, 1, 0, 0, 0, 0, 0, 0, ...</td>\n",
              "      <td>1972</td>\n",
              "      <td>Godfather, The</td>\n",
              "      <td>[0, 0, 0, 0, 0, 0, 0, 0, 0, 0, 0, 0, 0, 0, 0, ...</td>\n",
              "      <td>[0.05780700966715813, 0.1697556972503662, -0.0...</td>\n",
              "      <td>81.366302</td>\n",
              "    </tr>\n",
              "    <tr>\n",
              "      <th>922</th>\n",
              "      <td>1220</td>\n",
              "      <td>Godfather: Part II, The (1974)</td>\n",
              "      <td>Crime|Drama</td>\n",
              "      <td>[0, 0, 0, 0, 0, 0, 1, 0, 1, 0, 0, 0, 0, 0, 0, ...</td>\n",
              "      <td>1974</td>\n",
              "      <td>Godfather: Part II, The</td>\n",
              "      <td>[0, 0, 0, 0, 0, 0, 0, 0, 0, 0, 0, 0, 0, 0, 0, ...</td>\n",
              "      <td>[0.03514277562499046, 0.18574918806552887, -0....</td>\n",
              "      <td>81.349297</td>\n",
              "    </tr>\n",
              "    <tr>\n",
              "      <th>507</th>\n",
              "      <td>588</td>\n",
              "      <td>Terminator 2: Judgment Day (1991)</td>\n",
              "      <td>Action|Sci-Fi</td>\n",
              "      <td>[0, 1, 0, 0, 0, 0, 0, 0, 0, 0, 0, 0, 0, 0, 0, ...</td>\n",
              "      <td>1991</td>\n",
              "      <td>Terminator 2: Judgment Day</td>\n",
              "      <td>[0, 0, 0, 0, 0, 0, 0, 0, 0, 0, 0, 0, 0, 0, 0, ...</td>\n",
              "      <td>[0.0068153319880366325, 0.13086751103401184, -...</td>\n",
              "      <td>81.279900</td>\n",
              "    </tr>\n",
              "    <tr>\n",
              "      <th>1757</th>\n",
              "      <td>2354</td>\n",
              "      <td>Bug's Life, A (1998)</td>\n",
              "      <td>Adventure|Animation|Children|Comedy</td>\n",
              "      <td>[0, 0, 1, 1, 1, 1, 0, 0, 0, 0, 0, 0, 0, 0, 0, ...</td>\n",
              "      <td>1998</td>\n",
              "      <td>Bug's Life, A</td>\n",
              "      <td>[0, 0, 0, 0, 0, 0, 0, 0, 0, 0, 0, 0, 0, 0, 0, ...</td>\n",
              "      <td>[0.045480877161026, 0.2499522566795349, 0.0298...</td>\n",
              "      <td>81.099991</td>\n",
              "    </tr>\n",
              "    <tr>\n",
              "      <th>1390</th>\n",
              "      <td>1906</td>\n",
              "      <td>Mulan (1998)</td>\n",
              "      <td>Adventure|Animation|Children|Comedy|Drama|Musi...</td>\n",
              "      <td>[0, 0, 1, 1, 1, 1, 0, 0, 1, 0, 0, 0, 0, 1, 0, ...</td>\n",
              "      <td>1998</td>\n",
              "      <td>Mulan</td>\n",
              "      <td>[0, 0, 0, 0, 0, 0, 0, 0, 0, 0, 0, 0, 0, 0, 0, ...</td>\n",
              "      <td>[0.0003962657938245684, 0.0002772041189018637,...</td>\n",
              "      <td>81.064568</td>\n",
              "    </tr>\n",
              "    <tr>\n",
              "      <th>1399</th>\n",
              "      <td>1917</td>\n",
              "      <td>Lethal Weapon 4 (1998)</td>\n",
              "      <td>Action|Comedy|Crime|Thriller</td>\n",
              "      <td>[0, 1, 0, 0, 0, 1, 1, 0, 0, 0, 0, 0, 0, 0, 0, ...</td>\n",
              "      <td>1998</td>\n",
              "      <td>Lethal Weapon 4</td>\n",
              "      <td>[0, 0, 0, 0, 0, 0, 0, 0, 0, 0, 0, 0, 0, 0, 0, ...</td>\n",
              "      <td>[-0.012654793448746204, 0.07857976108789444, 0...</td>\n",
              "      <td>81.037506</td>\n",
              "    </tr>\n",
              "    <tr>\n",
              "      <th>1623</th>\n",
              "      <td>2166</td>\n",
              "      <td>Blade (1998)</td>\n",
              "      <td>Action|Horror|Thriller</td>\n",
              "      <td>[0, 1, 0, 0, 0, 0, 0, 0, 0, 0, 0, 1, 0, 0, 0, ...</td>\n",
              "      <td>1998</td>\n",
              "      <td>Blade</td>\n",
              "      <td>[0, 0, 0, 0, 0, 0, 0, 0, 0, 0, 0, 0, 0, 0, 0, ...</td>\n",
              "      <td>[-0.008226502686738968, 0.053510621190071106, ...</td>\n",
              "      <td>81.030182</td>\n",
              "    </tr>\n",
              "  </tbody>\n",
              "</table>\n",
              "</div>"
            ],
            "text/plain": [
              "      movieId  ... recommendation_score\n",
              "506       587  ...            82.032471\n",
              "2078     2761  ...            81.768730\n",
              "1706     2293  ...            81.648109\n",
              "659       857  ...            81.366302\n",
              "922      1220  ...            81.349297\n",
              "507       588  ...            81.279900\n",
              "1757     2354  ...            81.099991\n",
              "1390     1906  ...            81.064568\n",
              "1399     1917  ...            81.037506\n",
              "1623     2166  ...            81.030182\n",
              "\n",
              "[10 rows x 9 columns]"
            ]
          },
          "metadata": {
            "tags": []
          },
          "execution_count": 54
        }
      ]
    },
    {
      "cell_type": "markdown",
      "metadata": {
        "id": "syT6kWmu2BH1"
      },
      "source": [
        "## 2. LightFM Using Numerical Data only \n",
        "\n",
        "### 2.1. Reference\n",
        "https://github.com/lyst/lightfm/issues/433\n",
        "\n",
        "일반적인 Categorical한 데이터가 아닌 Numerical한 데이터를 넘기는 방식을 알아보기 위해 위의 reference를 참고한다.\n",
        "\n",
        "아래의 build_feature와 관련된 code를 살펴보면, \n",
        "1. (item id, [list of feature names]) \n",
        "2. (item id, {feature name: feature weight})\n",
        "\n",
        "위의 두 가지 중 한가지 방식으로 user/item feature를 선언하고 넘겨야 한다. 우선 1번의 방식으로 넘기는 것을 개발자는 권고하며, Numerical Data를 input하기 위해서는 2번 방식을 활용해야 한다.\n",
        "\n",
        "2번 방식은 (user/item id와 dictonary[column_name]=weight) 형태로 각 user/item id별로 dataset에서 정의한 user/item feature의 column명을 key로 하여 Numeric한 weight를 value로 하는 dictionary 값을 tuple로 하여 넘겨준다.\n",
        "\n",
        "#### 2.1.1. Build feature Related Codes\n",
        "\n",
        "```python\n",
        "def fit(self, users, items, user_features=None, item_features=None):\n",
        "    \"\"\"\n",
        "    Fit the user/item id and feature name mappings.\n",
        "    Calling fit the second time will reset existing mappings.\n",
        "    Parameters\n",
        "    ----------\n",
        "    users: iterable of user ids\n",
        "    items: iterable of item ids\n",
        "    user_features: iterable of user features, optional\n",
        "    item_features: iterable of item features, optional\n",
        "    \"\"\"\n",
        "\n",
        "    self._user_id_mapping = {}\n",
        "    self._item_id_mapping = {}\n",
        "    self._user_feature_mapping = {}\n",
        "    self._item_feature_mapping = {}\n",
        "\n",
        "    return self.fit_partial(users, items, user_features, item_features)\n",
        "\n",
        "def fit_partial(\n",
        "    self, users=None, items=None, user_features=None, item_features=None\n",
        "):\n",
        "    \"\"\"\n",
        "    Fit the user/item id and feature name mappings.\n",
        "    Calling fit the second time will add new entries to existing mappings.\n",
        "    Parameters\n",
        "    ----------\n",
        "    users: iterable of user ids, optional\n",
        "    items: iterable of item ids, optional\n",
        "    user_features: iterable of user features, optional\n",
        "    item_features: iterable of item features, optional\n",
        "    \"\"\"\n",
        "\n",
        "    if users is not None:\n",
        "        for user_id in users:\n",
        "            self._user_id_mapping.setdefault(user_id, len(self._user_id_mapping))\n",
        "\n",
        "            if self._user_identity_features:\n",
        "                self._user_feature_mapping.setdefault(\n",
        "                    user_id, len(self._user_feature_mapping)\n",
        "                )\n",
        "\n",
        "    if items is not None:\n",
        "        for item_id in items:\n",
        "            self._item_id_mapping.setdefault(item_id, len(self._item_id_mapping))\n",
        "\n",
        "            if self._item_identity_features:\n",
        "                self._item_feature_mapping.setdefault(\n",
        "                    item_id, len(self._item_feature_mapping)\n",
        "                )\n",
        "\n",
        "    if user_features is not None:\n",
        "        for user_feature in user_features:\n",
        "            self._user_feature_mapping.setdefault(\n",
        "                user_feature, len(self._user_feature_mapping)\n",
        "            )\n",
        "\n",
        "    if item_features is not None:\n",
        "        for item_feature in item_features:\n",
        "            self._item_feature_mapping.setdefault(\n",
        "                item_feature, len(self._item_feature_mapping)\n",
        "            )\n",
        "\n",
        "### make item_features sparse matrix\n",
        "\n",
        "def build_item_features(self, data, normalize=True):\n",
        "    \"\"\"\n",
        "    Build a item features matrix out of an iterable of the form\n",
        "    (item id, [list of feature names]) or (item id, {feature name: feature weight}).\n",
        "    Parameters\n",
        "    ----------\n",
        "    data: iterable of the form\n",
        "        (item id, [list of feature names]) or (item id,\n",
        "        {feature name: feature weight}).\n",
        "        Item and feature ids will be translated to internal indices\n",
        "        constructed during the fit call.\n",
        "    normalize: bool, optional\n",
        "        If true, will ensure that feature weights sum to 1 in every row.\n",
        "    Returns\n",
        "    -------\n",
        "    feature matrix: CSR matrix (num items, num features)\n",
        "        Matrix of item features.\n",
        "    \"\"\"\n",
        "\n",
        "    builder = _FeatureBuilder(\n",
        "        self._item_id_mapping,\n",
        "        self._item_feature_mapping,\n",
        "        self._item_identity_features,\n",
        "        normalize,\n",
        "        \"item\",\n",
        "    )\n",
        "\n",
        "    return builder.build(data)\n",
        "```"
      ]
    },
    {
      "cell_type": "code",
      "metadata": {
        "id": "JTgWe5-312ta"
      },
      "source": [
        "len_title_vec = len(movies.iloc[0][\"title_vector\"])\n",
        "title_vec_cols = [ \"tv_{}\".format(i) for i in range(len_title_vec)]"
      ],
      "execution_count": 30,
      "outputs": []
    },
    {
      "cell_type": "markdown",
      "metadata": {
        "id": "LvqufKH20Ucm"
      },
      "source": [
        "### 2.2. Dict Generation Function for Numerical Value "
      ]
    },
    {
      "cell_type": "code",
      "metadata": {
        "id": "6BPZhJMmKf5n"
      },
      "source": [
        "def make_dict(list_x,vec_cols):\n",
        "  dict_result = dict()\n",
        "  for idx, element in enumerate(list_x):\n",
        "    vec_col = vec_cols[idx]\n",
        "    dict_result[vec_col] = element\n",
        "  return dict_result"
      ],
      "execution_count": 91,
      "outputs": []
    },
    {
      "cell_type": "code",
      "metadata": {
        "id": "TEkpvWw6Le9-"
      },
      "source": [
        "title_vec_list = list(map(lambda x: make_dict(x,title_vec_cols), movies.title_vector.to_list()))"
      ],
      "execution_count": 92,
      "outputs": []
    },
    {
      "cell_type": "code",
      "metadata": {
        "id": "s9iVmUQE4bFi"
      },
      "source": [
        "list_if = title_vec_cols"
      ],
      "execution_count": 93,
      "outputs": []
    },
    {
      "cell_type": "markdown",
      "metadata": {
        "id": "vLDcoYWMnWp2"
      },
      "source": [
        "### 2.3. Data Preparation for LightFM Dataset\n",
        "\n",
        "#### 2.3.1. Define Dataset"
      ]
    },
    {
      "cell_type": "code",
      "metadata": {
        "id": "jvT6PYaS5Ggy"
      },
      "source": [
        "from lightfm.data import Dataset\n",
        "\n",
        "dataset = Dataset()\n",
        "\n",
        "user_ids = [i for i in range(ratings.userId.max()+1)]\n",
        "movie_ids = [i for i in range(movies.movieId.max()+1)]\n",
        "\n",
        "dataset.fit(\n",
        "    user_ids,\n",
        "    movie_ids,\n",
        "    item_features = list_if\n",
        ")"
      ],
      "execution_count": 94,
      "outputs": []
    },
    {
      "cell_type": "code",
      "metadata": {
        "id": "8DZnPWc85hIM"
      },
      "source": [
        "user_id_map, user_feature_map, item_id_map, item_feature_map = dataset.mapping()"
      ],
      "execution_count": 95,
      "outputs": []
    },
    {
      "cell_type": "code",
      "metadata": {
        "id": "YfXNBJOk2WqW"
      },
      "source": [
        "item_tuple= list(zip(movies.movieId, title_vec_list))"
      ],
      "execution_count": 96,
      "outputs": []
    },
    {
      "cell_type": "code",
      "metadata": {
        "colab": {
          "base_uri": "https://localhost:8080/"
        },
        "id": "eKwcnlWY8Yy8",
        "outputId": "95815c52-43fc-482a-af02-0dc98e48103e"
      },
      "source": [
        "item_tuple[0]"
      ],
      "execution_count": 100,
      "outputs": [
        {
          "output_type": "execute_result",
          "data": {
            "text/plain": [
              "(0,\n",
              " {'tv_0': -0.01961478963494301,\n",
              "  'tv_1': -0.15536874532699585,\n",
              "  'tv_10': 0.06477392464876175,\n",
              "  'tv_100': 0.0026323827914893627,\n",
              "  'tv_101': 0.07150574028491974,\n",
              "  'tv_102': 0.03581303730607033,\n",
              "  'tv_103': -0.008067931048572063,\n",
              "  'tv_104': 0.029374364763498306,\n",
              "  'tv_105': -0.1123325377702713,\n",
              "  'tv_106': 0.022068066522479057,\n",
              "  'tv_107': -0.0019947378896176815,\n",
              "  'tv_108': 0.04598991945385933,\n",
              "  'tv_109': 0.011692335829138756,\n",
              "  'tv_11': -0.02988695725798607,\n",
              "  'tv_110': 0.007097415626049042,\n",
              "  'tv_111': -0.053981270641088486,\n",
              "  'tv_112': -0.0770234689116478,\n",
              "  'tv_113': -0.111599862575531,\n",
              "  'tv_114': 0.0011577594559639692,\n",
              "  'tv_115': -0.00457123713567853,\n",
              "  'tv_116': 0.07848392426967621,\n",
              "  'tv_117': -0.05979790911078453,\n",
              "  'tv_118': -0.03646998852491379,\n",
              "  'tv_119': 0.06403720378875732,\n",
              "  'tv_12': 0.01072720717638731,\n",
              "  'tv_120': -0.08241673558950424,\n",
              "  'tv_121': 0.09654080122709274,\n",
              "  'tv_122': -0.12356999516487122,\n",
              "  'tv_123': -0.0010414426214993,\n",
              "  'tv_124': -0.08140123635530472,\n",
              "  'tv_125': 0.09674639999866486,\n",
              "  'tv_126': 0.014956716448068619,\n",
              "  'tv_127': 0.09900684654712677,\n",
              "  'tv_128': 0.0165878776460886,\n",
              "  'tv_129': -0.07259657233953476,\n",
              "  'tv_13': 0.035919561982154846,\n",
              "  'tv_130': 0.08883890509605408,\n",
              "  'tv_131': -0.027670949697494507,\n",
              "  'tv_132': 0.023705484345555305,\n",
              "  'tv_133': 0.018286006525158882,\n",
              "  'tv_134': 0.11610466986894608,\n",
              "  'tv_135': -0.07746812701225281,\n",
              "  'tv_136': 0.08631451427936554,\n",
              "  'tv_137': 0.08949447423219681,\n",
              "  'tv_138': -0.053499236702919006,\n",
              "  'tv_139': 0.09838530421257019,\n",
              "  'tv_14': -0.00585460988804698,\n",
              "  'tv_140': 0.056379303336143494,\n",
              "  'tv_141': -0.026532452553510666,\n",
              "  'tv_142': -0.01154375821352005,\n",
              "  'tv_143': -0.10627922415733337,\n",
              "  'tv_144': 0.012596983462572098,\n",
              "  'tv_145': 0.07917879521846771,\n",
              "  'tv_146': 0.1615508794784546,\n",
              "  'tv_147': 0.019252469763159752,\n",
              "  'tv_148': 0.09421788156032562,\n",
              "  'tv_149': 0.02129404991865158,\n",
              "  'tv_15': 0.030392006039619446,\n",
              "  'tv_150': -0.10402625054121017,\n",
              "  'tv_151': 0.09379380941390991,\n",
              "  'tv_152': -0.10664751380681992,\n",
              "  'tv_153': -0.036204542964696884,\n",
              "  'tv_154': 0.025055069476366043,\n",
              "  'tv_155': -0.09214058518409729,\n",
              "  'tv_156': 0.04458246007561684,\n",
              "  'tv_157': 0.01004690583795309,\n",
              "  'tv_158': 0.05215587839484215,\n",
              "  'tv_159': 0.012921958230435848,\n",
              "  'tv_16': 0.06979292631149292,\n",
              "  'tv_160': -0.09651798754930496,\n",
              "  'tv_161': -0.03502773120999336,\n",
              "  'tv_162': -0.054552093148231506,\n",
              "  'tv_163': 0.0468871183693409,\n",
              "  'tv_164': -0.06367884576320648,\n",
              "  'tv_165': 0.009185586124658585,\n",
              "  'tv_166': 0.05483480170369148,\n",
              "  'tv_167': -0.021649012342095375,\n",
              "  'tv_168': 0.08804100751876831,\n",
              "  'tv_169': -0.021167606115341187,\n",
              "  'tv_17': 0.16039539873600006,\n",
              "  'tv_170': 0.08880725502967834,\n",
              "  'tv_171': 0.046414025127887726,\n",
              "  'tv_172': -0.08563823252916336,\n",
              "  'tv_173': -0.051774971187114716,\n",
              "  'tv_174': -0.05062948539853096,\n",
              "  'tv_175': 0.002238426823168993,\n",
              "  'tv_176': -0.004699721001088619,\n",
              "  'tv_177': 0.09064783155918121,\n",
              "  'tv_178': 0.0900290459394455,\n",
              "  'tv_179': 0.0552251860499382,\n",
              "  'tv_18': 0.03726315125823021,\n",
              "  'tv_180': 0.05423269048333168,\n",
              "  'tv_181': -0.06601279228925705,\n",
              "  'tv_182': 0.04684927314519882,\n",
              "  'tv_183': -0.030280889943242073,\n",
              "  'tv_184': 0.04728970676660538,\n",
              "  'tv_185': 0.0372069776058197,\n",
              "  'tv_186': -0.14976750314235687,\n",
              "  'tv_187': 0.06534336507320404,\n",
              "  'tv_188': -0.2141457200050354,\n",
              "  'tv_189': 0.04339274391531944,\n",
              "  'tv_19': -0.014223446138203144,\n",
              "  'tv_190': 0.008025744929909706,\n",
              "  'tv_191': 0.0005503251450136304,\n",
              "  'tv_192': 0.0014920246321707964,\n",
              "  'tv_193': 0.2285008430480957,\n",
              "  'tv_194': -0.0091930590569973,\n",
              "  'tv_195': 0.051584772765636444,\n",
              "  'tv_196': -0.10598792135715485,\n",
              "  'tv_197': 0.07789020240306854,\n",
              "  'tv_198': -0.07930350303649902,\n",
              "  'tv_199': 0.03808475285768509,\n",
              "  'tv_2': -0.04679436236619949,\n",
              "  'tv_20': 0.12097468227148056,\n",
              "  'tv_21': 0.07722830772399902,\n",
              "  'tv_22': -0.00338291609659791,\n",
              "  'tv_23': 0.03959854692220688,\n",
              "  'tv_24': -0.00812014751136303,\n",
              "  'tv_25': -0.06882665306329727,\n",
              "  'tv_26': -0.011026333086192608,\n",
              "  'tv_27': 0.03690870851278305,\n",
              "  'tv_28': -0.15827009081840515,\n",
              "  'tv_29': 0.03486880660057068,\n",
              "  'tv_3': -0.009817967191338539,\n",
              "  'tv_30': -0.03871030732989311,\n",
              "  'tv_31': 0.025087572634220123,\n",
              "  'tv_32': 0.012450901791453362,\n",
              "  'tv_33': -0.06980956345796585,\n",
              "  'tv_34': -0.008752550929784775,\n",
              "  'tv_35': -0.12044723331928253,\n",
              "  'tv_36': 0.10284423828125,\n",
              "  'tv_37': 0.07961197942495346,\n",
              "  'tv_38': -0.015527862124145031,\n",
              "  'tv_39': 0.02182045392692089,\n",
              "  'tv_4': 0.020606502890586853,\n",
              "  'tv_40': 0.07578525692224503,\n",
              "  'tv_41': 0.013987431302666664,\n",
              "  'tv_42': -0.023852979764342308,\n",
              "  'tv_43': 0.04023812338709831,\n",
              "  'tv_44': 0.09285612404346466,\n",
              "  'tv_45': -0.08007563650608063,\n",
              "  'tv_46': -0.040023818612098694,\n",
              "  'tv_47': 0.032582495361566544,\n",
              "  'tv_48': 0.07137960940599442,\n",
              "  'tv_49': -0.1220887303352356,\n",
              "  'tv_5': -0.005381468683481216,\n",
              "  'tv_50': 0.012867871671915054,\n",
              "  'tv_51': 0.17175230383872986,\n",
              "  'tv_52': 0.05261877551674843,\n",
              "  'tv_53': 0.07826230674982071,\n",
              "  'tv_54': 0.003990312106907368,\n",
              "  'tv_55': -0.03647897392511368,\n",
              "  'tv_56': 0.011447349563241005,\n",
              "  'tv_57': -0.031136834993958473,\n",
              "  'tv_58': 0.039441999047994614,\n",
              "  'tv_59': -0.040551673620939255,\n",
              "  'tv_6': 0.023812467232346535,\n",
              "  'tv_60': 0.1337359994649887,\n",
              "  'tv_61': -0.0030371174216270447,\n",
              "  'tv_62': 0.01581704430282116,\n",
              "  'tv_63': -0.07511936128139496,\n",
              "  'tv_64': 0.12234548479318619,\n",
              "  'tv_65': -0.020582275465130806,\n",
              "  'tv_66': -0.031229741871356964,\n",
              "  'tv_67': -0.11875377595424652,\n",
              "  'tv_68': -0.00025117211043834686,\n",
              "  'tv_69': 0.08476299047470093,\n",
              "  'tv_7': 0.13126389682292938,\n",
              "  'tv_70': 0.11447262018918991,\n",
              "  'tv_71': 0.04907755181193352,\n",
              "  'tv_72': 0.1176082193851471,\n",
              "  'tv_73': 0.017532726749777794,\n",
              "  'tv_74': 0.0022908919490873814,\n",
              "  'tv_75': -0.20384562015533447,\n",
              "  'tv_76': 0.036287546157836914,\n",
              "  'tv_77': -0.002000219188630581,\n",
              "  'tv_78': -0.09009800851345062,\n",
              "  'tv_79': 0.08197830617427826,\n",
              "  'tv_8': 0.08442790061235428,\n",
              "  'tv_80': -0.0302727073431015,\n",
              "  'tv_81': -0.048745863139629364,\n",
              "  'tv_82': -0.010553073137998581,\n",
              "  'tv_83': -0.05964002013206482,\n",
              "  'tv_84': 0.06348125636577606,\n",
              "  'tv_85': -0.08408414572477341,\n",
              "  'tv_86': -0.041126083582639694,\n",
              "  'tv_87': 0.04648210108280182,\n",
              "  'tv_88': 0.06789670139551163,\n",
              "  'tv_89': 0.08862995356321335,\n",
              "  'tv_9': -0.003924700431525707,\n",
              "  'tv_90': 0.08080753684043884,\n",
              "  'tv_91': -0.020217876881361008,\n",
              "  'tv_92': -0.05785980448126793,\n",
              "  'tv_93': -0.08867762982845306,\n",
              "  'tv_94': 0.022026294842362404,\n",
              "  'tv_95': -0.11991800367832184,\n",
              "  'tv_96': 0.05471150204539299,\n",
              "  'tv_97': -0.043238550424575806,\n",
              "  'tv_98': -0.04333736374974251,\n",
              "  'tv_99': -0.02677108533680439})"
            ]
          },
          "metadata": {
            "tags": []
          },
          "execution_count": 100
        }
      ]
    },
    {
      "cell_type": "markdown",
      "metadata": {
        "id": "N_d3yYvVnfEB"
      },
      "source": [
        "#### 2.3.2. Define Interaction and User/Item Features"
      ]
    },
    {
      "cell_type": "code",
      "metadata": {
        "id": "v6hDWCbx3H7l"
      },
      "source": [
        "interactions, weights = dataset.build_interactions(ratings[\"user_movie_rating\"])\n",
        "\n",
        "item_features = dataset.build_item_features(item_tuple, normalize=False)"
      ],
      "execution_count": 98,
      "outputs": []
    },
    {
      "cell_type": "code",
      "metadata": {
        "colab": {
          "base_uri": "https://localhost:8080/"
        },
        "id": "l62Ye2My7H7a",
        "outputId": "a52c1cf8-2b48-4630-9ddc-104b733f2f2c"
      },
      "source": [
        "item_features"
      ],
      "execution_count": 50,
      "outputs": [
        {
          "output_type": "execute_result",
          "data": {
            "text/plain": [
              "<193609x193809 sparse matrix of type '<class 'numpy.float32'>'\n",
              "\twith 2142009 stored elements in Compressed Sparse Row format>"
            ]
          },
          "metadata": {
            "tags": []
          },
          "execution_count": 50
        }
      ]
    },
    {
      "cell_type": "markdown",
      "metadata": {
        "id": "fAJdsYQyn20d"
      },
      "source": [
        "### 2.4. Train LightFM"
      ]
    },
    {
      "cell_type": "code",
      "metadata": {
        "colab": {
          "base_uri": "https://localhost:8080/"
        },
        "id": "TrjNg27m7EYr",
        "outputId": "998f3588-a108-4b2b-90aa-05721bf03250"
      },
      "source": [
        "lightFM_trainer = TrainLightFM()\n",
        "\n",
        "# non_val_model = lightFM_trainer.fit(interactions, weights, user_features=None, item_features=item_features, cross_validation=False, no_components=150, learning_rate=0.05, loss=\"warp\", random_state=101, verbose=True, num_threads=4, epochs=5)\n",
        "val_model, train_interactions, test_interactions, train_weights, test_weights = lightFM_trainer.fit(interactions, weights, user_features=None, item_features=item_features, cross_validation=True, no_components=150, learning_rate=0.05, loss=\"warp\", random_state=101, verbose=True, num_threads=4, epochs=100)"
      ],
      "execution_count": null,
      "outputs": [
        {
          "output_type": "stream",
          "text": [
            "Epoch: 100%|██████████| 100/100 [04:24<00:00,  2.64s/it]\n"
          ],
          "name": "stderr"
        }
      ]
    },
    {
      "cell_type": "markdown",
      "metadata": {
        "id": "oyGdijbtoQNF"
      },
      "source": [
        "### 2.5. Make a Recommendation using LightFM\n",
        "#### 2.5.1. Result Validation"
      ]
    },
    {
      "cell_type": "code",
      "metadata": {
        "colab": {
          "base_uri": "https://localhost:8080/"
        },
        "id": "8EI2BORoNmZE",
        "outputId": "e438ff6b-8c0e-4b55-af07-556e0aa843a7"
      },
      "source": [
        "calculate_auc_score(val_model, train_interactions, item_features, None)"
      ],
      "execution_count": null,
      "outputs": [
        {
          "output_type": "execute_result",
          "data": {
            "text/plain": [
              "0.999658"
            ]
          },
          "metadata": {
            "tags": []
          },
          "execution_count": 86
        }
      ]
    },
    {
      "cell_type": "code",
      "metadata": {
        "colab": {
          "base_uri": "https://localhost:8080/"
        },
        "id": "44WAstHXNqNg",
        "outputId": "c5b773e3-aa1f-4a67-f85c-848f0c3309ea"
      },
      "source": [
        "calculate_auc_score(val_model, test_interactions, item_features, None)"
      ],
      "execution_count": null,
      "outputs": [
        {
          "output_type": "execute_result",
          "data": {
            "text/plain": [
              "0.9875042"
            ]
          },
          "metadata": {
            "tags": []
          },
          "execution_count": 88
        }
      ]
    },
    {
      "cell_type": "code",
      "metadata": {
        "colab": {
          "base_uri": "https://localhost:8080/"
        },
        "id": "N1Iqp3emNtSY",
        "outputId": "93123209-0208-4eb3-c800-46e800d12e77"
      },
      "source": [
        "### epoch 100\n",
        "%%time\n",
        "precision_at_k(val_model,train_interactions,item_features=item_features).mean()"
      ],
      "execution_count": null,
      "outputs": [
        {
          "output_type": "stream",
          "text": [
            "CPU times: user 2min 54s, sys: 8.17 ms, total: 2min 54s\n",
            "Wall time: 2min 55s\n"
          ],
          "name": "stdout"
        },
        {
          "output_type": "execute_result",
          "data": {
            "text/plain": [
              "0.6034426"
            ]
          },
          "metadata": {
            "tags": []
          },
          "execution_count": 89
        }
      ]
    },
    {
      "cell_type": "code",
      "metadata": {
        "colab": {
          "base_uri": "https://localhost:8080/"
        },
        "id": "RPLf9SRUNxN6",
        "outputId": "233b862f-ed45-454d-c87b-c0f8eca9aff6"
      },
      "source": [
        "### epoch 100\n",
        "%%time\n",
        "precision_at_k(val_model,test_interactions, train_interactions,item_features=item_features).mean()"
      ],
      "execution_count": null,
      "outputs": [
        {
          "output_type": "stream",
          "text": [
            "CPU times: user 2min 43s, sys: 8.15 ms, total: 2min 43s\n",
            "Wall time: 2min 43s\n"
          ],
          "name": "stdout"
        },
        {
          "output_type": "execute_result",
          "data": {
            "text/plain": [
              "0.21262297"
            ]
          },
          "metadata": {
            "tags": []
          },
          "execution_count": 90
        }
      ]
    },
    {
      "cell_type": "markdown",
      "metadata": {
        "id": "SVwCkDNSoUWc"
      },
      "source": [
        "#### 2.5.2. Make a Recommendation"
      ]
    },
    {
      "cell_type": "code",
      "metadata": {
        "colab": {
          "base_uri": "https://localhost:8080/"
        },
        "id": "s2lZssG6NzuY",
        "outputId": "1ba3406f-22f9-4b49-c8bc-142ee8f11f48"
      },
      "source": [
        "lightFM_recommender = LightFMRecommendations(val_model,None,item_features,movies,ratings)\n",
        "movies_for_prediction_F = lightFM_recommender.recommend_by_user_id(user_id=0,filter_previous=False,num_prediction=10)\n",
        "movies_for_prediction_T = lightFM_recommender.recommend_by_user_id(0,True,10)"
      ],
      "execution_count": null,
      "outputs": [
        {
          "output_type": "stream",
          "text": [
            "/usr/local/lib/python3.6/dist-packages/ipykernel_launcher.py:33: SettingWithCopyWarning: \n",
            "A value is trying to be set on a copy of a slice from a DataFrame.\n",
            "Try using .loc[row_indexer,col_indexer] = value instead\n",
            "\n",
            "See the caveats in the documentation: https://pandas.pydata.org/pandas-docs/stable/user_guide/indexing.html#returning-a-view-versus-a-copy\n"
          ],
          "name": "stderr"
        }
      ]
    },
    {
      "cell_type": "code",
      "metadata": {
        "colab": {
          "base_uri": "https://localhost:8080/",
          "height": 974
        },
        "id": "SXlLWBKjN2Zw",
        "outputId": "e82c5529-8769-455b-eb91-3cae9ffe7f36"
      },
      "source": [
        "movies_for_prediction_F"
      ],
      "execution_count": null,
      "outputs": [
        {
          "output_type": "execute_result",
          "data": {
            "text/html": [
              "<div>\n",
              "<style scoped>\n",
              "    .dataframe tbody tr th:only-of-type {\n",
              "        vertical-align: middle;\n",
              "    }\n",
              "\n",
              "    .dataframe tbody tr th {\n",
              "        vertical-align: top;\n",
              "    }\n",
              "\n",
              "    .dataframe thead th {\n",
              "        text-align: right;\n",
              "    }\n",
              "</style>\n",
              "<table border=\"1\" class=\"dataframe\">\n",
              "  <thead>\n",
              "    <tr style=\"text-align: right;\">\n",
              "      <th></th>\n",
              "      <th>movieId</th>\n",
              "      <th>title</th>\n",
              "      <th>genres</th>\n",
              "      <th>genres_vectors</th>\n",
              "      <th>launch_year</th>\n",
              "      <th>movie_title</th>\n",
              "      <th>launch_year_vectors</th>\n",
              "      <th>title_vector</th>\n",
              "      <th>recommendation_score</th>\n",
              "    </tr>\n",
              "  </thead>\n",
              "  <tbody>\n",
              "    <tr>\n",
              "      <th>815</th>\n",
              "      <td>1072</td>\n",
              "      <td>Willy Wonka &amp; the Chocolate Factory (1971)</td>\n",
              "      <td>Children|Comedy|Fantasy|Musical</td>\n",
              "      <td>[0, 0, 0, 0, 1, 1, 0, 0, 0, 1, 0, 0, 0, 1, 0, ...</td>\n",
              "      <td>1971</td>\n",
              "      <td>Willy Wonka &amp; the Chocolate Factory</td>\n",
              "      <td>[0, 0, 0, 0, 0, 0, 0, 0, 0, 0, 0, 0, 0, 0, 0, ...</td>\n",
              "      <td>[0.0025171497836709023, 0.11365289986133575, -...</td>\n",
              "      <td>2.989305</td>\n",
              "    </tr>\n",
              "    <tr>\n",
              "      <th>224</th>\n",
              "      <td>259</td>\n",
              "      <td>Star Wars: Episode IV - A New Hope (1977)</td>\n",
              "      <td>Action|Adventure|Sci-Fi</td>\n",
              "      <td>[0, 1, 1, 0, 0, 0, 0, 0, 0, 0, 0, 0, 0, 0, 0, ...</td>\n",
              "      <td>1977</td>\n",
              "      <td>Star Wars: Episode IV - A New Hope</td>\n",
              "      <td>[0, 0, 0, 0, 0, 0, 0, 0, 0, 0, 0, 0, 0, 0, 0, ...</td>\n",
              "      <td>[0.01621856726706028, 0.19248980283737183, 0.0...</td>\n",
              "      <td>2.794700</td>\n",
              "    </tr>\n",
              "    <tr>\n",
              "      <th>911</th>\n",
              "      <td>1209</td>\n",
              "      <td>Star Wars: Episode VI - Return of the Jedi (1983)</td>\n",
              "      <td>Action|Adventure|Sci-Fi</td>\n",
              "      <td>[0, 1, 1, 0, 0, 0, 0, 0, 0, 0, 0, 0, 0, 0, 0, ...</td>\n",
              "      <td>1983</td>\n",
              "      <td>Star Wars: Episode VI - Return of the Jedi</td>\n",
              "      <td>[0, 0, 0, 0, 0, 0, 0, 0, 0, 0, 0, 0, 0, 0, 0, ...</td>\n",
              "      <td>[0.028825968503952026, 0.17170323431491852, -0...</td>\n",
              "      <td>2.615184</td>\n",
              "    </tr>\n",
              "    <tr>\n",
              "      <th>898</th>\n",
              "      <td>1195</td>\n",
              "      <td>Star Wars: Episode V - The Empire Strikes Back...</td>\n",
              "      <td>Action|Adventure|Sci-Fi</td>\n",
              "      <td>[0, 1, 1, 0, 0, 0, 0, 0, 0, 0, 0, 0, 0, 0, 0, ...</td>\n",
              "      <td>1980</td>\n",
              "      <td>Star Wars: Episode V - The Empire Strikes Back</td>\n",
              "      <td>[0, 0, 0, 0, 0, 0, 0, 0, 0, 0, 0, 0, 0, 0, 0, ...</td>\n",
              "      <td>[0.006401954684406519, 0.15503838658332825, -0...</td>\n",
              "      <td>2.563305</td>\n",
              "    </tr>\n",
              "    <tr>\n",
              "      <th>984</th>\n",
              "      <td>1284</td>\n",
              "      <td>Heathers (1989)</td>\n",
              "      <td>Comedy</td>\n",
              "      <td>[0, 0, 0, 0, 0, 1, 0, 0, 0, 0, 0, 0, 0, 0, 0, ...</td>\n",
              "      <td>1989</td>\n",
              "      <td>Heathers</td>\n",
              "      <td>[0, 0, 0, 0, 0, 0, 0, 0, 0, 0, 0, 0, 0, 0, 0, ...</td>\n",
              "      <td>[0.0, 0.0, 0.0, 0.0, 0.0, 0.0, 0.0, 0.0, 0.0, ...</td>\n",
              "      <td>2.400512</td>\n",
              "    </tr>\n",
              "    <tr>\n",
              "      <th>2250</th>\n",
              "      <td>2986</td>\n",
              "      <td>Who Framed Roger Rabbit? (1988)</td>\n",
              "      <td>Adventure|Animation|Children|Comedy|Crime|Fant...</td>\n",
              "      <td>[0, 0, 1, 1, 1, 1, 1, 0, 0, 1, 0, 0, 0, 0, 1, ...</td>\n",
              "      <td>1988</td>\n",
              "      <td>Who Framed Roger Rabbit?</td>\n",
              "      <td>[0, 0, 0, 0, 0, 0, 0, 0, 0, 0, 0, 0, 0, 0, 0, ...</td>\n",
              "      <td>[0.00496014766395092, 0.15055891871452332, 0.0...</td>\n",
              "      <td>2.328219</td>\n",
              "    </tr>\n",
              "    <tr>\n",
              "      <th>546</th>\n",
              "      <td>647</td>\n",
              "      <td>Mission: Impossible (1996)</td>\n",
              "      <td>Action|Adventure|Mystery|Thriller</td>\n",
              "      <td>[0, 1, 1, 0, 0, 0, 0, 0, 0, 0, 0, 0, 0, 0, 1, ...</td>\n",
              "      <td>1996</td>\n",
              "      <td>Mission: Impossible</td>\n",
              "      <td>[0, 0, 0, 0, 0, 0, 0, 0, 0, 0, 0, 0, 0, 0, 0, ...</td>\n",
              "      <td>[0.006374205928295851, 0.11897297948598862, -0...</td>\n",
              "      <td>2.291911</td>\n",
              "    </tr>\n",
              "    <tr>\n",
              "      <th>1261</th>\n",
              "      <td>1675</td>\n",
              "      <td>Starship Troopers (1997)</td>\n",
              "      <td>Action|Sci-Fi</td>\n",
              "      <td>[0, 1, 0, 0, 0, 0, 0, 0, 0, 0, 0, 0, 0, 0, 0, ...</td>\n",
              "      <td>1997</td>\n",
              "      <td>Starship Troopers</td>\n",
              "      <td>[0, 0, 0, 0, 0, 0, 0, 0, 0, 0, 0, 0, 0, 0, 0, ...</td>\n",
              "      <td>[-0.01422899030148983, 0.020406311377882957, 0...</td>\n",
              "      <td>2.285181</td>\n",
              "    </tr>\n",
              "    <tr>\n",
              "      <th>1979</th>\n",
              "      <td>2627</td>\n",
              "      <td>Star Wars: Episode I - The Phantom Menace (1999)</td>\n",
              "      <td>Action|Adventure|Sci-Fi</td>\n",
              "      <td>[0, 1, 1, 0, 0, 0, 0, 0, 0, 0, 0, 0, 0, 0, 0, ...</td>\n",
              "      <td>1999</td>\n",
              "      <td>Star Wars: Episode I - The Phantom Menace</td>\n",
              "      <td>[0, 0, 0, 0, 0, 0, 0, 0, 0, 0, 0, 0, 0, 0, 0, ...</td>\n",
              "      <td>[0.0254085510969162, 0.18372735381126404, -0.0...</td>\n",
              "      <td>2.230127</td>\n",
              "    </tr>\n",
              "    <tr>\n",
              "      <th>915</th>\n",
              "      <td>1213</td>\n",
              "      <td>Alien (1979)</td>\n",
              "      <td>Horror|Sci-Fi</td>\n",
              "      <td>[0, 0, 0, 0, 0, 0, 0, 0, 0, 0, 0, 1, 0, 0, 0, ...</td>\n",
              "      <td>1979</td>\n",
              "      <td>Alien</td>\n",
              "      <td>[0, 0, 0, 0, 0, 0, 0, 0, 0, 0, 0, 0, 0, 0, 0, ...</td>\n",
              "      <td>[0.06481888145208359, 0.1306486278772354, 0.04...</td>\n",
              "      <td>2.170139</td>\n",
              "    </tr>\n",
              "  </tbody>\n",
              "</table>\n",
              "</div>"
            ],
            "text/plain": [
              "      movieId  ... recommendation_score\n",
              "815      1072  ...             2.989305\n",
              "224       259  ...             2.794700\n",
              "911      1209  ...             2.615184\n",
              "898      1195  ...             2.563305\n",
              "984      1284  ...             2.400512\n",
              "2250     2986  ...             2.328219\n",
              "546       647  ...             2.291911\n",
              "1261     1675  ...             2.285181\n",
              "1979     2627  ...             2.230127\n",
              "915      1213  ...             2.170139\n",
              "\n",
              "[10 rows x 9 columns]"
            ]
          },
          "metadata": {
            "tags": []
          },
          "execution_count": 92
        }
      ]
    },
    {
      "cell_type": "code",
      "metadata": {
        "colab": {
          "base_uri": "https://localhost:8080/",
          "height": 736
        },
        "id": "Mhm5emJ2N3d4",
        "outputId": "8bafc3cc-6dd4-4861-ae5d-7d34354cce3f"
      },
      "source": [
        "movies_for_prediction_T"
      ],
      "execution_count": null,
      "outputs": [
        {
          "output_type": "execute_result",
          "data": {
            "text/html": [
              "<div>\n",
              "<style scoped>\n",
              "    .dataframe tbody tr th:only-of-type {\n",
              "        vertical-align: middle;\n",
              "    }\n",
              "\n",
              "    .dataframe tbody tr th {\n",
              "        vertical-align: top;\n",
              "    }\n",
              "\n",
              "    .dataframe thead th {\n",
              "        text-align: right;\n",
              "    }\n",
              "</style>\n",
              "<table border=\"1\" class=\"dataframe\">\n",
              "  <thead>\n",
              "    <tr style=\"text-align: right;\">\n",
              "      <th></th>\n",
              "      <th>movieId</th>\n",
              "      <th>title</th>\n",
              "      <th>genres</th>\n",
              "      <th>genres_vectors</th>\n",
              "      <th>launch_year</th>\n",
              "      <th>movie_title</th>\n",
              "      <th>launch_year_vectors</th>\n",
              "      <th>title_vector</th>\n",
              "      <th>recommendation_score</th>\n",
              "    </tr>\n",
              "  </thead>\n",
              "  <tbody>\n",
              "    <tr>\n",
              "      <th>984</th>\n",
              "      <td>1284</td>\n",
              "      <td>Heathers (1989)</td>\n",
              "      <td>Comedy</td>\n",
              "      <td>[0, 0, 0, 0, 0, 1, 0, 0, 0, 0, 0, 0, 0, 0, 0, ...</td>\n",
              "      <td>1989</td>\n",
              "      <td>Heathers</td>\n",
              "      <td>[0, 0, 0, 0, 0, 0, 0, 0, 0, 0, 0, 0, 0, 0, 0, ...</td>\n",
              "      <td>[0.0, 0.0, 0.0, 0.0, 0.0, 0.0, 0.0, 0.0, 0.0, ...</td>\n",
              "      <td>2.400512</td>\n",
              "    </tr>\n",
              "    <tr>\n",
              "      <th>793</th>\n",
              "      <td>1035</td>\n",
              "      <td>Die Hard (1988)</td>\n",
              "      <td>Action|Crime|Thriller</td>\n",
              "      <td>[0, 1, 0, 0, 0, 0, 1, 0, 0, 0, 0, 0, 0, 0, 0, ...</td>\n",
              "      <td>1988</td>\n",
              "      <td>Die Hard</td>\n",
              "      <td>[0, 0, 0, 0, 0, 0, 0, 0, 0, 0, 0, 0, 0, 0, 0, ...</td>\n",
              "      <td>[0.011233877390623093, 0.1401021033525467, -0....</td>\n",
              "      <td>2.081971</td>\n",
              "    </tr>\n",
              "    <tr>\n",
              "      <th>1164</th>\n",
              "      <td>1543</td>\n",
              "      <td>Lost World: Jurassic Park, The (1997)</td>\n",
              "      <td>Action|Adventure|Sci-Fi|Thriller</td>\n",
              "      <td>[0, 1, 1, 0, 0, 0, 0, 0, 0, 0, 0, 0, 0, 0, 0, ...</td>\n",
              "      <td>1997</td>\n",
              "      <td>Lost World: Jurassic Park, The</td>\n",
              "      <td>[0, 0, 0, 0, 0, 0, 0, 0, 0, 0, 0, 0, 0, 0, 0, ...</td>\n",
              "      <td>[0.03216763958334923, 0.16337978839874268, -0....</td>\n",
              "      <td>2.081262</td>\n",
              "    </tr>\n",
              "    <tr>\n",
              "      <th>2097</th>\n",
              "      <td>2790</td>\n",
              "      <td>Airplane! (1980)</td>\n",
              "      <td>Comedy</td>\n",
              "      <td>[0, 0, 0, 0, 0, 1, 0, 0, 0, 0, 0, 0, 0, 0, 0, ...</td>\n",
              "      <td>1980</td>\n",
              "      <td>Airplane!</td>\n",
              "      <td>[0, 0, 0, 0, 0, 0, 0, 0, 0, 0, 0, 0, 0, 0, 0, ...</td>\n",
              "      <td>[0.013136067427694798, 0.14313171803951263, -0...</td>\n",
              "      <td>2.024816</td>\n",
              "    </tr>\n",
              "    <tr>\n",
              "      <th>2110</th>\n",
              "      <td>2803</td>\n",
              "      <td>Christmas Story, A (1983)</td>\n",
              "      <td>Children|Comedy</td>\n",
              "      <td>[0, 0, 0, 0, 1, 1, 0, 0, 0, 0, 0, 0, 0, 0, 0, ...</td>\n",
              "      <td>1983</td>\n",
              "      <td>Christmas Story, A</td>\n",
              "      <td>[0, 0, 0, 0, 0, 0, 0, 0, 0, 0, 0, 0, 0, 0, 0, ...</td>\n",
              "      <td>[0.06508201360702515, 0.24179835617542267, 0.0...</td>\n",
              "      <td>1.871940</td>\n",
              "    </tr>\n",
              "    <tr>\n",
              "      <th>2027</th>\n",
              "      <td>2698</td>\n",
              "      <td>Arachnophobia (1990)</td>\n",
              "      <td>Comedy|Horror</td>\n",
              "      <td>[0, 0, 0, 0, 0, 1, 0, 0, 0, 0, 0, 1, 0, 0, 0, ...</td>\n",
              "      <td>1990</td>\n",
              "      <td>Arachnophobia</td>\n",
              "      <td>[0, 0, 0, 0, 0, 0, 0, 0, 0, 0, 0, 0, 0, 0, 0, ...</td>\n",
              "      <td>[0.0, 0.0, 0.0, 0.0, 0.0, 0.0, 0.0, 0.0, 0.0, ...</td>\n",
              "      <td>1.831845</td>\n",
              "    </tr>\n",
              "    <tr>\n",
              "      <th>1404</th>\n",
              "      <td>1922</td>\n",
              "      <td>There's Something About Mary (1998)</td>\n",
              "      <td>Comedy|Romance</td>\n",
              "      <td>[0, 0, 0, 0, 0, 1, 0, 0, 0, 0, 0, 0, 0, 0, 0, ...</td>\n",
              "      <td>1998</td>\n",
              "      <td>There's Something About Mary</td>\n",
              "      <td>[0, 0, 0, 0, 0, 0, 0, 0, 0, 0, 0, 0, 0, 0, 0, ...</td>\n",
              "      <td>[-0.011143731884658337, 0.18981213867664337, 0...</td>\n",
              "      <td>1.807715</td>\n",
              "    </tr>\n",
              "    <tr>\n",
              "      <th>1033</th>\n",
              "      <td>1344</td>\n",
              "      <td>Carrie (1976)</td>\n",
              "      <td>Drama|Fantasy|Horror|Thriller</td>\n",
              "      <td>[0, 0, 0, 0, 0, 0, 0, 0, 1, 1, 0, 1, 0, 0, 0, ...</td>\n",
              "      <td>1976</td>\n",
              "      <td>Carrie</td>\n",
              "      <td>[0, 0, 0, 0, 0, 0, 0, 0, 0, 0, 0, 0, 0, 0, 0, ...</td>\n",
              "      <td>[-0.004675279371440411, 0.014128515496850014, ...</td>\n",
              "      <td>1.775203</td>\n",
              "    </tr>\n",
              "    <tr>\n",
              "      <th>1563</th>\n",
              "      <td>2099</td>\n",
              "      <td>Splash (1984)</td>\n",
              "      <td>Comedy|Fantasy|Romance</td>\n",
              "      <td>[0, 0, 0, 0, 0, 1, 0, 0, 0, 1, 0, 0, 0, 0, 0, ...</td>\n",
              "      <td>1984</td>\n",
              "      <td>Splash</td>\n",
              "      <td>[0, 0, 0, 0, 0, 0, 0, 0, 0, 0, 0, 0, 0, 0, 0, ...</td>\n",
              "      <td>[0.0, 0.0, 0.0, 0.0, 0.0, 0.0, 0.0, 0.0, 0.0, ...</td>\n",
              "      <td>1.699896</td>\n",
              "    </tr>\n",
              "    <tr>\n",
              "      <th>1158</th>\n",
              "      <td>1526</td>\n",
              "      <td>Fifth Element, The (1997)</td>\n",
              "      <td>Action|Adventure|Comedy|Sci-Fi</td>\n",
              "      <td>[0, 1, 1, 0, 0, 1, 0, 0, 0, 0, 0, 0, 0, 0, 0, ...</td>\n",
              "      <td>1997</td>\n",
              "      <td>Fifth Element, The</td>\n",
              "      <td>[0, 0, 0, 0, 0, 0, 0, 0, 0, 0, 0, 0, 0, 0, 0, ...</td>\n",
              "      <td>[0.04174690321087837, 0.14015807211399078, -0....</td>\n",
              "      <td>1.661327</td>\n",
              "    </tr>\n",
              "  </tbody>\n",
              "</table>\n",
              "</div>"
            ],
            "text/plain": [
              "      movieId  ... recommendation_score\n",
              "984      1284  ...             2.400512\n",
              "793      1035  ...             2.081971\n",
              "1164     1543  ...             2.081262\n",
              "2097     2790  ...             2.024816\n",
              "2110     2803  ...             1.871940\n",
              "2027     2698  ...             1.831845\n",
              "1404     1922  ...             1.807715\n",
              "1033     1344  ...             1.775203\n",
              "1563     2099  ...             1.699896\n",
              "1158     1526  ...             1.661327\n",
              "\n",
              "[10 rows x 9 columns]"
            ]
          },
          "metadata": {
            "tags": []
          },
          "execution_count": 93
        }
      ]
    },
    {
      "cell_type": "markdown",
      "metadata": {
        "id": "GXwXfJLR1TnS"
      },
      "source": [
        "## 3. LightFM Using Categorical and Numerical Data\n",
        "\n",
        "### 3.1. Reference\n",
        "https://github.com/lyst/lightfm/issues/565\n",
        "\n",
        "시행 착오를 거쳐 두 가지 타입의 데이터를 모두 학습시키기 위해서는 2번 방식으로 데이터를 넣어야 한다. 그러나, FM자체가 One-Hot Encoding 방식으로 column-wise하게 값을 분산하여 각 컬럼간의 interaction을 통해 진행하므로 Continuous한 방식은 사용하지 않는 것을 추천한다. \n",
        "1. (item id, [list of feature names]) \n",
        "2. (item id, {feature name: feature weight})\n",
        "\n",
        "1번 방식으로 넣었던 Categorical Data도 2번 방식으로 변환하여 Data를 변환한다."
      ]
    },
    {
      "cell_type": "code",
      "metadata": {
        "id": "C6fEfN3ON4Jt"
      },
      "source": [
        "gnr_vec_cols = [ \"gv_{}\".format(i) for i in range(len_gnr_vec)]\n",
        "year_vec_cols = [ \"yv_{}\".format(i) for i in range(len_year_vec)]\n",
        "title_vec_cols = [ \"tv_{}\".format(i) for i in range(len_title_vec)]\n",
        "\n",
        "# list_if = [ gnr_vec+\":\"+\"{}\".format(i) for gnr_vec in gnr_vec_cols for i in range(2)] + [ year_vec+\":\"+\"{}\".format(i) for year_vec in year_vec_cols for i in range(2)] + title_vec_cols\n",
        "list_if = gnr_vec_cols + year_vec_cols + title_vec_cols"
      ],
      "execution_count": 50,
      "outputs": []
    },
    {
      "cell_type": "code",
      "metadata": {
        "id": "fM3a7rDR1wbO"
      },
      "source": [
        "# gnr_vec_list = list(map(lambda x: [ \"{}\".format(gnr_vec_cols[idx])+\":\"+\"{}\".format(value) for idx,value in enumerate(x)] ,movies.genres_vectors.to_list()))\n",
        "# year_vec_list = list(map(lambda x: [ \"{}\".format(year_vec_cols[idx])+\":\"+\"{}\".format(value) for idx,value in enumerate(x)] ,movies.launch_year_vectors.to_list()))"
      ],
      "execution_count": 51,
      "outputs": []
    },
    {
      "cell_type": "code",
      "metadata": {
        "colab": {
          "base_uri": "https://localhost:8080/",
          "height": 204
        },
        "id": "b3jvoKBWCzKc",
        "outputId": "709a3dc2-bdfc-4556-b4ee-28ea17388984"
      },
      "source": [
        "movies.head()"
      ],
      "execution_count": 52,
      "outputs": [
        {
          "output_type": "execute_result",
          "data": {
            "text/html": [
              "<div>\n",
              "<style scoped>\n",
              "    .dataframe tbody tr th:only-of-type {\n",
              "        vertical-align: middle;\n",
              "    }\n",
              "\n",
              "    .dataframe tbody tr th {\n",
              "        vertical-align: top;\n",
              "    }\n",
              "\n",
              "    .dataframe thead th {\n",
              "        text-align: right;\n",
              "    }\n",
              "</style>\n",
              "<table border=\"1\" class=\"dataframe\">\n",
              "  <thead>\n",
              "    <tr style=\"text-align: right;\">\n",
              "      <th></th>\n",
              "      <th>movieId</th>\n",
              "      <th>title</th>\n",
              "      <th>genres</th>\n",
              "      <th>genres_vectors</th>\n",
              "      <th>launch_year</th>\n",
              "      <th>movie_title</th>\n",
              "      <th>launch_year_vectors</th>\n",
              "      <th>title_vector</th>\n",
              "    </tr>\n",
              "  </thead>\n",
              "  <tbody>\n",
              "    <tr>\n",
              "      <th>0</th>\n",
              "      <td>0</td>\n",
              "      <td>Toy Story (1995)</td>\n",
              "      <td>Adventure|Animation|Children|Comedy|Fantasy</td>\n",
              "      <td>[0, 0, 1, 1, 1, 1, 0, 0, 0, 1, 0, 0, 0, 0, 0, ...</td>\n",
              "      <td>1995</td>\n",
              "      <td>Toy Story</td>\n",
              "      <td>[0, 0, 0, 0, 0, 0, 0, 0, 0, 0, 0, 0, 0, 0, 0, ...</td>\n",
              "      <td>[0.07315196096897125, 0.03338630869984627, -0....</td>\n",
              "    </tr>\n",
              "    <tr>\n",
              "      <th>1</th>\n",
              "      <td>1</td>\n",
              "      <td>Jumanji (1995)</td>\n",
              "      <td>Adventure|Children|Fantasy</td>\n",
              "      <td>[0, 0, 1, 0, 1, 0, 0, 0, 0, 1, 0, 0, 0, 0, 0, ...</td>\n",
              "      <td>1995</td>\n",
              "      <td>Jumanji</td>\n",
              "      <td>[0, 0, 0, 0, 0, 0, 0, 0, 0, 0, 0, 0, 0, 0, 0, ...</td>\n",
              "      <td>[0.012492736801505089, -0.0013318296987563372,...</td>\n",
              "    </tr>\n",
              "    <tr>\n",
              "      <th>2</th>\n",
              "      <td>2</td>\n",
              "      <td>Grumpier Old Men (1995)</td>\n",
              "      <td>Comedy|Romance</td>\n",
              "      <td>[0, 0, 0, 0, 0, 1, 0, 0, 0, 0, 0, 0, 0, 0, 0, ...</td>\n",
              "      <td>1995</td>\n",
              "      <td>Grumpier Old Men</td>\n",
              "      <td>[0, 0, 0, 0, 0, 0, 0, 0, 0, 0, 0, 0, 0, 0, 0, ...</td>\n",
              "      <td>[0.1090451180934906, 0.04261535033583641, -0.0...</td>\n",
              "    </tr>\n",
              "    <tr>\n",
              "      <th>3</th>\n",
              "      <td>3</td>\n",
              "      <td>Waiting to Exhale (1995)</td>\n",
              "      <td>Comedy|Drama|Romance</td>\n",
              "      <td>[0, 0, 0, 0, 0, 1, 0, 0, 1, 0, 0, 0, 0, 0, 0, ...</td>\n",
              "      <td>1995</td>\n",
              "      <td>Waiting to Exhale</td>\n",
              "      <td>[0, 0, 0, 0, 0, 0, 0, 0, 0, 0, 0, 0, 0, 0, 0, ...</td>\n",
              "      <td>[0.09161976724863052, 0.05943426117300987, -0....</td>\n",
              "    </tr>\n",
              "    <tr>\n",
              "      <th>4</th>\n",
              "      <td>4</td>\n",
              "      <td>Father of the Bride Part II (1995)</td>\n",
              "      <td>Comedy</td>\n",
              "      <td>[0, 0, 0, 0, 0, 1, 0, 0, 0, 0, 0, 0, 0, 0, 0, ...</td>\n",
              "      <td>1995</td>\n",
              "      <td>Father of the Bride Part II</td>\n",
              "      <td>[0, 0, 0, 0, 0, 0, 0, 0, 0, 0, 0, 0, 0, 0, 0, ...</td>\n",
              "      <td>[0.1521586775779724, 0.08280359953641891, -0.0...</td>\n",
              "    </tr>\n",
              "  </tbody>\n",
              "</table>\n",
              "</div>"
            ],
            "text/plain": [
              "   movieId  ...                                       title_vector\n",
              "0        0  ...  [0.07315196096897125, 0.03338630869984627, -0....\n",
              "1        1  ...  [0.012492736801505089, -0.0013318296987563372,...\n",
              "2        2  ...  [0.1090451180934906, 0.04261535033583641, -0.0...\n",
              "3        3  ...  [0.09161976724863052, 0.05943426117300987, -0....\n",
              "4        4  ...  [0.1521586775779724, 0.08280359953641891, -0.0...\n",
              "\n",
              "[5 rows x 8 columns]"
            ]
          },
          "metadata": {
            "tags": []
          },
          "execution_count": 52
        }
      ]
    },
    {
      "cell_type": "code",
      "metadata": {
        "id": "Be-UBw2G3Di4"
      },
      "source": [
        "def make_dict(list_x,vec_cols):\n",
        "  dict_result = dict()\n",
        "  for idx, element in enumerate(list_x):\n",
        "    vec_col = vec_cols[idx]\n",
        "    dict_result[vec_col] = element\n",
        "  return dict_result\n",
        "\n",
        "gnr_vec_list = list(map(lambda x: make_dict(x,gnr_vec_cols), movies.genres_vectors.to_list()))\n",
        "year_vec_list = list(map(lambda x: make_dict(x,year_vec_cols), movies.launch_year_vectors.to_list()))\n",
        "title_vec_list = list(map(lambda x: make_dict(x,title_vec_cols), movies.title_vector.to_list()))"
      ],
      "execution_count": 53,
      "outputs": []
    },
    {
      "cell_type": "code",
      "metadata": {
        "id": "bP4xqsVKC93w"
      },
      "source": [
        "dummy = gnr_vec_list +year_vec_list + title_vec_list"
      ],
      "execution_count": 54,
      "outputs": []
    },
    {
      "cell_type": "code",
      "metadata": {
        "colab": {
          "base_uri": "https://localhost:8080/"
        },
        "id": "5phzIz5T3HOQ",
        "outputId": "737394b5-9fa3-4ef4-f4e7-631046b4420f"
      },
      "source": [
        "item_vec_list = np.concatenate([np.array(gnr_vec_list).reshape(-1,1), np.array(year_vec_list).reshape(-1,1),np.array(title_vec_list).reshape(-1,1)],axis=1)\n",
        "item_vec_list.shape"
      ],
      "execution_count": 55,
      "outputs": [
        {
          "output_type": "execute_result",
          "data": {
            "text/plain": [
              "(9742, 3)"
            ]
          },
          "metadata": {
            "tags": []
          },
          "execution_count": 55
        }
      ]
    },
    {
      "cell_type": "code",
      "metadata": {
        "id": "psEkYEAbD13u"
      },
      "source": [
        "list_item_vec_dict = list()\n",
        "for dicts in item_vec_list:\n",
        "  new_dict = dict()\n",
        "  for element in dicts:\n",
        "    new_dict.update(element)\n",
        "  list_item_vec_dict.append(new_dict)"
      ],
      "execution_count": 56,
      "outputs": []
    },
    {
      "cell_type": "code",
      "metadata": {
        "id": "Ff3a1nbj26iV"
      },
      "source": [
        "item_tuple= list(zip(movies.movieId, list_item_vec_dict))"
      ],
      "execution_count": 57,
      "outputs": []
    },
    {
      "cell_type": "markdown",
      "metadata": {
        "id": "Vi4dOLJPpfJT"
      },
      "source": [
        "### 3.2. Data Preparation for LightFM Dataset\n",
        "\n",
        "#### 3.2.1. Define Dataset"
      ]
    },
    {
      "cell_type": "code",
      "metadata": {
        "id": "_W1NOYJ84vrj"
      },
      "source": [
        "from lightfm.data import Dataset\n",
        "\n",
        "dataset = Dataset()\n",
        "\n",
        "user_ids = [i for i in range(ratings.userId.max()+1)]\n",
        "movie_ids = [i for i in range(movies.movieId.max()+1)]\n",
        "\n",
        "dataset.fit(\n",
        "    user_ids,\n",
        "    movie_ids,\n",
        "    item_features = list_if\n",
        ")"
      ],
      "execution_count": 58,
      "outputs": []
    },
    {
      "cell_type": "code",
      "metadata": {
        "id": "HWREQxqV40lQ"
      },
      "source": [
        "user_id_map, user_feature_map, item_id_map, item_feature_map = dataset.mapping()"
      ],
      "execution_count": 59,
      "outputs": []
    },
    {
      "cell_type": "markdown",
      "metadata": {
        "id": "HQGP-3rhpmGf"
      },
      "source": [
        "#### 3.2.2. Define Interaction and User/Item Features"
      ]
    },
    {
      "cell_type": "code",
      "metadata": {
        "id": "YuKFwGMN49W-"
      },
      "source": [
        "interactions, weights = dataset.build_interactions(ratings[\"user_movie_rating\"])\n",
        "\n",
        "item_features = dataset.build_item_features(item_tuple, normalize=False)"
      ],
      "execution_count": 60,
      "outputs": []
    },
    {
      "cell_type": "code",
      "metadata": {
        "colab": {
          "base_uri": "https://localhost:8080/"
        },
        "id": "jvv6MadCFFZW",
        "outputId": "bd61f27a-64d9-47ce-c60b-1438f3b217f6"
      },
      "source": [
        "item_features"
      ],
      "execution_count": 61,
      "outputs": [
        {
          "output_type": "execute_result",
          "data": {
            "text/plain": [
              "<193609x193936 sparse matrix of type '<class 'numpy.float32'>'\n",
              "\twith 3379243 stored elements in Compressed Sparse Row format>"
            ]
          },
          "metadata": {
            "tags": []
          },
          "execution_count": 61
        }
      ]
    },
    {
      "cell_type": "markdown",
      "metadata": {
        "id": "id5LiZPxpuVJ"
      },
      "source": [
        "### 3.3. Train LightFM"
      ]
    },
    {
      "cell_type": "code",
      "metadata": {
        "colab": {
          "base_uri": "https://localhost:8080/"
        },
        "id": "JjsMCQVn8Or3",
        "outputId": "8f7711b3-e38d-4f03-b72c-81a3a6ce86fc"
      },
      "source": [
        "lightFM_trainer = TrainLightFM()\n",
        "\n",
        "# non_val_model = lightFM_trainer.fit(interactions, weights, user_features=None, item_features=item_features, cross_validation=False, no_components=150, learning_rate=0.05, loss=\"warp\", random_state=101, verbose=True, num_threads=4, epochs=5)\n",
        "val_model, train_interactions, test_interactions, train_weights, test_weights = lightFM_trainer.fit(interactions, weights, user_features=None, item_features=item_features, cross_validation=True, no_components=150, learning_rate=0.05, loss=\"warp\", random_state=101, verbose=True, num_threads=4, epochs=100)"
      ],
      "execution_count": 65,
      "outputs": [
        {
          "output_type": "stream",
          "text": [
            "Epoch: 100%|██████████| 100/100 [06:18<00:00,  3.79s/it]\n"
          ],
          "name": "stderr"
        }
      ]
    },
    {
      "cell_type": "code",
      "metadata": {
        "id": "LGOG5ItoF1ca"
      },
      "source": [
        "from lightfm.evaluation import auc_score\n",
        "from lightfm.evaluation import precision_at_k\n",
        "\n",
        "def calculate_auc_score(lightfm_model, interactions_matrix, \n",
        "                        question_features, professional_features): \n",
        "    \"\"\"\n",
        "    Measure the ROC AUC metric for a model. \n",
        "    A perfect score is 1.0.\n",
        "\n",
        "    Parameters\n",
        "    ----------\n",
        "    lightfm_model: LightFM model \n",
        "        A fitted lightfm model \n",
        "    interactions_matrix : \n",
        "        A lightfm interactions matrix \n",
        "    question_features, professional_features: \n",
        "        Lightfm features \n",
        "        \n",
        "    Returns\n",
        "    -------\n",
        "    String containing AUC score \n",
        "    \"\"\"\n",
        "    score = auc_score( \n",
        "        lightfm_model, interactions_matrix, \n",
        "        item_features=question_features, \n",
        "        user_features=professional_features, \n",
        "        num_threads=4).mean()\n",
        "    return score\n"
      ],
      "execution_count": 70,
      "outputs": []
    },
    {
      "cell_type": "markdown",
      "metadata": {
        "id": "Uz7HCeicp7qG"
      },
      "source": [
        "### 3.4. Make a Recommendation using LightFM\n",
        "#### 3.4.1. Result Validation"
      ]
    },
    {
      "cell_type": "code",
      "metadata": {
        "colab": {
          "base_uri": "https://localhost:8080/"
        },
        "id": "pubJh7HaF3Ex",
        "outputId": "accb1802-031a-44ec-df68-02ccf6d17726"
      },
      "source": [
        "%%time\n",
        "calculate_auc_score(val_model, train_interactions, item_features, None)"
      ],
      "execution_count": 67,
      "outputs": [
        {
          "output_type": "stream",
          "text": [
            "CPU times: user 7min 44s, sys: 110 ms, total: 7min 44s\n",
            "Wall time: 1min 57s\n"
          ],
          "name": "stdout"
        },
        {
          "output_type": "execute_result",
          "data": {
            "text/plain": [
              "0.9996857"
            ]
          },
          "metadata": {
            "tags": []
          },
          "execution_count": 67
        }
      ]
    },
    {
      "cell_type": "code",
      "metadata": {
        "colab": {
          "base_uri": "https://localhost:8080/"
        },
        "id": "vE5Obtr8F7BH",
        "outputId": "b90d1294-9f62-42cb-dd49-996c6c6ef182"
      },
      "source": [
        "%%time\n",
        "calculate_auc_score(val_model, test_interactions, item_features, None)"
      ],
      "execution_count": 68,
      "outputs": [
        {
          "output_type": "stream",
          "text": [
            "CPU times: user 7min 23s, sys: 107 ms, total: 7min 23s\n",
            "Wall time: 1min 51s\n"
          ],
          "name": "stdout"
        },
        {
          "output_type": "execute_result",
          "data": {
            "text/plain": [
              "0.99431473"
            ]
          },
          "metadata": {
            "tags": []
          },
          "execution_count": 68
        }
      ]
    },
    {
      "cell_type": "code",
      "metadata": {
        "colab": {
          "base_uri": "https://localhost:8080/"
        },
        "id": "Y3dXTJFNGDnq",
        "outputId": "1daecb0d-03b1-4482-a4a5-55cd5ab0f80f"
      },
      "source": [
        "### epoch 100\n",
        "%%time\n",
        "precision_at_k(val_model,train_interactions,item_features=item_features).mean()"
      ],
      "execution_count": 72,
      "outputs": [
        {
          "output_type": "stream",
          "text": [
            "CPU times: user 3min 57s, sys: 11.2 ms, total: 3min 57s\n",
            "Wall time: 3min 57s\n"
          ],
          "name": "stdout"
        },
        {
          "output_type": "execute_result",
          "data": {
            "text/plain": [
              "0.6147541"
            ]
          },
          "metadata": {
            "tags": []
          },
          "execution_count": 72
        }
      ]
    },
    {
      "cell_type": "code",
      "metadata": {
        "colab": {
          "base_uri": "https://localhost:8080/"
        },
        "id": "OAl5stR7qEdN",
        "outputId": "244ce1eb-da6a-4e45-d26f-5d8e81db4e3c"
      },
      "source": [
        "### epoch 100\n",
        "%%time\n",
        "precision_at_k(val_model,test_interactions, train_interactions,item_features=item_features).mean()"
      ],
      "execution_count": 78,
      "outputs": [
        {
          "output_type": "stream",
          "text": [
            "CPU times: user 3min 55s, sys: 13.1 ms, total: 3min 55s\n",
            "Wall time: 3min 55s\n"
          ],
          "name": "stdout"
        },
        {
          "output_type": "execute_result",
          "data": {
            "text/plain": [
              "0.23295084"
            ]
          },
          "metadata": {
            "tags": []
          },
          "execution_count": 78
        }
      ]
    },
    {
      "cell_type": "markdown",
      "metadata": {
        "id": "-qbVT2w1qBdH"
      },
      "source": [
        "#### 3.4.2. Make a Recommendation"
      ]
    },
    {
      "cell_type": "code",
      "metadata": {
        "colab": {
          "base_uri": "https://localhost:8080/"
        },
        "id": "WdaQwuuoGGHA",
        "outputId": "f629dc55-4e6d-4b13-9ebc-b8320fce4650"
      },
      "source": [
        "lightFM_recommender = LightFMRecommendations(val_model,None,item_features,movies,ratings)\n",
        "movies_for_prediction_F = lightFM_recommender.recommend_by_user_id(user_id=0,filter_previous=False,num_prediction=10)\n",
        "movies_for_prediction_T = lightFM_recommender.recommend_by_user_id(0,True,10)"
      ],
      "execution_count": 75,
      "outputs": [
        {
          "output_type": "stream",
          "text": [
            "/usr/local/lib/python3.6/dist-packages/ipykernel_launcher.py:33: SettingWithCopyWarning: \n",
            "A value is trying to be set on a copy of a slice from a DataFrame.\n",
            "Try using .loc[row_indexer,col_indexer] = value instead\n",
            "\n",
            "See the caveats in the documentation: https://pandas.pydata.org/pandas-docs/stable/user_guide/indexing.html#returning-a-view-versus-a-copy\n"
          ],
          "name": "stderr"
        }
      ]
    },
    {
      "cell_type": "code",
      "metadata": {
        "colab": {
          "base_uri": "https://localhost:8080/",
          "height": 529
        },
        "id": "bZyusbWFgALp",
        "outputId": "75d0b2d9-7403-442f-9b1f-c4306a4cde7c"
      },
      "source": [
        "movies_for_prediction_F"
      ],
      "execution_count": 76,
      "outputs": [
        {
          "output_type": "execute_result",
          "data": {
            "text/html": [
              "<div>\n",
              "<style scoped>\n",
              "    .dataframe tbody tr th:only-of-type {\n",
              "        vertical-align: middle;\n",
              "    }\n",
              "\n",
              "    .dataframe tbody tr th {\n",
              "        vertical-align: top;\n",
              "    }\n",
              "\n",
              "    .dataframe thead th {\n",
              "        text-align: right;\n",
              "    }\n",
              "</style>\n",
              "<table border=\"1\" class=\"dataframe\">\n",
              "  <thead>\n",
              "    <tr style=\"text-align: right;\">\n",
              "      <th></th>\n",
              "      <th>movieId</th>\n",
              "      <th>title</th>\n",
              "      <th>genres</th>\n",
              "      <th>genres_vectors</th>\n",
              "      <th>launch_year</th>\n",
              "      <th>movie_title</th>\n",
              "      <th>launch_year_vectors</th>\n",
              "      <th>title_vector</th>\n",
              "      <th>recommendation_score</th>\n",
              "    </tr>\n",
              "  </thead>\n",
              "  <tbody>\n",
              "    <tr>\n",
              "      <th>0</th>\n",
              "      <td>0</td>\n",
              "      <td>Toy Story (1995)</td>\n",
              "      <td>Adventure|Animation|Children|Comedy|Fantasy</td>\n",
              "      <td>[0, 0, 1, 1, 1, 1, 0, 0, 0, 1, 0, 0, 0, 0, 0, ...</td>\n",
              "      <td>1995</td>\n",
              "      <td>Toy Story</td>\n",
              "      <td>[0, 0, 0, 0, 0, 0, 0, 0, 0, 0, 0, 0, 0, 0, 0, ...</td>\n",
              "      <td>[0.07315196096897125, 0.03338630869984627, -0....</td>\n",
              "      <td>4.076505</td>\n",
              "    </tr>\n",
              "    <tr>\n",
              "      <th>224</th>\n",
              "      <td>259</td>\n",
              "      <td>Star Wars: Episode IV - A New Hope (1977)</td>\n",
              "      <td>Action|Adventure|Sci-Fi</td>\n",
              "      <td>[0, 1, 1, 0, 0, 0, 0, 0, 0, 0, 0, 0, 0, 0, 0, ...</td>\n",
              "      <td>1977</td>\n",
              "      <td>Star Wars: Episode IV - A New Hope</td>\n",
              "      <td>[0, 0, 0, 0, 0, 0, 0, 0, 0, 0, 0, 0, 0, 0, 0, ...</td>\n",
              "      <td>[0.13620348274707794, 0.058484263718128204, -0...</td>\n",
              "      <td>4.010240</td>\n",
              "    </tr>\n",
              "    <tr>\n",
              "      <th>900</th>\n",
              "      <td>1197</td>\n",
              "      <td>Raiders of the Lost Ark (Indiana Jones and the...</td>\n",
              "      <td>Action|Adventure</td>\n",
              "      <td>[0, 1, 1, 0, 0, 0, 0, 0, 0, 0, 0, 0, 0, 0, 0, ...</td>\n",
              "      <td>1981</td>\n",
              "      <td>Raiders of the Lost Ark (Indiana Jones and the...</td>\n",
              "      <td>[0, 0, 0, 0, 0, 0, 0, 0, 0, 0, 0, 0, 0, 0, 0, ...</td>\n",
              "      <td>[0.11251071095466614, 0.07434702664613724, -0....</td>\n",
              "      <td>3.745547</td>\n",
              "    </tr>\n",
              "    <tr>\n",
              "      <th>2355</th>\n",
              "      <td>3113</td>\n",
              "      <td>Toy Story 2 (1999)</td>\n",
              "      <td>Adventure|Animation|Children|Comedy|Fantasy</td>\n",
              "      <td>[0, 0, 1, 1, 1, 1, 0, 0, 0, 1, 0, 0, 0, 0, 0, ...</td>\n",
              "      <td>1999</td>\n",
              "      <td>Toy Story 2</td>\n",
              "      <td>[0, 0, 0, 0, 0, 0, 0, 0, 0, 0, 0, 0, 0, 0, 0, ...</td>\n",
              "      <td>[0.09340157359838486, 0.052457138895988464, -0...</td>\n",
              "      <td>3.721978</td>\n",
              "    </tr>\n",
              "    <tr>\n",
              "      <th>1503</th>\n",
              "      <td>2027</td>\n",
              "      <td>Saving Private Ryan (1998)</td>\n",
              "      <td>Action|Drama|War</td>\n",
              "      <td>[0, 1, 0, 0, 0, 0, 0, 0, 1, 0, 0, 0, 0, 0, 0, ...</td>\n",
              "      <td>1998</td>\n",
              "      <td>Saving Private Ryan</td>\n",
              "      <td>[0, 0, 0, 0, 0, 0, 0, 0, 0, 0, 0, 0, 0, 0, 0, ...</td>\n",
              "      <td>[0.04759332165122032, 0.008753746747970581, -0...</td>\n",
              "      <td>3.544369</td>\n",
              "    </tr>\n",
              "    <tr>\n",
              "      <th>815</th>\n",
              "      <td>1072</td>\n",
              "      <td>Willy Wonka &amp; the Chocolate Factory (1971)</td>\n",
              "      <td>Children|Comedy|Fantasy|Musical</td>\n",
              "      <td>[0, 0, 0, 0, 1, 1, 0, 0, 0, 1, 0, 0, 0, 1, 0, ...</td>\n",
              "      <td>1971</td>\n",
              "      <td>Willy Wonka &amp; the Chocolate Factory</td>\n",
              "      <td>[0, 0, 0, 0, 0, 0, 0, 0, 0, 0, 0, 0, 0, 0, 0, ...</td>\n",
              "      <td>[0.09513278305530548, 0.05277291685342789, -0....</td>\n",
              "      <td>3.492622</td>\n",
              "    </tr>\n",
              "    <tr>\n",
              "      <th>922</th>\n",
              "      <td>1220</td>\n",
              "      <td>Godfather: Part II, The (1974)</td>\n",
              "      <td>Crime|Drama</td>\n",
              "      <td>[0, 0, 0, 0, 0, 0, 1, 0, 1, 0, 0, 0, 0, 0, 0, ...</td>\n",
              "      <td>1974</td>\n",
              "      <td>Godfather: Part II, The</td>\n",
              "      <td>[0, 0, 0, 0, 0, 0, 0, 0, 0, 0, 0, 0, 0, 0, 0, ...</td>\n",
              "      <td>[0.1344141960144043, 0.08046890050172806, -0.0...</td>\n",
              "      <td>3.489672</td>\n",
              "    </tr>\n",
              "    <tr>\n",
              "      <th>2250</th>\n",
              "      <td>2986</td>\n",
              "      <td>Who Framed Roger Rabbit? (1988)</td>\n",
              "      <td>Adventure|Animation|Children|Comedy|Crime|Fant...</td>\n",
              "      <td>[0, 0, 1, 1, 1, 1, 1, 0, 0, 1, 0, 0, 0, 0, 1, ...</td>\n",
              "      <td>1988</td>\n",
              "      <td>Who Framed Roger Rabbit?</td>\n",
              "      <td>[0, 0, 0, 0, 0, 0, 0, 0, 0, 0, 0, 0, 0, 0, 0, ...</td>\n",
              "      <td>[0.09876000881195068, 0.037126630544662476, -0...</td>\n",
              "      <td>3.343330</td>\n",
              "    </tr>\n",
              "    <tr>\n",
              "      <th>1628</th>\n",
              "      <td>2173</td>\n",
              "      <td>Beetlejuice (1988)</td>\n",
              "      <td>Comedy|Fantasy</td>\n",
              "      <td>[0, 0, 0, 0, 0, 1, 0, 0, 0, 1, 0, 0, 0, 0, 0, ...</td>\n",
              "      <td>1988</td>\n",
              "      <td>Beetlejuice</td>\n",
              "      <td>[0, 0, 0, 0, 0, 0, 0, 0, 0, 0, 0, 0, 0, 0, 0, ...</td>\n",
              "      <td>[0.0, 0.0, 0.0, 0.0, 0.0, 0.0, 0.0, 0.0, 0.0, ...</td>\n",
              "      <td>3.287401</td>\n",
              "    </tr>\n",
              "    <tr>\n",
              "      <th>977</th>\n",
              "      <td>1277</td>\n",
              "      <td>Young Frankenstein (1974)</td>\n",
              "      <td>Comedy|Fantasy</td>\n",
              "      <td>[0, 0, 0, 0, 0, 1, 0, 0, 0, 1, 0, 0, 0, 0, 0, ...</td>\n",
              "      <td>1974</td>\n",
              "      <td>Young Frankenstein</td>\n",
              "      <td>[0, 0, 0, 0, 0, 0, 0, 0, 0, 0, 0, 0, 0, 0, 0, ...</td>\n",
              "      <td>[0.08541788160800934, 0.03321460634469986, -0....</td>\n",
              "      <td>3.286308</td>\n",
              "    </tr>\n",
              "  </tbody>\n",
              "</table>\n",
              "</div>"
            ],
            "text/plain": [
              "      movieId  ... recommendation_score\n",
              "0           0  ...             4.076505\n",
              "224       259  ...             4.010240\n",
              "900      1197  ...             3.745547\n",
              "2355     3113  ...             3.721978\n",
              "1503     2027  ...             3.544369\n",
              "815      1072  ...             3.492622\n",
              "922      1220  ...             3.489672\n",
              "2250     2986  ...             3.343330\n",
              "1628     2173  ...             3.287401\n",
              "977      1277  ...             3.286308\n",
              "\n",
              "[10 rows x 9 columns]"
            ]
          },
          "metadata": {
            "tags": []
          },
          "execution_count": 76
        }
      ]
    },
    {
      "cell_type": "code",
      "metadata": {
        "colab": {
          "base_uri": "https://localhost:8080/",
          "height": 529
        },
        "id": "uM1yJUOPgH2_",
        "outputId": "d587a9d6-d47e-4c71-8989-2dc1f6012e1e"
      },
      "source": [
        "movies_for_prediction_T"
      ],
      "execution_count": 77,
      "outputs": [
        {
          "output_type": "execute_result",
          "data": {
            "text/html": [
              "<div>\n",
              "<style scoped>\n",
              "    .dataframe tbody tr th:only-of-type {\n",
              "        vertical-align: middle;\n",
              "    }\n",
              "\n",
              "    .dataframe tbody tr th {\n",
              "        vertical-align: top;\n",
              "    }\n",
              "\n",
              "    .dataframe thead th {\n",
              "        text-align: right;\n",
              "    }\n",
              "</style>\n",
              "<table border=\"1\" class=\"dataframe\">\n",
              "  <thead>\n",
              "    <tr style=\"text-align: right;\">\n",
              "      <th></th>\n",
              "      <th>movieId</th>\n",
              "      <th>title</th>\n",
              "      <th>genres</th>\n",
              "      <th>genres_vectors</th>\n",
              "      <th>launch_year</th>\n",
              "      <th>movie_title</th>\n",
              "      <th>launch_year_vectors</th>\n",
              "      <th>title_vector</th>\n",
              "      <th>recommendation_score</th>\n",
              "    </tr>\n",
              "  </thead>\n",
              "  <tbody>\n",
              "    <tr>\n",
              "      <th>2355</th>\n",
              "      <td>3113</td>\n",
              "      <td>Toy Story 2 (1999)</td>\n",
              "      <td>Adventure|Animation|Children|Comedy|Fantasy</td>\n",
              "      <td>[0, 0, 1, 1, 1, 1, 0, 0, 0, 1, 0, 0, 0, 0, 0, ...</td>\n",
              "      <td>1999</td>\n",
              "      <td>Toy Story 2</td>\n",
              "      <td>[0, 0, 0, 0, 0, 0, 0, 0, 0, 0, 0, 0, 0, 0, 0, ...</td>\n",
              "      <td>[0.09340157359838486, 0.052457138895988464, -0...</td>\n",
              "      <td>3.721978</td>\n",
              "    </tr>\n",
              "    <tr>\n",
              "      <th>922</th>\n",
              "      <td>1220</td>\n",
              "      <td>Godfather: Part II, The (1974)</td>\n",
              "      <td>Crime|Drama</td>\n",
              "      <td>[0, 0, 0, 0, 0, 0, 1, 0, 1, 0, 0, 0, 0, 0, 0, ...</td>\n",
              "      <td>1974</td>\n",
              "      <td>Godfather: Part II, The</td>\n",
              "      <td>[0, 0, 0, 0, 0, 0, 0, 0, 0, 0, 0, 0, 0, 0, 0, ...</td>\n",
              "      <td>[0.1344141960144043, 0.08046890050172806, -0.0...</td>\n",
              "      <td>3.489672</td>\n",
              "    </tr>\n",
              "    <tr>\n",
              "      <th>506</th>\n",
              "      <td>587</td>\n",
              "      <td>Aladdin (1992)</td>\n",
              "      <td>Adventure|Animation|Children|Comedy|Musical</td>\n",
              "      <td>[0, 0, 1, 1, 1, 1, 0, 0, 0, 0, 0, 0, 0, 1, 0, ...</td>\n",
              "      <td>1992</td>\n",
              "      <td>Aladdin</td>\n",
              "      <td>[0, 0, 0, 0, 0, 0, 0, 0, 0, 0, 0, 0, 0, 0, 0, ...</td>\n",
              "      <td>[0.014434387907385826, -0.0023262002505362034,...</td>\n",
              "      <td>3.226090</td>\n",
              "    </tr>\n",
              "    <tr>\n",
              "      <th>277</th>\n",
              "      <td>317</td>\n",
              "      <td>Shawshank Redemption, The (1994)</td>\n",
              "      <td>Crime|Drama</td>\n",
              "      <td>[0, 0, 0, 0, 0, 0, 1, 0, 1, 0, 0, 0, 0, 0, 0, ...</td>\n",
              "      <td>1994</td>\n",
              "      <td>Shawshank Redemption, The</td>\n",
              "      <td>[0, 0, 0, 0, 0, 0, 0, 0, 0, 0, 0, 0, 0, 0, 0, ...</td>\n",
              "      <td>[0.10213968902826309, 0.07190864533185959, -0....</td>\n",
              "      <td>3.210889</td>\n",
              "    </tr>\n",
              "    <tr>\n",
              "      <th>2078</th>\n",
              "      <td>2761</td>\n",
              "      <td>Sixth Sense, The (1999)</td>\n",
              "      <td>Drama|Horror|Mystery</td>\n",
              "      <td>[0, 0, 0, 0, 0, 0, 0, 0, 1, 0, 0, 1, 0, 0, 1, ...</td>\n",
              "      <td>1999</td>\n",
              "      <td>Sixth Sense, The</td>\n",
              "      <td>[0, 0, 0, 0, 0, 0, 0, 0, 0, 0, 0, 0, 0, 0, 0, ...</td>\n",
              "      <td>[0.08662690967321396, 0.056343019008636475, -0...</td>\n",
              "      <td>3.047901</td>\n",
              "    </tr>\n",
              "    <tr>\n",
              "      <th>1</th>\n",
              "      <td>1</td>\n",
              "      <td>Jumanji (1995)</td>\n",
              "      <td>Adventure|Children|Fantasy</td>\n",
              "      <td>[0, 0, 1, 0, 1, 0, 0, 0, 0, 1, 0, 0, 0, 0, 0, ...</td>\n",
              "      <td>1995</td>\n",
              "      <td>Jumanji</td>\n",
              "      <td>[0, 0, 0, 0, 0, 0, 0, 0, 0, 0, 0, 0, 0, 0, 0, ...</td>\n",
              "      <td>[0.012492736801505089, -0.0013318296987563372,...</td>\n",
              "      <td>2.948696</td>\n",
              "    </tr>\n",
              "    <tr>\n",
              "      <th>1706</th>\n",
              "      <td>2293</td>\n",
              "      <td>Antz (1998)</td>\n",
              "      <td>Adventure|Animation|Children|Comedy|Fantasy</td>\n",
              "      <td>[0, 0, 1, 1, 1, 1, 0, 0, 0, 1, 0, 0, 0, 0, 0, ...</td>\n",
              "      <td>1998</td>\n",
              "      <td>Antz</td>\n",
              "      <td>[0, 0, 0, 0, 0, 0, 0, 0, 0, 0, 0, 0, 0, 0, 0, ...</td>\n",
              "      <td>[0.0, 0.0, 0.0, 0.0, 0.0, 0.0, 0.0, 0.0, 0.0, ...</td>\n",
              "      <td>2.935027</td>\n",
              "    </tr>\n",
              "    <tr>\n",
              "      <th>2097</th>\n",
              "      <td>2790</td>\n",
              "      <td>Airplane! (1980)</td>\n",
              "      <td>Comedy</td>\n",
              "      <td>[0, 0, 0, 0, 0, 1, 0, 0, 0, 0, 0, 0, 0, 0, 0, ...</td>\n",
              "      <td>1980</td>\n",
              "      <td>Airplane!</td>\n",
              "      <td>[0, 0, 0, 0, 0, 0, 0, 0, 0, 0, 0, 0, 0, 0, 0, ...</td>\n",
              "      <td>[0.11474297195672989, 0.06125015765428543, -0....</td>\n",
              "      <td>2.890458</td>\n",
              "    </tr>\n",
              "    <tr>\n",
              "      <th>1067</th>\n",
              "      <td>1386</td>\n",
              "      <td>Jaws (1975)</td>\n",
              "      <td>Action|Horror</td>\n",
              "      <td>[0, 1, 0, 0, 0, 0, 0, 0, 0, 0, 0, 1, 0, 0, 0, ...</td>\n",
              "      <td>1975</td>\n",
              "      <td>Jaws</td>\n",
              "      <td>[0, 0, 0, 0, 0, 0, 0, 0, 0, 0, 0, 0, 0, 0, 0, ...</td>\n",
              "      <td>[0.027056267485022545, 0.011602983810007572, -...</td>\n",
              "      <td>2.881080</td>\n",
              "    </tr>\n",
              "    <tr>\n",
              "      <th>1472</th>\n",
              "      <td>1996</td>\n",
              "      <td>Exorcist, The (1973)</td>\n",
              "      <td>Horror|Mystery</td>\n",
              "      <td>[0, 0, 0, 0, 0, 0, 0, 0, 0, 0, 0, 1, 0, 0, 1, ...</td>\n",
              "      <td>1973</td>\n",
              "      <td>Exorcist, The</td>\n",
              "      <td>[0, 0, 0, 0, 0, 0, 0, 0, 0, 0, 0, 0, 0, 0, 0, ...</td>\n",
              "      <td>[0.10506302118301392, 0.0735548660159111, -0.0...</td>\n",
              "      <td>2.852911</td>\n",
              "    </tr>\n",
              "  </tbody>\n",
              "</table>\n",
              "</div>"
            ],
            "text/plain": [
              "      movieId  ... recommendation_score\n",
              "2355     3113  ...             3.721978\n",
              "922      1220  ...             3.489672\n",
              "506       587  ...             3.226090\n",
              "277       317  ...             3.210889\n",
              "2078     2761  ...             3.047901\n",
              "1           1  ...             2.948696\n",
              "1706     2293  ...             2.935027\n",
              "2097     2790  ...             2.890458\n",
              "1067     1386  ...             2.881080\n",
              "1472     1996  ...             2.852911\n",
              "\n",
              "[10 rows x 9 columns]"
            ]
          },
          "metadata": {
            "tags": []
          },
          "execution_count": 77
        }
      ]
    }
  ]
}