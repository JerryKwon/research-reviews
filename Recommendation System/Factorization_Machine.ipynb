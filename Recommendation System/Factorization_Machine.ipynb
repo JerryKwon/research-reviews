{
  "nbformat": 4,
  "nbformat_minor": 0,
  "metadata": {
    "colab": {
      "name": "Factorization_Machine.ipynb",
      "provenance": [],
      "collapsed_sections": [],
      "machine_shape": "hm"
    },
    "kernelspec": {
      "name": "python3",
      "display_name": "Python 3"
    },
    "widgets": {
      "application/vnd.jupyter.widget-state+json": {
        "2fb886d4df32493f97977cc23b4b30ae": {
          "model_module": "@jupyter-widgets/controls",
          "model_name": "HBoxModel",
          "state": {
            "_view_name": "HBoxView",
            "_dom_classes": [],
            "_model_name": "HBoxModel",
            "_view_module": "@jupyter-widgets/controls",
            "_model_module_version": "1.5.0",
            "_view_count": null,
            "_view_module_version": "1.5.0",
            "box_style": "",
            "layout": "IPY_MODEL_08b5da169b334b08a861e9ae0054534d",
            "_model_module": "@jupyter-widgets/controls",
            "children": [
              "IPY_MODEL_094675e8f5b24f349e638bb540babc22",
              "IPY_MODEL_0ab24ed800ef4f3bb89337b7bdebabf4"
            ]
          }
        },
        "08b5da169b334b08a861e9ae0054534d": {
          "model_module": "@jupyter-widgets/base",
          "model_name": "LayoutModel",
          "state": {
            "_view_name": "LayoutView",
            "grid_template_rows": null,
            "right": null,
            "justify_content": null,
            "_view_module": "@jupyter-widgets/base",
            "overflow": null,
            "_model_module_version": "1.2.0",
            "_view_count": null,
            "flex_flow": null,
            "width": null,
            "min_width": null,
            "border": null,
            "align_items": null,
            "bottom": null,
            "_model_module": "@jupyter-widgets/base",
            "top": null,
            "grid_column": null,
            "overflow_y": null,
            "overflow_x": null,
            "grid_auto_flow": null,
            "grid_area": null,
            "grid_template_columns": null,
            "flex": null,
            "_model_name": "LayoutModel",
            "justify_items": null,
            "grid_row": null,
            "max_height": null,
            "align_content": null,
            "visibility": null,
            "align_self": null,
            "height": null,
            "min_height": null,
            "padding": null,
            "grid_auto_rows": null,
            "grid_gap": null,
            "max_width": null,
            "order": null,
            "_view_module_version": "1.2.0",
            "grid_template_areas": null,
            "object_position": null,
            "object_fit": null,
            "grid_auto_columns": null,
            "margin": null,
            "display": null,
            "left": null
          }
        },
        "094675e8f5b24f349e638bb540babc22": {
          "model_module": "@jupyter-widgets/controls",
          "model_name": "FloatProgressModel",
          "state": {
            "_view_name": "ProgressView",
            "style": "IPY_MODEL_80c1f733f51c421b98728bca7e604365",
            "_dom_classes": [],
            "description": "",
            "_model_name": "FloatProgressModel",
            "bar_style": "success",
            "max": 1,
            "_view_module": "@jupyter-widgets/controls",
            "_model_module_version": "1.5.0",
            "value": 1,
            "_view_count": null,
            "_view_module_version": "1.5.0",
            "orientation": "horizontal",
            "min": 0,
            "description_tooltip": null,
            "_model_module": "@jupyter-widgets/controls",
            "layout": "IPY_MODEL_2da6555f321d4ea3b1bec7fa94a9db33"
          }
        },
        "0ab24ed800ef4f3bb89337b7bdebabf4": {
          "model_module": "@jupyter-widgets/controls",
          "model_name": "HTMLModel",
          "state": {
            "_view_name": "HTMLView",
            "style": "IPY_MODEL_4c71a5e72d6b47df8570ffce23a6c0d1",
            "_dom_classes": [],
            "description": "",
            "_model_name": "HTMLModel",
            "placeholder": "​",
            "_view_module": "@jupyter-widgets/controls",
            "_model_module_version": "1.5.0",
            "value": " 100836/? [00:25&lt;00:00, 4015.03it/s]",
            "_view_count": null,
            "_view_module_version": "1.5.0",
            "description_tooltip": null,
            "_model_module": "@jupyter-widgets/controls",
            "layout": "IPY_MODEL_18b762c6b8654c7da33a470339758506"
          }
        },
        "80c1f733f51c421b98728bca7e604365": {
          "model_module": "@jupyter-widgets/controls",
          "model_name": "ProgressStyleModel",
          "state": {
            "_view_name": "StyleView",
            "_model_name": "ProgressStyleModel",
            "description_width": "initial",
            "_view_module": "@jupyter-widgets/base",
            "_model_module_version": "1.5.0",
            "_view_count": null,
            "_view_module_version": "1.2.0",
            "bar_color": null,
            "_model_module": "@jupyter-widgets/controls"
          }
        },
        "2da6555f321d4ea3b1bec7fa94a9db33": {
          "model_module": "@jupyter-widgets/base",
          "model_name": "LayoutModel",
          "state": {
            "_view_name": "LayoutView",
            "grid_template_rows": null,
            "right": null,
            "justify_content": null,
            "_view_module": "@jupyter-widgets/base",
            "overflow": null,
            "_model_module_version": "1.2.0",
            "_view_count": null,
            "flex_flow": null,
            "width": null,
            "min_width": null,
            "border": null,
            "align_items": null,
            "bottom": null,
            "_model_module": "@jupyter-widgets/base",
            "top": null,
            "grid_column": null,
            "overflow_y": null,
            "overflow_x": null,
            "grid_auto_flow": null,
            "grid_area": null,
            "grid_template_columns": null,
            "flex": null,
            "_model_name": "LayoutModel",
            "justify_items": null,
            "grid_row": null,
            "max_height": null,
            "align_content": null,
            "visibility": null,
            "align_self": null,
            "height": null,
            "min_height": null,
            "padding": null,
            "grid_auto_rows": null,
            "grid_gap": null,
            "max_width": null,
            "order": null,
            "_view_module_version": "1.2.0",
            "grid_template_areas": null,
            "object_position": null,
            "object_fit": null,
            "grid_auto_columns": null,
            "margin": null,
            "display": null,
            "left": null
          }
        },
        "4c71a5e72d6b47df8570ffce23a6c0d1": {
          "model_module": "@jupyter-widgets/controls",
          "model_name": "DescriptionStyleModel",
          "state": {
            "_view_name": "StyleView",
            "_model_name": "DescriptionStyleModel",
            "description_width": "",
            "_view_module": "@jupyter-widgets/base",
            "_model_module_version": "1.5.0",
            "_view_count": null,
            "_view_module_version": "1.2.0",
            "_model_module": "@jupyter-widgets/controls"
          }
        },
        "18b762c6b8654c7da33a470339758506": {
          "model_module": "@jupyter-widgets/base",
          "model_name": "LayoutModel",
          "state": {
            "_view_name": "LayoutView",
            "grid_template_rows": null,
            "right": null,
            "justify_content": null,
            "_view_module": "@jupyter-widgets/base",
            "overflow": null,
            "_model_module_version": "1.2.0",
            "_view_count": null,
            "flex_flow": null,
            "width": null,
            "min_width": null,
            "border": null,
            "align_items": null,
            "bottom": null,
            "_model_module": "@jupyter-widgets/base",
            "top": null,
            "grid_column": null,
            "overflow_y": null,
            "overflow_x": null,
            "grid_auto_flow": null,
            "grid_area": null,
            "grid_template_columns": null,
            "flex": null,
            "_model_name": "LayoutModel",
            "justify_items": null,
            "grid_row": null,
            "max_height": null,
            "align_content": null,
            "visibility": null,
            "align_self": null,
            "height": null,
            "min_height": null,
            "padding": null,
            "grid_auto_rows": null,
            "grid_gap": null,
            "max_width": null,
            "order": null,
            "_view_module_version": "1.2.0",
            "grid_template_areas": null,
            "object_position": null,
            "object_fit": null,
            "grid_auto_columns": null,
            "margin": null,
            "display": null,
            "left": null
          }
        },
        "6dbdf92235e04dc99825bd15aa02966f": {
          "model_module": "@jupyter-widgets/controls",
          "model_name": "HBoxModel",
          "state": {
            "_view_name": "HBoxView",
            "_dom_classes": [],
            "_model_name": "HBoxModel",
            "_view_module": "@jupyter-widgets/controls",
            "_model_module_version": "1.5.0",
            "_view_count": null,
            "_view_module_version": "1.5.0",
            "box_style": "",
            "layout": "IPY_MODEL_081962493dfd447c96d42e4f407aaf91",
            "_model_module": "@jupyter-widgets/controls",
            "children": [
              "IPY_MODEL_fbef301eb63744c5992ae090cb752390",
              "IPY_MODEL_99f17baf0ebe4bbbb95e7a1146998610"
            ]
          }
        },
        "081962493dfd447c96d42e4f407aaf91": {
          "model_module": "@jupyter-widgets/base",
          "model_name": "LayoutModel",
          "state": {
            "_view_name": "LayoutView",
            "grid_template_rows": null,
            "right": null,
            "justify_content": null,
            "_view_module": "@jupyter-widgets/base",
            "overflow": null,
            "_model_module_version": "1.2.0",
            "_view_count": null,
            "flex_flow": null,
            "width": null,
            "min_width": null,
            "border": null,
            "align_items": null,
            "bottom": null,
            "_model_module": "@jupyter-widgets/base",
            "top": null,
            "grid_column": null,
            "overflow_y": null,
            "overflow_x": null,
            "grid_auto_flow": null,
            "grid_area": null,
            "grid_template_columns": null,
            "flex": null,
            "_model_name": "LayoutModel",
            "justify_items": null,
            "grid_row": null,
            "max_height": null,
            "align_content": null,
            "visibility": null,
            "align_self": null,
            "height": null,
            "min_height": null,
            "padding": null,
            "grid_auto_rows": null,
            "grid_gap": null,
            "max_width": null,
            "order": null,
            "_view_module_version": "1.2.0",
            "grid_template_areas": null,
            "object_position": null,
            "object_fit": null,
            "grid_auto_columns": null,
            "margin": null,
            "display": null,
            "left": null
          }
        },
        "fbef301eb63744c5992ae090cb752390": {
          "model_module": "@jupyter-widgets/controls",
          "model_name": "FloatProgressModel",
          "state": {
            "_view_name": "ProgressView",
            "style": "IPY_MODEL_efadfa5c8f2e41468d79f2f70f404005",
            "_dom_classes": [],
            "description": "100%",
            "_model_name": "FloatProgressModel",
            "bar_style": "success",
            "max": 9742,
            "_view_module": "@jupyter-widgets/controls",
            "_model_module_version": "1.5.0",
            "value": 9742,
            "_view_count": null,
            "_view_module_version": "1.5.0",
            "orientation": "horizontal",
            "min": 0,
            "description_tooltip": null,
            "_model_module": "@jupyter-widgets/controls",
            "layout": "IPY_MODEL_999bee062e8748eca78f593869842ef2"
          }
        },
        "99f17baf0ebe4bbbb95e7a1146998610": {
          "model_module": "@jupyter-widgets/controls",
          "model_name": "HTMLModel",
          "state": {
            "_view_name": "HTMLView",
            "style": "IPY_MODEL_225dbffebf2f4502912bc716c524c50b",
            "_dom_classes": [],
            "description": "",
            "_model_name": "HTMLModel",
            "placeholder": "​",
            "_view_module": "@jupyter-widgets/controls",
            "_model_module_version": "1.5.0",
            "value": " 9742/9742 [00:02&lt;00:00, 3678.50it/s]",
            "_view_count": null,
            "_view_module_version": "1.5.0",
            "description_tooltip": null,
            "_model_module": "@jupyter-widgets/controls",
            "layout": "IPY_MODEL_bf15826332584ad894255c898c0413f9"
          }
        },
        "efadfa5c8f2e41468d79f2f70f404005": {
          "model_module": "@jupyter-widgets/controls",
          "model_name": "ProgressStyleModel",
          "state": {
            "_view_name": "StyleView",
            "_model_name": "ProgressStyleModel",
            "description_width": "initial",
            "_view_module": "@jupyter-widgets/base",
            "_model_module_version": "1.5.0",
            "_view_count": null,
            "_view_module_version": "1.2.0",
            "bar_color": null,
            "_model_module": "@jupyter-widgets/controls"
          }
        },
        "999bee062e8748eca78f593869842ef2": {
          "model_module": "@jupyter-widgets/base",
          "model_name": "LayoutModel",
          "state": {
            "_view_name": "LayoutView",
            "grid_template_rows": null,
            "right": null,
            "justify_content": null,
            "_view_module": "@jupyter-widgets/base",
            "overflow": null,
            "_model_module_version": "1.2.0",
            "_view_count": null,
            "flex_flow": null,
            "width": null,
            "min_width": null,
            "border": null,
            "align_items": null,
            "bottom": null,
            "_model_module": "@jupyter-widgets/base",
            "top": null,
            "grid_column": null,
            "overflow_y": null,
            "overflow_x": null,
            "grid_auto_flow": null,
            "grid_area": null,
            "grid_template_columns": null,
            "flex": null,
            "_model_name": "LayoutModel",
            "justify_items": null,
            "grid_row": null,
            "max_height": null,
            "align_content": null,
            "visibility": null,
            "align_self": null,
            "height": null,
            "min_height": null,
            "padding": null,
            "grid_auto_rows": null,
            "grid_gap": null,
            "max_width": null,
            "order": null,
            "_view_module_version": "1.2.0",
            "grid_template_areas": null,
            "object_position": null,
            "object_fit": null,
            "grid_auto_columns": null,
            "margin": null,
            "display": null,
            "left": null
          }
        },
        "225dbffebf2f4502912bc716c524c50b": {
          "model_module": "@jupyter-widgets/controls",
          "model_name": "DescriptionStyleModel",
          "state": {
            "_view_name": "StyleView",
            "_model_name": "DescriptionStyleModel",
            "description_width": "",
            "_view_module": "@jupyter-widgets/base",
            "_model_module_version": "1.5.0",
            "_view_count": null,
            "_view_module_version": "1.2.0",
            "_model_module": "@jupyter-widgets/controls"
          }
        },
        "bf15826332584ad894255c898c0413f9": {
          "model_module": "@jupyter-widgets/base",
          "model_name": "LayoutModel",
          "state": {
            "_view_name": "LayoutView",
            "grid_template_rows": null,
            "right": null,
            "justify_content": null,
            "_view_module": "@jupyter-widgets/base",
            "overflow": null,
            "_model_module_version": "1.2.0",
            "_view_count": null,
            "flex_flow": null,
            "width": null,
            "min_width": null,
            "border": null,
            "align_items": null,
            "bottom": null,
            "_model_module": "@jupyter-widgets/base",
            "top": null,
            "grid_column": null,
            "overflow_y": null,
            "overflow_x": null,
            "grid_auto_flow": null,
            "grid_area": null,
            "grid_template_columns": null,
            "flex": null,
            "_model_name": "LayoutModel",
            "justify_items": null,
            "grid_row": null,
            "max_height": null,
            "align_content": null,
            "visibility": null,
            "align_self": null,
            "height": null,
            "min_height": null,
            "padding": null,
            "grid_auto_rows": null,
            "grid_gap": null,
            "max_width": null,
            "order": null,
            "_view_module_version": "1.2.0",
            "grid_template_areas": null,
            "object_position": null,
            "object_fit": null,
            "grid_auto_columns": null,
            "margin": null,
            "display": null,
            "left": null
          }
        },
        "cc30c3c2394e450aa80c06868ba4628c": {
          "model_module": "@jupyter-widgets/controls",
          "model_name": "HBoxModel",
          "state": {
            "_view_name": "HBoxView",
            "_dom_classes": [],
            "_model_name": "HBoxModel",
            "_view_module": "@jupyter-widgets/controls",
            "_model_module_version": "1.5.0",
            "_view_count": null,
            "_view_module_version": "1.5.0",
            "box_style": "",
            "layout": "IPY_MODEL_dde08a882ce341ceb5c6ee8c4167f81c",
            "_model_module": "@jupyter-widgets/controls",
            "children": [
              "IPY_MODEL_129dda48fcc04078b3037109fe14bf3b",
              "IPY_MODEL_916cfbd659c94b008d07febcf34e0376"
            ]
          }
        },
        "dde08a882ce341ceb5c6ee8c4167f81c": {
          "model_module": "@jupyter-widgets/base",
          "model_name": "LayoutModel",
          "state": {
            "_view_name": "LayoutView",
            "grid_template_rows": null,
            "right": null,
            "justify_content": null,
            "_view_module": "@jupyter-widgets/base",
            "overflow": null,
            "_model_module_version": "1.2.0",
            "_view_count": null,
            "flex_flow": null,
            "width": null,
            "min_width": null,
            "border": null,
            "align_items": null,
            "bottom": null,
            "_model_module": "@jupyter-widgets/base",
            "top": null,
            "grid_column": null,
            "overflow_y": null,
            "overflow_x": null,
            "grid_auto_flow": null,
            "grid_area": null,
            "grid_template_columns": null,
            "flex": null,
            "_model_name": "LayoutModel",
            "justify_items": null,
            "grid_row": null,
            "max_height": null,
            "align_content": null,
            "visibility": null,
            "align_self": null,
            "height": null,
            "min_height": null,
            "padding": null,
            "grid_auto_rows": null,
            "grid_gap": null,
            "max_width": null,
            "order": null,
            "_view_module_version": "1.2.0",
            "grid_template_areas": null,
            "object_position": null,
            "object_fit": null,
            "grid_auto_columns": null,
            "margin": null,
            "display": null,
            "left": null
          }
        },
        "129dda48fcc04078b3037109fe14bf3b": {
          "model_module": "@jupyter-widgets/controls",
          "model_name": "FloatProgressModel",
          "state": {
            "_view_name": "ProgressView",
            "style": "IPY_MODEL_0dd7fe68e43c402abf5eb70d2ff05d32",
            "_dom_classes": [],
            "description": "100%",
            "_model_name": "FloatProgressModel",
            "bar_style": "success",
            "max": 9742,
            "_view_module": "@jupyter-widgets/controls",
            "_model_module_version": "1.5.0",
            "value": 9742,
            "_view_count": null,
            "_view_module_version": "1.5.0",
            "orientation": "horizontal",
            "min": 0,
            "description_tooltip": null,
            "_model_module": "@jupyter-widgets/controls",
            "layout": "IPY_MODEL_ca13c74018c54ac3bbe80e58fc54a9b4"
          }
        },
        "916cfbd659c94b008d07febcf34e0376": {
          "model_module": "@jupyter-widgets/controls",
          "model_name": "HTMLModel",
          "state": {
            "_view_name": "HTMLView",
            "style": "IPY_MODEL_e8d4eaf5fbbc425d9787baa33396bec2",
            "_dom_classes": [],
            "description": "",
            "_model_name": "HTMLModel",
            "placeholder": "​",
            "_view_module": "@jupyter-widgets/controls",
            "_model_module_version": "1.5.0",
            "value": " 9742/9742 [00:04&lt;00:00, 2403.01it/s]",
            "_view_count": null,
            "_view_module_version": "1.5.0",
            "description_tooltip": null,
            "_model_module": "@jupyter-widgets/controls",
            "layout": "IPY_MODEL_e8731ec18c0f4e2dae892b80d061689d"
          }
        },
        "0dd7fe68e43c402abf5eb70d2ff05d32": {
          "model_module": "@jupyter-widgets/controls",
          "model_name": "ProgressStyleModel",
          "state": {
            "_view_name": "StyleView",
            "_model_name": "ProgressStyleModel",
            "description_width": "initial",
            "_view_module": "@jupyter-widgets/base",
            "_model_module_version": "1.5.0",
            "_view_count": null,
            "_view_module_version": "1.2.0",
            "bar_color": null,
            "_model_module": "@jupyter-widgets/controls"
          }
        },
        "ca13c74018c54ac3bbe80e58fc54a9b4": {
          "model_module": "@jupyter-widgets/base",
          "model_name": "LayoutModel",
          "state": {
            "_view_name": "LayoutView",
            "grid_template_rows": null,
            "right": null,
            "justify_content": null,
            "_view_module": "@jupyter-widgets/base",
            "overflow": null,
            "_model_module_version": "1.2.0",
            "_view_count": null,
            "flex_flow": null,
            "width": null,
            "min_width": null,
            "border": null,
            "align_items": null,
            "bottom": null,
            "_model_module": "@jupyter-widgets/base",
            "top": null,
            "grid_column": null,
            "overflow_y": null,
            "overflow_x": null,
            "grid_auto_flow": null,
            "grid_area": null,
            "grid_template_columns": null,
            "flex": null,
            "_model_name": "LayoutModel",
            "justify_items": null,
            "grid_row": null,
            "max_height": null,
            "align_content": null,
            "visibility": null,
            "align_self": null,
            "height": null,
            "min_height": null,
            "padding": null,
            "grid_auto_rows": null,
            "grid_gap": null,
            "max_width": null,
            "order": null,
            "_view_module_version": "1.2.0",
            "grid_template_areas": null,
            "object_position": null,
            "object_fit": null,
            "grid_auto_columns": null,
            "margin": null,
            "display": null,
            "left": null
          }
        },
        "e8d4eaf5fbbc425d9787baa33396bec2": {
          "model_module": "@jupyter-widgets/controls",
          "model_name": "DescriptionStyleModel",
          "state": {
            "_view_name": "StyleView",
            "_model_name": "DescriptionStyleModel",
            "description_width": "",
            "_view_module": "@jupyter-widgets/base",
            "_model_module_version": "1.5.0",
            "_view_count": null,
            "_view_module_version": "1.2.0",
            "_model_module": "@jupyter-widgets/controls"
          }
        },
        "e8731ec18c0f4e2dae892b80d061689d": {
          "model_module": "@jupyter-widgets/base",
          "model_name": "LayoutModel",
          "state": {
            "_view_name": "LayoutView",
            "grid_template_rows": null,
            "right": null,
            "justify_content": null,
            "_view_module": "@jupyter-widgets/base",
            "overflow": null,
            "_model_module_version": "1.2.0",
            "_view_count": null,
            "flex_flow": null,
            "width": null,
            "min_width": null,
            "border": null,
            "align_items": null,
            "bottom": null,
            "_model_module": "@jupyter-widgets/base",
            "top": null,
            "grid_column": null,
            "overflow_y": null,
            "overflow_x": null,
            "grid_auto_flow": null,
            "grid_area": null,
            "grid_template_columns": null,
            "flex": null,
            "_model_name": "LayoutModel",
            "justify_items": null,
            "grid_row": null,
            "max_height": null,
            "align_content": null,
            "visibility": null,
            "align_self": null,
            "height": null,
            "min_height": null,
            "padding": null,
            "grid_auto_rows": null,
            "grid_gap": null,
            "max_width": null,
            "order": null,
            "_view_module_version": "1.2.0",
            "grid_template_areas": null,
            "object_position": null,
            "object_fit": null,
            "grid_auto_columns": null,
            "margin": null,
            "display": null,
            "left": null
          }
        },
        "3d2411416d0b4f3bb0a921aa6725a599": {
          "model_module": "@jupyter-widgets/controls",
          "model_name": "HBoxModel",
          "state": {
            "_view_name": "HBoxView",
            "_dom_classes": [],
            "_model_name": "HBoxModel",
            "_view_module": "@jupyter-widgets/controls",
            "_model_module_version": "1.5.0",
            "_view_count": null,
            "_view_module_version": "1.5.0",
            "box_style": "",
            "layout": "IPY_MODEL_d8fcf0105b8347d69c37c4b7cd904518",
            "_model_module": "@jupyter-widgets/controls",
            "children": [
              "IPY_MODEL_ac789f2d4baf46a8b1e03bcc6157d3e9",
              "IPY_MODEL_ef29dd5f8c2c4f008baacf43bb072e42"
            ]
          }
        },
        "d8fcf0105b8347d69c37c4b7cd904518": {
          "model_module": "@jupyter-widgets/base",
          "model_name": "LayoutModel",
          "state": {
            "_view_name": "LayoutView",
            "grid_template_rows": null,
            "right": null,
            "justify_content": null,
            "_view_module": "@jupyter-widgets/base",
            "overflow": null,
            "_model_module_version": "1.2.0",
            "_view_count": null,
            "flex_flow": null,
            "width": null,
            "min_width": null,
            "border": null,
            "align_items": null,
            "bottom": null,
            "_model_module": "@jupyter-widgets/base",
            "top": null,
            "grid_column": null,
            "overflow_y": null,
            "overflow_x": null,
            "grid_auto_flow": null,
            "grid_area": null,
            "grid_template_columns": null,
            "flex": null,
            "_model_name": "LayoutModel",
            "justify_items": null,
            "grid_row": null,
            "max_height": null,
            "align_content": null,
            "visibility": null,
            "align_self": null,
            "height": null,
            "min_height": null,
            "padding": null,
            "grid_auto_rows": null,
            "grid_gap": null,
            "max_width": null,
            "order": null,
            "_view_module_version": "1.2.0",
            "grid_template_areas": null,
            "object_position": null,
            "object_fit": null,
            "grid_auto_columns": null,
            "margin": null,
            "display": null,
            "left": null
          }
        },
        "ac789f2d4baf46a8b1e03bcc6157d3e9": {
          "model_module": "@jupyter-widgets/controls",
          "model_name": "FloatProgressModel",
          "state": {
            "_view_name": "ProgressView",
            "style": "IPY_MODEL_5de31191bbeb47d78f163781d4d7fc96",
            "_dom_classes": [],
            "description": "100%",
            "_model_name": "FloatProgressModel",
            "bar_style": "success",
            "max": 100836,
            "_view_module": "@jupyter-widgets/controls",
            "_model_module_version": "1.5.0",
            "value": 100836,
            "_view_count": null,
            "_view_module_version": "1.5.0",
            "orientation": "horizontal",
            "min": 0,
            "description_tooltip": null,
            "_model_module": "@jupyter-widgets/controls",
            "layout": "IPY_MODEL_bfa42e56a5434055b4f00bd7d859279d"
          }
        },
        "ef29dd5f8c2c4f008baacf43bb072e42": {
          "model_module": "@jupyter-widgets/controls",
          "model_name": "HTMLModel",
          "state": {
            "_view_name": "HTMLView",
            "style": "IPY_MODEL_fd75260014724034a78e44b14559e4c0",
            "_dom_classes": [],
            "description": "",
            "_model_name": "HTMLModel",
            "placeholder": "​",
            "_view_module": "@jupyter-widgets/controls",
            "_model_module_version": "1.5.0",
            "value": " 100836/100836 [00:00&lt;00:00, 114147.32it/s]",
            "_view_count": null,
            "_view_module_version": "1.5.0",
            "description_tooltip": null,
            "_model_module": "@jupyter-widgets/controls",
            "layout": "IPY_MODEL_478f7e56ac7b42928df46a24732d09b4"
          }
        },
        "5de31191bbeb47d78f163781d4d7fc96": {
          "model_module": "@jupyter-widgets/controls",
          "model_name": "ProgressStyleModel",
          "state": {
            "_view_name": "StyleView",
            "_model_name": "ProgressStyleModel",
            "description_width": "initial",
            "_view_module": "@jupyter-widgets/base",
            "_model_module_version": "1.5.0",
            "_view_count": null,
            "_view_module_version": "1.2.0",
            "bar_color": null,
            "_model_module": "@jupyter-widgets/controls"
          }
        },
        "bfa42e56a5434055b4f00bd7d859279d": {
          "model_module": "@jupyter-widgets/base",
          "model_name": "LayoutModel",
          "state": {
            "_view_name": "LayoutView",
            "grid_template_rows": null,
            "right": null,
            "justify_content": null,
            "_view_module": "@jupyter-widgets/base",
            "overflow": null,
            "_model_module_version": "1.2.0",
            "_view_count": null,
            "flex_flow": null,
            "width": null,
            "min_width": null,
            "border": null,
            "align_items": null,
            "bottom": null,
            "_model_module": "@jupyter-widgets/base",
            "top": null,
            "grid_column": null,
            "overflow_y": null,
            "overflow_x": null,
            "grid_auto_flow": null,
            "grid_area": null,
            "grid_template_columns": null,
            "flex": null,
            "_model_name": "LayoutModel",
            "justify_items": null,
            "grid_row": null,
            "max_height": null,
            "align_content": null,
            "visibility": null,
            "align_self": null,
            "height": null,
            "min_height": null,
            "padding": null,
            "grid_auto_rows": null,
            "grid_gap": null,
            "max_width": null,
            "order": null,
            "_view_module_version": "1.2.0",
            "grid_template_areas": null,
            "object_position": null,
            "object_fit": null,
            "grid_auto_columns": null,
            "margin": null,
            "display": null,
            "left": null
          }
        },
        "fd75260014724034a78e44b14559e4c0": {
          "model_module": "@jupyter-widgets/controls",
          "model_name": "DescriptionStyleModel",
          "state": {
            "_view_name": "StyleView",
            "_model_name": "DescriptionStyleModel",
            "description_width": "",
            "_view_module": "@jupyter-widgets/base",
            "_model_module_version": "1.5.0",
            "_view_count": null,
            "_view_module_version": "1.2.0",
            "_model_module": "@jupyter-widgets/controls"
          }
        },
        "478f7e56ac7b42928df46a24732d09b4": {
          "model_module": "@jupyter-widgets/base",
          "model_name": "LayoutModel",
          "state": {
            "_view_name": "LayoutView",
            "grid_template_rows": null,
            "right": null,
            "justify_content": null,
            "_view_module": "@jupyter-widgets/base",
            "overflow": null,
            "_model_module_version": "1.2.0",
            "_view_count": null,
            "flex_flow": null,
            "width": null,
            "min_width": null,
            "border": null,
            "align_items": null,
            "bottom": null,
            "_model_module": "@jupyter-widgets/base",
            "top": null,
            "grid_column": null,
            "overflow_y": null,
            "overflow_x": null,
            "grid_auto_flow": null,
            "grid_area": null,
            "grid_template_columns": null,
            "flex": null,
            "_model_name": "LayoutModel",
            "justify_items": null,
            "grid_row": null,
            "max_height": null,
            "align_content": null,
            "visibility": null,
            "align_self": null,
            "height": null,
            "min_height": null,
            "padding": null,
            "grid_auto_rows": null,
            "grid_gap": null,
            "max_width": null,
            "order": null,
            "_view_module_version": "1.2.0",
            "grid_template_areas": null,
            "object_position": null,
            "object_fit": null,
            "grid_auto_columns": null,
            "margin": null,
            "display": null,
            "left": null
          }
        },
        "86c1a39c22374e74ad9e08bbc1092d1d": {
          "model_module": "@jupyter-widgets/controls",
          "model_name": "HBoxModel",
          "state": {
            "_view_name": "HBoxView",
            "_dom_classes": [],
            "_model_name": "HBoxModel",
            "_view_module": "@jupyter-widgets/controls",
            "_model_module_version": "1.5.0",
            "_view_count": null,
            "_view_module_version": "1.5.0",
            "box_style": "",
            "layout": "IPY_MODEL_a5bb313e57eb41f6a261d6c73ace9476",
            "_model_module": "@jupyter-widgets/controls",
            "children": [
              "IPY_MODEL_f62e2e576e4f466ba11ced597a22f9ab",
              "IPY_MODEL_1d2dc7e79e54486dba1c6523613ff7ed"
            ]
          }
        },
        "a5bb313e57eb41f6a261d6c73ace9476": {
          "model_module": "@jupyter-widgets/base",
          "model_name": "LayoutModel",
          "state": {
            "_view_name": "LayoutView",
            "grid_template_rows": null,
            "right": null,
            "justify_content": null,
            "_view_module": "@jupyter-widgets/base",
            "overflow": null,
            "_model_module_version": "1.2.0",
            "_view_count": null,
            "flex_flow": null,
            "width": null,
            "min_width": null,
            "border": null,
            "align_items": null,
            "bottom": null,
            "_model_module": "@jupyter-widgets/base",
            "top": null,
            "grid_column": null,
            "overflow_y": null,
            "overflow_x": null,
            "grid_auto_flow": null,
            "grid_area": null,
            "grid_template_columns": null,
            "flex": null,
            "_model_name": "LayoutModel",
            "justify_items": null,
            "grid_row": null,
            "max_height": null,
            "align_content": null,
            "visibility": null,
            "align_self": null,
            "height": null,
            "min_height": null,
            "padding": null,
            "grid_auto_rows": null,
            "grid_gap": null,
            "max_width": null,
            "order": null,
            "_view_module_version": "1.2.0",
            "grid_template_areas": null,
            "object_position": null,
            "object_fit": null,
            "grid_auto_columns": null,
            "margin": null,
            "display": null,
            "left": null
          }
        },
        "f62e2e576e4f466ba11ced597a22f9ab": {
          "model_module": "@jupyter-widgets/controls",
          "model_name": "FloatProgressModel",
          "state": {
            "_view_name": "ProgressView",
            "style": "IPY_MODEL_d5c7ff140f1a48c98aa137b35eaeb657",
            "_dom_classes": [],
            "description": "100%",
            "_model_name": "FloatProgressModel",
            "bar_style": "success",
            "max": 100836,
            "_view_module": "@jupyter-widgets/controls",
            "_model_module_version": "1.5.0",
            "value": 100836,
            "_view_count": null,
            "_view_module_version": "1.5.0",
            "orientation": "horizontal",
            "min": 0,
            "description_tooltip": null,
            "_model_module": "@jupyter-widgets/controls",
            "layout": "IPY_MODEL_b883199c6835401cb18f401ded17c23d"
          }
        },
        "1d2dc7e79e54486dba1c6523613ff7ed": {
          "model_module": "@jupyter-widgets/controls",
          "model_name": "HTMLModel",
          "state": {
            "_view_name": "HTMLView",
            "style": "IPY_MODEL_dffd646cb8fe4dbdacd4c14d501c5da6",
            "_dom_classes": [],
            "description": "",
            "_model_name": "HTMLModel",
            "placeholder": "​",
            "_view_module": "@jupyter-widgets/controls",
            "_model_module_version": "1.5.0",
            "value": " 100836/100836 [02:45&lt;00:00, 609.88it/s]",
            "_view_count": null,
            "_view_module_version": "1.5.0",
            "description_tooltip": null,
            "_model_module": "@jupyter-widgets/controls",
            "layout": "IPY_MODEL_2aecc6ba075449a496166d4ac508e52a"
          }
        },
        "d5c7ff140f1a48c98aa137b35eaeb657": {
          "model_module": "@jupyter-widgets/controls",
          "model_name": "ProgressStyleModel",
          "state": {
            "_view_name": "StyleView",
            "_model_name": "ProgressStyleModel",
            "description_width": "initial",
            "_view_module": "@jupyter-widgets/base",
            "_model_module_version": "1.5.0",
            "_view_count": null,
            "_view_module_version": "1.2.0",
            "bar_color": null,
            "_model_module": "@jupyter-widgets/controls"
          }
        },
        "b883199c6835401cb18f401ded17c23d": {
          "model_module": "@jupyter-widgets/base",
          "model_name": "LayoutModel",
          "state": {
            "_view_name": "LayoutView",
            "grid_template_rows": null,
            "right": null,
            "justify_content": null,
            "_view_module": "@jupyter-widgets/base",
            "overflow": null,
            "_model_module_version": "1.2.0",
            "_view_count": null,
            "flex_flow": null,
            "width": null,
            "min_width": null,
            "border": null,
            "align_items": null,
            "bottom": null,
            "_model_module": "@jupyter-widgets/base",
            "top": null,
            "grid_column": null,
            "overflow_y": null,
            "overflow_x": null,
            "grid_auto_flow": null,
            "grid_area": null,
            "grid_template_columns": null,
            "flex": null,
            "_model_name": "LayoutModel",
            "justify_items": null,
            "grid_row": null,
            "max_height": null,
            "align_content": null,
            "visibility": null,
            "align_self": null,
            "height": null,
            "min_height": null,
            "padding": null,
            "grid_auto_rows": null,
            "grid_gap": null,
            "max_width": null,
            "order": null,
            "_view_module_version": "1.2.0",
            "grid_template_areas": null,
            "object_position": null,
            "object_fit": null,
            "grid_auto_columns": null,
            "margin": null,
            "display": null,
            "left": null
          }
        },
        "dffd646cb8fe4dbdacd4c14d501c5da6": {
          "model_module": "@jupyter-widgets/controls",
          "model_name": "DescriptionStyleModel",
          "state": {
            "_view_name": "StyleView",
            "_model_name": "DescriptionStyleModel",
            "description_width": "",
            "_view_module": "@jupyter-widgets/base",
            "_model_module_version": "1.5.0",
            "_view_count": null,
            "_view_module_version": "1.2.0",
            "_model_module": "@jupyter-widgets/controls"
          }
        },
        "2aecc6ba075449a496166d4ac508e52a": {
          "model_module": "@jupyter-widgets/base",
          "model_name": "LayoutModel",
          "state": {
            "_view_name": "LayoutView",
            "grid_template_rows": null,
            "right": null,
            "justify_content": null,
            "_view_module": "@jupyter-widgets/base",
            "overflow": null,
            "_model_module_version": "1.2.0",
            "_view_count": null,
            "flex_flow": null,
            "width": null,
            "min_width": null,
            "border": null,
            "align_items": null,
            "bottom": null,
            "_model_module": "@jupyter-widgets/base",
            "top": null,
            "grid_column": null,
            "overflow_y": null,
            "overflow_x": null,
            "grid_auto_flow": null,
            "grid_area": null,
            "grid_template_columns": null,
            "flex": null,
            "_model_name": "LayoutModel",
            "justify_items": null,
            "grid_row": null,
            "max_height": null,
            "align_content": null,
            "visibility": null,
            "align_self": null,
            "height": null,
            "min_height": null,
            "padding": null,
            "grid_auto_rows": null,
            "grid_gap": null,
            "max_width": null,
            "order": null,
            "_view_module_version": "1.2.0",
            "grid_template_areas": null,
            "object_position": null,
            "object_fit": null,
            "grid_auto_columns": null,
            "margin": null,
            "display": null,
            "left": null
          }
        },
        "29c0d0caec4044e9a3d54028bc732b35": {
          "model_module": "@jupyter-widgets/controls",
          "model_name": "HBoxModel",
          "state": {
            "_view_name": "HBoxView",
            "_dom_classes": [],
            "_model_name": "HBoxModel",
            "_view_module": "@jupyter-widgets/controls",
            "_model_module_version": "1.5.0",
            "_view_count": null,
            "_view_module_version": "1.5.0",
            "box_style": "",
            "layout": "IPY_MODEL_709184e1458549e18cfc13aaae7256cf",
            "_model_module": "@jupyter-widgets/controls",
            "children": [
              "IPY_MODEL_19f7f28d67394b38b8b14afe53a8cc3b",
              "IPY_MODEL_c70f41892b8842c0b8a55fea77f3da92"
            ]
          }
        },
        "709184e1458549e18cfc13aaae7256cf": {
          "model_module": "@jupyter-widgets/base",
          "model_name": "LayoutModel",
          "state": {
            "_view_name": "LayoutView",
            "grid_template_rows": null,
            "right": null,
            "justify_content": null,
            "_view_module": "@jupyter-widgets/base",
            "overflow": null,
            "_model_module_version": "1.2.0",
            "_view_count": null,
            "flex_flow": null,
            "width": null,
            "min_width": null,
            "border": null,
            "align_items": null,
            "bottom": null,
            "_model_module": "@jupyter-widgets/base",
            "top": null,
            "grid_column": null,
            "overflow_y": null,
            "overflow_x": null,
            "grid_auto_flow": null,
            "grid_area": null,
            "grid_template_columns": null,
            "flex": null,
            "_model_name": "LayoutModel",
            "justify_items": null,
            "grid_row": null,
            "max_height": null,
            "align_content": null,
            "visibility": null,
            "align_self": null,
            "height": null,
            "min_height": null,
            "padding": null,
            "grid_auto_rows": null,
            "grid_gap": null,
            "max_width": null,
            "order": null,
            "_view_module_version": "1.2.0",
            "grid_template_areas": null,
            "object_position": null,
            "object_fit": null,
            "grid_auto_columns": null,
            "margin": null,
            "display": null,
            "left": null
          }
        },
        "19f7f28d67394b38b8b14afe53a8cc3b": {
          "model_module": "@jupyter-widgets/controls",
          "model_name": "FloatProgressModel",
          "state": {
            "_view_name": "ProgressView",
            "style": "IPY_MODEL_2c582cf935c648c882b644a6cde82b1f",
            "_dom_classes": [],
            "description": "100%",
            "_model_name": "FloatProgressModel",
            "bar_style": "success",
            "max": 40,
            "_view_module": "@jupyter-widgets/controls",
            "_model_module_version": "1.5.0",
            "value": 40,
            "_view_count": null,
            "_view_module_version": "1.5.0",
            "orientation": "horizontal",
            "min": 0,
            "description_tooltip": null,
            "_model_module": "@jupyter-widgets/controls",
            "layout": "IPY_MODEL_c0ab634220a043008732714ff4f44725"
          }
        },
        "c70f41892b8842c0b8a55fea77f3da92": {
          "model_module": "@jupyter-widgets/controls",
          "model_name": "HTMLModel",
          "state": {
            "_view_name": "HTMLView",
            "style": "IPY_MODEL_ba843df09efa42109c7e9173ea989bdb",
            "_dom_classes": [],
            "description": "",
            "_model_name": "HTMLModel",
            "placeholder": "​",
            "_view_module": "@jupyter-widgets/controls",
            "_model_module_version": "1.5.0",
            "value": " 40/40 [00:21&lt;00:00,  1.83it/s]",
            "_view_count": null,
            "_view_module_version": "1.5.0",
            "description_tooltip": null,
            "_model_module": "@jupyter-widgets/controls",
            "layout": "IPY_MODEL_a107a8e46b594c4896f1cdec0f3eb608"
          }
        },
        "2c582cf935c648c882b644a6cde82b1f": {
          "model_module": "@jupyter-widgets/controls",
          "model_name": "ProgressStyleModel",
          "state": {
            "_view_name": "StyleView",
            "_model_name": "ProgressStyleModel",
            "description_width": "initial",
            "_view_module": "@jupyter-widgets/base",
            "_model_module_version": "1.5.0",
            "_view_count": null,
            "_view_module_version": "1.2.0",
            "bar_color": null,
            "_model_module": "@jupyter-widgets/controls"
          }
        },
        "c0ab634220a043008732714ff4f44725": {
          "model_module": "@jupyter-widgets/base",
          "model_name": "LayoutModel",
          "state": {
            "_view_name": "LayoutView",
            "grid_template_rows": null,
            "right": null,
            "justify_content": null,
            "_view_module": "@jupyter-widgets/base",
            "overflow": null,
            "_model_module_version": "1.2.0",
            "_view_count": null,
            "flex_flow": null,
            "width": null,
            "min_width": null,
            "border": null,
            "align_items": null,
            "bottom": null,
            "_model_module": "@jupyter-widgets/base",
            "top": null,
            "grid_column": null,
            "overflow_y": null,
            "overflow_x": null,
            "grid_auto_flow": null,
            "grid_area": null,
            "grid_template_columns": null,
            "flex": null,
            "_model_name": "LayoutModel",
            "justify_items": null,
            "grid_row": null,
            "max_height": null,
            "align_content": null,
            "visibility": null,
            "align_self": null,
            "height": null,
            "min_height": null,
            "padding": null,
            "grid_auto_rows": null,
            "grid_gap": null,
            "max_width": null,
            "order": null,
            "_view_module_version": "1.2.0",
            "grid_template_areas": null,
            "object_position": null,
            "object_fit": null,
            "grid_auto_columns": null,
            "margin": null,
            "display": null,
            "left": null
          }
        },
        "ba843df09efa42109c7e9173ea989bdb": {
          "model_module": "@jupyter-widgets/controls",
          "model_name": "DescriptionStyleModel",
          "state": {
            "_view_name": "StyleView",
            "_model_name": "DescriptionStyleModel",
            "description_width": "",
            "_view_module": "@jupyter-widgets/base",
            "_model_module_version": "1.5.0",
            "_view_count": null,
            "_view_module_version": "1.2.0",
            "_model_module": "@jupyter-widgets/controls"
          }
        },
        "a107a8e46b594c4896f1cdec0f3eb608": {
          "model_module": "@jupyter-widgets/base",
          "model_name": "LayoutModel",
          "state": {
            "_view_name": "LayoutView",
            "grid_template_rows": null,
            "right": null,
            "justify_content": null,
            "_view_module": "@jupyter-widgets/base",
            "overflow": null,
            "_model_module_version": "1.2.0",
            "_view_count": null,
            "flex_flow": null,
            "width": null,
            "min_width": null,
            "border": null,
            "align_items": null,
            "bottom": null,
            "_model_module": "@jupyter-widgets/base",
            "top": null,
            "grid_column": null,
            "overflow_y": null,
            "overflow_x": null,
            "grid_auto_flow": null,
            "grid_area": null,
            "grid_template_columns": null,
            "flex": null,
            "_model_name": "LayoutModel",
            "justify_items": null,
            "grid_row": null,
            "max_height": null,
            "align_content": null,
            "visibility": null,
            "align_self": null,
            "height": null,
            "min_height": null,
            "padding": null,
            "grid_auto_rows": null,
            "grid_gap": null,
            "max_width": null,
            "order": null,
            "_view_module_version": "1.2.0",
            "grid_template_areas": null,
            "object_position": null,
            "object_fit": null,
            "grid_auto_columns": null,
            "margin": null,
            "display": null,
            "left": null
          }
        },
        "e06356c623694d7f9de425c649249b9c": {
          "model_module": "@jupyter-widgets/controls",
          "model_name": "HBoxModel",
          "state": {
            "_view_name": "HBoxView",
            "_dom_classes": [],
            "_model_name": "HBoxModel",
            "_view_module": "@jupyter-widgets/controls",
            "_model_module_version": "1.5.0",
            "_view_count": null,
            "_view_module_version": "1.5.0",
            "box_style": "",
            "layout": "IPY_MODEL_de5fbb25c65a4a44a70eb28a035075b6",
            "_model_module": "@jupyter-widgets/controls",
            "children": [
              "IPY_MODEL_b60f85e16e3d475d98ee2a89851d7fc3",
              "IPY_MODEL_1cc9cff3d8c04653bd16a15236808b8c"
            ]
          }
        },
        "de5fbb25c65a4a44a70eb28a035075b6": {
          "model_module": "@jupyter-widgets/base",
          "model_name": "LayoutModel",
          "state": {
            "_view_name": "LayoutView",
            "grid_template_rows": null,
            "right": null,
            "justify_content": null,
            "_view_module": "@jupyter-widgets/base",
            "overflow": null,
            "_model_module_version": "1.2.0",
            "_view_count": null,
            "flex_flow": null,
            "width": null,
            "min_width": null,
            "border": null,
            "align_items": null,
            "bottom": null,
            "_model_module": "@jupyter-widgets/base",
            "top": null,
            "grid_column": null,
            "overflow_y": null,
            "overflow_x": null,
            "grid_auto_flow": null,
            "grid_area": null,
            "grid_template_columns": null,
            "flex": null,
            "_model_name": "LayoutModel",
            "justify_items": null,
            "grid_row": null,
            "max_height": null,
            "align_content": null,
            "visibility": null,
            "align_self": null,
            "height": null,
            "min_height": null,
            "padding": null,
            "grid_auto_rows": null,
            "grid_gap": null,
            "max_width": null,
            "order": null,
            "_view_module_version": "1.2.0",
            "grid_template_areas": null,
            "object_position": null,
            "object_fit": null,
            "grid_auto_columns": null,
            "margin": null,
            "display": null,
            "left": null
          }
        },
        "b60f85e16e3d475d98ee2a89851d7fc3": {
          "model_module": "@jupyter-widgets/controls",
          "model_name": "FloatProgressModel",
          "state": {
            "_view_name": "ProgressView",
            "style": "IPY_MODEL_16e38c617ae94ec4ac285f7841c6d5fd",
            "_dom_classes": [],
            "description": "100%",
            "_model_name": "FloatProgressModel",
            "bar_style": "success",
            "max": 40,
            "_view_module": "@jupyter-widgets/controls",
            "_model_module_version": "1.5.0",
            "value": 40,
            "_view_count": null,
            "_view_module_version": "1.5.0",
            "orientation": "horizontal",
            "min": 0,
            "description_tooltip": null,
            "_model_module": "@jupyter-widgets/controls",
            "layout": "IPY_MODEL_198f75a6ba8a4d2bafbe91484367852c"
          }
        },
        "1cc9cff3d8c04653bd16a15236808b8c": {
          "model_module": "@jupyter-widgets/controls",
          "model_name": "HTMLModel",
          "state": {
            "_view_name": "HTMLView",
            "style": "IPY_MODEL_b0e5ee8d9e544588884794e2675106c8",
            "_dom_classes": [],
            "description": "",
            "_model_name": "HTMLModel",
            "placeholder": "​",
            "_view_module": "@jupyter-widgets/controls",
            "_model_module_version": "1.5.0",
            "value": " 40/40 [00:17&lt;00:00,  2.29it/s]",
            "_view_count": null,
            "_view_module_version": "1.5.0",
            "description_tooltip": null,
            "_model_module": "@jupyter-widgets/controls",
            "layout": "IPY_MODEL_bfec34b4906841c883b3c3eb4b1834b5"
          }
        },
        "16e38c617ae94ec4ac285f7841c6d5fd": {
          "model_module": "@jupyter-widgets/controls",
          "model_name": "ProgressStyleModel",
          "state": {
            "_view_name": "StyleView",
            "_model_name": "ProgressStyleModel",
            "description_width": "initial",
            "_view_module": "@jupyter-widgets/base",
            "_model_module_version": "1.5.0",
            "_view_count": null,
            "_view_module_version": "1.2.0",
            "bar_color": null,
            "_model_module": "@jupyter-widgets/controls"
          }
        },
        "198f75a6ba8a4d2bafbe91484367852c": {
          "model_module": "@jupyter-widgets/base",
          "model_name": "LayoutModel",
          "state": {
            "_view_name": "LayoutView",
            "grid_template_rows": null,
            "right": null,
            "justify_content": null,
            "_view_module": "@jupyter-widgets/base",
            "overflow": null,
            "_model_module_version": "1.2.0",
            "_view_count": null,
            "flex_flow": null,
            "width": null,
            "min_width": null,
            "border": null,
            "align_items": null,
            "bottom": null,
            "_model_module": "@jupyter-widgets/base",
            "top": null,
            "grid_column": null,
            "overflow_y": null,
            "overflow_x": null,
            "grid_auto_flow": null,
            "grid_area": null,
            "grid_template_columns": null,
            "flex": null,
            "_model_name": "LayoutModel",
            "justify_items": null,
            "grid_row": null,
            "max_height": null,
            "align_content": null,
            "visibility": null,
            "align_self": null,
            "height": null,
            "min_height": null,
            "padding": null,
            "grid_auto_rows": null,
            "grid_gap": null,
            "max_width": null,
            "order": null,
            "_view_module_version": "1.2.0",
            "grid_template_areas": null,
            "object_position": null,
            "object_fit": null,
            "grid_auto_columns": null,
            "margin": null,
            "display": null,
            "left": null
          }
        },
        "b0e5ee8d9e544588884794e2675106c8": {
          "model_module": "@jupyter-widgets/controls",
          "model_name": "DescriptionStyleModel",
          "state": {
            "_view_name": "StyleView",
            "_model_name": "DescriptionStyleModel",
            "description_width": "",
            "_view_module": "@jupyter-widgets/base",
            "_model_module_version": "1.5.0",
            "_view_count": null,
            "_view_module_version": "1.2.0",
            "_model_module": "@jupyter-widgets/controls"
          }
        },
        "bfec34b4906841c883b3c3eb4b1834b5": {
          "model_module": "@jupyter-widgets/base",
          "model_name": "LayoutModel",
          "state": {
            "_view_name": "LayoutView",
            "grid_template_rows": null,
            "right": null,
            "justify_content": null,
            "_view_module": "@jupyter-widgets/base",
            "overflow": null,
            "_model_module_version": "1.2.0",
            "_view_count": null,
            "flex_flow": null,
            "width": null,
            "min_width": null,
            "border": null,
            "align_items": null,
            "bottom": null,
            "_model_module": "@jupyter-widgets/base",
            "top": null,
            "grid_column": null,
            "overflow_y": null,
            "overflow_x": null,
            "grid_auto_flow": null,
            "grid_area": null,
            "grid_template_columns": null,
            "flex": null,
            "_model_name": "LayoutModel",
            "justify_items": null,
            "grid_row": null,
            "max_height": null,
            "align_content": null,
            "visibility": null,
            "align_self": null,
            "height": null,
            "min_height": null,
            "padding": null,
            "grid_auto_rows": null,
            "grid_gap": null,
            "max_width": null,
            "order": null,
            "_view_module_version": "1.2.0",
            "grid_template_areas": null,
            "object_position": null,
            "object_fit": null,
            "grid_auto_columns": null,
            "margin": null,
            "display": null,
            "left": null
          }
        },
        "25a68190215a4f03861f714ef8b2b2c5": {
          "model_module": "@jupyter-widgets/controls",
          "model_name": "HBoxModel",
          "state": {
            "_view_name": "HBoxView",
            "_dom_classes": [],
            "_model_name": "HBoxModel",
            "_view_module": "@jupyter-widgets/controls",
            "_model_module_version": "1.5.0",
            "_view_count": null,
            "_view_module_version": "1.5.0",
            "box_style": "",
            "layout": "IPY_MODEL_cb2462428f274a9eb12b10e04b4ee6ec",
            "_model_module": "@jupyter-widgets/controls",
            "children": [
              "IPY_MODEL_c0111f6148484328b074dc92ab792a19",
              "IPY_MODEL_e340ce44def949188b19a8e9ff5e3b32"
            ]
          }
        },
        "cb2462428f274a9eb12b10e04b4ee6ec": {
          "model_module": "@jupyter-widgets/base",
          "model_name": "LayoutModel",
          "state": {
            "_view_name": "LayoutView",
            "grid_template_rows": null,
            "right": null,
            "justify_content": null,
            "_view_module": "@jupyter-widgets/base",
            "overflow": null,
            "_model_module_version": "1.2.0",
            "_view_count": null,
            "flex_flow": null,
            "width": null,
            "min_width": null,
            "border": null,
            "align_items": null,
            "bottom": null,
            "_model_module": "@jupyter-widgets/base",
            "top": null,
            "grid_column": null,
            "overflow_y": null,
            "overflow_x": null,
            "grid_auto_flow": null,
            "grid_area": null,
            "grid_template_columns": null,
            "flex": null,
            "_model_name": "LayoutModel",
            "justify_items": null,
            "grid_row": null,
            "max_height": null,
            "align_content": null,
            "visibility": null,
            "align_self": null,
            "height": null,
            "min_height": null,
            "padding": null,
            "grid_auto_rows": null,
            "grid_gap": null,
            "max_width": null,
            "order": null,
            "_view_module_version": "1.2.0",
            "grid_template_areas": null,
            "object_position": null,
            "object_fit": null,
            "grid_auto_columns": null,
            "margin": null,
            "display": null,
            "left": null
          }
        },
        "c0111f6148484328b074dc92ab792a19": {
          "model_module": "@jupyter-widgets/controls",
          "model_name": "FloatProgressModel",
          "state": {
            "_view_name": "ProgressView",
            "style": "IPY_MODEL_e3c03c52eba04ae486266afd3e4c8519",
            "_dom_classes": [],
            "description": "  0%",
            "_model_name": "FloatProgressModel",
            "bar_style": "danger",
            "max": 40,
            "_view_module": "@jupyter-widgets/controls",
            "_model_module_version": "1.5.0",
            "value": 0,
            "_view_count": null,
            "_view_module_version": "1.5.0",
            "orientation": "horizontal",
            "min": 0,
            "description_tooltip": null,
            "_model_module": "@jupyter-widgets/controls",
            "layout": "IPY_MODEL_36d9aca60d4d4f36abb3a9df255a59b3"
          }
        },
        "e340ce44def949188b19a8e9ff5e3b32": {
          "model_module": "@jupyter-widgets/controls",
          "model_name": "HTMLModel",
          "state": {
            "_view_name": "HTMLView",
            "style": "IPY_MODEL_8682a2b00bf54a3fa2bf193cd7087e02",
            "_dom_classes": [],
            "description": "",
            "_model_name": "HTMLModel",
            "placeholder": "​",
            "_view_module": "@jupyter-widgets/controls",
            "_model_module_version": "1.5.0",
            "value": " 0/40 [00:03&lt;?, ?it/s]",
            "_view_count": null,
            "_view_module_version": "1.5.0",
            "description_tooltip": null,
            "_model_module": "@jupyter-widgets/controls",
            "layout": "IPY_MODEL_9af9ed9b91884e7b9baffcc797855ab5"
          }
        },
        "e3c03c52eba04ae486266afd3e4c8519": {
          "model_module": "@jupyter-widgets/controls",
          "model_name": "ProgressStyleModel",
          "state": {
            "_view_name": "StyleView",
            "_model_name": "ProgressStyleModel",
            "description_width": "initial",
            "_view_module": "@jupyter-widgets/base",
            "_model_module_version": "1.5.0",
            "_view_count": null,
            "_view_module_version": "1.2.0",
            "bar_color": null,
            "_model_module": "@jupyter-widgets/controls"
          }
        },
        "36d9aca60d4d4f36abb3a9df255a59b3": {
          "model_module": "@jupyter-widgets/base",
          "model_name": "LayoutModel",
          "state": {
            "_view_name": "LayoutView",
            "grid_template_rows": null,
            "right": null,
            "justify_content": null,
            "_view_module": "@jupyter-widgets/base",
            "overflow": null,
            "_model_module_version": "1.2.0",
            "_view_count": null,
            "flex_flow": null,
            "width": null,
            "min_width": null,
            "border": null,
            "align_items": null,
            "bottom": null,
            "_model_module": "@jupyter-widgets/base",
            "top": null,
            "grid_column": null,
            "overflow_y": null,
            "overflow_x": null,
            "grid_auto_flow": null,
            "grid_area": null,
            "grid_template_columns": null,
            "flex": null,
            "_model_name": "LayoutModel",
            "justify_items": null,
            "grid_row": null,
            "max_height": null,
            "align_content": null,
            "visibility": null,
            "align_self": null,
            "height": null,
            "min_height": null,
            "padding": null,
            "grid_auto_rows": null,
            "grid_gap": null,
            "max_width": null,
            "order": null,
            "_view_module_version": "1.2.0",
            "grid_template_areas": null,
            "object_position": null,
            "object_fit": null,
            "grid_auto_columns": null,
            "margin": null,
            "display": null,
            "left": null
          }
        },
        "8682a2b00bf54a3fa2bf193cd7087e02": {
          "model_module": "@jupyter-widgets/controls",
          "model_name": "DescriptionStyleModel",
          "state": {
            "_view_name": "StyleView",
            "_model_name": "DescriptionStyleModel",
            "description_width": "",
            "_view_module": "@jupyter-widgets/base",
            "_model_module_version": "1.5.0",
            "_view_count": null,
            "_view_module_version": "1.2.0",
            "_model_module": "@jupyter-widgets/controls"
          }
        },
        "9af9ed9b91884e7b9baffcc797855ab5": {
          "model_module": "@jupyter-widgets/base",
          "model_name": "LayoutModel",
          "state": {
            "_view_name": "LayoutView",
            "grid_template_rows": null,
            "right": null,
            "justify_content": null,
            "_view_module": "@jupyter-widgets/base",
            "overflow": null,
            "_model_module_version": "1.2.0",
            "_view_count": null,
            "flex_flow": null,
            "width": null,
            "min_width": null,
            "border": null,
            "align_items": null,
            "bottom": null,
            "_model_module": "@jupyter-widgets/base",
            "top": null,
            "grid_column": null,
            "overflow_y": null,
            "overflow_x": null,
            "grid_auto_flow": null,
            "grid_area": null,
            "grid_template_columns": null,
            "flex": null,
            "_model_name": "LayoutModel",
            "justify_items": null,
            "grid_row": null,
            "max_height": null,
            "align_content": null,
            "visibility": null,
            "align_self": null,
            "height": null,
            "min_height": null,
            "padding": null,
            "grid_auto_rows": null,
            "grid_gap": null,
            "max_width": null,
            "order": null,
            "_view_module_version": "1.2.0",
            "grid_template_areas": null,
            "object_position": null,
            "object_fit": null,
            "grid_auto_columns": null,
            "margin": null,
            "display": null,
            "left": null
          }
        }
      }
    },
    "accelerator": "GPU"
  },
  "cells": [
    {
      "cell_type": "markdown",
      "metadata": {
        "id": "ETT_jzyCslQd"
      },
      "source": [
        "# Torch-FM을 통해 Factorization Machine 이해하기\n",
        "\n",
        "## Reference\n",
        "    * Paper\n",
        "      https://www.csie.ntu.edu.tw/~b97053/paper/Rendle2010FM.pdf\n",
        "    * well-formed paper description\n",
        "      https://www.jefkine.com/recsys/2017/03/27/factorization-machines/\n",
        "    * Torch-FM package\n",
        "      https://github.com/rixwew/pytorch-fm\n",
        "    * implementation and additional reference by pytorch\n",
        "      https://www.kaggle.com/gennadylaptev/factorization-machine-implemented-in-pytorch\n",
        "\n",
        "\n"
      ]
    },
    {
      "cell_type": "code",
      "metadata": {
        "colab": {
          "base_uri": "https://localhost:8080/"
        },
        "id": "VCEgaiH2mbi6",
        "outputId": "926578d8-c60a-421d-d7e8-703d34f10140"
      },
      "source": [
        "from google.colab import drive\n",
        "drive.mount(\"/gdrive\")"
      ],
      "execution_count": 12,
      "outputs": [
        {
          "output_type": "stream",
          "text": [
            "Mounted at /gdrive\n"
          ],
          "name": "stdout"
        }
      ]
    },
    {
      "cell_type": "markdown",
      "metadata": {
        "id": "sOivF7fotiJ3"
      },
      "source": [
        "## Torch-FM example implementation (using movie-lens 1M dataset)"
      ]
    },
    {
      "cell_type": "code",
      "metadata": {
        "colab": {
          "base_uri": "https://localhost:8080/"
        },
        "id": "hXkqfSBCtUAN",
        "outputId": "105f2cd2-68db-46b5-a314-52bb532576f3"
      },
      "source": [
        "ls -l /gdrive/MyDrive/colab/Factorization_Machine/data/"
      ],
      "execution_count": 13,
      "outputs": [
        {
          "output_type": "stream",
          "text": [
            "total 18931\n",
            "-rw------- 1 root root   197979 Nov 19 04:30 links.csv\n",
            "-rw------- 1 root root   494431 Nov 24 01:17 movies.csv\n",
            "-rw------- 1 root root  2483723 Nov 24 01:17 ratings.csv\n",
            "-rw------- 1 root root   118660 Nov 19 04:30 tags.csv\n",
            "-rw------- 1 root root   238833 Dec  2 10:04 tag_tokenizer_bpe_100.model\n",
            "-rw------- 1 root root      672 Dec  2 10:04 tag_tokenizer_bpe_100.vocab\n",
            "-rw------- 1 root root   370999 Nov 27 05:52 tag_tokenizer_bpe_9000.model\n",
            "-rw------- 1 root root   114127 Nov 27 05:52 tag_tokenizer_bpe_9000.vocab\n",
            "-rw------- 1 root root   271684 Dec  2 10:04 tag_tokenizer_input_bpe_100.txt\n",
            "-rw------- 1 root root   236678 Nov 27 05:52 tag_tokenizer_input_bpe_24000.txt\n",
            "-rw------- 1 root root   271684 Nov 27 05:57 tag_tokenizer_input_bpe_9000.txt\n",
            "-rw------- 1 root root   276402 Dec  2 10:04 tag_w2v_bpe_100.model\n",
            "-rw------- 1 root root   613252 Dec  2 10:04 title_tokenizer_bpe_24000.model\n",
            "-rw------- 1 root root   340369 Dec  2 10:04 title_tokenizer_bpe_24000.vocab\n",
            "-rw------- 1 root root   193941 Dec  2 10:04 title_tokenizer_input_bpe_24000.txt\n",
            "-rw------- 1 root root 13158346 Dec  2 10:04 title_w2v_bpe_24000.model\n",
            "-rw------- 1 root root        0 Nov 27 08:43 X_data.npy\n"
          ],
          "name": "stdout"
        }
      ]
    },
    {
      "cell_type": "code",
      "metadata": {
        "id": "im5jYGUZuBos"
      },
      "source": [
        "import pandas as pd\n",
        "import numpy as np\n",
        "import torch\n",
        "import torch.nn as nn"
      ],
      "execution_count": 14,
      "outputs": []
    },
    {
      "cell_type": "code",
      "metadata": {
        "id": "6t1SpuJEtT3y"
      },
      "source": [
        "dataset_name=\"movielens1M\"\n",
        "dataset_path = \"/gdrive/MyDrive/colab/Factorization_Machine/data/ratings.csv\"\n",
        "model_name='fm'\n",
        "epoch=100\n",
        "learning_rate=0.001\n",
        "batch_size=2048\n",
        "weight_decay=1e-6\n",
        "device = \"cuda:0\""
      ],
      "execution_count": 15,
      "outputs": []
    },
    {
      "cell_type": "code",
      "metadata": {
        "colab": {
          "base_uri": "https://localhost:8080/"
        },
        "id": "1Cnyk4Rottof",
        "outputId": "e3a3b91c-8a66-498c-ad69-112c9e9c48a7"
      },
      "source": [
        "data = pd.read_csv(dataset_path, sep=\",\", engine=\"python\", header=None)\n",
        "data = data.to_numpy()[:, :3]\n",
        "data"
      ],
      "execution_count": 16,
      "outputs": [
        {
          "output_type": "execute_result",
          "data": {
            "text/plain": [
              "array([['userId', 'movieId', 'rating'],\n",
              "       ['1', '1', '4.0'],\n",
              "       ['1', '3', '4.0'],\n",
              "       ...,\n",
              "       ['610', '168250', '5.0'],\n",
              "       ['610', '168252', '5.0'],\n",
              "       ['610', '170875', '3.0']], dtype=object)"
            ]
          },
          "metadata": {
            "tags": []
          },
          "execution_count": 16
        }
      ]
    },
    {
      "cell_type": "code",
      "metadata": {
        "id": "6uzOSVaGufQm"
      },
      "source": [
        "import numpy as np\n",
        "import pandas as pd\n",
        "import torch.utils.data\n",
        "\n",
        "\n",
        "class MovieLens20MDataset(torch.utils.data.Dataset):\n",
        "    \"\"\"\n",
        "    MovieLens 20M Dataset\n",
        "\n",
        "    Data preparation\n",
        "        treat samples with a rating less than 3 as negative samples\n",
        "        3점 이하의 평가에 대해서는 0(negative sample)로 활용\n",
        "\n",
        "    :param dataset_path: MovieLens dataset path\n",
        "\n",
        "    Reference:\n",
        "        https://grouplens.org/datasets/movielens\n",
        "    \"\"\"\n",
        "\n",
        "    def __init__(self, dataset_path, sep=',', engine='c', header='infer'):\n",
        "        data = pd.read_csv(dataset_path, sep=sep, engine=engine, header=header).to_numpy()[:, :3]\n",
        "        self.items = data[:, :2].astype(np.int) - 1  # -1 because ID begins from 1\n",
        "        self.targets = self.__preprocess_target(data[:, 2]).astype(np.float32)\n",
        "        self.field_dims = np.max(self.items, axis=0) + 1\n",
        "        self.user_field_idx = np.array((0, ), dtype=np.long)\n",
        "        self.item_field_idx = np.array((1,), dtype=np.long)\n",
        "\n",
        "    def __len__(self):\n",
        "        return self.targets.shape[0]\n",
        "\n",
        "    def __getitem__(self, index):\n",
        "        return self.items[index], self.targets[index]\n",
        "\n",
        "    def __preprocess_target(self, target):\n",
        "        target[target <= 3] = 0\n",
        "        target[target > 3] = 1\n",
        "        return target\n",
        "\n",
        "\n",
        "class MovieLens1MDataset(MovieLens20MDataset):\n",
        "    \"\"\"\n",
        "    MovieLens 1M Dataset\n",
        "\n",
        "    Data preparation\n",
        "        treat samples with a rating less than 3 as negative samples\n",
        "\n",
        "    :param dataset_path: MovieLens dataset path\n",
        "\n",
        "    Reference:\n",
        "        https://grouplens.org/datasets/movielens\n",
        "    \"\"\"\n",
        "\n",
        "    def __init__(self, dataset_path):\n",
        "        super().__init__(dataset_path, sep=',', engine='python', header=0)\n"
      ],
      "execution_count": 17,
      "outputs": []
    },
    {
      "cell_type": "code",
      "metadata": {
        "id": "kFcr3GCFt6Y8"
      },
      "source": [
        "def get_dataset(name, path):\n",
        "    if name == 'movielens1M':\n",
        "        return MovieLens1MDataset(path)\n",
        "    elif name == 'movielens20M':\n",
        "        return MovieLens20MDataset(path)\n",
        "    elif name == 'criteo':\n",
        "        return CriteoDataset(path)\n",
        "    elif name == 'avazu':\n",
        "        return AvazuDataset(path)\n",
        "    else:\n",
        "        raise ValueError('unknown dataset name: ' + name)"
      ],
      "execution_count": 18,
      "outputs": []
    },
    {
      "cell_type": "code",
      "metadata": {
        "id": "izNcXb9ZttmC"
      },
      "source": [
        "device = torch.device(device)\n",
        "dataset = get_dataset(dataset_name, dataset_path)\n",
        "train_length = int(len(dataset) * 0.8)\n",
        "valid_length = int(len(dataset) * 0.1)\n",
        "test_length = len(dataset) - train_length - valid_length\n",
        "train_dataset, valid_dataset, test_dataset = torch.utils.data.random_split(\n",
        "    dataset, (train_length, valid_length, test_length))"
      ],
      "execution_count": 19,
      "outputs": []
    },
    {
      "cell_type": "code",
      "metadata": {
        "id": "5b-sgHJlttkB"
      },
      "source": [
        "from torch.utils.data import DataLoader\n",
        "\n",
        "train_data_loader = DataLoader(train_dataset, batch_size=batch_size, num_workers=8)\n",
        "valid_data_loader = DataLoader(valid_dataset, batch_size=batch_size, num_workers=8)\n",
        "test_data_loader = DataLoader(test_dataset, batch_size=batch_size, num_workers=8)"
      ],
      "execution_count": 20,
      "outputs": []
    },
    {
      "cell_type": "code",
      "metadata": {
        "colab": {
          "base_uri": "https://localhost:8080/"
        },
        "id": "QRv3p3B53ou9",
        "outputId": "ddaacfcc-99d1-4a7d-bfba-8c15e26abc36"
      },
      "source": [
        "dataset.field_dims"
      ],
      "execution_count": 21,
      "outputs": [
        {
          "output_type": "execute_result",
          "data": {
            "text/plain": [
              "array([   610, 193609])"
            ]
          },
          "metadata": {
            "tags": []
          },
          "execution_count": 21
        }
      ]
    },
    {
      "cell_type": "code",
      "metadata": {
        "id": "944AvrQD3qCz"
      },
      "source": [
        "iteration = iter(train_data_loader)\n",
        "data = next(iteration)"
      ],
      "execution_count": 22,
      "outputs": []
    },
    {
      "cell_type": "code",
      "metadata": {
        "colab": {
          "base_uri": "https://localhost:8080/"
        },
        "id": "6WULG8mY3r03",
        "outputId": "63c184ce-e9ba-479a-ea54-cb3c3edd5ec7"
      },
      "source": [
        "data"
      ],
      "execution_count": 23,
      "outputs": [
        {
          "output_type": "execute_result",
          "data": {
            "text/plain": [
              "[tensor([[   220,   6538],\n",
              "         [   516,  45667],\n",
              "         [   571,   1692],\n",
              "         ...,\n",
              "         [   293,   2495],\n",
              "         [   248, 102715],\n",
              "         [     9,  72997]]), tensor([1., 0., 0.,  ..., 0., 1., 0.])]"
            ]
          },
          "metadata": {
            "tags": []
          },
          "execution_count": 23
        }
      ]
    },
    {
      "cell_type": "markdown",
      "metadata": {
        "id": "omZqZYpZvaTx"
      },
      "source": [
        "### Torch-FM code 분해 및 실행\n",
        "\n",
        "#### fm.py\n",
        "\n",
        "**FactorizationMachineModel**: Factorization Machine의 전반적인 실행을 위한 클래스"
      ]
    },
    {
      "cell_type": "code",
      "metadata": {
        "id": "LJQAPOZuttay"
      },
      "source": [
        "import torch\n",
        "\n",
        "# from torchfm.layer import FactorizationMachine, FeaturesEmbedding, FeaturesLinear\n",
        "\n",
        "\n",
        "class FactorizationMachineModel(torch.nn.Module):\n",
        "    \"\"\"\n",
        "    A pytorch implementation of Factorization Machine.\n",
        "\n",
        "    Reference:\n",
        "        S Rendle, Factorization Machines, 2010.\n",
        "    \"\"\"\n",
        "\n",
        "    def __init__(self, field_dims, embed_dim):\n",
        "        super().__init__()\n",
        "        # user_id와 movie_id value에 대해 각각 embed_dim[K] 만큼의 공간으로 축소하고\n",
        "        # [Batchsize, num(factors[user_id,movie_id]),embed_dim] 형태로 return \n",
        "        self.embedding = FeaturesEmbedding(field_dims, embed_dim)\n",
        "        # user_id와 movie_id value에 대해 각각 embed_dim[K] 만큼의 공간으로 축소하고 각 element 간에 합\n",
        "        self.linear = FeaturesLinear(field_dims)\n",
        "        # embedding 과 linear 값을 활용하여 Factorization Machine의 정의된 식 수행\n",
        "        self.fm = FactorizationMachine(reduce_sum=True)\n",
        "\n",
        "    def forward(self, x):\n",
        "        \"\"\"\n",
        "        :param x: Long tensor of size ``(batch_size, num_fields)``\n",
        "        \"\"\"\n",
        "        x = self.linear(x) + self.fm(self.embedding(x))\n",
        "        return torch.sigmoid(x.squeeze(1))\n"
      ],
      "execution_count": 24,
      "outputs": []
    },
    {
      "cell_type": "markdown",
      "metadata": {
        "id": "iobcsbKawheF"
      },
      "source": [
        "#### layer.py\n",
        "\n",
        "**FeaturesLinear**: 각 user_id, movie_id를 embed_factor(K)에 대해 embedding하고 하나의 차원으로 결합\n",
        "\n",
        "**FeaturesEmbedding**: 각 user_id, movie_id를 embed_factor(K)에 대해 embedding\n",
        "\n",
        "**FactorizationMachine**: Paper에서 언급되는 $\\hat{y}$에 대한 식으로 layer들을 활용하여 결과를 return \n"
      ]
    },
    {
      "cell_type": "code",
      "metadata": {
        "id": "ypsB4dvytTe4"
      },
      "source": [
        "class FeaturesLinear(torch.nn.Module):\n",
        "\n",
        "    # field_dims = [610, 193609] in movielens 1M dataset\n",
        "    def __init__(self, field_dims, output_dim=1):\n",
        "        super().__init__()\n",
        "        # user_id와 movie_id를 하나의 평면에 embedding 후 return output_dim\n",
        "        self.fc = torch.nn.Embedding(sum(field_dims), output_dim)\n",
        "        # w_0 가중치 in paper\n",
        "        self.bias = torch.nn.Parameter(torch.zeros((output_dim,)))\n",
        "        # offset을 더하는 이유는 하나의 평면에 나타냄에 있어서 movie_id가 1부터 값이 시작되어, \n",
        "        # max(user_id) + movie_id 함으로써 하나의 독자적인 값으로 나타내기 위함.\n",
        "        self.offsets = np.array((0, *np.cumsum(field_dims)[:-1]), dtype=np.long)\n",
        "\n",
        "    def forward(self, x):\n",
        "        \"\"\"\n",
        "        :param x: Long tensor of size ``(batch_size, num_fields)``\n",
        "        \"\"\"\n",
        "        x = x + x.new_tensor(self.offsets).unsqueeze(0)\n",
        "        # w_1, * x_1 + w_2 * x_2함으로써 각각의 변수에 대한 개별 weight에 global weight(w_0[bias])를 더함.\n",
        "        return torch.sum(self.fc(x), dim=1) + self.bias\n",
        "\n",
        "\n",
        "class FeaturesEmbedding(torch.nn.Module):\n",
        "\n",
        "    # field_dims = [610, 193609] in movielens 1M dataset\n",
        "    def __init__(self, field_dims, embed_dim):\n",
        "        super().__init__()\n",
        "        self.embedding = torch.nn.Embedding(sum(field_dims), embed_dim)\n",
        "        self.offsets = np.array((0, *np.cumsum(field_dims)[:-1]), dtype=np.long)\n",
        "        torch.nn.init.xavier_uniform_(self.embedding.weight.data)\n",
        "\n",
        "    def forward(self, x):\n",
        "        \"\"\"\n",
        "        :param x: Long tensor of size ``(batch_size, num_fields)``\n",
        "        \"\"\"\n",
        "        x = x + x.new_tensor(self.offsets).unsqueeze(0)\n",
        "        # [Batchsize, num_features, embed_dim]의 형태로 return\n",
        "        return self.embedding(x)\n",
        "\n",
        "# 논문에서 예측값 y를 구하기 위한 수식으로 계산하여 return\n",
        "class FactorizationMachine(torch.nn.Module):\n",
        "\n",
        "  def __init__(self, reduce_sum=True):\n",
        "      super().__init__()\n",
        "      self.reduce_sum = reduce_sum\n",
        "\n",
        "  def forward(self, x):\n",
        "      \"\"\"\n",
        "      :param x: Float tensor of size ``(batch_size, num_fields, embed_dim)``\n",
        "      \"\"\"\n",
        "      square_of_sum = torch.sum(x, dim=1) ** 2\n",
        "      sum_of_square = torch.sum(x ** 2, dim=1)\n",
        "      ix = square_of_sum - sum_of_square\n",
        "      if self.reduce_sum:\n",
        "          ix = torch.sum(ix, dim=1, keepdim=True)\n",
        "      return 0.5 * ix"
      ],
      "execution_count": 25,
      "outputs": []
    },
    {
      "cell_type": "markdown",
      "metadata": {
        "id": "dmS4SaBG3fwQ"
      },
      "source": [
        "#### 실행\n",
        "\n",
        "**FeaturesLinear**"
      ]
    },
    {
      "cell_type": "code",
      "metadata": {
        "id": "1B5wwbmi3lLR"
      },
      "source": [
        "fc = torch.nn.Embedding(sum(dataset.field_dims),1)\n",
        "bias = torch.nn.Parameter(torch.zeros(1,))\n",
        "offset = np.array((0, *np.cumsum(dataset.field_dims)[:-1]), dtype=np.long)"
      ],
      "execution_count": 26,
      "outputs": []
    },
    {
      "cell_type": "code",
      "metadata": {
        "id": "G8EwkDIP3vpa"
      },
      "source": [
        "x = data[0] + data[0].new_tensor(offset).unsqueeze(0)"
      ],
      "execution_count": 27,
      "outputs": []
    },
    {
      "cell_type": "code",
      "metadata": {
        "colab": {
          "base_uri": "https://localhost:8080/"
        },
        "id": "ksqlzuVcihoU",
        "outputId": "86718173-e90c-4f1c-ca73-328a9f6a876f"
      },
      "source": [
        "x"
      ],
      "execution_count": 28,
      "outputs": [
        {
          "output_type": "execute_result",
          "data": {
            "text/plain": [
              "tensor([[   220,   7148],\n",
              "        [   516,  46277],\n",
              "        [   571,   2302],\n",
              "        ...,\n",
              "        [   293,   3105],\n",
              "        [   248, 103325],\n",
              "        [     9,  73607]])"
            ]
          },
          "metadata": {
            "tags": []
          },
          "execution_count": 28
        }
      ]
    },
    {
      "cell_type": "code",
      "metadata": {
        "colab": {
          "base_uri": "https://localhost:8080/"
        },
        "id": "b3Tqmi_532Kt",
        "outputId": "ae9284f5-1d29-41b2-c201-6e59f24f5782"
      },
      "source": [
        "fc(x)[0]"
      ],
      "execution_count": 29,
      "outputs": [
        {
          "output_type": "execute_result",
          "data": {
            "text/plain": [
              "tensor([[2.2098],\n",
              "        [0.9906]], grad_fn=<SelectBackward>)"
            ]
          },
          "metadata": {
            "tags": []
          },
          "execution_count": 29
        }
      ]
    },
    {
      "cell_type": "code",
      "metadata": {
        "colab": {
          "base_uri": "https://localhost:8080/"
        },
        "id": "8f7ue0ul36UG",
        "outputId": "54b86e49-5a11-4a6c-c0e8-301f7fa4cbbe"
      },
      "source": [
        "torch.sum(fc(x),dim=1)"
      ],
      "execution_count": 30,
      "outputs": [
        {
          "output_type": "execute_result",
          "data": {
            "text/plain": [
              "tensor([[ 3.2004],\n",
              "        [ 0.4360],\n",
              "        [ 1.5814],\n",
              "        ...,\n",
              "        [-1.5886],\n",
              "        [-0.0238],\n",
              "        [-2.7817]], grad_fn=<SumBackward1>)"
            ]
          },
          "metadata": {
            "tags": []
          },
          "execution_count": 30
        }
      ]
    },
    {
      "cell_type": "code",
      "metadata": {
        "colab": {
          "base_uri": "https://localhost:8080/"
        },
        "id": "F1dps2g0jgeg",
        "outputId": "d03df430-7b7e-4f16-c077-b4a2c68129b7"
      },
      "source": [
        "bias"
      ],
      "execution_count": 31,
      "outputs": [
        {
          "output_type": "execute_result",
          "data": {
            "text/plain": [
              "Parameter containing:\n",
              "tensor([0.], requires_grad=True)"
            ]
          },
          "metadata": {
            "tags": []
          },
          "execution_count": 31
        }
      ]
    },
    {
      "cell_type": "code",
      "metadata": {
        "id": "eYyDyKYk38AY"
      },
      "source": [
        "linear = torch.sum(fc(x),dim=1) + bias"
      ],
      "execution_count": 32,
      "outputs": []
    },
    {
      "cell_type": "code",
      "metadata": {
        "colab": {
          "base_uri": "https://localhost:8080/"
        },
        "id": "Q5sZY4pI39dv",
        "outputId": "fd0f9b9c-ac3a-4fa4-b7fa-b6cac873f80a"
      },
      "source": [
        "linear"
      ],
      "execution_count": 33,
      "outputs": [
        {
          "output_type": "execute_result",
          "data": {
            "text/plain": [
              "tensor([[ 3.2004],\n",
              "        [ 0.4360],\n",
              "        [ 1.5814],\n",
              "        ...,\n",
              "        [-1.5886],\n",
              "        [-0.0238],\n",
              "        [-2.7817]], grad_fn=<AddBackward0>)"
            ]
          },
          "metadata": {
            "tags": []
          },
          "execution_count": 33
        }
      ]
    },
    {
      "cell_type": "markdown",
      "metadata": {
        "id": "7v6moBKR3_JN"
      },
      "source": [
        "****FeaturesEmbedding****"
      ]
    },
    {
      "cell_type": "code",
      "metadata": {
        "colab": {
          "base_uri": "https://localhost:8080/"
        },
        "id": "KAYJyVjK4F5l",
        "outputId": "9369443a-f724-4d63-d43a-60564633b498"
      },
      "source": [
        "embedding = torch.nn.Embedding(sum(dataset.field_dims),10)\n",
        "offset = np.array((0, *np.cumsum(dataset.field_dims)[:-1]), dtype=np.long)\n",
        "torch.nn.init.xavier_uniform_(embedding.weight.data)"
      ],
      "execution_count": 34,
      "outputs": [
        {
          "output_type": "execute_result",
          "data": {
            "text/plain": [
              "tensor([[-0.0020,  0.0037,  0.0046,  ...,  0.0014,  0.0033, -0.0035],\n",
              "        [ 0.0030, -0.0053,  0.0013,  ...,  0.0020, -0.0054, -0.0020],\n",
              "        [ 0.0022, -0.0051,  0.0045,  ...,  0.0024, -0.0011,  0.0015],\n",
              "        ...,\n",
              "        [ 0.0045,  0.0034,  0.0024,  ..., -0.0004,  0.0032,  0.0032],\n",
              "        [ 0.0047,  0.0048,  0.0036,  ..., -0.0021,  0.0028,  0.0008],\n",
              "        [-0.0007, -0.0053, -0.0052,  ..., -0.0004, -0.0005,  0.0031]])"
            ]
          },
          "metadata": {
            "tags": []
          },
          "execution_count": 34
        }
      ]
    },
    {
      "cell_type": "code",
      "metadata": {
        "colab": {
          "base_uri": "https://localhost:8080/"
        },
        "id": "Iegshe2C4Kaj",
        "outputId": "5ef72b91-5612-45b3-b95a-23f2cd45aba1"
      },
      "source": [
        "x = data[0] + data[0].new_tensor(offset).unsqueeze(0)\n",
        "x"
      ],
      "execution_count": 35,
      "outputs": [
        {
          "output_type": "execute_result",
          "data": {
            "text/plain": [
              "tensor([[   220,   7148],\n",
              "        [   516,  46277],\n",
              "        [   571,   2302],\n",
              "        ...,\n",
              "        [   293,   3105],\n",
              "        [   248, 103325],\n",
              "        [     9,  73607]])"
            ]
          },
          "metadata": {
            "tags": []
          },
          "execution_count": 35
        }
      ]
    },
    {
      "cell_type": "code",
      "metadata": {
        "id": "0tRg_H1l4Og1"
      },
      "source": [
        "embed = embedding(x)"
      ],
      "execution_count": 36,
      "outputs": []
    },
    {
      "cell_type": "code",
      "metadata": {
        "colab": {
          "base_uri": "https://localhost:8080/"
        },
        "id": "eKZEt8nP4Qrm",
        "outputId": "e20fbade-bf93-4089-b8ae-30ab90527677"
      },
      "source": [
        "embed[0]"
      ],
      "execution_count": 37,
      "outputs": [
        {
          "output_type": "execute_result",
          "data": {
            "text/plain": [
              "tensor([[ 0.0005, -0.0037, -0.0046,  0.0039,  0.0028,  0.0037, -0.0052,  0.0043,\n",
              "          0.0037,  0.0055],\n",
              "        [-0.0025, -0.0046, -0.0021, -0.0049,  0.0009, -0.0019, -0.0018,  0.0034,\n",
              "          0.0014, -0.0051]], grad_fn=<SelectBackward>)"
            ]
          },
          "metadata": {
            "tags": []
          },
          "execution_count": 37
        }
      ]
    },
    {
      "cell_type": "markdown",
      "metadata": {
        "id": "R3RShwVf4VPi"
      },
      "source": [
        "**FactorizationMachine**"
      ]
    },
    {
      "cell_type": "code",
      "metadata": {
        "id": "TevqQRq64V7w"
      },
      "source": [
        "def forward(x):\n",
        "  # embedding 된 두개의 벡터를 위치에 맞춰서 합\n",
        "  square_of_sum = torch.sum(x, dim=1) ** 2\n",
        "  sum_of_square = torch.sum(x**2,dim=1)\n",
        "  ix = square_of_sum - sum_of_square\n",
        "  # ix = torch.sum(ix, dim=1, keepdim=True)\n",
        "  return 0.5 * ix"
      ],
      "execution_count": 38,
      "outputs": []
    },
    {
      "cell_type": "code",
      "metadata": {
        "id": "qXi_Z2iU4XxJ"
      },
      "source": [
        "fm = forward(embed)"
      ],
      "execution_count": 39,
      "outputs": []
    },
    {
      "cell_type": "code",
      "metadata": {
        "colab": {
          "base_uri": "https://localhost:8080/"
        },
        "id": "vTlYKNiU4aSh",
        "outputId": "ce726838-74ba-4035-9156-95824ff8638b"
      },
      "source": [
        "fm[0]"
      ],
      "execution_count": 40,
      "outputs": [
        {
          "output_type": "execute_result",
          "data": {
            "text/plain": [
              "tensor([-1.1803e-06,  1.6863e-05,  9.6194e-06, -1.8882e-05,  2.4525e-06,\n",
              "        -7.2385e-06,  9.4319e-06,  1.4387e-05,  5.4123e-06, -2.8187e-05],\n",
              "       grad_fn=<SelectBackward>)"
            ]
          },
          "metadata": {
            "tags": []
          },
          "execution_count": 40
        }
      ]
    },
    {
      "cell_type": "code",
      "metadata": {
        "id": "WMxJOquW4btE"
      },
      "source": [
        "fm_machine = linear + fm"
      ],
      "execution_count": 41,
      "outputs": []
    },
    {
      "cell_type": "code",
      "metadata": {
        "colab": {
          "base_uri": "https://localhost:8080/"
        },
        "id": "TMpYvuTG4fZ7",
        "outputId": "e8232351-c45f-4aba-9de5-69685fb1fdc7"
      },
      "source": [
        "torch.sigmoid(fm_machine.squeeze(1))"
      ],
      "execution_count": 42,
      "outputs": [
        {
          "output_type": "execute_result",
          "data": {
            "text/plain": [
              "tensor([[0.9609, 0.9609, 0.9609,  ..., 0.9609, 0.9609, 0.9608],\n",
              "        [0.6073, 0.6073, 0.6073,  ..., 0.6073, 0.6073, 0.6073],\n",
              "        [0.8294, 0.8294, 0.8294,  ..., 0.8294, 0.8294, 0.8294],\n",
              "        ...,\n",
              "        [0.1696, 0.1696, 0.1696,  ..., 0.1696, 0.1696, 0.1696],\n",
              "        [0.4941, 0.4941, 0.4941,  ..., 0.4941, 0.4941, 0.4941],\n",
              "        [0.0583, 0.0583, 0.0583,  ..., 0.0583, 0.0583, 0.0583]],\n",
              "       grad_fn=<SigmoidBackward>)"
            ]
          },
          "metadata": {
            "tags": []
          },
          "execution_count": 42
        }
      ]
    },
    {
      "cell_type": "markdown",
      "metadata": {
        "id": "WspKvVDKj4DD"
      },
      "source": [
        "## Actual Implementation"
      ]
    },
    {
      "cell_type": "code",
      "metadata": {
        "id": "0c6HIiiImsWz"
      },
      "source": [
        "import os\n",
        "\n",
        "IS_COLAB = True\n",
        "\n",
        "if IS_COLAB:\n",
        "  project_path = \"/gdrive/MyDrive/colab/Factorization_Machine/\"\n",
        "else:\n",
        "  project_path = os.path.dirname(os.path.abspath(\"__file__\"))\n",
        "\n",
        "data_path = os.path.join(project_path,\"data\")"
      ],
      "execution_count": 43,
      "outputs": []
    },
    {
      "cell_type": "code",
      "metadata": {
        "colab": {
          "base_uri": "https://localhost:8080/"
        },
        "id": "DWfJ4nJEoI9W",
        "outputId": "6d2a2e18-4a75-455d-b0f1-876257edac4c"
      },
      "source": [
        "ls -l /gdrive/MyDrive/colab/Factorization_Machine/data"
      ],
      "execution_count": 44,
      "outputs": [
        {
          "output_type": "stream",
          "text": [
            "total 18931\n",
            "-rw------- 1 root root   197979 Nov 19 04:30 links.csv\n",
            "-rw------- 1 root root   494431 Nov 24 01:17 movies.csv\n",
            "-rw------- 1 root root  2483723 Nov 24 01:17 ratings.csv\n",
            "-rw------- 1 root root   118660 Nov 19 04:30 tags.csv\n",
            "-rw------- 1 root root   238833 Dec  2 10:04 tag_tokenizer_bpe_100.model\n",
            "-rw------- 1 root root      672 Dec  2 10:04 tag_tokenizer_bpe_100.vocab\n",
            "-rw------- 1 root root   370999 Nov 27 05:52 tag_tokenizer_bpe_9000.model\n",
            "-rw------- 1 root root   114127 Nov 27 05:52 tag_tokenizer_bpe_9000.vocab\n",
            "-rw------- 1 root root   271684 Dec  2 10:04 tag_tokenizer_input_bpe_100.txt\n",
            "-rw------- 1 root root   236678 Nov 27 05:52 tag_tokenizer_input_bpe_24000.txt\n",
            "-rw------- 1 root root   271684 Nov 27 05:57 tag_tokenizer_input_bpe_9000.txt\n",
            "-rw------- 1 root root   276402 Dec  2 10:04 tag_w2v_bpe_100.model\n",
            "-rw------- 1 root root   613252 Dec  2 10:04 title_tokenizer_bpe_24000.model\n",
            "-rw------- 1 root root   340369 Dec  2 10:04 title_tokenizer_bpe_24000.vocab\n",
            "-rw------- 1 root root   193941 Dec  2 10:04 title_tokenizer_input_bpe_24000.txt\n",
            "-rw------- 1 root root 13158346 Dec  2 10:04 title_w2v_bpe_24000.model\n",
            "-rw------- 1 root root        0 Nov 27 08:43 X_data.npy\n"
          ],
          "name": "stdout"
        }
      ]
    },
    {
      "cell_type": "code",
      "metadata": {
        "colab": {
          "base_uri": "https://localhost:8080/"
        },
        "id": "YQwSko9YPbil",
        "outputId": "33eac8c5-be68-4e2a-a7c3-2aa7c79b249e"
      },
      "source": [
        "!pip install sentencepiece\n",
        "\n",
        "from gensim.models import  Word2Vec as w2v\n",
        "import sentencepiece as spm\n",
        "from tqdm import tqdm_notebook"
      ],
      "execution_count": 45,
      "outputs": [
        {
          "output_type": "stream",
          "text": [
            "Collecting sentencepiece\n",
            "\u001b[?25l  Downloading https://files.pythonhosted.org/packages/e5/2d/6d4ca4bef9a67070fa1cac508606328329152b1df10bdf31fb6e4e727894/sentencepiece-0.1.94-cp36-cp36m-manylinux2014_x86_64.whl (1.1MB)\n",
            "\r\u001b[K     |▎                               | 10kB 18.6MB/s eta 0:00:01\r\u001b[K     |▋                               | 20kB 18.0MB/s eta 0:00:01\r\u001b[K     |▉                               | 30kB 10.3MB/s eta 0:00:01\r\u001b[K     |█▏                              | 40kB 8.6MB/s eta 0:00:01\r\u001b[K     |█▌                              | 51kB 4.5MB/s eta 0:00:01\r\u001b[K     |█▊                              | 61kB 4.6MB/s eta 0:00:01\r\u001b[K     |██                              | 71kB 5.0MB/s eta 0:00:01\r\u001b[K     |██▍                             | 81kB 5.2MB/s eta 0:00:01\r\u001b[K     |██▋                             | 92kB 5.5MB/s eta 0:00:01\r\u001b[K     |███                             | 102kB 5.9MB/s eta 0:00:01\r\u001b[K     |███▎                            | 112kB 5.9MB/s eta 0:00:01\r\u001b[K     |███▌                            | 122kB 5.9MB/s eta 0:00:01\r\u001b[K     |███▉                            | 133kB 5.9MB/s eta 0:00:01\r\u001b[K     |████▏                           | 143kB 5.9MB/s eta 0:00:01\r\u001b[K     |████▍                           | 153kB 5.9MB/s eta 0:00:01\r\u001b[K     |████▊                           | 163kB 5.9MB/s eta 0:00:01\r\u001b[K     |█████                           | 174kB 5.9MB/s eta 0:00:01\r\u001b[K     |█████▎                          | 184kB 5.9MB/s eta 0:00:01\r\u001b[K     |█████▋                          | 194kB 5.9MB/s eta 0:00:01\r\u001b[K     |█████▉                          | 204kB 5.9MB/s eta 0:00:01\r\u001b[K     |██████▏                         | 215kB 5.9MB/s eta 0:00:01\r\u001b[K     |██████▌                         | 225kB 5.9MB/s eta 0:00:01\r\u001b[K     |██████▊                         | 235kB 5.9MB/s eta 0:00:01\r\u001b[K     |███████                         | 245kB 5.9MB/s eta 0:00:01\r\u001b[K     |███████▍                        | 256kB 5.9MB/s eta 0:00:01\r\u001b[K     |███████▋                        | 266kB 5.9MB/s eta 0:00:01\r\u001b[K     |████████                        | 276kB 5.9MB/s eta 0:00:01\r\u001b[K     |████████▎                       | 286kB 5.9MB/s eta 0:00:01\r\u001b[K     |████████▌                       | 296kB 5.9MB/s eta 0:00:01\r\u001b[K     |████████▉                       | 307kB 5.9MB/s eta 0:00:01\r\u001b[K     |█████████                       | 317kB 5.9MB/s eta 0:00:01\r\u001b[K     |█████████▍                      | 327kB 5.9MB/s eta 0:00:01\r\u001b[K     |█████████▊                      | 337kB 5.9MB/s eta 0:00:01\r\u001b[K     |██████████                      | 348kB 5.9MB/s eta 0:00:01\r\u001b[K     |██████████▎                     | 358kB 5.9MB/s eta 0:00:01\r\u001b[K     |██████████▋                     | 368kB 5.9MB/s eta 0:00:01\r\u001b[K     |██████████▉                     | 378kB 5.9MB/s eta 0:00:01\r\u001b[K     |███████████▏                    | 389kB 5.9MB/s eta 0:00:01\r\u001b[K     |███████████▌                    | 399kB 5.9MB/s eta 0:00:01\r\u001b[K     |███████████▊                    | 409kB 5.9MB/s eta 0:00:01\r\u001b[K     |████████████                    | 419kB 5.9MB/s eta 0:00:01\r\u001b[K     |████████████▍                   | 430kB 5.9MB/s eta 0:00:01\r\u001b[K     |████████████▋                   | 440kB 5.9MB/s eta 0:00:01\r\u001b[K     |█████████████                   | 450kB 5.9MB/s eta 0:00:01\r\u001b[K     |█████████████▎                  | 460kB 5.9MB/s eta 0:00:01\r\u001b[K     |█████████████▌                  | 471kB 5.9MB/s eta 0:00:01\r\u001b[K     |█████████████▉                  | 481kB 5.9MB/s eta 0:00:01\r\u001b[K     |██████████████                  | 491kB 5.9MB/s eta 0:00:01\r\u001b[K     |██████████████▍                 | 501kB 5.9MB/s eta 0:00:01\r\u001b[K     |██████████████▊                 | 512kB 5.9MB/s eta 0:00:01\r\u001b[K     |███████████████                 | 522kB 5.9MB/s eta 0:00:01\r\u001b[K     |███████████████▎                | 532kB 5.9MB/s eta 0:00:01\r\u001b[K     |███████████████▋                | 542kB 5.9MB/s eta 0:00:01\r\u001b[K     |███████████████▉                | 552kB 5.9MB/s eta 0:00:01\r\u001b[K     |████████████████▏               | 563kB 5.9MB/s eta 0:00:01\r\u001b[K     |████████████████▌               | 573kB 5.9MB/s eta 0:00:01\r\u001b[K     |████████████████▊               | 583kB 5.9MB/s eta 0:00:01\r\u001b[K     |█████████████████               | 593kB 5.9MB/s eta 0:00:01\r\u001b[K     |█████████████████▍              | 604kB 5.9MB/s eta 0:00:01\r\u001b[K     |█████████████████▋              | 614kB 5.9MB/s eta 0:00:01\r\u001b[K     |██████████████████              | 624kB 5.9MB/s eta 0:00:01\r\u001b[K     |██████████████████▏             | 634kB 5.9MB/s eta 0:00:01\r\u001b[K     |██████████████████▌             | 645kB 5.9MB/s eta 0:00:01\r\u001b[K     |██████████████████▉             | 655kB 5.9MB/s eta 0:00:01\r\u001b[K     |███████████████████             | 665kB 5.9MB/s eta 0:00:01\r\u001b[K     |███████████████████▍            | 675kB 5.9MB/s eta 0:00:01\r\u001b[K     |███████████████████▊            | 686kB 5.9MB/s eta 0:00:01\r\u001b[K     |████████████████████            | 696kB 5.9MB/s eta 0:00:01\r\u001b[K     |████████████████████▎           | 706kB 5.9MB/s eta 0:00:01\r\u001b[K     |████████████████████▋           | 716kB 5.9MB/s eta 0:00:01\r\u001b[K     |████████████████████▉           | 727kB 5.9MB/s eta 0:00:01\r\u001b[K     |█████████████████████▏          | 737kB 5.9MB/s eta 0:00:01\r\u001b[K     |█████████████████████▌          | 747kB 5.9MB/s eta 0:00:01\r\u001b[K     |█████████████████████▊          | 757kB 5.9MB/s eta 0:00:01\r\u001b[K     |██████████████████████          | 768kB 5.9MB/s eta 0:00:01\r\u001b[K     |██████████████████████▎         | 778kB 5.9MB/s eta 0:00:01\r\u001b[K     |██████████████████████▋         | 788kB 5.9MB/s eta 0:00:01\r\u001b[K     |███████████████████████         | 798kB 5.9MB/s eta 0:00:01\r\u001b[K     |███████████████████████▏        | 808kB 5.9MB/s eta 0:00:01\r\u001b[K     |███████████████████████▌        | 819kB 5.9MB/s eta 0:00:01\r\u001b[K     |███████████████████████▉        | 829kB 5.9MB/s eta 0:00:01\r\u001b[K     |████████████████████████        | 839kB 5.9MB/s eta 0:00:01\r\u001b[K     |████████████████████████▍       | 849kB 5.9MB/s eta 0:00:01\r\u001b[K     |████████████████████████▊       | 860kB 5.9MB/s eta 0:00:01\r\u001b[K     |█████████████████████████       | 870kB 5.9MB/s eta 0:00:01\r\u001b[K     |█████████████████████████▎      | 880kB 5.9MB/s eta 0:00:01\r\u001b[K     |█████████████████████████▋      | 890kB 5.9MB/s eta 0:00:01\r\u001b[K     |█████████████████████████▉      | 901kB 5.9MB/s eta 0:00:01\r\u001b[K     |██████████████████████████▏     | 911kB 5.9MB/s eta 0:00:01\r\u001b[K     |██████████████████████████▌     | 921kB 5.9MB/s eta 0:00:01\r\u001b[K     |██████████████████████████▊     | 931kB 5.9MB/s eta 0:00:01\r\u001b[K     |███████████████████████████     | 942kB 5.9MB/s eta 0:00:01\r\u001b[K     |███████████████████████████▎    | 952kB 5.9MB/s eta 0:00:01\r\u001b[K     |███████████████████████████▋    | 962kB 5.9MB/s eta 0:00:01\r\u001b[K     |████████████████████████████    | 972kB 5.9MB/s eta 0:00:01\r\u001b[K     |████████████████████████████▏   | 983kB 5.9MB/s eta 0:00:01\r\u001b[K     |████████████████████████████▌   | 993kB 5.9MB/s eta 0:00:01\r\u001b[K     |████████████████████████████▉   | 1.0MB 5.9MB/s eta 0:00:01\r\u001b[K     |█████████████████████████████   | 1.0MB 5.9MB/s eta 0:00:01\r\u001b[K     |█████████████████████████████▍  | 1.0MB 5.9MB/s eta 0:00:01\r\u001b[K     |█████████████████████████████▊  | 1.0MB 5.9MB/s eta 0:00:01\r\u001b[K     |██████████████████████████████  | 1.0MB 5.9MB/s eta 0:00:01\r\u001b[K     |██████████████████████████████▎ | 1.1MB 5.9MB/s eta 0:00:01\r\u001b[K     |██████████████████████████████▋ | 1.1MB 5.9MB/s eta 0:00:01\r\u001b[K     |██████████████████████████████▉ | 1.1MB 5.9MB/s eta 0:00:01\r\u001b[K     |███████████████████████████████▏| 1.1MB 5.9MB/s eta 0:00:01\r\u001b[K     |███████████████████████████████▍| 1.1MB 5.9MB/s eta 0:00:01\r\u001b[K     |███████████████████████████████▊| 1.1MB 5.9MB/s eta 0:00:01\r\u001b[K     |████████████████████████████████| 1.1MB 5.9MB/s \n",
            "\u001b[?25hInstalling collected packages: sentencepiece\n",
            "Successfully installed sentencepiece-0.1.94\n"
          ],
          "name": "stdout"
        }
      ]
    },
    {
      "cell_type": "code",
      "metadata": {
        "id": "fWNSvFtEnxga"
      },
      "source": [
        "import pandas as pd\n",
        "import numpy as np\n",
        "\n",
        "csv_movies = os.path.join(data_path,\"movies.csv\")\n",
        "csv_ratings = os.path.join(data_path,\"ratings.csv\")\n",
        "csv_tags = os.path.join(data_path,\"tags.csv\")\n",
        "csv_links =  os.path.join(data_path,\"links.csv\")\n",
        "\n",
        "movies = pd.read_csv(csv_movies)\n",
        "ratings = pd.read_csv(csv_ratings)\n",
        "tags = pd.read_csv(csv_tags)\n",
        "links = pd.read_csv(csv_links)\n",
        "\n",
        "org_movies = movies.copy()\n",
        "org_ratings = ratings.copy()\n",
        "org_tags = tags.copy()\n",
        "org_links = links.copy()"
      ],
      "execution_count": 46,
      "outputs": []
    },
    {
      "cell_type": "code",
      "metadata": {
        "id": "XBw1IMwgYMqF"
      },
      "source": [
        "dict_mid_2_nid= {mid:nid for nid, mid in enumerate(movies.movieId.unique())}\n",
        "dict_nid_2_mid = {nid:mid for mid,nid in dict_mid_2_nid.items()}\n",
        "\n",
        "dict_uid_2_nid= {uid:nid for nid, uid in enumerate(ratings.userId.unique())}\n",
        "dict_nid_2_uid = {nid:uid for uid,nid in dict_uid_2_nid.items()}\n",
        "\n",
        "movies.loc[:,\"m_nid\"] = movies.movieId.apply(lambda x:dict_mid_2_nid[x])\n",
        "\n",
        "ratings.loc[:,\"u_nid\"] = ratings.userId.apply(lambda x:dict_uid_2_nid[x])\n",
        "ratings.loc[:,\"m_nid\"] = ratings.movieId.apply(lambda x:dict_mid_2_nid[x])\n",
        "\n",
        "tags.loc[:,\"u_nid\"] = tags.userId.apply(lambda x:dict_uid_2_nid[x])\n",
        "tags.loc[:,\"m_nid\"] = tags.movieId.apply(lambda x:dict_mid_2_nid[x])\n",
        "\n",
        "links.loc[:,\"m_nid\"] = tags.movieId.apply(lambda x:dict_mid_2_nid[x])"
      ],
      "execution_count": 47,
      "outputs": []
    },
    {
      "cell_type": "code",
      "metadata": {
        "colab": {
          "base_uri": "https://localhost:8080/",
          "height": 204
        },
        "id": "Lip-mOhroj5x",
        "outputId": "aa2ab5bb-08cc-4720-aafe-49c5e3fd138c"
      },
      "source": [
        "movies.head()"
      ],
      "execution_count": 48,
      "outputs": [
        {
          "output_type": "execute_result",
          "data": {
            "text/html": [
              "<div>\n",
              "<style scoped>\n",
              "    .dataframe tbody tr th:only-of-type {\n",
              "        vertical-align: middle;\n",
              "    }\n",
              "\n",
              "    .dataframe tbody tr th {\n",
              "        vertical-align: top;\n",
              "    }\n",
              "\n",
              "    .dataframe thead th {\n",
              "        text-align: right;\n",
              "    }\n",
              "</style>\n",
              "<table border=\"1\" class=\"dataframe\">\n",
              "  <thead>\n",
              "    <tr style=\"text-align: right;\">\n",
              "      <th></th>\n",
              "      <th>movieId</th>\n",
              "      <th>title</th>\n",
              "      <th>genres</th>\n",
              "      <th>m_nid</th>\n",
              "    </tr>\n",
              "  </thead>\n",
              "  <tbody>\n",
              "    <tr>\n",
              "      <th>0</th>\n",
              "      <td>1</td>\n",
              "      <td>Toy Story (1995)</td>\n",
              "      <td>Adventure|Animation|Children|Comedy|Fantasy</td>\n",
              "      <td>0</td>\n",
              "    </tr>\n",
              "    <tr>\n",
              "      <th>1</th>\n",
              "      <td>2</td>\n",
              "      <td>Jumanji (1995)</td>\n",
              "      <td>Adventure|Children|Fantasy</td>\n",
              "      <td>1</td>\n",
              "    </tr>\n",
              "    <tr>\n",
              "      <th>2</th>\n",
              "      <td>3</td>\n",
              "      <td>Grumpier Old Men (1995)</td>\n",
              "      <td>Comedy|Romance</td>\n",
              "      <td>2</td>\n",
              "    </tr>\n",
              "    <tr>\n",
              "      <th>3</th>\n",
              "      <td>4</td>\n",
              "      <td>Waiting to Exhale (1995)</td>\n",
              "      <td>Comedy|Drama|Romance</td>\n",
              "      <td>3</td>\n",
              "    </tr>\n",
              "    <tr>\n",
              "      <th>4</th>\n",
              "      <td>5</td>\n",
              "      <td>Father of the Bride Part II (1995)</td>\n",
              "      <td>Comedy</td>\n",
              "      <td>4</td>\n",
              "    </tr>\n",
              "  </tbody>\n",
              "</table>\n",
              "</div>"
            ],
            "text/plain": [
              "   movieId  ... m_nid\n",
              "0        1  ...     0\n",
              "1        2  ...     1\n",
              "2        3  ...     2\n",
              "3        4  ...     3\n",
              "4        5  ...     4\n",
              "\n",
              "[5 rows x 4 columns]"
            ]
          },
          "metadata": {
            "tags": []
          },
          "execution_count": 48
        }
      ]
    },
    {
      "cell_type": "code",
      "metadata": {
        "colab": {
          "base_uri": "https://localhost:8080/",
          "height": 204
        },
        "id": "KnKpu6WUSZ_h",
        "outputId": "1c4f99ca-42a2-4ae8-e4dd-2edf006ea3cf"
      },
      "source": [
        "ratings.head()"
      ],
      "execution_count": 49,
      "outputs": [
        {
          "output_type": "execute_result",
          "data": {
            "text/html": [
              "<div>\n",
              "<style scoped>\n",
              "    .dataframe tbody tr th:only-of-type {\n",
              "        vertical-align: middle;\n",
              "    }\n",
              "\n",
              "    .dataframe tbody tr th {\n",
              "        vertical-align: top;\n",
              "    }\n",
              "\n",
              "    .dataframe thead th {\n",
              "        text-align: right;\n",
              "    }\n",
              "</style>\n",
              "<table border=\"1\" class=\"dataframe\">\n",
              "  <thead>\n",
              "    <tr style=\"text-align: right;\">\n",
              "      <th></th>\n",
              "      <th>userId</th>\n",
              "      <th>movieId</th>\n",
              "      <th>rating</th>\n",
              "      <th>timestamp</th>\n",
              "      <th>u_nid</th>\n",
              "      <th>m_nid</th>\n",
              "    </tr>\n",
              "  </thead>\n",
              "  <tbody>\n",
              "    <tr>\n",
              "      <th>0</th>\n",
              "      <td>1</td>\n",
              "      <td>1</td>\n",
              "      <td>4.0</td>\n",
              "      <td>964982703</td>\n",
              "      <td>0</td>\n",
              "      <td>0</td>\n",
              "    </tr>\n",
              "    <tr>\n",
              "      <th>1</th>\n",
              "      <td>1</td>\n",
              "      <td>3</td>\n",
              "      <td>4.0</td>\n",
              "      <td>964981247</td>\n",
              "      <td>0</td>\n",
              "      <td>2</td>\n",
              "    </tr>\n",
              "    <tr>\n",
              "      <th>2</th>\n",
              "      <td>1</td>\n",
              "      <td>6</td>\n",
              "      <td>4.0</td>\n",
              "      <td>964982224</td>\n",
              "      <td>0</td>\n",
              "      <td>5</td>\n",
              "    </tr>\n",
              "    <tr>\n",
              "      <th>3</th>\n",
              "      <td>1</td>\n",
              "      <td>47</td>\n",
              "      <td>5.0</td>\n",
              "      <td>964983815</td>\n",
              "      <td>0</td>\n",
              "      <td>43</td>\n",
              "    </tr>\n",
              "    <tr>\n",
              "      <th>4</th>\n",
              "      <td>1</td>\n",
              "      <td>50</td>\n",
              "      <td>5.0</td>\n",
              "      <td>964982931</td>\n",
              "      <td>0</td>\n",
              "      <td>46</td>\n",
              "    </tr>\n",
              "  </tbody>\n",
              "</table>\n",
              "</div>"
            ],
            "text/plain": [
              "   userId  movieId  rating  timestamp  u_nid  m_nid\n",
              "0       1        1     4.0  964982703      0      0\n",
              "1       1        3     4.0  964981247      0      2\n",
              "2       1        6     4.0  964982224      0      5\n",
              "3       1       47     5.0  964983815      0     43\n",
              "4       1       50     5.0  964982931      0     46"
            ]
          },
          "metadata": {
            "tags": []
          },
          "execution_count": 49
        }
      ]
    },
    {
      "cell_type": "code",
      "metadata": {
        "colab": {
          "base_uri": "https://localhost:8080/",
          "height": 204
        },
        "id": "KwFKUMJTauSi",
        "outputId": "1a29b619-71f7-49c2-b07f-a00c60a29be6"
      },
      "source": [
        "tags.head()"
      ],
      "execution_count": 50,
      "outputs": [
        {
          "output_type": "execute_result",
          "data": {
            "text/html": [
              "<div>\n",
              "<style scoped>\n",
              "    .dataframe tbody tr th:only-of-type {\n",
              "        vertical-align: middle;\n",
              "    }\n",
              "\n",
              "    .dataframe tbody tr th {\n",
              "        vertical-align: top;\n",
              "    }\n",
              "\n",
              "    .dataframe thead th {\n",
              "        text-align: right;\n",
              "    }\n",
              "</style>\n",
              "<table border=\"1\" class=\"dataframe\">\n",
              "  <thead>\n",
              "    <tr style=\"text-align: right;\">\n",
              "      <th></th>\n",
              "      <th>userId</th>\n",
              "      <th>movieId</th>\n",
              "      <th>tag</th>\n",
              "      <th>timestamp</th>\n",
              "      <th>u_nid</th>\n",
              "      <th>m_nid</th>\n",
              "    </tr>\n",
              "  </thead>\n",
              "  <tbody>\n",
              "    <tr>\n",
              "      <th>0</th>\n",
              "      <td>2</td>\n",
              "      <td>60756</td>\n",
              "      <td>funny</td>\n",
              "      <td>1445714994</td>\n",
              "      <td>1</td>\n",
              "      <td>6801</td>\n",
              "    </tr>\n",
              "    <tr>\n",
              "      <th>1</th>\n",
              "      <td>2</td>\n",
              "      <td>60756</td>\n",
              "      <td>Highly quotable</td>\n",
              "      <td>1445714996</td>\n",
              "      <td>1</td>\n",
              "      <td>6801</td>\n",
              "    </tr>\n",
              "    <tr>\n",
              "      <th>2</th>\n",
              "      <td>2</td>\n",
              "      <td>60756</td>\n",
              "      <td>will ferrell</td>\n",
              "      <td>1445714992</td>\n",
              "      <td>1</td>\n",
              "      <td>6801</td>\n",
              "    </tr>\n",
              "    <tr>\n",
              "      <th>3</th>\n",
              "      <td>2</td>\n",
              "      <td>89774</td>\n",
              "      <td>Boxing story</td>\n",
              "      <td>1445715207</td>\n",
              "      <td>1</td>\n",
              "      <td>7697</td>\n",
              "    </tr>\n",
              "    <tr>\n",
              "      <th>4</th>\n",
              "      <td>2</td>\n",
              "      <td>89774</td>\n",
              "      <td>MMA</td>\n",
              "      <td>1445715200</td>\n",
              "      <td>1</td>\n",
              "      <td>7697</td>\n",
              "    </tr>\n",
              "  </tbody>\n",
              "</table>\n",
              "</div>"
            ],
            "text/plain": [
              "   userId  movieId              tag   timestamp  u_nid  m_nid\n",
              "0       2    60756            funny  1445714994      1   6801\n",
              "1       2    60756  Highly quotable  1445714996      1   6801\n",
              "2       2    60756     will ferrell  1445714992      1   6801\n",
              "3       2    89774     Boxing story  1445715207      1   7697\n",
              "4       2    89774              MMA  1445715200      1   7697"
            ]
          },
          "metadata": {
            "tags": []
          },
          "execution_count": 50
        }
      ]
    },
    {
      "cell_type": "code",
      "metadata": {
        "colab": {
          "base_uri": "https://localhost:8080/",
          "height": 204
        },
        "id": "dzHWhdfZaw8d",
        "outputId": "8618f87b-a7a9-444b-8630-1f0c397e46b9"
      },
      "source": [
        "links.head()"
      ],
      "execution_count": 51,
      "outputs": [
        {
          "output_type": "execute_result",
          "data": {
            "text/html": [
              "<div>\n",
              "<style scoped>\n",
              "    .dataframe tbody tr th:only-of-type {\n",
              "        vertical-align: middle;\n",
              "    }\n",
              "\n",
              "    .dataframe tbody tr th {\n",
              "        vertical-align: top;\n",
              "    }\n",
              "\n",
              "    .dataframe thead th {\n",
              "        text-align: right;\n",
              "    }\n",
              "</style>\n",
              "<table border=\"1\" class=\"dataframe\">\n",
              "  <thead>\n",
              "    <tr style=\"text-align: right;\">\n",
              "      <th></th>\n",
              "      <th>movieId</th>\n",
              "      <th>imdbId</th>\n",
              "      <th>tmdbId</th>\n",
              "      <th>m_nid</th>\n",
              "    </tr>\n",
              "  </thead>\n",
              "  <tbody>\n",
              "    <tr>\n",
              "      <th>0</th>\n",
              "      <td>1</td>\n",
              "      <td>114709</td>\n",
              "      <td>862.0</td>\n",
              "      <td>6801.0</td>\n",
              "    </tr>\n",
              "    <tr>\n",
              "      <th>1</th>\n",
              "      <td>2</td>\n",
              "      <td>113497</td>\n",
              "      <td>8844.0</td>\n",
              "      <td>6801.0</td>\n",
              "    </tr>\n",
              "    <tr>\n",
              "      <th>2</th>\n",
              "      <td>3</td>\n",
              "      <td>113228</td>\n",
              "      <td>15602.0</td>\n",
              "      <td>6801.0</td>\n",
              "    </tr>\n",
              "    <tr>\n",
              "      <th>3</th>\n",
              "      <td>4</td>\n",
              "      <td>114885</td>\n",
              "      <td>31357.0</td>\n",
              "      <td>7697.0</td>\n",
              "    </tr>\n",
              "    <tr>\n",
              "      <th>4</th>\n",
              "      <td>5</td>\n",
              "      <td>113041</td>\n",
              "      <td>11862.0</td>\n",
              "      <td>7697.0</td>\n",
              "    </tr>\n",
              "  </tbody>\n",
              "</table>\n",
              "</div>"
            ],
            "text/plain": [
              "   movieId  imdbId   tmdbId   m_nid\n",
              "0        1  114709    862.0  6801.0\n",
              "1        2  113497   8844.0  6801.0\n",
              "2        3  113228  15602.0  6801.0\n",
              "3        4  114885  31357.0  7697.0\n",
              "4        5  113041  11862.0  7697.0"
            ]
          },
          "metadata": {
            "tags": []
          },
          "execution_count": 51
        }
      ]
    },
    {
      "cell_type": "code",
      "metadata": {
        "colab": {
          "base_uri": "https://localhost:8080/",
          "height": 204
        },
        "id": "KU_qxjUKSgbC",
        "outputId": "9ccd920e-9ad2-4a6e-e914-cacc6b7f1da7"
      },
      "source": [
        "sorted_ratings = ratings.sort_values(by=[\"userId\",\"timestamp\"])\n",
        "sorted_ratings['b4_timestamp'] = sorted_ratings.groupby(['userId'])['timestamp'].shift(1)\n",
        "mc_sorted_ratings= sorted_ratings.groupby(['userId',\"timestamp\"])[\"m_nid\"].count().to_frame(name=\"m_count\")\n",
        "sorted_ratings = pd.merge(left=sorted_ratings, right=mc_sorted_ratings, on=[\"userId\",\"timestamp\"], how=\"left\")\n",
        "sorted_ratings.loc[:,\"b4_timestamp\"] = sorted_ratings.b4_timestamp.fillna(0).astype(\"int64\")\n",
        "sorted_ratings.head()"
      ],
      "execution_count": 52,
      "outputs": [
        {
          "output_type": "execute_result",
          "data": {
            "text/html": [
              "<div>\n",
              "<style scoped>\n",
              "    .dataframe tbody tr th:only-of-type {\n",
              "        vertical-align: middle;\n",
              "    }\n",
              "\n",
              "    .dataframe tbody tr th {\n",
              "        vertical-align: top;\n",
              "    }\n",
              "\n",
              "    .dataframe thead th {\n",
              "        text-align: right;\n",
              "    }\n",
              "</style>\n",
              "<table border=\"1\" class=\"dataframe\">\n",
              "  <thead>\n",
              "    <tr style=\"text-align: right;\">\n",
              "      <th></th>\n",
              "      <th>userId</th>\n",
              "      <th>movieId</th>\n",
              "      <th>rating</th>\n",
              "      <th>timestamp</th>\n",
              "      <th>u_nid</th>\n",
              "      <th>m_nid</th>\n",
              "      <th>b4_timestamp</th>\n",
              "      <th>m_count</th>\n",
              "    </tr>\n",
              "  </thead>\n",
              "  <tbody>\n",
              "    <tr>\n",
              "      <th>0</th>\n",
              "      <td>1</td>\n",
              "      <td>804</td>\n",
              "      <td>4.0</td>\n",
              "      <td>964980499</td>\n",
              "      <td>0</td>\n",
              "      <td>632</td>\n",
              "      <td>0</td>\n",
              "      <td>2</td>\n",
              "    </tr>\n",
              "    <tr>\n",
              "      <th>1</th>\n",
              "      <td>1</td>\n",
              "      <td>1210</td>\n",
              "      <td>5.0</td>\n",
              "      <td>964980499</td>\n",
              "      <td>0</td>\n",
              "      <td>911</td>\n",
              "      <td>964980499</td>\n",
              "      <td>2</td>\n",
              "    </tr>\n",
              "    <tr>\n",
              "      <th>2</th>\n",
              "      <td>1</td>\n",
              "      <td>2018</td>\n",
              "      <td>5.0</td>\n",
              "      <td>964980523</td>\n",
              "      <td>0</td>\n",
              "      <td>1493</td>\n",
              "      <td>964980499</td>\n",
              "      <td>3</td>\n",
              "    </tr>\n",
              "    <tr>\n",
              "      <th>3</th>\n",
              "      <td>1</td>\n",
              "      <td>2628</td>\n",
              "      <td>4.0</td>\n",
              "      <td>964980523</td>\n",
              "      <td>0</td>\n",
              "      <td>1979</td>\n",
              "      <td>964980523</td>\n",
              "      <td>3</td>\n",
              "    </tr>\n",
              "    <tr>\n",
              "      <th>4</th>\n",
              "      <td>1</td>\n",
              "      <td>2826</td>\n",
              "      <td>4.0</td>\n",
              "      <td>964980523</td>\n",
              "      <td>0</td>\n",
              "      <td>2126</td>\n",
              "      <td>964980523</td>\n",
              "      <td>3</td>\n",
              "    </tr>\n",
              "  </tbody>\n",
              "</table>\n",
              "</div>"
            ],
            "text/plain": [
              "   userId  movieId  rating  timestamp  u_nid  m_nid  b4_timestamp  m_count\n",
              "0       1      804     4.0  964980499      0    632             0        2\n",
              "1       1     1210     5.0  964980499      0    911     964980499        2\n",
              "2       1     2018     5.0  964980523      0   1493     964980499        3\n",
              "3       1     2628     4.0  964980523      0   1979     964980523        3\n",
              "4       1     2826     4.0  964980523      0   2126     964980523        3"
            ]
          },
          "metadata": {
            "tags": []
          },
          "execution_count": 52
        }
      ]
    },
    {
      "cell_type": "code",
      "metadata": {
        "colab": {
          "base_uri": "https://localhost:8080/",
          "height": 117,
          "referenced_widgets": [
            "2fb886d4df32493f97977cc23b4b30ae",
            "08b5da169b334b08a861e9ae0054534d",
            "094675e8f5b24f349e638bb540babc22",
            "0ab24ed800ef4f3bb89337b7bdebabf4",
            "80c1f733f51c421b98728bca7e604365",
            "2da6555f321d4ea3b1bec7fa94a9db33",
            "4c71a5e72d6b47df8570ffce23a6c0d1",
            "18b762c6b8654c7da33a470339758506"
          ]
        },
        "id": "-VmNRmuzTZGH",
        "outputId": "92f32c3c-4ba8-4df8-e218-666be63d09ad"
      },
      "source": [
        "previous_timestamp = 0\n",
        "counter = 0\n",
        "former_movies = list()\n",
        "now_movies = list()\n",
        "movie_vectors = list()\n",
        "\n",
        "for idx,row in tqdm_notebook(sorted_ratings.iterrows()):\n",
        "  counter += 1\n",
        "  m_nid = row[\"m_nid\"].astype(\"int\")\n",
        "  m_count = row[\"m_count\"]\n",
        "  timestamp = row[\"timestamp\"]\n",
        "  b4_timestamp = row[\"b4_timestamp\"]\n",
        "\n",
        "  if previous_timestamp == 0 and counter <= m_count:\n",
        "    now_movies.append(m_nid)\n",
        "    movie_vector = np.zeros(len(dict_mid_2_nid)) \n",
        "    \n",
        "    if counter == m_count:\n",
        "      former_movies = now_movies\n",
        "      previous_timestamp = timestamp\n",
        "      now_movies = list()\n",
        "      counter = 0\n",
        "  \n",
        "  elif previous_timestamp != 0 and counter <= m_count:\n",
        "    now_movies.append(m_nid)\n",
        "    movie_vector = np.zeros(len(dict_mid_2_nid))\n",
        "    movie_vector[former_movies] = 1\n",
        "\n",
        "    if counter == m_count:\n",
        "      former_movies = now_movies\n",
        "      previous_timestamp = timestamp\n",
        "      now_movies = list()\n",
        "      counter = 0\n",
        "\n",
        "  movie_vectors.append(movie_vector)"
      ],
      "execution_count": 53,
      "outputs": [
        {
          "output_type": "stream",
          "text": [
            "/usr/local/lib/python3.6/dist-packages/ipykernel_launcher.py:7: TqdmDeprecationWarning: This function will be removed in tqdm==5.0.0\n",
            "Please use `tqdm.notebook.tqdm` instead of `tqdm.tqdm_notebook`\n",
            "  import sys\n"
          ],
          "name": "stderr"
        },
        {
          "output_type": "display_data",
          "data": {
            "application/vnd.jupyter.widget-view+json": {
              "model_id": "2fb886d4df32493f97977cc23b4b30ae",
              "version_minor": 0,
              "version_major": 2
            },
            "text/plain": [
              "HBox(children=(FloatProgress(value=1.0, bar_style='info', max=1.0), HTML(value='')))"
            ]
          },
          "metadata": {
            "tags": []
          }
        },
        {
          "output_type": "stream",
          "text": [
            "\n"
          ],
          "name": "stdout"
        }
      ]
    },
    {
      "cell_type": "code",
      "metadata": {
        "colab": {
          "base_uri": "https://localhost:8080/",
          "height": 204
        },
        "id": "LesDaOHFgNdd",
        "outputId": "85ec7ab0-7109-408f-ce96-54ee82a681c2"
      },
      "source": [
        "sorted_ratings.loc[:,\"last_rate_vector\"] = pd.Series(movie_vectors)\n",
        "sorted_ratings.head()"
      ],
      "execution_count": 54,
      "outputs": [
        {
          "output_type": "execute_result",
          "data": {
            "text/html": [
              "<div>\n",
              "<style scoped>\n",
              "    .dataframe tbody tr th:only-of-type {\n",
              "        vertical-align: middle;\n",
              "    }\n",
              "\n",
              "    .dataframe tbody tr th {\n",
              "        vertical-align: top;\n",
              "    }\n",
              "\n",
              "    .dataframe thead th {\n",
              "        text-align: right;\n",
              "    }\n",
              "</style>\n",
              "<table border=\"1\" class=\"dataframe\">\n",
              "  <thead>\n",
              "    <tr style=\"text-align: right;\">\n",
              "      <th></th>\n",
              "      <th>userId</th>\n",
              "      <th>movieId</th>\n",
              "      <th>rating</th>\n",
              "      <th>timestamp</th>\n",
              "      <th>u_nid</th>\n",
              "      <th>m_nid</th>\n",
              "      <th>b4_timestamp</th>\n",
              "      <th>m_count</th>\n",
              "      <th>last_rate_vector</th>\n",
              "    </tr>\n",
              "  </thead>\n",
              "  <tbody>\n",
              "    <tr>\n",
              "      <th>0</th>\n",
              "      <td>1</td>\n",
              "      <td>804</td>\n",
              "      <td>4.0</td>\n",
              "      <td>964980499</td>\n",
              "      <td>0</td>\n",
              "      <td>632</td>\n",
              "      <td>0</td>\n",
              "      <td>2</td>\n",
              "      <td>[0.0, 0.0, 0.0, 0.0, 0.0, 0.0, 0.0, 0.0, 0.0, ...</td>\n",
              "    </tr>\n",
              "    <tr>\n",
              "      <th>1</th>\n",
              "      <td>1</td>\n",
              "      <td>1210</td>\n",
              "      <td>5.0</td>\n",
              "      <td>964980499</td>\n",
              "      <td>0</td>\n",
              "      <td>911</td>\n",
              "      <td>964980499</td>\n",
              "      <td>2</td>\n",
              "      <td>[0.0, 0.0, 0.0, 0.0, 0.0, 0.0, 0.0, 0.0, 0.0, ...</td>\n",
              "    </tr>\n",
              "    <tr>\n",
              "      <th>2</th>\n",
              "      <td>1</td>\n",
              "      <td>2018</td>\n",
              "      <td>5.0</td>\n",
              "      <td>964980523</td>\n",
              "      <td>0</td>\n",
              "      <td>1493</td>\n",
              "      <td>964980499</td>\n",
              "      <td>3</td>\n",
              "      <td>[0.0, 0.0, 0.0, 0.0, 0.0, 0.0, 0.0, 0.0, 0.0, ...</td>\n",
              "    </tr>\n",
              "    <tr>\n",
              "      <th>3</th>\n",
              "      <td>1</td>\n",
              "      <td>2628</td>\n",
              "      <td>4.0</td>\n",
              "      <td>964980523</td>\n",
              "      <td>0</td>\n",
              "      <td>1979</td>\n",
              "      <td>964980523</td>\n",
              "      <td>3</td>\n",
              "      <td>[0.0, 0.0, 0.0, 0.0, 0.0, 0.0, 0.0, 0.0, 0.0, ...</td>\n",
              "    </tr>\n",
              "    <tr>\n",
              "      <th>4</th>\n",
              "      <td>1</td>\n",
              "      <td>2826</td>\n",
              "      <td>4.0</td>\n",
              "      <td>964980523</td>\n",
              "      <td>0</td>\n",
              "      <td>2126</td>\n",
              "      <td>964980523</td>\n",
              "      <td>3</td>\n",
              "      <td>[0.0, 0.0, 0.0, 0.0, 0.0, 0.0, 0.0, 0.0, 0.0, ...</td>\n",
              "    </tr>\n",
              "  </tbody>\n",
              "</table>\n",
              "</div>"
            ],
            "text/plain": [
              "   userId  movieId  ...  m_count                                   last_rate_vector\n",
              "0       1      804  ...        2  [0.0, 0.0, 0.0, 0.0, 0.0, 0.0, 0.0, 0.0, 0.0, ...\n",
              "1       1     1210  ...        2  [0.0, 0.0, 0.0, 0.0, 0.0, 0.0, 0.0, 0.0, 0.0, ...\n",
              "2       1     2018  ...        3  [0.0, 0.0, 0.0, 0.0, 0.0, 0.0, 0.0, 0.0, 0.0, ...\n",
              "3       1     2628  ...        3  [0.0, 0.0, 0.0, 0.0, 0.0, 0.0, 0.0, 0.0, 0.0, ...\n",
              "4       1     2826  ...        3  [0.0, 0.0, 0.0, 0.0, 0.0, 0.0, 0.0, 0.0, 0.0, ...\n",
              "\n",
              "[5 rows x 9 columns]"
            ]
          },
          "metadata": {
            "tags": []
          },
          "execution_count": 54
        }
      ]
    },
    {
      "cell_type": "code",
      "metadata": {
        "colab": {
          "base_uri": "https://localhost:8080/",
          "height": 204
        },
        "id": "nPpDpfi4mp1i",
        "outputId": "eeab3299-ce98-4de2-e53f-868ac287cdd4"
      },
      "source": [
        "ratings = sorted_ratings.sort_values(by=[\"userId\",\"movieId\"]).copy()\n",
        "ratings = ratings.reset_index(drop=True)\n",
        "ratings.head()"
      ],
      "execution_count": 55,
      "outputs": [
        {
          "output_type": "execute_result",
          "data": {
            "text/html": [
              "<div>\n",
              "<style scoped>\n",
              "    .dataframe tbody tr th:only-of-type {\n",
              "        vertical-align: middle;\n",
              "    }\n",
              "\n",
              "    .dataframe tbody tr th {\n",
              "        vertical-align: top;\n",
              "    }\n",
              "\n",
              "    .dataframe thead th {\n",
              "        text-align: right;\n",
              "    }\n",
              "</style>\n",
              "<table border=\"1\" class=\"dataframe\">\n",
              "  <thead>\n",
              "    <tr style=\"text-align: right;\">\n",
              "      <th></th>\n",
              "      <th>userId</th>\n",
              "      <th>movieId</th>\n",
              "      <th>rating</th>\n",
              "      <th>timestamp</th>\n",
              "      <th>u_nid</th>\n",
              "      <th>m_nid</th>\n",
              "      <th>b4_timestamp</th>\n",
              "      <th>m_count</th>\n",
              "      <th>last_rate_vector</th>\n",
              "    </tr>\n",
              "  </thead>\n",
              "  <tbody>\n",
              "    <tr>\n",
              "      <th>0</th>\n",
              "      <td>1</td>\n",
              "      <td>1</td>\n",
              "      <td>4.0</td>\n",
              "      <td>964982703</td>\n",
              "      <td>0</td>\n",
              "      <td>0</td>\n",
              "      <td>964982681</td>\n",
              "      <td>4</td>\n",
              "      <td>[0.0, 0.0, 0.0, 0.0, 0.0, 0.0, 0.0, 0.0, 0.0, ...</td>\n",
              "    </tr>\n",
              "    <tr>\n",
              "      <th>1</th>\n",
              "      <td>1</td>\n",
              "      <td>3</td>\n",
              "      <td>4.0</td>\n",
              "      <td>964981247</td>\n",
              "      <td>0</td>\n",
              "      <td>2</td>\n",
              "      <td>964981230</td>\n",
              "      <td>1</td>\n",
              "      <td>[0.0, 0.0, 0.0, 0.0, 0.0, 0.0, 0.0, 0.0, 0.0, ...</td>\n",
              "    </tr>\n",
              "    <tr>\n",
              "      <th>2</th>\n",
              "      <td>1</td>\n",
              "      <td>6</td>\n",
              "      <td>4.0</td>\n",
              "      <td>964982224</td>\n",
              "      <td>0</td>\n",
              "      <td>5</td>\n",
              "      <td>964982211</td>\n",
              "      <td>1</td>\n",
              "      <td>[0.0, 0.0, 0.0, 0.0, 0.0, 0.0, 0.0, 0.0, 0.0, ...</td>\n",
              "    </tr>\n",
              "    <tr>\n",
              "      <th>3</th>\n",
              "      <td>1</td>\n",
              "      <td>47</td>\n",
              "      <td>5.0</td>\n",
              "      <td>964983815</td>\n",
              "      <td>0</td>\n",
              "      <td>43</td>\n",
              "      <td>964983793</td>\n",
              "      <td>1</td>\n",
              "      <td>[0.0, 0.0, 0.0, 0.0, 0.0, 0.0, 0.0, 0.0, 0.0, ...</td>\n",
              "    </tr>\n",
              "    <tr>\n",
              "      <th>4</th>\n",
              "      <td>1</td>\n",
              "      <td>50</td>\n",
              "      <td>5.0</td>\n",
              "      <td>964982931</td>\n",
              "      <td>0</td>\n",
              "      <td>46</td>\n",
              "      <td>964982903</td>\n",
              "      <td>2</td>\n",
              "      <td>[0.0, 0.0, 0.0, 0.0, 0.0, 0.0, 0.0, 0.0, 0.0, ...</td>\n",
              "    </tr>\n",
              "  </tbody>\n",
              "</table>\n",
              "</div>"
            ],
            "text/plain": [
              "   userId  movieId  ...  m_count                                   last_rate_vector\n",
              "0       1        1  ...        4  [0.0, 0.0, 0.0, 0.0, 0.0, 0.0, 0.0, 0.0, 0.0, ...\n",
              "1       1        3  ...        1  [0.0, 0.0, 0.0, 0.0, 0.0, 0.0, 0.0, 0.0, 0.0, ...\n",
              "2       1        6  ...        1  [0.0, 0.0, 0.0, 0.0, 0.0, 0.0, 0.0, 0.0, 0.0, ...\n",
              "3       1       47  ...        1  [0.0, 0.0, 0.0, 0.0, 0.0, 0.0, 0.0, 0.0, 0.0, ...\n",
              "4       1       50  ...        2  [0.0, 0.0, 0.0, 0.0, 0.0, 0.0, 0.0, 0.0, 0.0, ...\n",
              "\n",
              "[5 rows x 9 columns]"
            ]
          },
          "metadata": {
            "tags": []
          },
          "execution_count": 55
        }
      ]
    },
    {
      "cell_type": "code",
      "metadata": {
        "colab": {
          "base_uri": "https://localhost:8080/",
          "height": 204
        },
        "id": "oqOu0nPMnSUG",
        "outputId": "479d4d2d-6c14-42cf-a0c7-4e012ea69a56"
      },
      "source": [
        "movies.head()"
      ],
      "execution_count": 56,
      "outputs": [
        {
          "output_type": "execute_result",
          "data": {
            "text/html": [
              "<div>\n",
              "<style scoped>\n",
              "    .dataframe tbody tr th:only-of-type {\n",
              "        vertical-align: middle;\n",
              "    }\n",
              "\n",
              "    .dataframe tbody tr th {\n",
              "        vertical-align: top;\n",
              "    }\n",
              "\n",
              "    .dataframe thead th {\n",
              "        text-align: right;\n",
              "    }\n",
              "</style>\n",
              "<table border=\"1\" class=\"dataframe\">\n",
              "  <thead>\n",
              "    <tr style=\"text-align: right;\">\n",
              "      <th></th>\n",
              "      <th>movieId</th>\n",
              "      <th>title</th>\n",
              "      <th>genres</th>\n",
              "      <th>m_nid</th>\n",
              "    </tr>\n",
              "  </thead>\n",
              "  <tbody>\n",
              "    <tr>\n",
              "      <th>0</th>\n",
              "      <td>1</td>\n",
              "      <td>Toy Story (1995)</td>\n",
              "      <td>Adventure|Animation|Children|Comedy|Fantasy</td>\n",
              "      <td>0</td>\n",
              "    </tr>\n",
              "    <tr>\n",
              "      <th>1</th>\n",
              "      <td>2</td>\n",
              "      <td>Jumanji (1995)</td>\n",
              "      <td>Adventure|Children|Fantasy</td>\n",
              "      <td>1</td>\n",
              "    </tr>\n",
              "    <tr>\n",
              "      <th>2</th>\n",
              "      <td>3</td>\n",
              "      <td>Grumpier Old Men (1995)</td>\n",
              "      <td>Comedy|Romance</td>\n",
              "      <td>2</td>\n",
              "    </tr>\n",
              "    <tr>\n",
              "      <th>3</th>\n",
              "      <td>4</td>\n",
              "      <td>Waiting to Exhale (1995)</td>\n",
              "      <td>Comedy|Drama|Romance</td>\n",
              "      <td>3</td>\n",
              "    </tr>\n",
              "    <tr>\n",
              "      <th>4</th>\n",
              "      <td>5</td>\n",
              "      <td>Father of the Bride Part II (1995)</td>\n",
              "      <td>Comedy</td>\n",
              "      <td>4</td>\n",
              "    </tr>\n",
              "  </tbody>\n",
              "</table>\n",
              "</div>"
            ],
            "text/plain": [
              "   movieId  ... m_nid\n",
              "0        1  ...     0\n",
              "1        2  ...     1\n",
              "2        3  ...     2\n",
              "3        4  ...     3\n",
              "4        5  ...     4\n",
              "\n",
              "[5 rows x 4 columns]"
            ]
          },
          "metadata": {
            "tags": []
          },
          "execution_count": 56
        }
      ]
    },
    {
      "cell_type": "code",
      "metadata": {
        "colab": {
          "base_uri": "https://localhost:8080/"
        },
        "id": "pEUuIcxSok0s",
        "outputId": "1fff7d19-0ada-45c9-8cb0-c7ad13884641"
      },
      "source": [
        "unique_genres = np.unique(np.concatenate(np.array(movies.genres.apply(lambda x: np.array(x.split(\"|\"))).tolist())))\n",
        "dict_gid_2_gnr = { gid:genre for gid, genre in enumerate(unique_genres)} \n",
        "dict_gnr_2_gid = { genre:gid for gid, genre in dict_gid_2_gnr.items()}\n",
        "unique_genres"
      ],
      "execution_count": 57,
      "outputs": [
        {
          "output_type": "execute_result",
          "data": {
            "text/plain": [
              "array(['(no genres listed)', 'Action', 'Adventure', 'Animation',\n",
              "       'Children', 'Comedy', 'Crime', 'Documentary', 'Drama', 'Fantasy',\n",
              "       'Film-Noir', 'Horror', 'IMAX', 'Musical', 'Mystery', 'Romance',\n",
              "       'Sci-Fi', 'Thriller', 'War', 'Western'], dtype='<U18')"
            ]
          },
          "metadata": {
            "tags": []
          },
          "execution_count": 57
        }
      ]
    },
    {
      "cell_type": "code",
      "metadata": {
        "id": "qzzO3e5BqEgA"
      },
      "source": [
        "gnr_vectors = list()\n",
        "for gnrs in movies.genres.apply(lambda x: x.split(\"|\")).tolist():\n",
        "  gnr_vector = np.zeros(len(unique_genres))\n",
        "  for gnr in gnrs:\n",
        "    gnr_vector[dict_gnr_2_gid[gnr]] = 1\n",
        "  gnr_vectors.append(gnr_vector)"
      ],
      "execution_count": 58,
      "outputs": []
    },
    {
      "cell_type": "code",
      "metadata": {
        "colab": {
          "base_uri": "https://localhost:8080/",
          "height": 204
        },
        "id": "u19eqiiCol4q",
        "outputId": "644c480d-a493-4d56-9fdd-a4063faa57b9"
      },
      "source": [
        "movies.loc[:,\"genres_vectors\"] = pd.Series(gnr_vectors)\n",
        "movies.head()"
      ],
      "execution_count": 59,
      "outputs": [
        {
          "output_type": "execute_result",
          "data": {
            "text/html": [
              "<div>\n",
              "<style scoped>\n",
              "    .dataframe tbody tr th:only-of-type {\n",
              "        vertical-align: middle;\n",
              "    }\n",
              "\n",
              "    .dataframe tbody tr th {\n",
              "        vertical-align: top;\n",
              "    }\n",
              "\n",
              "    .dataframe thead th {\n",
              "        text-align: right;\n",
              "    }\n",
              "</style>\n",
              "<table border=\"1\" class=\"dataframe\">\n",
              "  <thead>\n",
              "    <tr style=\"text-align: right;\">\n",
              "      <th></th>\n",
              "      <th>movieId</th>\n",
              "      <th>title</th>\n",
              "      <th>genres</th>\n",
              "      <th>m_nid</th>\n",
              "      <th>genres_vectors</th>\n",
              "    </tr>\n",
              "  </thead>\n",
              "  <tbody>\n",
              "    <tr>\n",
              "      <th>0</th>\n",
              "      <td>1</td>\n",
              "      <td>Toy Story (1995)</td>\n",
              "      <td>Adventure|Animation|Children|Comedy|Fantasy</td>\n",
              "      <td>0</td>\n",
              "      <td>[0.0, 0.0, 1.0, 1.0, 1.0, 1.0, 0.0, 0.0, 0.0, ...</td>\n",
              "    </tr>\n",
              "    <tr>\n",
              "      <th>1</th>\n",
              "      <td>2</td>\n",
              "      <td>Jumanji (1995)</td>\n",
              "      <td>Adventure|Children|Fantasy</td>\n",
              "      <td>1</td>\n",
              "      <td>[0.0, 0.0, 1.0, 0.0, 1.0, 0.0, 0.0, 0.0, 0.0, ...</td>\n",
              "    </tr>\n",
              "    <tr>\n",
              "      <th>2</th>\n",
              "      <td>3</td>\n",
              "      <td>Grumpier Old Men (1995)</td>\n",
              "      <td>Comedy|Romance</td>\n",
              "      <td>2</td>\n",
              "      <td>[0.0, 0.0, 0.0, 0.0, 0.0, 1.0, 0.0, 0.0, 0.0, ...</td>\n",
              "    </tr>\n",
              "    <tr>\n",
              "      <th>3</th>\n",
              "      <td>4</td>\n",
              "      <td>Waiting to Exhale (1995)</td>\n",
              "      <td>Comedy|Drama|Romance</td>\n",
              "      <td>3</td>\n",
              "      <td>[0.0, 0.0, 0.0, 0.0, 0.0, 1.0, 0.0, 0.0, 1.0, ...</td>\n",
              "    </tr>\n",
              "    <tr>\n",
              "      <th>4</th>\n",
              "      <td>5</td>\n",
              "      <td>Father of the Bride Part II (1995)</td>\n",
              "      <td>Comedy</td>\n",
              "      <td>4</td>\n",
              "      <td>[0.0, 0.0, 0.0, 0.0, 0.0, 1.0, 0.0, 0.0, 0.0, ...</td>\n",
              "    </tr>\n",
              "  </tbody>\n",
              "</table>\n",
              "</div>"
            ],
            "text/plain": [
              "   movieId  ...                                     genres_vectors\n",
              "0        1  ...  [0.0, 0.0, 1.0, 1.0, 1.0, 1.0, 0.0, 0.0, 0.0, ...\n",
              "1        2  ...  [0.0, 0.0, 1.0, 0.0, 1.0, 0.0, 0.0, 0.0, 0.0, ...\n",
              "2        3  ...  [0.0, 0.0, 0.0, 0.0, 0.0, 1.0, 0.0, 0.0, 0.0, ...\n",
              "3        4  ...  [0.0, 0.0, 0.0, 0.0, 0.0, 1.0, 0.0, 0.0, 1.0, ...\n",
              "4        5  ...  [0.0, 0.0, 0.0, 0.0, 0.0, 1.0, 0.0, 0.0, 0.0, ...\n",
              "\n",
              "[5 rows x 5 columns]"
            ]
          },
          "metadata": {
            "tags": []
          },
          "execution_count": 59
        }
      ]
    },
    {
      "cell_type": "code",
      "metadata": {
        "id": "PW86qYLBpd9L"
      },
      "source": [
        "import re\n",
        "\n",
        "def get_year(regex, string):\n",
        "  try:\n",
        "    found = re.search(regex,string).group(0)[1:-1]\n",
        "  except AttributeError:\n",
        "    found = ''\n",
        "  return found\n",
        "\n",
        "regex = '\\([0-9]{4}\\)'\n",
        "movies.loc[:,\"launch_year\"] = movies.title.apply(lambda x:get_year(regex,x))"
      ],
      "execution_count": 60,
      "outputs": []
    },
    {
      "cell_type": "code",
      "metadata": {
        "colab": {
          "base_uri": "https://localhost:8080/",
          "height": 204
        },
        "id": "g2GzZYguwMHt",
        "outputId": "84761b8d-b9dd-4098-8911-a63a613a5527"
      },
      "source": [
        "movies.head()"
      ],
      "execution_count": 61,
      "outputs": [
        {
          "output_type": "execute_result",
          "data": {
            "text/html": [
              "<div>\n",
              "<style scoped>\n",
              "    .dataframe tbody tr th:only-of-type {\n",
              "        vertical-align: middle;\n",
              "    }\n",
              "\n",
              "    .dataframe tbody tr th {\n",
              "        vertical-align: top;\n",
              "    }\n",
              "\n",
              "    .dataframe thead th {\n",
              "        text-align: right;\n",
              "    }\n",
              "</style>\n",
              "<table border=\"1\" class=\"dataframe\">\n",
              "  <thead>\n",
              "    <tr style=\"text-align: right;\">\n",
              "      <th></th>\n",
              "      <th>movieId</th>\n",
              "      <th>title</th>\n",
              "      <th>genres</th>\n",
              "      <th>m_nid</th>\n",
              "      <th>genres_vectors</th>\n",
              "      <th>launch_year</th>\n",
              "    </tr>\n",
              "  </thead>\n",
              "  <tbody>\n",
              "    <tr>\n",
              "      <th>0</th>\n",
              "      <td>1</td>\n",
              "      <td>Toy Story (1995)</td>\n",
              "      <td>Adventure|Animation|Children|Comedy|Fantasy</td>\n",
              "      <td>0</td>\n",
              "      <td>[0.0, 0.0, 1.0, 1.0, 1.0, 1.0, 0.0, 0.0, 0.0, ...</td>\n",
              "      <td>1995</td>\n",
              "    </tr>\n",
              "    <tr>\n",
              "      <th>1</th>\n",
              "      <td>2</td>\n",
              "      <td>Jumanji (1995)</td>\n",
              "      <td>Adventure|Children|Fantasy</td>\n",
              "      <td>1</td>\n",
              "      <td>[0.0, 0.0, 1.0, 0.0, 1.0, 0.0, 0.0, 0.0, 0.0, ...</td>\n",
              "      <td>1995</td>\n",
              "    </tr>\n",
              "    <tr>\n",
              "      <th>2</th>\n",
              "      <td>3</td>\n",
              "      <td>Grumpier Old Men (1995)</td>\n",
              "      <td>Comedy|Romance</td>\n",
              "      <td>2</td>\n",
              "      <td>[0.0, 0.0, 0.0, 0.0, 0.0, 1.0, 0.0, 0.0, 0.0, ...</td>\n",
              "      <td>1995</td>\n",
              "    </tr>\n",
              "    <tr>\n",
              "      <th>3</th>\n",
              "      <td>4</td>\n",
              "      <td>Waiting to Exhale (1995)</td>\n",
              "      <td>Comedy|Drama|Romance</td>\n",
              "      <td>3</td>\n",
              "      <td>[0.0, 0.0, 0.0, 0.0, 0.0, 1.0, 0.0, 0.0, 1.0, ...</td>\n",
              "      <td>1995</td>\n",
              "    </tr>\n",
              "    <tr>\n",
              "      <th>4</th>\n",
              "      <td>5</td>\n",
              "      <td>Father of the Bride Part II (1995)</td>\n",
              "      <td>Comedy</td>\n",
              "      <td>4</td>\n",
              "      <td>[0.0, 0.0, 0.0, 0.0, 0.0, 1.0, 0.0, 0.0, 0.0, ...</td>\n",
              "      <td>1995</td>\n",
              "    </tr>\n",
              "  </tbody>\n",
              "</table>\n",
              "</div>"
            ],
            "text/plain": [
              "   movieId  ... launch_year\n",
              "0        1  ...        1995\n",
              "1        2  ...        1995\n",
              "2        3  ...        1995\n",
              "3        4  ...        1995\n",
              "4        5  ...        1995\n",
              "\n",
              "[5 rows x 6 columns]"
            ]
          },
          "metadata": {
            "tags": []
          },
          "execution_count": 61
        }
      ]
    },
    {
      "cell_type": "code",
      "metadata": {
        "colab": {
          "base_uri": "https://localhost:8080/",
          "height": 204
        },
        "id": "p9IIlRtqv0Rx",
        "outputId": "0235583e-2458-4059-9083-ab92b8f3361b"
      },
      "source": [
        "movies.loc[movies.launch_year==\"\",\"launch_year\"] = 0\n",
        "movies.loc[:,\"launch_year\"] = movies.launch_year.astype(\"int\")\n",
        "movies.loc[movies.launch_year==0].head()"
      ],
      "execution_count": 62,
      "outputs": [
        {
          "output_type": "execute_result",
          "data": {
            "text/html": [
              "<div>\n",
              "<style scoped>\n",
              "    .dataframe tbody tr th:only-of-type {\n",
              "        vertical-align: middle;\n",
              "    }\n",
              "\n",
              "    .dataframe tbody tr th {\n",
              "        vertical-align: top;\n",
              "    }\n",
              "\n",
              "    .dataframe thead th {\n",
              "        text-align: right;\n",
              "    }\n",
              "</style>\n",
              "<table border=\"1\" class=\"dataframe\">\n",
              "  <thead>\n",
              "    <tr style=\"text-align: right;\">\n",
              "      <th></th>\n",
              "      <th>movieId</th>\n",
              "      <th>title</th>\n",
              "      <th>genres</th>\n",
              "      <th>m_nid</th>\n",
              "      <th>genres_vectors</th>\n",
              "      <th>launch_year</th>\n",
              "    </tr>\n",
              "  </thead>\n",
              "  <tbody>\n",
              "    <tr>\n",
              "      <th>6059</th>\n",
              "      <td>40697</td>\n",
              "      <td>Babylon 5</td>\n",
              "      <td>Sci-Fi</td>\n",
              "      <td>6059</td>\n",
              "      <td>[0.0, 0.0, 0.0, 0.0, 0.0, 0.0, 0.0, 0.0, 0.0, ...</td>\n",
              "      <td>0</td>\n",
              "    </tr>\n",
              "    <tr>\n",
              "      <th>9031</th>\n",
              "      <td>140956</td>\n",
              "      <td>Ready Player One</td>\n",
              "      <td>Action|Sci-Fi|Thriller</td>\n",
              "      <td>9031</td>\n",
              "      <td>[0.0, 1.0, 0.0, 0.0, 0.0, 0.0, 0.0, 0.0, 0.0, ...</td>\n",
              "      <td>0</td>\n",
              "    </tr>\n",
              "    <tr>\n",
              "      <th>9091</th>\n",
              "      <td>143410</td>\n",
              "      <td>Hyena Road</td>\n",
              "      <td>(no genres listed)</td>\n",
              "      <td>9091</td>\n",
              "      <td>[1.0, 0.0, 0.0, 0.0, 0.0, 0.0, 0.0, 0.0, 0.0, ...</td>\n",
              "      <td>0</td>\n",
              "    </tr>\n",
              "    <tr>\n",
              "      <th>9138</th>\n",
              "      <td>147250</td>\n",
              "      <td>The Adventures of Sherlock Holmes and Doctor W...</td>\n",
              "      <td>(no genres listed)</td>\n",
              "      <td>9138</td>\n",
              "      <td>[1.0, 0.0, 0.0, 0.0, 0.0, 0.0, 0.0, 0.0, 0.0, ...</td>\n",
              "      <td>0</td>\n",
              "    </tr>\n",
              "    <tr>\n",
              "      <th>9179</th>\n",
              "      <td>149334</td>\n",
              "      <td>Nocturnal Animals</td>\n",
              "      <td>Drama|Thriller</td>\n",
              "      <td>9179</td>\n",
              "      <td>[0.0, 0.0, 0.0, 0.0, 0.0, 0.0, 0.0, 0.0, 1.0, ...</td>\n",
              "      <td>0</td>\n",
              "    </tr>\n",
              "  </tbody>\n",
              "</table>\n",
              "</div>"
            ],
            "text/plain": [
              "      movieId  ... launch_year\n",
              "6059    40697  ...           0\n",
              "9031   140956  ...           0\n",
              "9091   143410  ...           0\n",
              "9138   147250  ...           0\n",
              "9179   149334  ...           0\n",
              "\n",
              "[5 rows x 6 columns]"
            ]
          },
          "metadata": {
            "tags": []
          },
          "execution_count": 62
        }
      ]
    },
    {
      "cell_type": "code",
      "metadata": {
        "id": "v1BQV748xMD0"
      },
      "source": [
        "movies.loc[movies.launch_year != 0,\"movie_title\"] = movies.loc[movies.launch_year!= 0,\"title\"].apply(lambda x:x[:-6].strip()) \n",
        "movies.loc[movies.launch_year== 0,\"movie_title\"] = movies.loc[movies.launch_year== 0,\"title\"]"
      ],
      "execution_count": 63,
      "outputs": []
    },
    {
      "cell_type": "code",
      "metadata": {
        "colab": {
          "base_uri": "https://localhost:8080/",
          "height": 204
        },
        "id": "p085FvUSrKmw",
        "outputId": "a30a076e-23f8-4ec5-8db2-ef4f20736918"
      },
      "source": [
        "movies.head()"
      ],
      "execution_count": 64,
      "outputs": [
        {
          "output_type": "execute_result",
          "data": {
            "text/html": [
              "<div>\n",
              "<style scoped>\n",
              "    .dataframe tbody tr th:only-of-type {\n",
              "        vertical-align: middle;\n",
              "    }\n",
              "\n",
              "    .dataframe tbody tr th {\n",
              "        vertical-align: top;\n",
              "    }\n",
              "\n",
              "    .dataframe thead th {\n",
              "        text-align: right;\n",
              "    }\n",
              "</style>\n",
              "<table border=\"1\" class=\"dataframe\">\n",
              "  <thead>\n",
              "    <tr style=\"text-align: right;\">\n",
              "      <th></th>\n",
              "      <th>movieId</th>\n",
              "      <th>title</th>\n",
              "      <th>genres</th>\n",
              "      <th>m_nid</th>\n",
              "      <th>genres_vectors</th>\n",
              "      <th>launch_year</th>\n",
              "      <th>movie_title</th>\n",
              "    </tr>\n",
              "  </thead>\n",
              "  <tbody>\n",
              "    <tr>\n",
              "      <th>0</th>\n",
              "      <td>1</td>\n",
              "      <td>Toy Story (1995)</td>\n",
              "      <td>Adventure|Animation|Children|Comedy|Fantasy</td>\n",
              "      <td>0</td>\n",
              "      <td>[0.0, 0.0, 1.0, 1.0, 1.0, 1.0, 0.0, 0.0, 0.0, ...</td>\n",
              "      <td>1995</td>\n",
              "      <td>Toy Story</td>\n",
              "    </tr>\n",
              "    <tr>\n",
              "      <th>1</th>\n",
              "      <td>2</td>\n",
              "      <td>Jumanji (1995)</td>\n",
              "      <td>Adventure|Children|Fantasy</td>\n",
              "      <td>1</td>\n",
              "      <td>[0.0, 0.0, 1.0, 0.0, 1.0, 0.0, 0.0, 0.0, 0.0, ...</td>\n",
              "      <td>1995</td>\n",
              "      <td>Jumanji</td>\n",
              "    </tr>\n",
              "    <tr>\n",
              "      <th>2</th>\n",
              "      <td>3</td>\n",
              "      <td>Grumpier Old Men (1995)</td>\n",
              "      <td>Comedy|Romance</td>\n",
              "      <td>2</td>\n",
              "      <td>[0.0, 0.0, 0.0, 0.0, 0.0, 1.0, 0.0, 0.0, 0.0, ...</td>\n",
              "      <td>1995</td>\n",
              "      <td>Grumpier Old Men</td>\n",
              "    </tr>\n",
              "    <tr>\n",
              "      <th>3</th>\n",
              "      <td>4</td>\n",
              "      <td>Waiting to Exhale (1995)</td>\n",
              "      <td>Comedy|Drama|Romance</td>\n",
              "      <td>3</td>\n",
              "      <td>[0.0, 0.0, 0.0, 0.0, 0.0, 1.0, 0.0, 0.0, 1.0, ...</td>\n",
              "      <td>1995</td>\n",
              "      <td>Waiting to Exhale</td>\n",
              "    </tr>\n",
              "    <tr>\n",
              "      <th>4</th>\n",
              "      <td>5</td>\n",
              "      <td>Father of the Bride Part II (1995)</td>\n",
              "      <td>Comedy</td>\n",
              "      <td>4</td>\n",
              "      <td>[0.0, 0.0, 0.0, 0.0, 0.0, 1.0, 0.0, 0.0, 0.0, ...</td>\n",
              "      <td>1995</td>\n",
              "      <td>Father of the Bride Part II</td>\n",
              "    </tr>\n",
              "  </tbody>\n",
              "</table>\n",
              "</div>"
            ],
            "text/plain": [
              "   movieId  ...                  movie_title\n",
              "0        1  ...                    Toy Story\n",
              "1        2  ...                      Jumanji\n",
              "2        3  ...             Grumpier Old Men\n",
              "3        4  ...            Waiting to Exhale\n",
              "4        5  ...  Father of the Bride Part II\n",
              "\n",
              "[5 rows x 7 columns]"
            ]
          },
          "metadata": {
            "tags": []
          },
          "execution_count": 64
        }
      ]
    },
    {
      "cell_type": "code",
      "metadata": {
        "colab": {
          "base_uri": "https://localhost:8080/",
          "height": 234,
          "referenced_widgets": [
            "6dbdf92235e04dc99825bd15aa02966f",
            "081962493dfd447c96d42e4f407aaf91",
            "fbef301eb63744c5992ae090cb752390",
            "99f17baf0ebe4bbbb95e7a1146998610",
            "efadfa5c8f2e41468d79f2f70f404005",
            "999bee062e8748eca78f593869842ef2",
            "225dbffebf2f4502912bc716c524c50b",
            "bf15826332584ad894255c898c0413f9",
            "cc30c3c2394e450aa80c06868ba4628c",
            "dde08a882ce341ceb5c6ee8c4167f81c",
            "129dda48fcc04078b3037109fe14bf3b",
            "916cfbd659c94b008d07febcf34e0376",
            "0dd7fe68e43c402abf5eb70d2ff05d32",
            "ca13c74018c54ac3bbe80e58fc54a9b4",
            "e8d4eaf5fbbc425d9787baa33396bec2",
            "e8731ec18c0f4e2dae892b80d061689d"
          ]
        },
        "id": "tO5RK1M6JiGg",
        "outputId": "9faa41ec-2468-4461-ca47-e24a00d785fb"
      },
      "source": [
        "### 특수문자 제외 및 단어별 배열로 변경\n",
        "# list_title_frac= movies.movie_title.apply(lambda x:re.findall(regex,x)).to_list()\n",
        "\n",
        "vocab_size = 24000\n",
        "method = \"bpe\"\n",
        "\n",
        "input_file_path = os.path.join(data_path,\"title_tokenizer_input_{}_{}.txt\".format(method,vocab_size))\n",
        "tokenizer_name = os.path.join(data_path,\"title_tokenizer_{}_{}\".format(method, vocab_size))\n",
        "tokenizer_name_model = os.path.join(data_path,\"title_tokenizer_{}_{}.model\".format(method, vocab_size))\n",
        "\n",
        "### make_input4tokenizer\n",
        "# sentences = list(map(lambda x:\" \".join(x),list_title_frac))\n",
        "sentences = movies.movie_title.to_list()\n",
        "\n",
        "\n",
        "with open(input_file_path,'w',encoding='utf8') as f:\n",
        "  for sentence in tqdm_notebook(sentences):\n",
        "    f.write(sentence+'\\n')\n",
        "\n",
        "### train_tokenizer\n",
        "templates = ' --input={} \\\n",
        "    --pad_id=0 \\\n",
        "    --bos_id=1 \\\n",
        "    --eos_id=2 \\\n",
        "    --unk_id=3 \\\n",
        "    --model_prefix={} \\\n",
        "    --vocab_size={} \\\n",
        "    --character_coverage=1.0 \\\n",
        "    --model_type={}'\n",
        "\n",
        "cmd = templates.format(input_file_path, tokenizer_name, vocab_size, method)\n",
        "spm.SentencePieceTrainer.Train(cmd)\n",
        "print(\"title_tokenizer {} is generated\".format(tokenizer_name))\n",
        "sp = spm.SentencePieceProcessor()\n",
        "sp.Load(tokenizer_name_model)\n",
        "\n",
        "\n",
        "def get_tokens_from_sentences(sp, sentences):\n",
        "    tokenized_sentences = []\n",
        "    for sentence in sentences:\n",
        "        tokens = sp.EncodeAsPieces(sentence)\n",
        "        new_tokens = []\n",
        "        for token in tokens:\n",
        "            token = token.replace(\"▁\", \"\")\n",
        "            # if len(token) > 1:\n",
        "            new_tokens.append(token)\n",
        "        # if len(new_tokens) > 1:\n",
        "        tokenized_sentences.append(new_tokens)\n",
        "\n",
        "    return tokenized_sentences\n",
        "\n",
        "\n",
        "def get_tokens_from_sentence(sp, sentence):\n",
        "    new_tokens = []\n",
        "    tokens = sp.EncodeAsPieces(sentence)\n",
        "    for token in tokens:\n",
        "        token = token.replace(\"▁\", \"\")\n",
        "        if len(token) > 1:\n",
        "            new_tokens.append(token)\n",
        "    return new_tokens\n",
        "\n",
        "tokenized_sentences = get_tokens_from_sentences(sp,sentences)\n",
        "\n",
        "### train w2v\n",
        "w2v_name = os.path.join(data_path,\"title_w2v_{}_{}.model\".format(method,vocab_size))\n",
        "print(\"start train_title_w2v....\")\n",
        "\n",
        "size = 200\n",
        "window =5\n",
        "min_count = 2\n",
        "workers = 8\n",
        "sg = 1\n",
        "hs = 1\n",
        "\n",
        "model = w2v(tokenized_sentences,size=size,window=window,min_count=min_count,workers=workers,sg=sg,hs=hs)\n",
        "model.save(w2v_name)\n",
        "print(\"title_w2v {} is generated\".format(w2v_name))\n",
        "\n",
        "# ### get embedding\n",
        "\n",
        "sp = spm.SentencePieceProcessor()\n",
        "sp.Load(tokenizer_name_model)\n",
        "\n",
        "w2v_model = w2v.load(w2v_name)\n",
        "\n",
        "sentence_embs = []\n",
        "# # 학습이 안되는 벡터들에 대해서는 0값이 나으므로 0벡터로 input 처리 수행\n",
        "for sentence in tqdm_notebook(tokenized_sentences):\n",
        "  word_embs = []\n",
        "  for p_word in sentence:\n",
        "    try:\n",
        "      word_embs.append(w2v_model.wv[p_word])\n",
        "    except KeyError:\n",
        "      pass\n",
        "  if len(word_embs):\n",
        "    p_emb = np.average(word_embs, axis=0).tolist()\n",
        "  else:\n",
        "    p_emb = np.zeros(200).tolist()\n",
        "  sentence_embs.append(p_emb)"
      ],
      "execution_count": 65,
      "outputs": [
        {
          "output_type": "stream",
          "text": [
            "/usr/local/lib/python3.6/dist-packages/ipykernel_launcher.py:17: TqdmDeprecationWarning: This function will be removed in tqdm==5.0.0\n",
            "Please use `tqdm.notebook.tqdm` instead of `tqdm.tqdm_notebook`\n"
          ],
          "name": "stderr"
        },
        {
          "output_type": "display_data",
          "data": {
            "application/vnd.jupyter.widget-view+json": {
              "model_id": "6dbdf92235e04dc99825bd15aa02966f",
              "version_minor": 0,
              "version_major": 2
            },
            "text/plain": [
              "HBox(children=(FloatProgress(value=0.0, max=9742.0), HTML(value='')))"
            ]
          },
          "metadata": {
            "tags": []
          }
        },
        {
          "output_type": "stream",
          "text": [
            "\n",
            "title_tokenizer /gdrive/MyDrive/colab/Factorization_Machine/data/title_tokenizer_bpe_24000 is generated\n",
            "start train_title_w2v....\n",
            "title_w2v /gdrive/MyDrive/colab/Factorization_Machine/data/title_w2v_bpe_24000.model is generated\n"
          ],
          "name": "stdout"
        },
        {
          "output_type": "stream",
          "text": [
            "/usr/local/lib/python3.6/dist-packages/ipykernel_launcher.py:80: TqdmDeprecationWarning: This function will be removed in tqdm==5.0.0\n",
            "Please use `tqdm.notebook.tqdm` instead of `tqdm.tqdm_notebook`\n"
          ],
          "name": "stderr"
        },
        {
          "output_type": "display_data",
          "data": {
            "application/vnd.jupyter.widget-view+json": {
              "model_id": "cc30c3c2394e450aa80c06868ba4628c",
              "version_minor": 0,
              "version_major": 2
            },
            "text/plain": [
              "HBox(children=(FloatProgress(value=0.0, max=9742.0), HTML(value='')))"
            ]
          },
          "metadata": {
            "tags": []
          }
        },
        {
          "output_type": "stream",
          "text": [
            "\n"
          ],
          "name": "stdout"
        }
      ]
    },
    {
      "cell_type": "code",
      "metadata": {
        "colab": {
          "base_uri": "https://localhost:8080/",
          "height": 204
        },
        "id": "6K0qXH2dJn7T",
        "outputId": "a4f7dc0d-4c5b-4977-85ef-2dff9c6eb4cf"
      },
      "source": [
        "movies.loc[:,\"title_vector\"] = pd.Series(sentence_embs)\n",
        "movies.head()"
      ],
      "execution_count": 66,
      "outputs": [
        {
          "output_type": "execute_result",
          "data": {
            "text/html": [
              "<div>\n",
              "<style scoped>\n",
              "    .dataframe tbody tr th:only-of-type {\n",
              "        vertical-align: middle;\n",
              "    }\n",
              "\n",
              "    .dataframe tbody tr th {\n",
              "        vertical-align: top;\n",
              "    }\n",
              "\n",
              "    .dataframe thead th {\n",
              "        text-align: right;\n",
              "    }\n",
              "</style>\n",
              "<table border=\"1\" class=\"dataframe\">\n",
              "  <thead>\n",
              "    <tr style=\"text-align: right;\">\n",
              "      <th></th>\n",
              "      <th>movieId</th>\n",
              "      <th>title</th>\n",
              "      <th>genres</th>\n",
              "      <th>m_nid</th>\n",
              "      <th>genres_vectors</th>\n",
              "      <th>launch_year</th>\n",
              "      <th>movie_title</th>\n",
              "      <th>title_vector</th>\n",
              "    </tr>\n",
              "  </thead>\n",
              "  <tbody>\n",
              "    <tr>\n",
              "      <th>0</th>\n",
              "      <td>1</td>\n",
              "      <td>Toy Story (1995)</td>\n",
              "      <td>Adventure|Animation|Children|Comedy|Fantasy</td>\n",
              "      <td>0</td>\n",
              "      <td>[0.0, 0.0, 1.0, 1.0, 1.0, 1.0, 0.0, 0.0, 0.0, ...</td>\n",
              "      <td>1995</td>\n",
              "      <td>Toy Story</td>\n",
              "      <td>[0.015534833073616028, 0.01623934507369995, 0....</td>\n",
              "    </tr>\n",
              "    <tr>\n",
              "      <th>1</th>\n",
              "      <td>2</td>\n",
              "      <td>Jumanji (1995)</td>\n",
              "      <td>Adventure|Children|Fantasy</td>\n",
              "      <td>1</td>\n",
              "      <td>[0.0, 0.0, 1.0, 0.0, 1.0, 0.0, 0.0, 0.0, 0.0, ...</td>\n",
              "      <td>1995</td>\n",
              "      <td>Jumanji</td>\n",
              "      <td>[-0.0010245643788948655, 0.0012786060106009245...</td>\n",
              "    </tr>\n",
              "    <tr>\n",
              "      <th>2</th>\n",
              "      <td>3</td>\n",
              "      <td>Grumpier Old Men (1995)</td>\n",
              "      <td>Comedy|Romance</td>\n",
              "      <td>2</td>\n",
              "      <td>[0.0, 0.0, 0.0, 0.0, 0.0, 1.0, 0.0, 0.0, 0.0, ...</td>\n",
              "      <td>1995</td>\n",
              "      <td>Grumpier Old Men</td>\n",
              "      <td>[0.003464460140094161, 0.030880093574523926, 0...</td>\n",
              "    </tr>\n",
              "    <tr>\n",
              "      <th>3</th>\n",
              "      <td>4</td>\n",
              "      <td>Waiting to Exhale (1995)</td>\n",
              "      <td>Comedy|Drama|Romance</td>\n",
              "      <td>3</td>\n",
              "      <td>[0.0, 0.0, 0.0, 0.0, 0.0, 1.0, 0.0, 0.0, 1.0, ...</td>\n",
              "      <td>1995</td>\n",
              "      <td>Waiting to Exhale</td>\n",
              "      <td>[0.016978969797492027, 0.021812498569488525, 0...</td>\n",
              "    </tr>\n",
              "    <tr>\n",
              "      <th>4</th>\n",
              "      <td>5</td>\n",
              "      <td>Father of the Bride Part II (1995)</td>\n",
              "      <td>Comedy</td>\n",
              "      <td>4</td>\n",
              "      <td>[0.0, 0.0, 0.0, 0.0, 0.0, 1.0, 0.0, 0.0, 0.0, ...</td>\n",
              "      <td>1995</td>\n",
              "      <td>Father of the Bride Part II</td>\n",
              "      <td>[0.06127961352467537, 0.027192719280719757, 0....</td>\n",
              "    </tr>\n",
              "  </tbody>\n",
              "</table>\n",
              "</div>"
            ],
            "text/plain": [
              "   movieId  ...                                       title_vector\n",
              "0        1  ...  [0.015534833073616028, 0.01623934507369995, 0....\n",
              "1        2  ...  [-0.0010245643788948655, 0.0012786060106009245...\n",
              "2        3  ...  [0.003464460140094161, 0.030880093574523926, 0...\n",
              "3        4  ...  [0.016978969797492027, 0.021812498569488525, 0...\n",
              "4        5  ...  [0.06127961352467537, 0.027192719280719757, 0....\n",
              "\n",
              "[5 rows x 8 columns]"
            ]
          },
          "metadata": {
            "tags": []
          },
          "execution_count": 66
        }
      ]
    },
    {
      "cell_type": "code",
      "metadata": {
        "colab": {
          "base_uri": "https://localhost:8080/",
          "height": 204
        },
        "id": "KZ9kbv8P5g6T",
        "outputId": "90749a94-affc-48f0-87b9-856dc4c0cdc6"
      },
      "source": [
        "tags.head()"
      ],
      "execution_count": 67,
      "outputs": [
        {
          "output_type": "execute_result",
          "data": {
            "text/html": [
              "<div>\n",
              "<style scoped>\n",
              "    .dataframe tbody tr th:only-of-type {\n",
              "        vertical-align: middle;\n",
              "    }\n",
              "\n",
              "    .dataframe tbody tr th {\n",
              "        vertical-align: top;\n",
              "    }\n",
              "\n",
              "    .dataframe thead th {\n",
              "        text-align: right;\n",
              "    }\n",
              "</style>\n",
              "<table border=\"1\" class=\"dataframe\">\n",
              "  <thead>\n",
              "    <tr style=\"text-align: right;\">\n",
              "      <th></th>\n",
              "      <th>userId</th>\n",
              "      <th>movieId</th>\n",
              "      <th>tag</th>\n",
              "      <th>timestamp</th>\n",
              "      <th>u_nid</th>\n",
              "      <th>m_nid</th>\n",
              "    </tr>\n",
              "  </thead>\n",
              "  <tbody>\n",
              "    <tr>\n",
              "      <th>0</th>\n",
              "      <td>2</td>\n",
              "      <td>60756</td>\n",
              "      <td>funny</td>\n",
              "      <td>1445714994</td>\n",
              "      <td>1</td>\n",
              "      <td>6801</td>\n",
              "    </tr>\n",
              "    <tr>\n",
              "      <th>1</th>\n",
              "      <td>2</td>\n",
              "      <td>60756</td>\n",
              "      <td>Highly quotable</td>\n",
              "      <td>1445714996</td>\n",
              "      <td>1</td>\n",
              "      <td>6801</td>\n",
              "    </tr>\n",
              "    <tr>\n",
              "      <th>2</th>\n",
              "      <td>2</td>\n",
              "      <td>60756</td>\n",
              "      <td>will ferrell</td>\n",
              "      <td>1445714992</td>\n",
              "      <td>1</td>\n",
              "      <td>6801</td>\n",
              "    </tr>\n",
              "    <tr>\n",
              "      <th>3</th>\n",
              "      <td>2</td>\n",
              "      <td>89774</td>\n",
              "      <td>Boxing story</td>\n",
              "      <td>1445715207</td>\n",
              "      <td>1</td>\n",
              "      <td>7697</td>\n",
              "    </tr>\n",
              "    <tr>\n",
              "      <th>4</th>\n",
              "      <td>2</td>\n",
              "      <td>89774</td>\n",
              "      <td>MMA</td>\n",
              "      <td>1445715200</td>\n",
              "      <td>1</td>\n",
              "      <td>7697</td>\n",
              "    </tr>\n",
              "  </tbody>\n",
              "</table>\n",
              "</div>"
            ],
            "text/plain": [
              "   userId  movieId              tag   timestamp  u_nid  m_nid\n",
              "0       2    60756            funny  1445714994      1   6801\n",
              "1       2    60756  Highly quotable  1445714996      1   6801\n",
              "2       2    60756     will ferrell  1445714992      1   6801\n",
              "3       2    89774     Boxing story  1445715207      1   7697\n",
              "4       2    89774              MMA  1445715200      1   7697"
            ]
          },
          "metadata": {
            "tags": []
          },
          "execution_count": 67
        }
      ]
    },
    {
      "cell_type": "code",
      "metadata": {
        "id": "fhrlcKGv5gzb"
      },
      "source": [
        "from collections import OrderedDict\n",
        "set_tag_user_movie = set(zip(tags.userId, tags.movieId))\n",
        "\n",
        "dict_tag_string = OrderedDict()\n",
        "for user, movie in set_tag_user_movie:\n",
        "  list_tag = tags.loc[np.logical_and(tags.userId==user,tags.movieId==movie),\"tag\"].tolist()\n",
        "  dict_tag_string[(user,movie)] = list_tag\n",
        "\n",
        "dict_tag_string = OrderedDict(sorted(dict_tag_string.items()))"
      ],
      "execution_count": 68,
      "outputs": []
    },
    {
      "cell_type": "code",
      "metadata": {
        "colab": {
          "base_uri": "https://localhost:8080/",
          "height": 204
        },
        "id": "MkNpy6HEKrNm",
        "outputId": "cc984c72-ebf8-4ca6-c00d-db7580d06988"
      },
      "source": [
        "user_series = pd.Series(list(map(lambda x:x[0],dict_tag_string.keys())))\n",
        "movie_series = pd.Series(list(map(lambda x:x[1],dict_tag_string.keys()))) \n",
        "tag_series = pd.Series(list(dict_tag_string.values()))\n",
        "\n",
        "df_tag_list = pd.concat([user_series,movie_series,tag_series],axis=1)\n",
        "df_tag_list.columns = [\"userId\",\"movieId\",\"tags\"]\n",
        "df_tag_list.head()"
      ],
      "execution_count": 69,
      "outputs": [
        {
          "output_type": "execute_result",
          "data": {
            "text/html": [
              "<div>\n",
              "<style scoped>\n",
              "    .dataframe tbody tr th:only-of-type {\n",
              "        vertical-align: middle;\n",
              "    }\n",
              "\n",
              "    .dataframe tbody tr th {\n",
              "        vertical-align: top;\n",
              "    }\n",
              "\n",
              "    .dataframe thead th {\n",
              "        text-align: right;\n",
              "    }\n",
              "</style>\n",
              "<table border=\"1\" class=\"dataframe\">\n",
              "  <thead>\n",
              "    <tr style=\"text-align: right;\">\n",
              "      <th></th>\n",
              "      <th>userId</th>\n",
              "      <th>movieId</th>\n",
              "      <th>tags</th>\n",
              "    </tr>\n",
              "  </thead>\n",
              "  <tbody>\n",
              "    <tr>\n",
              "      <th>0</th>\n",
              "      <td>2</td>\n",
              "      <td>60756</td>\n",
              "      <td>[funny, Highly quotable, will ferrell]</td>\n",
              "    </tr>\n",
              "    <tr>\n",
              "      <th>1</th>\n",
              "      <td>2</td>\n",
              "      <td>89774</td>\n",
              "      <td>[Boxing story, MMA, Tom Hardy]</td>\n",
              "    </tr>\n",
              "    <tr>\n",
              "      <th>2</th>\n",
              "      <td>2</td>\n",
              "      <td>106782</td>\n",
              "      <td>[drugs, Leonardo DiCaprio, Martin Scorsese]</td>\n",
              "    </tr>\n",
              "    <tr>\n",
              "      <th>3</th>\n",
              "      <td>7</td>\n",
              "      <td>48516</td>\n",
              "      <td>[way too long]</td>\n",
              "    </tr>\n",
              "    <tr>\n",
              "      <th>4</th>\n",
              "      <td>18</td>\n",
              "      <td>431</td>\n",
              "      <td>[Al Pacino, gangster, mafia]</td>\n",
              "    </tr>\n",
              "  </tbody>\n",
              "</table>\n",
              "</div>"
            ],
            "text/plain": [
              "   userId  movieId                                         tags\n",
              "0       2    60756       [funny, Highly quotable, will ferrell]\n",
              "1       2    89774               [Boxing story, MMA, Tom Hardy]\n",
              "2       2   106782  [drugs, Leonardo DiCaprio, Martin Scorsese]\n",
              "3       7    48516                               [way too long]\n",
              "4      18      431                 [Al Pacino, gangster, mafia]"
            ]
          },
          "metadata": {
            "tags": []
          },
          "execution_count": 69
        }
      ]
    },
    {
      "cell_type": "code",
      "metadata": {
        "colab": {
          "base_uri": "https://localhost:8080/",
          "height": 204
        },
        "id": "RH0IhD-2NWd4",
        "outputId": "20d8c131-4e97-4f00-a9e1-2e74bd3d3e05"
      },
      "source": [
        "ratings = pd.merge(left=ratings, right=df_tag_list, on=[\"userId\",\"movieId\"], how=\"left\")\n",
        "ratings.loc[:,\"tags\"]= ratings.tags.fillna(\" \")\n",
        "ratings.head()"
      ],
      "execution_count": 70,
      "outputs": [
        {
          "output_type": "execute_result",
          "data": {
            "text/html": [
              "<div>\n",
              "<style scoped>\n",
              "    .dataframe tbody tr th:only-of-type {\n",
              "        vertical-align: middle;\n",
              "    }\n",
              "\n",
              "    .dataframe tbody tr th {\n",
              "        vertical-align: top;\n",
              "    }\n",
              "\n",
              "    .dataframe thead th {\n",
              "        text-align: right;\n",
              "    }\n",
              "</style>\n",
              "<table border=\"1\" class=\"dataframe\">\n",
              "  <thead>\n",
              "    <tr style=\"text-align: right;\">\n",
              "      <th></th>\n",
              "      <th>userId</th>\n",
              "      <th>movieId</th>\n",
              "      <th>rating</th>\n",
              "      <th>timestamp</th>\n",
              "      <th>u_nid</th>\n",
              "      <th>m_nid</th>\n",
              "      <th>b4_timestamp</th>\n",
              "      <th>m_count</th>\n",
              "      <th>last_rate_vector</th>\n",
              "      <th>tags</th>\n",
              "    </tr>\n",
              "  </thead>\n",
              "  <tbody>\n",
              "    <tr>\n",
              "      <th>0</th>\n",
              "      <td>1</td>\n",
              "      <td>1</td>\n",
              "      <td>4.0</td>\n",
              "      <td>964982703</td>\n",
              "      <td>0</td>\n",
              "      <td>0</td>\n",
              "      <td>964982681</td>\n",
              "      <td>4</td>\n",
              "      <td>[0.0, 0.0, 0.0, 0.0, 0.0, 0.0, 0.0, 0.0, 0.0, ...</td>\n",
              "      <td></td>\n",
              "    </tr>\n",
              "    <tr>\n",
              "      <th>1</th>\n",
              "      <td>1</td>\n",
              "      <td>3</td>\n",
              "      <td>4.0</td>\n",
              "      <td>964981247</td>\n",
              "      <td>0</td>\n",
              "      <td>2</td>\n",
              "      <td>964981230</td>\n",
              "      <td>1</td>\n",
              "      <td>[0.0, 0.0, 0.0, 0.0, 0.0, 0.0, 0.0, 0.0, 0.0, ...</td>\n",
              "      <td></td>\n",
              "    </tr>\n",
              "    <tr>\n",
              "      <th>2</th>\n",
              "      <td>1</td>\n",
              "      <td>6</td>\n",
              "      <td>4.0</td>\n",
              "      <td>964982224</td>\n",
              "      <td>0</td>\n",
              "      <td>5</td>\n",
              "      <td>964982211</td>\n",
              "      <td>1</td>\n",
              "      <td>[0.0, 0.0, 0.0, 0.0, 0.0, 0.0, 0.0, 0.0, 0.0, ...</td>\n",
              "      <td></td>\n",
              "    </tr>\n",
              "    <tr>\n",
              "      <th>3</th>\n",
              "      <td>1</td>\n",
              "      <td>47</td>\n",
              "      <td>5.0</td>\n",
              "      <td>964983815</td>\n",
              "      <td>0</td>\n",
              "      <td>43</td>\n",
              "      <td>964983793</td>\n",
              "      <td>1</td>\n",
              "      <td>[0.0, 0.0, 0.0, 0.0, 0.0, 0.0, 0.0, 0.0, 0.0, ...</td>\n",
              "      <td></td>\n",
              "    </tr>\n",
              "    <tr>\n",
              "      <th>4</th>\n",
              "      <td>1</td>\n",
              "      <td>50</td>\n",
              "      <td>5.0</td>\n",
              "      <td>964982931</td>\n",
              "      <td>0</td>\n",
              "      <td>46</td>\n",
              "      <td>964982903</td>\n",
              "      <td>2</td>\n",
              "      <td>[0.0, 0.0, 0.0, 0.0, 0.0, 0.0, 0.0, 0.0, 0.0, ...</td>\n",
              "      <td></td>\n",
              "    </tr>\n",
              "  </tbody>\n",
              "</table>\n",
              "</div>"
            ],
            "text/plain": [
              "   userId  movieId  ...                                   last_rate_vector  tags\n",
              "0       1        1  ...  [0.0, 0.0, 0.0, 0.0, 0.0, 0.0, 0.0, 0.0, 0.0, ...      \n",
              "1       1        3  ...  [0.0, 0.0, 0.0, 0.0, 0.0, 0.0, 0.0, 0.0, 0.0, ...      \n",
              "2       1        6  ...  [0.0, 0.0, 0.0, 0.0, 0.0, 0.0, 0.0, 0.0, 0.0, ...      \n",
              "3       1       47  ...  [0.0, 0.0, 0.0, 0.0, 0.0, 0.0, 0.0, 0.0, 0.0, ...      \n",
              "4       1       50  ...  [0.0, 0.0, 0.0, 0.0, 0.0, 0.0, 0.0, 0.0, 0.0, ...      \n",
              "\n",
              "[5 rows x 10 columns]"
            ]
          },
          "metadata": {
            "tags": []
          },
          "execution_count": 70
        }
      ]
    },
    {
      "cell_type": "code",
      "metadata": {
        "colab": {
          "base_uri": "https://localhost:8080/",
          "height": 234,
          "referenced_widgets": [
            "3d2411416d0b4f3bb0a921aa6725a599",
            "d8fcf0105b8347d69c37c4b7cd904518",
            "ac789f2d4baf46a8b1e03bcc6157d3e9",
            "ef29dd5f8c2c4f008baacf43bb072e42",
            "5de31191bbeb47d78f163781d4d7fc96",
            "bfa42e56a5434055b4f00bd7d859279d",
            "fd75260014724034a78e44b14559e4c0",
            "478f7e56ac7b42928df46a24732d09b4",
            "86c1a39c22374e74ad9e08bbc1092d1d",
            "a5bb313e57eb41f6a261d6c73ace9476",
            "f62e2e576e4f466ba11ced597a22f9ab",
            "1d2dc7e79e54486dba1c6523613ff7ed",
            "d5c7ff140f1a48c98aa137b35eaeb657",
            "b883199c6835401cb18f401ded17c23d",
            "dffd646cb8fe4dbdacd4c14d501c5da6",
            "2aecc6ba075449a496166d4ac508e52a"
          ]
        },
        "id": "UR_hx78Y5gpY",
        "outputId": "32068bbf-6530-4b31-fa3d-802cc32aeade"
      },
      "source": [
        "### 특수문자 제외 및 단어별 배열로 변경\n",
        "# list_title_frac= movies.movie_title.apply(lambda x:re.findall(regex,x)).to_list()\n",
        "\n",
        "vocab_size = 100\n",
        "method = \"bpe\"\n",
        "\n",
        "input_file_path = os.path.join(data_path,\"tag_tokenizer_input_{}_{}.txt\".format(method,vocab_size))\n",
        "tokenizer_name = os.path.join(data_path,\"tag_tokenizer_{}_{}\".format(method, vocab_size))\n",
        "tokenizer_name_model = os.path.join(data_path,\"tag_tokenizer_{}_{}.model\".format(method, vocab_size))\n",
        "\n",
        "### make_input4tokenizer\n",
        "# sentences = list(map(lambda x:\" \".join(x),list_title_frac))\n",
        "tag_sentences = ratings.tags.to_list()\n",
        "\n",
        "sentences = []\n",
        "for tag_sentence in tag_sentences:\n",
        "  sentence = \" \".join(tag_sentence)\n",
        "  sentences.append(sentence)\n",
        "\n",
        "with open(input_file_path,'w',encoding='utf8') as f:\n",
        "  for sentence in tqdm_notebook(sentences):\n",
        "    tag_sentence = \" \".join(sentence)\n",
        "    f.write(tag_sentence+'\\n')\n",
        "\n",
        "### train_tokenizer\n",
        "templates = ' --input={} \\\n",
        "    --pad_id=0 \\\n",
        "    --bos_id=1 \\\n",
        "    --eos_id=2 \\\n",
        "    --unk_id=3 \\\n",
        "    --model_prefix={} \\\n",
        "    --vocab_size={} \\\n",
        "    --character_coverage=1.0 \\\n",
        "    --model_type={}'\n",
        "\n",
        "cmd = templates.format(input_file_path, tokenizer_name, vocab_size, method)\n",
        "spm.SentencePieceTrainer.Train(cmd)\n",
        "print(\"tag_tokenizer {} is generated\".format(tokenizer_name))\n",
        "sp = spm.SentencePieceProcessor()\n",
        "sp.Load(tokenizer_name_model)\n",
        "\n",
        "\n",
        "def get_tokens_from_sentences(sp, sentences):\n",
        "    tokenized_sentences = []\n",
        "    for sentence in sentences:\n",
        "        tokens = sp.EncodeAsPieces(sentence)\n",
        "        new_tokens = []\n",
        "        for token in tokens:\n",
        "            token = token.replace(\"▁\", \"\")\n",
        "            # if len(token) > 1:\n",
        "            new_tokens.append(token)\n",
        "        # if len(new_tokens) > 1:\n",
        "        tokenized_sentences.append(new_tokens)\n",
        "\n",
        "    return tokenized_sentences\n",
        "\n",
        "\n",
        "def get_tokens_from_sentence(sp, sentence):\n",
        "    new_tokens = []\n",
        "    tokens = sp.EncodeAsPieces(sentence)\n",
        "    for token in tokens:\n",
        "        token = token.replace(\"▁\", \"\")\n",
        "        if len(token) > 1:\n",
        "            new_tokens.append(token)\n",
        "    return new_tokens\n",
        "\n",
        "tokenized_sentences = get_tokens_from_sentences(sp,sentences)\n",
        "\n",
        "### train w2v\n",
        "w2v_name = os.path.join(data_path,\"tag_w2v_{}_{}.model\".format(method,vocab_size))\n",
        "print(\"start train_tag_w2v....\")\n",
        "\n",
        "size = 200\n",
        "window =5\n",
        "min_count = 2\n",
        "workers = 8\n",
        "sg = 1\n",
        "hs = 1\n",
        "\n",
        "model = w2v(tokenized_sentences,size=size,window=window,min_count=min_count,workers=workers,sg=sg,hs=hs)\n",
        "model.save(w2v_name)\n",
        "print(\"tag_w2v {} is generated\".format(w2v_name))\n",
        "\n",
        "# ### get embedding\n",
        "\n",
        "sp = spm.SentencePieceProcessor()\n",
        "sp.Load(tokenizer_name_model)\n",
        "\n",
        "w2v_model = w2v.load(w2v_name)\n",
        "\n",
        "sentence_embs = []\n",
        "# # 학습이 안되는 벡터들에 대해서는 0값이 나으므로 0벡터로 input 처리 수행\n",
        "for sentence in tqdm_notebook(tokenized_sentences):\n",
        "  word_embs = []\n",
        "  for p_word in sentence:\n",
        "    try:\n",
        "      word_embs.append(w2v_model.wv[p_word])\n",
        "    except KeyError:\n",
        "      pass\n",
        "  if len(word_embs):\n",
        "    p_emb = np.average(word_embs, axis=0).tolist()\n",
        "  else:\n",
        "    p_emb = np.zeros(200).tolist()\n",
        "  sentence_embs.append(p_emb)"
      ],
      "execution_count": 71,
      "outputs": [
        {
          "output_type": "stream",
          "text": [
            "/usr/local/lib/python3.6/dist-packages/ipykernel_launcher.py:21: TqdmDeprecationWarning: This function will be removed in tqdm==5.0.0\n",
            "Please use `tqdm.notebook.tqdm` instead of `tqdm.tqdm_notebook`\n"
          ],
          "name": "stderr"
        },
        {
          "output_type": "display_data",
          "data": {
            "application/vnd.jupyter.widget-view+json": {
              "model_id": "3d2411416d0b4f3bb0a921aa6725a599",
              "version_minor": 0,
              "version_major": 2
            },
            "text/plain": [
              "HBox(children=(FloatProgress(value=0.0, max=100836.0), HTML(value='')))"
            ]
          },
          "metadata": {
            "tags": []
          }
        },
        {
          "output_type": "stream",
          "text": [
            "\n",
            "tag_tokenizer /gdrive/MyDrive/colab/Factorization_Machine/data/tag_tokenizer_bpe_100 is generated\n",
            "start train_tag_w2v....\n",
            "tag_w2v /gdrive/MyDrive/colab/Factorization_Machine/data/tag_w2v_bpe_100.model is generated\n"
          ],
          "name": "stdout"
        },
        {
          "output_type": "stream",
          "text": [
            "/usr/local/lib/python3.6/dist-packages/ipykernel_launcher.py:85: TqdmDeprecationWarning: This function will be removed in tqdm==5.0.0\n",
            "Please use `tqdm.notebook.tqdm` instead of `tqdm.tqdm_notebook`\n"
          ],
          "name": "stderr"
        },
        {
          "output_type": "display_data",
          "data": {
            "application/vnd.jupyter.widget-view+json": {
              "model_id": "86c1a39c22374e74ad9e08bbc1092d1d",
              "version_minor": 0,
              "version_major": 2
            },
            "text/plain": [
              "HBox(children=(FloatProgress(value=0.0, max=100836.0), HTML(value='')))"
            ]
          },
          "metadata": {
            "tags": []
          }
        },
        {
          "output_type": "stream",
          "text": [
            "\n"
          ],
          "name": "stdout"
        }
      ]
    },
    {
      "cell_type": "code",
      "metadata": {
        "colab": {
          "base_uri": "https://localhost:8080/",
          "height": 204
        },
        "id": "PTQP-JOi9o9o",
        "outputId": "ea218390-606a-4778-e054-7ee67a5af03c"
      },
      "source": [
        "ratings.loc[:,\"tag_vector\"] = pd.Series(sentence_embs)\n",
        "ratings.head()"
      ],
      "execution_count": 72,
      "outputs": [
        {
          "output_type": "execute_result",
          "data": {
            "text/html": [
              "<div>\n",
              "<style scoped>\n",
              "    .dataframe tbody tr th:only-of-type {\n",
              "        vertical-align: middle;\n",
              "    }\n",
              "\n",
              "    .dataframe tbody tr th {\n",
              "        vertical-align: top;\n",
              "    }\n",
              "\n",
              "    .dataframe thead th {\n",
              "        text-align: right;\n",
              "    }\n",
              "</style>\n",
              "<table border=\"1\" class=\"dataframe\">\n",
              "  <thead>\n",
              "    <tr style=\"text-align: right;\">\n",
              "      <th></th>\n",
              "      <th>userId</th>\n",
              "      <th>movieId</th>\n",
              "      <th>rating</th>\n",
              "      <th>timestamp</th>\n",
              "      <th>u_nid</th>\n",
              "      <th>m_nid</th>\n",
              "      <th>b4_timestamp</th>\n",
              "      <th>m_count</th>\n",
              "      <th>last_rate_vector</th>\n",
              "      <th>tags</th>\n",
              "      <th>tag_vector</th>\n",
              "    </tr>\n",
              "  </thead>\n",
              "  <tbody>\n",
              "    <tr>\n",
              "      <th>0</th>\n",
              "      <td>1</td>\n",
              "      <td>1</td>\n",
              "      <td>4.0</td>\n",
              "      <td>964982703</td>\n",
              "      <td>0</td>\n",
              "      <td>0</td>\n",
              "      <td>964982681</td>\n",
              "      <td>4</td>\n",
              "      <td>[0.0, 0.0, 0.0, 0.0, 0.0, 0.0, 0.0, 0.0, 0.0, ...</td>\n",
              "      <td></td>\n",
              "      <td>[0.0, 0.0, 0.0, 0.0, 0.0, 0.0, 0.0, 0.0, 0.0, ...</td>\n",
              "    </tr>\n",
              "    <tr>\n",
              "      <th>1</th>\n",
              "      <td>1</td>\n",
              "      <td>3</td>\n",
              "      <td>4.0</td>\n",
              "      <td>964981247</td>\n",
              "      <td>0</td>\n",
              "      <td>2</td>\n",
              "      <td>964981230</td>\n",
              "      <td>1</td>\n",
              "      <td>[0.0, 0.0, 0.0, 0.0, 0.0, 0.0, 0.0, 0.0, 0.0, ...</td>\n",
              "      <td></td>\n",
              "      <td>[0.0, 0.0, 0.0, 0.0, 0.0, 0.0, 0.0, 0.0, 0.0, ...</td>\n",
              "    </tr>\n",
              "    <tr>\n",
              "      <th>2</th>\n",
              "      <td>1</td>\n",
              "      <td>6</td>\n",
              "      <td>4.0</td>\n",
              "      <td>964982224</td>\n",
              "      <td>0</td>\n",
              "      <td>5</td>\n",
              "      <td>964982211</td>\n",
              "      <td>1</td>\n",
              "      <td>[0.0, 0.0, 0.0, 0.0, 0.0, 0.0, 0.0, 0.0, 0.0, ...</td>\n",
              "      <td></td>\n",
              "      <td>[0.0, 0.0, 0.0, 0.0, 0.0, 0.0, 0.0, 0.0, 0.0, ...</td>\n",
              "    </tr>\n",
              "    <tr>\n",
              "      <th>3</th>\n",
              "      <td>1</td>\n",
              "      <td>47</td>\n",
              "      <td>5.0</td>\n",
              "      <td>964983815</td>\n",
              "      <td>0</td>\n",
              "      <td>43</td>\n",
              "      <td>964983793</td>\n",
              "      <td>1</td>\n",
              "      <td>[0.0, 0.0, 0.0, 0.0, 0.0, 0.0, 0.0, 0.0, 0.0, ...</td>\n",
              "      <td></td>\n",
              "      <td>[0.0, 0.0, 0.0, 0.0, 0.0, 0.0, 0.0, 0.0, 0.0, ...</td>\n",
              "    </tr>\n",
              "    <tr>\n",
              "      <th>4</th>\n",
              "      <td>1</td>\n",
              "      <td>50</td>\n",
              "      <td>5.0</td>\n",
              "      <td>964982931</td>\n",
              "      <td>0</td>\n",
              "      <td>46</td>\n",
              "      <td>964982903</td>\n",
              "      <td>2</td>\n",
              "      <td>[0.0, 0.0, 0.0, 0.0, 0.0, 0.0, 0.0, 0.0, 0.0, ...</td>\n",
              "      <td></td>\n",
              "      <td>[0.0, 0.0, 0.0, 0.0, 0.0, 0.0, 0.0, 0.0, 0.0, ...</td>\n",
              "    </tr>\n",
              "  </tbody>\n",
              "</table>\n",
              "</div>"
            ],
            "text/plain": [
              "   userId  movieId  ...  tags                                         tag_vector\n",
              "0       1        1  ...        [0.0, 0.0, 0.0, 0.0, 0.0, 0.0, 0.0, 0.0, 0.0, ...\n",
              "1       1        3  ...        [0.0, 0.0, 0.0, 0.0, 0.0, 0.0, 0.0, 0.0, 0.0, ...\n",
              "2       1        6  ...        [0.0, 0.0, 0.0, 0.0, 0.0, 0.0, 0.0, 0.0, 0.0, ...\n",
              "3       1       47  ...        [0.0, 0.0, 0.0, 0.0, 0.0, 0.0, 0.0, 0.0, 0.0, ...\n",
              "4       1       50  ...        [0.0, 0.0, 0.0, 0.0, 0.0, 0.0, 0.0, 0.0, 0.0, ...\n",
              "\n",
              "[5 rows x 11 columns]"
            ]
          },
          "metadata": {
            "tags": []
          },
          "execution_count": 72
        }
      ]
    },
    {
      "cell_type": "code",
      "metadata": {
        "colab": {
          "base_uri": "https://localhost:8080/",
          "height": 204
        },
        "id": "_6B4Am7Znq7e",
        "outputId": "cdd80d67-153b-4a8a-902c-a8ef93473055"
      },
      "source": [
        "# user, movie, rating, movie_gnr_vec, movie_title_vec, launch_year, user_movie_tag_vector, last_rate_vector\n",
        "\n",
        "target_ratings = ratings.loc[:,[\"u_nid\",\"m_nid\",\"tag_vector\",\"last_rate_vector\",\"rating\"]]\n",
        "target_movies = movies.loc[:,[\"m_nid\",\"genres_vectors\",\"title_vector\",\"launch_year\"]]\n",
        "\n",
        "data = pd.merge(left=target_ratings, right=target_movies, on=\"m_nid\", how=\"left\")\n",
        "data.head()"
      ],
      "execution_count": 73,
      "outputs": [
        {
          "output_type": "execute_result",
          "data": {
            "text/html": [
              "<div>\n",
              "<style scoped>\n",
              "    .dataframe tbody tr th:only-of-type {\n",
              "        vertical-align: middle;\n",
              "    }\n",
              "\n",
              "    .dataframe tbody tr th {\n",
              "        vertical-align: top;\n",
              "    }\n",
              "\n",
              "    .dataframe thead th {\n",
              "        text-align: right;\n",
              "    }\n",
              "</style>\n",
              "<table border=\"1\" class=\"dataframe\">\n",
              "  <thead>\n",
              "    <tr style=\"text-align: right;\">\n",
              "      <th></th>\n",
              "      <th>u_nid</th>\n",
              "      <th>m_nid</th>\n",
              "      <th>tag_vector</th>\n",
              "      <th>last_rate_vector</th>\n",
              "      <th>rating</th>\n",
              "      <th>genres_vectors</th>\n",
              "      <th>title_vector</th>\n",
              "      <th>launch_year</th>\n",
              "    </tr>\n",
              "  </thead>\n",
              "  <tbody>\n",
              "    <tr>\n",
              "      <th>0</th>\n",
              "      <td>0</td>\n",
              "      <td>0</td>\n",
              "      <td>[0.0, 0.0, 0.0, 0.0, 0.0, 0.0, 0.0, 0.0, 0.0, ...</td>\n",
              "      <td>[0.0, 0.0, 0.0, 0.0, 0.0, 0.0, 0.0, 0.0, 0.0, ...</td>\n",
              "      <td>4.0</td>\n",
              "      <td>[0.0, 0.0, 1.0, 1.0, 1.0, 1.0, 0.0, 0.0, 0.0, ...</td>\n",
              "      <td>[0.015534833073616028, 0.01623934507369995, 0....</td>\n",
              "      <td>1995</td>\n",
              "    </tr>\n",
              "    <tr>\n",
              "      <th>1</th>\n",
              "      <td>0</td>\n",
              "      <td>2</td>\n",
              "      <td>[0.0, 0.0, 0.0, 0.0, 0.0, 0.0, 0.0, 0.0, 0.0, ...</td>\n",
              "      <td>[0.0, 0.0, 0.0, 0.0, 0.0, 0.0, 0.0, 0.0, 0.0, ...</td>\n",
              "      <td>4.0</td>\n",
              "      <td>[0.0, 0.0, 0.0, 0.0, 0.0, 1.0, 0.0, 0.0, 0.0, ...</td>\n",
              "      <td>[0.003464460140094161, 0.030880093574523926, 0...</td>\n",
              "      <td>1995</td>\n",
              "    </tr>\n",
              "    <tr>\n",
              "      <th>2</th>\n",
              "      <td>0</td>\n",
              "      <td>5</td>\n",
              "      <td>[0.0, 0.0, 0.0, 0.0, 0.0, 0.0, 0.0, 0.0, 0.0, ...</td>\n",
              "      <td>[0.0, 0.0, 0.0, 0.0, 0.0, 0.0, 0.0, 0.0, 0.0, ...</td>\n",
              "      <td>4.0</td>\n",
              "      <td>[0.0, 1.0, 0.0, 0.0, 0.0, 0.0, 1.0, 0.0, 0.0, ...</td>\n",
              "      <td>[-0.00021089462097734213, 0.007862547412514687...</td>\n",
              "      <td>1995</td>\n",
              "    </tr>\n",
              "    <tr>\n",
              "      <th>3</th>\n",
              "      <td>0</td>\n",
              "      <td>43</td>\n",
              "      <td>[0.0, 0.0, 0.0, 0.0, 0.0, 0.0, 0.0, 0.0, 0.0, ...</td>\n",
              "      <td>[0.0, 0.0, 0.0, 0.0, 0.0, 0.0, 0.0, 0.0, 0.0, ...</td>\n",
              "      <td>5.0</td>\n",
              "      <td>[0.0, 0.0, 0.0, 0.0, 0.0, 0.0, 0.0, 0.0, 0.0, ...</td>\n",
              "      <td>[0.1379885971546173, -0.026576576754450798, 0....</td>\n",
              "      <td>1995</td>\n",
              "    </tr>\n",
              "    <tr>\n",
              "      <th>4</th>\n",
              "      <td>0</td>\n",
              "      <td>46</td>\n",
              "      <td>[0.0, 0.0, 0.0, 0.0, 0.0, 0.0, 0.0, 0.0, 0.0, ...</td>\n",
              "      <td>[0.0, 0.0, 0.0, 0.0, 0.0, 0.0, 0.0, 0.0, 0.0, ...</td>\n",
              "      <td>5.0</td>\n",
              "      <td>[0.0, 0.0, 0.0, 0.0, 0.0, 0.0, 1.0, 0.0, 0.0, ...</td>\n",
              "      <td>[0.12589919567108154, -0.008645707741379738, 0...</td>\n",
              "      <td>1995</td>\n",
              "    </tr>\n",
              "  </tbody>\n",
              "</table>\n",
              "</div>"
            ],
            "text/plain": [
              "   u_nid  m_nid  ...                                       title_vector launch_year\n",
              "0      0      0  ...  [0.015534833073616028, 0.01623934507369995, 0....        1995\n",
              "1      0      2  ...  [0.003464460140094161, 0.030880093574523926, 0...        1995\n",
              "2      0      5  ...  [-0.00021089462097734213, 0.007862547412514687...        1995\n",
              "3      0     43  ...  [0.1379885971546173, -0.026576576754450798, 0....        1995\n",
              "4      0     46  ...  [0.12589919567108154, -0.008645707741379738, 0...        1995\n",
              "\n",
              "[5 rows x 8 columns]"
            ]
          },
          "metadata": {
            "tags": []
          },
          "execution_count": 73
        }
      ]
    },
    {
      "cell_type": "code",
      "metadata": {
        "colab": {
          "base_uri": "https://localhost:8080/",
          "height": 204
        },
        "id": "nzRoEpHcojhM",
        "outputId": "f429be2f-f97c-48b2-a3ee-ec0abe5253c5"
      },
      "source": [
        "y_data = data.loc[:,\"rating\"]\n",
        "X_data = data.drop(\"rating\",axis=1)\n",
        "X_data.head()"
      ],
      "execution_count": 74,
      "outputs": [
        {
          "output_type": "execute_result",
          "data": {
            "text/html": [
              "<div>\n",
              "<style scoped>\n",
              "    .dataframe tbody tr th:only-of-type {\n",
              "        vertical-align: middle;\n",
              "    }\n",
              "\n",
              "    .dataframe tbody tr th {\n",
              "        vertical-align: top;\n",
              "    }\n",
              "\n",
              "    .dataframe thead th {\n",
              "        text-align: right;\n",
              "    }\n",
              "</style>\n",
              "<table border=\"1\" class=\"dataframe\">\n",
              "  <thead>\n",
              "    <tr style=\"text-align: right;\">\n",
              "      <th></th>\n",
              "      <th>u_nid</th>\n",
              "      <th>m_nid</th>\n",
              "      <th>tag_vector</th>\n",
              "      <th>last_rate_vector</th>\n",
              "      <th>genres_vectors</th>\n",
              "      <th>title_vector</th>\n",
              "      <th>launch_year</th>\n",
              "    </tr>\n",
              "  </thead>\n",
              "  <tbody>\n",
              "    <tr>\n",
              "      <th>0</th>\n",
              "      <td>0</td>\n",
              "      <td>0</td>\n",
              "      <td>[0.0, 0.0, 0.0, 0.0, 0.0, 0.0, 0.0, 0.0, 0.0, ...</td>\n",
              "      <td>[0.0, 0.0, 0.0, 0.0, 0.0, 0.0, 0.0, 0.0, 0.0, ...</td>\n",
              "      <td>[0.0, 0.0, 1.0, 1.0, 1.0, 1.0, 0.0, 0.0, 0.0, ...</td>\n",
              "      <td>[0.015534833073616028, 0.01623934507369995, 0....</td>\n",
              "      <td>1995</td>\n",
              "    </tr>\n",
              "    <tr>\n",
              "      <th>1</th>\n",
              "      <td>0</td>\n",
              "      <td>2</td>\n",
              "      <td>[0.0, 0.0, 0.0, 0.0, 0.0, 0.0, 0.0, 0.0, 0.0, ...</td>\n",
              "      <td>[0.0, 0.0, 0.0, 0.0, 0.0, 0.0, 0.0, 0.0, 0.0, ...</td>\n",
              "      <td>[0.0, 0.0, 0.0, 0.0, 0.0, 1.0, 0.0, 0.0, 0.0, ...</td>\n",
              "      <td>[0.003464460140094161, 0.030880093574523926, 0...</td>\n",
              "      <td>1995</td>\n",
              "    </tr>\n",
              "    <tr>\n",
              "      <th>2</th>\n",
              "      <td>0</td>\n",
              "      <td>5</td>\n",
              "      <td>[0.0, 0.0, 0.0, 0.0, 0.0, 0.0, 0.0, 0.0, 0.0, ...</td>\n",
              "      <td>[0.0, 0.0, 0.0, 0.0, 0.0, 0.0, 0.0, 0.0, 0.0, ...</td>\n",
              "      <td>[0.0, 1.0, 0.0, 0.0, 0.0, 0.0, 1.0, 0.0, 0.0, ...</td>\n",
              "      <td>[-0.00021089462097734213, 0.007862547412514687...</td>\n",
              "      <td>1995</td>\n",
              "    </tr>\n",
              "    <tr>\n",
              "      <th>3</th>\n",
              "      <td>0</td>\n",
              "      <td>43</td>\n",
              "      <td>[0.0, 0.0, 0.0, 0.0, 0.0, 0.0, 0.0, 0.0, 0.0, ...</td>\n",
              "      <td>[0.0, 0.0, 0.0, 0.0, 0.0, 0.0, 0.0, 0.0, 0.0, ...</td>\n",
              "      <td>[0.0, 0.0, 0.0, 0.0, 0.0, 0.0, 0.0, 0.0, 0.0, ...</td>\n",
              "      <td>[0.1379885971546173, -0.026576576754450798, 0....</td>\n",
              "      <td>1995</td>\n",
              "    </tr>\n",
              "    <tr>\n",
              "      <th>4</th>\n",
              "      <td>0</td>\n",
              "      <td>46</td>\n",
              "      <td>[0.0, 0.0, 0.0, 0.0, 0.0, 0.0, 0.0, 0.0, 0.0, ...</td>\n",
              "      <td>[0.0, 0.0, 0.0, 0.0, 0.0, 0.0, 0.0, 0.0, 0.0, ...</td>\n",
              "      <td>[0.0, 0.0, 0.0, 0.0, 0.0, 0.0, 1.0, 0.0, 0.0, ...</td>\n",
              "      <td>[0.12589919567108154, -0.008645707741379738, 0...</td>\n",
              "      <td>1995</td>\n",
              "    </tr>\n",
              "  </tbody>\n",
              "</table>\n",
              "</div>"
            ],
            "text/plain": [
              "   u_nid  m_nid  ...                                       title_vector launch_year\n",
              "0      0      0  ...  [0.015534833073616028, 0.01623934507369995, 0....        1995\n",
              "1      0      2  ...  [0.003464460140094161, 0.030880093574523926, 0...        1995\n",
              "2      0      5  ...  [-0.00021089462097734213, 0.007862547412514687...        1995\n",
              "3      0     43  ...  [0.1379885971546173, -0.026576576754450798, 0....        1995\n",
              "4      0     46  ...  [0.12589919567108154, -0.008645707741379738, 0...        1995\n",
              "\n",
              "[5 rows x 7 columns]"
            ]
          },
          "metadata": {
            "tags": []
          },
          "execution_count": 74
        }
      ]
    },
    {
      "cell_type": "code",
      "metadata": {
        "colab": {
          "base_uri": "https://localhost:8080/"
        },
        "id": "ADlxjtfVUgSR",
        "outputId": "4521a391-3c9c-4d64-987d-886634f69f5a"
      },
      "source": [
        "num_tag_vec = len(X_data[\"tag_vector\"][0])\n",
        "num_last_rate_vec = len(X_data[\"last_rate_vector\"][0])\n",
        "num_gnrs_vec = len(X_data[\"genres_vectors\"][0])\n",
        "num_title_vec = len(X_data[\"title_vector\"][0])\n",
        "\n",
        "print(num_tag_vec, num_last_rate_vec, num_gnrs_vec, num_title_vec)"
      ],
      "execution_count": 75,
      "outputs": [
        {
          "output_type": "stream",
          "text": [
            "200 9742 20 200\n"
          ],
          "name": "stdout"
        }
      ]
    },
    {
      "cell_type": "code",
      "metadata": {
        "id": "4MKwv-Rty3ae"
      },
      "source": [
        "from sklearn.preprocessing import StandardScaler\n",
        "\n",
        "launch_years = np.array(X_data.loc[X_data.launch_year != 0].launch_year.to_list()).reshape(-1,1)\n",
        "\n",
        "scaler = StandardScaler()\n",
        "scaled_year = scaler.fit_transform(launch_years)"
      ],
      "execution_count": 76,
      "outputs": []
    },
    {
      "cell_type": "code",
      "metadata": {
        "id": "A54mpvbnziDu"
      },
      "source": [
        "X_data.loc[X_data.launch_year !=0, \"launch_year\"] = scaled_year"
      ],
      "execution_count": 77,
      "outputs": []
    },
    {
      "cell_type": "code",
      "metadata": {
        "colab": {
          "base_uri": "https://localhost:8080/",
          "height": 204
        },
        "id": "PrIMNKxQwI_-",
        "outputId": "6ae10009-a16a-49b2-ca56-f737e4428803"
      },
      "source": [
        "X_data.head()"
      ],
      "execution_count": 78,
      "outputs": [
        {
          "output_type": "execute_result",
          "data": {
            "text/html": [
              "<div>\n",
              "<style scoped>\n",
              "    .dataframe tbody tr th:only-of-type {\n",
              "        vertical-align: middle;\n",
              "    }\n",
              "\n",
              "    .dataframe tbody tr th {\n",
              "        vertical-align: top;\n",
              "    }\n",
              "\n",
              "    .dataframe thead th {\n",
              "        text-align: right;\n",
              "    }\n",
              "</style>\n",
              "<table border=\"1\" class=\"dataframe\">\n",
              "  <thead>\n",
              "    <tr style=\"text-align: right;\">\n",
              "      <th></th>\n",
              "      <th>u_nid</th>\n",
              "      <th>m_nid</th>\n",
              "      <th>tag_vector</th>\n",
              "      <th>last_rate_vector</th>\n",
              "      <th>genres_vectors</th>\n",
              "      <th>title_vector</th>\n",
              "      <th>launch_year</th>\n",
              "    </tr>\n",
              "  </thead>\n",
              "  <tbody>\n",
              "    <tr>\n",
              "      <th>0</th>\n",
              "      <td>0</td>\n",
              "      <td>0</td>\n",
              "      <td>[0.0, 0.0, 0.0, 0.0, 0.0, 0.0, 0.0, 0.0, 0.0, ...</td>\n",
              "      <td>[0.0, 0.0, 0.0, 0.0, 0.0, 0.0, 0.0, 0.0, 0.0, ...</td>\n",
              "      <td>[0.0, 0.0, 1.0, 1.0, 1.0, 1.0, 0.0, 0.0, 0.0, ...</td>\n",
              "      <td>[0.015534833073616028, 0.01623934507369995, 0....</td>\n",
              "      <td>0.038646</td>\n",
              "    </tr>\n",
              "    <tr>\n",
              "      <th>1</th>\n",
              "      <td>0</td>\n",
              "      <td>2</td>\n",
              "      <td>[0.0, 0.0, 0.0, 0.0, 0.0, 0.0, 0.0, 0.0, 0.0, ...</td>\n",
              "      <td>[0.0, 0.0, 0.0, 0.0, 0.0, 0.0, 0.0, 0.0, 0.0, ...</td>\n",
              "      <td>[0.0, 0.0, 0.0, 0.0, 0.0, 1.0, 0.0, 0.0, 0.0, ...</td>\n",
              "      <td>[0.003464460140094161, 0.030880093574523926, 0...</td>\n",
              "      <td>0.038646</td>\n",
              "    </tr>\n",
              "    <tr>\n",
              "      <th>2</th>\n",
              "      <td>0</td>\n",
              "      <td>5</td>\n",
              "      <td>[0.0, 0.0, 0.0, 0.0, 0.0, 0.0, 0.0, 0.0, 0.0, ...</td>\n",
              "      <td>[0.0, 0.0, 0.0, 0.0, 0.0, 0.0, 0.0, 0.0, 0.0, ...</td>\n",
              "      <td>[0.0, 1.0, 0.0, 0.0, 0.0, 0.0, 1.0, 0.0, 0.0, ...</td>\n",
              "      <td>[-0.00021089462097734213, 0.007862547412514687...</td>\n",
              "      <td>0.038646</td>\n",
              "    </tr>\n",
              "    <tr>\n",
              "      <th>3</th>\n",
              "      <td>0</td>\n",
              "      <td>43</td>\n",
              "      <td>[0.0, 0.0, 0.0, 0.0, 0.0, 0.0, 0.0, 0.0, 0.0, ...</td>\n",
              "      <td>[0.0, 0.0, 0.0, 0.0, 0.0, 0.0, 0.0, 0.0, 0.0, ...</td>\n",
              "      <td>[0.0, 0.0, 0.0, 0.0, 0.0, 0.0, 0.0, 0.0, 0.0, ...</td>\n",
              "      <td>[0.1379885971546173, -0.026576576754450798, 0....</td>\n",
              "      <td>0.038646</td>\n",
              "    </tr>\n",
              "    <tr>\n",
              "      <th>4</th>\n",
              "      <td>0</td>\n",
              "      <td>46</td>\n",
              "      <td>[0.0, 0.0, 0.0, 0.0, 0.0, 0.0, 0.0, 0.0, 0.0, ...</td>\n",
              "      <td>[0.0, 0.0, 0.0, 0.0, 0.0, 0.0, 0.0, 0.0, 0.0, ...</td>\n",
              "      <td>[0.0, 0.0, 0.0, 0.0, 0.0, 0.0, 1.0, 0.0, 0.0, ...</td>\n",
              "      <td>[0.12589919567108154, -0.008645707741379738, 0...</td>\n",
              "      <td>0.038646</td>\n",
              "    </tr>\n",
              "  </tbody>\n",
              "</table>\n",
              "</div>"
            ],
            "text/plain": [
              "   u_nid  m_nid  ...                                       title_vector launch_year\n",
              "0      0      0  ...  [0.015534833073616028, 0.01623934507369995, 0....    0.038646\n",
              "1      0      2  ...  [0.003464460140094161, 0.030880093574523926, 0...    0.038646\n",
              "2      0      5  ...  [-0.00021089462097734213, 0.007862547412514687...    0.038646\n",
              "3      0     43  ...  [0.1379885971546173, -0.026576576754450798, 0....    0.038646\n",
              "4      0     46  ...  [0.12589919567108154, -0.008645707741379738, 0...    0.038646\n",
              "\n",
              "[5 rows x 7 columns]"
            ]
          },
          "metadata": {
            "tags": []
          },
          "execution_count": 78
        }
      ]
    },
    {
      "cell_type": "code",
      "metadata": {
        "id": "xtflIVFu5cx-"
      },
      "source": [
        "X_data.loc[:, \"user_id\"] = X_data.u_nid.apply(lambda x: dict_nid_2_uid[x])\n",
        "X_data.loc[:, \"movie_id\"] = X_data.m_nid.apply(lambda x: dict_nid_2_mid[x])"
      ],
      "execution_count": 79,
      "outputs": []
    },
    {
      "cell_type": "code",
      "metadata": {
        "colab": {
          "base_uri": "https://localhost:8080/",
          "height": 204
        },
        "id": "S9ewgZWv58Pv",
        "outputId": "bd1e60aa-0ee1-43f4-9663-9db46f111ffe"
      },
      "source": [
        "X_data.head()"
      ],
      "execution_count": 80,
      "outputs": [
        {
          "output_type": "execute_result",
          "data": {
            "text/html": [
              "<div>\n",
              "<style scoped>\n",
              "    .dataframe tbody tr th:only-of-type {\n",
              "        vertical-align: middle;\n",
              "    }\n",
              "\n",
              "    .dataframe tbody tr th {\n",
              "        vertical-align: top;\n",
              "    }\n",
              "\n",
              "    .dataframe thead th {\n",
              "        text-align: right;\n",
              "    }\n",
              "</style>\n",
              "<table border=\"1\" class=\"dataframe\">\n",
              "  <thead>\n",
              "    <tr style=\"text-align: right;\">\n",
              "      <th></th>\n",
              "      <th>u_nid</th>\n",
              "      <th>m_nid</th>\n",
              "      <th>tag_vector</th>\n",
              "      <th>last_rate_vector</th>\n",
              "      <th>genres_vectors</th>\n",
              "      <th>title_vector</th>\n",
              "      <th>launch_year</th>\n",
              "      <th>user_id</th>\n",
              "      <th>movie_id</th>\n",
              "    </tr>\n",
              "  </thead>\n",
              "  <tbody>\n",
              "    <tr>\n",
              "      <th>0</th>\n",
              "      <td>0</td>\n",
              "      <td>0</td>\n",
              "      <td>[0.0, 0.0, 0.0, 0.0, 0.0, 0.0, 0.0, 0.0, 0.0, ...</td>\n",
              "      <td>[0.0, 0.0, 0.0, 0.0, 0.0, 0.0, 0.0, 0.0, 0.0, ...</td>\n",
              "      <td>[0.0, 0.0, 1.0, 1.0, 1.0, 1.0, 0.0, 0.0, 0.0, ...</td>\n",
              "      <td>[0.015534833073616028, 0.01623934507369995, 0....</td>\n",
              "      <td>0.038646</td>\n",
              "      <td>1</td>\n",
              "      <td>1</td>\n",
              "    </tr>\n",
              "    <tr>\n",
              "      <th>1</th>\n",
              "      <td>0</td>\n",
              "      <td>2</td>\n",
              "      <td>[0.0, 0.0, 0.0, 0.0, 0.0, 0.0, 0.0, 0.0, 0.0, ...</td>\n",
              "      <td>[0.0, 0.0, 0.0, 0.0, 0.0, 0.0, 0.0, 0.0, 0.0, ...</td>\n",
              "      <td>[0.0, 0.0, 0.0, 0.0, 0.0, 1.0, 0.0, 0.0, 0.0, ...</td>\n",
              "      <td>[0.003464460140094161, 0.030880093574523926, 0...</td>\n",
              "      <td>0.038646</td>\n",
              "      <td>1</td>\n",
              "      <td>3</td>\n",
              "    </tr>\n",
              "    <tr>\n",
              "      <th>2</th>\n",
              "      <td>0</td>\n",
              "      <td>5</td>\n",
              "      <td>[0.0, 0.0, 0.0, 0.0, 0.0, 0.0, 0.0, 0.0, 0.0, ...</td>\n",
              "      <td>[0.0, 0.0, 0.0, 0.0, 0.0, 0.0, 0.0, 0.0, 0.0, ...</td>\n",
              "      <td>[0.0, 1.0, 0.0, 0.0, 0.0, 0.0, 1.0, 0.0, 0.0, ...</td>\n",
              "      <td>[-0.00021089462097734213, 0.007862547412514687...</td>\n",
              "      <td>0.038646</td>\n",
              "      <td>1</td>\n",
              "      <td>6</td>\n",
              "    </tr>\n",
              "    <tr>\n",
              "      <th>3</th>\n",
              "      <td>0</td>\n",
              "      <td>43</td>\n",
              "      <td>[0.0, 0.0, 0.0, 0.0, 0.0, 0.0, 0.0, 0.0, 0.0, ...</td>\n",
              "      <td>[0.0, 0.0, 0.0, 0.0, 0.0, 0.0, 0.0, 0.0, 0.0, ...</td>\n",
              "      <td>[0.0, 0.0, 0.0, 0.0, 0.0, 0.0, 0.0, 0.0, 0.0, ...</td>\n",
              "      <td>[0.1379885971546173, -0.026576576754450798, 0....</td>\n",
              "      <td>0.038646</td>\n",
              "      <td>1</td>\n",
              "      <td>47</td>\n",
              "    </tr>\n",
              "    <tr>\n",
              "      <th>4</th>\n",
              "      <td>0</td>\n",
              "      <td>46</td>\n",
              "      <td>[0.0, 0.0, 0.0, 0.0, 0.0, 0.0, 0.0, 0.0, 0.0, ...</td>\n",
              "      <td>[0.0, 0.0, 0.0, 0.0, 0.0, 0.0, 0.0, 0.0, 0.0, ...</td>\n",
              "      <td>[0.0, 0.0, 0.0, 0.0, 0.0, 0.0, 1.0, 0.0, 0.0, ...</td>\n",
              "      <td>[0.12589919567108154, -0.008645707741379738, 0...</td>\n",
              "      <td>0.038646</td>\n",
              "      <td>1</td>\n",
              "      <td>50</td>\n",
              "    </tr>\n",
              "  </tbody>\n",
              "</table>\n",
              "</div>"
            ],
            "text/plain": [
              "   u_nid  m_nid  ... user_id movie_id\n",
              "0      0      0  ...       1        1\n",
              "1      0      2  ...       1        3\n",
              "2      0      5  ...       1        6\n",
              "3      0     43  ...       1       47\n",
              "4      0     46  ...       1       50\n",
              "\n",
              "[5 rows x 9 columns]"
            ]
          },
          "metadata": {
            "tags": []
          },
          "execution_count": 80
        }
      ]
    },
    {
      "cell_type": "code",
      "metadata": {
        "colab": {
          "base_uri": "https://localhost:8080/",
          "height": 204
        },
        "id": "XzTANXd7wKjt",
        "outputId": "a17fd20c-e3c6-4e59-9e08-a0a8bad9e256"
      },
      "source": [
        "X_columns = [\"user_id\", \"movie_id\",\"tag_vector\",\"last_rate_vector\",\"genres_vectors\",\"title_vector\",\"launch_year\"]\n",
        "X_data = X_data.loc[:,X_columns].copy()\n",
        "X_data.head()"
      ],
      "execution_count": 81,
      "outputs": [
        {
          "output_type": "execute_result",
          "data": {
            "text/html": [
              "<div>\n",
              "<style scoped>\n",
              "    .dataframe tbody tr th:only-of-type {\n",
              "        vertical-align: middle;\n",
              "    }\n",
              "\n",
              "    .dataframe tbody tr th {\n",
              "        vertical-align: top;\n",
              "    }\n",
              "\n",
              "    .dataframe thead th {\n",
              "        text-align: right;\n",
              "    }\n",
              "</style>\n",
              "<table border=\"1\" class=\"dataframe\">\n",
              "  <thead>\n",
              "    <tr style=\"text-align: right;\">\n",
              "      <th></th>\n",
              "      <th>user_id</th>\n",
              "      <th>movie_id</th>\n",
              "      <th>tag_vector</th>\n",
              "      <th>last_rate_vector</th>\n",
              "      <th>genres_vectors</th>\n",
              "      <th>title_vector</th>\n",
              "      <th>launch_year</th>\n",
              "    </tr>\n",
              "  </thead>\n",
              "  <tbody>\n",
              "    <tr>\n",
              "      <th>0</th>\n",
              "      <td>1</td>\n",
              "      <td>1</td>\n",
              "      <td>[0.0, 0.0, 0.0, 0.0, 0.0, 0.0, 0.0, 0.0, 0.0, ...</td>\n",
              "      <td>[0.0, 0.0, 0.0, 0.0, 0.0, 0.0, 0.0, 0.0, 0.0, ...</td>\n",
              "      <td>[0.0, 0.0, 1.0, 1.0, 1.0, 1.0, 0.0, 0.0, 0.0, ...</td>\n",
              "      <td>[0.015534833073616028, 0.01623934507369995, 0....</td>\n",
              "      <td>0.038646</td>\n",
              "    </tr>\n",
              "    <tr>\n",
              "      <th>1</th>\n",
              "      <td>1</td>\n",
              "      <td>3</td>\n",
              "      <td>[0.0, 0.0, 0.0, 0.0, 0.0, 0.0, 0.0, 0.0, 0.0, ...</td>\n",
              "      <td>[0.0, 0.0, 0.0, 0.0, 0.0, 0.0, 0.0, 0.0, 0.0, ...</td>\n",
              "      <td>[0.0, 0.0, 0.0, 0.0, 0.0, 1.0, 0.0, 0.0, 0.0, ...</td>\n",
              "      <td>[0.003464460140094161, 0.030880093574523926, 0...</td>\n",
              "      <td>0.038646</td>\n",
              "    </tr>\n",
              "    <tr>\n",
              "      <th>2</th>\n",
              "      <td>1</td>\n",
              "      <td>6</td>\n",
              "      <td>[0.0, 0.0, 0.0, 0.0, 0.0, 0.0, 0.0, 0.0, 0.0, ...</td>\n",
              "      <td>[0.0, 0.0, 0.0, 0.0, 0.0, 0.0, 0.0, 0.0, 0.0, ...</td>\n",
              "      <td>[0.0, 1.0, 0.0, 0.0, 0.0, 0.0, 1.0, 0.0, 0.0, ...</td>\n",
              "      <td>[-0.00021089462097734213, 0.007862547412514687...</td>\n",
              "      <td>0.038646</td>\n",
              "    </tr>\n",
              "    <tr>\n",
              "      <th>3</th>\n",
              "      <td>1</td>\n",
              "      <td>47</td>\n",
              "      <td>[0.0, 0.0, 0.0, 0.0, 0.0, 0.0, 0.0, 0.0, 0.0, ...</td>\n",
              "      <td>[0.0, 0.0, 0.0, 0.0, 0.0, 0.0, 0.0, 0.0, 0.0, ...</td>\n",
              "      <td>[0.0, 0.0, 0.0, 0.0, 0.0, 0.0, 0.0, 0.0, 0.0, ...</td>\n",
              "      <td>[0.1379885971546173, -0.026576576754450798, 0....</td>\n",
              "      <td>0.038646</td>\n",
              "    </tr>\n",
              "    <tr>\n",
              "      <th>4</th>\n",
              "      <td>1</td>\n",
              "      <td>50</td>\n",
              "      <td>[0.0, 0.0, 0.0, 0.0, 0.0, 0.0, 0.0, 0.0, 0.0, ...</td>\n",
              "      <td>[0.0, 0.0, 0.0, 0.0, 0.0, 0.0, 0.0, 0.0, 0.0, ...</td>\n",
              "      <td>[0.0, 0.0, 0.0, 0.0, 0.0, 0.0, 1.0, 0.0, 0.0, ...</td>\n",
              "      <td>[0.12589919567108154, -0.008645707741379738, 0...</td>\n",
              "      <td>0.038646</td>\n",
              "    </tr>\n",
              "  </tbody>\n",
              "</table>\n",
              "</div>"
            ],
            "text/plain": [
              "   user_id  ...  launch_year\n",
              "0        1  ...     0.038646\n",
              "1        1  ...     0.038646\n",
              "2        1  ...     0.038646\n",
              "3        1  ...     0.038646\n",
              "4        1  ...     0.038646\n",
              "\n",
              "[5 rows x 7 columns]"
            ]
          },
          "metadata": {
            "tags": []
          },
          "execution_count": 81
        }
      ]
    },
    {
      "cell_type": "code",
      "metadata": {
        "colab": {
          "base_uri": "https://localhost:8080/",
          "height": 204
        },
        "id": "vyI4oYD66Rxq",
        "outputId": "6cf89709-c9b9-40ba-853b-19135f7fbac2"
      },
      "source": [
        "data = pd.concat([X_data,y_data],axis=1)\n",
        "data.head()"
      ],
      "execution_count": 82,
      "outputs": [
        {
          "output_type": "execute_result",
          "data": {
            "text/html": [
              "<div>\n",
              "<style scoped>\n",
              "    .dataframe tbody tr th:only-of-type {\n",
              "        vertical-align: middle;\n",
              "    }\n",
              "\n",
              "    .dataframe tbody tr th {\n",
              "        vertical-align: top;\n",
              "    }\n",
              "\n",
              "    .dataframe thead th {\n",
              "        text-align: right;\n",
              "    }\n",
              "</style>\n",
              "<table border=\"1\" class=\"dataframe\">\n",
              "  <thead>\n",
              "    <tr style=\"text-align: right;\">\n",
              "      <th></th>\n",
              "      <th>user_id</th>\n",
              "      <th>movie_id</th>\n",
              "      <th>tag_vector</th>\n",
              "      <th>last_rate_vector</th>\n",
              "      <th>genres_vectors</th>\n",
              "      <th>title_vector</th>\n",
              "      <th>launch_year</th>\n",
              "      <th>rating</th>\n",
              "    </tr>\n",
              "  </thead>\n",
              "  <tbody>\n",
              "    <tr>\n",
              "      <th>0</th>\n",
              "      <td>1</td>\n",
              "      <td>1</td>\n",
              "      <td>[0.0, 0.0, 0.0, 0.0, 0.0, 0.0, 0.0, 0.0, 0.0, ...</td>\n",
              "      <td>[0.0, 0.0, 0.0, 0.0, 0.0, 0.0, 0.0, 0.0, 0.0, ...</td>\n",
              "      <td>[0.0, 0.0, 1.0, 1.0, 1.0, 1.0, 0.0, 0.0, 0.0, ...</td>\n",
              "      <td>[0.015534833073616028, 0.01623934507369995, 0....</td>\n",
              "      <td>0.038646</td>\n",
              "      <td>4.0</td>\n",
              "    </tr>\n",
              "    <tr>\n",
              "      <th>1</th>\n",
              "      <td>1</td>\n",
              "      <td>3</td>\n",
              "      <td>[0.0, 0.0, 0.0, 0.0, 0.0, 0.0, 0.0, 0.0, 0.0, ...</td>\n",
              "      <td>[0.0, 0.0, 0.0, 0.0, 0.0, 0.0, 0.0, 0.0, 0.0, ...</td>\n",
              "      <td>[0.0, 0.0, 0.0, 0.0, 0.0, 1.0, 0.0, 0.0, 0.0, ...</td>\n",
              "      <td>[0.003464460140094161, 0.030880093574523926, 0...</td>\n",
              "      <td>0.038646</td>\n",
              "      <td>4.0</td>\n",
              "    </tr>\n",
              "    <tr>\n",
              "      <th>2</th>\n",
              "      <td>1</td>\n",
              "      <td>6</td>\n",
              "      <td>[0.0, 0.0, 0.0, 0.0, 0.0, 0.0, 0.0, 0.0, 0.0, ...</td>\n",
              "      <td>[0.0, 0.0, 0.0, 0.0, 0.0, 0.0, 0.0, 0.0, 0.0, ...</td>\n",
              "      <td>[0.0, 1.0, 0.0, 0.0, 0.0, 0.0, 1.0, 0.0, 0.0, ...</td>\n",
              "      <td>[-0.00021089462097734213, 0.007862547412514687...</td>\n",
              "      <td>0.038646</td>\n",
              "      <td>4.0</td>\n",
              "    </tr>\n",
              "    <tr>\n",
              "      <th>3</th>\n",
              "      <td>1</td>\n",
              "      <td>47</td>\n",
              "      <td>[0.0, 0.0, 0.0, 0.0, 0.0, 0.0, 0.0, 0.0, 0.0, ...</td>\n",
              "      <td>[0.0, 0.0, 0.0, 0.0, 0.0, 0.0, 0.0, 0.0, 0.0, ...</td>\n",
              "      <td>[0.0, 0.0, 0.0, 0.0, 0.0, 0.0, 0.0, 0.0, 0.0, ...</td>\n",
              "      <td>[0.1379885971546173, -0.026576576754450798, 0....</td>\n",
              "      <td>0.038646</td>\n",
              "      <td>5.0</td>\n",
              "    </tr>\n",
              "    <tr>\n",
              "      <th>4</th>\n",
              "      <td>1</td>\n",
              "      <td>50</td>\n",
              "      <td>[0.0, 0.0, 0.0, 0.0, 0.0, 0.0, 0.0, 0.0, 0.0, ...</td>\n",
              "      <td>[0.0, 0.0, 0.0, 0.0, 0.0, 0.0, 0.0, 0.0, 0.0, ...</td>\n",
              "      <td>[0.0, 0.0, 0.0, 0.0, 0.0, 0.0, 1.0, 0.0, 0.0, ...</td>\n",
              "      <td>[0.12589919567108154, -0.008645707741379738, 0...</td>\n",
              "      <td>0.038646</td>\n",
              "      <td>5.0</td>\n",
              "    </tr>\n",
              "  </tbody>\n",
              "</table>\n",
              "</div>"
            ],
            "text/plain": [
              "   user_id  movie_id  ... launch_year rating\n",
              "0        1         1  ...    0.038646    4.0\n",
              "1        1         3  ...    0.038646    4.0\n",
              "2        1         6  ...    0.038646    4.0\n",
              "3        1        47  ...    0.038646    5.0\n",
              "4        1        50  ...    0.038646    5.0\n",
              "\n",
              "[5 rows x 8 columns]"
            ]
          },
          "metadata": {
            "tags": []
          },
          "execution_count": 82
        }
      ]
    },
    {
      "cell_type": "code",
      "metadata": {
        "colab": {
          "base_uri": "https://localhost:8080/",
          "height": 204
        },
        "id": "CZ0FTdU3AR4h",
        "outputId": "73fb5ecd-52d7-47cf-92a3-728e3a593239"
      },
      "source": [
        "# user_id, movie_id -1 for embedding\n",
        "data.loc[:,\"user_id\"] = (data.user_id - 1).to_list()\n",
        "data.loc[:,\"movie_id\"] = (data.movie_id - 1).to_list()\n",
        "data.head()"
      ],
      "execution_count": 83,
      "outputs": [
        {
          "output_type": "execute_result",
          "data": {
            "text/html": [
              "<div>\n",
              "<style scoped>\n",
              "    .dataframe tbody tr th:only-of-type {\n",
              "        vertical-align: middle;\n",
              "    }\n",
              "\n",
              "    .dataframe tbody tr th {\n",
              "        vertical-align: top;\n",
              "    }\n",
              "\n",
              "    .dataframe thead th {\n",
              "        text-align: right;\n",
              "    }\n",
              "</style>\n",
              "<table border=\"1\" class=\"dataframe\">\n",
              "  <thead>\n",
              "    <tr style=\"text-align: right;\">\n",
              "      <th></th>\n",
              "      <th>user_id</th>\n",
              "      <th>movie_id</th>\n",
              "      <th>tag_vector</th>\n",
              "      <th>last_rate_vector</th>\n",
              "      <th>genres_vectors</th>\n",
              "      <th>title_vector</th>\n",
              "      <th>launch_year</th>\n",
              "      <th>rating</th>\n",
              "    </tr>\n",
              "  </thead>\n",
              "  <tbody>\n",
              "    <tr>\n",
              "      <th>0</th>\n",
              "      <td>0</td>\n",
              "      <td>0</td>\n",
              "      <td>[0.0, 0.0, 0.0, 0.0, 0.0, 0.0, 0.0, 0.0, 0.0, ...</td>\n",
              "      <td>[0.0, 0.0, 0.0, 0.0, 0.0, 0.0, 0.0, 0.0, 0.0, ...</td>\n",
              "      <td>[0.0, 0.0, 1.0, 1.0, 1.0, 1.0, 0.0, 0.0, 0.0, ...</td>\n",
              "      <td>[0.015534833073616028, 0.01623934507369995, 0....</td>\n",
              "      <td>0.038646</td>\n",
              "      <td>4.0</td>\n",
              "    </tr>\n",
              "    <tr>\n",
              "      <th>1</th>\n",
              "      <td>0</td>\n",
              "      <td>2</td>\n",
              "      <td>[0.0, 0.0, 0.0, 0.0, 0.0, 0.0, 0.0, 0.0, 0.0, ...</td>\n",
              "      <td>[0.0, 0.0, 0.0, 0.0, 0.0, 0.0, 0.0, 0.0, 0.0, ...</td>\n",
              "      <td>[0.0, 0.0, 0.0, 0.0, 0.0, 1.0, 0.0, 0.0, 0.0, ...</td>\n",
              "      <td>[0.003464460140094161, 0.030880093574523926, 0...</td>\n",
              "      <td>0.038646</td>\n",
              "      <td>4.0</td>\n",
              "    </tr>\n",
              "    <tr>\n",
              "      <th>2</th>\n",
              "      <td>0</td>\n",
              "      <td>5</td>\n",
              "      <td>[0.0, 0.0, 0.0, 0.0, 0.0, 0.0, 0.0, 0.0, 0.0, ...</td>\n",
              "      <td>[0.0, 0.0, 0.0, 0.0, 0.0, 0.0, 0.0, 0.0, 0.0, ...</td>\n",
              "      <td>[0.0, 1.0, 0.0, 0.0, 0.0, 0.0, 1.0, 0.0, 0.0, ...</td>\n",
              "      <td>[-0.00021089462097734213, 0.007862547412514687...</td>\n",
              "      <td>0.038646</td>\n",
              "      <td>4.0</td>\n",
              "    </tr>\n",
              "    <tr>\n",
              "      <th>3</th>\n",
              "      <td>0</td>\n",
              "      <td>46</td>\n",
              "      <td>[0.0, 0.0, 0.0, 0.0, 0.0, 0.0, 0.0, 0.0, 0.0, ...</td>\n",
              "      <td>[0.0, 0.0, 0.0, 0.0, 0.0, 0.0, 0.0, 0.0, 0.0, ...</td>\n",
              "      <td>[0.0, 0.0, 0.0, 0.0, 0.0, 0.0, 0.0, 0.0, 0.0, ...</td>\n",
              "      <td>[0.1379885971546173, -0.026576576754450798, 0....</td>\n",
              "      <td>0.038646</td>\n",
              "      <td>5.0</td>\n",
              "    </tr>\n",
              "    <tr>\n",
              "      <th>4</th>\n",
              "      <td>0</td>\n",
              "      <td>49</td>\n",
              "      <td>[0.0, 0.0, 0.0, 0.0, 0.0, 0.0, 0.0, 0.0, 0.0, ...</td>\n",
              "      <td>[0.0, 0.0, 0.0, 0.0, 0.0, 0.0, 0.0, 0.0, 0.0, ...</td>\n",
              "      <td>[0.0, 0.0, 0.0, 0.0, 0.0, 0.0, 1.0, 0.0, 0.0, ...</td>\n",
              "      <td>[0.12589919567108154, -0.008645707741379738, 0...</td>\n",
              "      <td>0.038646</td>\n",
              "      <td>5.0</td>\n",
              "    </tr>\n",
              "  </tbody>\n",
              "</table>\n",
              "</div>"
            ],
            "text/plain": [
              "   user_id  movie_id  ... launch_year rating\n",
              "0        0         0  ...    0.038646    4.0\n",
              "1        0         2  ...    0.038646    4.0\n",
              "2        0         5  ...    0.038646    4.0\n",
              "3        0        46  ...    0.038646    5.0\n",
              "4        0        49  ...    0.038646    5.0\n",
              "\n",
              "[5 rows x 8 columns]"
            ]
          },
          "metadata": {
            "tags": []
          },
          "execution_count": 83
        }
      ]
    },
    {
      "cell_type": "code",
      "metadata": {
        "colab": {
          "base_uri": "https://localhost:8080/"
        },
        "id": "gRwl3cJEI813",
        "outputId": "499065f8-08c5-4340-e2c2-34e924c8225b"
      },
      "source": [
        "data.iloc[0][\"last_rate_vector\"]"
      ],
      "execution_count": 84,
      "outputs": [
        {
          "output_type": "execute_result",
          "data": {
            "text/plain": [
              "array([0., 0., 0., ..., 0., 0., 0.])"
            ]
          },
          "metadata": {
            "tags": []
          },
          "execution_count": 84
        }
      ]
    },
    {
      "cell_type": "code",
      "metadata": {
        "id": "GYMse-BZ6jyc"
      },
      "source": [
        "from torch.utils.data import Dataset\n",
        "\n",
        "class MovieLensDataset(Dataset):\n",
        "  def __init__(self, dataframe):\n",
        "    super(MovieLensDataset, self).__init__()\n",
        "    self.df = dataframe\n",
        "    self.field_dim = np.array([self.df.user_id.max() + 1, self.df.movie_id.max() + 1])\n",
        "    self.len_tag_vec = len(self.df.iloc[0][\"tag_vector\"])\n",
        "    self.len_last_rate_vec = len(self.df.iloc[0][\"last_rate_vector\"])\n",
        "    self.len_gnrs_vec = len(self.df.iloc[0][\"genres_vectors\"])\n",
        "    self.len_title_vec = len(self.df.iloc[0][\"title_vector\"])\n",
        "\n",
        "  def __getitem__(self, index):\n",
        "    row = self.df.iloc[index]\n",
        "    user_id = row[\"user_id\"]\n",
        "    movie_id = row[\"movie_id\"]\n",
        "    user_movie = torch.LongTensor([user_id, movie_id])\n",
        "    tag_vector = torch.Tensor(row[\"tag_vector\"])\n",
        "    last_rate_vector = torch.Tensor(row[\"last_rate_vector\"])\n",
        "    genres_vectors = torch.Tensor(row[\"genres_vectors\"])\n",
        "    title_vector = torch.Tensor(row[\"title_vector\"])\n",
        "    # launch_year = torch.Tensor(np.array(row[\"launch_year\"]))\n",
        "    ratings = row[\"rating\"]\n",
        "\n",
        "    return (user_movie, tag_vector, last_rate_vector, genres_vectors, title_vector), ratings\n",
        "\n",
        "  def __len__(self):\n",
        "    return len(self.df)"
      ],
      "execution_count": 224,
      "outputs": []
    },
    {
      "cell_type": "code",
      "metadata": {
        "colab": {
          "base_uri": "https://localhost:8080/"
        },
        "id": "LYdEdbSbaGQd",
        "outputId": "e77e904f-5723-4a12-fadb-275f788fb080"
      },
      "source": [
        "data.rating"
      ],
      "execution_count": 241,
      "outputs": [
        {
          "output_type": "execute_result",
          "data": {
            "text/plain": [
              "0         4.0\n",
              "1         4.0\n",
              "2         4.0\n",
              "3         5.0\n",
              "4         5.0\n",
              "         ... \n",
              "100831    4.0\n",
              "100832    5.0\n",
              "100833    5.0\n",
              "100834    5.0\n",
              "100835    3.0\n",
              "Name: rating, Length: 100836, dtype: float64"
            ]
          },
          "metadata": {
            "tags": []
          },
          "execution_count": 241
        }
      ]
    },
    {
      "cell_type": "code",
      "metadata": {
        "id": "YdOqB-HiNo0j"
      },
      "source": [
        "dataset = MovieLensDataset(data)"
      ],
      "execution_count": 225,
      "outputs": []
    },
    {
      "cell_type": "code",
      "metadata": {
        "id": "i1ylIEY5NVlL"
      },
      "source": [
        "train_length = int(len(dataset) * 0.8)\n",
        "valid_length = int(len(dataset) * 0.1)\n",
        "test_length = len(dataset) - train_length - valid_length\n",
        "train_dataset, valid_dataset, test_dataset = torch.utils.data.random_split(\n",
        "    dataset, (train_length, valid_length, test_length))"
      ],
      "execution_count": 226,
      "outputs": []
    },
    {
      "cell_type": "code",
      "metadata": {
        "id": "oRnP_KtpNunl"
      },
      "source": [
        "from torch.utils.data import DataLoader\n",
        "\n",
        "dummy_loader= DataLoader(train_dataset, batch_size = 10, shuffle=False)\n",
        "\n",
        "train_data_loader = DataLoader(train_dataset, batch_size=batch_size, num_workers=8)\n",
        "valid_data_loader = DataLoader(valid_dataset, batch_size=batch_size, num_workers=8)\n",
        "test_data_loader = DataLoader(test_dataset, batch_size=batch_size, num_workers=8)"
      ],
      "execution_count": 227,
      "outputs": []
    },
    {
      "cell_type": "code",
      "metadata": {
        "id": "ADFgQIt7njWY"
      },
      "source": [
        "iterator = iter(dummy_loader)\n",
        "dummy = next(iterator)"
      ],
      "execution_count": 228,
      "outputs": []
    },
    {
      "cell_type": "code",
      "metadata": {
        "id": "kjwwjwocOJlY"
      },
      "source": [
        "class FeaturesLinear(torch.nn.Module):\n",
        "\n",
        "    def __init__(self, field_dims, output_dim=1):\n",
        "        super().__init__()\n",
        "        self.fc = torch.nn.Embedding(sum(field_dims), output_dim)\n",
        "        self.bias = torch.nn.Parameter(torch.zeros((output_dim,)))\n",
        "        self.offsets = np.array((0, *np.cumsum(field_dims)[:-1]), dtype=np.long)\n",
        "\n",
        "    def forward(self, x, fc1, fc2, fc3, fc4):\n",
        "        \"\"\"\n",
        "        :param x: Long tensor of size ``(batch_size, num_fields)``\n",
        "        \"\"\"\n",
        "        x = x + x.new_tensor(self.offsets).unsqueeze(0)\n",
        "        fc = self.fc(x).squeeze(2)\n",
        "        cat = torch.cat([fc,fc1,fc2,fc3,fc4],dim=1).unsqueeze(2)\n",
        "\n",
        "        return torch.sum(cat, dim=1) + self.bias\n",
        "\n",
        "\n",
        "class FactorizationMachineModel(nn.Module):\n",
        "  def __init__(self, field_dims, embed_dim, len_tag_vec, len_last_rate_vec, len_gnrs_vec, len_title_vec):\n",
        "    super(FactorizationMachineModel, self).__init__()\n",
        "    self.fc1 = nn.Linear(len_tag_vec, 1)\n",
        "    self.fc2 = nn.Linear(len_last_rate_vec, 1)\n",
        "    self.fc3 = nn.Linear(len_gnrs_vec, 1)\n",
        "    self.fc4 = nn.Linear(len_title_vec, 1)\n",
        "\n",
        "    self.fc1_emb = nn.Linear(len_tag_vec, embed_dim)\n",
        "    self.fc2_emb = nn.Linear(len_last_rate_vec, embed_dim)\n",
        "    self.fc3_emb = nn.Linear(len_gnrs_vec, embed_dim)\n",
        "    self.fc4_emb = nn.Linear(len_title_vec, embed_dim)\n",
        "\n",
        "    self.linear = FeaturesLinear(field_dims)\n",
        "    self.embedding = FeaturesEmbedding(field_dims,embed_dim)\n",
        "    self.fm = FactorizationMachine(reduce_sum=True)\n",
        "\n",
        "  def forward(self, x, tag_vec, last_rate_vec, gnrs_vec, title_vec):\n",
        "    linear = self.linear(x, self.fc1(tag_vec), self.fc2(last_rate_vec), self.fc3(gnrs_vec), self.fc4(title_vec))\n",
        "    embed = self.embedding(x, self.fc1_emb(tag_vec), self.fc2_emb(last_rate_vec), self.fc3_emb(gnrs_vec), self.fc4_emb(title_vec))\n",
        "    fm = self.fm(embed)\n",
        "    x = linear + fm\n",
        "    return x.squeeze(1)"
      ],
      "execution_count": 244,
      "outputs": []
    },
    {
      "cell_type": "code",
      "metadata": {
        "id": "R7Opm2DzsBln"
      },
      "source": [
        "class FeaturesEmbedding(torch.nn.Module):\n",
        "\n",
        "    def __init__(self, field_dims, embed_dim):\n",
        "        super().__init__()\n",
        "        self.embedding = torch.nn.Embedding(sum(field_dims), embed_dim)\n",
        "        self.offsets = np.array((0, *np.cumsum(field_dims)[:-1]), dtype=np.long)\n",
        "        torch.nn.init.xavier_uniform_(self.embedding.weight.data)\n",
        "\n",
        "    def forward(self, x, tag_vec, last_rate_vec, gnrs_vec, title_vec):\n",
        "        \"\"\"\n",
        "        :param x: Long tensor of size ``(batch_size, num_fields)``\n",
        "        \"\"\"\n",
        "        x = x + x.new_tensor(self.offsets).unsqueeze(0)\n",
        "        cat = torch.cat([self.embedding(x),tag_vec.unsqueeze(1),last_rate_vec.unsqueeze(1),gnrs_vec.unsqueeze(1),title_vec.unsqueeze(1)],dim=1)\n",
        "\n",
        "        return cat"
      ],
      "execution_count": 245,
      "outputs": []
    },
    {
      "cell_type": "code",
      "metadata": {
        "id": "1jfM-WRW7ZuC"
      },
      "source": [
        "class FactorizationMachine(torch.nn.Module):\n",
        "\n",
        "    def __init__(self, reduce_sum=True):\n",
        "        super().__init__()\n",
        "        self.reduce_sum = reduce_sum\n",
        "\n",
        "    def forward(self, x):\n",
        "        \"\"\"\n",
        "        :param x: Float tensor of size ``(batch_size, num_fields, embed_dim)``\n",
        "        \"\"\"\n",
        "\n",
        "        num_factors = x.shape[1]\n",
        "        dict_vector = {i:x[:,i,:].unsqueeze(1) for i in range(num_factors)}\n",
        "        dict_ixs = dict()\n",
        "\n",
        "        for i in range(num_factors):\n",
        "          for j in range(i,num_factors):\n",
        "            if i<j:\n",
        "              x1 = dict_vector[i]\n",
        "              x2 = dict_vector[j]\n",
        "              cat = torch.cat([x1,x2],dim=1)\n",
        "              square_of_sum= torch.sum(cat,dim=1) ** 2\n",
        "              sum_of_square = torch.sum(cat ** 2, dim=1)\n",
        "              ix = square_of_sum - sum_of_square\n",
        "              if self.reduce_sum:\n",
        "                ix = torch.sum(ix, dim=1, keepdim=True)\n",
        "              dict_ixs[(i,j)] = 0.5 * ix\n",
        "\n",
        "        tensor_ixs = torch.stack(list(dict_ixs.values()),dim=1)\n",
        "        result = torch.sum(tensor_ixs,dim=1)\n",
        "\n",
        "        return result"
      ],
      "execution_count": 246,
      "outputs": []
    },
    {
      "cell_type": "code",
      "metadata": {
        "id": "oSOI7dHSap-H"
      },
      "source": [
        "model = FactorizationMachineModel(dataset.field_dim, 10, dataset.len_tag_vec, dataset.len_last_rate_vec, dataset.len_gnrs_vec, dataset.len_title_vec)"
      ],
      "execution_count": 247,
      "outputs": []
    },
    {
      "cell_type": "code",
      "metadata": {
        "colab": {
          "base_uri": "https://localhost:8080/"
        },
        "id": "qjagPTwhcQiC",
        "outputId": "5125bb1b-0241-490e-bacb-17aabb9c49a3"
      },
      "source": [
        "model"
      ],
      "execution_count": 252,
      "outputs": [
        {
          "output_type": "execute_result",
          "data": {
            "text/plain": [
              "FactorizationMachineModel(\n",
              "  (fc1): Linear(in_features=200, out_features=1, bias=True)\n",
              "  (fc2): Linear(in_features=9742, out_features=1, bias=True)\n",
              "  (fc3): Linear(in_features=20, out_features=1, bias=True)\n",
              "  (fc4): Linear(in_features=200, out_features=1, bias=True)\n",
              "  (fc1_emb): Linear(in_features=200, out_features=10, bias=True)\n",
              "  (fc2_emb): Linear(in_features=9742, out_features=10, bias=True)\n",
              "  (fc3_emb): Linear(in_features=20, out_features=10, bias=True)\n",
              "  (fc4_emb): Linear(in_features=200, out_features=10, bias=True)\n",
              "  (linear): FeaturesLinear(\n",
              "    (fc): Embedding(194219, 1)\n",
              "  )\n",
              "  (embedding): FeaturesEmbedding(\n",
              "    (embedding): Embedding(194219, 10)\n",
              "  )\n",
              "  (fm): FactorizationMachine()\n",
              ")"
            ]
          },
          "metadata": {
            "tags": []
          },
          "execution_count": 252
        }
      ]
    },
    {
      "cell_type": "code",
      "metadata": {
        "id": "zdNDnvhcL6N9"
      },
      "source": [
        "n_epochs = 10\n",
        "learning_rate = 0.001\n",
        "criterion = nn.MSELoss()\n",
        "optimizer = torch.optim.Adam(params=model.parameters(), lr=learning_rate)"
      ],
      "execution_count": 222,
      "outputs": []
    },
    {
      "cell_type": "code",
      "metadata": {
        "colab": {
          "base_uri": "https://localhost:8080/",
          "height": 592,
          "referenced_widgets": [
            "29c0d0caec4044e9a3d54028bc732b35",
            "709184e1458549e18cfc13aaae7256cf",
            "19f7f28d67394b38b8b14afe53a8cc3b",
            "c70f41892b8842c0b8a55fea77f3da92",
            "2c582cf935c648c882b644a6cde82b1f",
            "c0ab634220a043008732714ff4f44725",
            "ba843df09efa42109c7e9173ea989bdb",
            "a107a8e46b594c4896f1cdec0f3eb608",
            "e06356c623694d7f9de425c649249b9c",
            "de5fbb25c65a4a44a70eb28a035075b6",
            "b60f85e16e3d475d98ee2a89851d7fc3",
            "1cc9cff3d8c04653bd16a15236808b8c",
            "16e38c617ae94ec4ac285f7841c6d5fd",
            "198f75a6ba8a4d2bafbe91484367852c",
            "b0e5ee8d9e544588884794e2675106c8",
            "bfec34b4906841c883b3c3eb4b1834b5",
            "25a68190215a4f03861f714ef8b2b2c5",
            "cb2462428f274a9eb12b10e04b4ee6ec",
            "c0111f6148484328b074dc92ab792a19",
            "e340ce44def949188b19a8e9ff5e3b32",
            "e3c03c52eba04ae486266afd3e4c8519",
            "36d9aca60d4d4f36abb3a9df255a59b3",
            "8682a2b00bf54a3fa2bf193cd7087e02",
            "9af9ed9b91884e7b9baffcc797855ab5"
          ]
        },
        "id": "4NQwSkaqSYxt",
        "outputId": "58f00854-8730-4a0d-90dc-c15c0af7d074"
      },
      "source": [
        "from tqdm import tqdm_notebook\n",
        "\n",
        "model = model.to(device)\n",
        "\n",
        "for epoch in range(n_epochs):\n",
        "  model.train()\n",
        "  total_loss = 0\n",
        "  iterations = len(train_data_loader)\n",
        "  for idx,(X_vectors, ratings) in enumerate(tqdm_notebook(train_data_loader)):\n",
        "    user_movie, tag_vector, last_rate_vector, genres_vectors, title_vector = X_vectors\n",
        "    user_movie = user_movie.to(device)\n",
        "    tag_vector = tag_vector.to(device)\n",
        "    last_rate_vector = last_rate_vector.to(device)\n",
        "    genres_vectors = genres_vectors.to(device)\n",
        "    title_vector = title_vector.to(device)\n",
        "    ratings = ratings.float().to(device)\n",
        "\n",
        "    y_preds = model(user_movie, tag_vector, last_rate_vector, genres_vectors, title_vector)\n",
        "    loss = criterion(y_preds, ratings)\n",
        "    model.zero_grad()\n",
        "    loss.backward()\n",
        "    optimizer.step()\n",
        "    total_loss += loss / iterations\n",
        "\n",
        "  print(f\"{epoch}|{n_epochs} epochs; loss:{total_loss}\")"
      ],
      "execution_count": 253,
      "outputs": [
        {
          "output_type": "stream",
          "text": [
            "/usr/local/lib/python3.6/dist-packages/ipykernel_launcher.py:9: TqdmDeprecationWarning: This function will be removed in tqdm==5.0.0\n",
            "Please use `tqdm.notebook.tqdm` instead of `tqdm.tqdm_notebook`\n",
            "  if __name__ == '__main__':\n"
          ],
          "name": "stderr"
        },
        {
          "output_type": "display_data",
          "data": {
            "application/vnd.jupyter.widget-view+json": {
              "model_id": "29c0d0caec4044e9a3d54028bc732b35",
              "version_minor": 0,
              "version_major": 2
            },
            "text/plain": [
              "HBox(children=(FloatProgress(value=0.0, max=40.0), HTML(value='')))"
            ]
          },
          "metadata": {
            "tags": []
          }
        },
        {
          "output_type": "stream",
          "text": [
            "\n",
            "0|10 epochs; loss:16.311203002929688\n"
          ],
          "name": "stdout"
        },
        {
          "output_type": "display_data",
          "data": {
            "application/vnd.jupyter.widget-view+json": {
              "model_id": "e06356c623694d7f9de425c649249b9c",
              "version_minor": 0,
              "version_major": 2
            },
            "text/plain": [
              "HBox(children=(FloatProgress(value=0.0, max=40.0), HTML(value='')))"
            ]
          },
          "metadata": {
            "tags": []
          }
        },
        {
          "output_type": "stream",
          "text": [
            "\n",
            "1|10 epochs; loss:16.311203002929688\n"
          ],
          "name": "stdout"
        },
        {
          "output_type": "display_data",
          "data": {
            "application/vnd.jupyter.widget-view+json": {
              "model_id": "25a68190215a4f03861f714ef8b2b2c5",
              "version_minor": 0,
              "version_major": 2
            },
            "text/plain": [
              "HBox(children=(FloatProgress(value=0.0, max=40.0), HTML(value='')))"
            ]
          },
          "metadata": {
            "tags": []
          }
        },
        {
          "output_type": "error",
          "ename": "KeyboardInterrupt",
          "evalue": "ignored",
          "traceback": [
            "\u001b[0;31m---------------------------------------------------------------------------\u001b[0m",
            "\u001b[0;31mKeyboardInterrupt\u001b[0m                         Traceback (most recent call last)",
            "\u001b[0;32m<ipython-input-253-ced8aecc4460>\u001b[0m in \u001b[0;36m<module>\u001b[0;34m()\u001b[0m\n\u001b[1;32m      7\u001b[0m   \u001b[0mtotal_loss\u001b[0m \u001b[0;34m=\u001b[0m \u001b[0;36m0\u001b[0m\u001b[0;34m\u001b[0m\u001b[0;34m\u001b[0m\u001b[0m\n\u001b[1;32m      8\u001b[0m   \u001b[0miterations\u001b[0m \u001b[0;34m=\u001b[0m \u001b[0mlen\u001b[0m\u001b[0;34m(\u001b[0m\u001b[0mtrain_data_loader\u001b[0m\u001b[0;34m)\u001b[0m\u001b[0;34m\u001b[0m\u001b[0;34m\u001b[0m\u001b[0m\n\u001b[0;32m----> 9\u001b[0;31m   \u001b[0;32mfor\u001b[0m \u001b[0midx\u001b[0m\u001b[0;34m,\u001b[0m\u001b[0;34m(\u001b[0m\u001b[0mX_vectors\u001b[0m\u001b[0;34m,\u001b[0m \u001b[0mratings\u001b[0m\u001b[0;34m)\u001b[0m \u001b[0;32min\u001b[0m \u001b[0menumerate\u001b[0m\u001b[0;34m(\u001b[0m\u001b[0mtqdm_notebook\u001b[0m\u001b[0;34m(\u001b[0m\u001b[0mtrain_data_loader\u001b[0m\u001b[0;34m)\u001b[0m\u001b[0;34m)\u001b[0m\u001b[0;34m:\u001b[0m\u001b[0;34m\u001b[0m\u001b[0;34m\u001b[0m\u001b[0m\n\u001b[0m\u001b[1;32m     10\u001b[0m     \u001b[0muser_movie\u001b[0m\u001b[0;34m,\u001b[0m \u001b[0mtag_vector\u001b[0m\u001b[0;34m,\u001b[0m \u001b[0mlast_rate_vector\u001b[0m\u001b[0;34m,\u001b[0m \u001b[0mgenres_vectors\u001b[0m\u001b[0;34m,\u001b[0m \u001b[0mtitle_vector\u001b[0m \u001b[0;34m=\u001b[0m \u001b[0mX_vectors\u001b[0m\u001b[0;34m\u001b[0m\u001b[0;34m\u001b[0m\u001b[0m\n\u001b[1;32m     11\u001b[0m     \u001b[0muser_movie\u001b[0m \u001b[0;34m=\u001b[0m \u001b[0muser_movie\u001b[0m\u001b[0;34m.\u001b[0m\u001b[0mto\u001b[0m\u001b[0;34m(\u001b[0m\u001b[0mdevice\u001b[0m\u001b[0;34m)\u001b[0m\u001b[0;34m\u001b[0m\u001b[0;34m\u001b[0m\u001b[0m\n",
            "\u001b[0;32m/usr/local/lib/python3.6/dist-packages/tqdm/notebook.py\u001b[0m in \u001b[0;36m__iter__\u001b[0;34m(self, *args, **kwargs)\u001b[0m\n\u001b[1;32m    213\u001b[0m     \u001b[0;32mdef\u001b[0m \u001b[0m__iter__\u001b[0m\u001b[0;34m(\u001b[0m\u001b[0mself\u001b[0m\u001b[0;34m,\u001b[0m \u001b[0;34m*\u001b[0m\u001b[0margs\u001b[0m\u001b[0;34m,\u001b[0m \u001b[0;34m**\u001b[0m\u001b[0mkwargs\u001b[0m\u001b[0;34m)\u001b[0m\u001b[0;34m:\u001b[0m\u001b[0;34m\u001b[0m\u001b[0;34m\u001b[0m\u001b[0m\n\u001b[1;32m    214\u001b[0m         \u001b[0;32mtry\u001b[0m\u001b[0;34m:\u001b[0m\u001b[0;34m\u001b[0m\u001b[0;34m\u001b[0m\u001b[0m\n\u001b[0;32m--> 215\u001b[0;31m             \u001b[0;32mfor\u001b[0m \u001b[0mobj\u001b[0m \u001b[0;32min\u001b[0m \u001b[0msuper\u001b[0m\u001b[0;34m(\u001b[0m\u001b[0mtqdm_notebook\u001b[0m\u001b[0;34m,\u001b[0m \u001b[0mself\u001b[0m\u001b[0;34m)\u001b[0m\u001b[0;34m.\u001b[0m\u001b[0m__iter__\u001b[0m\u001b[0;34m(\u001b[0m\u001b[0;34m*\u001b[0m\u001b[0margs\u001b[0m\u001b[0;34m,\u001b[0m \u001b[0;34m**\u001b[0m\u001b[0mkwargs\u001b[0m\u001b[0;34m)\u001b[0m\u001b[0;34m:\u001b[0m\u001b[0;34m\u001b[0m\u001b[0;34m\u001b[0m\u001b[0m\n\u001b[0m\u001b[1;32m    216\u001b[0m                 \u001b[0;31m# return super(tqdm...) will not catch exception\u001b[0m\u001b[0;34m\u001b[0m\u001b[0;34m\u001b[0m\u001b[0;34m\u001b[0m\u001b[0m\n\u001b[1;32m    217\u001b[0m                 \u001b[0;32myield\u001b[0m \u001b[0mobj\u001b[0m\u001b[0;34m\u001b[0m\u001b[0;34m\u001b[0m\u001b[0m\n",
            "\u001b[0;32m/usr/local/lib/python3.6/dist-packages/tqdm/std.py\u001b[0m in \u001b[0;36m__iter__\u001b[0;34m(self)\u001b[0m\n\u001b[1;32m   1102\u001b[0m                 fp_write=getattr(self.fp, 'write', sys.stderr.write))\n\u001b[1;32m   1103\u001b[0m \u001b[0;34m\u001b[0m\u001b[0m\n\u001b[0;32m-> 1104\u001b[0;31m         \u001b[0;32mfor\u001b[0m \u001b[0mobj\u001b[0m \u001b[0;32min\u001b[0m \u001b[0miterable\u001b[0m\u001b[0;34m:\u001b[0m\u001b[0;34m\u001b[0m\u001b[0;34m\u001b[0m\u001b[0m\n\u001b[0m\u001b[1;32m   1105\u001b[0m             \u001b[0;32myield\u001b[0m \u001b[0mobj\u001b[0m\u001b[0;34m\u001b[0m\u001b[0;34m\u001b[0m\u001b[0m\n\u001b[1;32m   1106\u001b[0m             \u001b[0;31m# Update and possibly print the progressbar.\u001b[0m\u001b[0;34m\u001b[0m\u001b[0;34m\u001b[0m\u001b[0;34m\u001b[0m\u001b[0m\n",
            "\u001b[0;32m/usr/local/lib/python3.6/dist-packages/torch/utils/data/dataloader.py\u001b[0m in \u001b[0;36m__next__\u001b[0;34m(self)\u001b[0m\n\u001b[1;32m    433\u001b[0m         \u001b[0;32mif\u001b[0m \u001b[0mself\u001b[0m\u001b[0;34m.\u001b[0m\u001b[0m_sampler_iter\u001b[0m \u001b[0;32mis\u001b[0m \u001b[0;32mNone\u001b[0m\u001b[0;34m:\u001b[0m\u001b[0;34m\u001b[0m\u001b[0;34m\u001b[0m\u001b[0m\n\u001b[1;32m    434\u001b[0m             \u001b[0mself\u001b[0m\u001b[0;34m.\u001b[0m\u001b[0m_reset\u001b[0m\u001b[0;34m(\u001b[0m\u001b[0;34m)\u001b[0m\u001b[0;34m\u001b[0m\u001b[0;34m\u001b[0m\u001b[0m\n\u001b[0;32m--> 435\u001b[0;31m         \u001b[0mdata\u001b[0m \u001b[0;34m=\u001b[0m \u001b[0mself\u001b[0m\u001b[0;34m.\u001b[0m\u001b[0m_next_data\u001b[0m\u001b[0;34m(\u001b[0m\u001b[0;34m)\u001b[0m\u001b[0;34m\u001b[0m\u001b[0;34m\u001b[0m\u001b[0m\n\u001b[0m\u001b[1;32m    436\u001b[0m         \u001b[0mself\u001b[0m\u001b[0;34m.\u001b[0m\u001b[0m_num_yielded\u001b[0m \u001b[0;34m+=\u001b[0m \u001b[0;36m1\u001b[0m\u001b[0;34m\u001b[0m\u001b[0;34m\u001b[0m\u001b[0m\n\u001b[1;32m    437\u001b[0m         \u001b[0;32mif\u001b[0m \u001b[0mself\u001b[0m\u001b[0;34m.\u001b[0m\u001b[0m_dataset_kind\u001b[0m \u001b[0;34m==\u001b[0m \u001b[0m_DatasetKind\u001b[0m\u001b[0;34m.\u001b[0m\u001b[0mIterable\u001b[0m \u001b[0;32mand\u001b[0m\u001b[0;31m \u001b[0m\u001b[0;31m\\\u001b[0m\u001b[0;34m\u001b[0m\u001b[0;34m\u001b[0m\u001b[0m\n",
            "\u001b[0;32m/usr/local/lib/python3.6/dist-packages/torch/utils/data/dataloader.py\u001b[0m in \u001b[0;36m_next_data\u001b[0;34m(self)\u001b[0m\n\u001b[1;32m   1066\u001b[0m \u001b[0;34m\u001b[0m\u001b[0m\n\u001b[1;32m   1067\u001b[0m             \u001b[0;32massert\u001b[0m \u001b[0;32mnot\u001b[0m \u001b[0mself\u001b[0m\u001b[0;34m.\u001b[0m\u001b[0m_shutdown\u001b[0m \u001b[0;32mand\u001b[0m \u001b[0mself\u001b[0m\u001b[0;34m.\u001b[0m\u001b[0m_tasks_outstanding\u001b[0m \u001b[0;34m>\u001b[0m \u001b[0;36m0\u001b[0m\u001b[0;34m\u001b[0m\u001b[0;34m\u001b[0m\u001b[0m\n\u001b[0;32m-> 1068\u001b[0;31m             \u001b[0midx\u001b[0m\u001b[0;34m,\u001b[0m \u001b[0mdata\u001b[0m \u001b[0;34m=\u001b[0m \u001b[0mself\u001b[0m\u001b[0;34m.\u001b[0m\u001b[0m_get_data\u001b[0m\u001b[0;34m(\u001b[0m\u001b[0;34m)\u001b[0m\u001b[0;34m\u001b[0m\u001b[0;34m\u001b[0m\u001b[0m\n\u001b[0m\u001b[1;32m   1069\u001b[0m             \u001b[0mself\u001b[0m\u001b[0;34m.\u001b[0m\u001b[0m_tasks_outstanding\u001b[0m \u001b[0;34m-=\u001b[0m \u001b[0;36m1\u001b[0m\u001b[0;34m\u001b[0m\u001b[0;34m\u001b[0m\u001b[0m\n\u001b[1;32m   1070\u001b[0m             \u001b[0;32mif\u001b[0m \u001b[0mself\u001b[0m\u001b[0;34m.\u001b[0m\u001b[0m_dataset_kind\u001b[0m \u001b[0;34m==\u001b[0m \u001b[0m_DatasetKind\u001b[0m\u001b[0;34m.\u001b[0m\u001b[0mIterable\u001b[0m\u001b[0;34m:\u001b[0m\u001b[0;34m\u001b[0m\u001b[0;34m\u001b[0m\u001b[0m\n",
            "\u001b[0;32m/usr/local/lib/python3.6/dist-packages/torch/utils/data/dataloader.py\u001b[0m in \u001b[0;36m_get_data\u001b[0;34m(self)\u001b[0m\n\u001b[1;32m   1032\u001b[0m         \u001b[0;32melse\u001b[0m\u001b[0;34m:\u001b[0m\u001b[0;34m\u001b[0m\u001b[0;34m\u001b[0m\u001b[0m\n\u001b[1;32m   1033\u001b[0m             \u001b[0;32mwhile\u001b[0m \u001b[0;32mTrue\u001b[0m\u001b[0;34m:\u001b[0m\u001b[0;34m\u001b[0m\u001b[0;34m\u001b[0m\u001b[0m\n\u001b[0;32m-> 1034\u001b[0;31m                 \u001b[0msuccess\u001b[0m\u001b[0;34m,\u001b[0m \u001b[0mdata\u001b[0m \u001b[0;34m=\u001b[0m \u001b[0mself\u001b[0m\u001b[0;34m.\u001b[0m\u001b[0m_try_get_data\u001b[0m\u001b[0;34m(\u001b[0m\u001b[0;34m)\u001b[0m\u001b[0;34m\u001b[0m\u001b[0;34m\u001b[0m\u001b[0m\n\u001b[0m\u001b[1;32m   1035\u001b[0m                 \u001b[0;32mif\u001b[0m \u001b[0msuccess\u001b[0m\u001b[0;34m:\u001b[0m\u001b[0;34m\u001b[0m\u001b[0;34m\u001b[0m\u001b[0m\n\u001b[1;32m   1036\u001b[0m                     \u001b[0;32mreturn\u001b[0m \u001b[0mdata\u001b[0m\u001b[0;34m\u001b[0m\u001b[0;34m\u001b[0m\u001b[0m\n",
            "\u001b[0;32m/usr/local/lib/python3.6/dist-packages/torch/utils/data/dataloader.py\u001b[0m in \u001b[0;36m_try_get_data\u001b[0;34m(self, timeout)\u001b[0m\n\u001b[1;32m    870\u001b[0m         \u001b[0;31m#   (bool: whether successfully get data, any: data if successful else None)\u001b[0m\u001b[0;34m\u001b[0m\u001b[0;34m\u001b[0m\u001b[0;34m\u001b[0m\u001b[0m\n\u001b[1;32m    871\u001b[0m         \u001b[0;32mtry\u001b[0m\u001b[0;34m:\u001b[0m\u001b[0;34m\u001b[0m\u001b[0;34m\u001b[0m\u001b[0m\n\u001b[0;32m--> 872\u001b[0;31m             \u001b[0mdata\u001b[0m \u001b[0;34m=\u001b[0m \u001b[0mself\u001b[0m\u001b[0;34m.\u001b[0m\u001b[0m_data_queue\u001b[0m\u001b[0;34m.\u001b[0m\u001b[0mget\u001b[0m\u001b[0;34m(\u001b[0m\u001b[0mtimeout\u001b[0m\u001b[0;34m=\u001b[0m\u001b[0mtimeout\u001b[0m\u001b[0;34m)\u001b[0m\u001b[0;34m\u001b[0m\u001b[0;34m\u001b[0m\u001b[0m\n\u001b[0m\u001b[1;32m    873\u001b[0m             \u001b[0;32mreturn\u001b[0m \u001b[0;34m(\u001b[0m\u001b[0;32mTrue\u001b[0m\u001b[0;34m,\u001b[0m \u001b[0mdata\u001b[0m\u001b[0;34m)\u001b[0m\u001b[0;34m\u001b[0m\u001b[0;34m\u001b[0m\u001b[0m\n\u001b[1;32m    874\u001b[0m         \u001b[0;32mexcept\u001b[0m \u001b[0mException\u001b[0m \u001b[0;32mas\u001b[0m \u001b[0me\u001b[0m\u001b[0;34m:\u001b[0m\u001b[0;34m\u001b[0m\u001b[0;34m\u001b[0m\u001b[0m\n",
            "\u001b[0;32m/usr/lib/python3.6/multiprocessing/queues.py\u001b[0m in \u001b[0;36mget\u001b[0;34m(self, block, timeout)\u001b[0m\n\u001b[1;32m    102\u001b[0m                 \u001b[0;32mif\u001b[0m \u001b[0mblock\u001b[0m\u001b[0;34m:\u001b[0m\u001b[0;34m\u001b[0m\u001b[0;34m\u001b[0m\u001b[0m\n\u001b[1;32m    103\u001b[0m                     \u001b[0mtimeout\u001b[0m \u001b[0;34m=\u001b[0m \u001b[0mdeadline\u001b[0m \u001b[0;34m-\u001b[0m \u001b[0mtime\u001b[0m\u001b[0;34m.\u001b[0m\u001b[0mmonotonic\u001b[0m\u001b[0;34m(\u001b[0m\u001b[0;34m)\u001b[0m\u001b[0;34m\u001b[0m\u001b[0;34m\u001b[0m\u001b[0m\n\u001b[0;32m--> 104\u001b[0;31m                     \u001b[0;32mif\u001b[0m \u001b[0;32mnot\u001b[0m \u001b[0mself\u001b[0m\u001b[0;34m.\u001b[0m\u001b[0m_poll\u001b[0m\u001b[0;34m(\u001b[0m\u001b[0mtimeout\u001b[0m\u001b[0;34m)\u001b[0m\u001b[0;34m:\u001b[0m\u001b[0;34m\u001b[0m\u001b[0;34m\u001b[0m\u001b[0m\n\u001b[0m\u001b[1;32m    105\u001b[0m                         \u001b[0;32mraise\u001b[0m \u001b[0mEmpty\u001b[0m\u001b[0;34m\u001b[0m\u001b[0;34m\u001b[0m\u001b[0m\n\u001b[1;32m    106\u001b[0m                 \u001b[0;32melif\u001b[0m \u001b[0;32mnot\u001b[0m \u001b[0mself\u001b[0m\u001b[0;34m.\u001b[0m\u001b[0m_poll\u001b[0m\u001b[0;34m(\u001b[0m\u001b[0;34m)\u001b[0m\u001b[0;34m:\u001b[0m\u001b[0;34m\u001b[0m\u001b[0;34m\u001b[0m\u001b[0m\n",
            "\u001b[0;32m/usr/lib/python3.6/multiprocessing/connection.py\u001b[0m in \u001b[0;36mpoll\u001b[0;34m(self, timeout)\u001b[0m\n\u001b[1;32m    255\u001b[0m         \u001b[0mself\u001b[0m\u001b[0;34m.\u001b[0m\u001b[0m_check_closed\u001b[0m\u001b[0;34m(\u001b[0m\u001b[0;34m)\u001b[0m\u001b[0;34m\u001b[0m\u001b[0;34m\u001b[0m\u001b[0m\n\u001b[1;32m    256\u001b[0m         \u001b[0mself\u001b[0m\u001b[0;34m.\u001b[0m\u001b[0m_check_readable\u001b[0m\u001b[0;34m(\u001b[0m\u001b[0;34m)\u001b[0m\u001b[0;34m\u001b[0m\u001b[0;34m\u001b[0m\u001b[0m\n\u001b[0;32m--> 257\u001b[0;31m         \u001b[0;32mreturn\u001b[0m \u001b[0mself\u001b[0m\u001b[0;34m.\u001b[0m\u001b[0m_poll\u001b[0m\u001b[0;34m(\u001b[0m\u001b[0mtimeout\u001b[0m\u001b[0;34m)\u001b[0m\u001b[0;34m\u001b[0m\u001b[0;34m\u001b[0m\u001b[0m\n\u001b[0m\u001b[1;32m    258\u001b[0m \u001b[0;34m\u001b[0m\u001b[0m\n\u001b[1;32m    259\u001b[0m     \u001b[0;32mdef\u001b[0m \u001b[0m__enter__\u001b[0m\u001b[0;34m(\u001b[0m\u001b[0mself\u001b[0m\u001b[0;34m)\u001b[0m\u001b[0;34m:\u001b[0m\u001b[0;34m\u001b[0m\u001b[0;34m\u001b[0m\u001b[0m\n",
            "\u001b[0;32m/usr/lib/python3.6/multiprocessing/connection.py\u001b[0m in \u001b[0;36m_poll\u001b[0;34m(self, timeout)\u001b[0m\n\u001b[1;32m    412\u001b[0m \u001b[0;34m\u001b[0m\u001b[0m\n\u001b[1;32m    413\u001b[0m     \u001b[0;32mdef\u001b[0m \u001b[0m_poll\u001b[0m\u001b[0;34m(\u001b[0m\u001b[0mself\u001b[0m\u001b[0;34m,\u001b[0m \u001b[0mtimeout\u001b[0m\u001b[0;34m)\u001b[0m\u001b[0;34m:\u001b[0m\u001b[0;34m\u001b[0m\u001b[0;34m\u001b[0m\u001b[0m\n\u001b[0;32m--> 414\u001b[0;31m         \u001b[0mr\u001b[0m \u001b[0;34m=\u001b[0m \u001b[0mwait\u001b[0m\u001b[0;34m(\u001b[0m\u001b[0;34m[\u001b[0m\u001b[0mself\u001b[0m\u001b[0;34m]\u001b[0m\u001b[0;34m,\u001b[0m \u001b[0mtimeout\u001b[0m\u001b[0;34m)\u001b[0m\u001b[0;34m\u001b[0m\u001b[0;34m\u001b[0m\u001b[0m\n\u001b[0m\u001b[1;32m    415\u001b[0m         \u001b[0;32mreturn\u001b[0m \u001b[0mbool\u001b[0m\u001b[0;34m(\u001b[0m\u001b[0mr\u001b[0m\u001b[0;34m)\u001b[0m\u001b[0;34m\u001b[0m\u001b[0;34m\u001b[0m\u001b[0m\n\u001b[1;32m    416\u001b[0m \u001b[0;34m\u001b[0m\u001b[0m\n",
            "\u001b[0;32m/usr/lib/python3.6/multiprocessing/connection.py\u001b[0m in \u001b[0;36mwait\u001b[0;34m(object_list, timeout)\u001b[0m\n\u001b[1;32m    909\u001b[0m \u001b[0;34m\u001b[0m\u001b[0m\n\u001b[1;32m    910\u001b[0m             \u001b[0;32mwhile\u001b[0m \u001b[0;32mTrue\u001b[0m\u001b[0;34m:\u001b[0m\u001b[0;34m\u001b[0m\u001b[0;34m\u001b[0m\u001b[0m\n\u001b[0;32m--> 911\u001b[0;31m                 \u001b[0mready\u001b[0m \u001b[0;34m=\u001b[0m \u001b[0mselector\u001b[0m\u001b[0;34m.\u001b[0m\u001b[0mselect\u001b[0m\u001b[0;34m(\u001b[0m\u001b[0mtimeout\u001b[0m\u001b[0;34m)\u001b[0m\u001b[0;34m\u001b[0m\u001b[0;34m\u001b[0m\u001b[0m\n\u001b[0m\u001b[1;32m    912\u001b[0m                 \u001b[0;32mif\u001b[0m \u001b[0mready\u001b[0m\u001b[0;34m:\u001b[0m\u001b[0;34m\u001b[0m\u001b[0;34m\u001b[0m\u001b[0m\n\u001b[1;32m    913\u001b[0m                     \u001b[0;32mreturn\u001b[0m \u001b[0;34m[\u001b[0m\u001b[0mkey\u001b[0m\u001b[0;34m.\u001b[0m\u001b[0mfileobj\u001b[0m \u001b[0;32mfor\u001b[0m \u001b[0;34m(\u001b[0m\u001b[0mkey\u001b[0m\u001b[0;34m,\u001b[0m \u001b[0mevents\u001b[0m\u001b[0;34m)\u001b[0m \u001b[0;32min\u001b[0m \u001b[0mready\u001b[0m\u001b[0;34m]\u001b[0m\u001b[0;34m\u001b[0m\u001b[0;34m\u001b[0m\u001b[0m\n",
            "\u001b[0;32m/usr/lib/python3.6/selectors.py\u001b[0m in \u001b[0;36mselect\u001b[0;34m(self, timeout)\u001b[0m\n\u001b[1;32m    374\u001b[0m             \u001b[0mready\u001b[0m \u001b[0;34m=\u001b[0m \u001b[0;34m[\u001b[0m\u001b[0;34m]\u001b[0m\u001b[0;34m\u001b[0m\u001b[0;34m\u001b[0m\u001b[0m\n\u001b[1;32m    375\u001b[0m             \u001b[0;32mtry\u001b[0m\u001b[0;34m:\u001b[0m\u001b[0;34m\u001b[0m\u001b[0;34m\u001b[0m\u001b[0m\n\u001b[0;32m--> 376\u001b[0;31m                 \u001b[0mfd_event_list\u001b[0m \u001b[0;34m=\u001b[0m \u001b[0mself\u001b[0m\u001b[0;34m.\u001b[0m\u001b[0m_poll\u001b[0m\u001b[0;34m.\u001b[0m\u001b[0mpoll\u001b[0m\u001b[0;34m(\u001b[0m\u001b[0mtimeout\u001b[0m\u001b[0;34m)\u001b[0m\u001b[0;34m\u001b[0m\u001b[0;34m\u001b[0m\u001b[0m\n\u001b[0m\u001b[1;32m    377\u001b[0m             \u001b[0;32mexcept\u001b[0m \u001b[0mInterruptedError\u001b[0m\u001b[0;34m:\u001b[0m\u001b[0;34m\u001b[0m\u001b[0;34m\u001b[0m\u001b[0m\n\u001b[1;32m    378\u001b[0m                 \u001b[0;32mreturn\u001b[0m \u001b[0mready\u001b[0m\u001b[0;34m\u001b[0m\u001b[0;34m\u001b[0m\u001b[0m\n",
            "\u001b[0;31mKeyboardInterrupt\u001b[0m: "
          ]
        }
      ]
    }
  ]
}