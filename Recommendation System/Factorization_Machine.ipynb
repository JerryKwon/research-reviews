{
  "nbformat": 4,
  "nbformat_minor": 0,
  "metadata": {
    "colab": {
      "name": "Factorization_Machine.ipynb",
      "provenance": [],
      "collapsed_sections": [],
      "machine_shape": "hm"
    },
    "kernelspec": {
      "name": "python3",
      "display_name": "Python 3"
    },
    "widgets": {
      "application/vnd.jupyter.widget-state+json": {
        "47410de4cc434839ba0b4dd6b213f4c4": {
          "model_module": "@jupyter-widgets/controls",
          "model_name": "HBoxModel",
          "state": {
            "_view_name": "HBoxView",
            "_dom_classes": [],
            "_model_name": "HBoxModel",
            "_view_module": "@jupyter-widgets/controls",
            "_model_module_version": "1.5.0",
            "_view_count": null,
            "_view_module_version": "1.5.0",
            "box_style": "",
            "layout": "IPY_MODEL_febfb986ca7740a3af38c7f6e56c6229",
            "_model_module": "@jupyter-widgets/controls",
            "children": [
              "IPY_MODEL_649f12f8792147a48febef067ef59eb9",
              "IPY_MODEL_33e10e6e130e4fbdb27e7d463478be51"
            ]
          }
        },
        "febfb986ca7740a3af38c7f6e56c6229": {
          "model_module": "@jupyter-widgets/base",
          "model_name": "LayoutModel",
          "state": {
            "_view_name": "LayoutView",
            "grid_template_rows": null,
            "right": null,
            "justify_content": null,
            "_view_module": "@jupyter-widgets/base",
            "overflow": null,
            "_model_module_version": "1.2.0",
            "_view_count": null,
            "flex_flow": null,
            "width": null,
            "min_width": null,
            "border": null,
            "align_items": null,
            "bottom": null,
            "_model_module": "@jupyter-widgets/base",
            "top": null,
            "grid_column": null,
            "overflow_y": null,
            "overflow_x": null,
            "grid_auto_flow": null,
            "grid_area": null,
            "grid_template_columns": null,
            "flex": null,
            "_model_name": "LayoutModel",
            "justify_items": null,
            "grid_row": null,
            "max_height": null,
            "align_content": null,
            "visibility": null,
            "align_self": null,
            "height": null,
            "min_height": null,
            "padding": null,
            "grid_auto_rows": null,
            "grid_gap": null,
            "max_width": null,
            "order": null,
            "_view_module_version": "1.2.0",
            "grid_template_areas": null,
            "object_position": null,
            "object_fit": null,
            "grid_auto_columns": null,
            "margin": null,
            "display": null,
            "left": null
          }
        },
        "649f12f8792147a48febef067ef59eb9": {
          "model_module": "@jupyter-widgets/controls",
          "model_name": "FloatProgressModel",
          "state": {
            "_view_name": "ProgressView",
            "style": "IPY_MODEL_52ffdcd35fd441519ce60e3374f31c2a",
            "_dom_classes": [],
            "description": "",
            "_model_name": "FloatProgressModel",
            "bar_style": "success",
            "max": 1,
            "_view_module": "@jupyter-widgets/controls",
            "_model_module_version": "1.5.0",
            "value": 1,
            "_view_count": null,
            "_view_module_version": "1.5.0",
            "orientation": "horizontal",
            "min": 0,
            "description_tooltip": null,
            "_model_module": "@jupyter-widgets/controls",
            "layout": "IPY_MODEL_67915fa98efc4d25a1433e3f69491133"
          }
        },
        "33e10e6e130e4fbdb27e7d463478be51": {
          "model_module": "@jupyter-widgets/controls",
          "model_name": "HTMLModel",
          "state": {
            "_view_name": "HTMLView",
            "style": "IPY_MODEL_fa15e6330b4a40f2b1ab9958ccab9131",
            "_dom_classes": [],
            "description": "",
            "_model_name": "HTMLModel",
            "placeholder": "​",
            "_view_module": "@jupyter-widgets/controls",
            "_model_module_version": "1.5.0",
            "value": " 100836/? [00:13&lt;00:00, 7629.42it/s]",
            "_view_count": null,
            "_view_module_version": "1.5.0",
            "description_tooltip": null,
            "_model_module": "@jupyter-widgets/controls",
            "layout": "IPY_MODEL_b012d49ee29340658445e84eff6fa204"
          }
        },
        "52ffdcd35fd441519ce60e3374f31c2a": {
          "model_module": "@jupyter-widgets/controls",
          "model_name": "ProgressStyleModel",
          "state": {
            "_view_name": "StyleView",
            "_model_name": "ProgressStyleModel",
            "description_width": "initial",
            "_view_module": "@jupyter-widgets/base",
            "_model_module_version": "1.5.0",
            "_view_count": null,
            "_view_module_version": "1.2.0",
            "bar_color": null,
            "_model_module": "@jupyter-widgets/controls"
          }
        },
        "67915fa98efc4d25a1433e3f69491133": {
          "model_module": "@jupyter-widgets/base",
          "model_name": "LayoutModel",
          "state": {
            "_view_name": "LayoutView",
            "grid_template_rows": null,
            "right": null,
            "justify_content": null,
            "_view_module": "@jupyter-widgets/base",
            "overflow": null,
            "_model_module_version": "1.2.0",
            "_view_count": null,
            "flex_flow": null,
            "width": null,
            "min_width": null,
            "border": null,
            "align_items": null,
            "bottom": null,
            "_model_module": "@jupyter-widgets/base",
            "top": null,
            "grid_column": null,
            "overflow_y": null,
            "overflow_x": null,
            "grid_auto_flow": null,
            "grid_area": null,
            "grid_template_columns": null,
            "flex": null,
            "_model_name": "LayoutModel",
            "justify_items": null,
            "grid_row": null,
            "max_height": null,
            "align_content": null,
            "visibility": null,
            "align_self": null,
            "height": null,
            "min_height": null,
            "padding": null,
            "grid_auto_rows": null,
            "grid_gap": null,
            "max_width": null,
            "order": null,
            "_view_module_version": "1.2.0",
            "grid_template_areas": null,
            "object_position": null,
            "object_fit": null,
            "grid_auto_columns": null,
            "margin": null,
            "display": null,
            "left": null
          }
        },
        "fa15e6330b4a40f2b1ab9958ccab9131": {
          "model_module": "@jupyter-widgets/controls",
          "model_name": "DescriptionStyleModel",
          "state": {
            "_view_name": "StyleView",
            "_model_name": "DescriptionStyleModel",
            "description_width": "",
            "_view_module": "@jupyter-widgets/base",
            "_model_module_version": "1.5.0",
            "_view_count": null,
            "_view_module_version": "1.2.0",
            "_model_module": "@jupyter-widgets/controls"
          }
        },
        "b012d49ee29340658445e84eff6fa204": {
          "model_module": "@jupyter-widgets/base",
          "model_name": "LayoutModel",
          "state": {
            "_view_name": "LayoutView",
            "grid_template_rows": null,
            "right": null,
            "justify_content": null,
            "_view_module": "@jupyter-widgets/base",
            "overflow": null,
            "_model_module_version": "1.2.0",
            "_view_count": null,
            "flex_flow": null,
            "width": null,
            "min_width": null,
            "border": null,
            "align_items": null,
            "bottom": null,
            "_model_module": "@jupyter-widgets/base",
            "top": null,
            "grid_column": null,
            "overflow_y": null,
            "overflow_x": null,
            "grid_auto_flow": null,
            "grid_area": null,
            "grid_template_columns": null,
            "flex": null,
            "_model_name": "LayoutModel",
            "justify_items": null,
            "grid_row": null,
            "max_height": null,
            "align_content": null,
            "visibility": null,
            "align_self": null,
            "height": null,
            "min_height": null,
            "padding": null,
            "grid_auto_rows": null,
            "grid_gap": null,
            "max_width": null,
            "order": null,
            "_view_module_version": "1.2.0",
            "grid_template_areas": null,
            "object_position": null,
            "object_fit": null,
            "grid_auto_columns": null,
            "margin": null,
            "display": null,
            "left": null
          }
        },
        "b646ac4c5ec84ec9b80fbca76ed33a43": {
          "model_module": "@jupyter-widgets/controls",
          "model_name": "HBoxModel",
          "state": {
            "_view_name": "HBoxView",
            "_dom_classes": [],
            "_model_name": "HBoxModel",
            "_view_module": "@jupyter-widgets/controls",
            "_model_module_version": "1.5.0",
            "_view_count": null,
            "_view_module_version": "1.5.0",
            "box_style": "",
            "layout": "IPY_MODEL_06f26eb626834b8d8f21ab105fc855ac",
            "_model_module": "@jupyter-widgets/controls",
            "children": [
              "IPY_MODEL_1c16072efc084393b1e8585dc81f4d52",
              "IPY_MODEL_a2f932d61d5249919945e5059e553ff3"
            ]
          }
        },
        "06f26eb626834b8d8f21ab105fc855ac": {
          "model_module": "@jupyter-widgets/base",
          "model_name": "LayoutModel",
          "state": {
            "_view_name": "LayoutView",
            "grid_template_rows": null,
            "right": null,
            "justify_content": null,
            "_view_module": "@jupyter-widgets/base",
            "overflow": null,
            "_model_module_version": "1.2.0",
            "_view_count": null,
            "flex_flow": null,
            "width": null,
            "min_width": null,
            "border": null,
            "align_items": null,
            "bottom": null,
            "_model_module": "@jupyter-widgets/base",
            "top": null,
            "grid_column": null,
            "overflow_y": null,
            "overflow_x": null,
            "grid_auto_flow": null,
            "grid_area": null,
            "grid_template_columns": null,
            "flex": null,
            "_model_name": "LayoutModel",
            "justify_items": null,
            "grid_row": null,
            "max_height": null,
            "align_content": null,
            "visibility": null,
            "align_self": null,
            "height": null,
            "min_height": null,
            "padding": null,
            "grid_auto_rows": null,
            "grid_gap": null,
            "max_width": null,
            "order": null,
            "_view_module_version": "1.2.0",
            "grid_template_areas": null,
            "object_position": null,
            "object_fit": null,
            "grid_auto_columns": null,
            "margin": null,
            "display": null,
            "left": null
          }
        },
        "1c16072efc084393b1e8585dc81f4d52": {
          "model_module": "@jupyter-widgets/controls",
          "model_name": "FloatProgressModel",
          "state": {
            "_view_name": "ProgressView",
            "style": "IPY_MODEL_3f23455a3dd44164a7a548a2ce10c7e5",
            "_dom_classes": [],
            "description": "100%",
            "_model_name": "FloatProgressModel",
            "bar_style": "success",
            "max": 9742,
            "_view_module": "@jupyter-widgets/controls",
            "_model_module_version": "1.5.0",
            "value": 9742,
            "_view_count": null,
            "_view_module_version": "1.5.0",
            "orientation": "horizontal",
            "min": 0,
            "description_tooltip": null,
            "_model_module": "@jupyter-widgets/controls",
            "layout": "IPY_MODEL_ff9deb8ccd9746d5be0fce4cffcb5254"
          }
        },
        "a2f932d61d5249919945e5059e553ff3": {
          "model_module": "@jupyter-widgets/controls",
          "model_name": "HTMLModel",
          "state": {
            "_view_name": "HTMLView",
            "style": "IPY_MODEL_a22bc0b3908c42dc95ec978f4f4ee3c5",
            "_dom_classes": [],
            "description": "",
            "_model_name": "HTMLModel",
            "placeholder": "​",
            "_view_module": "@jupyter-widgets/controls",
            "_model_module_version": "1.5.0",
            "value": " 9742/9742 [00:02&lt;00:00, 4087.70it/s]",
            "_view_count": null,
            "_view_module_version": "1.5.0",
            "description_tooltip": null,
            "_model_module": "@jupyter-widgets/controls",
            "layout": "IPY_MODEL_4073298a85714929b8786564408fed32"
          }
        },
        "3f23455a3dd44164a7a548a2ce10c7e5": {
          "model_module": "@jupyter-widgets/controls",
          "model_name": "ProgressStyleModel",
          "state": {
            "_view_name": "StyleView",
            "_model_name": "ProgressStyleModel",
            "description_width": "initial",
            "_view_module": "@jupyter-widgets/base",
            "_model_module_version": "1.5.0",
            "_view_count": null,
            "_view_module_version": "1.2.0",
            "bar_color": null,
            "_model_module": "@jupyter-widgets/controls"
          }
        },
        "ff9deb8ccd9746d5be0fce4cffcb5254": {
          "model_module": "@jupyter-widgets/base",
          "model_name": "LayoutModel",
          "state": {
            "_view_name": "LayoutView",
            "grid_template_rows": null,
            "right": null,
            "justify_content": null,
            "_view_module": "@jupyter-widgets/base",
            "overflow": null,
            "_model_module_version": "1.2.0",
            "_view_count": null,
            "flex_flow": null,
            "width": null,
            "min_width": null,
            "border": null,
            "align_items": null,
            "bottom": null,
            "_model_module": "@jupyter-widgets/base",
            "top": null,
            "grid_column": null,
            "overflow_y": null,
            "overflow_x": null,
            "grid_auto_flow": null,
            "grid_area": null,
            "grid_template_columns": null,
            "flex": null,
            "_model_name": "LayoutModel",
            "justify_items": null,
            "grid_row": null,
            "max_height": null,
            "align_content": null,
            "visibility": null,
            "align_self": null,
            "height": null,
            "min_height": null,
            "padding": null,
            "grid_auto_rows": null,
            "grid_gap": null,
            "max_width": null,
            "order": null,
            "_view_module_version": "1.2.0",
            "grid_template_areas": null,
            "object_position": null,
            "object_fit": null,
            "grid_auto_columns": null,
            "margin": null,
            "display": null,
            "left": null
          }
        },
        "a22bc0b3908c42dc95ec978f4f4ee3c5": {
          "model_module": "@jupyter-widgets/controls",
          "model_name": "DescriptionStyleModel",
          "state": {
            "_view_name": "StyleView",
            "_model_name": "DescriptionStyleModel",
            "description_width": "",
            "_view_module": "@jupyter-widgets/base",
            "_model_module_version": "1.5.0",
            "_view_count": null,
            "_view_module_version": "1.2.0",
            "_model_module": "@jupyter-widgets/controls"
          }
        },
        "4073298a85714929b8786564408fed32": {
          "model_module": "@jupyter-widgets/base",
          "model_name": "LayoutModel",
          "state": {
            "_view_name": "LayoutView",
            "grid_template_rows": null,
            "right": null,
            "justify_content": null,
            "_view_module": "@jupyter-widgets/base",
            "overflow": null,
            "_model_module_version": "1.2.0",
            "_view_count": null,
            "flex_flow": null,
            "width": null,
            "min_width": null,
            "border": null,
            "align_items": null,
            "bottom": null,
            "_model_module": "@jupyter-widgets/base",
            "top": null,
            "grid_column": null,
            "overflow_y": null,
            "overflow_x": null,
            "grid_auto_flow": null,
            "grid_area": null,
            "grid_template_columns": null,
            "flex": null,
            "_model_name": "LayoutModel",
            "justify_items": null,
            "grid_row": null,
            "max_height": null,
            "align_content": null,
            "visibility": null,
            "align_self": null,
            "height": null,
            "min_height": null,
            "padding": null,
            "grid_auto_rows": null,
            "grid_gap": null,
            "max_width": null,
            "order": null,
            "_view_module_version": "1.2.0",
            "grid_template_areas": null,
            "object_position": null,
            "object_fit": null,
            "grid_auto_columns": null,
            "margin": null,
            "display": null,
            "left": null
          }
        },
        "ee906d3da4fb407eba490e792aca02fc": {
          "model_module": "@jupyter-widgets/controls",
          "model_name": "HBoxModel",
          "state": {
            "_view_name": "HBoxView",
            "_dom_classes": [],
            "_model_name": "HBoxModel",
            "_view_module": "@jupyter-widgets/controls",
            "_model_module_version": "1.5.0",
            "_view_count": null,
            "_view_module_version": "1.5.0",
            "box_style": "",
            "layout": "IPY_MODEL_5e561625097e4710b60f5a237e65b05a",
            "_model_module": "@jupyter-widgets/controls",
            "children": [
              "IPY_MODEL_9b241e5ef3f24329862e922bc8d091ca",
              "IPY_MODEL_9202727faf1e46c998bf3a3e954f4760"
            ]
          }
        },
        "5e561625097e4710b60f5a237e65b05a": {
          "model_module": "@jupyter-widgets/base",
          "model_name": "LayoutModel",
          "state": {
            "_view_name": "LayoutView",
            "grid_template_rows": null,
            "right": null,
            "justify_content": null,
            "_view_module": "@jupyter-widgets/base",
            "overflow": null,
            "_model_module_version": "1.2.0",
            "_view_count": null,
            "flex_flow": null,
            "width": null,
            "min_width": null,
            "border": null,
            "align_items": null,
            "bottom": null,
            "_model_module": "@jupyter-widgets/base",
            "top": null,
            "grid_column": null,
            "overflow_y": null,
            "overflow_x": null,
            "grid_auto_flow": null,
            "grid_area": null,
            "grid_template_columns": null,
            "flex": null,
            "_model_name": "LayoutModel",
            "justify_items": null,
            "grid_row": null,
            "max_height": null,
            "align_content": null,
            "visibility": null,
            "align_self": null,
            "height": null,
            "min_height": null,
            "padding": null,
            "grid_auto_rows": null,
            "grid_gap": null,
            "max_width": null,
            "order": null,
            "_view_module_version": "1.2.0",
            "grid_template_areas": null,
            "object_position": null,
            "object_fit": null,
            "grid_auto_columns": null,
            "margin": null,
            "display": null,
            "left": null
          }
        },
        "9b241e5ef3f24329862e922bc8d091ca": {
          "model_module": "@jupyter-widgets/controls",
          "model_name": "FloatProgressModel",
          "state": {
            "_view_name": "ProgressView",
            "style": "IPY_MODEL_18266ca9503442df8774064bc81db349",
            "_dom_classes": [],
            "description": "100%",
            "_model_name": "FloatProgressModel",
            "bar_style": "success",
            "max": 9742,
            "_view_module": "@jupyter-widgets/controls",
            "_model_module_version": "1.5.0",
            "value": 9742,
            "_view_count": null,
            "_view_module_version": "1.5.0",
            "orientation": "horizontal",
            "min": 0,
            "description_tooltip": null,
            "_model_module": "@jupyter-widgets/controls",
            "layout": "IPY_MODEL_35a1db3a357c4de8867d11e58f4398a0"
          }
        },
        "9202727faf1e46c998bf3a3e954f4760": {
          "model_module": "@jupyter-widgets/controls",
          "model_name": "HTMLModel",
          "state": {
            "_view_name": "HTMLView",
            "style": "IPY_MODEL_44bfa3dc1e7c4f93bc670477708f4cde",
            "_dom_classes": [],
            "description": "",
            "_model_name": "HTMLModel",
            "placeholder": "​",
            "_view_module": "@jupyter-widgets/controls",
            "_model_module_version": "1.5.0",
            "value": " 9742/9742 [00:03&lt;00:00, 2829.88it/s]",
            "_view_count": null,
            "_view_module_version": "1.5.0",
            "description_tooltip": null,
            "_model_module": "@jupyter-widgets/controls",
            "layout": "IPY_MODEL_a76bb3f541ed43f2a4fe491d564659b4"
          }
        },
        "18266ca9503442df8774064bc81db349": {
          "model_module": "@jupyter-widgets/controls",
          "model_name": "ProgressStyleModel",
          "state": {
            "_view_name": "StyleView",
            "_model_name": "ProgressStyleModel",
            "description_width": "initial",
            "_view_module": "@jupyter-widgets/base",
            "_model_module_version": "1.5.0",
            "_view_count": null,
            "_view_module_version": "1.2.0",
            "bar_color": null,
            "_model_module": "@jupyter-widgets/controls"
          }
        },
        "35a1db3a357c4de8867d11e58f4398a0": {
          "model_module": "@jupyter-widgets/base",
          "model_name": "LayoutModel",
          "state": {
            "_view_name": "LayoutView",
            "grid_template_rows": null,
            "right": null,
            "justify_content": null,
            "_view_module": "@jupyter-widgets/base",
            "overflow": null,
            "_model_module_version": "1.2.0",
            "_view_count": null,
            "flex_flow": null,
            "width": null,
            "min_width": null,
            "border": null,
            "align_items": null,
            "bottom": null,
            "_model_module": "@jupyter-widgets/base",
            "top": null,
            "grid_column": null,
            "overflow_y": null,
            "overflow_x": null,
            "grid_auto_flow": null,
            "grid_area": null,
            "grid_template_columns": null,
            "flex": null,
            "_model_name": "LayoutModel",
            "justify_items": null,
            "grid_row": null,
            "max_height": null,
            "align_content": null,
            "visibility": null,
            "align_self": null,
            "height": null,
            "min_height": null,
            "padding": null,
            "grid_auto_rows": null,
            "grid_gap": null,
            "max_width": null,
            "order": null,
            "_view_module_version": "1.2.0",
            "grid_template_areas": null,
            "object_position": null,
            "object_fit": null,
            "grid_auto_columns": null,
            "margin": null,
            "display": null,
            "left": null
          }
        },
        "44bfa3dc1e7c4f93bc670477708f4cde": {
          "model_module": "@jupyter-widgets/controls",
          "model_name": "DescriptionStyleModel",
          "state": {
            "_view_name": "StyleView",
            "_model_name": "DescriptionStyleModel",
            "description_width": "",
            "_view_module": "@jupyter-widgets/base",
            "_model_module_version": "1.5.0",
            "_view_count": null,
            "_view_module_version": "1.2.0",
            "_model_module": "@jupyter-widgets/controls"
          }
        },
        "a76bb3f541ed43f2a4fe491d564659b4": {
          "model_module": "@jupyter-widgets/base",
          "model_name": "LayoutModel",
          "state": {
            "_view_name": "LayoutView",
            "grid_template_rows": null,
            "right": null,
            "justify_content": null,
            "_view_module": "@jupyter-widgets/base",
            "overflow": null,
            "_model_module_version": "1.2.0",
            "_view_count": null,
            "flex_flow": null,
            "width": null,
            "min_width": null,
            "border": null,
            "align_items": null,
            "bottom": null,
            "_model_module": "@jupyter-widgets/base",
            "top": null,
            "grid_column": null,
            "overflow_y": null,
            "overflow_x": null,
            "grid_auto_flow": null,
            "grid_area": null,
            "grid_template_columns": null,
            "flex": null,
            "_model_name": "LayoutModel",
            "justify_items": null,
            "grid_row": null,
            "max_height": null,
            "align_content": null,
            "visibility": null,
            "align_self": null,
            "height": null,
            "min_height": null,
            "padding": null,
            "grid_auto_rows": null,
            "grid_gap": null,
            "max_width": null,
            "order": null,
            "_view_module_version": "1.2.0",
            "grid_template_areas": null,
            "object_position": null,
            "object_fit": null,
            "grid_auto_columns": null,
            "margin": null,
            "display": null,
            "left": null
          }
        },
        "2a4a9dbc368f421cb7bf2597d34a4b4e": {
          "model_module": "@jupyter-widgets/controls",
          "model_name": "HBoxModel",
          "state": {
            "_view_name": "HBoxView",
            "_dom_classes": [],
            "_model_name": "HBoxModel",
            "_view_module": "@jupyter-widgets/controls",
            "_model_module_version": "1.5.0",
            "_view_count": null,
            "_view_module_version": "1.5.0",
            "box_style": "",
            "layout": "IPY_MODEL_414c90c2212941c1b7913fbf6a059b9c",
            "_model_module": "@jupyter-widgets/controls",
            "children": [
              "IPY_MODEL_ab7d9d4bede94735924cb11e287bd576",
              "IPY_MODEL_d9d3443b5e9f406fb53762423c38c56f"
            ]
          }
        },
        "414c90c2212941c1b7913fbf6a059b9c": {
          "model_module": "@jupyter-widgets/base",
          "model_name": "LayoutModel",
          "state": {
            "_view_name": "LayoutView",
            "grid_template_rows": null,
            "right": null,
            "justify_content": null,
            "_view_module": "@jupyter-widgets/base",
            "overflow": null,
            "_model_module_version": "1.2.0",
            "_view_count": null,
            "flex_flow": null,
            "width": null,
            "min_width": null,
            "border": null,
            "align_items": null,
            "bottom": null,
            "_model_module": "@jupyter-widgets/base",
            "top": null,
            "grid_column": null,
            "overflow_y": null,
            "overflow_x": null,
            "grid_auto_flow": null,
            "grid_area": null,
            "grid_template_columns": null,
            "flex": null,
            "_model_name": "LayoutModel",
            "justify_items": null,
            "grid_row": null,
            "max_height": null,
            "align_content": null,
            "visibility": null,
            "align_self": null,
            "height": null,
            "min_height": null,
            "padding": null,
            "grid_auto_rows": null,
            "grid_gap": null,
            "max_width": null,
            "order": null,
            "_view_module_version": "1.2.0",
            "grid_template_areas": null,
            "object_position": null,
            "object_fit": null,
            "grid_auto_columns": null,
            "margin": null,
            "display": null,
            "left": null
          }
        },
        "ab7d9d4bede94735924cb11e287bd576": {
          "model_module": "@jupyter-widgets/controls",
          "model_name": "FloatProgressModel",
          "state": {
            "_view_name": "ProgressView",
            "style": "IPY_MODEL_b7db783e5ea04e6d9905bce200fa7e9d",
            "_dom_classes": [],
            "description": "100%",
            "_model_name": "FloatProgressModel",
            "bar_style": "success",
            "max": 100836,
            "_view_module": "@jupyter-widgets/controls",
            "_model_module_version": "1.5.0",
            "value": 100836,
            "_view_count": null,
            "_view_module_version": "1.5.0",
            "orientation": "horizontal",
            "min": 0,
            "description_tooltip": null,
            "_model_module": "@jupyter-widgets/controls",
            "layout": "IPY_MODEL_6140ed83562642889cfd59167424d9b3"
          }
        },
        "d9d3443b5e9f406fb53762423c38c56f": {
          "model_module": "@jupyter-widgets/controls",
          "model_name": "HTMLModel",
          "state": {
            "_view_name": "HTMLView",
            "style": "IPY_MODEL_1d1aff391aca409fafa769d50dd9fd0c",
            "_dom_classes": [],
            "description": "",
            "_model_name": "HTMLModel",
            "placeholder": "​",
            "_view_module": "@jupyter-widgets/controls",
            "_model_module_version": "1.5.0",
            "value": " 100836/100836 [00:00&lt;00:00, 106318.16it/s]",
            "_view_count": null,
            "_view_module_version": "1.5.0",
            "description_tooltip": null,
            "_model_module": "@jupyter-widgets/controls",
            "layout": "IPY_MODEL_0f71e742a6c54f91a7ddceb283095c06"
          }
        },
        "b7db783e5ea04e6d9905bce200fa7e9d": {
          "model_module": "@jupyter-widgets/controls",
          "model_name": "ProgressStyleModel",
          "state": {
            "_view_name": "StyleView",
            "_model_name": "ProgressStyleModel",
            "description_width": "initial",
            "_view_module": "@jupyter-widgets/base",
            "_model_module_version": "1.5.0",
            "_view_count": null,
            "_view_module_version": "1.2.0",
            "bar_color": null,
            "_model_module": "@jupyter-widgets/controls"
          }
        },
        "6140ed83562642889cfd59167424d9b3": {
          "model_module": "@jupyter-widgets/base",
          "model_name": "LayoutModel",
          "state": {
            "_view_name": "LayoutView",
            "grid_template_rows": null,
            "right": null,
            "justify_content": null,
            "_view_module": "@jupyter-widgets/base",
            "overflow": null,
            "_model_module_version": "1.2.0",
            "_view_count": null,
            "flex_flow": null,
            "width": null,
            "min_width": null,
            "border": null,
            "align_items": null,
            "bottom": null,
            "_model_module": "@jupyter-widgets/base",
            "top": null,
            "grid_column": null,
            "overflow_y": null,
            "overflow_x": null,
            "grid_auto_flow": null,
            "grid_area": null,
            "grid_template_columns": null,
            "flex": null,
            "_model_name": "LayoutModel",
            "justify_items": null,
            "grid_row": null,
            "max_height": null,
            "align_content": null,
            "visibility": null,
            "align_self": null,
            "height": null,
            "min_height": null,
            "padding": null,
            "grid_auto_rows": null,
            "grid_gap": null,
            "max_width": null,
            "order": null,
            "_view_module_version": "1.2.0",
            "grid_template_areas": null,
            "object_position": null,
            "object_fit": null,
            "grid_auto_columns": null,
            "margin": null,
            "display": null,
            "left": null
          }
        },
        "1d1aff391aca409fafa769d50dd9fd0c": {
          "model_module": "@jupyter-widgets/controls",
          "model_name": "DescriptionStyleModel",
          "state": {
            "_view_name": "StyleView",
            "_model_name": "DescriptionStyleModel",
            "description_width": "",
            "_view_module": "@jupyter-widgets/base",
            "_model_module_version": "1.5.0",
            "_view_count": null,
            "_view_module_version": "1.2.0",
            "_model_module": "@jupyter-widgets/controls"
          }
        },
        "0f71e742a6c54f91a7ddceb283095c06": {
          "model_module": "@jupyter-widgets/base",
          "model_name": "LayoutModel",
          "state": {
            "_view_name": "LayoutView",
            "grid_template_rows": null,
            "right": null,
            "justify_content": null,
            "_view_module": "@jupyter-widgets/base",
            "overflow": null,
            "_model_module_version": "1.2.0",
            "_view_count": null,
            "flex_flow": null,
            "width": null,
            "min_width": null,
            "border": null,
            "align_items": null,
            "bottom": null,
            "_model_module": "@jupyter-widgets/base",
            "top": null,
            "grid_column": null,
            "overflow_y": null,
            "overflow_x": null,
            "grid_auto_flow": null,
            "grid_area": null,
            "grid_template_columns": null,
            "flex": null,
            "_model_name": "LayoutModel",
            "justify_items": null,
            "grid_row": null,
            "max_height": null,
            "align_content": null,
            "visibility": null,
            "align_self": null,
            "height": null,
            "min_height": null,
            "padding": null,
            "grid_auto_rows": null,
            "grid_gap": null,
            "max_width": null,
            "order": null,
            "_view_module_version": "1.2.0",
            "grid_template_areas": null,
            "object_position": null,
            "object_fit": null,
            "grid_auto_columns": null,
            "margin": null,
            "display": null,
            "left": null
          }
        },
        "a382e902845f4d2d9c60e0199383fcc5": {
          "model_module": "@jupyter-widgets/controls",
          "model_name": "HBoxModel",
          "state": {
            "_view_name": "HBoxView",
            "_dom_classes": [],
            "_model_name": "HBoxModel",
            "_view_module": "@jupyter-widgets/controls",
            "_model_module_version": "1.5.0",
            "_view_count": null,
            "_view_module_version": "1.5.0",
            "box_style": "",
            "layout": "IPY_MODEL_5ea38c1b8a784809b0fd8d9406a0404d",
            "_model_module": "@jupyter-widgets/controls",
            "children": [
              "IPY_MODEL_e5a5264b503942108e0230cd3f1ec374",
              "IPY_MODEL_0e7ae825ae8f45899586a1a91642dda5"
            ]
          }
        },
        "5ea38c1b8a784809b0fd8d9406a0404d": {
          "model_module": "@jupyter-widgets/base",
          "model_name": "LayoutModel",
          "state": {
            "_view_name": "LayoutView",
            "grid_template_rows": null,
            "right": null,
            "justify_content": null,
            "_view_module": "@jupyter-widgets/base",
            "overflow": null,
            "_model_module_version": "1.2.0",
            "_view_count": null,
            "flex_flow": null,
            "width": null,
            "min_width": null,
            "border": null,
            "align_items": null,
            "bottom": null,
            "_model_module": "@jupyter-widgets/base",
            "top": null,
            "grid_column": null,
            "overflow_y": null,
            "overflow_x": null,
            "grid_auto_flow": null,
            "grid_area": null,
            "grid_template_columns": null,
            "flex": null,
            "_model_name": "LayoutModel",
            "justify_items": null,
            "grid_row": null,
            "max_height": null,
            "align_content": null,
            "visibility": null,
            "align_self": null,
            "height": null,
            "min_height": null,
            "padding": null,
            "grid_auto_rows": null,
            "grid_gap": null,
            "max_width": null,
            "order": null,
            "_view_module_version": "1.2.0",
            "grid_template_areas": null,
            "object_position": null,
            "object_fit": null,
            "grid_auto_columns": null,
            "margin": null,
            "display": null,
            "left": null
          }
        },
        "e5a5264b503942108e0230cd3f1ec374": {
          "model_module": "@jupyter-widgets/controls",
          "model_name": "FloatProgressModel",
          "state": {
            "_view_name": "ProgressView",
            "style": "IPY_MODEL_6987d343734a4a05b292a9d54a3bfa72",
            "_dom_classes": [],
            "description": "100%",
            "_model_name": "FloatProgressModel",
            "bar_style": "success",
            "max": 100836,
            "_view_module": "@jupyter-widgets/controls",
            "_model_module_version": "1.5.0",
            "value": 100836,
            "_view_count": null,
            "_view_module_version": "1.5.0",
            "orientation": "horizontal",
            "min": 0,
            "description_tooltip": null,
            "_model_module": "@jupyter-widgets/controls",
            "layout": "IPY_MODEL_56b15b783f33485b9f0dc7a05eba72a8"
          }
        },
        "0e7ae825ae8f45899586a1a91642dda5": {
          "model_module": "@jupyter-widgets/controls",
          "model_name": "HTMLModel",
          "state": {
            "_view_name": "HTMLView",
            "style": "IPY_MODEL_d468755bef384dfe82c50d9e6bf84429",
            "_dom_classes": [],
            "description": "",
            "_model_name": "HTMLModel",
            "placeholder": "​",
            "_view_module": "@jupyter-widgets/controls",
            "_model_module_version": "1.5.0",
            "value": " 100836/100836 [06:05&lt;00:00, 275.91it/s]",
            "_view_count": null,
            "_view_module_version": "1.5.0",
            "description_tooltip": null,
            "_model_module": "@jupyter-widgets/controls",
            "layout": "IPY_MODEL_3a6df264b0c94435944aaa6a983ec1e8"
          }
        },
        "6987d343734a4a05b292a9d54a3bfa72": {
          "model_module": "@jupyter-widgets/controls",
          "model_name": "ProgressStyleModel",
          "state": {
            "_view_name": "StyleView",
            "_model_name": "ProgressStyleModel",
            "description_width": "initial",
            "_view_module": "@jupyter-widgets/base",
            "_model_module_version": "1.5.0",
            "_view_count": null,
            "_view_module_version": "1.2.0",
            "bar_color": null,
            "_model_module": "@jupyter-widgets/controls"
          }
        },
        "56b15b783f33485b9f0dc7a05eba72a8": {
          "model_module": "@jupyter-widgets/base",
          "model_name": "LayoutModel",
          "state": {
            "_view_name": "LayoutView",
            "grid_template_rows": null,
            "right": null,
            "justify_content": null,
            "_view_module": "@jupyter-widgets/base",
            "overflow": null,
            "_model_module_version": "1.2.0",
            "_view_count": null,
            "flex_flow": null,
            "width": null,
            "min_width": null,
            "border": null,
            "align_items": null,
            "bottom": null,
            "_model_module": "@jupyter-widgets/base",
            "top": null,
            "grid_column": null,
            "overflow_y": null,
            "overflow_x": null,
            "grid_auto_flow": null,
            "grid_area": null,
            "grid_template_columns": null,
            "flex": null,
            "_model_name": "LayoutModel",
            "justify_items": null,
            "grid_row": null,
            "max_height": null,
            "align_content": null,
            "visibility": null,
            "align_self": null,
            "height": null,
            "min_height": null,
            "padding": null,
            "grid_auto_rows": null,
            "grid_gap": null,
            "max_width": null,
            "order": null,
            "_view_module_version": "1.2.0",
            "grid_template_areas": null,
            "object_position": null,
            "object_fit": null,
            "grid_auto_columns": null,
            "margin": null,
            "display": null,
            "left": null
          }
        },
        "d468755bef384dfe82c50d9e6bf84429": {
          "model_module": "@jupyter-widgets/controls",
          "model_name": "DescriptionStyleModel",
          "state": {
            "_view_name": "StyleView",
            "_model_name": "DescriptionStyleModel",
            "description_width": "",
            "_view_module": "@jupyter-widgets/base",
            "_model_module_version": "1.5.0",
            "_view_count": null,
            "_view_module_version": "1.2.0",
            "_model_module": "@jupyter-widgets/controls"
          }
        },
        "3a6df264b0c94435944aaa6a983ec1e8": {
          "model_module": "@jupyter-widgets/base",
          "model_name": "LayoutModel",
          "state": {
            "_view_name": "LayoutView",
            "grid_template_rows": null,
            "right": null,
            "justify_content": null,
            "_view_module": "@jupyter-widgets/base",
            "overflow": null,
            "_model_module_version": "1.2.0",
            "_view_count": null,
            "flex_flow": null,
            "width": null,
            "min_width": null,
            "border": null,
            "align_items": null,
            "bottom": null,
            "_model_module": "@jupyter-widgets/base",
            "top": null,
            "grid_column": null,
            "overflow_y": null,
            "overflow_x": null,
            "grid_auto_flow": null,
            "grid_area": null,
            "grid_template_columns": null,
            "flex": null,
            "_model_name": "LayoutModel",
            "justify_items": null,
            "grid_row": null,
            "max_height": null,
            "align_content": null,
            "visibility": null,
            "align_self": null,
            "height": null,
            "min_height": null,
            "padding": null,
            "grid_auto_rows": null,
            "grid_gap": null,
            "max_width": null,
            "order": null,
            "_view_module_version": "1.2.0",
            "grid_template_areas": null,
            "object_position": null,
            "object_fit": null,
            "grid_auto_columns": null,
            "margin": null,
            "display": null,
            "left": null
          }
        }
      }
    },
    "accelerator": "GPU"
  },
  "cells": [
    {
      "cell_type": "markdown",
      "metadata": {
        "id": "ETT_jzyCslQd"
      },
      "source": [
        "# Torch-FM을 통해 Factorization Machine 이해하기\n",
        "\n",
        "## Reference\n",
        "    * Paper\n",
        "      https://www.csie.ntu.edu.tw/~b97053/paper/Rendle2010FM.pdf\n",
        "    * well-formed paper description\n",
        "      https://www.jefkine.com/recsys/2017/03/27/factorization-machines/\n",
        "    * Torch-FM package\n",
        "      https://github.com/rixwew/pytorch-fm\n",
        "    * implementation and additional reference by pytorch\n",
        "      https://www.kaggle.com/gennadylaptev/factorization-machine-implemented-in-pytorch\n",
        "\n",
        "\n"
      ]
    },
    {
      "cell_type": "code",
      "metadata": {
        "colab": {
          "base_uri": "https://localhost:8080/"
        },
        "id": "VCEgaiH2mbi6",
        "outputId": "e26cb41e-02f9-4452-d69f-4bebcc7ed5ca"
      },
      "source": [
        "from google.colab import drive\n",
        "drive.mount(\"/gdrive\")"
      ],
      "execution_count": 5,
      "outputs": [
        {
          "output_type": "stream",
          "text": [
            "Mounted at /gdrive\n"
          ],
          "name": "stdout"
        }
      ]
    },
    {
      "cell_type": "markdown",
      "metadata": {
        "id": "sOivF7fotiJ3"
      },
      "source": [
        "## Torch-FM example implementation (using movie-lens 1M dataset)"
      ]
    },
    {
      "cell_type": "code",
      "metadata": {
        "colab": {
          "base_uri": "https://localhost:8080/"
        },
        "id": "hXkqfSBCtUAN",
        "outputId": "68293fec-08fc-4aaa-f983-a47ae832f0a1"
      },
      "source": [
        "ls -l /gdrive/MyDrive/colab/Factorization_Machine/data/"
      ],
      "execution_count": 6,
      "outputs": [
        {
          "output_type": "stream",
          "text": [
            "total 18934\n",
            "-rw------- 1 root root   197979 Nov 19 04:30 links.csv\n",
            "-rw------- 1 root root   494431 Nov 24 01:17 movies.csv\n",
            "-rw------- 1 root root  2483723 Nov 24 01:17 ratings.csv\n",
            "-rw------- 1 root root   118660 Nov 19 04:30 tags.csv\n",
            "-rw------- 1 root root   238833 Dec  2 08:50 tag_tokenizer_bpe_100.model\n",
            "-rw------- 1 root root      672 Dec  2 08:50 tag_tokenizer_bpe_100.vocab\n",
            "-rw------- 1 root root   370999 Nov 27 05:52 tag_tokenizer_bpe_9000.model\n",
            "-rw------- 1 root root   114127 Nov 27 05:52 tag_tokenizer_bpe_9000.vocab\n",
            "-rw------- 1 root root   271684 Dec  2 08:50 tag_tokenizer_input_bpe_100.txt\n",
            "-rw------- 1 root root   236678 Nov 27 05:52 tag_tokenizer_input_bpe_24000.txt\n",
            "-rw------- 1 root root   271684 Nov 27 05:57 tag_tokenizer_input_bpe_9000.txt\n",
            "-rw------- 1 root root   276874 Dec  2 08:50 tag_w2v_bpe_100.model\n",
            "-rw------- 1 root root   613252 Dec  2 08:50 title_tokenizer_bpe_24000.model\n",
            "-rw------- 1 root root   340369 Dec  2 08:50 title_tokenizer_bpe_24000.vocab\n",
            "-rw------- 1 root root   193941 Dec  2 08:50 title_tokenizer_input_bpe_24000.txt\n",
            "-rw------- 1 root root 13161326 Dec  2 08:50 title_w2v_bpe_24000.model\n",
            "-rw------- 1 root root        0 Nov 27 08:43 X_data.npy\n"
          ],
          "name": "stdout"
        }
      ]
    },
    {
      "cell_type": "code",
      "metadata": {
        "id": "im5jYGUZuBos"
      },
      "source": [
        "import pandas as pd\n",
        "import numpy as np\n",
        "import torch\n",
        "import torch.nn as nn"
      ],
      "execution_count": 7,
      "outputs": []
    },
    {
      "cell_type": "code",
      "metadata": {
        "id": "6t1SpuJEtT3y"
      },
      "source": [
        "dataset_name=\"movielens1M\"\n",
        "dataset_path = \"/gdrive/MyDrive/colab/Factorization_Machine/data/ratings.csv\"\n",
        "model_name='fm'\n",
        "epoch=100\n",
        "learning_rate=0.001\n",
        "batch_size=2048\n",
        "weight_decay=1e-6\n",
        "device = \"cuda:0\""
      ],
      "execution_count": 8,
      "outputs": []
    },
    {
      "cell_type": "code",
      "metadata": {
        "colab": {
          "base_uri": "https://localhost:8080/"
        },
        "id": "1Cnyk4Rottof",
        "outputId": "e10f5b76-6fb6-4018-c8f7-24cb1de27a93"
      },
      "source": [
        "data = pd.read_csv(dataset_path, sep=\",\", engine=\"python\", header=None)\n",
        "data = data.to_numpy()[:, :3]\n",
        "data"
      ],
      "execution_count": 9,
      "outputs": [
        {
          "output_type": "execute_result",
          "data": {
            "text/plain": [
              "array([['userId', 'movieId', 'rating'],\n",
              "       ['1', '1', '4.0'],\n",
              "       ['1', '3', '4.0'],\n",
              "       ...,\n",
              "       ['610', '168250', '5.0'],\n",
              "       ['610', '168252', '5.0'],\n",
              "       ['610', '170875', '3.0']], dtype=object)"
            ]
          },
          "metadata": {
            "tags": []
          },
          "execution_count": 9
        }
      ]
    },
    {
      "cell_type": "code",
      "metadata": {
        "id": "6uzOSVaGufQm"
      },
      "source": [
        "import numpy as np\n",
        "import pandas as pd\n",
        "import torch.utils.data\n",
        "\n",
        "\n",
        "class MovieLens20MDataset(torch.utils.data.Dataset):\n",
        "    \"\"\"\n",
        "    MovieLens 20M Dataset\n",
        "\n",
        "    Data preparation\n",
        "        treat samples with a rating less than 3 as negative samples\n",
        "        3점 이하의 평가에 대해서는 0(negative sample)로 활용\n",
        "\n",
        "    :param dataset_path: MovieLens dataset path\n",
        "\n",
        "    Reference:\n",
        "        https://grouplens.org/datasets/movielens\n",
        "    \"\"\"\n",
        "\n",
        "    def __init__(self, dataset_path, sep=',', engine='c', header='infer'):\n",
        "        data = pd.read_csv(dataset_path, sep=sep, engine=engine, header=header).to_numpy()[:, :3]\n",
        "        self.items = data[:, :2].astype(np.int) - 1  # -1 because ID begins from 1\n",
        "        self.targets = self.__preprocess_target(data[:, 2]).astype(np.float32)\n",
        "        self.field_dims = np.max(self.items, axis=0) + 1\n",
        "        self.user_field_idx = np.array((0, ), dtype=np.long)\n",
        "        self.item_field_idx = np.array((1,), dtype=np.long)\n",
        "\n",
        "    def __len__(self):\n",
        "        return self.targets.shape[0]\n",
        "\n",
        "    def __getitem__(self, index):\n",
        "        return self.items[index], self.targets[index]\n",
        "\n",
        "    def __preprocess_target(self, target):\n",
        "        target[target <= 3] = 0\n",
        "        target[target > 3] = 1\n",
        "        return target\n",
        "\n",
        "\n",
        "class MovieLens1MDataset(MovieLens20MDataset):\n",
        "    \"\"\"\n",
        "    MovieLens 1M Dataset\n",
        "\n",
        "    Data preparation\n",
        "        treat samples with a rating less than 3 as negative samples\n",
        "\n",
        "    :param dataset_path: MovieLens dataset path\n",
        "\n",
        "    Reference:\n",
        "        https://grouplens.org/datasets/movielens\n",
        "    \"\"\"\n",
        "\n",
        "    def __init__(self, dataset_path):\n",
        "        super().__init__(dataset_path, sep=',', engine='python', header=0)\n"
      ],
      "execution_count": 10,
      "outputs": []
    },
    {
      "cell_type": "code",
      "metadata": {
        "id": "kFcr3GCFt6Y8"
      },
      "source": [
        "def get_dataset(name, path):\n",
        "    if name == 'movielens1M':\n",
        "        return MovieLens1MDataset(path)\n",
        "    elif name == 'movielens20M':\n",
        "        return MovieLens20MDataset(path)\n",
        "    elif name == 'criteo':\n",
        "        return CriteoDataset(path)\n",
        "    elif name == 'avazu':\n",
        "        return AvazuDataset(path)\n",
        "    else:\n",
        "        raise ValueError('unknown dataset name: ' + name)"
      ],
      "execution_count": 11,
      "outputs": []
    },
    {
      "cell_type": "code",
      "metadata": {
        "id": "izNcXb9ZttmC"
      },
      "source": [
        "device = torch.device(device)\n",
        "dataset = get_dataset(dataset_name, dataset_path)\n",
        "train_length = int(len(dataset) * 0.8)\n",
        "valid_length = int(len(dataset) * 0.1)\n",
        "test_length = len(dataset) - train_length - valid_length\n",
        "train_dataset, valid_dataset, test_dataset = torch.utils.data.random_split(\n",
        "    dataset, (train_length, valid_length, test_length))"
      ],
      "execution_count": 12,
      "outputs": []
    },
    {
      "cell_type": "code",
      "metadata": {
        "id": "5b-sgHJlttkB"
      },
      "source": [
        "from torch.utils.data import DataLoader\n",
        "\n",
        "train_data_loader = DataLoader(train_dataset, batch_size=batch_size, num_workers=8)\n",
        "valid_data_loader = DataLoader(valid_dataset, batch_size=batch_size, num_workers=8)\n",
        "test_data_loader = DataLoader(test_dataset, batch_size=batch_size, num_workers=8)"
      ],
      "execution_count": 13,
      "outputs": []
    },
    {
      "cell_type": "code",
      "metadata": {
        "colab": {
          "base_uri": "https://localhost:8080/"
        },
        "id": "QRv3p3B53ou9",
        "outputId": "2cfca527-5281-4e4e-cf97-5a4b65c09452"
      },
      "source": [
        "dataset.field_dims"
      ],
      "execution_count": 14,
      "outputs": [
        {
          "output_type": "execute_result",
          "data": {
            "text/plain": [
              "array([   610, 193609])"
            ]
          },
          "metadata": {
            "tags": []
          },
          "execution_count": 14
        }
      ]
    },
    {
      "cell_type": "code",
      "metadata": {
        "id": "944AvrQD3qCz"
      },
      "source": [
        "iteration = iter(train_data_loader)\n",
        "data = next(iteration)"
      ],
      "execution_count": 15,
      "outputs": []
    },
    {
      "cell_type": "code",
      "metadata": {
        "colab": {
          "base_uri": "https://localhost:8080/"
        },
        "id": "6WULG8mY3r03",
        "outputId": "f2bc4bac-b840-4dd8-de8f-96947624da52"
      },
      "source": [
        "data"
      ],
      "execution_count": 16,
      "outputs": [
        {
          "output_type": "execute_result",
          "data": {
            "text/plain": [
              "[tensor([[ 476,  718],\n",
              "         [ 390,  626],\n",
              "         [ 159,  433],\n",
              "         ...,\n",
              "         [ 176, 3881],\n",
              "         [ 170,  918],\n",
              "         [ 216, 2612]]), tensor([1., 1., 0.,  ..., 0., 1., 0.])]"
            ]
          },
          "metadata": {
            "tags": []
          },
          "execution_count": 16
        }
      ]
    },
    {
      "cell_type": "markdown",
      "metadata": {
        "id": "omZqZYpZvaTx"
      },
      "source": [
        "### Torch-FM code 분해 및 실행\n",
        "\n",
        "#### fm.py\n",
        "\n",
        "**FactorizationMachineModel**: Factorization Machine의 전반적인 실행을 위한 클래스"
      ]
    },
    {
      "cell_type": "code",
      "metadata": {
        "id": "LJQAPOZuttay"
      },
      "source": [
        "import torch\n",
        "\n",
        "# from torchfm.layer import FactorizationMachine, FeaturesEmbedding, FeaturesLinear\n",
        "\n",
        "\n",
        "class FactorizationMachineModel(torch.nn.Module):\n",
        "    \"\"\"\n",
        "    A pytorch implementation of Factorization Machine.\n",
        "\n",
        "    Reference:\n",
        "        S Rendle, Factorization Machines, 2010.\n",
        "    \"\"\"\n",
        "\n",
        "    def __init__(self, field_dims, embed_dim):\n",
        "        super().__init__()\n",
        "        # user_id와 movie_id value에 대해 각각 embed_dim[K] 만큼의 공간으로 축소하고\n",
        "        # [Batchsize, num(factors[user_id,movie_id]),embed_dim] 형태로 return \n",
        "        self.embedding = FeaturesEmbedding(field_dims, embed_dim)\n",
        "        # user_id와 movie_id value에 대해 각각 embed_dim[K] 만큼의 공간으로 축소하고 각 element 간에 합\n",
        "        self.linear = FeaturesLinear(field_dims)\n",
        "        # embedding 과 linear 값을 활용하여 Factorization Machine의 정의된 식 수행\n",
        "        self.fm = FactorizationMachine(reduce_sum=True)\n",
        "\n",
        "    def forward(self, x):\n",
        "        \"\"\"\n",
        "        :param x: Long tensor of size ``(batch_size, num_fields)``\n",
        "        \"\"\"\n",
        "        x = self.linear(x) + self.fm(self.embedding(x))\n",
        "        return torch.sigmoid(x.squeeze(1))\n"
      ],
      "execution_count": 17,
      "outputs": []
    },
    {
      "cell_type": "markdown",
      "metadata": {
        "id": "iobcsbKawheF"
      },
      "source": [
        "#### layer.py\n",
        "\n",
        "**FeaturesLinear**: 각 user_id, movie_id를 embed_factor(K)에 대해 embedding하고 하나의 차원으로 결합\n",
        "\n",
        "**FeaturesEmbedding**: 각 user_id, movie_id를 embed_factor(K)에 대해 embedding\n",
        "\n",
        "**FactorizationMachine**: Paper에서 언급되는 $\\hat{y}$에 대한 식으로 layer들을 활용하여 결과를 return \n"
      ]
    },
    {
      "cell_type": "code",
      "metadata": {
        "id": "ypsB4dvytTe4"
      },
      "source": [
        "class FeaturesLinear(torch.nn.Module):\n",
        "\n",
        "    # field_dims = [610, 193609] in movielens 1M dataset\n",
        "    def __init__(self, field_dims, output_dim=1):\n",
        "        super().__init__()\n",
        "        # user_id와 movie_id를 하나의 평면에 embedding 후 return output_dim\n",
        "        self.fc = torch.nn.Embedding(sum(field_dims), output_dim)\n",
        "        # w_0 가중치 in paper\n",
        "        self.bias = torch.nn.Parameter(torch.zeros((output_dim,)))\n",
        "        # offset을 더하는 이유는 하나의 평면에 나타냄에 있어서 movie_id가 1부터 값이 시작되어, \n",
        "        # max(user_id) + movie_id 함으로써 하나의 독자적인 값으로 나타내기 위함.\n",
        "        self.offsets = np.array((0, *np.cumsum(field_dims)[:-1]), dtype=np.long)\n",
        "\n",
        "    def forward(self, x):\n",
        "        \"\"\"\n",
        "        :param x: Long tensor of size ``(batch_size, num_fields)``\n",
        "        \"\"\"\n",
        "        x = x + x.new_tensor(self.offsets).unsqueeze(0)\n",
        "        # w_1, * x_1 + w_2 * x_2함으로써 각각의 변수에 대한 개별 weight에 global weight(w_0[bias])를 더함.\n",
        "        return torch.sum(self.fc(x), dim=1) + self.bias\n",
        "\n",
        "\n",
        "class FeaturesEmbedding(torch.nn.Module):\n",
        "\n",
        "    # field_dims = [610, 193609] in movielens 1M dataset\n",
        "    def __init__(self, field_dims, embed_dim):\n",
        "        super().__init__()\n",
        "        self.embedding = torch.nn.Embedding(sum(field_dims), embed_dim)\n",
        "        self.offsets = np.array((0, *np.cumsum(field_dims)[:-1]), dtype=np.long)\n",
        "        torch.nn.init.xavier_uniform_(self.embedding.weight.data)\n",
        "\n",
        "    def forward(self, x):\n",
        "        \"\"\"\n",
        "        :param x: Long tensor of size ``(batch_size, num_fields)``\n",
        "        \"\"\"\n",
        "        x = x + x.new_tensor(self.offsets).unsqueeze(0)\n",
        "        # [Batchsize, num_features, embed_dim]의 형태로 return\n",
        "        return self.embedding(x)\n",
        "\n",
        "# 논문에서 예측값 y를 구하기 위한 수식으로 계산하여 return\n",
        "class FactorizationMachine(torch.nn.Module):\n",
        "\n",
        "  def __init__(self, reduce_sum=True):\n",
        "      super().__init__()\n",
        "      self.reduce_sum = reduce_sum\n",
        "\n",
        "  def forward(self, x):\n",
        "      \"\"\"\n",
        "      :param x: Float tensor of size ``(batch_size, num_fields, embed_dim)``\n",
        "      \"\"\"\n",
        "      square_of_sum = torch.sum(x, dim=1) ** 2\n",
        "      sum_of_square = torch.sum(x ** 2, dim=1)\n",
        "      ix = square_of_sum - sum_of_square\n",
        "      if self.reduce_sum:\n",
        "          ix = torch.sum(ix, dim=1, keepdim=True)\n",
        "      return 0.5 * ix"
      ],
      "execution_count": 18,
      "outputs": []
    },
    {
      "cell_type": "markdown",
      "metadata": {
        "id": "dmS4SaBG3fwQ"
      },
      "source": [
        "#### 실행\n",
        "\n",
        "**FeaturesLinear**"
      ]
    },
    {
      "cell_type": "code",
      "metadata": {
        "id": "1B5wwbmi3lLR"
      },
      "source": [
        "fc = torch.nn.Embedding(sum(dataset.field_dims),1)\n",
        "bias = torch.nn.Parameter(torch.zeros(1,))\n",
        "offset = np.array((0, *np.cumsum(dataset.field_dims)[:-1]), dtype=np.long)"
      ],
      "execution_count": 19,
      "outputs": []
    },
    {
      "cell_type": "code",
      "metadata": {
        "id": "G8EwkDIP3vpa"
      },
      "source": [
        "x = data[0] + data[0].new_tensor(offset).unsqueeze(0)"
      ],
      "execution_count": 20,
      "outputs": []
    },
    {
      "cell_type": "code",
      "metadata": {
        "colab": {
          "base_uri": "https://localhost:8080/"
        },
        "id": "ksqlzuVcihoU",
        "outputId": "67f530ca-edca-4bf4-ad3b-26e8f0527fc0"
      },
      "source": [
        "x"
      ],
      "execution_count": 21,
      "outputs": [
        {
          "output_type": "execute_result",
          "data": {
            "text/plain": [
              "tensor([[ 476, 1328],\n",
              "        [ 390, 1236],\n",
              "        [ 159, 1043],\n",
              "        ...,\n",
              "        [ 176, 4491],\n",
              "        [ 170, 1528],\n",
              "        [ 216, 3222]])"
            ]
          },
          "metadata": {
            "tags": []
          },
          "execution_count": 21
        }
      ]
    },
    {
      "cell_type": "code",
      "metadata": {
        "colab": {
          "base_uri": "https://localhost:8080/"
        },
        "id": "b3Tqmi_532Kt",
        "outputId": "f8b063cc-e204-42f5-f1d0-eadf1b92c14a"
      },
      "source": [
        "fc(x)[0]"
      ],
      "execution_count": 22,
      "outputs": [
        {
          "output_type": "execute_result",
          "data": {
            "text/plain": [
              "tensor([[-0.2567],\n",
              "        [-0.2031]], grad_fn=<SelectBackward>)"
            ]
          },
          "metadata": {
            "tags": []
          },
          "execution_count": 22
        }
      ]
    },
    {
      "cell_type": "code",
      "metadata": {
        "colab": {
          "base_uri": "https://localhost:8080/"
        },
        "id": "8f7ue0ul36UG",
        "outputId": "1b0fc1ee-3067-4536-f8ff-7eb2983815aa"
      },
      "source": [
        "torch.sum(fc(x),dim=1)"
      ],
      "execution_count": 23,
      "outputs": [
        {
          "output_type": "execute_result",
          "data": {
            "text/plain": [
              "tensor([[-0.4598],\n",
              "        [ 0.7592],\n",
              "        [ 0.2795],\n",
              "        ...,\n",
              "        [-1.7006],\n",
              "        [ 1.3819],\n",
              "        [-0.9437]], grad_fn=<SumBackward1>)"
            ]
          },
          "metadata": {
            "tags": []
          },
          "execution_count": 23
        }
      ]
    },
    {
      "cell_type": "code",
      "metadata": {
        "colab": {
          "base_uri": "https://localhost:8080/"
        },
        "id": "F1dps2g0jgeg",
        "outputId": "58dd4046-7392-4297-8ee4-404b8c91cdea"
      },
      "source": [
        "bias"
      ],
      "execution_count": 24,
      "outputs": [
        {
          "output_type": "execute_result",
          "data": {
            "text/plain": [
              "Parameter containing:\n",
              "tensor([0.], requires_grad=True)"
            ]
          },
          "metadata": {
            "tags": []
          },
          "execution_count": 24
        }
      ]
    },
    {
      "cell_type": "code",
      "metadata": {
        "id": "eYyDyKYk38AY"
      },
      "source": [
        "linear = torch.sum(fc(x),dim=1) + bias"
      ],
      "execution_count": 25,
      "outputs": []
    },
    {
      "cell_type": "code",
      "metadata": {
        "colab": {
          "base_uri": "https://localhost:8080/"
        },
        "id": "Q5sZY4pI39dv",
        "outputId": "65fb1560-e17c-4131-f828-aadc56f691ed"
      },
      "source": [
        "linear"
      ],
      "execution_count": 26,
      "outputs": [
        {
          "output_type": "execute_result",
          "data": {
            "text/plain": [
              "tensor([[-0.4598],\n",
              "        [ 0.7592],\n",
              "        [ 0.2795],\n",
              "        ...,\n",
              "        [-1.7006],\n",
              "        [ 1.3819],\n",
              "        [-0.9437]], grad_fn=<AddBackward0>)"
            ]
          },
          "metadata": {
            "tags": []
          },
          "execution_count": 26
        }
      ]
    },
    {
      "cell_type": "markdown",
      "metadata": {
        "id": "7v6moBKR3_JN"
      },
      "source": [
        "****FeaturesEmbedding****"
      ]
    },
    {
      "cell_type": "code",
      "metadata": {
        "colab": {
          "base_uri": "https://localhost:8080/"
        },
        "id": "KAYJyVjK4F5l",
        "outputId": "4e710a4e-f151-4e5b-fbda-d6bdfe205557"
      },
      "source": [
        "embedding = torch.nn.Embedding(sum(dataset.field_dims),10)\n",
        "offset = np.array((0, *np.cumsum(dataset.field_dims)[:-1]), dtype=np.long)\n",
        "torch.nn.init.xavier_uniform_(embedding.weight.data)"
      ],
      "execution_count": 27,
      "outputs": [
        {
          "output_type": "execute_result",
          "data": {
            "text/plain": [
              "tensor([[ 5.3183e-03, -1.1961e-03,  1.1713e-03,  ...,  3.7749e-03,\n",
              "          4.1679e-03,  5.8854e-05],\n",
              "        [ 5.3265e-03, -4.0027e-03, -4.9159e-03,  ..., -1.9543e-03,\n",
              "          6.7552e-04, -4.6610e-03],\n",
              "        [-4.8780e-03,  4.5811e-03, -6.1216e-04,  ...,  1.7505e-03,\n",
              "         -2.8687e-03,  5.2091e-03],\n",
              "        ...,\n",
              "        [ 4.0407e-03,  1.3689e-03, -4.3206e-03,  ...,  5.0463e-03,\n",
              "         -3.2445e-03, -4.8421e-03],\n",
              "        [-1.2726e-03, -4.3821e-03, -1.8227e-03,  ...,  2.1791e-03,\n",
              "         -1.5528e-03, -1.9600e-03],\n",
              "        [-2.7503e-03, -4.6916e-04,  1.3243e-04,  ..., -4.6380e-03,\n",
              "          5.4561e-04, -4.0896e-03]])"
            ]
          },
          "metadata": {
            "tags": []
          },
          "execution_count": 27
        }
      ]
    },
    {
      "cell_type": "code",
      "metadata": {
        "colab": {
          "base_uri": "https://localhost:8080/"
        },
        "id": "Iegshe2C4Kaj",
        "outputId": "b5582bd4-a53f-4258-b89a-8370e9506f74"
      },
      "source": [
        "x = data[0] + data[0].new_tensor(offset).unsqueeze(0)\n",
        "x"
      ],
      "execution_count": 28,
      "outputs": [
        {
          "output_type": "execute_result",
          "data": {
            "text/plain": [
              "tensor([[ 476, 1328],\n",
              "        [ 390, 1236],\n",
              "        [ 159, 1043],\n",
              "        ...,\n",
              "        [ 176, 4491],\n",
              "        [ 170, 1528],\n",
              "        [ 216, 3222]])"
            ]
          },
          "metadata": {
            "tags": []
          },
          "execution_count": 28
        }
      ]
    },
    {
      "cell_type": "code",
      "metadata": {
        "id": "0tRg_H1l4Og1"
      },
      "source": [
        "embed = embedding(x)"
      ],
      "execution_count": 29,
      "outputs": []
    },
    {
      "cell_type": "code",
      "metadata": {
        "colab": {
          "base_uri": "https://localhost:8080/"
        },
        "id": "eKZEt8nP4Qrm",
        "outputId": "f57cb93e-6aa2-46ee-c07c-8c88a8c52445"
      },
      "source": [
        "embed[0]"
      ],
      "execution_count": 30,
      "outputs": [
        {
          "output_type": "execute_result",
          "data": {
            "text/plain": [
              "tensor([[-0.0014,  0.0007,  0.0025,  0.0017,  0.0022, -0.0002, -0.0045, -0.0014,\n",
              "         -0.0014, -0.0006],\n",
              "        [-0.0013, -0.0026,  0.0015, -0.0021,  0.0055, -0.0029, -0.0031,  0.0034,\n",
              "          0.0037,  0.0035]], grad_fn=<SelectBackward>)"
            ]
          },
          "metadata": {
            "tags": []
          },
          "execution_count": 30
        }
      ]
    },
    {
      "cell_type": "markdown",
      "metadata": {
        "id": "R3RShwVf4VPi"
      },
      "source": [
        "**FactorizationMachine**"
      ]
    },
    {
      "cell_type": "code",
      "metadata": {
        "id": "TevqQRq64V7w"
      },
      "source": [
        "def forward(x):\n",
        "  # embedding 된 두개의 벡터를 위치에 맞춰서 합\n",
        "  square_of_sum = torch.sum(x, dim=1) ** 2\n",
        "  sum_of_square = torch.sum(x**2,dim=1)\n",
        "  ix = square_of_sum - sum_of_square\n",
        "  # ix = torch.sum(ix, dim=1, keepdim=True)\n",
        "  return 0.5 * ix"
      ],
      "execution_count": 31,
      "outputs": []
    },
    {
      "cell_type": "code",
      "metadata": {
        "id": "qXi_Z2iU4XxJ"
      },
      "source": [
        "fm = forward(embed)"
      ],
      "execution_count": 32,
      "outputs": []
    },
    {
      "cell_type": "code",
      "metadata": {
        "colab": {
          "base_uri": "https://localhost:8080/"
        },
        "id": "vTlYKNiU4aSh",
        "outputId": "25a83d0c-44c1-4924-a382-048bf86b999f"
      },
      "source": [
        "fm[0]"
      ],
      "execution_count": 33,
      "outputs": [
        {
          "output_type": "execute_result",
          "data": {
            "text/plain": [
              "tensor([ 1.8290e-06, -1.9195e-06,  3.6859e-06, -3.5675e-06,  1.2129e-05,\n",
              "         7.3300e-07,  1.4131e-05, -4.8531e-06, -5.0038e-06, -2.2902e-06],\n",
              "       grad_fn=<SelectBackward>)"
            ]
          },
          "metadata": {
            "tags": []
          },
          "execution_count": 33
        }
      ]
    },
    {
      "cell_type": "code",
      "metadata": {
        "id": "WMxJOquW4btE"
      },
      "source": [
        "fm_machine = linear + fm"
      ],
      "execution_count": 34,
      "outputs": []
    },
    {
      "cell_type": "code",
      "metadata": {
        "colab": {
          "base_uri": "https://localhost:8080/"
        },
        "id": "TMpYvuTG4fZ7",
        "outputId": "8eea7dd5-f4a5-478f-e70e-1c89b5b2cc48"
      },
      "source": [
        "torch.sigmoid(fm_machine.squeeze(1))"
      ],
      "execution_count": 35,
      "outputs": [
        {
          "output_type": "execute_result",
          "data": {
            "text/plain": [
              "tensor([[0.3870, 0.3870, 0.3870,  ..., 0.3870, 0.3870, 0.3870],\n",
              "        [0.6812, 0.6812, 0.6812,  ..., 0.6812, 0.6812, 0.6812],\n",
              "        [0.5694, 0.5694, 0.5694,  ..., 0.5694, 0.5694, 0.5694],\n",
              "        ...,\n",
              "        [0.1544, 0.1544, 0.1544,  ..., 0.1544, 0.1544, 0.1544],\n",
              "        [0.7993, 0.7993, 0.7993,  ..., 0.7993, 0.7993, 0.7993],\n",
              "        [0.2801, 0.2802, 0.2802,  ..., 0.2802, 0.2802, 0.2802]],\n",
              "       grad_fn=<SigmoidBackward>)"
            ]
          },
          "metadata": {
            "tags": []
          },
          "execution_count": 35
        }
      ]
    },
    {
      "cell_type": "markdown",
      "metadata": {
        "id": "WspKvVDKj4DD"
      },
      "source": [
        "## Actual Implementation"
      ]
    },
    {
      "cell_type": "code",
      "metadata": {
        "id": "0c6HIiiImsWz"
      },
      "source": [
        "import os\n",
        "\n",
        "IS_COLAB = True\n",
        "\n",
        "if IS_COLAB:\n",
        "  project_path = \"/gdrive/MyDrive/colab/Factorization_Machine/\"\n",
        "else:\n",
        "  project_path = os.path.dirname(os.path.abspath(\"__file__\"))\n",
        "\n",
        "data_path = os.path.join(project_path,\"data\")"
      ],
      "execution_count": 36,
      "outputs": []
    },
    {
      "cell_type": "code",
      "metadata": {
        "colab": {
          "base_uri": "https://localhost:8080/"
        },
        "id": "DWfJ4nJEoI9W",
        "outputId": "bcb6d4d1-19a1-4729-ed77-63c39193d845"
      },
      "source": [
        "ls -l /gdrive/MyDrive/colab/Factorization_Machine/data"
      ],
      "execution_count": 37,
      "outputs": [
        {
          "output_type": "stream",
          "text": [
            "total 18934\n",
            "-rw------- 1 root root   197979 Nov 19 04:30 links.csv\n",
            "-rw------- 1 root root   494431 Nov 24 01:17 movies.csv\n",
            "-rw------- 1 root root  2483723 Nov 24 01:17 ratings.csv\n",
            "-rw------- 1 root root   118660 Nov 19 04:30 tags.csv\n",
            "-rw------- 1 root root   238833 Dec  2 08:50 tag_tokenizer_bpe_100.model\n",
            "-rw------- 1 root root      672 Dec  2 08:50 tag_tokenizer_bpe_100.vocab\n",
            "-rw------- 1 root root   370999 Nov 27 05:52 tag_tokenizer_bpe_9000.model\n",
            "-rw------- 1 root root   114127 Nov 27 05:52 tag_tokenizer_bpe_9000.vocab\n",
            "-rw------- 1 root root   271684 Dec  2 08:50 tag_tokenizer_input_bpe_100.txt\n",
            "-rw------- 1 root root   236678 Nov 27 05:52 tag_tokenizer_input_bpe_24000.txt\n",
            "-rw------- 1 root root   271684 Nov 27 05:57 tag_tokenizer_input_bpe_9000.txt\n",
            "-rw------- 1 root root   276874 Dec  2 08:50 tag_w2v_bpe_100.model\n",
            "-rw------- 1 root root   613252 Dec  2 08:50 title_tokenizer_bpe_24000.model\n",
            "-rw------- 1 root root   340369 Dec  2 08:50 title_tokenizer_bpe_24000.vocab\n",
            "-rw------- 1 root root   193941 Dec  2 08:50 title_tokenizer_input_bpe_24000.txt\n",
            "-rw------- 1 root root 13161326 Dec  2 08:50 title_w2v_bpe_24000.model\n",
            "-rw------- 1 root root        0 Nov 27 08:43 X_data.npy\n"
          ],
          "name": "stdout"
        }
      ]
    },
    {
      "cell_type": "code",
      "metadata": {
        "colab": {
          "base_uri": "https://localhost:8080/"
        },
        "id": "YQwSko9YPbil",
        "outputId": "810ce787-38c5-45c5-aeb6-01b71a60a59e"
      },
      "source": [
        "!pip install sentencepiece\n",
        "\n",
        "from gensim.models import  Word2Vec as w2v\n",
        "import sentencepiece as spm\n",
        "from tqdm import tqdm_notebook"
      ],
      "execution_count": 38,
      "outputs": [
        {
          "output_type": "stream",
          "text": [
            "Collecting sentencepiece\n",
            "\u001b[?25l  Downloading https://files.pythonhosted.org/packages/e5/2d/6d4ca4bef9a67070fa1cac508606328329152b1df10bdf31fb6e4e727894/sentencepiece-0.1.94-cp36-cp36m-manylinux2014_x86_64.whl (1.1MB)\n",
            "\r\u001b[K     |▎                               | 10kB 19.9MB/s eta 0:00:01\r\u001b[K     |▋                               | 20kB 28.8MB/s eta 0:00:01\r\u001b[K     |▉                               | 30kB 25.4MB/s eta 0:00:01\r\u001b[K     |█▏                              | 40kB 19.3MB/s eta 0:00:01\r\u001b[K     |█▌                              | 51kB 16.0MB/s eta 0:00:01\r\u001b[K     |█▊                              | 61kB 18.0MB/s eta 0:00:01\r\u001b[K     |██                              | 71kB 14.4MB/s eta 0:00:01\r\u001b[K     |██▍                             | 81kB 15.0MB/s eta 0:00:01\r\u001b[K     |██▋                             | 92kB 14.5MB/s eta 0:00:01\r\u001b[K     |███                             | 102kB 14.0MB/s eta 0:00:01\r\u001b[K     |███▎                            | 112kB 14.0MB/s eta 0:00:01\r\u001b[K     |███▌                            | 122kB 14.0MB/s eta 0:00:01\r\u001b[K     |███▉                            | 133kB 14.0MB/s eta 0:00:01\r\u001b[K     |████▏                           | 143kB 14.0MB/s eta 0:00:01\r\u001b[K     |████▍                           | 153kB 14.0MB/s eta 0:00:01\r\u001b[K     |████▊                           | 163kB 14.0MB/s eta 0:00:01\r\u001b[K     |█████                           | 174kB 14.0MB/s eta 0:00:01\r\u001b[K     |█████▎                          | 184kB 14.0MB/s eta 0:00:01\r\u001b[K     |█████▋                          | 194kB 14.0MB/s eta 0:00:01\r\u001b[K     |█████▉                          | 204kB 14.0MB/s eta 0:00:01\r\u001b[K     |██████▏                         | 215kB 14.0MB/s eta 0:00:01\r\u001b[K     |██████▌                         | 225kB 14.0MB/s eta 0:00:01\r\u001b[K     |██████▊                         | 235kB 14.0MB/s eta 0:00:01\r\u001b[K     |███████                         | 245kB 14.0MB/s eta 0:00:01\r\u001b[K     |███████▍                        | 256kB 14.0MB/s eta 0:00:01\r\u001b[K     |███████▋                        | 266kB 14.0MB/s eta 0:00:01\r\u001b[K     |████████                        | 276kB 14.0MB/s eta 0:00:01\r\u001b[K     |████████▎                       | 286kB 14.0MB/s eta 0:00:01\r\u001b[K     |████████▌                       | 296kB 14.0MB/s eta 0:00:01\r\u001b[K     |████████▉                       | 307kB 14.0MB/s eta 0:00:01\r\u001b[K     |█████████                       | 317kB 14.0MB/s eta 0:00:01\r\u001b[K     |█████████▍                      | 327kB 14.0MB/s eta 0:00:01\r\u001b[K     |█████████▊                      | 337kB 14.0MB/s eta 0:00:01\r\u001b[K     |██████████                      | 348kB 14.0MB/s eta 0:00:01\r\u001b[K     |██████████▎                     | 358kB 14.0MB/s eta 0:00:01\r\u001b[K     |██████████▋                     | 368kB 14.0MB/s eta 0:00:01\r\u001b[K     |██████████▉                     | 378kB 14.0MB/s eta 0:00:01\r\u001b[K     |███████████▏                    | 389kB 14.0MB/s eta 0:00:01\r\u001b[K     |███████████▌                    | 399kB 14.0MB/s eta 0:00:01\r\u001b[K     |███████████▊                    | 409kB 14.0MB/s eta 0:00:01\r\u001b[K     |████████████                    | 419kB 14.0MB/s eta 0:00:01\r\u001b[K     |████████████▍                   | 430kB 14.0MB/s eta 0:00:01\r\u001b[K     |████████████▋                   | 440kB 14.0MB/s eta 0:00:01\r\u001b[K     |█████████████                   | 450kB 14.0MB/s eta 0:00:01\r\u001b[K     |█████████████▎                  | 460kB 14.0MB/s eta 0:00:01\r\u001b[K     |█████████████▌                  | 471kB 14.0MB/s eta 0:00:01\r\u001b[K     |█████████████▉                  | 481kB 14.0MB/s eta 0:00:01\r\u001b[K     |██████████████                  | 491kB 14.0MB/s eta 0:00:01\r\u001b[K     |██████████████▍                 | 501kB 14.0MB/s eta 0:00:01\r\u001b[K     |██████████████▊                 | 512kB 14.0MB/s eta 0:00:01\r\u001b[K     |███████████████                 | 522kB 14.0MB/s eta 0:00:01\r\u001b[K     |███████████████▎                | 532kB 14.0MB/s eta 0:00:01\r\u001b[K     |███████████████▋                | 542kB 14.0MB/s eta 0:00:01\r\u001b[K     |███████████████▉                | 552kB 14.0MB/s eta 0:00:01\r\u001b[K     |████████████████▏               | 563kB 14.0MB/s eta 0:00:01\r\u001b[K     |████████████████▌               | 573kB 14.0MB/s eta 0:00:01\r\u001b[K     |████████████████▊               | 583kB 14.0MB/s eta 0:00:01\r\u001b[K     |█████████████████               | 593kB 14.0MB/s eta 0:00:01\r\u001b[K     |█████████████████▍              | 604kB 14.0MB/s eta 0:00:01\r\u001b[K     |█████████████████▋              | 614kB 14.0MB/s eta 0:00:01\r\u001b[K     |██████████████████              | 624kB 14.0MB/s eta 0:00:01\r\u001b[K     |██████████████████▏             | 634kB 14.0MB/s eta 0:00:01\r\u001b[K     |██████████████████▌             | 645kB 14.0MB/s eta 0:00:01\r\u001b[K     |██████████████████▉             | 655kB 14.0MB/s eta 0:00:01\r\u001b[K     |███████████████████             | 665kB 14.0MB/s eta 0:00:01\r\u001b[K     |███████████████████▍            | 675kB 14.0MB/s eta 0:00:01\r\u001b[K     |███████████████████▊            | 686kB 14.0MB/s eta 0:00:01\r\u001b[K     |████████████████████            | 696kB 14.0MB/s eta 0:00:01\r\u001b[K     |████████████████████▎           | 706kB 14.0MB/s eta 0:00:01\r\u001b[K     |████████████████████▋           | 716kB 14.0MB/s eta 0:00:01\r\u001b[K     |████████████████████▉           | 727kB 14.0MB/s eta 0:00:01\r\u001b[K     |█████████████████████▏          | 737kB 14.0MB/s eta 0:00:01\r\u001b[K     |█████████████████████▌          | 747kB 14.0MB/s eta 0:00:01\r\u001b[K     |█████████████████████▊          | 757kB 14.0MB/s eta 0:00:01\r\u001b[K     |██████████████████████          | 768kB 14.0MB/s eta 0:00:01\r\u001b[K     |██████████████████████▎         | 778kB 14.0MB/s eta 0:00:01\r\u001b[K     |██████████████████████▋         | 788kB 14.0MB/s eta 0:00:01\r\u001b[K     |███████████████████████         | 798kB 14.0MB/s eta 0:00:01\r\u001b[K     |███████████████████████▏        | 808kB 14.0MB/s eta 0:00:01\r\u001b[K     |███████████████████████▌        | 819kB 14.0MB/s eta 0:00:01\r\u001b[K     |███████████████████████▉        | 829kB 14.0MB/s eta 0:00:01\r\u001b[K     |████████████████████████        | 839kB 14.0MB/s eta 0:00:01\r\u001b[K     |████████████████████████▍       | 849kB 14.0MB/s eta 0:00:01\r\u001b[K     |████████████████████████▊       | 860kB 14.0MB/s eta 0:00:01\r\u001b[K     |█████████████████████████       | 870kB 14.0MB/s eta 0:00:01\r\u001b[K     |█████████████████████████▎      | 880kB 14.0MB/s eta 0:00:01\r\u001b[K     |█████████████████████████▋      | 890kB 14.0MB/s eta 0:00:01\r\u001b[K     |█████████████████████████▉      | 901kB 14.0MB/s eta 0:00:01\r\u001b[K     |██████████████████████████▏     | 911kB 14.0MB/s eta 0:00:01\r\u001b[K     |██████████████████████████▌     | 921kB 14.0MB/s eta 0:00:01\r\u001b[K     |██████████████████████████▊     | 931kB 14.0MB/s eta 0:00:01\r\u001b[K     |███████████████████████████     | 942kB 14.0MB/s eta 0:00:01\r\u001b[K     |███████████████████████████▎    | 952kB 14.0MB/s eta 0:00:01\r\u001b[K     |███████████████████████████▋    | 962kB 14.0MB/s eta 0:00:01\r\u001b[K     |████████████████████████████    | 972kB 14.0MB/s eta 0:00:01\r\u001b[K     |████████████████████████████▏   | 983kB 14.0MB/s eta 0:00:01\r\u001b[K     |████████████████████████████▌   | 993kB 14.0MB/s eta 0:00:01\r\u001b[K     |████████████████████████████▉   | 1.0MB 14.0MB/s eta 0:00:01\r\u001b[K     |█████████████████████████████   | 1.0MB 14.0MB/s eta 0:00:01\r\u001b[K     |█████████████████████████████▍  | 1.0MB 14.0MB/s eta 0:00:01\r\u001b[K     |█████████████████████████████▊  | 1.0MB 14.0MB/s eta 0:00:01\r\u001b[K     |██████████████████████████████  | 1.0MB 14.0MB/s eta 0:00:01\r\u001b[K     |██████████████████████████████▎ | 1.1MB 14.0MB/s eta 0:00:01\r\u001b[K     |██████████████████████████████▋ | 1.1MB 14.0MB/s eta 0:00:01\r\u001b[K     |██████████████████████████████▉ | 1.1MB 14.0MB/s eta 0:00:01\r\u001b[K     |███████████████████████████████▏| 1.1MB 14.0MB/s eta 0:00:01\r\u001b[K     |███████████████████████████████▍| 1.1MB 14.0MB/s eta 0:00:01\r\u001b[K     |███████████████████████████████▊| 1.1MB 14.0MB/s eta 0:00:01\r\u001b[K     |████████████████████████████████| 1.1MB 14.0MB/s \n",
            "\u001b[?25hInstalling collected packages: sentencepiece\n",
            "Successfully installed sentencepiece-0.1.94\n"
          ],
          "name": "stdout"
        }
      ]
    },
    {
      "cell_type": "code",
      "metadata": {
        "id": "fWNSvFtEnxga"
      },
      "source": [
        "import pandas as pd\n",
        "import numpy as np\n",
        "\n",
        "csv_movies = os.path.join(data_path,\"movies.csv\")\n",
        "csv_ratings = os.path.join(data_path,\"ratings.csv\")\n",
        "csv_tags = os.path.join(data_path,\"tags.csv\")\n",
        "csv_links =  os.path.join(data_path,\"links.csv\")\n",
        "\n",
        "movies = pd.read_csv(csv_movies)\n",
        "ratings = pd.read_csv(csv_ratings)\n",
        "tags = pd.read_csv(csv_tags)\n",
        "links = pd.read_csv(csv_links)\n",
        "\n",
        "org_movies = movies.copy()\n",
        "org_ratings = ratings.copy()\n",
        "org_tags = tags.copy()\n",
        "org_links = links.copy()"
      ],
      "execution_count": 39,
      "outputs": []
    },
    {
      "cell_type": "code",
      "metadata": {
        "id": "XBw1IMwgYMqF"
      },
      "source": [
        "dict_mid_2_nid= {mid:nid for nid, mid in enumerate(movies.movieId.unique())}\n",
        "dict_nid_2_mid = {nid:mid for mid,nid in dict_mid_2_nid.items()}\n",
        "\n",
        "dict_uid_2_nid= {uid:nid for nid, uid in enumerate(ratings.userId.unique())}\n",
        "dict_nid_2_uid = {nid:uid for uid,nid in dict_uid_2_nid.items()}\n",
        "\n",
        "movies.loc[:,\"m_nid\"] = movies.movieId.apply(lambda x:dict_mid_2_nid[x])\n",
        "\n",
        "ratings.loc[:,\"u_nid\"] = ratings.userId.apply(lambda x:dict_uid_2_nid[x])\n",
        "ratings.loc[:,\"m_nid\"] = ratings.movieId.apply(lambda x:dict_mid_2_nid[x])\n",
        "\n",
        "tags.loc[:,\"u_nid\"] = tags.userId.apply(lambda x:dict_uid_2_nid[x])\n",
        "tags.loc[:,\"m_nid\"] = tags.movieId.apply(lambda x:dict_mid_2_nid[x])\n",
        "\n",
        "links.loc[:,\"m_nid\"] = tags.movieId.apply(lambda x:dict_mid_2_nid[x])"
      ],
      "execution_count": 40,
      "outputs": []
    },
    {
      "cell_type": "code",
      "metadata": {
        "colab": {
          "base_uri": "https://localhost:8080/",
          "height": 204
        },
        "id": "Lip-mOhroj5x",
        "outputId": "a144e9d9-574b-46cd-e5af-73800c6cc9cf"
      },
      "source": [
        "movies.head()"
      ],
      "execution_count": 41,
      "outputs": [
        {
          "output_type": "execute_result",
          "data": {
            "text/html": [
              "<div>\n",
              "<style scoped>\n",
              "    .dataframe tbody tr th:only-of-type {\n",
              "        vertical-align: middle;\n",
              "    }\n",
              "\n",
              "    .dataframe tbody tr th {\n",
              "        vertical-align: top;\n",
              "    }\n",
              "\n",
              "    .dataframe thead th {\n",
              "        text-align: right;\n",
              "    }\n",
              "</style>\n",
              "<table border=\"1\" class=\"dataframe\">\n",
              "  <thead>\n",
              "    <tr style=\"text-align: right;\">\n",
              "      <th></th>\n",
              "      <th>movieId</th>\n",
              "      <th>title</th>\n",
              "      <th>genres</th>\n",
              "      <th>m_nid</th>\n",
              "    </tr>\n",
              "  </thead>\n",
              "  <tbody>\n",
              "    <tr>\n",
              "      <th>0</th>\n",
              "      <td>1</td>\n",
              "      <td>Toy Story (1995)</td>\n",
              "      <td>Adventure|Animation|Children|Comedy|Fantasy</td>\n",
              "      <td>0</td>\n",
              "    </tr>\n",
              "    <tr>\n",
              "      <th>1</th>\n",
              "      <td>2</td>\n",
              "      <td>Jumanji (1995)</td>\n",
              "      <td>Adventure|Children|Fantasy</td>\n",
              "      <td>1</td>\n",
              "    </tr>\n",
              "    <tr>\n",
              "      <th>2</th>\n",
              "      <td>3</td>\n",
              "      <td>Grumpier Old Men (1995)</td>\n",
              "      <td>Comedy|Romance</td>\n",
              "      <td>2</td>\n",
              "    </tr>\n",
              "    <tr>\n",
              "      <th>3</th>\n",
              "      <td>4</td>\n",
              "      <td>Waiting to Exhale (1995)</td>\n",
              "      <td>Comedy|Drama|Romance</td>\n",
              "      <td>3</td>\n",
              "    </tr>\n",
              "    <tr>\n",
              "      <th>4</th>\n",
              "      <td>5</td>\n",
              "      <td>Father of the Bride Part II (1995)</td>\n",
              "      <td>Comedy</td>\n",
              "      <td>4</td>\n",
              "    </tr>\n",
              "  </tbody>\n",
              "</table>\n",
              "</div>"
            ],
            "text/plain": [
              "   movieId  ... m_nid\n",
              "0        1  ...     0\n",
              "1        2  ...     1\n",
              "2        3  ...     2\n",
              "3        4  ...     3\n",
              "4        5  ...     4\n",
              "\n",
              "[5 rows x 4 columns]"
            ]
          },
          "metadata": {
            "tags": []
          },
          "execution_count": 41
        }
      ]
    },
    {
      "cell_type": "code",
      "metadata": {
        "colab": {
          "base_uri": "https://localhost:8080/",
          "height": 204
        },
        "id": "KnKpu6WUSZ_h",
        "outputId": "7a0fa01a-78c3-4960-b865-ddaa9d85c7eb"
      },
      "source": [
        "ratings.head()"
      ],
      "execution_count": 42,
      "outputs": [
        {
          "output_type": "execute_result",
          "data": {
            "text/html": [
              "<div>\n",
              "<style scoped>\n",
              "    .dataframe tbody tr th:only-of-type {\n",
              "        vertical-align: middle;\n",
              "    }\n",
              "\n",
              "    .dataframe tbody tr th {\n",
              "        vertical-align: top;\n",
              "    }\n",
              "\n",
              "    .dataframe thead th {\n",
              "        text-align: right;\n",
              "    }\n",
              "</style>\n",
              "<table border=\"1\" class=\"dataframe\">\n",
              "  <thead>\n",
              "    <tr style=\"text-align: right;\">\n",
              "      <th></th>\n",
              "      <th>userId</th>\n",
              "      <th>movieId</th>\n",
              "      <th>rating</th>\n",
              "      <th>timestamp</th>\n",
              "      <th>u_nid</th>\n",
              "      <th>m_nid</th>\n",
              "    </tr>\n",
              "  </thead>\n",
              "  <tbody>\n",
              "    <tr>\n",
              "      <th>0</th>\n",
              "      <td>1</td>\n",
              "      <td>1</td>\n",
              "      <td>4.0</td>\n",
              "      <td>964982703</td>\n",
              "      <td>0</td>\n",
              "      <td>0</td>\n",
              "    </tr>\n",
              "    <tr>\n",
              "      <th>1</th>\n",
              "      <td>1</td>\n",
              "      <td>3</td>\n",
              "      <td>4.0</td>\n",
              "      <td>964981247</td>\n",
              "      <td>0</td>\n",
              "      <td>2</td>\n",
              "    </tr>\n",
              "    <tr>\n",
              "      <th>2</th>\n",
              "      <td>1</td>\n",
              "      <td>6</td>\n",
              "      <td>4.0</td>\n",
              "      <td>964982224</td>\n",
              "      <td>0</td>\n",
              "      <td>5</td>\n",
              "    </tr>\n",
              "    <tr>\n",
              "      <th>3</th>\n",
              "      <td>1</td>\n",
              "      <td>47</td>\n",
              "      <td>5.0</td>\n",
              "      <td>964983815</td>\n",
              "      <td>0</td>\n",
              "      <td>43</td>\n",
              "    </tr>\n",
              "    <tr>\n",
              "      <th>4</th>\n",
              "      <td>1</td>\n",
              "      <td>50</td>\n",
              "      <td>5.0</td>\n",
              "      <td>964982931</td>\n",
              "      <td>0</td>\n",
              "      <td>46</td>\n",
              "    </tr>\n",
              "  </tbody>\n",
              "</table>\n",
              "</div>"
            ],
            "text/plain": [
              "   userId  movieId  rating  timestamp  u_nid  m_nid\n",
              "0       1        1     4.0  964982703      0      0\n",
              "1       1        3     4.0  964981247      0      2\n",
              "2       1        6     4.0  964982224      0      5\n",
              "3       1       47     5.0  964983815      0     43\n",
              "4       1       50     5.0  964982931      0     46"
            ]
          },
          "metadata": {
            "tags": []
          },
          "execution_count": 42
        }
      ]
    },
    {
      "cell_type": "code",
      "metadata": {
        "colab": {
          "base_uri": "https://localhost:8080/",
          "height": 204
        },
        "id": "KwFKUMJTauSi",
        "outputId": "3187043c-9fb1-4aeb-f2f3-39d13281a6c0"
      },
      "source": [
        "tags.head()"
      ],
      "execution_count": 43,
      "outputs": [
        {
          "output_type": "execute_result",
          "data": {
            "text/html": [
              "<div>\n",
              "<style scoped>\n",
              "    .dataframe tbody tr th:only-of-type {\n",
              "        vertical-align: middle;\n",
              "    }\n",
              "\n",
              "    .dataframe tbody tr th {\n",
              "        vertical-align: top;\n",
              "    }\n",
              "\n",
              "    .dataframe thead th {\n",
              "        text-align: right;\n",
              "    }\n",
              "</style>\n",
              "<table border=\"1\" class=\"dataframe\">\n",
              "  <thead>\n",
              "    <tr style=\"text-align: right;\">\n",
              "      <th></th>\n",
              "      <th>userId</th>\n",
              "      <th>movieId</th>\n",
              "      <th>tag</th>\n",
              "      <th>timestamp</th>\n",
              "      <th>u_nid</th>\n",
              "      <th>m_nid</th>\n",
              "    </tr>\n",
              "  </thead>\n",
              "  <tbody>\n",
              "    <tr>\n",
              "      <th>0</th>\n",
              "      <td>2</td>\n",
              "      <td>60756</td>\n",
              "      <td>funny</td>\n",
              "      <td>1445714994</td>\n",
              "      <td>1</td>\n",
              "      <td>6801</td>\n",
              "    </tr>\n",
              "    <tr>\n",
              "      <th>1</th>\n",
              "      <td>2</td>\n",
              "      <td>60756</td>\n",
              "      <td>Highly quotable</td>\n",
              "      <td>1445714996</td>\n",
              "      <td>1</td>\n",
              "      <td>6801</td>\n",
              "    </tr>\n",
              "    <tr>\n",
              "      <th>2</th>\n",
              "      <td>2</td>\n",
              "      <td>60756</td>\n",
              "      <td>will ferrell</td>\n",
              "      <td>1445714992</td>\n",
              "      <td>1</td>\n",
              "      <td>6801</td>\n",
              "    </tr>\n",
              "    <tr>\n",
              "      <th>3</th>\n",
              "      <td>2</td>\n",
              "      <td>89774</td>\n",
              "      <td>Boxing story</td>\n",
              "      <td>1445715207</td>\n",
              "      <td>1</td>\n",
              "      <td>7697</td>\n",
              "    </tr>\n",
              "    <tr>\n",
              "      <th>4</th>\n",
              "      <td>2</td>\n",
              "      <td>89774</td>\n",
              "      <td>MMA</td>\n",
              "      <td>1445715200</td>\n",
              "      <td>1</td>\n",
              "      <td>7697</td>\n",
              "    </tr>\n",
              "  </tbody>\n",
              "</table>\n",
              "</div>"
            ],
            "text/plain": [
              "   userId  movieId              tag   timestamp  u_nid  m_nid\n",
              "0       2    60756            funny  1445714994      1   6801\n",
              "1       2    60756  Highly quotable  1445714996      1   6801\n",
              "2       2    60756     will ferrell  1445714992      1   6801\n",
              "3       2    89774     Boxing story  1445715207      1   7697\n",
              "4       2    89774              MMA  1445715200      1   7697"
            ]
          },
          "metadata": {
            "tags": []
          },
          "execution_count": 43
        }
      ]
    },
    {
      "cell_type": "code",
      "metadata": {
        "colab": {
          "base_uri": "https://localhost:8080/",
          "height": 204
        },
        "id": "dzHWhdfZaw8d",
        "outputId": "7fc18995-f30d-4989-fe24-a11fba465872"
      },
      "source": [
        "links.head()"
      ],
      "execution_count": 44,
      "outputs": [
        {
          "output_type": "execute_result",
          "data": {
            "text/html": [
              "<div>\n",
              "<style scoped>\n",
              "    .dataframe tbody tr th:only-of-type {\n",
              "        vertical-align: middle;\n",
              "    }\n",
              "\n",
              "    .dataframe tbody tr th {\n",
              "        vertical-align: top;\n",
              "    }\n",
              "\n",
              "    .dataframe thead th {\n",
              "        text-align: right;\n",
              "    }\n",
              "</style>\n",
              "<table border=\"1\" class=\"dataframe\">\n",
              "  <thead>\n",
              "    <tr style=\"text-align: right;\">\n",
              "      <th></th>\n",
              "      <th>movieId</th>\n",
              "      <th>imdbId</th>\n",
              "      <th>tmdbId</th>\n",
              "      <th>m_nid</th>\n",
              "    </tr>\n",
              "  </thead>\n",
              "  <tbody>\n",
              "    <tr>\n",
              "      <th>0</th>\n",
              "      <td>1</td>\n",
              "      <td>114709</td>\n",
              "      <td>862.0</td>\n",
              "      <td>6801.0</td>\n",
              "    </tr>\n",
              "    <tr>\n",
              "      <th>1</th>\n",
              "      <td>2</td>\n",
              "      <td>113497</td>\n",
              "      <td>8844.0</td>\n",
              "      <td>6801.0</td>\n",
              "    </tr>\n",
              "    <tr>\n",
              "      <th>2</th>\n",
              "      <td>3</td>\n",
              "      <td>113228</td>\n",
              "      <td>15602.0</td>\n",
              "      <td>6801.0</td>\n",
              "    </tr>\n",
              "    <tr>\n",
              "      <th>3</th>\n",
              "      <td>4</td>\n",
              "      <td>114885</td>\n",
              "      <td>31357.0</td>\n",
              "      <td>7697.0</td>\n",
              "    </tr>\n",
              "    <tr>\n",
              "      <th>4</th>\n",
              "      <td>5</td>\n",
              "      <td>113041</td>\n",
              "      <td>11862.0</td>\n",
              "      <td>7697.0</td>\n",
              "    </tr>\n",
              "  </tbody>\n",
              "</table>\n",
              "</div>"
            ],
            "text/plain": [
              "   movieId  imdbId   tmdbId   m_nid\n",
              "0        1  114709    862.0  6801.0\n",
              "1        2  113497   8844.0  6801.0\n",
              "2        3  113228  15602.0  6801.0\n",
              "3        4  114885  31357.0  7697.0\n",
              "4        5  113041  11862.0  7697.0"
            ]
          },
          "metadata": {
            "tags": []
          },
          "execution_count": 44
        }
      ]
    },
    {
      "cell_type": "code",
      "metadata": {
        "colab": {
          "base_uri": "https://localhost:8080/",
          "height": 204
        },
        "id": "KU_qxjUKSgbC",
        "outputId": "2ddfa173-3693-42c0-a66f-980c453cc923"
      },
      "source": [
        "sorted_ratings = ratings.sort_values(by=[\"userId\",\"timestamp\"])\n",
        "sorted_ratings['b4_timestamp'] = sorted_ratings.groupby(['userId'])['timestamp'].shift(1)\n",
        "mc_sorted_ratings= sorted_ratings.groupby(['userId',\"timestamp\"])[\"m_nid\"].count().to_frame(name=\"m_count\")\n",
        "sorted_ratings = pd.merge(left=sorted_ratings, right=mc_sorted_ratings, on=[\"userId\",\"timestamp\"], how=\"left\")\n",
        "sorted_ratings.loc[:,\"b4_timestamp\"] = sorted_ratings.b4_timestamp.fillna(0).astype(\"int64\")\n",
        "sorted_ratings.head()"
      ],
      "execution_count": 45,
      "outputs": [
        {
          "output_type": "execute_result",
          "data": {
            "text/html": [
              "<div>\n",
              "<style scoped>\n",
              "    .dataframe tbody tr th:only-of-type {\n",
              "        vertical-align: middle;\n",
              "    }\n",
              "\n",
              "    .dataframe tbody tr th {\n",
              "        vertical-align: top;\n",
              "    }\n",
              "\n",
              "    .dataframe thead th {\n",
              "        text-align: right;\n",
              "    }\n",
              "</style>\n",
              "<table border=\"1\" class=\"dataframe\">\n",
              "  <thead>\n",
              "    <tr style=\"text-align: right;\">\n",
              "      <th></th>\n",
              "      <th>userId</th>\n",
              "      <th>movieId</th>\n",
              "      <th>rating</th>\n",
              "      <th>timestamp</th>\n",
              "      <th>u_nid</th>\n",
              "      <th>m_nid</th>\n",
              "      <th>b4_timestamp</th>\n",
              "      <th>m_count</th>\n",
              "    </tr>\n",
              "  </thead>\n",
              "  <tbody>\n",
              "    <tr>\n",
              "      <th>0</th>\n",
              "      <td>1</td>\n",
              "      <td>804</td>\n",
              "      <td>4.0</td>\n",
              "      <td>964980499</td>\n",
              "      <td>0</td>\n",
              "      <td>632</td>\n",
              "      <td>0</td>\n",
              "      <td>2</td>\n",
              "    </tr>\n",
              "    <tr>\n",
              "      <th>1</th>\n",
              "      <td>1</td>\n",
              "      <td>1210</td>\n",
              "      <td>5.0</td>\n",
              "      <td>964980499</td>\n",
              "      <td>0</td>\n",
              "      <td>911</td>\n",
              "      <td>964980499</td>\n",
              "      <td>2</td>\n",
              "    </tr>\n",
              "    <tr>\n",
              "      <th>2</th>\n",
              "      <td>1</td>\n",
              "      <td>2018</td>\n",
              "      <td>5.0</td>\n",
              "      <td>964980523</td>\n",
              "      <td>0</td>\n",
              "      <td>1493</td>\n",
              "      <td>964980499</td>\n",
              "      <td>3</td>\n",
              "    </tr>\n",
              "    <tr>\n",
              "      <th>3</th>\n",
              "      <td>1</td>\n",
              "      <td>2628</td>\n",
              "      <td>4.0</td>\n",
              "      <td>964980523</td>\n",
              "      <td>0</td>\n",
              "      <td>1979</td>\n",
              "      <td>964980523</td>\n",
              "      <td>3</td>\n",
              "    </tr>\n",
              "    <tr>\n",
              "      <th>4</th>\n",
              "      <td>1</td>\n",
              "      <td>2826</td>\n",
              "      <td>4.0</td>\n",
              "      <td>964980523</td>\n",
              "      <td>0</td>\n",
              "      <td>2126</td>\n",
              "      <td>964980523</td>\n",
              "      <td>3</td>\n",
              "    </tr>\n",
              "  </tbody>\n",
              "</table>\n",
              "</div>"
            ],
            "text/plain": [
              "   userId  movieId  rating  timestamp  u_nid  m_nid  b4_timestamp  m_count\n",
              "0       1      804     4.0  964980499      0    632             0        2\n",
              "1       1     1210     5.0  964980499      0    911     964980499        2\n",
              "2       1     2018     5.0  964980523      0   1493     964980499        3\n",
              "3       1     2628     4.0  964980523      0   1979     964980523        3\n",
              "4       1     2826     4.0  964980523      0   2126     964980523        3"
            ]
          },
          "metadata": {
            "tags": []
          },
          "execution_count": 45
        }
      ]
    },
    {
      "cell_type": "code",
      "metadata": {
        "colab": {
          "base_uri": "https://localhost:8080/",
          "height": 117,
          "referenced_widgets": [
            "47410de4cc434839ba0b4dd6b213f4c4",
            "febfb986ca7740a3af38c7f6e56c6229",
            "649f12f8792147a48febef067ef59eb9",
            "33e10e6e130e4fbdb27e7d463478be51",
            "52ffdcd35fd441519ce60e3374f31c2a",
            "67915fa98efc4d25a1433e3f69491133",
            "fa15e6330b4a40f2b1ab9958ccab9131",
            "b012d49ee29340658445e84eff6fa204"
          ]
        },
        "id": "-VmNRmuzTZGH",
        "outputId": "e585fb67-f867-4158-f40a-8e3e4303a676"
      },
      "source": [
        "previous_timestamp = 0\n",
        "counter = 0\n",
        "former_movies = list()\n",
        "now_movies = list()\n",
        "movie_vectors = list()\n",
        "\n",
        "for idx,row in tqdm_notebook(sorted_ratings.iterrows()):\n",
        "  counter += 1\n",
        "  m_nid = row[\"m_nid\"].astype(\"int\")\n",
        "  m_count = row[\"m_count\"]\n",
        "  timestamp = row[\"timestamp\"]\n",
        "  b4_timestamp = row[\"b4_timestamp\"]\n",
        "\n",
        "  if previous_timestamp == 0 and counter <= m_count:\n",
        "    now_movies.append(m_nid)\n",
        "    movie_vector = np.zeros(len(dict_mid_2_nid)) \n",
        "    \n",
        "    if counter == m_count:\n",
        "      former_movies = now_movies\n",
        "      previous_timestamp = timestamp\n",
        "      now_movies = list()\n",
        "      counter = 0\n",
        "  \n",
        "  elif previous_timestamp != 0 and counter <= m_count:\n",
        "    now_movies.append(m_nid)\n",
        "    movie_vector = np.zeros(len(dict_mid_2_nid))\n",
        "    movie_vector[former_movies] = 1\n",
        "\n",
        "    if counter == m_count:\n",
        "      former_movies = now_movies\n",
        "      previous_timestamp = timestamp\n",
        "      now_movies = list()\n",
        "      counter = 0\n",
        "\n",
        "  movie_vectors.append(movie_vector)"
      ],
      "execution_count": 46,
      "outputs": [
        {
          "output_type": "stream",
          "text": [
            "/usr/local/lib/python3.6/dist-packages/ipykernel_launcher.py:7: TqdmDeprecationWarning: This function will be removed in tqdm==5.0.0\n",
            "Please use `tqdm.notebook.tqdm` instead of `tqdm.tqdm_notebook`\n",
            "  import sys\n"
          ],
          "name": "stderr"
        },
        {
          "output_type": "display_data",
          "data": {
            "application/vnd.jupyter.widget-view+json": {
              "model_id": "47410de4cc434839ba0b4dd6b213f4c4",
              "version_minor": 0,
              "version_major": 2
            },
            "text/plain": [
              "HBox(children=(FloatProgress(value=1.0, bar_style='info', max=1.0), HTML(value='')))"
            ]
          },
          "metadata": {
            "tags": []
          }
        },
        {
          "output_type": "stream",
          "text": [
            "\n"
          ],
          "name": "stdout"
        }
      ]
    },
    {
      "cell_type": "code",
      "metadata": {
        "colab": {
          "base_uri": "https://localhost:8080/",
          "height": 204
        },
        "id": "LesDaOHFgNdd",
        "outputId": "fe544ab7-b86a-4656-f800-d702de7ffddc"
      },
      "source": [
        "sorted_ratings.loc[:,\"last_rate_vector\"] = pd.Series(movie_vectors)\n",
        "sorted_ratings.head()"
      ],
      "execution_count": 47,
      "outputs": [
        {
          "output_type": "execute_result",
          "data": {
            "text/html": [
              "<div>\n",
              "<style scoped>\n",
              "    .dataframe tbody tr th:only-of-type {\n",
              "        vertical-align: middle;\n",
              "    }\n",
              "\n",
              "    .dataframe tbody tr th {\n",
              "        vertical-align: top;\n",
              "    }\n",
              "\n",
              "    .dataframe thead th {\n",
              "        text-align: right;\n",
              "    }\n",
              "</style>\n",
              "<table border=\"1\" class=\"dataframe\">\n",
              "  <thead>\n",
              "    <tr style=\"text-align: right;\">\n",
              "      <th></th>\n",
              "      <th>userId</th>\n",
              "      <th>movieId</th>\n",
              "      <th>rating</th>\n",
              "      <th>timestamp</th>\n",
              "      <th>u_nid</th>\n",
              "      <th>m_nid</th>\n",
              "      <th>b4_timestamp</th>\n",
              "      <th>m_count</th>\n",
              "      <th>last_rate_vector</th>\n",
              "    </tr>\n",
              "  </thead>\n",
              "  <tbody>\n",
              "    <tr>\n",
              "      <th>0</th>\n",
              "      <td>1</td>\n",
              "      <td>804</td>\n",
              "      <td>4.0</td>\n",
              "      <td>964980499</td>\n",
              "      <td>0</td>\n",
              "      <td>632</td>\n",
              "      <td>0</td>\n",
              "      <td>2</td>\n",
              "      <td>[0.0, 0.0, 0.0, 0.0, 0.0, 0.0, 0.0, 0.0, 0.0, ...</td>\n",
              "    </tr>\n",
              "    <tr>\n",
              "      <th>1</th>\n",
              "      <td>1</td>\n",
              "      <td>1210</td>\n",
              "      <td>5.0</td>\n",
              "      <td>964980499</td>\n",
              "      <td>0</td>\n",
              "      <td>911</td>\n",
              "      <td>964980499</td>\n",
              "      <td>2</td>\n",
              "      <td>[0.0, 0.0, 0.0, 0.0, 0.0, 0.0, 0.0, 0.0, 0.0, ...</td>\n",
              "    </tr>\n",
              "    <tr>\n",
              "      <th>2</th>\n",
              "      <td>1</td>\n",
              "      <td>2018</td>\n",
              "      <td>5.0</td>\n",
              "      <td>964980523</td>\n",
              "      <td>0</td>\n",
              "      <td>1493</td>\n",
              "      <td>964980499</td>\n",
              "      <td>3</td>\n",
              "      <td>[0.0, 0.0, 0.0, 0.0, 0.0, 0.0, 0.0, 0.0, 0.0, ...</td>\n",
              "    </tr>\n",
              "    <tr>\n",
              "      <th>3</th>\n",
              "      <td>1</td>\n",
              "      <td>2628</td>\n",
              "      <td>4.0</td>\n",
              "      <td>964980523</td>\n",
              "      <td>0</td>\n",
              "      <td>1979</td>\n",
              "      <td>964980523</td>\n",
              "      <td>3</td>\n",
              "      <td>[0.0, 0.0, 0.0, 0.0, 0.0, 0.0, 0.0, 0.0, 0.0, ...</td>\n",
              "    </tr>\n",
              "    <tr>\n",
              "      <th>4</th>\n",
              "      <td>1</td>\n",
              "      <td>2826</td>\n",
              "      <td>4.0</td>\n",
              "      <td>964980523</td>\n",
              "      <td>0</td>\n",
              "      <td>2126</td>\n",
              "      <td>964980523</td>\n",
              "      <td>3</td>\n",
              "      <td>[0.0, 0.0, 0.0, 0.0, 0.0, 0.0, 0.0, 0.0, 0.0, ...</td>\n",
              "    </tr>\n",
              "  </tbody>\n",
              "</table>\n",
              "</div>"
            ],
            "text/plain": [
              "   userId  movieId  ...  m_count                                   last_rate_vector\n",
              "0       1      804  ...        2  [0.0, 0.0, 0.0, 0.0, 0.0, 0.0, 0.0, 0.0, 0.0, ...\n",
              "1       1     1210  ...        2  [0.0, 0.0, 0.0, 0.0, 0.0, 0.0, 0.0, 0.0, 0.0, ...\n",
              "2       1     2018  ...        3  [0.0, 0.0, 0.0, 0.0, 0.0, 0.0, 0.0, 0.0, 0.0, ...\n",
              "3       1     2628  ...        3  [0.0, 0.0, 0.0, 0.0, 0.0, 0.0, 0.0, 0.0, 0.0, ...\n",
              "4       1     2826  ...        3  [0.0, 0.0, 0.0, 0.0, 0.0, 0.0, 0.0, 0.0, 0.0, ...\n",
              "\n",
              "[5 rows x 9 columns]"
            ]
          },
          "metadata": {
            "tags": []
          },
          "execution_count": 47
        }
      ]
    },
    {
      "cell_type": "code",
      "metadata": {
        "colab": {
          "base_uri": "https://localhost:8080/",
          "height": 204
        },
        "id": "nPpDpfi4mp1i",
        "outputId": "6b3368e4-c8d2-4fa6-ba2b-c878b42cd258"
      },
      "source": [
        "ratings = sorted_ratings.sort_values(by=[\"userId\",\"movieId\"]).copy()\n",
        "ratings = ratings.reset_index(drop=True)\n",
        "ratings.head()"
      ],
      "execution_count": 48,
      "outputs": [
        {
          "output_type": "execute_result",
          "data": {
            "text/html": [
              "<div>\n",
              "<style scoped>\n",
              "    .dataframe tbody tr th:only-of-type {\n",
              "        vertical-align: middle;\n",
              "    }\n",
              "\n",
              "    .dataframe tbody tr th {\n",
              "        vertical-align: top;\n",
              "    }\n",
              "\n",
              "    .dataframe thead th {\n",
              "        text-align: right;\n",
              "    }\n",
              "</style>\n",
              "<table border=\"1\" class=\"dataframe\">\n",
              "  <thead>\n",
              "    <tr style=\"text-align: right;\">\n",
              "      <th></th>\n",
              "      <th>userId</th>\n",
              "      <th>movieId</th>\n",
              "      <th>rating</th>\n",
              "      <th>timestamp</th>\n",
              "      <th>u_nid</th>\n",
              "      <th>m_nid</th>\n",
              "      <th>b4_timestamp</th>\n",
              "      <th>m_count</th>\n",
              "      <th>last_rate_vector</th>\n",
              "    </tr>\n",
              "  </thead>\n",
              "  <tbody>\n",
              "    <tr>\n",
              "      <th>0</th>\n",
              "      <td>1</td>\n",
              "      <td>1</td>\n",
              "      <td>4.0</td>\n",
              "      <td>964982703</td>\n",
              "      <td>0</td>\n",
              "      <td>0</td>\n",
              "      <td>964982681</td>\n",
              "      <td>4</td>\n",
              "      <td>[0.0, 0.0, 0.0, 0.0, 0.0, 0.0, 0.0, 0.0, 0.0, ...</td>\n",
              "    </tr>\n",
              "    <tr>\n",
              "      <th>1</th>\n",
              "      <td>1</td>\n",
              "      <td>3</td>\n",
              "      <td>4.0</td>\n",
              "      <td>964981247</td>\n",
              "      <td>0</td>\n",
              "      <td>2</td>\n",
              "      <td>964981230</td>\n",
              "      <td>1</td>\n",
              "      <td>[0.0, 0.0, 0.0, 0.0, 0.0, 0.0, 0.0, 0.0, 0.0, ...</td>\n",
              "    </tr>\n",
              "    <tr>\n",
              "      <th>2</th>\n",
              "      <td>1</td>\n",
              "      <td>6</td>\n",
              "      <td>4.0</td>\n",
              "      <td>964982224</td>\n",
              "      <td>0</td>\n",
              "      <td>5</td>\n",
              "      <td>964982211</td>\n",
              "      <td>1</td>\n",
              "      <td>[0.0, 0.0, 0.0, 0.0, 0.0, 0.0, 0.0, 0.0, 0.0, ...</td>\n",
              "    </tr>\n",
              "    <tr>\n",
              "      <th>3</th>\n",
              "      <td>1</td>\n",
              "      <td>47</td>\n",
              "      <td>5.0</td>\n",
              "      <td>964983815</td>\n",
              "      <td>0</td>\n",
              "      <td>43</td>\n",
              "      <td>964983793</td>\n",
              "      <td>1</td>\n",
              "      <td>[0.0, 0.0, 0.0, 0.0, 0.0, 0.0, 0.0, 0.0, 0.0, ...</td>\n",
              "    </tr>\n",
              "    <tr>\n",
              "      <th>4</th>\n",
              "      <td>1</td>\n",
              "      <td>50</td>\n",
              "      <td>5.0</td>\n",
              "      <td>964982931</td>\n",
              "      <td>0</td>\n",
              "      <td>46</td>\n",
              "      <td>964982903</td>\n",
              "      <td>2</td>\n",
              "      <td>[0.0, 0.0, 0.0, 0.0, 0.0, 0.0, 0.0, 0.0, 0.0, ...</td>\n",
              "    </tr>\n",
              "  </tbody>\n",
              "</table>\n",
              "</div>"
            ],
            "text/plain": [
              "   userId  movieId  ...  m_count                                   last_rate_vector\n",
              "0       1        1  ...        4  [0.0, 0.0, 0.0, 0.0, 0.0, 0.0, 0.0, 0.0, 0.0, ...\n",
              "1       1        3  ...        1  [0.0, 0.0, 0.0, 0.0, 0.0, 0.0, 0.0, 0.0, 0.0, ...\n",
              "2       1        6  ...        1  [0.0, 0.0, 0.0, 0.0, 0.0, 0.0, 0.0, 0.0, 0.0, ...\n",
              "3       1       47  ...        1  [0.0, 0.0, 0.0, 0.0, 0.0, 0.0, 0.0, 0.0, 0.0, ...\n",
              "4       1       50  ...        2  [0.0, 0.0, 0.0, 0.0, 0.0, 0.0, 0.0, 0.0, 0.0, ...\n",
              "\n",
              "[5 rows x 9 columns]"
            ]
          },
          "metadata": {
            "tags": []
          },
          "execution_count": 48
        }
      ]
    },
    {
      "cell_type": "code",
      "metadata": {
        "colab": {
          "base_uri": "https://localhost:8080/",
          "height": 204
        },
        "id": "oqOu0nPMnSUG",
        "outputId": "264a2945-875a-4522-c51a-f1e5496f157a"
      },
      "source": [
        "movies.head()"
      ],
      "execution_count": 49,
      "outputs": [
        {
          "output_type": "execute_result",
          "data": {
            "text/html": [
              "<div>\n",
              "<style scoped>\n",
              "    .dataframe tbody tr th:only-of-type {\n",
              "        vertical-align: middle;\n",
              "    }\n",
              "\n",
              "    .dataframe tbody tr th {\n",
              "        vertical-align: top;\n",
              "    }\n",
              "\n",
              "    .dataframe thead th {\n",
              "        text-align: right;\n",
              "    }\n",
              "</style>\n",
              "<table border=\"1\" class=\"dataframe\">\n",
              "  <thead>\n",
              "    <tr style=\"text-align: right;\">\n",
              "      <th></th>\n",
              "      <th>movieId</th>\n",
              "      <th>title</th>\n",
              "      <th>genres</th>\n",
              "      <th>m_nid</th>\n",
              "    </tr>\n",
              "  </thead>\n",
              "  <tbody>\n",
              "    <tr>\n",
              "      <th>0</th>\n",
              "      <td>1</td>\n",
              "      <td>Toy Story (1995)</td>\n",
              "      <td>Adventure|Animation|Children|Comedy|Fantasy</td>\n",
              "      <td>0</td>\n",
              "    </tr>\n",
              "    <tr>\n",
              "      <th>1</th>\n",
              "      <td>2</td>\n",
              "      <td>Jumanji (1995)</td>\n",
              "      <td>Adventure|Children|Fantasy</td>\n",
              "      <td>1</td>\n",
              "    </tr>\n",
              "    <tr>\n",
              "      <th>2</th>\n",
              "      <td>3</td>\n",
              "      <td>Grumpier Old Men (1995)</td>\n",
              "      <td>Comedy|Romance</td>\n",
              "      <td>2</td>\n",
              "    </tr>\n",
              "    <tr>\n",
              "      <th>3</th>\n",
              "      <td>4</td>\n",
              "      <td>Waiting to Exhale (1995)</td>\n",
              "      <td>Comedy|Drama|Romance</td>\n",
              "      <td>3</td>\n",
              "    </tr>\n",
              "    <tr>\n",
              "      <th>4</th>\n",
              "      <td>5</td>\n",
              "      <td>Father of the Bride Part II (1995)</td>\n",
              "      <td>Comedy</td>\n",
              "      <td>4</td>\n",
              "    </tr>\n",
              "  </tbody>\n",
              "</table>\n",
              "</div>"
            ],
            "text/plain": [
              "   movieId  ... m_nid\n",
              "0        1  ...     0\n",
              "1        2  ...     1\n",
              "2        3  ...     2\n",
              "3        4  ...     3\n",
              "4        5  ...     4\n",
              "\n",
              "[5 rows x 4 columns]"
            ]
          },
          "metadata": {
            "tags": []
          },
          "execution_count": 49
        }
      ]
    },
    {
      "cell_type": "code",
      "metadata": {
        "colab": {
          "base_uri": "https://localhost:8080/"
        },
        "id": "pEUuIcxSok0s",
        "outputId": "a0e8a2f8-7065-48fb-9306-e6552bd2dbeb"
      },
      "source": [
        "unique_genres = np.unique(np.concatenate(np.array(movies.genres.apply(lambda x: np.array(x.split(\"|\"))).tolist())))\n",
        "dict_gid_2_gnr = { gid:genre for gid, genre in enumerate(unique_genres)} \n",
        "dict_gnr_2_gid = { genre:gid for gid, genre in dict_gid_2_gnr.items()}\n",
        "unique_genres"
      ],
      "execution_count": 50,
      "outputs": [
        {
          "output_type": "execute_result",
          "data": {
            "text/plain": [
              "array(['(no genres listed)', 'Action', 'Adventure', 'Animation',\n",
              "       'Children', 'Comedy', 'Crime', 'Documentary', 'Drama', 'Fantasy',\n",
              "       'Film-Noir', 'Horror', 'IMAX', 'Musical', 'Mystery', 'Romance',\n",
              "       'Sci-Fi', 'Thriller', 'War', 'Western'], dtype='<U18')"
            ]
          },
          "metadata": {
            "tags": []
          },
          "execution_count": 50
        }
      ]
    },
    {
      "cell_type": "code",
      "metadata": {
        "id": "qzzO3e5BqEgA"
      },
      "source": [
        "gnr_vectors = list()\n",
        "for gnrs in movies.genres.apply(lambda x: x.split(\"|\")).tolist():\n",
        "  gnr_vector = np.zeros(len(unique_genres))\n",
        "  for gnr in gnrs:\n",
        "    gnr_vector[dict_gnr_2_gid[gnr]] = 1\n",
        "  gnr_vectors.append(gnr_vector)"
      ],
      "execution_count": 51,
      "outputs": []
    },
    {
      "cell_type": "code",
      "metadata": {
        "colab": {
          "base_uri": "https://localhost:8080/",
          "height": 204
        },
        "id": "u19eqiiCol4q",
        "outputId": "4125805d-223b-49b8-a986-875be0c1a56f"
      },
      "source": [
        "movies.loc[:,\"genres_vectors\"] = pd.Series(gnr_vectors)\n",
        "movies.head()"
      ],
      "execution_count": 52,
      "outputs": [
        {
          "output_type": "execute_result",
          "data": {
            "text/html": [
              "<div>\n",
              "<style scoped>\n",
              "    .dataframe tbody tr th:only-of-type {\n",
              "        vertical-align: middle;\n",
              "    }\n",
              "\n",
              "    .dataframe tbody tr th {\n",
              "        vertical-align: top;\n",
              "    }\n",
              "\n",
              "    .dataframe thead th {\n",
              "        text-align: right;\n",
              "    }\n",
              "</style>\n",
              "<table border=\"1\" class=\"dataframe\">\n",
              "  <thead>\n",
              "    <tr style=\"text-align: right;\">\n",
              "      <th></th>\n",
              "      <th>movieId</th>\n",
              "      <th>title</th>\n",
              "      <th>genres</th>\n",
              "      <th>m_nid</th>\n",
              "      <th>genres_vectors</th>\n",
              "    </tr>\n",
              "  </thead>\n",
              "  <tbody>\n",
              "    <tr>\n",
              "      <th>0</th>\n",
              "      <td>1</td>\n",
              "      <td>Toy Story (1995)</td>\n",
              "      <td>Adventure|Animation|Children|Comedy|Fantasy</td>\n",
              "      <td>0</td>\n",
              "      <td>[0.0, 0.0, 1.0, 1.0, 1.0, 1.0, 0.0, 0.0, 0.0, ...</td>\n",
              "    </tr>\n",
              "    <tr>\n",
              "      <th>1</th>\n",
              "      <td>2</td>\n",
              "      <td>Jumanji (1995)</td>\n",
              "      <td>Adventure|Children|Fantasy</td>\n",
              "      <td>1</td>\n",
              "      <td>[0.0, 0.0, 1.0, 0.0, 1.0, 0.0, 0.0, 0.0, 0.0, ...</td>\n",
              "    </tr>\n",
              "    <tr>\n",
              "      <th>2</th>\n",
              "      <td>3</td>\n",
              "      <td>Grumpier Old Men (1995)</td>\n",
              "      <td>Comedy|Romance</td>\n",
              "      <td>2</td>\n",
              "      <td>[0.0, 0.0, 0.0, 0.0, 0.0, 1.0, 0.0, 0.0, 0.0, ...</td>\n",
              "    </tr>\n",
              "    <tr>\n",
              "      <th>3</th>\n",
              "      <td>4</td>\n",
              "      <td>Waiting to Exhale (1995)</td>\n",
              "      <td>Comedy|Drama|Romance</td>\n",
              "      <td>3</td>\n",
              "      <td>[0.0, 0.0, 0.0, 0.0, 0.0, 1.0, 0.0, 0.0, 1.0, ...</td>\n",
              "    </tr>\n",
              "    <tr>\n",
              "      <th>4</th>\n",
              "      <td>5</td>\n",
              "      <td>Father of the Bride Part II (1995)</td>\n",
              "      <td>Comedy</td>\n",
              "      <td>4</td>\n",
              "      <td>[0.0, 0.0, 0.0, 0.0, 0.0, 1.0, 0.0, 0.0, 0.0, ...</td>\n",
              "    </tr>\n",
              "  </tbody>\n",
              "</table>\n",
              "</div>"
            ],
            "text/plain": [
              "   movieId  ...                                     genres_vectors\n",
              "0        1  ...  [0.0, 0.0, 1.0, 1.0, 1.0, 1.0, 0.0, 0.0, 0.0, ...\n",
              "1        2  ...  [0.0, 0.0, 1.0, 0.0, 1.0, 0.0, 0.0, 0.0, 0.0, ...\n",
              "2        3  ...  [0.0, 0.0, 0.0, 0.0, 0.0, 1.0, 0.0, 0.0, 0.0, ...\n",
              "3        4  ...  [0.0, 0.0, 0.0, 0.0, 0.0, 1.0, 0.0, 0.0, 1.0, ...\n",
              "4        5  ...  [0.0, 0.0, 0.0, 0.0, 0.0, 1.0, 0.0, 0.0, 0.0, ...\n",
              "\n",
              "[5 rows x 5 columns]"
            ]
          },
          "metadata": {
            "tags": []
          },
          "execution_count": 52
        }
      ]
    },
    {
      "cell_type": "code",
      "metadata": {
        "id": "PW86qYLBpd9L"
      },
      "source": [
        "import re\n",
        "\n",
        "def get_year(regex, string):\n",
        "  try:\n",
        "    found = re.search(regex,string).group(0)[1:-1]\n",
        "  except AttributeError:\n",
        "    found = ''\n",
        "  return found\n",
        "\n",
        "regex = '\\([0-9]{4}\\)'\n",
        "movies.loc[:,\"launch_year\"] = movies.title.apply(lambda x:get_year(regex,x))"
      ],
      "execution_count": 53,
      "outputs": []
    },
    {
      "cell_type": "code",
      "metadata": {
        "colab": {
          "base_uri": "https://localhost:8080/",
          "height": 204
        },
        "id": "g2GzZYguwMHt",
        "outputId": "124f13d9-0831-4b74-e87a-a4bfde0c138a"
      },
      "source": [
        "movies.head()"
      ],
      "execution_count": 54,
      "outputs": [
        {
          "output_type": "execute_result",
          "data": {
            "text/html": [
              "<div>\n",
              "<style scoped>\n",
              "    .dataframe tbody tr th:only-of-type {\n",
              "        vertical-align: middle;\n",
              "    }\n",
              "\n",
              "    .dataframe tbody tr th {\n",
              "        vertical-align: top;\n",
              "    }\n",
              "\n",
              "    .dataframe thead th {\n",
              "        text-align: right;\n",
              "    }\n",
              "</style>\n",
              "<table border=\"1\" class=\"dataframe\">\n",
              "  <thead>\n",
              "    <tr style=\"text-align: right;\">\n",
              "      <th></th>\n",
              "      <th>movieId</th>\n",
              "      <th>title</th>\n",
              "      <th>genres</th>\n",
              "      <th>m_nid</th>\n",
              "      <th>genres_vectors</th>\n",
              "      <th>launch_year</th>\n",
              "    </tr>\n",
              "  </thead>\n",
              "  <tbody>\n",
              "    <tr>\n",
              "      <th>0</th>\n",
              "      <td>1</td>\n",
              "      <td>Toy Story (1995)</td>\n",
              "      <td>Adventure|Animation|Children|Comedy|Fantasy</td>\n",
              "      <td>0</td>\n",
              "      <td>[0.0, 0.0, 1.0, 1.0, 1.0, 1.0, 0.0, 0.0, 0.0, ...</td>\n",
              "      <td>1995</td>\n",
              "    </tr>\n",
              "    <tr>\n",
              "      <th>1</th>\n",
              "      <td>2</td>\n",
              "      <td>Jumanji (1995)</td>\n",
              "      <td>Adventure|Children|Fantasy</td>\n",
              "      <td>1</td>\n",
              "      <td>[0.0, 0.0, 1.0, 0.0, 1.0, 0.0, 0.0, 0.0, 0.0, ...</td>\n",
              "      <td>1995</td>\n",
              "    </tr>\n",
              "    <tr>\n",
              "      <th>2</th>\n",
              "      <td>3</td>\n",
              "      <td>Grumpier Old Men (1995)</td>\n",
              "      <td>Comedy|Romance</td>\n",
              "      <td>2</td>\n",
              "      <td>[0.0, 0.0, 0.0, 0.0, 0.0, 1.0, 0.0, 0.0, 0.0, ...</td>\n",
              "      <td>1995</td>\n",
              "    </tr>\n",
              "    <tr>\n",
              "      <th>3</th>\n",
              "      <td>4</td>\n",
              "      <td>Waiting to Exhale (1995)</td>\n",
              "      <td>Comedy|Drama|Romance</td>\n",
              "      <td>3</td>\n",
              "      <td>[0.0, 0.0, 0.0, 0.0, 0.0, 1.0, 0.0, 0.0, 1.0, ...</td>\n",
              "      <td>1995</td>\n",
              "    </tr>\n",
              "    <tr>\n",
              "      <th>4</th>\n",
              "      <td>5</td>\n",
              "      <td>Father of the Bride Part II (1995)</td>\n",
              "      <td>Comedy</td>\n",
              "      <td>4</td>\n",
              "      <td>[0.0, 0.0, 0.0, 0.0, 0.0, 1.0, 0.0, 0.0, 0.0, ...</td>\n",
              "      <td>1995</td>\n",
              "    </tr>\n",
              "  </tbody>\n",
              "</table>\n",
              "</div>"
            ],
            "text/plain": [
              "   movieId  ... launch_year\n",
              "0        1  ...        1995\n",
              "1        2  ...        1995\n",
              "2        3  ...        1995\n",
              "3        4  ...        1995\n",
              "4        5  ...        1995\n",
              "\n",
              "[5 rows x 6 columns]"
            ]
          },
          "metadata": {
            "tags": []
          },
          "execution_count": 54
        }
      ]
    },
    {
      "cell_type": "code",
      "metadata": {
        "colab": {
          "base_uri": "https://localhost:8080/",
          "height": 204
        },
        "id": "p9IIlRtqv0Rx",
        "outputId": "d1dbeb94-d7ab-435d-f7dc-fdd89599e0d3"
      },
      "source": [
        "movies.loc[movies.launch_year==\"\",\"launch_year\"] = 0\n",
        "movies.loc[:,\"launch_year\"] = movies.launch_year.astype(\"int\")\n",
        "movies.loc[movies.launch_year==0].head()"
      ],
      "execution_count": 55,
      "outputs": [
        {
          "output_type": "execute_result",
          "data": {
            "text/html": [
              "<div>\n",
              "<style scoped>\n",
              "    .dataframe tbody tr th:only-of-type {\n",
              "        vertical-align: middle;\n",
              "    }\n",
              "\n",
              "    .dataframe tbody tr th {\n",
              "        vertical-align: top;\n",
              "    }\n",
              "\n",
              "    .dataframe thead th {\n",
              "        text-align: right;\n",
              "    }\n",
              "</style>\n",
              "<table border=\"1\" class=\"dataframe\">\n",
              "  <thead>\n",
              "    <tr style=\"text-align: right;\">\n",
              "      <th></th>\n",
              "      <th>movieId</th>\n",
              "      <th>title</th>\n",
              "      <th>genres</th>\n",
              "      <th>m_nid</th>\n",
              "      <th>genres_vectors</th>\n",
              "      <th>launch_year</th>\n",
              "    </tr>\n",
              "  </thead>\n",
              "  <tbody>\n",
              "    <tr>\n",
              "      <th>6059</th>\n",
              "      <td>40697</td>\n",
              "      <td>Babylon 5</td>\n",
              "      <td>Sci-Fi</td>\n",
              "      <td>6059</td>\n",
              "      <td>[0.0, 0.0, 0.0, 0.0, 0.0, 0.0, 0.0, 0.0, 0.0, ...</td>\n",
              "      <td>0</td>\n",
              "    </tr>\n",
              "    <tr>\n",
              "      <th>9031</th>\n",
              "      <td>140956</td>\n",
              "      <td>Ready Player One</td>\n",
              "      <td>Action|Sci-Fi|Thriller</td>\n",
              "      <td>9031</td>\n",
              "      <td>[0.0, 1.0, 0.0, 0.0, 0.0, 0.0, 0.0, 0.0, 0.0, ...</td>\n",
              "      <td>0</td>\n",
              "    </tr>\n",
              "    <tr>\n",
              "      <th>9091</th>\n",
              "      <td>143410</td>\n",
              "      <td>Hyena Road</td>\n",
              "      <td>(no genres listed)</td>\n",
              "      <td>9091</td>\n",
              "      <td>[1.0, 0.0, 0.0, 0.0, 0.0, 0.0, 0.0, 0.0, 0.0, ...</td>\n",
              "      <td>0</td>\n",
              "    </tr>\n",
              "    <tr>\n",
              "      <th>9138</th>\n",
              "      <td>147250</td>\n",
              "      <td>The Adventures of Sherlock Holmes and Doctor W...</td>\n",
              "      <td>(no genres listed)</td>\n",
              "      <td>9138</td>\n",
              "      <td>[1.0, 0.0, 0.0, 0.0, 0.0, 0.0, 0.0, 0.0, 0.0, ...</td>\n",
              "      <td>0</td>\n",
              "    </tr>\n",
              "    <tr>\n",
              "      <th>9179</th>\n",
              "      <td>149334</td>\n",
              "      <td>Nocturnal Animals</td>\n",
              "      <td>Drama|Thriller</td>\n",
              "      <td>9179</td>\n",
              "      <td>[0.0, 0.0, 0.0, 0.0, 0.0, 0.0, 0.0, 0.0, 1.0, ...</td>\n",
              "      <td>0</td>\n",
              "    </tr>\n",
              "  </tbody>\n",
              "</table>\n",
              "</div>"
            ],
            "text/plain": [
              "      movieId  ... launch_year\n",
              "6059    40697  ...           0\n",
              "9031   140956  ...           0\n",
              "9091   143410  ...           0\n",
              "9138   147250  ...           0\n",
              "9179   149334  ...           0\n",
              "\n",
              "[5 rows x 6 columns]"
            ]
          },
          "metadata": {
            "tags": []
          },
          "execution_count": 55
        }
      ]
    },
    {
      "cell_type": "code",
      "metadata": {
        "id": "v1BQV748xMD0"
      },
      "source": [
        "movies.loc[movies.launch_year != 0,\"movie_title\"] = movies.loc[movies.launch_year!= 0,\"title\"].apply(lambda x:x[:-6].strip()) \n",
        "movies.loc[movies.launch_year== 0,\"movie_title\"] = movies.loc[movies.launch_year== 0,\"title\"]"
      ],
      "execution_count": 56,
      "outputs": []
    },
    {
      "cell_type": "code",
      "metadata": {
        "colab": {
          "base_uri": "https://localhost:8080/",
          "height": 204
        },
        "id": "p085FvUSrKmw",
        "outputId": "1423cd8f-994a-4e9f-dd97-3f6e244fae8e"
      },
      "source": [
        "movies.head()"
      ],
      "execution_count": 57,
      "outputs": [
        {
          "output_type": "execute_result",
          "data": {
            "text/html": [
              "<div>\n",
              "<style scoped>\n",
              "    .dataframe tbody tr th:only-of-type {\n",
              "        vertical-align: middle;\n",
              "    }\n",
              "\n",
              "    .dataframe tbody tr th {\n",
              "        vertical-align: top;\n",
              "    }\n",
              "\n",
              "    .dataframe thead th {\n",
              "        text-align: right;\n",
              "    }\n",
              "</style>\n",
              "<table border=\"1\" class=\"dataframe\">\n",
              "  <thead>\n",
              "    <tr style=\"text-align: right;\">\n",
              "      <th></th>\n",
              "      <th>movieId</th>\n",
              "      <th>title</th>\n",
              "      <th>genres</th>\n",
              "      <th>m_nid</th>\n",
              "      <th>genres_vectors</th>\n",
              "      <th>launch_year</th>\n",
              "      <th>movie_title</th>\n",
              "    </tr>\n",
              "  </thead>\n",
              "  <tbody>\n",
              "    <tr>\n",
              "      <th>0</th>\n",
              "      <td>1</td>\n",
              "      <td>Toy Story (1995)</td>\n",
              "      <td>Adventure|Animation|Children|Comedy|Fantasy</td>\n",
              "      <td>0</td>\n",
              "      <td>[0.0, 0.0, 1.0, 1.0, 1.0, 1.0, 0.0, 0.0, 0.0, ...</td>\n",
              "      <td>1995</td>\n",
              "      <td>Toy Story</td>\n",
              "    </tr>\n",
              "    <tr>\n",
              "      <th>1</th>\n",
              "      <td>2</td>\n",
              "      <td>Jumanji (1995)</td>\n",
              "      <td>Adventure|Children|Fantasy</td>\n",
              "      <td>1</td>\n",
              "      <td>[0.0, 0.0, 1.0, 0.0, 1.0, 0.0, 0.0, 0.0, 0.0, ...</td>\n",
              "      <td>1995</td>\n",
              "      <td>Jumanji</td>\n",
              "    </tr>\n",
              "    <tr>\n",
              "      <th>2</th>\n",
              "      <td>3</td>\n",
              "      <td>Grumpier Old Men (1995)</td>\n",
              "      <td>Comedy|Romance</td>\n",
              "      <td>2</td>\n",
              "      <td>[0.0, 0.0, 0.0, 0.0, 0.0, 1.0, 0.0, 0.0, 0.0, ...</td>\n",
              "      <td>1995</td>\n",
              "      <td>Grumpier Old Men</td>\n",
              "    </tr>\n",
              "    <tr>\n",
              "      <th>3</th>\n",
              "      <td>4</td>\n",
              "      <td>Waiting to Exhale (1995)</td>\n",
              "      <td>Comedy|Drama|Romance</td>\n",
              "      <td>3</td>\n",
              "      <td>[0.0, 0.0, 0.0, 0.0, 0.0, 1.0, 0.0, 0.0, 1.0, ...</td>\n",
              "      <td>1995</td>\n",
              "      <td>Waiting to Exhale</td>\n",
              "    </tr>\n",
              "    <tr>\n",
              "      <th>4</th>\n",
              "      <td>5</td>\n",
              "      <td>Father of the Bride Part II (1995)</td>\n",
              "      <td>Comedy</td>\n",
              "      <td>4</td>\n",
              "      <td>[0.0, 0.0, 0.0, 0.0, 0.0, 1.0, 0.0, 0.0, 0.0, ...</td>\n",
              "      <td>1995</td>\n",
              "      <td>Father of the Bride Part II</td>\n",
              "    </tr>\n",
              "  </tbody>\n",
              "</table>\n",
              "</div>"
            ],
            "text/plain": [
              "   movieId  ...                  movie_title\n",
              "0        1  ...                    Toy Story\n",
              "1        2  ...                      Jumanji\n",
              "2        3  ...             Grumpier Old Men\n",
              "3        4  ...            Waiting to Exhale\n",
              "4        5  ...  Father of the Bride Part II\n",
              "\n",
              "[5 rows x 7 columns]"
            ]
          },
          "metadata": {
            "tags": []
          },
          "execution_count": 57
        }
      ]
    },
    {
      "cell_type": "code",
      "metadata": {
        "colab": {
          "base_uri": "https://localhost:8080/",
          "height": 234,
          "referenced_widgets": [
            "b646ac4c5ec84ec9b80fbca76ed33a43",
            "06f26eb626834b8d8f21ab105fc855ac",
            "1c16072efc084393b1e8585dc81f4d52",
            "a2f932d61d5249919945e5059e553ff3",
            "3f23455a3dd44164a7a548a2ce10c7e5",
            "ff9deb8ccd9746d5be0fce4cffcb5254",
            "a22bc0b3908c42dc95ec978f4f4ee3c5",
            "4073298a85714929b8786564408fed32",
            "ee906d3da4fb407eba490e792aca02fc",
            "5e561625097e4710b60f5a237e65b05a",
            "9b241e5ef3f24329862e922bc8d091ca",
            "9202727faf1e46c998bf3a3e954f4760",
            "18266ca9503442df8774064bc81db349",
            "35a1db3a357c4de8867d11e58f4398a0",
            "44bfa3dc1e7c4f93bc670477708f4cde",
            "a76bb3f541ed43f2a4fe491d564659b4"
          ]
        },
        "id": "tO5RK1M6JiGg",
        "outputId": "465b157c-9d5c-47e3-839e-723af5cac833"
      },
      "source": [
        "### 특수문자 제외 및 단어별 배열로 변경\n",
        "# list_title_frac= movies.movie_title.apply(lambda x:re.findall(regex,x)).to_list()\n",
        "\n",
        "vocab_size = 24000\n",
        "method = \"bpe\"\n",
        "\n",
        "input_file_path = os.path.join(data_path,\"title_tokenizer_input_{}_{}.txt\".format(method,vocab_size))\n",
        "tokenizer_name = os.path.join(data_path,\"title_tokenizer_{}_{}\".format(method, vocab_size))\n",
        "tokenizer_name_model = os.path.join(data_path,\"title_tokenizer_{}_{}.model\".format(method, vocab_size))\n",
        "\n",
        "### make_input4tokenizer\n",
        "# sentences = list(map(lambda x:\" \".join(x),list_title_frac))\n",
        "sentences = movies.movie_title.to_list()\n",
        "\n",
        "\n",
        "with open(input_file_path,'w',encoding='utf8') as f:\n",
        "  for sentence in tqdm_notebook(sentences):\n",
        "    f.write(sentence+'\\n')\n",
        "\n",
        "### train_tokenizer\n",
        "templates = ' --input={} \\\n",
        "    --pad_id=0 \\\n",
        "    --bos_id=1 \\\n",
        "    --eos_id=2 \\\n",
        "    --unk_id=3 \\\n",
        "    --model_prefix={} \\\n",
        "    --vocab_size={} \\\n",
        "    --character_coverage=1.0 \\\n",
        "    --model_type={}'\n",
        "\n",
        "cmd = templates.format(input_file_path, tokenizer_name, vocab_size, method)\n",
        "spm.SentencePieceTrainer.Train(cmd)\n",
        "print(\"title_tokenizer {} is generated\".format(tokenizer_name))\n",
        "sp = spm.SentencePieceProcessor()\n",
        "sp.Load(tokenizer_name_model)\n",
        "\n",
        "\n",
        "def get_tokens_from_sentences(sp, sentences):\n",
        "    tokenized_sentences = []\n",
        "    for sentence in sentences:\n",
        "        tokens = sp.EncodeAsPieces(sentence)\n",
        "        new_tokens = []\n",
        "        for token in tokens:\n",
        "            token = token.replace(\"▁\", \"\")\n",
        "            # if len(token) > 1:\n",
        "            new_tokens.append(token)\n",
        "        # if len(new_tokens) > 1:\n",
        "        tokenized_sentences.append(new_tokens)\n",
        "\n",
        "    return tokenized_sentences\n",
        "\n",
        "\n",
        "def get_tokens_from_sentence(sp, sentence):\n",
        "    new_tokens = []\n",
        "    tokens = sp.EncodeAsPieces(sentence)\n",
        "    for token in tokens:\n",
        "        token = token.replace(\"▁\", \"\")\n",
        "        if len(token) > 1:\n",
        "            new_tokens.append(token)\n",
        "    return new_tokens\n",
        "\n",
        "tokenized_sentences = get_tokens_from_sentences(sp,sentences)\n",
        "\n",
        "### train w2v\n",
        "w2v_name = os.path.join(data_path,\"title_w2v_{}_{}.model\".format(method,vocab_size))\n",
        "print(\"start train_title_w2v....\")\n",
        "\n",
        "size = 200\n",
        "window =5\n",
        "min_count = 2\n",
        "workers = 8\n",
        "sg = 1\n",
        "hs = 1\n",
        "\n",
        "model = w2v(tokenized_sentences,size=size,window=window,min_count=min_count,workers=workers,sg=sg,hs=hs)\n",
        "model.save(w2v_name)\n",
        "print(\"title_w2v {} is generated\".format(w2v_name))\n",
        "\n",
        "# ### get embedding\n",
        "\n",
        "sp = spm.SentencePieceProcessor()\n",
        "sp.Load(tokenizer_name_model)\n",
        "\n",
        "w2v_model = w2v.load(w2v_name)\n",
        "\n",
        "sentence_embs = []\n",
        "# # 학습이 안되는 벡터들에 대해서는 0값이 나으므로 0벡터로 input 처리 수행\n",
        "for sentence in tqdm_notebook(tokenized_sentences):\n",
        "  word_embs = []\n",
        "  for p_word in sentence:\n",
        "    try:\n",
        "      word_embs.append(w2v_model.wv[p_word])\n",
        "    except KeyError:\n",
        "      pass\n",
        "  if len(word_embs):\n",
        "    p_emb = np.average(word_embs, axis=0).tolist()\n",
        "  else:\n",
        "    p_emb = np.zeros(200).tolist()\n",
        "  sentence_embs.append(p_emb)"
      ],
      "execution_count": 58,
      "outputs": [
        {
          "output_type": "stream",
          "text": [
            "/usr/local/lib/python3.6/dist-packages/ipykernel_launcher.py:17: TqdmDeprecationWarning: This function will be removed in tqdm==5.0.0\n",
            "Please use `tqdm.notebook.tqdm` instead of `tqdm.tqdm_notebook`\n"
          ],
          "name": "stderr"
        },
        {
          "output_type": "display_data",
          "data": {
            "application/vnd.jupyter.widget-view+json": {
              "model_id": "b646ac4c5ec84ec9b80fbca76ed33a43",
              "version_minor": 0,
              "version_major": 2
            },
            "text/plain": [
              "HBox(children=(FloatProgress(value=0.0, max=9742.0), HTML(value='')))"
            ]
          },
          "metadata": {
            "tags": []
          }
        },
        {
          "output_type": "stream",
          "text": [
            "\n",
            "title_tokenizer /gdrive/MyDrive/colab/Factorization_Machine/data/title_tokenizer_bpe_24000 is generated\n",
            "start train_title_w2v....\n",
            "title_w2v /gdrive/MyDrive/colab/Factorization_Machine/data/title_w2v_bpe_24000.model is generated\n"
          ],
          "name": "stdout"
        },
        {
          "output_type": "stream",
          "text": [
            "/usr/local/lib/python3.6/dist-packages/ipykernel_launcher.py:80: TqdmDeprecationWarning: This function will be removed in tqdm==5.0.0\n",
            "Please use `tqdm.notebook.tqdm` instead of `tqdm.tqdm_notebook`\n"
          ],
          "name": "stderr"
        },
        {
          "output_type": "display_data",
          "data": {
            "application/vnd.jupyter.widget-view+json": {
              "model_id": "ee906d3da4fb407eba490e792aca02fc",
              "version_minor": 0,
              "version_major": 2
            },
            "text/plain": [
              "HBox(children=(FloatProgress(value=0.0, max=9742.0), HTML(value='')))"
            ]
          },
          "metadata": {
            "tags": []
          }
        },
        {
          "output_type": "stream",
          "text": [
            "\n"
          ],
          "name": "stdout"
        }
      ]
    },
    {
      "cell_type": "code",
      "metadata": {
        "colab": {
          "base_uri": "https://localhost:8080/",
          "height": 204
        },
        "id": "6K0qXH2dJn7T",
        "outputId": "793d7823-3998-415e-a676-0076f7a89700"
      },
      "source": [
        "movies.loc[:,\"title_vector\"] = pd.Series(sentence_embs)\n",
        "movies.head()"
      ],
      "execution_count": 59,
      "outputs": [
        {
          "output_type": "execute_result",
          "data": {
            "text/html": [
              "<div>\n",
              "<style scoped>\n",
              "    .dataframe tbody tr th:only-of-type {\n",
              "        vertical-align: middle;\n",
              "    }\n",
              "\n",
              "    .dataframe tbody tr th {\n",
              "        vertical-align: top;\n",
              "    }\n",
              "\n",
              "    .dataframe thead th {\n",
              "        text-align: right;\n",
              "    }\n",
              "</style>\n",
              "<table border=\"1\" class=\"dataframe\">\n",
              "  <thead>\n",
              "    <tr style=\"text-align: right;\">\n",
              "      <th></th>\n",
              "      <th>movieId</th>\n",
              "      <th>title</th>\n",
              "      <th>genres</th>\n",
              "      <th>m_nid</th>\n",
              "      <th>genres_vectors</th>\n",
              "      <th>launch_year</th>\n",
              "      <th>movie_title</th>\n",
              "      <th>title_vector</th>\n",
              "    </tr>\n",
              "  </thead>\n",
              "  <tbody>\n",
              "    <tr>\n",
              "      <th>0</th>\n",
              "      <td>1</td>\n",
              "      <td>Toy Story (1995)</td>\n",
              "      <td>Adventure|Animation|Children|Comedy|Fantasy</td>\n",
              "      <td>0</td>\n",
              "      <td>[0.0, 0.0, 1.0, 1.0, 1.0, 1.0, 0.0, 0.0, 0.0, ...</td>\n",
              "      <td>1995</td>\n",
              "      <td>Toy Story</td>\n",
              "      <td>[-0.04482043534517288, -0.07715187966823578, -...</td>\n",
              "    </tr>\n",
              "    <tr>\n",
              "      <th>1</th>\n",
              "      <td>2</td>\n",
              "      <td>Jumanji (1995)</td>\n",
              "      <td>Adventure|Children|Fantasy</td>\n",
              "      <td>1</td>\n",
              "      <td>[0.0, 0.0, 1.0, 0.0, 1.0, 0.0, 0.0, 0.0, 0.0, ...</td>\n",
              "      <td>1995</td>\n",
              "      <td>Jumanji</td>\n",
              "      <td>[-0.007090778090059757, -0.011958437971770763,...</td>\n",
              "    </tr>\n",
              "    <tr>\n",
              "      <th>2</th>\n",
              "      <td>3</td>\n",
              "      <td>Grumpier Old Men (1995)</td>\n",
              "      <td>Comedy|Romance</td>\n",
              "      <td>2</td>\n",
              "      <td>[0.0, 0.0, 0.0, 0.0, 0.0, 1.0, 0.0, 0.0, 0.0, ...</td>\n",
              "      <td>1995</td>\n",
              "      <td>Grumpier Old Men</td>\n",
              "      <td>[-0.06338685750961304, -0.09712792187929153, -...</td>\n",
              "    </tr>\n",
              "    <tr>\n",
              "      <th>3</th>\n",
              "      <td>4</td>\n",
              "      <td>Waiting to Exhale (1995)</td>\n",
              "      <td>Comedy|Drama|Romance</td>\n",
              "      <td>3</td>\n",
              "      <td>[0.0, 0.0, 0.0, 0.0, 0.0, 1.0, 0.0, 0.0, 1.0, ...</td>\n",
              "      <td>1995</td>\n",
              "      <td>Waiting to Exhale</td>\n",
              "      <td>[-0.03950951248407364, -0.07347463816404343, -...</td>\n",
              "    </tr>\n",
              "    <tr>\n",
              "      <th>4</th>\n",
              "      <td>5</td>\n",
              "      <td>Father of the Bride Part II (1995)</td>\n",
              "      <td>Comedy</td>\n",
              "      <td>4</td>\n",
              "      <td>[0.0, 0.0, 0.0, 0.0, 0.0, 1.0, 0.0, 0.0, 0.0, ...</td>\n",
              "      <td>1995</td>\n",
              "      <td>Father of the Bride Part II</td>\n",
              "      <td>[-0.06658771634101868, -0.15354056656360626, -...</td>\n",
              "    </tr>\n",
              "  </tbody>\n",
              "</table>\n",
              "</div>"
            ],
            "text/plain": [
              "   movieId  ...                                       title_vector\n",
              "0        1  ...  [-0.04482043534517288, -0.07715187966823578, -...\n",
              "1        2  ...  [-0.007090778090059757, -0.011958437971770763,...\n",
              "2        3  ...  [-0.06338685750961304, -0.09712792187929153, -...\n",
              "3        4  ...  [-0.03950951248407364, -0.07347463816404343, -...\n",
              "4        5  ...  [-0.06658771634101868, -0.15354056656360626, -...\n",
              "\n",
              "[5 rows x 8 columns]"
            ]
          },
          "metadata": {
            "tags": []
          },
          "execution_count": 59
        }
      ]
    },
    {
      "cell_type": "code",
      "metadata": {
        "colab": {
          "base_uri": "https://localhost:8080/",
          "height": 204
        },
        "id": "KZ9kbv8P5g6T",
        "outputId": "af807cfb-0075-4bb2-8a71-8a891bd4fa51"
      },
      "source": [
        "tags.head()"
      ],
      "execution_count": 60,
      "outputs": [
        {
          "output_type": "execute_result",
          "data": {
            "text/html": [
              "<div>\n",
              "<style scoped>\n",
              "    .dataframe tbody tr th:only-of-type {\n",
              "        vertical-align: middle;\n",
              "    }\n",
              "\n",
              "    .dataframe tbody tr th {\n",
              "        vertical-align: top;\n",
              "    }\n",
              "\n",
              "    .dataframe thead th {\n",
              "        text-align: right;\n",
              "    }\n",
              "</style>\n",
              "<table border=\"1\" class=\"dataframe\">\n",
              "  <thead>\n",
              "    <tr style=\"text-align: right;\">\n",
              "      <th></th>\n",
              "      <th>userId</th>\n",
              "      <th>movieId</th>\n",
              "      <th>tag</th>\n",
              "      <th>timestamp</th>\n",
              "      <th>u_nid</th>\n",
              "      <th>m_nid</th>\n",
              "    </tr>\n",
              "  </thead>\n",
              "  <tbody>\n",
              "    <tr>\n",
              "      <th>0</th>\n",
              "      <td>2</td>\n",
              "      <td>60756</td>\n",
              "      <td>funny</td>\n",
              "      <td>1445714994</td>\n",
              "      <td>1</td>\n",
              "      <td>6801</td>\n",
              "    </tr>\n",
              "    <tr>\n",
              "      <th>1</th>\n",
              "      <td>2</td>\n",
              "      <td>60756</td>\n",
              "      <td>Highly quotable</td>\n",
              "      <td>1445714996</td>\n",
              "      <td>1</td>\n",
              "      <td>6801</td>\n",
              "    </tr>\n",
              "    <tr>\n",
              "      <th>2</th>\n",
              "      <td>2</td>\n",
              "      <td>60756</td>\n",
              "      <td>will ferrell</td>\n",
              "      <td>1445714992</td>\n",
              "      <td>1</td>\n",
              "      <td>6801</td>\n",
              "    </tr>\n",
              "    <tr>\n",
              "      <th>3</th>\n",
              "      <td>2</td>\n",
              "      <td>89774</td>\n",
              "      <td>Boxing story</td>\n",
              "      <td>1445715207</td>\n",
              "      <td>1</td>\n",
              "      <td>7697</td>\n",
              "    </tr>\n",
              "    <tr>\n",
              "      <th>4</th>\n",
              "      <td>2</td>\n",
              "      <td>89774</td>\n",
              "      <td>MMA</td>\n",
              "      <td>1445715200</td>\n",
              "      <td>1</td>\n",
              "      <td>7697</td>\n",
              "    </tr>\n",
              "  </tbody>\n",
              "</table>\n",
              "</div>"
            ],
            "text/plain": [
              "   userId  movieId              tag   timestamp  u_nid  m_nid\n",
              "0       2    60756            funny  1445714994      1   6801\n",
              "1       2    60756  Highly quotable  1445714996      1   6801\n",
              "2       2    60756     will ferrell  1445714992      1   6801\n",
              "3       2    89774     Boxing story  1445715207      1   7697\n",
              "4       2    89774              MMA  1445715200      1   7697"
            ]
          },
          "metadata": {
            "tags": []
          },
          "execution_count": 60
        }
      ]
    },
    {
      "cell_type": "code",
      "metadata": {
        "id": "fhrlcKGv5gzb"
      },
      "source": [
        "from collections import OrderedDict\n",
        "set_tag_user_movie = set(zip(tags.userId, tags.movieId))\n",
        "\n",
        "dict_tag_string = OrderedDict()\n",
        "for user, movie in set_tag_user_movie:\n",
        "  list_tag = tags.loc[np.logical_and(tags.userId==user,tags.movieId==movie),\"tag\"].tolist()\n",
        "  dict_tag_string[(user,movie)] = list_tag\n",
        "\n",
        "dict_tag_string = OrderedDict(sorted(dict_tag_string.items()))"
      ],
      "execution_count": 61,
      "outputs": []
    },
    {
      "cell_type": "code",
      "metadata": {
        "colab": {
          "base_uri": "https://localhost:8080/",
          "height": 204
        },
        "id": "MkNpy6HEKrNm",
        "outputId": "57f046ab-4cce-42c8-e3e7-26e27c3e4fc4"
      },
      "source": [
        "user_series = pd.Series(list(map(lambda x:x[0],dict_tag_string.keys())))\n",
        "movie_series = pd.Series(list(map(lambda x:x[1],dict_tag_string.keys()))) \n",
        "tag_series = pd.Series(list(dict_tag_string.values()))\n",
        "\n",
        "df_tag_list = pd.concat([user_series,movie_series,tag_series],axis=1)\n",
        "df_tag_list.columns = [\"userId\",\"movieId\",\"tags\"]\n",
        "df_tag_list.head()"
      ],
      "execution_count": 62,
      "outputs": [
        {
          "output_type": "execute_result",
          "data": {
            "text/html": [
              "<div>\n",
              "<style scoped>\n",
              "    .dataframe tbody tr th:only-of-type {\n",
              "        vertical-align: middle;\n",
              "    }\n",
              "\n",
              "    .dataframe tbody tr th {\n",
              "        vertical-align: top;\n",
              "    }\n",
              "\n",
              "    .dataframe thead th {\n",
              "        text-align: right;\n",
              "    }\n",
              "</style>\n",
              "<table border=\"1\" class=\"dataframe\">\n",
              "  <thead>\n",
              "    <tr style=\"text-align: right;\">\n",
              "      <th></th>\n",
              "      <th>userId</th>\n",
              "      <th>movieId</th>\n",
              "      <th>tags</th>\n",
              "    </tr>\n",
              "  </thead>\n",
              "  <tbody>\n",
              "    <tr>\n",
              "      <th>0</th>\n",
              "      <td>2</td>\n",
              "      <td>60756</td>\n",
              "      <td>[funny, Highly quotable, will ferrell]</td>\n",
              "    </tr>\n",
              "    <tr>\n",
              "      <th>1</th>\n",
              "      <td>2</td>\n",
              "      <td>89774</td>\n",
              "      <td>[Boxing story, MMA, Tom Hardy]</td>\n",
              "    </tr>\n",
              "    <tr>\n",
              "      <th>2</th>\n",
              "      <td>2</td>\n",
              "      <td>106782</td>\n",
              "      <td>[drugs, Leonardo DiCaprio, Martin Scorsese]</td>\n",
              "    </tr>\n",
              "    <tr>\n",
              "      <th>3</th>\n",
              "      <td>7</td>\n",
              "      <td>48516</td>\n",
              "      <td>[way too long]</td>\n",
              "    </tr>\n",
              "    <tr>\n",
              "      <th>4</th>\n",
              "      <td>18</td>\n",
              "      <td>431</td>\n",
              "      <td>[Al Pacino, gangster, mafia]</td>\n",
              "    </tr>\n",
              "  </tbody>\n",
              "</table>\n",
              "</div>"
            ],
            "text/plain": [
              "   userId  movieId                                         tags\n",
              "0       2    60756       [funny, Highly quotable, will ferrell]\n",
              "1       2    89774               [Boxing story, MMA, Tom Hardy]\n",
              "2       2   106782  [drugs, Leonardo DiCaprio, Martin Scorsese]\n",
              "3       7    48516                               [way too long]\n",
              "4      18      431                 [Al Pacino, gangster, mafia]"
            ]
          },
          "metadata": {
            "tags": []
          },
          "execution_count": 62
        }
      ]
    },
    {
      "cell_type": "code",
      "metadata": {
        "colab": {
          "base_uri": "https://localhost:8080/",
          "height": 204
        },
        "id": "RH0IhD-2NWd4",
        "outputId": "bb769a8e-2e7e-4801-df24-035ed5936f3f"
      },
      "source": [
        "ratings = pd.merge(left=ratings, right=df_tag_list, on=[\"userId\",\"movieId\"], how=\"left\")\n",
        "ratings.loc[:,\"tags\"]= ratings.tags.fillna(\" \")\n",
        "ratings.head()"
      ],
      "execution_count": 63,
      "outputs": [
        {
          "output_type": "execute_result",
          "data": {
            "text/html": [
              "<div>\n",
              "<style scoped>\n",
              "    .dataframe tbody tr th:only-of-type {\n",
              "        vertical-align: middle;\n",
              "    }\n",
              "\n",
              "    .dataframe tbody tr th {\n",
              "        vertical-align: top;\n",
              "    }\n",
              "\n",
              "    .dataframe thead th {\n",
              "        text-align: right;\n",
              "    }\n",
              "</style>\n",
              "<table border=\"1\" class=\"dataframe\">\n",
              "  <thead>\n",
              "    <tr style=\"text-align: right;\">\n",
              "      <th></th>\n",
              "      <th>userId</th>\n",
              "      <th>movieId</th>\n",
              "      <th>rating</th>\n",
              "      <th>timestamp</th>\n",
              "      <th>u_nid</th>\n",
              "      <th>m_nid</th>\n",
              "      <th>b4_timestamp</th>\n",
              "      <th>m_count</th>\n",
              "      <th>last_rate_vector</th>\n",
              "      <th>tags</th>\n",
              "    </tr>\n",
              "  </thead>\n",
              "  <tbody>\n",
              "    <tr>\n",
              "      <th>0</th>\n",
              "      <td>1</td>\n",
              "      <td>1</td>\n",
              "      <td>4.0</td>\n",
              "      <td>964982703</td>\n",
              "      <td>0</td>\n",
              "      <td>0</td>\n",
              "      <td>964982681</td>\n",
              "      <td>4</td>\n",
              "      <td>[0.0, 0.0, 0.0, 0.0, 0.0, 0.0, 0.0, 0.0, 0.0, ...</td>\n",
              "      <td></td>\n",
              "    </tr>\n",
              "    <tr>\n",
              "      <th>1</th>\n",
              "      <td>1</td>\n",
              "      <td>3</td>\n",
              "      <td>4.0</td>\n",
              "      <td>964981247</td>\n",
              "      <td>0</td>\n",
              "      <td>2</td>\n",
              "      <td>964981230</td>\n",
              "      <td>1</td>\n",
              "      <td>[0.0, 0.0, 0.0, 0.0, 0.0, 0.0, 0.0, 0.0, 0.0, ...</td>\n",
              "      <td></td>\n",
              "    </tr>\n",
              "    <tr>\n",
              "      <th>2</th>\n",
              "      <td>1</td>\n",
              "      <td>6</td>\n",
              "      <td>4.0</td>\n",
              "      <td>964982224</td>\n",
              "      <td>0</td>\n",
              "      <td>5</td>\n",
              "      <td>964982211</td>\n",
              "      <td>1</td>\n",
              "      <td>[0.0, 0.0, 0.0, 0.0, 0.0, 0.0, 0.0, 0.0, 0.0, ...</td>\n",
              "      <td></td>\n",
              "    </tr>\n",
              "    <tr>\n",
              "      <th>3</th>\n",
              "      <td>1</td>\n",
              "      <td>47</td>\n",
              "      <td>5.0</td>\n",
              "      <td>964983815</td>\n",
              "      <td>0</td>\n",
              "      <td>43</td>\n",
              "      <td>964983793</td>\n",
              "      <td>1</td>\n",
              "      <td>[0.0, 0.0, 0.0, 0.0, 0.0, 0.0, 0.0, 0.0, 0.0, ...</td>\n",
              "      <td></td>\n",
              "    </tr>\n",
              "    <tr>\n",
              "      <th>4</th>\n",
              "      <td>1</td>\n",
              "      <td>50</td>\n",
              "      <td>5.0</td>\n",
              "      <td>964982931</td>\n",
              "      <td>0</td>\n",
              "      <td>46</td>\n",
              "      <td>964982903</td>\n",
              "      <td>2</td>\n",
              "      <td>[0.0, 0.0, 0.0, 0.0, 0.0, 0.0, 0.0, 0.0, 0.0, ...</td>\n",
              "      <td></td>\n",
              "    </tr>\n",
              "  </tbody>\n",
              "</table>\n",
              "</div>"
            ],
            "text/plain": [
              "   userId  movieId  ...                                   last_rate_vector  tags\n",
              "0       1        1  ...  [0.0, 0.0, 0.0, 0.0, 0.0, 0.0, 0.0, 0.0, 0.0, ...      \n",
              "1       1        3  ...  [0.0, 0.0, 0.0, 0.0, 0.0, 0.0, 0.0, 0.0, 0.0, ...      \n",
              "2       1        6  ...  [0.0, 0.0, 0.0, 0.0, 0.0, 0.0, 0.0, 0.0, 0.0, ...      \n",
              "3       1       47  ...  [0.0, 0.0, 0.0, 0.0, 0.0, 0.0, 0.0, 0.0, 0.0, ...      \n",
              "4       1       50  ...  [0.0, 0.0, 0.0, 0.0, 0.0, 0.0, 0.0, 0.0, 0.0, ...      \n",
              "\n",
              "[5 rows x 10 columns]"
            ]
          },
          "metadata": {
            "tags": []
          },
          "execution_count": 63
        }
      ]
    },
    {
      "cell_type": "code",
      "metadata": {
        "colab": {
          "base_uri": "https://localhost:8080/",
          "height": 234,
          "referenced_widgets": [
            "2a4a9dbc368f421cb7bf2597d34a4b4e",
            "414c90c2212941c1b7913fbf6a059b9c",
            "ab7d9d4bede94735924cb11e287bd576",
            "d9d3443b5e9f406fb53762423c38c56f",
            "b7db783e5ea04e6d9905bce200fa7e9d",
            "6140ed83562642889cfd59167424d9b3",
            "1d1aff391aca409fafa769d50dd9fd0c",
            "0f71e742a6c54f91a7ddceb283095c06",
            "a382e902845f4d2d9c60e0199383fcc5",
            "5ea38c1b8a784809b0fd8d9406a0404d",
            "e5a5264b503942108e0230cd3f1ec374",
            "0e7ae825ae8f45899586a1a91642dda5",
            "6987d343734a4a05b292a9d54a3bfa72",
            "56b15b783f33485b9f0dc7a05eba72a8",
            "d468755bef384dfe82c50d9e6bf84429",
            "3a6df264b0c94435944aaa6a983ec1e8"
          ]
        },
        "id": "UR_hx78Y5gpY",
        "outputId": "5c8db9d5-609d-471d-e23e-c2d40f36d4e3"
      },
      "source": [
        "### 특수문자 제외 및 단어별 배열로 변경\n",
        "# list_title_frac= movies.movie_title.apply(lambda x:re.findall(regex,x)).to_list()\n",
        "\n",
        "vocab_size = 100\n",
        "method = \"bpe\"\n",
        "\n",
        "input_file_path = os.path.join(data_path,\"tag_tokenizer_input_{}_{}.txt\".format(method,vocab_size))\n",
        "tokenizer_name = os.path.join(data_path,\"tag_tokenizer_{}_{}\".format(method, vocab_size))\n",
        "tokenizer_name_model = os.path.join(data_path,\"tag_tokenizer_{}_{}.model\".format(method, vocab_size))\n",
        "\n",
        "### make_input4tokenizer\n",
        "# sentences = list(map(lambda x:\" \".join(x),list_title_frac))\n",
        "tag_sentences = ratings.tags.to_list()\n",
        "\n",
        "sentences = []\n",
        "for tag_sentence in tag_sentences:\n",
        "  sentence = \" \".join(tag_sentence)\n",
        "  sentences.append(sentence)\n",
        "\n",
        "with open(input_file_path,'w',encoding='utf8') as f:\n",
        "  for sentence in tqdm_notebook(sentences):\n",
        "    tag_sentence = \" \".join(sentence)\n",
        "    f.write(tag_sentence+'\\n')\n",
        "\n",
        "### train_tokenizer\n",
        "templates = ' --input={} \\\n",
        "    --pad_id=0 \\\n",
        "    --bos_id=1 \\\n",
        "    --eos_id=2 \\\n",
        "    --unk_id=3 \\\n",
        "    --model_prefix={} \\\n",
        "    --vocab_size={} \\\n",
        "    --character_coverage=1.0 \\\n",
        "    --model_type={}'\n",
        "\n",
        "cmd = templates.format(input_file_path, tokenizer_name, vocab_size, method)\n",
        "spm.SentencePieceTrainer.Train(cmd)\n",
        "print(\"tag_tokenizer {} is generated\".format(tokenizer_name))\n",
        "sp = spm.SentencePieceProcessor()\n",
        "sp.Load(tokenizer_name_model)\n",
        "\n",
        "\n",
        "def get_tokens_from_sentences(sp, sentences):\n",
        "    tokenized_sentences = []\n",
        "    for sentence in sentences:\n",
        "        tokens = sp.EncodeAsPieces(sentence)\n",
        "        new_tokens = []\n",
        "        for token in tokens:\n",
        "            token = token.replace(\"▁\", \"\")\n",
        "            # if len(token) > 1:\n",
        "            new_tokens.append(token)\n",
        "        # if len(new_tokens) > 1:\n",
        "        tokenized_sentences.append(new_tokens)\n",
        "\n",
        "    return tokenized_sentences\n",
        "\n",
        "\n",
        "def get_tokens_from_sentence(sp, sentence):\n",
        "    new_tokens = []\n",
        "    tokens = sp.EncodeAsPieces(sentence)\n",
        "    for token in tokens:\n",
        "        token = token.replace(\"▁\", \"\")\n",
        "        if len(token) > 1:\n",
        "            new_tokens.append(token)\n",
        "    return new_tokens\n",
        "\n",
        "tokenized_sentences = get_tokens_from_sentences(sp,sentences)\n",
        "\n",
        "### train w2v\n",
        "w2v_name = os.path.join(data_path,\"tag_w2v_{}_{}.model\".format(method,vocab_size))\n",
        "print(\"start train_tag_w2v....\")\n",
        "\n",
        "size = 200\n",
        "window =5\n",
        "min_count = 2\n",
        "workers = 8\n",
        "sg = 1\n",
        "hs = 1\n",
        "\n",
        "model = w2v(tokenized_sentences,size=size,window=window,min_count=min_count,workers=workers,sg=sg,hs=hs)\n",
        "model.save(w2v_name)\n",
        "print(\"tag_w2v {} is generated\".format(w2v_name))\n",
        "\n",
        "# ### get embedding\n",
        "\n",
        "sp = spm.SentencePieceProcessor()\n",
        "sp.Load(tokenizer_name_model)\n",
        "\n",
        "w2v_model = w2v.load(w2v_name)\n",
        "\n",
        "sentence_embs = []\n",
        "# # 학습이 안되는 벡터들에 대해서는 0값이 나으므로 0벡터로 input 처리 수행\n",
        "for sentence in tqdm_notebook(tokenized_sentences):\n",
        "  word_embs = []\n",
        "  for p_word in sentence:\n",
        "    try:\n",
        "      word_embs.append(w2v_model.wv[p_word])\n",
        "    except KeyError:\n",
        "      pass\n",
        "  if len(word_embs):\n",
        "    p_emb = np.average(word_embs, axis=0).tolist()\n",
        "  else:\n",
        "    p_emb = np.zeros(200).tolist()\n",
        "  sentence_embs.append(p_emb)"
      ],
      "execution_count": 64,
      "outputs": [
        {
          "output_type": "stream",
          "text": [
            "/usr/local/lib/python3.6/dist-packages/ipykernel_launcher.py:21: TqdmDeprecationWarning: This function will be removed in tqdm==5.0.0\n",
            "Please use `tqdm.notebook.tqdm` instead of `tqdm.tqdm_notebook`\n"
          ],
          "name": "stderr"
        },
        {
          "output_type": "display_data",
          "data": {
            "application/vnd.jupyter.widget-view+json": {
              "model_id": "2a4a9dbc368f421cb7bf2597d34a4b4e",
              "version_minor": 0,
              "version_major": 2
            },
            "text/plain": [
              "HBox(children=(FloatProgress(value=0.0, max=100836.0), HTML(value='')))"
            ]
          },
          "metadata": {
            "tags": []
          }
        },
        {
          "output_type": "stream",
          "text": [
            "\n",
            "tag_tokenizer /gdrive/MyDrive/colab/Factorization_Machine/data/tag_tokenizer_bpe_100 is generated\n",
            "start train_tag_w2v....\n",
            "tag_w2v /gdrive/MyDrive/colab/Factorization_Machine/data/tag_w2v_bpe_100.model is generated\n"
          ],
          "name": "stdout"
        },
        {
          "output_type": "stream",
          "text": [
            "/usr/local/lib/python3.6/dist-packages/ipykernel_launcher.py:85: TqdmDeprecationWarning: This function will be removed in tqdm==5.0.0\n",
            "Please use `tqdm.notebook.tqdm` instead of `tqdm.tqdm_notebook`\n"
          ],
          "name": "stderr"
        },
        {
          "output_type": "display_data",
          "data": {
            "application/vnd.jupyter.widget-view+json": {
              "model_id": "a382e902845f4d2d9c60e0199383fcc5",
              "version_minor": 0,
              "version_major": 2
            },
            "text/plain": [
              "HBox(children=(FloatProgress(value=0.0, max=100836.0), HTML(value='')))"
            ]
          },
          "metadata": {
            "tags": []
          }
        },
        {
          "output_type": "stream",
          "text": [
            "\n"
          ],
          "name": "stdout"
        }
      ]
    },
    {
      "cell_type": "code",
      "metadata": {
        "colab": {
          "base_uri": "https://localhost:8080/",
          "height": 204
        },
        "id": "PTQP-JOi9o9o",
        "outputId": "b98fe717-b687-4119-c947-2017946566a3"
      },
      "source": [
        "ratings.loc[:,\"tag_vector\"] = pd.Series(sentence_embs)\n",
        "ratings.head()"
      ],
      "execution_count": 65,
      "outputs": [
        {
          "output_type": "execute_result",
          "data": {
            "text/html": [
              "<div>\n",
              "<style scoped>\n",
              "    .dataframe tbody tr th:only-of-type {\n",
              "        vertical-align: middle;\n",
              "    }\n",
              "\n",
              "    .dataframe tbody tr th {\n",
              "        vertical-align: top;\n",
              "    }\n",
              "\n",
              "    .dataframe thead th {\n",
              "        text-align: right;\n",
              "    }\n",
              "</style>\n",
              "<table border=\"1\" class=\"dataframe\">\n",
              "  <thead>\n",
              "    <tr style=\"text-align: right;\">\n",
              "      <th></th>\n",
              "      <th>userId</th>\n",
              "      <th>movieId</th>\n",
              "      <th>rating</th>\n",
              "      <th>timestamp</th>\n",
              "      <th>u_nid</th>\n",
              "      <th>m_nid</th>\n",
              "      <th>b4_timestamp</th>\n",
              "      <th>m_count</th>\n",
              "      <th>last_rate_vector</th>\n",
              "      <th>tags</th>\n",
              "      <th>tag_vector</th>\n",
              "    </tr>\n",
              "  </thead>\n",
              "  <tbody>\n",
              "    <tr>\n",
              "      <th>0</th>\n",
              "      <td>1</td>\n",
              "      <td>1</td>\n",
              "      <td>4.0</td>\n",
              "      <td>964982703</td>\n",
              "      <td>0</td>\n",
              "      <td>0</td>\n",
              "      <td>964982681</td>\n",
              "      <td>4</td>\n",
              "      <td>[0.0, 0.0, 0.0, 0.0, 0.0, 0.0, 0.0, 0.0, 0.0, ...</td>\n",
              "      <td></td>\n",
              "      <td>[0.0, 0.0, 0.0, 0.0, 0.0, 0.0, 0.0, 0.0, 0.0, ...</td>\n",
              "    </tr>\n",
              "    <tr>\n",
              "      <th>1</th>\n",
              "      <td>1</td>\n",
              "      <td>3</td>\n",
              "      <td>4.0</td>\n",
              "      <td>964981247</td>\n",
              "      <td>0</td>\n",
              "      <td>2</td>\n",
              "      <td>964981230</td>\n",
              "      <td>1</td>\n",
              "      <td>[0.0, 0.0, 0.0, 0.0, 0.0, 0.0, 0.0, 0.0, 0.0, ...</td>\n",
              "      <td></td>\n",
              "      <td>[0.0, 0.0, 0.0, 0.0, 0.0, 0.0, 0.0, 0.0, 0.0, ...</td>\n",
              "    </tr>\n",
              "    <tr>\n",
              "      <th>2</th>\n",
              "      <td>1</td>\n",
              "      <td>6</td>\n",
              "      <td>4.0</td>\n",
              "      <td>964982224</td>\n",
              "      <td>0</td>\n",
              "      <td>5</td>\n",
              "      <td>964982211</td>\n",
              "      <td>1</td>\n",
              "      <td>[0.0, 0.0, 0.0, 0.0, 0.0, 0.0, 0.0, 0.0, 0.0, ...</td>\n",
              "      <td></td>\n",
              "      <td>[0.0, 0.0, 0.0, 0.0, 0.0, 0.0, 0.0, 0.0, 0.0, ...</td>\n",
              "    </tr>\n",
              "    <tr>\n",
              "      <th>3</th>\n",
              "      <td>1</td>\n",
              "      <td>47</td>\n",
              "      <td>5.0</td>\n",
              "      <td>964983815</td>\n",
              "      <td>0</td>\n",
              "      <td>43</td>\n",
              "      <td>964983793</td>\n",
              "      <td>1</td>\n",
              "      <td>[0.0, 0.0, 0.0, 0.0, 0.0, 0.0, 0.0, 0.0, 0.0, ...</td>\n",
              "      <td></td>\n",
              "      <td>[0.0, 0.0, 0.0, 0.0, 0.0, 0.0, 0.0, 0.0, 0.0, ...</td>\n",
              "    </tr>\n",
              "    <tr>\n",
              "      <th>4</th>\n",
              "      <td>1</td>\n",
              "      <td>50</td>\n",
              "      <td>5.0</td>\n",
              "      <td>964982931</td>\n",
              "      <td>0</td>\n",
              "      <td>46</td>\n",
              "      <td>964982903</td>\n",
              "      <td>2</td>\n",
              "      <td>[0.0, 0.0, 0.0, 0.0, 0.0, 0.0, 0.0, 0.0, 0.0, ...</td>\n",
              "      <td></td>\n",
              "      <td>[0.0, 0.0, 0.0, 0.0, 0.0, 0.0, 0.0, 0.0, 0.0, ...</td>\n",
              "    </tr>\n",
              "  </tbody>\n",
              "</table>\n",
              "</div>"
            ],
            "text/plain": [
              "   userId  movieId  ...  tags                                         tag_vector\n",
              "0       1        1  ...        [0.0, 0.0, 0.0, 0.0, 0.0, 0.0, 0.0, 0.0, 0.0, ...\n",
              "1       1        3  ...        [0.0, 0.0, 0.0, 0.0, 0.0, 0.0, 0.0, 0.0, 0.0, ...\n",
              "2       1        6  ...        [0.0, 0.0, 0.0, 0.0, 0.0, 0.0, 0.0, 0.0, 0.0, ...\n",
              "3       1       47  ...        [0.0, 0.0, 0.0, 0.0, 0.0, 0.0, 0.0, 0.0, 0.0, ...\n",
              "4       1       50  ...        [0.0, 0.0, 0.0, 0.0, 0.0, 0.0, 0.0, 0.0, 0.0, ...\n",
              "\n",
              "[5 rows x 11 columns]"
            ]
          },
          "metadata": {
            "tags": []
          },
          "execution_count": 65
        }
      ]
    },
    {
      "cell_type": "code",
      "metadata": {
        "colab": {
          "base_uri": "https://localhost:8080/",
          "height": 204
        },
        "id": "_6B4Am7Znq7e",
        "outputId": "407d7f94-d466-4596-f972-b0e66b585a2a"
      },
      "source": [
        "# user, movie, rating, movie_gnr_vec, movie_title_vec, launch_year, user_movie_tag_vector, last_rate_vector\n",
        "\n",
        "target_ratings = ratings.loc[:,[\"u_nid\",\"m_nid\",\"tag_vector\",\"last_rate_vector\",\"rating\"]]\n",
        "target_movies = movies.loc[:,[\"m_nid\",\"genres_vectors\",\"title_vector\",\"launch_year\"]]\n",
        "\n",
        "data = pd.merge(left=target_ratings, right=target_movies, on=\"m_nid\", how=\"left\")\n",
        "data.head()"
      ],
      "execution_count": 66,
      "outputs": [
        {
          "output_type": "execute_result",
          "data": {
            "text/html": [
              "<div>\n",
              "<style scoped>\n",
              "    .dataframe tbody tr th:only-of-type {\n",
              "        vertical-align: middle;\n",
              "    }\n",
              "\n",
              "    .dataframe tbody tr th {\n",
              "        vertical-align: top;\n",
              "    }\n",
              "\n",
              "    .dataframe thead th {\n",
              "        text-align: right;\n",
              "    }\n",
              "</style>\n",
              "<table border=\"1\" class=\"dataframe\">\n",
              "  <thead>\n",
              "    <tr style=\"text-align: right;\">\n",
              "      <th></th>\n",
              "      <th>u_nid</th>\n",
              "      <th>m_nid</th>\n",
              "      <th>tag_vector</th>\n",
              "      <th>last_rate_vector</th>\n",
              "      <th>rating</th>\n",
              "      <th>genres_vectors</th>\n",
              "      <th>title_vector</th>\n",
              "      <th>launch_year</th>\n",
              "    </tr>\n",
              "  </thead>\n",
              "  <tbody>\n",
              "    <tr>\n",
              "      <th>0</th>\n",
              "      <td>0</td>\n",
              "      <td>0</td>\n",
              "      <td>[0.0, 0.0, 0.0, 0.0, 0.0, 0.0, 0.0, 0.0, 0.0, ...</td>\n",
              "      <td>[0.0, 0.0, 0.0, 0.0, 0.0, 0.0, 0.0, 0.0, 0.0, ...</td>\n",
              "      <td>4.0</td>\n",
              "      <td>[0.0, 0.0, 1.0, 1.0, 1.0, 1.0, 0.0, 0.0, 0.0, ...</td>\n",
              "      <td>[-0.04482043534517288, -0.07715187966823578, -...</td>\n",
              "      <td>1995</td>\n",
              "    </tr>\n",
              "    <tr>\n",
              "      <th>1</th>\n",
              "      <td>0</td>\n",
              "      <td>2</td>\n",
              "      <td>[0.0, 0.0, 0.0, 0.0, 0.0, 0.0, 0.0, 0.0, 0.0, ...</td>\n",
              "      <td>[0.0, 0.0, 0.0, 0.0, 0.0, 0.0, 0.0, 0.0, 0.0, ...</td>\n",
              "      <td>4.0</td>\n",
              "      <td>[0.0, 0.0, 0.0, 0.0, 0.0, 1.0, 0.0, 0.0, 0.0, ...</td>\n",
              "      <td>[-0.06338685750961304, -0.09712792187929153, -...</td>\n",
              "      <td>1995</td>\n",
              "    </tr>\n",
              "    <tr>\n",
              "      <th>2</th>\n",
              "      <td>0</td>\n",
              "      <td>5</td>\n",
              "      <td>[0.0, 0.0, 0.0, 0.0, 0.0, 0.0, 0.0, 0.0, 0.0, ...</td>\n",
              "      <td>[0.0, 0.0, 0.0, 0.0, 0.0, 0.0, 0.0, 0.0, 0.0, ...</td>\n",
              "      <td>4.0</td>\n",
              "      <td>[0.0, 1.0, 0.0, 0.0, 0.0, 0.0, 1.0, 0.0, 0.0, ...</td>\n",
              "      <td>[-0.014800192788243294, -0.03467661887407303, ...</td>\n",
              "      <td>1995</td>\n",
              "    </tr>\n",
              "    <tr>\n",
              "      <th>3</th>\n",
              "      <td>0</td>\n",
              "      <td>43</td>\n",
              "      <td>[0.0, 0.0, 0.0, 0.0, 0.0, 0.0, 0.0, 0.0, 0.0, ...</td>\n",
              "      <td>[0.0, 0.0, 0.0, 0.0, 0.0, 0.0, 0.0, 0.0, 0.0, ...</td>\n",
              "      <td>5.0</td>\n",
              "      <td>[0.0, 0.0, 0.0, 0.0, 0.0, 0.0, 0.0, 0.0, 0.0, ...</td>\n",
              "      <td>[-0.08171193301677704, -0.16335169970989227, -...</td>\n",
              "      <td>1995</td>\n",
              "    </tr>\n",
              "    <tr>\n",
              "      <th>4</th>\n",
              "      <td>0</td>\n",
              "      <td>46</td>\n",
              "      <td>[0.0, 0.0, 0.0, 0.0, 0.0, 0.0, 0.0, 0.0, 0.0, ...</td>\n",
              "      <td>[0.0, 0.0, 0.0, 0.0, 0.0, 0.0, 0.0, 0.0, 0.0, ...</td>\n",
              "      <td>5.0</td>\n",
              "      <td>[0.0, 0.0, 0.0, 0.0, 0.0, 0.0, 1.0, 0.0, 0.0, ...</td>\n",
              "      <td>[-0.02820689044892788, -0.21469439566135406, -...</td>\n",
              "      <td>1995</td>\n",
              "    </tr>\n",
              "  </tbody>\n",
              "</table>\n",
              "</div>"
            ],
            "text/plain": [
              "   u_nid  m_nid  ...                                       title_vector launch_year\n",
              "0      0      0  ...  [-0.04482043534517288, -0.07715187966823578, -...        1995\n",
              "1      0      2  ...  [-0.06338685750961304, -0.09712792187929153, -...        1995\n",
              "2      0      5  ...  [-0.014800192788243294, -0.03467661887407303, ...        1995\n",
              "3      0     43  ...  [-0.08171193301677704, -0.16335169970989227, -...        1995\n",
              "4      0     46  ...  [-0.02820689044892788, -0.21469439566135406, -...        1995\n",
              "\n",
              "[5 rows x 8 columns]"
            ]
          },
          "metadata": {
            "tags": []
          },
          "execution_count": 66
        }
      ]
    },
    {
      "cell_type": "code",
      "metadata": {
        "colab": {
          "base_uri": "https://localhost:8080/",
          "height": 204
        },
        "id": "nzRoEpHcojhM",
        "outputId": "f36730dd-9793-4047-cedb-113633c23ff0"
      },
      "source": [
        "y_data = data.loc[:,\"rating\"]\n",
        "X_data = data.drop(\"rating\",axis=1)\n",
        "X_data.head()"
      ],
      "execution_count": 67,
      "outputs": [
        {
          "output_type": "execute_result",
          "data": {
            "text/html": [
              "<div>\n",
              "<style scoped>\n",
              "    .dataframe tbody tr th:only-of-type {\n",
              "        vertical-align: middle;\n",
              "    }\n",
              "\n",
              "    .dataframe tbody tr th {\n",
              "        vertical-align: top;\n",
              "    }\n",
              "\n",
              "    .dataframe thead th {\n",
              "        text-align: right;\n",
              "    }\n",
              "</style>\n",
              "<table border=\"1\" class=\"dataframe\">\n",
              "  <thead>\n",
              "    <tr style=\"text-align: right;\">\n",
              "      <th></th>\n",
              "      <th>u_nid</th>\n",
              "      <th>m_nid</th>\n",
              "      <th>tag_vector</th>\n",
              "      <th>last_rate_vector</th>\n",
              "      <th>genres_vectors</th>\n",
              "      <th>title_vector</th>\n",
              "      <th>launch_year</th>\n",
              "    </tr>\n",
              "  </thead>\n",
              "  <tbody>\n",
              "    <tr>\n",
              "      <th>0</th>\n",
              "      <td>0</td>\n",
              "      <td>0</td>\n",
              "      <td>[0.0, 0.0, 0.0, 0.0, 0.0, 0.0, 0.0, 0.0, 0.0, ...</td>\n",
              "      <td>[0.0, 0.0, 0.0, 0.0, 0.0, 0.0, 0.0, 0.0, 0.0, ...</td>\n",
              "      <td>[0.0, 0.0, 1.0, 1.0, 1.0, 1.0, 0.0, 0.0, 0.0, ...</td>\n",
              "      <td>[-0.04482043534517288, -0.07715187966823578, -...</td>\n",
              "      <td>1995</td>\n",
              "    </tr>\n",
              "    <tr>\n",
              "      <th>1</th>\n",
              "      <td>0</td>\n",
              "      <td>2</td>\n",
              "      <td>[0.0, 0.0, 0.0, 0.0, 0.0, 0.0, 0.0, 0.0, 0.0, ...</td>\n",
              "      <td>[0.0, 0.0, 0.0, 0.0, 0.0, 0.0, 0.0, 0.0, 0.0, ...</td>\n",
              "      <td>[0.0, 0.0, 0.0, 0.0, 0.0, 1.0, 0.0, 0.0, 0.0, ...</td>\n",
              "      <td>[-0.06338685750961304, -0.09712792187929153, -...</td>\n",
              "      <td>1995</td>\n",
              "    </tr>\n",
              "    <tr>\n",
              "      <th>2</th>\n",
              "      <td>0</td>\n",
              "      <td>5</td>\n",
              "      <td>[0.0, 0.0, 0.0, 0.0, 0.0, 0.0, 0.0, 0.0, 0.0, ...</td>\n",
              "      <td>[0.0, 0.0, 0.0, 0.0, 0.0, 0.0, 0.0, 0.0, 0.0, ...</td>\n",
              "      <td>[0.0, 1.0, 0.0, 0.0, 0.0, 0.0, 1.0, 0.0, 0.0, ...</td>\n",
              "      <td>[-0.014800192788243294, -0.03467661887407303, ...</td>\n",
              "      <td>1995</td>\n",
              "    </tr>\n",
              "    <tr>\n",
              "      <th>3</th>\n",
              "      <td>0</td>\n",
              "      <td>43</td>\n",
              "      <td>[0.0, 0.0, 0.0, 0.0, 0.0, 0.0, 0.0, 0.0, 0.0, ...</td>\n",
              "      <td>[0.0, 0.0, 0.0, 0.0, 0.0, 0.0, 0.0, 0.0, 0.0, ...</td>\n",
              "      <td>[0.0, 0.0, 0.0, 0.0, 0.0, 0.0, 0.0, 0.0, 0.0, ...</td>\n",
              "      <td>[-0.08171193301677704, -0.16335169970989227, -...</td>\n",
              "      <td>1995</td>\n",
              "    </tr>\n",
              "    <tr>\n",
              "      <th>4</th>\n",
              "      <td>0</td>\n",
              "      <td>46</td>\n",
              "      <td>[0.0, 0.0, 0.0, 0.0, 0.0, 0.0, 0.0, 0.0, 0.0, ...</td>\n",
              "      <td>[0.0, 0.0, 0.0, 0.0, 0.0, 0.0, 0.0, 0.0, 0.0, ...</td>\n",
              "      <td>[0.0, 0.0, 0.0, 0.0, 0.0, 0.0, 1.0, 0.0, 0.0, ...</td>\n",
              "      <td>[-0.02820689044892788, -0.21469439566135406, -...</td>\n",
              "      <td>1995</td>\n",
              "    </tr>\n",
              "  </tbody>\n",
              "</table>\n",
              "</div>"
            ],
            "text/plain": [
              "   u_nid  m_nid  ...                                       title_vector launch_year\n",
              "0      0      0  ...  [-0.04482043534517288, -0.07715187966823578, -...        1995\n",
              "1      0      2  ...  [-0.06338685750961304, -0.09712792187929153, -...        1995\n",
              "2      0      5  ...  [-0.014800192788243294, -0.03467661887407303, ...        1995\n",
              "3      0     43  ...  [-0.08171193301677704, -0.16335169970989227, -...        1995\n",
              "4      0     46  ...  [-0.02820689044892788, -0.21469439566135406, -...        1995\n",
              "\n",
              "[5 rows x 7 columns]"
            ]
          },
          "metadata": {
            "tags": []
          },
          "execution_count": 67
        }
      ]
    },
    {
      "cell_type": "code",
      "metadata": {
        "colab": {
          "base_uri": "https://localhost:8080/"
        },
        "id": "ADlxjtfVUgSR",
        "outputId": "2d02205e-9352-4598-91eb-18b64fce168a"
      },
      "source": [
        "num_tag_vec = len(X_data[\"tag_vector\"][0])\n",
        "num_last_rate_vec = len(X_data[\"last_rate_vector\"][0])\n",
        "num_gnrs_vec = len(X_data[\"genres_vectors\"][0])\n",
        "num_title_vec = len(X_data[\"title_vector\"][0])\n",
        "\n",
        "print(num_tag_vec, num_last_rate_vec, num_gnrs_vec, num_title_vec)"
      ],
      "execution_count": 68,
      "outputs": [
        {
          "output_type": "stream",
          "text": [
            "200 9742 20 200\n"
          ],
          "name": "stdout"
        }
      ]
    },
    {
      "cell_type": "code",
      "metadata": {
        "id": "4MKwv-Rty3ae"
      },
      "source": [
        "from sklearn.preprocessing import StandardScaler\n",
        "\n",
        "launch_years = np.array(X_data.loc[X_data.launch_year != 0].launch_year.to_list()).reshape(-1,1)\n",
        "\n",
        "scaler = StandardScaler()\n",
        "scaled_year = scaler.fit_transform(launch_years)"
      ],
      "execution_count": 69,
      "outputs": []
    },
    {
      "cell_type": "code",
      "metadata": {
        "id": "A54mpvbnziDu"
      },
      "source": [
        "X_data.loc[X_data.launch_year !=0, \"launch_year\"] = scaled_year"
      ],
      "execution_count": 70,
      "outputs": []
    },
    {
      "cell_type": "code",
      "metadata": {
        "colab": {
          "base_uri": "https://localhost:8080/",
          "height": 204
        },
        "id": "PrIMNKxQwI_-",
        "outputId": "72ec1897-9102-4c7b-9374-13986e5ec367"
      },
      "source": [
        "X_data.head()"
      ],
      "execution_count": 71,
      "outputs": [
        {
          "output_type": "execute_result",
          "data": {
            "text/html": [
              "<div>\n",
              "<style scoped>\n",
              "    .dataframe tbody tr th:only-of-type {\n",
              "        vertical-align: middle;\n",
              "    }\n",
              "\n",
              "    .dataframe tbody tr th {\n",
              "        vertical-align: top;\n",
              "    }\n",
              "\n",
              "    .dataframe thead th {\n",
              "        text-align: right;\n",
              "    }\n",
              "</style>\n",
              "<table border=\"1\" class=\"dataframe\">\n",
              "  <thead>\n",
              "    <tr style=\"text-align: right;\">\n",
              "      <th></th>\n",
              "      <th>u_nid</th>\n",
              "      <th>m_nid</th>\n",
              "      <th>tag_vector</th>\n",
              "      <th>last_rate_vector</th>\n",
              "      <th>genres_vectors</th>\n",
              "      <th>title_vector</th>\n",
              "      <th>launch_year</th>\n",
              "    </tr>\n",
              "  </thead>\n",
              "  <tbody>\n",
              "    <tr>\n",
              "      <th>0</th>\n",
              "      <td>0</td>\n",
              "      <td>0</td>\n",
              "      <td>[0.0, 0.0, 0.0, 0.0, 0.0, 0.0, 0.0, 0.0, 0.0, ...</td>\n",
              "      <td>[0.0, 0.0, 0.0, 0.0, 0.0, 0.0, 0.0, 0.0, 0.0, ...</td>\n",
              "      <td>[0.0, 0.0, 1.0, 1.0, 1.0, 1.0, 0.0, 0.0, 0.0, ...</td>\n",
              "      <td>[-0.04482043534517288, -0.07715187966823578, -...</td>\n",
              "      <td>0.038646</td>\n",
              "    </tr>\n",
              "    <tr>\n",
              "      <th>1</th>\n",
              "      <td>0</td>\n",
              "      <td>2</td>\n",
              "      <td>[0.0, 0.0, 0.0, 0.0, 0.0, 0.0, 0.0, 0.0, 0.0, ...</td>\n",
              "      <td>[0.0, 0.0, 0.0, 0.0, 0.0, 0.0, 0.0, 0.0, 0.0, ...</td>\n",
              "      <td>[0.0, 0.0, 0.0, 0.0, 0.0, 1.0, 0.0, 0.0, 0.0, ...</td>\n",
              "      <td>[-0.06338685750961304, -0.09712792187929153, -...</td>\n",
              "      <td>0.038646</td>\n",
              "    </tr>\n",
              "    <tr>\n",
              "      <th>2</th>\n",
              "      <td>0</td>\n",
              "      <td>5</td>\n",
              "      <td>[0.0, 0.0, 0.0, 0.0, 0.0, 0.0, 0.0, 0.0, 0.0, ...</td>\n",
              "      <td>[0.0, 0.0, 0.0, 0.0, 0.0, 0.0, 0.0, 0.0, 0.0, ...</td>\n",
              "      <td>[0.0, 1.0, 0.0, 0.0, 0.0, 0.0, 1.0, 0.0, 0.0, ...</td>\n",
              "      <td>[-0.014800192788243294, -0.03467661887407303, ...</td>\n",
              "      <td>0.038646</td>\n",
              "    </tr>\n",
              "    <tr>\n",
              "      <th>3</th>\n",
              "      <td>0</td>\n",
              "      <td>43</td>\n",
              "      <td>[0.0, 0.0, 0.0, 0.0, 0.0, 0.0, 0.0, 0.0, 0.0, ...</td>\n",
              "      <td>[0.0, 0.0, 0.0, 0.0, 0.0, 0.0, 0.0, 0.0, 0.0, ...</td>\n",
              "      <td>[0.0, 0.0, 0.0, 0.0, 0.0, 0.0, 0.0, 0.0, 0.0, ...</td>\n",
              "      <td>[-0.08171193301677704, -0.16335169970989227, -...</td>\n",
              "      <td>0.038646</td>\n",
              "    </tr>\n",
              "    <tr>\n",
              "      <th>4</th>\n",
              "      <td>0</td>\n",
              "      <td>46</td>\n",
              "      <td>[0.0, 0.0, 0.0, 0.0, 0.0, 0.0, 0.0, 0.0, 0.0, ...</td>\n",
              "      <td>[0.0, 0.0, 0.0, 0.0, 0.0, 0.0, 0.0, 0.0, 0.0, ...</td>\n",
              "      <td>[0.0, 0.0, 0.0, 0.0, 0.0, 0.0, 1.0, 0.0, 0.0, ...</td>\n",
              "      <td>[-0.02820689044892788, -0.21469439566135406, -...</td>\n",
              "      <td>0.038646</td>\n",
              "    </tr>\n",
              "  </tbody>\n",
              "</table>\n",
              "</div>"
            ],
            "text/plain": [
              "   u_nid  m_nid  ...                                       title_vector launch_year\n",
              "0      0      0  ...  [-0.04482043534517288, -0.07715187966823578, -...    0.038646\n",
              "1      0      2  ...  [-0.06338685750961304, -0.09712792187929153, -...    0.038646\n",
              "2      0      5  ...  [-0.014800192788243294, -0.03467661887407303, ...    0.038646\n",
              "3      0     43  ...  [-0.08171193301677704, -0.16335169970989227, -...    0.038646\n",
              "4      0     46  ...  [-0.02820689044892788, -0.21469439566135406, -...    0.038646\n",
              "\n",
              "[5 rows x 7 columns]"
            ]
          },
          "metadata": {
            "tags": []
          },
          "execution_count": 71
        }
      ]
    },
    {
      "cell_type": "code",
      "metadata": {
        "id": "xtflIVFu5cx-"
      },
      "source": [
        "X_data.loc[:, \"user_id\"] = X_data.u_nid.apply(lambda x: dict_nid_2_uid[x])\n",
        "X_data.loc[:, \"movie_id\"] = X_data.m_nid.apply(lambda x: dict_nid_2_mid[x])"
      ],
      "execution_count": 72,
      "outputs": []
    },
    {
      "cell_type": "code",
      "metadata": {
        "colab": {
          "base_uri": "https://localhost:8080/",
          "height": 204
        },
        "id": "S9ewgZWv58Pv",
        "outputId": "eb6366b0-eb0a-4ece-b66d-41a1bee2a549"
      },
      "source": [
        "X_data.head()"
      ],
      "execution_count": 73,
      "outputs": [
        {
          "output_type": "execute_result",
          "data": {
            "text/html": [
              "<div>\n",
              "<style scoped>\n",
              "    .dataframe tbody tr th:only-of-type {\n",
              "        vertical-align: middle;\n",
              "    }\n",
              "\n",
              "    .dataframe tbody tr th {\n",
              "        vertical-align: top;\n",
              "    }\n",
              "\n",
              "    .dataframe thead th {\n",
              "        text-align: right;\n",
              "    }\n",
              "</style>\n",
              "<table border=\"1\" class=\"dataframe\">\n",
              "  <thead>\n",
              "    <tr style=\"text-align: right;\">\n",
              "      <th></th>\n",
              "      <th>u_nid</th>\n",
              "      <th>m_nid</th>\n",
              "      <th>tag_vector</th>\n",
              "      <th>last_rate_vector</th>\n",
              "      <th>genres_vectors</th>\n",
              "      <th>title_vector</th>\n",
              "      <th>launch_year</th>\n",
              "      <th>user_id</th>\n",
              "      <th>movie_id</th>\n",
              "    </tr>\n",
              "  </thead>\n",
              "  <tbody>\n",
              "    <tr>\n",
              "      <th>0</th>\n",
              "      <td>0</td>\n",
              "      <td>0</td>\n",
              "      <td>[0.0, 0.0, 0.0, 0.0, 0.0, 0.0, 0.0, 0.0, 0.0, ...</td>\n",
              "      <td>[0.0, 0.0, 0.0, 0.0, 0.0, 0.0, 0.0, 0.0, 0.0, ...</td>\n",
              "      <td>[0.0, 0.0, 1.0, 1.0, 1.0, 1.0, 0.0, 0.0, 0.0, ...</td>\n",
              "      <td>[-0.04482043534517288, -0.07715187966823578, -...</td>\n",
              "      <td>0.038646</td>\n",
              "      <td>1</td>\n",
              "      <td>1</td>\n",
              "    </tr>\n",
              "    <tr>\n",
              "      <th>1</th>\n",
              "      <td>0</td>\n",
              "      <td>2</td>\n",
              "      <td>[0.0, 0.0, 0.0, 0.0, 0.0, 0.0, 0.0, 0.0, 0.0, ...</td>\n",
              "      <td>[0.0, 0.0, 0.0, 0.0, 0.0, 0.0, 0.0, 0.0, 0.0, ...</td>\n",
              "      <td>[0.0, 0.0, 0.0, 0.0, 0.0, 1.0, 0.0, 0.0, 0.0, ...</td>\n",
              "      <td>[-0.06338685750961304, -0.09712792187929153, -...</td>\n",
              "      <td>0.038646</td>\n",
              "      <td>1</td>\n",
              "      <td>3</td>\n",
              "    </tr>\n",
              "    <tr>\n",
              "      <th>2</th>\n",
              "      <td>0</td>\n",
              "      <td>5</td>\n",
              "      <td>[0.0, 0.0, 0.0, 0.0, 0.0, 0.0, 0.0, 0.0, 0.0, ...</td>\n",
              "      <td>[0.0, 0.0, 0.0, 0.0, 0.0, 0.0, 0.0, 0.0, 0.0, ...</td>\n",
              "      <td>[0.0, 1.0, 0.0, 0.0, 0.0, 0.0, 1.0, 0.0, 0.0, ...</td>\n",
              "      <td>[-0.014800192788243294, -0.03467661887407303, ...</td>\n",
              "      <td>0.038646</td>\n",
              "      <td>1</td>\n",
              "      <td>6</td>\n",
              "    </tr>\n",
              "    <tr>\n",
              "      <th>3</th>\n",
              "      <td>0</td>\n",
              "      <td>43</td>\n",
              "      <td>[0.0, 0.0, 0.0, 0.0, 0.0, 0.0, 0.0, 0.0, 0.0, ...</td>\n",
              "      <td>[0.0, 0.0, 0.0, 0.0, 0.0, 0.0, 0.0, 0.0, 0.0, ...</td>\n",
              "      <td>[0.0, 0.0, 0.0, 0.0, 0.0, 0.0, 0.0, 0.0, 0.0, ...</td>\n",
              "      <td>[-0.08171193301677704, -0.16335169970989227, -...</td>\n",
              "      <td>0.038646</td>\n",
              "      <td>1</td>\n",
              "      <td>47</td>\n",
              "    </tr>\n",
              "    <tr>\n",
              "      <th>4</th>\n",
              "      <td>0</td>\n",
              "      <td>46</td>\n",
              "      <td>[0.0, 0.0, 0.0, 0.0, 0.0, 0.0, 0.0, 0.0, 0.0, ...</td>\n",
              "      <td>[0.0, 0.0, 0.0, 0.0, 0.0, 0.0, 0.0, 0.0, 0.0, ...</td>\n",
              "      <td>[0.0, 0.0, 0.0, 0.0, 0.0, 0.0, 1.0, 0.0, 0.0, ...</td>\n",
              "      <td>[-0.02820689044892788, -0.21469439566135406, -...</td>\n",
              "      <td>0.038646</td>\n",
              "      <td>1</td>\n",
              "      <td>50</td>\n",
              "    </tr>\n",
              "  </tbody>\n",
              "</table>\n",
              "</div>"
            ],
            "text/plain": [
              "   u_nid  m_nid  ... user_id movie_id\n",
              "0      0      0  ...       1        1\n",
              "1      0      2  ...       1        3\n",
              "2      0      5  ...       1        6\n",
              "3      0     43  ...       1       47\n",
              "4      0     46  ...       1       50\n",
              "\n",
              "[5 rows x 9 columns]"
            ]
          },
          "metadata": {
            "tags": []
          },
          "execution_count": 73
        }
      ]
    },
    {
      "cell_type": "code",
      "metadata": {
        "colab": {
          "base_uri": "https://localhost:8080/",
          "height": 204
        },
        "id": "XzTANXd7wKjt",
        "outputId": "45db0561-e8c6-4d2b-ce14-5045881fd420"
      },
      "source": [
        "X_columns = [\"user_id\", \"movie_id\",\"tag_vector\",\"last_rate_vector\",\"genres_vectors\",\"title_vector\",\"launch_year\"]\n",
        "X_data = X_data.loc[:,X_columns].copy()\n",
        "X_data.head()"
      ],
      "execution_count": 74,
      "outputs": [
        {
          "output_type": "execute_result",
          "data": {
            "text/html": [
              "<div>\n",
              "<style scoped>\n",
              "    .dataframe tbody tr th:only-of-type {\n",
              "        vertical-align: middle;\n",
              "    }\n",
              "\n",
              "    .dataframe tbody tr th {\n",
              "        vertical-align: top;\n",
              "    }\n",
              "\n",
              "    .dataframe thead th {\n",
              "        text-align: right;\n",
              "    }\n",
              "</style>\n",
              "<table border=\"1\" class=\"dataframe\">\n",
              "  <thead>\n",
              "    <tr style=\"text-align: right;\">\n",
              "      <th></th>\n",
              "      <th>user_id</th>\n",
              "      <th>movie_id</th>\n",
              "      <th>tag_vector</th>\n",
              "      <th>last_rate_vector</th>\n",
              "      <th>genres_vectors</th>\n",
              "      <th>title_vector</th>\n",
              "      <th>launch_year</th>\n",
              "    </tr>\n",
              "  </thead>\n",
              "  <tbody>\n",
              "    <tr>\n",
              "      <th>0</th>\n",
              "      <td>1</td>\n",
              "      <td>1</td>\n",
              "      <td>[0.0, 0.0, 0.0, 0.0, 0.0, 0.0, 0.0, 0.0, 0.0, ...</td>\n",
              "      <td>[0.0, 0.0, 0.0, 0.0, 0.0, 0.0, 0.0, 0.0, 0.0, ...</td>\n",
              "      <td>[0.0, 0.0, 1.0, 1.0, 1.0, 1.0, 0.0, 0.0, 0.0, ...</td>\n",
              "      <td>[-0.04482043534517288, -0.07715187966823578, -...</td>\n",
              "      <td>0.038646</td>\n",
              "    </tr>\n",
              "    <tr>\n",
              "      <th>1</th>\n",
              "      <td>1</td>\n",
              "      <td>3</td>\n",
              "      <td>[0.0, 0.0, 0.0, 0.0, 0.0, 0.0, 0.0, 0.0, 0.0, ...</td>\n",
              "      <td>[0.0, 0.0, 0.0, 0.0, 0.0, 0.0, 0.0, 0.0, 0.0, ...</td>\n",
              "      <td>[0.0, 0.0, 0.0, 0.0, 0.0, 1.0, 0.0, 0.0, 0.0, ...</td>\n",
              "      <td>[-0.06338685750961304, -0.09712792187929153, -...</td>\n",
              "      <td>0.038646</td>\n",
              "    </tr>\n",
              "    <tr>\n",
              "      <th>2</th>\n",
              "      <td>1</td>\n",
              "      <td>6</td>\n",
              "      <td>[0.0, 0.0, 0.0, 0.0, 0.0, 0.0, 0.0, 0.0, 0.0, ...</td>\n",
              "      <td>[0.0, 0.0, 0.0, 0.0, 0.0, 0.0, 0.0, 0.0, 0.0, ...</td>\n",
              "      <td>[0.0, 1.0, 0.0, 0.0, 0.0, 0.0, 1.0, 0.0, 0.0, ...</td>\n",
              "      <td>[-0.014800192788243294, -0.03467661887407303, ...</td>\n",
              "      <td>0.038646</td>\n",
              "    </tr>\n",
              "    <tr>\n",
              "      <th>3</th>\n",
              "      <td>1</td>\n",
              "      <td>47</td>\n",
              "      <td>[0.0, 0.0, 0.0, 0.0, 0.0, 0.0, 0.0, 0.0, 0.0, ...</td>\n",
              "      <td>[0.0, 0.0, 0.0, 0.0, 0.0, 0.0, 0.0, 0.0, 0.0, ...</td>\n",
              "      <td>[0.0, 0.0, 0.0, 0.0, 0.0, 0.0, 0.0, 0.0, 0.0, ...</td>\n",
              "      <td>[-0.08171193301677704, -0.16335169970989227, -...</td>\n",
              "      <td>0.038646</td>\n",
              "    </tr>\n",
              "    <tr>\n",
              "      <th>4</th>\n",
              "      <td>1</td>\n",
              "      <td>50</td>\n",
              "      <td>[0.0, 0.0, 0.0, 0.0, 0.0, 0.0, 0.0, 0.0, 0.0, ...</td>\n",
              "      <td>[0.0, 0.0, 0.0, 0.0, 0.0, 0.0, 0.0, 0.0, 0.0, ...</td>\n",
              "      <td>[0.0, 0.0, 0.0, 0.0, 0.0, 0.0, 1.0, 0.0, 0.0, ...</td>\n",
              "      <td>[-0.02820689044892788, -0.21469439566135406, -...</td>\n",
              "      <td>0.038646</td>\n",
              "    </tr>\n",
              "  </tbody>\n",
              "</table>\n",
              "</div>"
            ],
            "text/plain": [
              "   user_id  ...  launch_year\n",
              "0        1  ...     0.038646\n",
              "1        1  ...     0.038646\n",
              "2        1  ...     0.038646\n",
              "3        1  ...     0.038646\n",
              "4        1  ...     0.038646\n",
              "\n",
              "[5 rows x 7 columns]"
            ]
          },
          "metadata": {
            "tags": []
          },
          "execution_count": 74
        }
      ]
    },
    {
      "cell_type": "code",
      "metadata": {
        "colab": {
          "base_uri": "https://localhost:8080/",
          "height": 204
        },
        "id": "vyI4oYD66Rxq",
        "outputId": "b6d5c35a-185e-4113-f569-20af099738cb"
      },
      "source": [
        "data = pd.concat([X_data,y_data],axis=1)\n",
        "data.head()"
      ],
      "execution_count": 75,
      "outputs": [
        {
          "output_type": "execute_result",
          "data": {
            "text/html": [
              "<div>\n",
              "<style scoped>\n",
              "    .dataframe tbody tr th:only-of-type {\n",
              "        vertical-align: middle;\n",
              "    }\n",
              "\n",
              "    .dataframe tbody tr th {\n",
              "        vertical-align: top;\n",
              "    }\n",
              "\n",
              "    .dataframe thead th {\n",
              "        text-align: right;\n",
              "    }\n",
              "</style>\n",
              "<table border=\"1\" class=\"dataframe\">\n",
              "  <thead>\n",
              "    <tr style=\"text-align: right;\">\n",
              "      <th></th>\n",
              "      <th>user_id</th>\n",
              "      <th>movie_id</th>\n",
              "      <th>tag_vector</th>\n",
              "      <th>last_rate_vector</th>\n",
              "      <th>genres_vectors</th>\n",
              "      <th>title_vector</th>\n",
              "      <th>launch_year</th>\n",
              "      <th>rating</th>\n",
              "    </tr>\n",
              "  </thead>\n",
              "  <tbody>\n",
              "    <tr>\n",
              "      <th>0</th>\n",
              "      <td>1</td>\n",
              "      <td>1</td>\n",
              "      <td>[0.0, 0.0, 0.0, 0.0, 0.0, 0.0, 0.0, 0.0, 0.0, ...</td>\n",
              "      <td>[0.0, 0.0, 0.0, 0.0, 0.0, 0.0, 0.0, 0.0, 0.0, ...</td>\n",
              "      <td>[0.0, 0.0, 1.0, 1.0, 1.0, 1.0, 0.0, 0.0, 0.0, ...</td>\n",
              "      <td>[-0.04482043534517288, -0.07715187966823578, -...</td>\n",
              "      <td>0.038646</td>\n",
              "      <td>4.0</td>\n",
              "    </tr>\n",
              "    <tr>\n",
              "      <th>1</th>\n",
              "      <td>1</td>\n",
              "      <td>3</td>\n",
              "      <td>[0.0, 0.0, 0.0, 0.0, 0.0, 0.0, 0.0, 0.0, 0.0, ...</td>\n",
              "      <td>[0.0, 0.0, 0.0, 0.0, 0.0, 0.0, 0.0, 0.0, 0.0, ...</td>\n",
              "      <td>[0.0, 0.0, 0.0, 0.0, 0.0, 1.0, 0.0, 0.0, 0.0, ...</td>\n",
              "      <td>[-0.06338685750961304, -0.09712792187929153, -...</td>\n",
              "      <td>0.038646</td>\n",
              "      <td>4.0</td>\n",
              "    </tr>\n",
              "    <tr>\n",
              "      <th>2</th>\n",
              "      <td>1</td>\n",
              "      <td>6</td>\n",
              "      <td>[0.0, 0.0, 0.0, 0.0, 0.0, 0.0, 0.0, 0.0, 0.0, ...</td>\n",
              "      <td>[0.0, 0.0, 0.0, 0.0, 0.0, 0.0, 0.0, 0.0, 0.0, ...</td>\n",
              "      <td>[0.0, 1.0, 0.0, 0.0, 0.0, 0.0, 1.0, 0.0, 0.0, ...</td>\n",
              "      <td>[-0.014800192788243294, -0.03467661887407303, ...</td>\n",
              "      <td>0.038646</td>\n",
              "      <td>4.0</td>\n",
              "    </tr>\n",
              "    <tr>\n",
              "      <th>3</th>\n",
              "      <td>1</td>\n",
              "      <td>47</td>\n",
              "      <td>[0.0, 0.0, 0.0, 0.0, 0.0, 0.0, 0.0, 0.0, 0.0, ...</td>\n",
              "      <td>[0.0, 0.0, 0.0, 0.0, 0.0, 0.0, 0.0, 0.0, 0.0, ...</td>\n",
              "      <td>[0.0, 0.0, 0.0, 0.0, 0.0, 0.0, 0.0, 0.0, 0.0, ...</td>\n",
              "      <td>[-0.08171193301677704, -0.16335169970989227, -...</td>\n",
              "      <td>0.038646</td>\n",
              "      <td>5.0</td>\n",
              "    </tr>\n",
              "    <tr>\n",
              "      <th>4</th>\n",
              "      <td>1</td>\n",
              "      <td>50</td>\n",
              "      <td>[0.0, 0.0, 0.0, 0.0, 0.0, 0.0, 0.0, 0.0, 0.0, ...</td>\n",
              "      <td>[0.0, 0.0, 0.0, 0.0, 0.0, 0.0, 0.0, 0.0, 0.0, ...</td>\n",
              "      <td>[0.0, 0.0, 0.0, 0.0, 0.0, 0.0, 1.0, 0.0, 0.0, ...</td>\n",
              "      <td>[-0.02820689044892788, -0.21469439566135406, -...</td>\n",
              "      <td>0.038646</td>\n",
              "      <td>5.0</td>\n",
              "    </tr>\n",
              "  </tbody>\n",
              "</table>\n",
              "</div>"
            ],
            "text/plain": [
              "   user_id  movie_id  ... launch_year rating\n",
              "0        1         1  ...    0.038646    4.0\n",
              "1        1         3  ...    0.038646    4.0\n",
              "2        1         6  ...    0.038646    4.0\n",
              "3        1        47  ...    0.038646    5.0\n",
              "4        1        50  ...    0.038646    5.0\n",
              "\n",
              "[5 rows x 8 columns]"
            ]
          },
          "metadata": {
            "tags": []
          },
          "execution_count": 75
        }
      ]
    },
    {
      "cell_type": "code",
      "metadata": {
        "colab": {
          "base_uri": "https://localhost:8080/",
          "height": 204
        },
        "id": "CZ0FTdU3AR4h",
        "outputId": "16373664-8667-4625-e734-0f197e20ac5c"
      },
      "source": [
        "# user_id, movie_id -1 for embedding\n",
        "data.loc[:,\"user_id\"] = (data.user_id - 1).to_list()\n",
        "data.loc[:,\"movie_id\"] = (data.movie_id - 1).to_list()\n",
        "data.head()"
      ],
      "execution_count": 76,
      "outputs": [
        {
          "output_type": "execute_result",
          "data": {
            "text/html": [
              "<div>\n",
              "<style scoped>\n",
              "    .dataframe tbody tr th:only-of-type {\n",
              "        vertical-align: middle;\n",
              "    }\n",
              "\n",
              "    .dataframe tbody tr th {\n",
              "        vertical-align: top;\n",
              "    }\n",
              "\n",
              "    .dataframe thead th {\n",
              "        text-align: right;\n",
              "    }\n",
              "</style>\n",
              "<table border=\"1\" class=\"dataframe\">\n",
              "  <thead>\n",
              "    <tr style=\"text-align: right;\">\n",
              "      <th></th>\n",
              "      <th>user_id</th>\n",
              "      <th>movie_id</th>\n",
              "      <th>tag_vector</th>\n",
              "      <th>last_rate_vector</th>\n",
              "      <th>genres_vectors</th>\n",
              "      <th>title_vector</th>\n",
              "      <th>launch_year</th>\n",
              "      <th>rating</th>\n",
              "    </tr>\n",
              "  </thead>\n",
              "  <tbody>\n",
              "    <tr>\n",
              "      <th>0</th>\n",
              "      <td>0</td>\n",
              "      <td>0</td>\n",
              "      <td>[0.0, 0.0, 0.0, 0.0, 0.0, 0.0, 0.0, 0.0, 0.0, ...</td>\n",
              "      <td>[0.0, 0.0, 0.0, 0.0, 0.0, 0.0, 0.0, 0.0, 0.0, ...</td>\n",
              "      <td>[0.0, 0.0, 1.0, 1.0, 1.0, 1.0, 0.0, 0.0, 0.0, ...</td>\n",
              "      <td>[-0.04482043534517288, -0.07715187966823578, -...</td>\n",
              "      <td>0.038646</td>\n",
              "      <td>4.0</td>\n",
              "    </tr>\n",
              "    <tr>\n",
              "      <th>1</th>\n",
              "      <td>0</td>\n",
              "      <td>2</td>\n",
              "      <td>[0.0, 0.0, 0.0, 0.0, 0.0, 0.0, 0.0, 0.0, 0.0, ...</td>\n",
              "      <td>[0.0, 0.0, 0.0, 0.0, 0.0, 0.0, 0.0, 0.0, 0.0, ...</td>\n",
              "      <td>[0.0, 0.0, 0.0, 0.0, 0.0, 1.0, 0.0, 0.0, 0.0, ...</td>\n",
              "      <td>[-0.06338685750961304, -0.09712792187929153, -...</td>\n",
              "      <td>0.038646</td>\n",
              "      <td>4.0</td>\n",
              "    </tr>\n",
              "    <tr>\n",
              "      <th>2</th>\n",
              "      <td>0</td>\n",
              "      <td>5</td>\n",
              "      <td>[0.0, 0.0, 0.0, 0.0, 0.0, 0.0, 0.0, 0.0, 0.0, ...</td>\n",
              "      <td>[0.0, 0.0, 0.0, 0.0, 0.0, 0.0, 0.0, 0.0, 0.0, ...</td>\n",
              "      <td>[0.0, 1.0, 0.0, 0.0, 0.0, 0.0, 1.0, 0.0, 0.0, ...</td>\n",
              "      <td>[-0.014800192788243294, -0.03467661887407303, ...</td>\n",
              "      <td>0.038646</td>\n",
              "      <td>4.0</td>\n",
              "    </tr>\n",
              "    <tr>\n",
              "      <th>3</th>\n",
              "      <td>0</td>\n",
              "      <td>46</td>\n",
              "      <td>[0.0, 0.0, 0.0, 0.0, 0.0, 0.0, 0.0, 0.0, 0.0, ...</td>\n",
              "      <td>[0.0, 0.0, 0.0, 0.0, 0.0, 0.0, 0.0, 0.0, 0.0, ...</td>\n",
              "      <td>[0.0, 0.0, 0.0, 0.0, 0.0, 0.0, 0.0, 0.0, 0.0, ...</td>\n",
              "      <td>[-0.08171193301677704, -0.16335169970989227, -...</td>\n",
              "      <td>0.038646</td>\n",
              "      <td>5.0</td>\n",
              "    </tr>\n",
              "    <tr>\n",
              "      <th>4</th>\n",
              "      <td>0</td>\n",
              "      <td>49</td>\n",
              "      <td>[0.0, 0.0, 0.0, 0.0, 0.0, 0.0, 0.0, 0.0, 0.0, ...</td>\n",
              "      <td>[0.0, 0.0, 0.0, 0.0, 0.0, 0.0, 0.0, 0.0, 0.0, ...</td>\n",
              "      <td>[0.0, 0.0, 0.0, 0.0, 0.0, 0.0, 1.0, 0.0, 0.0, ...</td>\n",
              "      <td>[-0.02820689044892788, -0.21469439566135406, -...</td>\n",
              "      <td>0.038646</td>\n",
              "      <td>5.0</td>\n",
              "    </tr>\n",
              "  </tbody>\n",
              "</table>\n",
              "</div>"
            ],
            "text/plain": [
              "   user_id  movie_id  ... launch_year rating\n",
              "0        0         0  ...    0.038646    4.0\n",
              "1        0         2  ...    0.038646    4.0\n",
              "2        0         5  ...    0.038646    4.0\n",
              "3        0        46  ...    0.038646    5.0\n",
              "4        0        49  ...    0.038646    5.0\n",
              "\n",
              "[5 rows x 8 columns]"
            ]
          },
          "metadata": {
            "tags": []
          },
          "execution_count": 76
        }
      ]
    },
    {
      "cell_type": "code",
      "metadata": {
        "colab": {
          "base_uri": "https://localhost:8080/"
        },
        "id": "gRwl3cJEI813",
        "outputId": "b49e6f5d-56f0-41c0-b782-41a2d94d6cba"
      },
      "source": [
        "data.iloc[0][\"last_rate_vector\"]"
      ],
      "execution_count": 77,
      "outputs": [
        {
          "output_type": "execute_result",
          "data": {
            "text/plain": [
              "array([0., 0., 0., ..., 0., 0., 0.])"
            ]
          },
          "metadata": {
            "tags": []
          },
          "execution_count": 77
        }
      ]
    },
    {
      "cell_type": "code",
      "metadata": {
        "id": "GYMse-BZ6jyc"
      },
      "source": [
        "from torch.utils.data import Dataset\n",
        "\n",
        "class MovieLensDataset(Dataset):\n",
        "  def __init__(self, dataframe):\n",
        "    super(MovieLensDataset, self).__init__()\n",
        "    self.df = dataframe\n",
        "    self.field_dim = np.array([self.df.user_id.max() + 1, self.df.movie_id.max() + 1])\n",
        "    self.len_tag_vec = len(self.df.iloc[0][\"tag_vector\"])\n",
        "    self.len_last_rate_vec = len(self.df.iloc[0][\"last_rate_vector\"])\n",
        "    self.len_gnrs_vec = len(self.df.iloc[0][\"genres_vectors\"])\n",
        "    self.len_title_vec = len(self.df.iloc[0][\"title_vector\"])\n",
        "\n",
        "  def __getitem__(self, index):\n",
        "    row = self.df.iloc[index]\n",
        "    user_id = row[\"user_id\"]\n",
        "    movie_id = row[\"movie_id\"]\n",
        "    user_movie = torch.LongTensor([user_id, movie_id])\n",
        "    tag_vector = torch.Tensor(row[\"tag_vector\"])\n",
        "    last_rate_vector = torch.Tensor(row[\"last_rate_vector\"])\n",
        "    genres_vectors = torch.Tensor(row[\"genres_vectors\"])\n",
        "    title_vector = torch.Tensor(row[\"title_vector\"])\n",
        "    # launch_year = torch.Tensor(np.array(row[\"launch_year\"]))\n",
        "    ratings = row[\"rating\"]\n",
        "\n",
        "    return (user_movie, tag_vector, last_rate_vector, genres_vectors, title_vector), ratings\n",
        "\n",
        "  def __len__(self):\n",
        "    return len(self.df)"
      ],
      "execution_count": 78,
      "outputs": []
    },
    {
      "cell_type": "code",
      "metadata": {
        "id": "YdOqB-HiNo0j"
      },
      "source": [
        "dataset = MovieLensDataset(data)"
      ],
      "execution_count": 79,
      "outputs": []
    },
    {
      "cell_type": "code",
      "metadata": {
        "id": "i1ylIEY5NVlL"
      },
      "source": [
        "train_length = int(len(dataset) * 0.8)\n",
        "valid_length = int(len(dataset) * 0.1)\n",
        "test_length = len(dataset) - train_length - valid_length\n",
        "train_dataset, valid_dataset, test_dataset = torch.utils.data.random_split(\n",
        "    dataset, (train_length, valid_length, test_length))"
      ],
      "execution_count": 80,
      "outputs": []
    },
    {
      "cell_type": "code",
      "metadata": {
        "id": "oRnP_KtpNunl"
      },
      "source": [
        "from torch.utils.data import DataLoader\n",
        "\n",
        "dummy_loader= DataLoader(train_dataset, batch_size = 10, shuffle=False)"
      ],
      "execution_count": 81,
      "outputs": []
    },
    {
      "cell_type": "code",
      "metadata": {
        "id": "ADFgQIt7njWY"
      },
      "source": [
        "iterator = iter(dummy_loader)\n",
        "dummy = next(iterator)"
      ],
      "execution_count": 161,
      "outputs": []
    },
    {
      "cell_type": "code",
      "metadata": {
        "colab": {
          "base_uri": "https://localhost:8080/"
        },
        "id": "kriHm0JQQmCX",
        "outputId": "1d16062c-7a28-47e0-c73c-75676ca5c9a3"
      },
      "source": [
        "dummy[0]"
      ],
      "execution_count": 162,
      "outputs": [
        {
          "output_type": "execute_result",
          "data": {
            "text/plain": [
              "[tensor([[  550,  8463],\n",
              "         [   27, 61322],\n",
              "         [  371,   271],\n",
              "         [  488,  1392],\n",
              "         [  602,   259],\n",
              "         [   18,  2549],\n",
              "         [   51,   732],\n",
              "         [  185,  2115],\n",
              "         [  435,   157],\n",
              "         [  479,  4898]]), tensor([[0., 0., 0.,  ..., 0., 0., 0.],\n",
              "         [0., 0., 0.,  ..., 0., 0., 0.],\n",
              "         [0., 0., 0.,  ..., 0., 0., 0.],\n",
              "         ...,\n",
              "         [0., 0., 0.,  ..., 0., 0., 0.],\n",
              "         [0., 0., 0.,  ..., 0., 0., 0.],\n",
              "         [0., 0., 0.,  ..., 0., 0., 0.]]), tensor([[0., 0., 0.,  ..., 0., 0., 0.],\n",
              "         [0., 0., 0.,  ..., 0., 0., 0.],\n",
              "         [0., 0., 0.,  ..., 0., 0., 0.],\n",
              "         ...,\n",
              "         [0., 0., 0.,  ..., 0., 0., 0.],\n",
              "         [0., 1., 0.,  ..., 0., 0., 0.],\n",
              "         [0., 0., 0.,  ..., 0., 0., 0.]]), tensor([[0., 0., 0., 0., 0., 1., 0., 1., 1., 0., 0., 0., 0., 0., 0., 0., 0., 0.,\n",
              "          0., 0.],\n",
              "         [0., 0., 0., 0., 0., 1., 1., 0., 1., 0., 0., 0., 0., 0., 0., 0., 0., 0.,\n",
              "          0., 0.],\n",
              "         [0., 0., 0., 0., 0., 1., 0., 0., 1., 0., 0., 0., 0., 0., 0., 0., 0., 0.,\n",
              "          0., 0.],\n",
              "         [0., 0., 0., 0., 0., 0., 0., 0., 1., 0., 0., 0., 0., 0., 0., 1., 0., 0.,\n",
              "          0., 0.],\n",
              "         [0., 1., 1., 0., 0., 0., 0., 0., 0., 0., 0., 0., 0., 0., 0., 0., 1., 0.,\n",
              "          0., 0.],\n",
              "         [0., 0., 0., 0., 0., 0., 0., 0., 0., 0., 0., 1., 0., 0., 0., 0., 0., 1.,\n",
              "          0., 0.],\n",
              "         [0., 1., 1., 0., 0., 0., 0., 0., 0., 0., 0., 0., 0., 0., 0., 0., 0., 1.,\n",
              "          0., 0.],\n",
              "         [0., 0., 1., 1., 1., 0., 0., 0., 0., 1., 0., 0., 0., 0., 0., 0., 0., 0.,\n",
              "          0., 0.],\n",
              "         [0., 0., 1., 0., 1., 0., 0., 0., 0., 0., 0., 0., 0., 0., 0., 0., 0., 0.,\n",
              "          0., 0.],\n",
              "         [0., 0., 1., 0., 0., 1., 0., 0., 0., 1., 0., 0., 0., 0., 0., 0., 0., 0.,\n",
              "          0., 0.]]), tensor([[-0.0499, -0.0950, -0.1606,  ..., -0.0921,  0.0561,  0.0205],\n",
              "         [-0.0483, -0.0766, -0.1272,  ..., -0.0915,  0.0383,  0.0260],\n",
              "         [-0.0390, -0.1430, -0.1122,  ..., -0.0912,  0.0910, -0.0077],\n",
              "         ...,\n",
              "         [-0.0471, -0.1526, -0.1299,  ..., -0.0913,  0.0759, -0.0024],\n",
              "         [-0.0043, -0.0191, -0.0242,  ..., -0.0121,  0.0140,  0.0038],\n",
              "         [-0.0472, -0.0970, -0.1017,  ..., -0.0914,  0.0730,  0.0283]])]"
            ]
          },
          "metadata": {
            "tags": []
          },
          "execution_count": 162
        }
      ]
    },
    {
      "cell_type": "code",
      "metadata": {
        "id": "kjwwjwocOJlY"
      },
      "source": [
        "class FeaturesLinear(torch.nn.Module):\n",
        "\n",
        "    def __init__(self, field_dims, output_dim=1):\n",
        "        super().__init__()\n",
        "        self.fc = torch.nn.Embedding(sum(field_dims), output_dim)\n",
        "        self.bias = torch.nn.Parameter(torch.zeros((output_dim,)))\n",
        "        self.offsets = np.array((0, *np.cumsum(field_dims)[:-1]), dtype=np.long)\n",
        "\n",
        "    def forward(self, x, fc1, fc2, fc3, fc4):\n",
        "        \"\"\"\n",
        "        :param x: Long tensor of size ``(batch_size, num_fields)``\n",
        "        \"\"\"\n",
        "        x = x + x.new_tensor(self.offsets).unsqueeze(0)\n",
        "        fc = self.fc(x).squeeze(2)\n",
        "        cat = torch.cat([fc,fc1,fc2,fc3,fc4],dim=1).unsqueeze(2)\n",
        "        \n",
        "        return torch.sum(cat, dim=1) + self.bias\n",
        "\n",
        "\n",
        "class FactorizationMachineModel(nn.Module):\n",
        "  def __init__(self, field_dims, embed_dim, len_tag_vec, len_last_rate_vec, len_gnrs_vec, len_title_vec):\n",
        "    super(FactorizationMachineModel, self).__init__()\n",
        "    self.fc1 = nn.Linear(len_tag_vec, 1)\n",
        "    self.fc2 = nn.Linear(len_last_rate_vec, 1)\n",
        "    self.fc3 = nn.Linear(len_gnrs_vec, 1)\n",
        "    self.fc4 = nn.Linear(len_title_vec, 1)\n",
        "\n",
        "    self.fc1_emb = nn.Linear(len_tag_vec, embed_dim)\n",
        "    self.fc2_emb = nn.Linear(len_last_rate_vec, embed_dim)\n",
        "    self.fc3_emb = nn.Linear(len_gnrs_vec, embed_dim)\n",
        "    self.fc4_emb = nn.Linear(len_title_vec, embed_dim)\n",
        "\n",
        "    self.linear = FeaturesLinear(field_dims)\n",
        "    self.embedding = FeaturesEmbedding(field_dims,embed_dim)\n",
        "    self.fm = FactorizationMachine(reduce_sum=True)\n",
        "\n",
        "  def forward(self, x, tag_vec, last_rate_vec, gnrs_vec, title_vec):\n",
        "    linear = self.linear(x, self.fc1(tag_vec), self.fc2(last_rate_vec), self.fc3(gnrs_vec), self.fc4(title_vec))\n",
        "    embed = self.embedding(x, self.fc1_emb(tag_vec), self.fc2_emb(last_rate_vec), self.fc3_emb(gnrs_vec), self.fc4_emb(title_vec))\n",
        "    fm = self.fm(embed)\n",
        "    x = linear + fm\n",
        "    return x"
      ],
      "execution_count": 188,
      "outputs": []
    },
    {
      "cell_type": "code",
      "metadata": {
        "id": "R7Opm2DzsBln"
      },
      "source": [
        "class FeaturesEmbedding(torch.nn.Module):\n",
        "\n",
        "    def __init__(self, field_dims, embed_dim):\n",
        "        super().__init__()\n",
        "        self.embedding = torch.nn.Embedding(sum(field_dims), embed_dim)\n",
        "        self.offsets = np.array((0, *np.cumsum(field_dims)[:-1]), dtype=np.long)\n",
        "        torch.nn.init.xavier_uniform_(self.embedding.weight.data)\n",
        "\n",
        "    def forward(self, x, tag_vec, last_rate_vec, gnrs_vec, title_vec):\n",
        "        \"\"\"\n",
        "        :param x: Long tensor of size ``(batch_size, num_fields)``\n",
        "        \"\"\"\n",
        "        x = x + x.new_tensor(self.offsets).unsqueeze(0)\n",
        "        cat = torch.cat([self.embedding(x),tag_vec.unsqueeze(1),last_rate_vec.unsqueeze(1),gnrs_vec.unsqueeze(1),title_vec.unsqueeze(1)],dim=1)\n",
        "        \n",
        "        return cat"
      ],
      "execution_count": 189,
      "outputs": []
    },
    {
      "cell_type": "code",
      "metadata": {
        "id": "1jfM-WRW7ZuC"
      },
      "source": [
        "class FactorizationMachine(torch.nn.Module):\n",
        "\n",
        "    def __init__(self, reduce_sum=True):\n",
        "        super().__init__()\n",
        "        self.reduce_sum = reduce_sum\n",
        "\n",
        "    def forward(self, x):\n",
        "        \"\"\"\n",
        "        :param x: Float tensor of size ``(batch_size, num_fields, embed_dim)``\n",
        "        \"\"\"\n",
        "\n",
        "        num_factors = x.shape[1]\n",
        "        dict_vector = {i:x[:,i,:].unsqueeze(1) for i in range(num_factors)}\n",
        "        dict_ixs = dict()\n",
        "\n",
        "        for i in range(num_factors):\n",
        "          for j in range(i,num_factors):\n",
        "            if i<j:\n",
        "              x1 = dict_vector[i]\n",
        "              x2 = dict_vector[j]\n",
        "              cat = torch.cat([x1,x2],dim=1)\n",
        "              square_of_sum= torch.sum(cat,dim=1) ** 2\n",
        "              sum_of_square = torch.sum(cat ** 2, dim=1)\n",
        "              ix = square_of_sum - sum_of_square\n",
        "              if self.reduce_sum:\n",
        "                ix = torch.sum(ix, dim=1, keepdim=True)\n",
        "              dict_ixs[(i,j)] = 0.5 * ix\n",
        "\n",
        "        tensor_ixs = torch.stack(list(dict_ixs.values()),dim=1)\n",
        "        result = torch.sum(tensor_ixs,dim=1)\n",
        "        return result"
      ],
      "execution_count": 194,
      "outputs": []
    },
    {
      "cell_type": "code",
      "metadata": {
        "id": "oSOI7dHSap-H"
      },
      "source": [
        "model = FactorizationMachineModel(dataset.field_dim, 10, dataset.len_tag_vec, dataset.len_last_rate_vec, dataset.len_gnrs_vec, dataset.len_title_vec)"
      ],
      "execution_count": 195,
      "outputs": []
    },
    {
      "cell_type": "code",
      "metadata": {
        "id": "kPJYJxstc4ZC"
      },
      "source": [
        "v1, v2, v3, v4, v5 = dummy[0]"
      ],
      "execution_count": 196,
      "outputs": []
    },
    {
      "cell_type": "code",
      "metadata": {
        "colab": {
          "base_uri": "https://localhost:8080/"
        },
        "id": "EDHM_rPXexWO",
        "outputId": "45092e46-bf3f-424d-ac70-24762e08077f"
      },
      "source": [
        "model(v1, v2, v3, v4, v5)"
      ],
      "execution_count": 197,
      "outputs": [
        {
          "output_type": "execute_result",
          "data": {
            "text/plain": [
              "tensor([[ 1.4234e+00],\n",
              "        [-1.4179e+00],\n",
              "        [ 1.5061e+00],\n",
              "        [ 2.6856e-01],\n",
              "        [-3.7246e+00],\n",
              "        [ 1.4073e-03],\n",
              "        [-1.3285e+00],\n",
              "        [ 6.5980e-01],\n",
              "        [ 8.1422e-02],\n",
              "        [-4.7096e-01]], grad_fn=<AddBackward0>)"
            ]
          },
          "metadata": {
            "tags": []
          },
          "execution_count": 197
        }
      ]
    },
    {
      "cell_type": "markdown",
      "metadata": {
        "id": "1c9blU0rwsbZ"
      },
      "source": [
        "## Factorization Machines as Predictors\n",
        "\n",
        "* Regression\n",
        "\n",
        "* Binary classification\n",
        "\n",
        "* Ranking: $\\hat{y}(x)$ score에 따라서 벡터들을 정렬 각각으 pair a와 b간에 pairwise classification loss를 수행"
      ]
    },
    {
      "cell_type": "markdown",
      "metadata": {
        "id": "5yRRAT-S4jE6"
      },
      "source": [
        "* interactions: [user_id, item_id]\n",
        "* user_features: [user_id, uf_1, .., uf_n] -- tag_vector, last_rate_vecotr\n",
        "* item_features:: [item_id, if_1, .., if_n] -- genres_vectors, title_vector, launch_year\n",
        "* sample_weight: importance weights"
      ]
    }
  ]
}