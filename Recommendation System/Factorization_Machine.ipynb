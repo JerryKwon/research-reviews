{
  "nbformat": 4,
  "nbformat_minor": 0,
  "metadata": {
    "colab": {
      "name": "Factorization_Machine.ipynb",
      "provenance": [],
      "collapsed_sections": []
    },
    "kernelspec": {
      "name": "python3",
      "display_name": "Python 3"
    },
    "widgets": {
      "application/vnd.jupyter.widget-state+json": {
        "9a94258c28524e7285d9739ef18b5056": {
          "model_module": "@jupyter-widgets/controls",
          "model_name": "HBoxModel",
          "state": {
            "_view_name": "HBoxView",
            "_dom_classes": [],
            "_model_name": "HBoxModel",
            "_view_module": "@jupyter-widgets/controls",
            "_model_module_version": "1.5.0",
            "_view_count": null,
            "_view_module_version": "1.5.0",
            "box_style": "",
            "layout": "IPY_MODEL_fe277aa325364e0b94ef953545854c71",
            "_model_module": "@jupyter-widgets/controls",
            "children": [
              "IPY_MODEL_d24d02985f664a24bd113e8bcd838e27",
              "IPY_MODEL_08eba16c428045b086daa5176f1b9d7e"
            ]
          }
        },
        "fe277aa325364e0b94ef953545854c71": {
          "model_module": "@jupyter-widgets/base",
          "model_name": "LayoutModel",
          "state": {
            "_view_name": "LayoutView",
            "grid_template_rows": null,
            "right": null,
            "justify_content": null,
            "_view_module": "@jupyter-widgets/base",
            "overflow": null,
            "_model_module_version": "1.2.0",
            "_view_count": null,
            "flex_flow": null,
            "width": null,
            "min_width": null,
            "border": null,
            "align_items": null,
            "bottom": null,
            "_model_module": "@jupyter-widgets/base",
            "top": null,
            "grid_column": null,
            "overflow_y": null,
            "overflow_x": null,
            "grid_auto_flow": null,
            "grid_area": null,
            "grid_template_columns": null,
            "flex": null,
            "_model_name": "LayoutModel",
            "justify_items": null,
            "grid_row": null,
            "max_height": null,
            "align_content": null,
            "visibility": null,
            "align_self": null,
            "height": null,
            "min_height": null,
            "padding": null,
            "grid_auto_rows": null,
            "grid_gap": null,
            "max_width": null,
            "order": null,
            "_view_module_version": "1.2.0",
            "grid_template_areas": null,
            "object_position": null,
            "object_fit": null,
            "grid_auto_columns": null,
            "margin": null,
            "display": null,
            "left": null
          }
        },
        "d24d02985f664a24bd113e8bcd838e27": {
          "model_module": "@jupyter-widgets/controls",
          "model_name": "FloatProgressModel",
          "state": {
            "_view_name": "ProgressView",
            "style": "IPY_MODEL_6d8342f29aff4508858b6ef51ab8b11c",
            "_dom_classes": [],
            "description": "100%",
            "_model_name": "FloatProgressModel",
            "bar_style": "success",
            "max": 9742,
            "_view_module": "@jupyter-widgets/controls",
            "_model_module_version": "1.5.0",
            "value": 9742,
            "_view_count": null,
            "_view_module_version": "1.5.0",
            "orientation": "horizontal",
            "min": 0,
            "description_tooltip": null,
            "_model_module": "@jupyter-widgets/controls",
            "layout": "IPY_MODEL_b03f4ed4460b41629de8858cf4dc2c75"
          }
        },
        "08eba16c428045b086daa5176f1b9d7e": {
          "model_module": "@jupyter-widgets/controls",
          "model_name": "HTMLModel",
          "state": {
            "_view_name": "HTMLView",
            "style": "IPY_MODEL_471ae3d0044f4f199a718f0df3a50af3",
            "_dom_classes": [],
            "description": "",
            "_model_name": "HTMLModel",
            "placeholder": "​",
            "_view_module": "@jupyter-widgets/controls",
            "_model_module_version": "1.5.0",
            "value": " 9742/9742 [00:00&lt;00:00, 39787.44it/s]",
            "_view_count": null,
            "_view_module_version": "1.5.0",
            "description_tooltip": null,
            "_model_module": "@jupyter-widgets/controls",
            "layout": "IPY_MODEL_b39c2de923c44b38bc2c916765f76130"
          }
        },
        "6d8342f29aff4508858b6ef51ab8b11c": {
          "model_module": "@jupyter-widgets/controls",
          "model_name": "ProgressStyleModel",
          "state": {
            "_view_name": "StyleView",
            "_model_name": "ProgressStyleModel",
            "description_width": "initial",
            "_view_module": "@jupyter-widgets/base",
            "_model_module_version": "1.5.0",
            "_view_count": null,
            "_view_module_version": "1.2.0",
            "bar_color": null,
            "_model_module": "@jupyter-widgets/controls"
          }
        },
        "b03f4ed4460b41629de8858cf4dc2c75": {
          "model_module": "@jupyter-widgets/base",
          "model_name": "LayoutModel",
          "state": {
            "_view_name": "LayoutView",
            "grid_template_rows": null,
            "right": null,
            "justify_content": null,
            "_view_module": "@jupyter-widgets/base",
            "overflow": null,
            "_model_module_version": "1.2.0",
            "_view_count": null,
            "flex_flow": null,
            "width": null,
            "min_width": null,
            "border": null,
            "align_items": null,
            "bottom": null,
            "_model_module": "@jupyter-widgets/base",
            "top": null,
            "grid_column": null,
            "overflow_y": null,
            "overflow_x": null,
            "grid_auto_flow": null,
            "grid_area": null,
            "grid_template_columns": null,
            "flex": null,
            "_model_name": "LayoutModel",
            "justify_items": null,
            "grid_row": null,
            "max_height": null,
            "align_content": null,
            "visibility": null,
            "align_self": null,
            "height": null,
            "min_height": null,
            "padding": null,
            "grid_auto_rows": null,
            "grid_gap": null,
            "max_width": null,
            "order": null,
            "_view_module_version": "1.2.0",
            "grid_template_areas": null,
            "object_position": null,
            "object_fit": null,
            "grid_auto_columns": null,
            "margin": null,
            "display": null,
            "left": null
          }
        },
        "471ae3d0044f4f199a718f0df3a50af3": {
          "model_module": "@jupyter-widgets/controls",
          "model_name": "DescriptionStyleModel",
          "state": {
            "_view_name": "StyleView",
            "_model_name": "DescriptionStyleModel",
            "description_width": "",
            "_view_module": "@jupyter-widgets/base",
            "_model_module_version": "1.5.0",
            "_view_count": null,
            "_view_module_version": "1.2.0",
            "_model_module": "@jupyter-widgets/controls"
          }
        },
        "b39c2de923c44b38bc2c916765f76130": {
          "model_module": "@jupyter-widgets/base",
          "model_name": "LayoutModel",
          "state": {
            "_view_name": "LayoutView",
            "grid_template_rows": null,
            "right": null,
            "justify_content": null,
            "_view_module": "@jupyter-widgets/base",
            "overflow": null,
            "_model_module_version": "1.2.0",
            "_view_count": null,
            "flex_flow": null,
            "width": null,
            "min_width": null,
            "border": null,
            "align_items": null,
            "bottom": null,
            "_model_module": "@jupyter-widgets/base",
            "top": null,
            "grid_column": null,
            "overflow_y": null,
            "overflow_x": null,
            "grid_auto_flow": null,
            "grid_area": null,
            "grid_template_columns": null,
            "flex": null,
            "_model_name": "LayoutModel",
            "justify_items": null,
            "grid_row": null,
            "max_height": null,
            "align_content": null,
            "visibility": null,
            "align_self": null,
            "height": null,
            "min_height": null,
            "padding": null,
            "grid_auto_rows": null,
            "grid_gap": null,
            "max_width": null,
            "order": null,
            "_view_module_version": "1.2.0",
            "grid_template_areas": null,
            "object_position": null,
            "object_fit": null,
            "grid_auto_columns": null,
            "margin": null,
            "display": null,
            "left": null
          }
        }
      }
    }
  },
  "cells": [
    {
      "cell_type": "code",
      "metadata": {
        "colab": {
          "base_uri": "https://localhost:8080/"
        },
        "id": "VCEgaiH2mbi6",
        "outputId": "7c3957c2-622f-4626-92ca-4c49d84a8daf"
      },
      "source": [
        "from google.colab import drive\n",
        "drive.mount(\"/gdrive\")"
      ],
      "execution_count": 142,
      "outputs": [
        {
          "output_type": "stream",
          "text": [
            "Drive already mounted at /gdrive; to attempt to forcibly remount, call drive.mount(\"/gdrive\", force_remount=True).\n"
          ],
          "name": "stdout"
        }
      ]
    },
    {
      "cell_type": "code",
      "metadata": {
        "id": "0c6HIiiImsWz"
      },
      "source": [
        "import os\n",
        "\n",
        "project_path = \"/gdrive/MyDrive/colab/Factorization_Machine/\"\n",
        "data_path = os.path.join(project_path,\"data\")"
      ],
      "execution_count": 143,
      "outputs": []
    },
    {
      "cell_type": "code",
      "metadata": {
        "colab": {
          "base_uri": "https://localhost:8080/"
        },
        "id": "DWfJ4nJEoI9W",
        "outputId": "a9d4dd6f-6fe2-406a-9a05-28fe799d5f7a"
      },
      "source": [
        "ls -l /gdrive/MyDrive/colab/Factorization_Machine/data"
      ],
      "execution_count": 144,
      "outputs": [
        {
          "output_type": "stream",
          "text": [
            "total 3219\n",
            "-rw------- 1 root root  197979 Nov 19 04:30 links.csv\n",
            "-rw------- 1 root root  494431 Nov 24 01:17 movies.csv\n",
            "-rw------- 1 root root 2483723 Nov 24 01:17 ratings.csv\n",
            "-rw------- 1 root root  118660 Nov 19 04:30 tags.csv\n"
          ],
          "name": "stdout"
        }
      ]
    },
    {
      "cell_type": "code",
      "metadata": {
        "id": "fWNSvFtEnxga"
      },
      "source": [
        "import pandas as pd\n",
        "\n",
        "csv_movies = os.path.join(data_path,\"movies.csv\")\n",
        "csv_ratings = os.path.join(data_path,\"ratings.csv\")\n",
        "csv_tags = os.path.join(data_path,\"tags.csv\")\n",
        "csv_links =  os.path.join(data_path,\"links.csv\")\n",
        "\n",
        "movies = pd.read_csv(csv_movies)\n",
        "ratings = pd.read_csv(csv_ratings)\n",
        "tags = pd.read_csv(csv_tags)\n",
        "links = pd.read_csv(csv_links)\n",
        "\n",
        "org_movies = movies.copy()\n",
        "org_ratings = ratings.copy()\n",
        "org_tags = tags.copy()\n",
        "org_links = links.copy()\n"
      ],
      "execution_count": 145,
      "outputs": []
    },
    {
      "cell_type": "code",
      "metadata": {
        "colab": {
          "base_uri": "https://localhost:8080/",
          "height": 204
        },
        "id": "Lip-mOhroj5x",
        "outputId": "02dd3c92-ea9f-4fb4-8609-122e900b69d8"
      },
      "source": [
        "movies.head()"
      ],
      "execution_count": 146,
      "outputs": [
        {
          "output_type": "execute_result",
          "data": {
            "text/html": [
              "<div>\n",
              "<style scoped>\n",
              "    .dataframe tbody tr th:only-of-type {\n",
              "        vertical-align: middle;\n",
              "    }\n",
              "\n",
              "    .dataframe tbody tr th {\n",
              "        vertical-align: top;\n",
              "    }\n",
              "\n",
              "    .dataframe thead th {\n",
              "        text-align: right;\n",
              "    }\n",
              "</style>\n",
              "<table border=\"1\" class=\"dataframe\">\n",
              "  <thead>\n",
              "    <tr style=\"text-align: right;\">\n",
              "      <th></th>\n",
              "      <th>movieId</th>\n",
              "      <th>title</th>\n",
              "      <th>genres</th>\n",
              "    </tr>\n",
              "  </thead>\n",
              "  <tbody>\n",
              "    <tr>\n",
              "      <th>0</th>\n",
              "      <td>1</td>\n",
              "      <td>Toy Story (1995)</td>\n",
              "      <td>Adventure|Animation|Children|Comedy|Fantasy</td>\n",
              "    </tr>\n",
              "    <tr>\n",
              "      <th>1</th>\n",
              "      <td>2</td>\n",
              "      <td>Jumanji (1995)</td>\n",
              "      <td>Adventure|Children|Fantasy</td>\n",
              "    </tr>\n",
              "    <tr>\n",
              "      <th>2</th>\n",
              "      <td>3</td>\n",
              "      <td>Grumpier Old Men (1995)</td>\n",
              "      <td>Comedy|Romance</td>\n",
              "    </tr>\n",
              "    <tr>\n",
              "      <th>3</th>\n",
              "      <td>4</td>\n",
              "      <td>Waiting to Exhale (1995)</td>\n",
              "      <td>Comedy|Drama|Romance</td>\n",
              "    </tr>\n",
              "    <tr>\n",
              "      <th>4</th>\n",
              "      <td>5</td>\n",
              "      <td>Father of the Bride Part II (1995)</td>\n",
              "      <td>Comedy</td>\n",
              "    </tr>\n",
              "  </tbody>\n",
              "</table>\n",
              "</div>"
            ],
            "text/plain": [
              "   movieId  ...                                       genres\n",
              "0        1  ...  Adventure|Animation|Children|Comedy|Fantasy\n",
              "1        2  ...                   Adventure|Children|Fantasy\n",
              "2        3  ...                               Comedy|Romance\n",
              "3        4  ...                         Comedy|Drama|Romance\n",
              "4        5  ...                                       Comedy\n",
              "\n",
              "[5 rows x 3 columns]"
            ]
          },
          "metadata": {
            "tags": []
          },
          "execution_count": 146
        }
      ]
    },
    {
      "cell_type": "code",
      "metadata": {
        "id": "6FaF28pbqVAe"
      },
      "source": [
        "import numpy as np"
      ],
      "execution_count": 147,
      "outputs": []
    },
    {
      "cell_type": "code",
      "metadata": {
        "colab": {
          "base_uri": "https://localhost:8080/"
        },
        "id": "pEUuIcxSok0s",
        "outputId": "52734aad-c9e5-4c6a-9c84-03e0e0ed10c1"
      },
      "source": [
        "unique_genres = np.unique(np.concatenate(np.array(movies.genres.apply(lambda x: np.array(x.split(\"|\"))).tolist())))\n",
        "dict_gid_2_gnr = { gid:genre for gid, genre in enumerate(unique_genres)} \n",
        "dict_gnr_2_gid = { genre:gid for gid, genre in dict_gid_2_gnr.items()}\n",
        "unique_genres"
      ],
      "execution_count": 148,
      "outputs": [
        {
          "output_type": "execute_result",
          "data": {
            "text/plain": [
              "array(['(no genres listed)', 'Action', 'Adventure', 'Animation',\n",
              "       'Children', 'Comedy', 'Crime', 'Documentary', 'Drama', 'Fantasy',\n",
              "       'Film-Noir', 'Horror', 'IMAX', 'Musical', 'Mystery', 'Romance',\n",
              "       'Sci-Fi', 'Thriller', 'War', 'Western'], dtype='<U18')"
            ]
          },
          "metadata": {
            "tags": []
          },
          "execution_count": 148
        }
      ]
    },
    {
      "cell_type": "code",
      "metadata": {
        "id": "qzzO3e5BqEgA"
      },
      "source": [
        "gnr_vectors = list()\n",
        "for gnrs in movies.genres.apply(lambda x: x.split(\"|\")).tolist():\n",
        "  gnr_vector = np.zeros(len(unique_genres))\n",
        "  for gnr in gnrs:\n",
        "    gnr_vector[dict_gnr_2_gid[gnr]] = 1\n",
        "  gnr_vectors.append(gnr_vector)"
      ],
      "execution_count": 149,
      "outputs": []
    },
    {
      "cell_type": "code",
      "metadata": {
        "colab": {
          "base_uri": "https://localhost:8080/",
          "height": 204
        },
        "id": "u19eqiiCol4q",
        "outputId": "2d4f487a-21bd-4b5c-d11c-3278512a23d5"
      },
      "source": [
        "movies.loc[:,\"genres_vectors\"] = pd.Series(gnr_vectors)\n",
        "movies.head()"
      ],
      "execution_count": 150,
      "outputs": [
        {
          "output_type": "execute_result",
          "data": {
            "text/html": [
              "<div>\n",
              "<style scoped>\n",
              "    .dataframe tbody tr th:only-of-type {\n",
              "        vertical-align: middle;\n",
              "    }\n",
              "\n",
              "    .dataframe tbody tr th {\n",
              "        vertical-align: top;\n",
              "    }\n",
              "\n",
              "    .dataframe thead th {\n",
              "        text-align: right;\n",
              "    }\n",
              "</style>\n",
              "<table border=\"1\" class=\"dataframe\">\n",
              "  <thead>\n",
              "    <tr style=\"text-align: right;\">\n",
              "      <th></th>\n",
              "      <th>movieId</th>\n",
              "      <th>title</th>\n",
              "      <th>genres</th>\n",
              "      <th>genres_vectors</th>\n",
              "    </tr>\n",
              "  </thead>\n",
              "  <tbody>\n",
              "    <tr>\n",
              "      <th>0</th>\n",
              "      <td>1</td>\n",
              "      <td>Toy Story (1995)</td>\n",
              "      <td>Adventure|Animation|Children|Comedy|Fantasy</td>\n",
              "      <td>[0.0, 0.0, 1.0, 1.0, 1.0, 1.0, 0.0, 0.0, 0.0, ...</td>\n",
              "    </tr>\n",
              "    <tr>\n",
              "      <th>1</th>\n",
              "      <td>2</td>\n",
              "      <td>Jumanji (1995)</td>\n",
              "      <td>Adventure|Children|Fantasy</td>\n",
              "      <td>[0.0, 0.0, 1.0, 0.0, 1.0, 0.0, 0.0, 0.0, 0.0, ...</td>\n",
              "    </tr>\n",
              "    <tr>\n",
              "      <th>2</th>\n",
              "      <td>3</td>\n",
              "      <td>Grumpier Old Men (1995)</td>\n",
              "      <td>Comedy|Romance</td>\n",
              "      <td>[0.0, 0.0, 0.0, 0.0, 0.0, 1.0, 0.0, 0.0, 0.0, ...</td>\n",
              "    </tr>\n",
              "    <tr>\n",
              "      <th>3</th>\n",
              "      <td>4</td>\n",
              "      <td>Waiting to Exhale (1995)</td>\n",
              "      <td>Comedy|Drama|Romance</td>\n",
              "      <td>[0.0, 0.0, 0.0, 0.0, 0.0, 1.0, 0.0, 0.0, 1.0, ...</td>\n",
              "    </tr>\n",
              "    <tr>\n",
              "      <th>4</th>\n",
              "      <td>5</td>\n",
              "      <td>Father of the Bride Part II (1995)</td>\n",
              "      <td>Comedy</td>\n",
              "      <td>[0.0, 0.0, 0.0, 0.0, 0.0, 1.0, 0.0, 0.0, 0.0, ...</td>\n",
              "    </tr>\n",
              "  </tbody>\n",
              "</table>\n",
              "</div>"
            ],
            "text/plain": [
              "   movieId  ...                                     genres_vectors\n",
              "0        1  ...  [0.0, 0.0, 1.0, 1.0, 1.0, 1.0, 0.0, 0.0, 0.0, ...\n",
              "1        2  ...  [0.0, 0.0, 1.0, 0.0, 1.0, 0.0, 0.0, 0.0, 0.0, ...\n",
              "2        3  ...  [0.0, 0.0, 0.0, 0.0, 0.0, 1.0, 0.0, 0.0, 0.0, ...\n",
              "3        4  ...  [0.0, 0.0, 0.0, 0.0, 0.0, 1.0, 0.0, 0.0, 1.0, ...\n",
              "4        5  ...  [0.0, 0.0, 0.0, 0.0, 0.0, 1.0, 0.0, 0.0, 0.0, ...\n",
              "\n",
              "[5 rows x 4 columns]"
            ]
          },
          "metadata": {
            "tags": []
          },
          "execution_count": 150
        }
      ]
    },
    {
      "cell_type": "code",
      "metadata": {
        "id": "PW86qYLBpd9L"
      },
      "source": [
        "import re\n",
        "\n",
        "def get_year(regex, string):\n",
        "  try:\n",
        "    found = re.search(regex,string).group(1)\n",
        "  except AttributeError:\n",
        "    found = ''\n",
        "  return found\n",
        "\n",
        "regex = '([0-9]{4})'\n",
        "movies.loc[:,\"launch_year\"] = movies.title.apply(lambda x:get_year(regex,x))"
      ],
      "execution_count": 155,
      "outputs": []
    },
    {
      "cell_type": "code",
      "metadata": {
        "id": "v1BQV748xMD0"
      },
      "source": [
        "movies.loc[movies.launch_year != '',\"movie_title\"] = movies.loc[movies.launch_year!= '',\"title\"].apply(lambda x:x[:-6].strip()) \n",
        "movies.loc[movies.launch_year== '',\"movie_title\"] = movies.loc[movies.launch_year== '',\"title\"]"
      ],
      "execution_count": 156,
      "outputs": []
    },
    {
      "cell_type": "code",
      "metadata": {
        "colab": {
          "base_uri": "https://localhost:8080/",
          "height": 204
        },
        "id": "EV7WVG68yJAE",
        "outputId": "86f9557e-df08-4f19-901f-3a48ab63bbd9"
      },
      "source": [
        "movies.head()"
      ],
      "execution_count": 167,
      "outputs": [
        {
          "output_type": "execute_result",
          "data": {
            "text/html": [
              "<div>\n",
              "<style scoped>\n",
              "    .dataframe tbody tr th:only-of-type {\n",
              "        vertical-align: middle;\n",
              "    }\n",
              "\n",
              "    .dataframe tbody tr th {\n",
              "        vertical-align: top;\n",
              "    }\n",
              "\n",
              "    .dataframe thead th {\n",
              "        text-align: right;\n",
              "    }\n",
              "</style>\n",
              "<table border=\"1\" class=\"dataframe\">\n",
              "  <thead>\n",
              "    <tr style=\"text-align: right;\">\n",
              "      <th></th>\n",
              "      <th>movieId</th>\n",
              "      <th>title</th>\n",
              "      <th>genres</th>\n",
              "      <th>genres_vectors</th>\n",
              "      <th>launch_year</th>\n",
              "      <th>movie_title</th>\n",
              "    </tr>\n",
              "  </thead>\n",
              "  <tbody>\n",
              "    <tr>\n",
              "      <th>0</th>\n",
              "      <td>1</td>\n",
              "      <td>Toy Story (1995)</td>\n",
              "      <td>Adventure|Animation|Children|Comedy|Fantasy</td>\n",
              "      <td>[0.0, 0.0, 1.0, 1.0, 1.0, 1.0, 0.0, 0.0, 0.0, ...</td>\n",
              "      <td>1995</td>\n",
              "      <td>Toy Story</td>\n",
              "    </tr>\n",
              "    <tr>\n",
              "      <th>1</th>\n",
              "      <td>2</td>\n",
              "      <td>Jumanji (1995)</td>\n",
              "      <td>Adventure|Children|Fantasy</td>\n",
              "      <td>[0.0, 0.0, 1.0, 0.0, 1.0, 0.0, 0.0, 0.0, 0.0, ...</td>\n",
              "      <td>1995</td>\n",
              "      <td>Jumanji</td>\n",
              "    </tr>\n",
              "    <tr>\n",
              "      <th>2</th>\n",
              "      <td>3</td>\n",
              "      <td>Grumpier Old Men (1995)</td>\n",
              "      <td>Comedy|Romance</td>\n",
              "      <td>[0.0, 0.0, 0.0, 0.0, 0.0, 1.0, 0.0, 0.0, 0.0, ...</td>\n",
              "      <td>1995</td>\n",
              "      <td>Grumpier Old Men</td>\n",
              "    </tr>\n",
              "    <tr>\n",
              "      <th>3</th>\n",
              "      <td>4</td>\n",
              "      <td>Waiting to Exhale (1995)</td>\n",
              "      <td>Comedy|Drama|Romance</td>\n",
              "      <td>[0.0, 0.0, 0.0, 0.0, 0.0, 1.0, 0.0, 0.0, 1.0, ...</td>\n",
              "      <td>1995</td>\n",
              "      <td>Waiting to Exhale</td>\n",
              "    </tr>\n",
              "    <tr>\n",
              "      <th>4</th>\n",
              "      <td>5</td>\n",
              "      <td>Father of the Bride Part II (1995)</td>\n",
              "      <td>Comedy</td>\n",
              "      <td>[0.0, 0.0, 0.0, 0.0, 0.0, 1.0, 0.0, 0.0, 0.0, ...</td>\n",
              "      <td>1995</td>\n",
              "      <td>Father of the Bride Part II</td>\n",
              "    </tr>\n",
              "  </tbody>\n",
              "</table>\n",
              "</div>"
            ],
            "text/plain": [
              "   movieId  ...                  movie_title\n",
              "0        1  ...                    Toy Story\n",
              "1        2  ...                      Jumanji\n",
              "2        3  ...             Grumpier Old Men\n",
              "3        4  ...            Waiting to Exhale\n",
              "4        5  ...  Father of the Bride Part II\n",
              "\n",
              "[5 rows x 6 columns]"
            ]
          },
          "metadata": {
            "tags": []
          },
          "execution_count": 167
        }
      ]
    },
    {
      "cell_type": "code",
      "metadata": {
        "colab": {
          "base_uri": "https://localhost:8080/",
          "height": 134,
          "referenced_widgets": [
            "9a94258c28524e7285d9739ef18b5056",
            "fe277aa325364e0b94ef953545854c71",
            "d24d02985f664a24bd113e8bcd838e27",
            "08eba16c428045b086daa5176f1b9d7e",
            "6d8342f29aff4508858b6ef51ab8b11c",
            "b03f4ed4460b41629de8858cf4dc2c75",
            "471ae3d0044f4f199a718f0df3a50af3",
            "b39c2de923c44b38bc2c916765f76130"
          ]
        },
        "id": "IyqRAkjxyQVd",
        "outputId": "4d34ecf9-8f41-4a79-9af8-6a6f2511d799"
      },
      "source": [
        "!pip install sentencepiece\n",
        "\n",
        "from gensim.models import  Word2Vec\n",
        "import sentencepiece as spm\n",
        "from tqdm import tqdm_notebook\n",
        "\n",
        "\n",
        "regex ='[A-Za-z0-9]+'\n",
        "\n",
        "# 특수문자 제외 및 단어별 배열로 변경\n",
        "list_title_frac= movies.movie_title.apply(lambda x:re.findall(regex,x)).to_list()\n",
        "\n",
        "\n",
        "input_file_path = os.path.join(data_path,\"tokenizer.txt\")\n",
        "tokenizer_name = os.path.join(data_path,\"tokenizer\")\n",
        "tokenizer_name_model = tokenizer_name = os.path.join(data_path,\"tokenizer.model\")\n",
        "\n",
        "# make_input4tokenizer\n",
        "sentences = list(map(lambda x:\" \".join(x),list_title_frac))\n",
        "\n",
        "with open(input_file_path,'w',encoding='utf8') as f:\n",
        "  for sentence in tqdm_notebook(sentences):\n",
        "    f.write(sentence+'\\n')\n",
        "\n",
        "# train_tokenizer\n",
        "templates = ' --input={} \\\n",
        "    --pad_id=0 \\\n",
        "    --bos_id=1 \\\n",
        "    --eos_id=2 \\\n",
        "    --unk_id=3 \\\n",
        "    --model_prefix={} \\\n",
        "    --vocab_size={} \\\n",
        "    --character_coverage=1.0 \\\n",
        "    --model_type={}'\n",
        "\n",
        "vocab_size = 300\n",
        "method = \"bpe\"\n",
        "\n",
        "cmd = templates.format(input_file_path, tokenizer_name, vocab_size, method)\n",
        "spm.SentencePieceTrainer.Train(cmd)\n",
        "print(\"tokenizer {} is generated\".format(tokenizer_name))\n",
        "sp = spm.SentencePieceProcessor()\n",
        "sp.Load(tokenizer_name_model)\n",
        "\n",
        "\n",
        "def get_tokens_from_sentences(sp, sentences):\n",
        "    tokenized_sentences = []\n",
        "    for sentence in sentences:\n",
        "        tokens = sp.EncodeAsPieces(sentence)\n",
        "        new_tokens = []\n",
        "        for token in tokens:\n",
        "            token = token.replace(\"▁\", \"\")\n",
        "            if len(token) > 1:\n",
        "                new_tokens.append(token)\n",
        "        if len(new_tokens) > 1:\n",
        "            tokenized_sentences.append(new_tokens)\n",
        "\n",
        "    return tokenized_sentences\n",
        "\n",
        "\n",
        "def get_tokens_from_sentence(sp, sentence):\n",
        "    new_tokens = []\n",
        "    tokens = sp.EncodeAsPieces(sentence)\n",
        "    for token in tokens:\n",
        "        token = token.replace(\"▁\", \"\")\n",
        "        if len(token) > 1:\n",
        "            new_tokens.append(token)\n",
        "    return new_tokens\n",
        "\n",
        "tokenized_sentences = get_tokens_from_sentences(sp,sentences)"
      ],
      "execution_count": 210,
      "outputs": [
        {
          "output_type": "stream",
          "text": [
            "Requirement already satisfied: sentencepiece in /usr/local/lib/python3.6/dist-packages (0.1.94)\n"
          ],
          "name": "stdout"
        },
        {
          "output_type": "stream",
          "text": [
            "/usr/local/lib/python3.6/dist-packages/ipykernel_launcher.py:22: TqdmDeprecationWarning: This function will be removed in tqdm==5.0.0\n",
            "Please use `tqdm.notebook.tqdm` instead of `tqdm.tqdm_notebook`\n"
          ],
          "name": "stderr"
        },
        {
          "output_type": "display_data",
          "data": {
            "application/vnd.jupyter.widget-view+json": {
              "model_id": "9a94258c28524e7285d9739ef18b5056",
              "version_minor": 0,
              "version_major": 2
            },
            "text/plain": [
              "HBox(children=(FloatProgress(value=0.0, max=9742.0), HTML(value='')))"
            ]
          },
          "metadata": {
            "tags": []
          }
        },
        {
          "output_type": "stream",
          "text": [
            "\n",
            "tokenizer /gdrive/MyDrive/colab/Factorization_Machine/data/tokenizer.model is generated\n"
          ],
          "name": "stdout"
        }
      ]
    },
    {
      "cell_type": "code",
      "metadata": {
        "id": "Kk-Xy34q2S40"
      },
      "source": [
        "# list_title_frac embedding\n",
        "\n",
        "word_vectors = model.wv\n",
        "vocabs = word_vectors.vocab.keys()\n",
        "word_vectors_list = [word_vectors[v] for v in vocabs]"
      ],
      "execution_count": 173,
      "outputs": []
    },
    {
      "cell_type": "code",
      "metadata": {
        "colab": {
          "base_uri": "https://localhost:8080/",
          "height": 419
        },
        "id": "nATPdsnq2qhh",
        "outputId": "31d2d7f5-7115-426c-d40f-dcbf70f44d9d"
      },
      "source": [
        "movies.loc[movies.movie_title.apply(lambda x: len(x)<5)]"
      ],
      "execution_count": 140,
      "outputs": [
        {
          "output_type": "execute_result",
          "data": {
            "text/html": [
              "<div>\n",
              "<style scoped>\n",
              "    .dataframe tbody tr th:only-of-type {\n",
              "        vertical-align: middle;\n",
              "    }\n",
              "\n",
              "    .dataframe tbody tr th {\n",
              "        vertical-align: top;\n",
              "    }\n",
              "\n",
              "    .dataframe thead th {\n",
              "        text-align: right;\n",
              "    }\n",
              "</style>\n",
              "<table border=\"1\" class=\"dataframe\">\n",
              "  <thead>\n",
              "    <tr style=\"text-align: right;\">\n",
              "      <th></th>\n",
              "      <th>movieId</th>\n",
              "      <th>title</th>\n",
              "      <th>genres</th>\n",
              "      <th>genres_vectors</th>\n",
              "      <th>launch_year</th>\n",
              "      <th>movie_title</th>\n",
              "    </tr>\n",
              "  </thead>\n",
              "  <tbody>\n",
              "    <tr>\n",
              "      <th>5</th>\n",
              "      <td>6</td>\n",
              "      <td>Heat (1995)</td>\n",
              "      <td>Action|Crime|Thriller</td>\n",
              "      <td>[0.0, 1.0, 0.0, 0.0, 0.0, 0.0, 1.0, 0.0, 0.0, ...</td>\n",
              "      <td>1995</td>\n",
              "      <td>Heat</td>\n",
              "    </tr>\n",
              "    <tr>\n",
              "      <th>32</th>\n",
              "      <td>34</td>\n",
              "      <td>Babe (1995)</td>\n",
              "      <td>Children|Drama</td>\n",
              "      <td>[0.0, 0.0, 0.0, 0.0, 1.0, 0.0, 0.0, 0.0, 1.0, ...</td>\n",
              "      <td>1995</td>\n",
              "      <td>Babe</td>\n",
              "    </tr>\n",
              "    <tr>\n",
              "      <th>112</th>\n",
              "      <td>132</td>\n",
              "      <td>Jade (1995)</td>\n",
              "      <td>Thriller</td>\n",
              "      <td>[0.0, 0.0, 0.0, 0.0, 0.0, 0.0, 0.0, 0.0, 0.0, ...</td>\n",
              "      <td>1995</td>\n",
              "      <td>Jade</td>\n",
              "    </tr>\n",
              "    <tr>\n",
              "      <th>147</th>\n",
              "      <td>175</td>\n",
              "      <td>Kids (1995)</td>\n",
              "      <td>Drama</td>\n",
              "      <td>[0.0, 0.0, 0.0, 0.0, 0.0, 0.0, 0.0, 0.0, 1.0, ...</td>\n",
              "      <td>1995</td>\n",
              "      <td>Kids</td>\n",
              "    </tr>\n",
              "    <tr>\n",
              "      <th>161</th>\n",
              "      <td>190</td>\n",
              "      <td>Safe (1995)</td>\n",
              "      <td>Thriller</td>\n",
              "      <td>[0.0, 0.0, 0.0, 0.0, 0.0, 0.0, 0.0, 0.0, 0.0, ...</td>\n",
              "      <td>1995</td>\n",
              "      <td>Safe</td>\n",
              "    </tr>\n",
              "    <tr>\n",
              "      <th>...</th>\n",
              "      <td>...</td>\n",
              "      <td>...</td>\n",
              "      <td>...</td>\n",
              "      <td>...</td>\n",
              "      <td>...</td>\n",
              "      <td>...</td>\n",
              "    </tr>\n",
              "    <tr>\n",
              "      <th>9584</th>\n",
              "      <td>175303</td>\n",
              "      <td>It (2017)</td>\n",
              "      <td>Horror</td>\n",
              "      <td>[0.0, 0.0, 0.0, 0.0, 0.0, 0.0, 0.0, 0.0, 0.0, ...</td>\n",
              "      <td>2017</td>\n",
              "      <td>It</td>\n",
              "    </tr>\n",
              "    <tr>\n",
              "      <th>9621</th>\n",
              "      <td>177765</td>\n",
              "      <td>Coco (2017)</td>\n",
              "      <td>Adventure|Animation|Children</td>\n",
              "      <td>[0.0, 0.0, 1.0, 1.0, 1.0, 0.0, 0.0, 0.0, 0.0, ...</td>\n",
              "      <td>2017</td>\n",
              "      <td>Coco</td>\n",
              "    </tr>\n",
              "    <tr>\n",
              "      <th>9642</th>\n",
              "      <td>179813</td>\n",
              "      <td>LBJ (2017)</td>\n",
              "      <td>Drama</td>\n",
              "      <td>[0.0, 0.0, 0.0, 0.0, 0.0, 0.0, 0.0, 0.0, 1.0, ...</td>\n",
              "      <td>2017</td>\n",
              "      <td>LBJ</td>\n",
              "    </tr>\n",
              "    <tr>\n",
              "      <th>9716</th>\n",
              "      <td>188797</td>\n",
              "      <td>Tag (2018)</td>\n",
              "      <td>Comedy</td>\n",
              "      <td>[0.0, 0.0, 0.0, 0.0, 0.0, 1.0, 0.0, 0.0, 0.0, ...</td>\n",
              "      <td>2018</td>\n",
              "      <td>Tag</td>\n",
              "    </tr>\n",
              "    <tr>\n",
              "      <th>9725</th>\n",
              "      <td>190207</td>\n",
              "      <td>Tilt (2011)</td>\n",
              "      <td>Drama|Romance</td>\n",
              "      <td>[0.0, 0.0, 0.0, 0.0, 0.0, 0.0, 0.0, 0.0, 1.0, ...</td>\n",
              "      <td>2011</td>\n",
              "      <td>Tilt</td>\n",
              "    </tr>\n",
              "  </tbody>\n",
              "</table>\n",
              "<p>219 rows × 6 columns</p>\n",
              "</div>"
            ],
            "text/plain": [
              "      movieId        title  ... launch_year movie_title\n",
              "5           6  Heat (1995)  ...        1995        Heat\n",
              "32         34  Babe (1995)  ...        1995        Babe\n",
              "112       132  Jade (1995)  ...        1995        Jade\n",
              "147       175  Kids (1995)  ...        1995        Kids\n",
              "161       190  Safe (1995)  ...        1995        Safe\n",
              "...       ...          ...  ...         ...         ...\n",
              "9584   175303    It (2017)  ...        2017          It\n",
              "9621   177765  Coco (2017)  ...        2017        Coco\n",
              "9642   179813   LBJ (2017)  ...        2017         LBJ\n",
              "9716   188797   Tag (2018)  ...        2018         Tag\n",
              "9725   190207  Tilt (2011)  ...        2011        Tilt\n",
              "\n",
              "[219 rows x 6 columns]"
            ]
          },
          "metadata": {
            "tags": []
          },
          "execution_count": 140
        }
      ]
    }
  ]
}