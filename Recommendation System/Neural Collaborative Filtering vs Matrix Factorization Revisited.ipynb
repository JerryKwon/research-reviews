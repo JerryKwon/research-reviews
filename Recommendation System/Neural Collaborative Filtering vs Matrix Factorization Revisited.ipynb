{
 "cells": [
  {
   "cell_type": "markdown",
   "metadata": {},
   "source": [
    "# Neural Collaborative Filtering vs Matrix Factorization Revisited\n",
    "\n",
    "\n",
    "https://arxiv.org/pdf/2005.09683.pdf\n",
    "\n",
    "추천시스템의 방법론 중에 Neural Net을 활용한 Neural Collaborative Filtering(NeuMF)가 전통적인 Matrix Factorization(MF)를 대체 방안이 될 수 있는지를 다양한 선례로 알아보는 Article\n",
    "\n",
    "## Abstract\n",
    "전통적으로 dot product나 비슷한 수준을 상위로 정렬하는 방식은 추천시스템에 많이 채용되었다. 그러나 최근에는 이러한 유사성을 Neural Net으로 학습하는 Neural Collaborative Filitering 방식이 등장하고 있다. 해당 Article에서는 NeuMF를 위한 적절한 파라미터, dot product를 학습하기 위한 MLP의 추정함수 그리고 MLP 기반 알고리즘들이 너무 고비용적이고 왜 dot product 기반의 알고리즘을 사용해야 하는지 알아보자. 마지막으로 제목의 질문이 DNN을 기반으로 하는 NeuMF가 더 좋다라는 답변을 내포하지 않는 이유를 살펴본다.\n",
    "\n",
    "## Prequisite\n",
    "Neural Collaborative Filtering \n",
    "\n",
    "https://arxiv.org/pdf/1708.05031.pdf\n",
    "\n",
    "## Definitions\n",
    "$X: Matrix; x: vectors; x: scalar$<br/>\n",
    "$[x,z]: x와 z벡터의 concatenation$<br/>\n",
    "$\\phi: R^d \\times R^d\\rightarrow R: 두개의 n차원 임베딩 벡터의 결합\\ p\\in R^d and\\ q \\in R^d$<br/>\n",
    "p는 user embedding, q는 item embedding<br/>\n",
    "$\\phi(p,q): user와\\ item의\\ 유사도$\n",
    "\n",
    "<div align=\"center\">\n",
    "<img src=\"imgs/NeuMF_vs_MF_simliarity.jpg\" />\n",
    "</div>\n",
    "\n",
    "### Dot Product\n",
    "\n",
    "$\\phi^dot(p,q):=<p,q>=p^Tq=\\overset{n}{\\underset{f=1}{\\sum}}p_fq_f$\n",
    "\n",
    "### Learned Similarity\n",
    "\n",
    "* $f_{w,b}(x) = \\sigma(Wx+b), \\sigma(z)=[\\sigma(z_1),...,\\sigma(z_{out})]$<br/>\n",
    "$f:R^{d_{in}}\\rightarrow R^{d_{out}};\\ W\\in R^{in\\times out};\\ b\\in R^{out}; \\sigma: R\\rightarrow R$<br/>\n",
    "* $\\phi^{MLP}(p,q):=f_{W_l,b_l}(...f_{W_1,b_1}([p,q])...)$<br/>\n",
    "* $\\phi^{NeuMF}(p,q):=\\phi^{MLP}(p_{[1,...,j],q_{[i...j]}}) + \\phi^{GMF}(p_{[1,...,j],q_{[i...j]}})$<br/>\n",
    "* $\\phi^{GMF}(p,q):=\\sigma(w_T(p\\odot{q}))=\\sigma(<w\\odot{p,q}>)=\\sigma(\\overset{d}{\\underset{f=1}{\\sum}}w_fp_fq_f)$\n"
   ]
  },
  {
   "cell_type": "code",
   "execution_count": null,
   "metadata": {},
   "outputs": [],
   "source": []
  }
 ],
 "metadata": {
  "kernelspec": {
   "display_name": "Python 3",
   "language": "python",
   "name": "python3"
  },
  "language_info": {
   "codemirror_mode": {
    "name": "ipython",
    "version": 3
   },
   "file_extension": ".py",
   "mimetype": "text/x-python",
   "name": "python",
   "nbconvert_exporter": "python",
   "pygments_lexer": "ipython3",
   "version": "3.7.0"
  }
 },
 "nbformat": 4,
 "nbformat_minor": 2
}
