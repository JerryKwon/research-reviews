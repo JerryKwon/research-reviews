{
  "nbformat": 4,
  "nbformat_minor": 0,
  "metadata": {
    "colab": {
      "name": "rankfm_tutorial.ipynb",
      "provenance": [],
      "collapsed_sections": [],
      "machine_shape": "hm"
    },
    "kernelspec": {
      "name": "python3",
      "display_name": "Python 3"
    },
    "widgets": {
      "application/vnd.jupyter.widget-state+json": {
        "85e4970622e44fbcbc564a71ec7d03a2": {
          "model_module": "@jupyter-widgets/controls",
          "model_name": "HBoxModel",
          "state": {
            "_view_name": "HBoxView",
            "_dom_classes": [],
            "_model_name": "HBoxModel",
            "_view_module": "@jupyter-widgets/controls",
            "_model_module_version": "1.5.0",
            "_view_count": null,
            "_view_module_version": "1.5.0",
            "box_style": "",
            "layout": "IPY_MODEL_0477591e20e74469bb1b38020cb446ad",
            "_model_module": "@jupyter-widgets/controls",
            "children": [
              "IPY_MODEL_759582e14f2746f2b6024aa4db876264",
              "IPY_MODEL_0a83f6cd753e469ab31477653c497a54"
            ]
          }
        },
        "0477591e20e74469bb1b38020cb446ad": {
          "model_module": "@jupyter-widgets/base",
          "model_name": "LayoutModel",
          "state": {
            "_view_name": "LayoutView",
            "grid_template_rows": null,
            "right": null,
            "justify_content": null,
            "_view_module": "@jupyter-widgets/base",
            "overflow": null,
            "_model_module_version": "1.2.0",
            "_view_count": null,
            "flex_flow": null,
            "width": null,
            "min_width": null,
            "border": null,
            "align_items": null,
            "bottom": null,
            "_model_module": "@jupyter-widgets/base",
            "top": null,
            "grid_column": null,
            "overflow_y": null,
            "overflow_x": null,
            "grid_auto_flow": null,
            "grid_area": null,
            "grid_template_columns": null,
            "flex": null,
            "_model_name": "LayoutModel",
            "justify_items": null,
            "grid_row": null,
            "max_height": null,
            "align_content": null,
            "visibility": null,
            "align_self": null,
            "height": null,
            "min_height": null,
            "padding": null,
            "grid_auto_rows": null,
            "grid_gap": null,
            "max_width": null,
            "order": null,
            "_view_module_version": "1.2.0",
            "grid_template_areas": null,
            "object_position": null,
            "object_fit": null,
            "grid_auto_columns": null,
            "margin": null,
            "display": null,
            "left": null
          }
        },
        "759582e14f2746f2b6024aa4db876264": {
          "model_module": "@jupyter-widgets/controls",
          "model_name": "FloatProgressModel",
          "state": {
            "_view_name": "ProgressView",
            "style": "IPY_MODEL_870ff79703d94316ad939f3f008cde33",
            "_dom_classes": [],
            "description": "",
            "_model_name": "FloatProgressModel",
            "bar_style": "success",
            "max": 1,
            "_view_module": "@jupyter-widgets/controls",
            "_model_module_version": "1.5.0",
            "value": 1,
            "_view_count": null,
            "_view_module_version": "1.5.0",
            "orientation": "horizontal",
            "min": 0,
            "description_tooltip": null,
            "_model_module": "@jupyter-widgets/controls",
            "layout": "IPY_MODEL_5d60a078b1ff4d22aa938dad6ead47aa"
          }
        },
        "0a83f6cd753e469ab31477653c497a54": {
          "model_module": "@jupyter-widgets/controls",
          "model_name": "HTMLModel",
          "state": {
            "_view_name": "HTMLView",
            "style": "IPY_MODEL_5ae0245e09a1493da1fcbf245bf6193a",
            "_dom_classes": [],
            "description": "",
            "_model_name": "HTMLModel",
            "placeholder": "​",
            "_view_module": "@jupyter-widgets/controls",
            "_model_module_version": "1.5.0",
            "value": " 100836/? [00:18&lt;00:00, 5567.76it/s]",
            "_view_count": null,
            "_view_module_version": "1.5.0",
            "description_tooltip": null,
            "_model_module": "@jupyter-widgets/controls",
            "layout": "IPY_MODEL_101ff2fd8fb446dc9bf56c198f64795e"
          }
        },
        "870ff79703d94316ad939f3f008cde33": {
          "model_module": "@jupyter-widgets/controls",
          "model_name": "ProgressStyleModel",
          "state": {
            "_view_name": "StyleView",
            "_model_name": "ProgressStyleModel",
            "description_width": "initial",
            "_view_module": "@jupyter-widgets/base",
            "_model_module_version": "1.5.0",
            "_view_count": null,
            "_view_module_version": "1.2.0",
            "bar_color": null,
            "_model_module": "@jupyter-widgets/controls"
          }
        },
        "5d60a078b1ff4d22aa938dad6ead47aa": {
          "model_module": "@jupyter-widgets/base",
          "model_name": "LayoutModel",
          "state": {
            "_view_name": "LayoutView",
            "grid_template_rows": null,
            "right": null,
            "justify_content": null,
            "_view_module": "@jupyter-widgets/base",
            "overflow": null,
            "_model_module_version": "1.2.0",
            "_view_count": null,
            "flex_flow": null,
            "width": null,
            "min_width": null,
            "border": null,
            "align_items": null,
            "bottom": null,
            "_model_module": "@jupyter-widgets/base",
            "top": null,
            "grid_column": null,
            "overflow_y": null,
            "overflow_x": null,
            "grid_auto_flow": null,
            "grid_area": null,
            "grid_template_columns": null,
            "flex": null,
            "_model_name": "LayoutModel",
            "justify_items": null,
            "grid_row": null,
            "max_height": null,
            "align_content": null,
            "visibility": null,
            "align_self": null,
            "height": null,
            "min_height": null,
            "padding": null,
            "grid_auto_rows": null,
            "grid_gap": null,
            "max_width": null,
            "order": null,
            "_view_module_version": "1.2.0",
            "grid_template_areas": null,
            "object_position": null,
            "object_fit": null,
            "grid_auto_columns": null,
            "margin": null,
            "display": null,
            "left": null
          }
        },
        "5ae0245e09a1493da1fcbf245bf6193a": {
          "model_module": "@jupyter-widgets/controls",
          "model_name": "DescriptionStyleModel",
          "state": {
            "_view_name": "StyleView",
            "_model_name": "DescriptionStyleModel",
            "description_width": "",
            "_view_module": "@jupyter-widgets/base",
            "_model_module_version": "1.5.0",
            "_view_count": null,
            "_view_module_version": "1.2.0",
            "_model_module": "@jupyter-widgets/controls"
          }
        },
        "101ff2fd8fb446dc9bf56c198f64795e": {
          "model_module": "@jupyter-widgets/base",
          "model_name": "LayoutModel",
          "state": {
            "_view_name": "LayoutView",
            "grid_template_rows": null,
            "right": null,
            "justify_content": null,
            "_view_module": "@jupyter-widgets/base",
            "overflow": null,
            "_model_module_version": "1.2.0",
            "_view_count": null,
            "flex_flow": null,
            "width": null,
            "min_width": null,
            "border": null,
            "align_items": null,
            "bottom": null,
            "_model_module": "@jupyter-widgets/base",
            "top": null,
            "grid_column": null,
            "overflow_y": null,
            "overflow_x": null,
            "grid_auto_flow": null,
            "grid_area": null,
            "grid_template_columns": null,
            "flex": null,
            "_model_name": "LayoutModel",
            "justify_items": null,
            "grid_row": null,
            "max_height": null,
            "align_content": null,
            "visibility": null,
            "align_self": null,
            "height": null,
            "min_height": null,
            "padding": null,
            "grid_auto_rows": null,
            "grid_gap": null,
            "max_width": null,
            "order": null,
            "_view_module_version": "1.2.0",
            "grid_template_areas": null,
            "object_position": null,
            "object_fit": null,
            "grid_auto_columns": null,
            "margin": null,
            "display": null,
            "left": null
          }
        },
        "72418c9038ac4534a9f8561ce8472208": {
          "model_module": "@jupyter-widgets/controls",
          "model_name": "HBoxModel",
          "state": {
            "_view_name": "HBoxView",
            "_dom_classes": [],
            "_model_name": "HBoxModel",
            "_view_module": "@jupyter-widgets/controls",
            "_model_module_version": "1.5.0",
            "_view_count": null,
            "_view_module_version": "1.5.0",
            "box_style": "",
            "layout": "IPY_MODEL_99d39497335f41d58b495595d04c2fe6",
            "_model_module": "@jupyter-widgets/controls",
            "children": [
              "IPY_MODEL_7a0576386ab749738b610aa2b0af098a",
              "IPY_MODEL_d537cfff29904bffa716228a2a422699"
            ]
          }
        },
        "99d39497335f41d58b495595d04c2fe6": {
          "model_module": "@jupyter-widgets/base",
          "model_name": "LayoutModel",
          "state": {
            "_view_name": "LayoutView",
            "grid_template_rows": null,
            "right": null,
            "justify_content": null,
            "_view_module": "@jupyter-widgets/base",
            "overflow": null,
            "_model_module_version": "1.2.0",
            "_view_count": null,
            "flex_flow": null,
            "width": null,
            "min_width": null,
            "border": null,
            "align_items": null,
            "bottom": null,
            "_model_module": "@jupyter-widgets/base",
            "top": null,
            "grid_column": null,
            "overflow_y": null,
            "overflow_x": null,
            "grid_auto_flow": null,
            "grid_area": null,
            "grid_template_columns": null,
            "flex": null,
            "_model_name": "LayoutModel",
            "justify_items": null,
            "grid_row": null,
            "max_height": null,
            "align_content": null,
            "visibility": null,
            "align_self": null,
            "height": null,
            "min_height": null,
            "padding": null,
            "grid_auto_rows": null,
            "grid_gap": null,
            "max_width": null,
            "order": null,
            "_view_module_version": "1.2.0",
            "grid_template_areas": null,
            "object_position": null,
            "object_fit": null,
            "grid_auto_columns": null,
            "margin": null,
            "display": null,
            "left": null
          }
        },
        "7a0576386ab749738b610aa2b0af098a": {
          "model_module": "@jupyter-widgets/controls",
          "model_name": "FloatProgressModel",
          "state": {
            "_view_name": "ProgressView",
            "style": "IPY_MODEL_e643d35e2846434a89b94cf8af4a6501",
            "_dom_classes": [],
            "description": "100%",
            "_model_name": "FloatProgressModel",
            "bar_style": "success",
            "max": 9742,
            "_view_module": "@jupyter-widgets/controls",
            "_model_module_version": "1.5.0",
            "value": 9742,
            "_view_count": null,
            "_view_module_version": "1.5.0",
            "orientation": "horizontal",
            "min": 0,
            "description_tooltip": null,
            "_model_module": "@jupyter-widgets/controls",
            "layout": "IPY_MODEL_65958eb801a24d62b81301c8d2fda67c"
          }
        },
        "d537cfff29904bffa716228a2a422699": {
          "model_module": "@jupyter-widgets/controls",
          "model_name": "HTMLModel",
          "state": {
            "_view_name": "HTMLView",
            "style": "IPY_MODEL_73244d1a6b82475ea0aa53c32f7ebeba",
            "_dom_classes": [],
            "description": "",
            "_model_name": "HTMLModel",
            "placeholder": "​",
            "_view_module": "@jupyter-widgets/controls",
            "_model_module_version": "1.5.0",
            "value": " 9742/9742 [00:09&lt;00:00, 1012.64it/s]",
            "_view_count": null,
            "_view_module_version": "1.5.0",
            "description_tooltip": null,
            "_model_module": "@jupyter-widgets/controls",
            "layout": "IPY_MODEL_10293aa8b95641da9df938b3d3da097a"
          }
        },
        "e643d35e2846434a89b94cf8af4a6501": {
          "model_module": "@jupyter-widgets/controls",
          "model_name": "ProgressStyleModel",
          "state": {
            "_view_name": "StyleView",
            "_model_name": "ProgressStyleModel",
            "description_width": "initial",
            "_view_module": "@jupyter-widgets/base",
            "_model_module_version": "1.5.0",
            "_view_count": null,
            "_view_module_version": "1.2.0",
            "bar_color": null,
            "_model_module": "@jupyter-widgets/controls"
          }
        },
        "65958eb801a24d62b81301c8d2fda67c": {
          "model_module": "@jupyter-widgets/base",
          "model_name": "LayoutModel",
          "state": {
            "_view_name": "LayoutView",
            "grid_template_rows": null,
            "right": null,
            "justify_content": null,
            "_view_module": "@jupyter-widgets/base",
            "overflow": null,
            "_model_module_version": "1.2.0",
            "_view_count": null,
            "flex_flow": null,
            "width": null,
            "min_width": null,
            "border": null,
            "align_items": null,
            "bottom": null,
            "_model_module": "@jupyter-widgets/base",
            "top": null,
            "grid_column": null,
            "overflow_y": null,
            "overflow_x": null,
            "grid_auto_flow": null,
            "grid_area": null,
            "grid_template_columns": null,
            "flex": null,
            "_model_name": "LayoutModel",
            "justify_items": null,
            "grid_row": null,
            "max_height": null,
            "align_content": null,
            "visibility": null,
            "align_self": null,
            "height": null,
            "min_height": null,
            "padding": null,
            "grid_auto_rows": null,
            "grid_gap": null,
            "max_width": null,
            "order": null,
            "_view_module_version": "1.2.0",
            "grid_template_areas": null,
            "object_position": null,
            "object_fit": null,
            "grid_auto_columns": null,
            "margin": null,
            "display": null,
            "left": null
          }
        },
        "73244d1a6b82475ea0aa53c32f7ebeba": {
          "model_module": "@jupyter-widgets/controls",
          "model_name": "DescriptionStyleModel",
          "state": {
            "_view_name": "StyleView",
            "_model_name": "DescriptionStyleModel",
            "description_width": "",
            "_view_module": "@jupyter-widgets/base",
            "_model_module_version": "1.5.0",
            "_view_count": null,
            "_view_module_version": "1.2.0",
            "_model_module": "@jupyter-widgets/controls"
          }
        },
        "10293aa8b95641da9df938b3d3da097a": {
          "model_module": "@jupyter-widgets/base",
          "model_name": "LayoutModel",
          "state": {
            "_view_name": "LayoutView",
            "grid_template_rows": null,
            "right": null,
            "justify_content": null,
            "_view_module": "@jupyter-widgets/base",
            "overflow": null,
            "_model_module_version": "1.2.0",
            "_view_count": null,
            "flex_flow": null,
            "width": null,
            "min_width": null,
            "border": null,
            "align_items": null,
            "bottom": null,
            "_model_module": "@jupyter-widgets/base",
            "top": null,
            "grid_column": null,
            "overflow_y": null,
            "overflow_x": null,
            "grid_auto_flow": null,
            "grid_area": null,
            "grid_template_columns": null,
            "flex": null,
            "_model_name": "LayoutModel",
            "justify_items": null,
            "grid_row": null,
            "max_height": null,
            "align_content": null,
            "visibility": null,
            "align_self": null,
            "height": null,
            "min_height": null,
            "padding": null,
            "grid_auto_rows": null,
            "grid_gap": null,
            "max_width": null,
            "order": null,
            "_view_module_version": "1.2.0",
            "grid_template_areas": null,
            "object_position": null,
            "object_fit": null,
            "grid_auto_columns": null,
            "margin": null,
            "display": null,
            "left": null
          }
        },
        "5b54ea7b2e3d4447b8334a3a4ecafd0c": {
          "model_module": "@jupyter-widgets/controls",
          "model_name": "HBoxModel",
          "state": {
            "_view_name": "HBoxView",
            "_dom_classes": [],
            "_model_name": "HBoxModel",
            "_view_module": "@jupyter-widgets/controls",
            "_model_module_version": "1.5.0",
            "_view_count": null,
            "_view_module_version": "1.5.0",
            "box_style": "",
            "layout": "IPY_MODEL_403a28775c2245f1885e462b6c054cde",
            "_model_module": "@jupyter-widgets/controls",
            "children": [
              "IPY_MODEL_0320878323284a69b009aa26d58a270d",
              "IPY_MODEL_e70c84cdcf19401698824e45047c606c"
            ]
          }
        },
        "403a28775c2245f1885e462b6c054cde": {
          "model_module": "@jupyter-widgets/base",
          "model_name": "LayoutModel",
          "state": {
            "_view_name": "LayoutView",
            "grid_template_rows": null,
            "right": null,
            "justify_content": null,
            "_view_module": "@jupyter-widgets/base",
            "overflow": null,
            "_model_module_version": "1.2.0",
            "_view_count": null,
            "flex_flow": null,
            "width": null,
            "min_width": null,
            "border": null,
            "align_items": null,
            "bottom": null,
            "_model_module": "@jupyter-widgets/base",
            "top": null,
            "grid_column": null,
            "overflow_y": null,
            "overflow_x": null,
            "grid_auto_flow": null,
            "grid_area": null,
            "grid_template_columns": null,
            "flex": null,
            "_model_name": "LayoutModel",
            "justify_items": null,
            "grid_row": null,
            "max_height": null,
            "align_content": null,
            "visibility": null,
            "align_self": null,
            "height": null,
            "min_height": null,
            "padding": null,
            "grid_auto_rows": null,
            "grid_gap": null,
            "max_width": null,
            "order": null,
            "_view_module_version": "1.2.0",
            "grid_template_areas": null,
            "object_position": null,
            "object_fit": null,
            "grid_auto_columns": null,
            "margin": null,
            "display": null,
            "left": null
          }
        },
        "0320878323284a69b009aa26d58a270d": {
          "model_module": "@jupyter-widgets/controls",
          "model_name": "FloatProgressModel",
          "state": {
            "_view_name": "ProgressView",
            "style": "IPY_MODEL_a2292071be1443fb9bb689f436b0b32d",
            "_dom_classes": [],
            "description": "100%",
            "_model_name": "FloatProgressModel",
            "bar_style": "success",
            "max": 9742,
            "_view_module": "@jupyter-widgets/controls",
            "_model_module_version": "1.5.0",
            "value": 9742,
            "_view_count": null,
            "_view_module_version": "1.5.0",
            "orientation": "horizontal",
            "min": 0,
            "description_tooltip": null,
            "_model_module": "@jupyter-widgets/controls",
            "layout": "IPY_MODEL_356e8068f387411791f1d7f3a13fe034"
          }
        },
        "e70c84cdcf19401698824e45047c606c": {
          "model_module": "@jupyter-widgets/controls",
          "model_name": "HTMLModel",
          "state": {
            "_view_name": "HTMLView",
            "style": "IPY_MODEL_7f09a10cfc324017bf99eff4b5a465aa",
            "_dom_classes": [],
            "description": "",
            "_model_name": "HTMLModel",
            "placeholder": "​",
            "_view_module": "@jupyter-widgets/controls",
            "_model_module_version": "1.5.0",
            "value": " 9742/9742 [00:03&lt;00:00, 2459.80it/s]",
            "_view_count": null,
            "_view_module_version": "1.5.0",
            "description_tooltip": null,
            "_model_module": "@jupyter-widgets/controls",
            "layout": "IPY_MODEL_ae89e60295e94cdfb59c11ca38195d64"
          }
        },
        "a2292071be1443fb9bb689f436b0b32d": {
          "model_module": "@jupyter-widgets/controls",
          "model_name": "ProgressStyleModel",
          "state": {
            "_view_name": "StyleView",
            "_model_name": "ProgressStyleModel",
            "description_width": "initial",
            "_view_module": "@jupyter-widgets/base",
            "_model_module_version": "1.5.0",
            "_view_count": null,
            "_view_module_version": "1.2.0",
            "bar_color": null,
            "_model_module": "@jupyter-widgets/controls"
          }
        },
        "356e8068f387411791f1d7f3a13fe034": {
          "model_module": "@jupyter-widgets/base",
          "model_name": "LayoutModel",
          "state": {
            "_view_name": "LayoutView",
            "grid_template_rows": null,
            "right": null,
            "justify_content": null,
            "_view_module": "@jupyter-widgets/base",
            "overflow": null,
            "_model_module_version": "1.2.0",
            "_view_count": null,
            "flex_flow": null,
            "width": null,
            "min_width": null,
            "border": null,
            "align_items": null,
            "bottom": null,
            "_model_module": "@jupyter-widgets/base",
            "top": null,
            "grid_column": null,
            "overflow_y": null,
            "overflow_x": null,
            "grid_auto_flow": null,
            "grid_area": null,
            "grid_template_columns": null,
            "flex": null,
            "_model_name": "LayoutModel",
            "justify_items": null,
            "grid_row": null,
            "max_height": null,
            "align_content": null,
            "visibility": null,
            "align_self": null,
            "height": null,
            "min_height": null,
            "padding": null,
            "grid_auto_rows": null,
            "grid_gap": null,
            "max_width": null,
            "order": null,
            "_view_module_version": "1.2.0",
            "grid_template_areas": null,
            "object_position": null,
            "object_fit": null,
            "grid_auto_columns": null,
            "margin": null,
            "display": null,
            "left": null
          }
        },
        "7f09a10cfc324017bf99eff4b5a465aa": {
          "model_module": "@jupyter-widgets/controls",
          "model_name": "DescriptionStyleModel",
          "state": {
            "_view_name": "StyleView",
            "_model_name": "DescriptionStyleModel",
            "description_width": "",
            "_view_module": "@jupyter-widgets/base",
            "_model_module_version": "1.5.0",
            "_view_count": null,
            "_view_module_version": "1.2.0",
            "_model_module": "@jupyter-widgets/controls"
          }
        },
        "ae89e60295e94cdfb59c11ca38195d64": {
          "model_module": "@jupyter-widgets/base",
          "model_name": "LayoutModel",
          "state": {
            "_view_name": "LayoutView",
            "grid_template_rows": null,
            "right": null,
            "justify_content": null,
            "_view_module": "@jupyter-widgets/base",
            "overflow": null,
            "_model_module_version": "1.2.0",
            "_view_count": null,
            "flex_flow": null,
            "width": null,
            "min_width": null,
            "border": null,
            "align_items": null,
            "bottom": null,
            "_model_module": "@jupyter-widgets/base",
            "top": null,
            "grid_column": null,
            "overflow_y": null,
            "overflow_x": null,
            "grid_auto_flow": null,
            "grid_area": null,
            "grid_template_columns": null,
            "flex": null,
            "_model_name": "LayoutModel",
            "justify_items": null,
            "grid_row": null,
            "max_height": null,
            "align_content": null,
            "visibility": null,
            "align_self": null,
            "height": null,
            "min_height": null,
            "padding": null,
            "grid_auto_rows": null,
            "grid_gap": null,
            "max_width": null,
            "order": null,
            "_view_module_version": "1.2.0",
            "grid_template_areas": null,
            "object_position": null,
            "object_fit": null,
            "grid_auto_columns": null,
            "margin": null,
            "display": null,
            "left": null
          }
        },
        "b1f1417296bf4facb0258506f2dd5837": {
          "model_module": "@jupyter-widgets/controls",
          "model_name": "HBoxModel",
          "state": {
            "_view_name": "HBoxView",
            "_dom_classes": [],
            "_model_name": "HBoxModel",
            "_view_module": "@jupyter-widgets/controls",
            "_model_module_version": "1.5.0",
            "_view_count": null,
            "_view_module_version": "1.5.0",
            "box_style": "",
            "layout": "IPY_MODEL_6cb5f51dee43418f9008a47de03e2ab3",
            "_model_module": "@jupyter-widgets/controls",
            "children": [
              "IPY_MODEL_1b05daca15dc4628b27bff07571c2b90",
              "IPY_MODEL_c86adc6fbde644a8a9a162b474f98686"
            ]
          }
        },
        "6cb5f51dee43418f9008a47de03e2ab3": {
          "model_module": "@jupyter-widgets/base",
          "model_name": "LayoutModel",
          "state": {
            "_view_name": "LayoutView",
            "grid_template_rows": null,
            "right": null,
            "justify_content": null,
            "_view_module": "@jupyter-widgets/base",
            "overflow": null,
            "_model_module_version": "1.2.0",
            "_view_count": null,
            "flex_flow": null,
            "width": null,
            "min_width": null,
            "border": null,
            "align_items": null,
            "bottom": null,
            "_model_module": "@jupyter-widgets/base",
            "top": null,
            "grid_column": null,
            "overflow_y": null,
            "overflow_x": null,
            "grid_auto_flow": null,
            "grid_area": null,
            "grid_template_columns": null,
            "flex": null,
            "_model_name": "LayoutModel",
            "justify_items": null,
            "grid_row": null,
            "max_height": null,
            "align_content": null,
            "visibility": null,
            "align_self": null,
            "height": null,
            "min_height": null,
            "padding": null,
            "grid_auto_rows": null,
            "grid_gap": null,
            "max_width": null,
            "order": null,
            "_view_module_version": "1.2.0",
            "grid_template_areas": null,
            "object_position": null,
            "object_fit": null,
            "grid_auto_columns": null,
            "margin": null,
            "display": null,
            "left": null
          }
        },
        "1b05daca15dc4628b27bff07571c2b90": {
          "model_module": "@jupyter-widgets/controls",
          "model_name": "FloatProgressModel",
          "state": {
            "_view_name": "ProgressView",
            "style": "IPY_MODEL_d5733a40823144a8999992d66018d5f1",
            "_dom_classes": [],
            "description": "100%",
            "_model_name": "FloatProgressModel",
            "bar_style": "success",
            "max": 100836,
            "_view_module": "@jupyter-widgets/controls",
            "_model_module_version": "1.5.0",
            "value": 100836,
            "_view_count": null,
            "_view_module_version": "1.5.0",
            "orientation": "horizontal",
            "min": 0,
            "description_tooltip": null,
            "_model_module": "@jupyter-widgets/controls",
            "layout": "IPY_MODEL_ba4564a23cf548cdb3e459e35c5f8f48"
          }
        },
        "c86adc6fbde644a8a9a162b474f98686": {
          "model_module": "@jupyter-widgets/controls",
          "model_name": "HTMLModel",
          "state": {
            "_view_name": "HTMLView",
            "style": "IPY_MODEL_169e0cf0e1594d4790cd52a425b7512d",
            "_dom_classes": [],
            "description": "",
            "_model_name": "HTMLModel",
            "placeholder": "​",
            "_view_module": "@jupyter-widgets/controls",
            "_model_module_version": "1.5.0",
            "value": " 100836/100836 [00:00&lt;00:00, 113134.66it/s]",
            "_view_count": null,
            "_view_module_version": "1.5.0",
            "description_tooltip": null,
            "_model_module": "@jupyter-widgets/controls",
            "layout": "IPY_MODEL_c85f1e09b55843e78d296a7ba2f5f809"
          }
        },
        "d5733a40823144a8999992d66018d5f1": {
          "model_module": "@jupyter-widgets/controls",
          "model_name": "ProgressStyleModel",
          "state": {
            "_view_name": "StyleView",
            "_model_name": "ProgressStyleModel",
            "description_width": "initial",
            "_view_module": "@jupyter-widgets/base",
            "_model_module_version": "1.5.0",
            "_view_count": null,
            "_view_module_version": "1.2.0",
            "bar_color": null,
            "_model_module": "@jupyter-widgets/controls"
          }
        },
        "ba4564a23cf548cdb3e459e35c5f8f48": {
          "model_module": "@jupyter-widgets/base",
          "model_name": "LayoutModel",
          "state": {
            "_view_name": "LayoutView",
            "grid_template_rows": null,
            "right": null,
            "justify_content": null,
            "_view_module": "@jupyter-widgets/base",
            "overflow": null,
            "_model_module_version": "1.2.0",
            "_view_count": null,
            "flex_flow": null,
            "width": null,
            "min_width": null,
            "border": null,
            "align_items": null,
            "bottom": null,
            "_model_module": "@jupyter-widgets/base",
            "top": null,
            "grid_column": null,
            "overflow_y": null,
            "overflow_x": null,
            "grid_auto_flow": null,
            "grid_area": null,
            "grid_template_columns": null,
            "flex": null,
            "_model_name": "LayoutModel",
            "justify_items": null,
            "grid_row": null,
            "max_height": null,
            "align_content": null,
            "visibility": null,
            "align_self": null,
            "height": null,
            "min_height": null,
            "padding": null,
            "grid_auto_rows": null,
            "grid_gap": null,
            "max_width": null,
            "order": null,
            "_view_module_version": "1.2.0",
            "grid_template_areas": null,
            "object_position": null,
            "object_fit": null,
            "grid_auto_columns": null,
            "margin": null,
            "display": null,
            "left": null
          }
        },
        "169e0cf0e1594d4790cd52a425b7512d": {
          "model_module": "@jupyter-widgets/controls",
          "model_name": "DescriptionStyleModel",
          "state": {
            "_view_name": "StyleView",
            "_model_name": "DescriptionStyleModel",
            "description_width": "",
            "_view_module": "@jupyter-widgets/base",
            "_model_module_version": "1.5.0",
            "_view_count": null,
            "_view_module_version": "1.2.0",
            "_model_module": "@jupyter-widgets/controls"
          }
        },
        "c85f1e09b55843e78d296a7ba2f5f809": {
          "model_module": "@jupyter-widgets/base",
          "model_name": "LayoutModel",
          "state": {
            "_view_name": "LayoutView",
            "grid_template_rows": null,
            "right": null,
            "justify_content": null,
            "_view_module": "@jupyter-widgets/base",
            "overflow": null,
            "_model_module_version": "1.2.0",
            "_view_count": null,
            "flex_flow": null,
            "width": null,
            "min_width": null,
            "border": null,
            "align_items": null,
            "bottom": null,
            "_model_module": "@jupyter-widgets/base",
            "top": null,
            "grid_column": null,
            "overflow_y": null,
            "overflow_x": null,
            "grid_auto_flow": null,
            "grid_area": null,
            "grid_template_columns": null,
            "flex": null,
            "_model_name": "LayoutModel",
            "justify_items": null,
            "grid_row": null,
            "max_height": null,
            "align_content": null,
            "visibility": null,
            "align_self": null,
            "height": null,
            "min_height": null,
            "padding": null,
            "grid_auto_rows": null,
            "grid_gap": null,
            "max_width": null,
            "order": null,
            "_view_module_version": "1.2.0",
            "grid_template_areas": null,
            "object_position": null,
            "object_fit": null,
            "grid_auto_columns": null,
            "margin": null,
            "display": null,
            "left": null
          }
        },
        "a96cc74c8bc14075858030d2feb07487": {
          "model_module": "@jupyter-widgets/controls",
          "model_name": "HBoxModel",
          "state": {
            "_view_name": "HBoxView",
            "_dom_classes": [],
            "_model_name": "HBoxModel",
            "_view_module": "@jupyter-widgets/controls",
            "_model_module_version": "1.5.0",
            "_view_count": null,
            "_view_module_version": "1.5.0",
            "box_style": "",
            "layout": "IPY_MODEL_5ed906beca2045d9a10c362a17657ad9",
            "_model_module": "@jupyter-widgets/controls",
            "children": [
              "IPY_MODEL_da53df61dbef423294d8e646be7634c9",
              "IPY_MODEL_24763c38dda74fe3918b8e619e602d74"
            ]
          }
        },
        "5ed906beca2045d9a10c362a17657ad9": {
          "model_module": "@jupyter-widgets/base",
          "model_name": "LayoutModel",
          "state": {
            "_view_name": "LayoutView",
            "grid_template_rows": null,
            "right": null,
            "justify_content": null,
            "_view_module": "@jupyter-widgets/base",
            "overflow": null,
            "_model_module_version": "1.2.0",
            "_view_count": null,
            "flex_flow": null,
            "width": null,
            "min_width": null,
            "border": null,
            "align_items": null,
            "bottom": null,
            "_model_module": "@jupyter-widgets/base",
            "top": null,
            "grid_column": null,
            "overflow_y": null,
            "overflow_x": null,
            "grid_auto_flow": null,
            "grid_area": null,
            "grid_template_columns": null,
            "flex": null,
            "_model_name": "LayoutModel",
            "justify_items": null,
            "grid_row": null,
            "max_height": null,
            "align_content": null,
            "visibility": null,
            "align_self": null,
            "height": null,
            "min_height": null,
            "padding": null,
            "grid_auto_rows": null,
            "grid_gap": null,
            "max_width": null,
            "order": null,
            "_view_module_version": "1.2.0",
            "grid_template_areas": null,
            "object_position": null,
            "object_fit": null,
            "grid_auto_columns": null,
            "margin": null,
            "display": null,
            "left": null
          }
        },
        "da53df61dbef423294d8e646be7634c9": {
          "model_module": "@jupyter-widgets/controls",
          "model_name": "FloatProgressModel",
          "state": {
            "_view_name": "ProgressView",
            "style": "IPY_MODEL_d3d3150fa04b498ba5f744452dde0977",
            "_dom_classes": [],
            "description": "100%",
            "_model_name": "FloatProgressModel",
            "bar_style": "success",
            "max": 100836,
            "_view_module": "@jupyter-widgets/controls",
            "_model_module_version": "1.5.0",
            "value": 100836,
            "_view_count": null,
            "_view_module_version": "1.5.0",
            "orientation": "horizontal",
            "min": 0,
            "description_tooltip": null,
            "_model_module": "@jupyter-widgets/controls",
            "layout": "IPY_MODEL_9778410b0bdb4674be5f5862ff4d50e9"
          }
        },
        "24763c38dda74fe3918b8e619e602d74": {
          "model_module": "@jupyter-widgets/controls",
          "model_name": "HTMLModel",
          "state": {
            "_view_name": "HTMLView",
            "style": "IPY_MODEL_75a06f9947424086bf8afbb10dcb05a6",
            "_dom_classes": [],
            "description": "",
            "_model_name": "HTMLModel",
            "placeholder": "​",
            "_view_module": "@jupyter-widgets/controls",
            "_model_module_version": "1.5.0",
            "value": " 100836/100836 [00:01&lt;00:00, 56455.89it/s]",
            "_view_count": null,
            "_view_module_version": "1.5.0",
            "description_tooltip": null,
            "_model_module": "@jupyter-widgets/controls",
            "layout": "IPY_MODEL_ab26a7ffea2c4bcfa8ca4fa1a82da6db"
          }
        },
        "d3d3150fa04b498ba5f744452dde0977": {
          "model_module": "@jupyter-widgets/controls",
          "model_name": "ProgressStyleModel",
          "state": {
            "_view_name": "StyleView",
            "_model_name": "ProgressStyleModel",
            "description_width": "initial",
            "_view_module": "@jupyter-widgets/base",
            "_model_module_version": "1.5.0",
            "_view_count": null,
            "_view_module_version": "1.2.0",
            "bar_color": null,
            "_model_module": "@jupyter-widgets/controls"
          }
        },
        "9778410b0bdb4674be5f5862ff4d50e9": {
          "model_module": "@jupyter-widgets/base",
          "model_name": "LayoutModel",
          "state": {
            "_view_name": "LayoutView",
            "grid_template_rows": null,
            "right": null,
            "justify_content": null,
            "_view_module": "@jupyter-widgets/base",
            "overflow": null,
            "_model_module_version": "1.2.0",
            "_view_count": null,
            "flex_flow": null,
            "width": null,
            "min_width": null,
            "border": null,
            "align_items": null,
            "bottom": null,
            "_model_module": "@jupyter-widgets/base",
            "top": null,
            "grid_column": null,
            "overflow_y": null,
            "overflow_x": null,
            "grid_auto_flow": null,
            "grid_area": null,
            "grid_template_columns": null,
            "flex": null,
            "_model_name": "LayoutModel",
            "justify_items": null,
            "grid_row": null,
            "max_height": null,
            "align_content": null,
            "visibility": null,
            "align_self": null,
            "height": null,
            "min_height": null,
            "padding": null,
            "grid_auto_rows": null,
            "grid_gap": null,
            "max_width": null,
            "order": null,
            "_view_module_version": "1.2.0",
            "grid_template_areas": null,
            "object_position": null,
            "object_fit": null,
            "grid_auto_columns": null,
            "margin": null,
            "display": null,
            "left": null
          }
        },
        "75a06f9947424086bf8afbb10dcb05a6": {
          "model_module": "@jupyter-widgets/controls",
          "model_name": "DescriptionStyleModel",
          "state": {
            "_view_name": "StyleView",
            "_model_name": "DescriptionStyleModel",
            "description_width": "",
            "_view_module": "@jupyter-widgets/base",
            "_model_module_version": "1.5.0",
            "_view_count": null,
            "_view_module_version": "1.2.0",
            "_model_module": "@jupyter-widgets/controls"
          }
        },
        "ab26a7ffea2c4bcfa8ca4fa1a82da6db": {
          "model_module": "@jupyter-widgets/base",
          "model_name": "LayoutModel",
          "state": {
            "_view_name": "LayoutView",
            "grid_template_rows": null,
            "right": null,
            "justify_content": null,
            "_view_module": "@jupyter-widgets/base",
            "overflow": null,
            "_model_module_version": "1.2.0",
            "_view_count": null,
            "flex_flow": null,
            "width": null,
            "min_width": null,
            "border": null,
            "align_items": null,
            "bottom": null,
            "_model_module": "@jupyter-widgets/base",
            "top": null,
            "grid_column": null,
            "overflow_y": null,
            "overflow_x": null,
            "grid_auto_flow": null,
            "grid_area": null,
            "grid_template_columns": null,
            "flex": null,
            "_model_name": "LayoutModel",
            "justify_items": null,
            "grid_row": null,
            "max_height": null,
            "align_content": null,
            "visibility": null,
            "align_self": null,
            "height": null,
            "min_height": null,
            "padding": null,
            "grid_auto_rows": null,
            "grid_gap": null,
            "max_width": null,
            "order": null,
            "_view_module_version": "1.2.0",
            "grid_template_areas": null,
            "object_position": null,
            "object_fit": null,
            "grid_auto_columns": null,
            "margin": null,
            "display": null,
            "left": null
          }
        },
        "d803aad8ef814ec7ba298f26384c7ddb": {
          "model_module": "@jupyter-widgets/controls",
          "model_name": "HBoxModel",
          "state": {
            "_view_name": "HBoxView",
            "_dom_classes": [],
            "_model_name": "HBoxModel",
            "_view_module": "@jupyter-widgets/controls",
            "_model_module_version": "1.5.0",
            "_view_count": null,
            "_view_module_version": "1.5.0",
            "box_style": "",
            "layout": "IPY_MODEL_f384d08e25c3462a8baa492400b054c9",
            "_model_module": "@jupyter-widgets/controls",
            "children": [
              "IPY_MODEL_232a1f7b05cf481c8edcd6724ff1c274",
              "IPY_MODEL_167bfa7853b44f98bfe9680819b04605"
            ]
          }
        },
        "f384d08e25c3462a8baa492400b054c9": {
          "model_module": "@jupyter-widgets/base",
          "model_name": "LayoutModel",
          "state": {
            "_view_name": "LayoutView",
            "grid_template_rows": null,
            "right": null,
            "justify_content": null,
            "_view_module": "@jupyter-widgets/base",
            "overflow": null,
            "_model_module_version": "1.2.0",
            "_view_count": null,
            "flex_flow": null,
            "width": null,
            "min_width": null,
            "border": null,
            "align_items": null,
            "bottom": null,
            "_model_module": "@jupyter-widgets/base",
            "top": null,
            "grid_column": null,
            "overflow_y": null,
            "overflow_x": null,
            "grid_auto_flow": null,
            "grid_area": null,
            "grid_template_columns": null,
            "flex": null,
            "_model_name": "LayoutModel",
            "justify_items": null,
            "grid_row": null,
            "max_height": null,
            "align_content": null,
            "visibility": null,
            "align_self": null,
            "height": null,
            "min_height": null,
            "padding": null,
            "grid_auto_rows": null,
            "grid_gap": null,
            "max_width": null,
            "order": null,
            "_view_module_version": "1.2.0",
            "grid_template_areas": null,
            "object_position": null,
            "object_fit": null,
            "grid_auto_columns": null,
            "margin": null,
            "display": null,
            "left": null
          }
        },
        "232a1f7b05cf481c8edcd6724ff1c274": {
          "model_module": "@jupyter-widgets/controls",
          "model_name": "FloatProgressModel",
          "state": {
            "_view_name": "ProgressView",
            "style": "IPY_MODEL_081f5baf12934f38b40f0bc02b610a64",
            "_dom_classes": [],
            "description": "100%",
            "_model_name": "FloatProgressModel",
            "bar_style": "success",
            "max": 15,
            "_view_module": "@jupyter-widgets/controls",
            "_model_module_version": "1.5.0",
            "value": 15,
            "_view_count": null,
            "_view_module_version": "1.5.0",
            "orientation": "horizontal",
            "min": 0,
            "description_tooltip": null,
            "_model_module": "@jupyter-widgets/controls",
            "layout": "IPY_MODEL_f4d0960ea09546ebadbdf50c28752998"
          }
        },
        "167bfa7853b44f98bfe9680819b04605": {
          "model_module": "@jupyter-widgets/controls",
          "model_name": "HTMLModel",
          "state": {
            "_view_name": "HTMLView",
            "style": "IPY_MODEL_dfdb9eb8adc84019bff05e374eae9f7d",
            "_dom_classes": [],
            "description": "",
            "_model_name": "HTMLModel",
            "placeholder": "​",
            "_view_module": "@jupyter-widgets/controls",
            "_model_module_version": "1.5.0",
            "value": " 15/15 [00:28&lt;00:00,  1.93s/it]",
            "_view_count": null,
            "_view_module_version": "1.5.0",
            "description_tooltip": null,
            "_model_module": "@jupyter-widgets/controls",
            "layout": "IPY_MODEL_118522656b834eabb5e1b4f03627191b"
          }
        },
        "081f5baf12934f38b40f0bc02b610a64": {
          "model_module": "@jupyter-widgets/controls",
          "model_name": "ProgressStyleModel",
          "state": {
            "_view_name": "StyleView",
            "_model_name": "ProgressStyleModel",
            "description_width": "initial",
            "_view_module": "@jupyter-widgets/base",
            "_model_module_version": "1.5.0",
            "_view_count": null,
            "_view_module_version": "1.2.0",
            "bar_color": null,
            "_model_module": "@jupyter-widgets/controls"
          }
        },
        "f4d0960ea09546ebadbdf50c28752998": {
          "model_module": "@jupyter-widgets/base",
          "model_name": "LayoutModel",
          "state": {
            "_view_name": "LayoutView",
            "grid_template_rows": null,
            "right": null,
            "justify_content": null,
            "_view_module": "@jupyter-widgets/base",
            "overflow": null,
            "_model_module_version": "1.2.0",
            "_view_count": null,
            "flex_flow": null,
            "width": null,
            "min_width": null,
            "border": null,
            "align_items": null,
            "bottom": null,
            "_model_module": "@jupyter-widgets/base",
            "top": null,
            "grid_column": null,
            "overflow_y": null,
            "overflow_x": null,
            "grid_auto_flow": null,
            "grid_area": null,
            "grid_template_columns": null,
            "flex": null,
            "_model_name": "LayoutModel",
            "justify_items": null,
            "grid_row": null,
            "max_height": null,
            "align_content": null,
            "visibility": null,
            "align_self": null,
            "height": null,
            "min_height": null,
            "padding": null,
            "grid_auto_rows": null,
            "grid_gap": null,
            "max_width": null,
            "order": null,
            "_view_module_version": "1.2.0",
            "grid_template_areas": null,
            "object_position": null,
            "object_fit": null,
            "grid_auto_columns": null,
            "margin": null,
            "display": null,
            "left": null
          }
        },
        "dfdb9eb8adc84019bff05e374eae9f7d": {
          "model_module": "@jupyter-widgets/controls",
          "model_name": "DescriptionStyleModel",
          "state": {
            "_view_name": "StyleView",
            "_model_name": "DescriptionStyleModel",
            "description_width": "",
            "_view_module": "@jupyter-widgets/base",
            "_model_module_version": "1.5.0",
            "_view_count": null,
            "_view_module_version": "1.2.0",
            "_model_module": "@jupyter-widgets/controls"
          }
        },
        "118522656b834eabb5e1b4f03627191b": {
          "model_module": "@jupyter-widgets/base",
          "model_name": "LayoutModel",
          "state": {
            "_view_name": "LayoutView",
            "grid_template_rows": null,
            "right": null,
            "justify_content": null,
            "_view_module": "@jupyter-widgets/base",
            "overflow": null,
            "_model_module_version": "1.2.0",
            "_view_count": null,
            "flex_flow": null,
            "width": null,
            "min_width": null,
            "border": null,
            "align_items": null,
            "bottom": null,
            "_model_module": "@jupyter-widgets/base",
            "top": null,
            "grid_column": null,
            "overflow_y": null,
            "overflow_x": null,
            "grid_auto_flow": null,
            "grid_area": null,
            "grid_template_columns": null,
            "flex": null,
            "_model_name": "LayoutModel",
            "justify_items": null,
            "grid_row": null,
            "max_height": null,
            "align_content": null,
            "visibility": null,
            "align_self": null,
            "height": null,
            "min_height": null,
            "padding": null,
            "grid_auto_rows": null,
            "grid_gap": null,
            "max_width": null,
            "order": null,
            "_view_module_version": "1.2.0",
            "grid_template_areas": null,
            "object_position": null,
            "object_fit": null,
            "grid_auto_columns": null,
            "margin": null,
            "display": null,
            "left": null
          }
        },
        "8c74996291434ab3a99de9fdd31d3db5": {
          "model_module": "@jupyter-widgets/controls",
          "model_name": "HBoxModel",
          "state": {
            "_view_name": "HBoxView",
            "_dom_classes": [],
            "_model_name": "HBoxModel",
            "_view_module": "@jupyter-widgets/controls",
            "_model_module_version": "1.5.0",
            "_view_count": null,
            "_view_module_version": "1.5.0",
            "box_style": "",
            "layout": "IPY_MODEL_7f4dc9729f8b4edfa2c01ecd95daa905",
            "_model_module": "@jupyter-widgets/controls",
            "children": [
              "IPY_MODEL_ded8a58ac5b34d60aac8809b641ffd42",
              "IPY_MODEL_545e282319e041f48d7c10295829be94"
            ]
          }
        },
        "7f4dc9729f8b4edfa2c01ecd95daa905": {
          "model_module": "@jupyter-widgets/base",
          "model_name": "LayoutModel",
          "state": {
            "_view_name": "LayoutView",
            "grid_template_rows": null,
            "right": null,
            "justify_content": null,
            "_view_module": "@jupyter-widgets/base",
            "overflow": null,
            "_model_module_version": "1.2.0",
            "_view_count": null,
            "flex_flow": null,
            "width": null,
            "min_width": null,
            "border": null,
            "align_items": null,
            "bottom": null,
            "_model_module": "@jupyter-widgets/base",
            "top": null,
            "grid_column": null,
            "overflow_y": null,
            "overflow_x": null,
            "grid_auto_flow": null,
            "grid_area": null,
            "grid_template_columns": null,
            "flex": null,
            "_model_name": "LayoutModel",
            "justify_items": null,
            "grid_row": null,
            "max_height": null,
            "align_content": null,
            "visibility": null,
            "align_self": null,
            "height": null,
            "min_height": null,
            "padding": null,
            "grid_auto_rows": null,
            "grid_gap": null,
            "max_width": null,
            "order": null,
            "_view_module_version": "1.2.0",
            "grid_template_areas": null,
            "object_position": null,
            "object_fit": null,
            "grid_auto_columns": null,
            "margin": null,
            "display": null,
            "left": null
          }
        },
        "ded8a58ac5b34d60aac8809b641ffd42": {
          "model_module": "@jupyter-widgets/controls",
          "model_name": "FloatProgressModel",
          "state": {
            "_view_name": "ProgressView",
            "style": "IPY_MODEL_93484363d48941d484085ee6e3ea2e5d",
            "_dom_classes": [],
            "description": "100%",
            "_model_name": "FloatProgressModel",
            "bar_style": "success",
            "max": 610,
            "_view_module": "@jupyter-widgets/controls",
            "_model_module_version": "1.5.0",
            "value": 610,
            "_view_count": null,
            "_view_module_version": "1.5.0",
            "orientation": "horizontal",
            "min": 0,
            "description_tooltip": null,
            "_model_module": "@jupyter-widgets/controls",
            "layout": "IPY_MODEL_a3c7f5c24e7e4317a4daea9aa85ae33e"
          }
        },
        "545e282319e041f48d7c10295829be94": {
          "model_module": "@jupyter-widgets/controls",
          "model_name": "HTMLModel",
          "state": {
            "_view_name": "HTMLView",
            "style": "IPY_MODEL_bb2fb259dc85470a9c71762aab65561b",
            "_dom_classes": [],
            "description": "",
            "_model_name": "HTMLModel",
            "placeholder": "​",
            "_view_module": "@jupyter-widgets/controls",
            "_model_module_version": "1.5.0",
            "value": " 610/610 [1:16:50&lt;00:00,  7.56s/it]",
            "_view_count": null,
            "_view_module_version": "1.5.0",
            "description_tooltip": null,
            "_model_module": "@jupyter-widgets/controls",
            "layout": "IPY_MODEL_f0eec779a78d4370b57c3e713556a9ac"
          }
        },
        "93484363d48941d484085ee6e3ea2e5d": {
          "model_module": "@jupyter-widgets/controls",
          "model_name": "ProgressStyleModel",
          "state": {
            "_view_name": "StyleView",
            "_model_name": "ProgressStyleModel",
            "description_width": "initial",
            "_view_module": "@jupyter-widgets/base",
            "_model_module_version": "1.5.0",
            "_view_count": null,
            "_view_module_version": "1.2.0",
            "bar_color": null,
            "_model_module": "@jupyter-widgets/controls"
          }
        },
        "a3c7f5c24e7e4317a4daea9aa85ae33e": {
          "model_module": "@jupyter-widgets/base",
          "model_name": "LayoutModel",
          "state": {
            "_view_name": "LayoutView",
            "grid_template_rows": null,
            "right": null,
            "justify_content": null,
            "_view_module": "@jupyter-widgets/base",
            "overflow": null,
            "_model_module_version": "1.2.0",
            "_view_count": null,
            "flex_flow": null,
            "width": null,
            "min_width": null,
            "border": null,
            "align_items": null,
            "bottom": null,
            "_model_module": "@jupyter-widgets/base",
            "top": null,
            "grid_column": null,
            "overflow_y": null,
            "overflow_x": null,
            "grid_auto_flow": null,
            "grid_area": null,
            "grid_template_columns": null,
            "flex": null,
            "_model_name": "LayoutModel",
            "justify_items": null,
            "grid_row": null,
            "max_height": null,
            "align_content": null,
            "visibility": null,
            "align_self": null,
            "height": null,
            "min_height": null,
            "padding": null,
            "grid_auto_rows": null,
            "grid_gap": null,
            "max_width": null,
            "order": null,
            "_view_module_version": "1.2.0",
            "grid_template_areas": null,
            "object_position": null,
            "object_fit": null,
            "grid_auto_columns": null,
            "margin": null,
            "display": null,
            "left": null
          }
        },
        "bb2fb259dc85470a9c71762aab65561b": {
          "model_module": "@jupyter-widgets/controls",
          "model_name": "DescriptionStyleModel",
          "state": {
            "_view_name": "StyleView",
            "_model_name": "DescriptionStyleModel",
            "description_width": "",
            "_view_module": "@jupyter-widgets/base",
            "_model_module_version": "1.5.0",
            "_view_count": null,
            "_view_module_version": "1.2.0",
            "_model_module": "@jupyter-widgets/controls"
          }
        },
        "f0eec779a78d4370b57c3e713556a9ac": {
          "model_module": "@jupyter-widgets/base",
          "model_name": "LayoutModel",
          "state": {
            "_view_name": "LayoutView",
            "grid_template_rows": null,
            "right": null,
            "justify_content": null,
            "_view_module": "@jupyter-widgets/base",
            "overflow": null,
            "_model_module_version": "1.2.0",
            "_view_count": null,
            "flex_flow": null,
            "width": null,
            "min_width": null,
            "border": null,
            "align_items": null,
            "bottom": null,
            "_model_module": "@jupyter-widgets/base",
            "top": null,
            "grid_column": null,
            "overflow_y": null,
            "overflow_x": null,
            "grid_auto_flow": null,
            "grid_area": null,
            "grid_template_columns": null,
            "flex": null,
            "_model_name": "LayoutModel",
            "justify_items": null,
            "grid_row": null,
            "max_height": null,
            "align_content": null,
            "visibility": null,
            "align_self": null,
            "height": null,
            "min_height": null,
            "padding": null,
            "grid_auto_rows": null,
            "grid_gap": null,
            "max_width": null,
            "order": null,
            "_view_module_version": "1.2.0",
            "grid_template_areas": null,
            "object_position": null,
            "object_fit": null,
            "grid_auto_columns": null,
            "margin": null,
            "display": null,
            "left": null
          }
        }
      }
    },
    "accelerator": "GPU"
  },
  "cells": [
    {
      "cell_type": "code",
      "metadata": {
        "colab": {
          "base_uri": "https://localhost:8080/"
        },
        "id": "HRe1TFY4L6QR",
        "outputId": "7423f951-0c31-4692-fb86-504849391536"
      },
      "source": [
        "from google.colab import drive\n",
        "drive.mount('/gdrive')"
      ],
      "execution_count": 3,
      "outputs": [
        {
          "output_type": "stream",
          "text": [
            "Mounted at /gdrive\n"
          ],
          "name": "stdout"
        }
      ]
    },
    {
      "cell_type": "code",
      "metadata": {
        "id": "0c6HIiiImsWz"
      },
      "source": [
        "import os\n",
        "\n",
        "IS_COLAB = True\n",
        "\n",
        "if IS_COLAB:\n",
        "  project_path = \"/gdrive/MyDrive/colab/Factorization_Machine/\"\n",
        "else:\n",
        "  project_path = os.path.dirname(os.path.abspath(\"__file__\"))\n",
        "\n",
        "data_path = os.path.join(project_path,\"data\")"
      ],
      "execution_count": 4,
      "outputs": []
    },
    {
      "cell_type": "code",
      "metadata": {
        "colab": {
          "base_uri": "https://localhost:8080/"
        },
        "id": "DWfJ4nJEoI9W",
        "outputId": "582efc98-b97e-4ef5-e00e-daa4cfcbd160"
      },
      "source": [
        "ls -l /gdrive/MyDrive/colab/Factorization_Machine/data"
      ],
      "execution_count": 5,
      "outputs": [
        {
          "output_type": "stream",
          "text": [
            "total 18944\n",
            "-rw------- 1 root root   197979 Nov 19 04:30 links.csv\n",
            "-rw------- 1 root root   494431 Nov 24 01:17 movies.csv\n",
            "-rw------- 1 root root  2483723 Nov 24 01:17 ratings.csv\n",
            "-rw------- 1 root root   118660 Nov 19 04:30 tags.csv\n",
            "-rw------- 1 root root   238833 Dec  2 02:30 tag_tokenizer_bpe_100.model\n",
            "-rw------- 1 root root      672 Dec  2 02:30 tag_tokenizer_bpe_100.vocab\n",
            "-rw------- 1 root root   370999 Nov 27 05:52 tag_tokenizer_bpe_9000.model\n",
            "-rw------- 1 root root   114127 Nov 27 05:52 tag_tokenizer_bpe_9000.vocab\n",
            "-rw------- 1 root root   271684 Dec  2 02:30 tag_tokenizer_input_bpe_100.txt\n",
            "-rw------- 1 root root   236678 Nov 27 05:52 tag_tokenizer_input_bpe_24000.txt\n",
            "-rw------- 1 root root   271684 Nov 27 05:57 tag_tokenizer_input_bpe_9000.txt\n",
            "-rw------- 1 root root   276147 Dec  2 02:30 tag_w2v_bpe_100.model\n",
            "-rw------- 1 root root   613252 Dec  2 02:30 title_tokenizer_bpe_24000.model\n",
            "-rw------- 1 root root   340369 Dec  2 02:30 title_tokenizer_bpe_24000.vocab\n",
            "-rw------- 1 root root   193941 Dec  2 02:30 title_tokenizer_input_bpe_24000.txt\n",
            "-rw------- 1 root root 13172025 Dec  2 02:30 title_w2v_bpe_24000.model\n",
            "-rw------- 1 root root        0 Nov 27 08:43 X_data.npy\n"
          ],
          "name": "stdout"
        }
      ]
    },
    {
      "cell_type": "code",
      "metadata": {
        "colab": {
          "base_uri": "https://localhost:8080/"
        },
        "id": "YQwSko9YPbil",
        "outputId": "656722dc-691f-4988-fc84-1e8b7cee071d"
      },
      "source": [
        "!pip install sentencepiece\n",
        "\n",
        "from gensim.models import  Word2Vec as w2v\n",
        "import sentencepiece as spm\n",
        "from tqdm import tqdm_notebook"
      ],
      "execution_count": 6,
      "outputs": [
        {
          "output_type": "stream",
          "text": [
            "Collecting sentencepiece\n",
            "\u001b[?25l  Downloading https://files.pythonhosted.org/packages/e5/2d/6d4ca4bef9a67070fa1cac508606328329152b1df10bdf31fb6e4e727894/sentencepiece-0.1.94-cp36-cp36m-manylinux2014_x86_64.whl (1.1MB)\n",
            "\u001b[K     |████████████████████████████████| 1.1MB 6.5MB/s \n",
            "\u001b[?25hInstalling collected packages: sentencepiece\n",
            "Successfully installed sentencepiece-0.1.94\n"
          ],
          "name": "stdout"
        }
      ]
    },
    {
      "cell_type": "code",
      "metadata": {
        "id": "fWNSvFtEnxga"
      },
      "source": [
        "import pandas as pd\n",
        "import numpy as np\n",
        "\n",
        "csv_movies = os.path.join(data_path,\"movies.csv\")\n",
        "csv_ratings = os.path.join(data_path,\"ratings.csv\")\n",
        "csv_tags = os.path.join(data_path,\"tags.csv\")\n",
        "csv_links =  os.path.join(data_path,\"links.csv\")\n",
        "\n",
        "movies = pd.read_csv(csv_movies)\n",
        "ratings = pd.read_csv(csv_ratings)\n",
        "tags = pd.read_csv(csv_tags)\n",
        "links = pd.read_csv(csv_links)\n",
        "\n",
        "org_movies = movies.copy()\n",
        "org_ratings = ratings.copy()\n",
        "org_tags = tags.copy()\n",
        "org_links = links.copy()"
      ],
      "execution_count": 7,
      "outputs": []
    },
    {
      "cell_type": "code",
      "metadata": {
        "id": "XBw1IMwgYMqF"
      },
      "source": [
        "dict_mid_2_nid= {mid:nid for nid, mid in enumerate(movies.movieId.unique())}\n",
        "dict_nid_2_mid = {nid:mid for mid,nid in dict_mid_2_nid.items()}\n",
        "\n",
        "dict_uid_2_nid= {uid:nid for nid, uid in enumerate(ratings.userId.unique())}\n",
        "dict_nid_2_uid = {nid:uid for uid,nid in dict_uid_2_nid.items()}\n",
        "\n",
        "movies.loc[:,\"m_nid\"] = movies.movieId.apply(lambda x:dict_mid_2_nid[x])\n",
        "\n",
        "ratings.loc[:,\"u_nid\"] = ratings.userId.apply(lambda x:dict_uid_2_nid[x])\n",
        "ratings.loc[:,\"m_nid\"] = ratings.movieId.apply(lambda x:dict_mid_2_nid[x])\n",
        "\n",
        "tags.loc[:,\"u_nid\"] = tags.userId.apply(lambda x:dict_uid_2_nid[x])\n",
        "tags.loc[:,\"m_nid\"] = tags.movieId.apply(lambda x:dict_mid_2_nid[x])\n",
        "\n",
        "links.loc[:,\"m_nid\"] = tags.movieId.apply(lambda x:dict_mid_2_nid[x])"
      ],
      "execution_count": 8,
      "outputs": []
    },
    {
      "cell_type": "code",
      "metadata": {
        "colab": {
          "base_uri": "https://localhost:8080/",
          "height": 204
        },
        "id": "Lip-mOhroj5x",
        "outputId": "8f8c2456-cbf0-4d63-f61e-185c84999a05"
      },
      "source": [
        "movies.head()"
      ],
      "execution_count": 9,
      "outputs": [
        {
          "output_type": "execute_result",
          "data": {
            "text/html": [
              "<div>\n",
              "<style scoped>\n",
              "    .dataframe tbody tr th:only-of-type {\n",
              "        vertical-align: middle;\n",
              "    }\n",
              "\n",
              "    .dataframe tbody tr th {\n",
              "        vertical-align: top;\n",
              "    }\n",
              "\n",
              "    .dataframe thead th {\n",
              "        text-align: right;\n",
              "    }\n",
              "</style>\n",
              "<table border=\"1\" class=\"dataframe\">\n",
              "  <thead>\n",
              "    <tr style=\"text-align: right;\">\n",
              "      <th></th>\n",
              "      <th>movieId</th>\n",
              "      <th>title</th>\n",
              "      <th>genres</th>\n",
              "      <th>m_nid</th>\n",
              "    </tr>\n",
              "  </thead>\n",
              "  <tbody>\n",
              "    <tr>\n",
              "      <th>0</th>\n",
              "      <td>1</td>\n",
              "      <td>Toy Story (1995)</td>\n",
              "      <td>Adventure|Animation|Children|Comedy|Fantasy</td>\n",
              "      <td>0</td>\n",
              "    </tr>\n",
              "    <tr>\n",
              "      <th>1</th>\n",
              "      <td>2</td>\n",
              "      <td>Jumanji (1995)</td>\n",
              "      <td>Adventure|Children|Fantasy</td>\n",
              "      <td>1</td>\n",
              "    </tr>\n",
              "    <tr>\n",
              "      <th>2</th>\n",
              "      <td>3</td>\n",
              "      <td>Grumpier Old Men (1995)</td>\n",
              "      <td>Comedy|Romance</td>\n",
              "      <td>2</td>\n",
              "    </tr>\n",
              "    <tr>\n",
              "      <th>3</th>\n",
              "      <td>4</td>\n",
              "      <td>Waiting to Exhale (1995)</td>\n",
              "      <td>Comedy|Drama|Romance</td>\n",
              "      <td>3</td>\n",
              "    </tr>\n",
              "    <tr>\n",
              "      <th>4</th>\n",
              "      <td>5</td>\n",
              "      <td>Father of the Bride Part II (1995)</td>\n",
              "      <td>Comedy</td>\n",
              "      <td>4</td>\n",
              "    </tr>\n",
              "  </tbody>\n",
              "</table>\n",
              "</div>"
            ],
            "text/plain": [
              "   movieId  ... m_nid\n",
              "0        1  ...     0\n",
              "1        2  ...     1\n",
              "2        3  ...     2\n",
              "3        4  ...     3\n",
              "4        5  ...     4\n",
              "\n",
              "[5 rows x 4 columns]"
            ]
          },
          "metadata": {
            "tags": []
          },
          "execution_count": 9
        }
      ]
    },
    {
      "cell_type": "code",
      "metadata": {
        "colab": {
          "base_uri": "https://localhost:8080/",
          "height": 204
        },
        "id": "KnKpu6WUSZ_h",
        "outputId": "6924b862-88bb-4923-ef26-fb3dabbd47cd"
      },
      "source": [
        "ratings.head()"
      ],
      "execution_count": 10,
      "outputs": [
        {
          "output_type": "execute_result",
          "data": {
            "text/html": [
              "<div>\n",
              "<style scoped>\n",
              "    .dataframe tbody tr th:only-of-type {\n",
              "        vertical-align: middle;\n",
              "    }\n",
              "\n",
              "    .dataframe tbody tr th {\n",
              "        vertical-align: top;\n",
              "    }\n",
              "\n",
              "    .dataframe thead th {\n",
              "        text-align: right;\n",
              "    }\n",
              "</style>\n",
              "<table border=\"1\" class=\"dataframe\">\n",
              "  <thead>\n",
              "    <tr style=\"text-align: right;\">\n",
              "      <th></th>\n",
              "      <th>userId</th>\n",
              "      <th>movieId</th>\n",
              "      <th>rating</th>\n",
              "      <th>timestamp</th>\n",
              "      <th>u_nid</th>\n",
              "      <th>m_nid</th>\n",
              "    </tr>\n",
              "  </thead>\n",
              "  <tbody>\n",
              "    <tr>\n",
              "      <th>0</th>\n",
              "      <td>1</td>\n",
              "      <td>1</td>\n",
              "      <td>4.0</td>\n",
              "      <td>964982703</td>\n",
              "      <td>0</td>\n",
              "      <td>0</td>\n",
              "    </tr>\n",
              "    <tr>\n",
              "      <th>1</th>\n",
              "      <td>1</td>\n",
              "      <td>3</td>\n",
              "      <td>4.0</td>\n",
              "      <td>964981247</td>\n",
              "      <td>0</td>\n",
              "      <td>2</td>\n",
              "    </tr>\n",
              "    <tr>\n",
              "      <th>2</th>\n",
              "      <td>1</td>\n",
              "      <td>6</td>\n",
              "      <td>4.0</td>\n",
              "      <td>964982224</td>\n",
              "      <td>0</td>\n",
              "      <td>5</td>\n",
              "    </tr>\n",
              "    <tr>\n",
              "      <th>3</th>\n",
              "      <td>1</td>\n",
              "      <td>47</td>\n",
              "      <td>5.0</td>\n",
              "      <td>964983815</td>\n",
              "      <td>0</td>\n",
              "      <td>43</td>\n",
              "    </tr>\n",
              "    <tr>\n",
              "      <th>4</th>\n",
              "      <td>1</td>\n",
              "      <td>50</td>\n",
              "      <td>5.0</td>\n",
              "      <td>964982931</td>\n",
              "      <td>0</td>\n",
              "      <td>46</td>\n",
              "    </tr>\n",
              "  </tbody>\n",
              "</table>\n",
              "</div>"
            ],
            "text/plain": [
              "   userId  movieId  rating  timestamp  u_nid  m_nid\n",
              "0       1        1     4.0  964982703      0      0\n",
              "1       1        3     4.0  964981247      0      2\n",
              "2       1        6     4.0  964982224      0      5\n",
              "3       1       47     5.0  964983815      0     43\n",
              "4       1       50     5.0  964982931      0     46"
            ]
          },
          "metadata": {
            "tags": []
          },
          "execution_count": 10
        }
      ]
    },
    {
      "cell_type": "code",
      "metadata": {
        "colab": {
          "base_uri": "https://localhost:8080/",
          "height": 204
        },
        "id": "KwFKUMJTauSi",
        "outputId": "b8e0127a-2144-4a8a-ef7a-5af90446e404"
      },
      "source": [
        "tags.head()"
      ],
      "execution_count": 11,
      "outputs": [
        {
          "output_type": "execute_result",
          "data": {
            "text/html": [
              "<div>\n",
              "<style scoped>\n",
              "    .dataframe tbody tr th:only-of-type {\n",
              "        vertical-align: middle;\n",
              "    }\n",
              "\n",
              "    .dataframe tbody tr th {\n",
              "        vertical-align: top;\n",
              "    }\n",
              "\n",
              "    .dataframe thead th {\n",
              "        text-align: right;\n",
              "    }\n",
              "</style>\n",
              "<table border=\"1\" class=\"dataframe\">\n",
              "  <thead>\n",
              "    <tr style=\"text-align: right;\">\n",
              "      <th></th>\n",
              "      <th>userId</th>\n",
              "      <th>movieId</th>\n",
              "      <th>tag</th>\n",
              "      <th>timestamp</th>\n",
              "      <th>u_nid</th>\n",
              "      <th>m_nid</th>\n",
              "    </tr>\n",
              "  </thead>\n",
              "  <tbody>\n",
              "    <tr>\n",
              "      <th>0</th>\n",
              "      <td>2</td>\n",
              "      <td>60756</td>\n",
              "      <td>funny</td>\n",
              "      <td>1445714994</td>\n",
              "      <td>1</td>\n",
              "      <td>6801</td>\n",
              "    </tr>\n",
              "    <tr>\n",
              "      <th>1</th>\n",
              "      <td>2</td>\n",
              "      <td>60756</td>\n",
              "      <td>Highly quotable</td>\n",
              "      <td>1445714996</td>\n",
              "      <td>1</td>\n",
              "      <td>6801</td>\n",
              "    </tr>\n",
              "    <tr>\n",
              "      <th>2</th>\n",
              "      <td>2</td>\n",
              "      <td>60756</td>\n",
              "      <td>will ferrell</td>\n",
              "      <td>1445714992</td>\n",
              "      <td>1</td>\n",
              "      <td>6801</td>\n",
              "    </tr>\n",
              "    <tr>\n",
              "      <th>3</th>\n",
              "      <td>2</td>\n",
              "      <td>89774</td>\n",
              "      <td>Boxing story</td>\n",
              "      <td>1445715207</td>\n",
              "      <td>1</td>\n",
              "      <td>7697</td>\n",
              "    </tr>\n",
              "    <tr>\n",
              "      <th>4</th>\n",
              "      <td>2</td>\n",
              "      <td>89774</td>\n",
              "      <td>MMA</td>\n",
              "      <td>1445715200</td>\n",
              "      <td>1</td>\n",
              "      <td>7697</td>\n",
              "    </tr>\n",
              "  </tbody>\n",
              "</table>\n",
              "</div>"
            ],
            "text/plain": [
              "   userId  movieId              tag   timestamp  u_nid  m_nid\n",
              "0       2    60756            funny  1445714994      1   6801\n",
              "1       2    60756  Highly quotable  1445714996      1   6801\n",
              "2       2    60756     will ferrell  1445714992      1   6801\n",
              "3       2    89774     Boxing story  1445715207      1   7697\n",
              "4       2    89774              MMA  1445715200      1   7697"
            ]
          },
          "metadata": {
            "tags": []
          },
          "execution_count": 11
        }
      ]
    },
    {
      "cell_type": "code",
      "metadata": {
        "colab": {
          "base_uri": "https://localhost:8080/",
          "height": 204
        },
        "id": "dzHWhdfZaw8d",
        "outputId": "a2e05656-aafa-4d31-f466-82ccbd285a46"
      },
      "source": [
        "links.head()"
      ],
      "execution_count": 12,
      "outputs": [
        {
          "output_type": "execute_result",
          "data": {
            "text/html": [
              "<div>\n",
              "<style scoped>\n",
              "    .dataframe tbody tr th:only-of-type {\n",
              "        vertical-align: middle;\n",
              "    }\n",
              "\n",
              "    .dataframe tbody tr th {\n",
              "        vertical-align: top;\n",
              "    }\n",
              "\n",
              "    .dataframe thead th {\n",
              "        text-align: right;\n",
              "    }\n",
              "</style>\n",
              "<table border=\"1\" class=\"dataframe\">\n",
              "  <thead>\n",
              "    <tr style=\"text-align: right;\">\n",
              "      <th></th>\n",
              "      <th>movieId</th>\n",
              "      <th>imdbId</th>\n",
              "      <th>tmdbId</th>\n",
              "      <th>m_nid</th>\n",
              "    </tr>\n",
              "  </thead>\n",
              "  <tbody>\n",
              "    <tr>\n",
              "      <th>0</th>\n",
              "      <td>1</td>\n",
              "      <td>114709</td>\n",
              "      <td>862.0</td>\n",
              "      <td>6801.0</td>\n",
              "    </tr>\n",
              "    <tr>\n",
              "      <th>1</th>\n",
              "      <td>2</td>\n",
              "      <td>113497</td>\n",
              "      <td>8844.0</td>\n",
              "      <td>6801.0</td>\n",
              "    </tr>\n",
              "    <tr>\n",
              "      <th>2</th>\n",
              "      <td>3</td>\n",
              "      <td>113228</td>\n",
              "      <td>15602.0</td>\n",
              "      <td>6801.0</td>\n",
              "    </tr>\n",
              "    <tr>\n",
              "      <th>3</th>\n",
              "      <td>4</td>\n",
              "      <td>114885</td>\n",
              "      <td>31357.0</td>\n",
              "      <td>7697.0</td>\n",
              "    </tr>\n",
              "    <tr>\n",
              "      <th>4</th>\n",
              "      <td>5</td>\n",
              "      <td>113041</td>\n",
              "      <td>11862.0</td>\n",
              "      <td>7697.0</td>\n",
              "    </tr>\n",
              "  </tbody>\n",
              "</table>\n",
              "</div>"
            ],
            "text/plain": [
              "   movieId  imdbId   tmdbId   m_nid\n",
              "0        1  114709    862.0  6801.0\n",
              "1        2  113497   8844.0  6801.0\n",
              "2        3  113228  15602.0  6801.0\n",
              "3        4  114885  31357.0  7697.0\n",
              "4        5  113041  11862.0  7697.0"
            ]
          },
          "metadata": {
            "tags": []
          },
          "execution_count": 12
        }
      ]
    },
    {
      "cell_type": "code",
      "metadata": {
        "colab": {
          "base_uri": "https://localhost:8080/",
          "height": 204
        },
        "id": "KU_qxjUKSgbC",
        "outputId": "ccf688c6-86f8-40d0-c584-3a2ebc432c41"
      },
      "source": [
        "sorted_ratings = ratings.sort_values(by=[\"userId\",\"timestamp\"])\n",
        "sorted_ratings['b4_timestamp'] = sorted_ratings.groupby(['userId'])['timestamp'].shift(1)\n",
        "mc_sorted_ratings= sorted_ratings.groupby(['userId',\"timestamp\"])[\"m_nid\"].count().to_frame(name=\"m_count\")\n",
        "sorted_ratings = pd.merge(left=sorted_ratings, right=mc_sorted_ratings, on=[\"userId\",\"timestamp\"], how=\"left\")\n",
        "sorted_ratings.loc[:,\"b4_timestamp\"] = sorted_ratings.b4_timestamp.fillna(0).astype(\"int64\")\n",
        "sorted_ratings.head()"
      ],
      "execution_count": 13,
      "outputs": [
        {
          "output_type": "execute_result",
          "data": {
            "text/html": [
              "<div>\n",
              "<style scoped>\n",
              "    .dataframe tbody tr th:only-of-type {\n",
              "        vertical-align: middle;\n",
              "    }\n",
              "\n",
              "    .dataframe tbody tr th {\n",
              "        vertical-align: top;\n",
              "    }\n",
              "\n",
              "    .dataframe thead th {\n",
              "        text-align: right;\n",
              "    }\n",
              "</style>\n",
              "<table border=\"1\" class=\"dataframe\">\n",
              "  <thead>\n",
              "    <tr style=\"text-align: right;\">\n",
              "      <th></th>\n",
              "      <th>userId</th>\n",
              "      <th>movieId</th>\n",
              "      <th>rating</th>\n",
              "      <th>timestamp</th>\n",
              "      <th>u_nid</th>\n",
              "      <th>m_nid</th>\n",
              "      <th>b4_timestamp</th>\n",
              "      <th>m_count</th>\n",
              "    </tr>\n",
              "  </thead>\n",
              "  <tbody>\n",
              "    <tr>\n",
              "      <th>0</th>\n",
              "      <td>1</td>\n",
              "      <td>804</td>\n",
              "      <td>4.0</td>\n",
              "      <td>964980499</td>\n",
              "      <td>0</td>\n",
              "      <td>632</td>\n",
              "      <td>0</td>\n",
              "      <td>2</td>\n",
              "    </tr>\n",
              "    <tr>\n",
              "      <th>1</th>\n",
              "      <td>1</td>\n",
              "      <td>1210</td>\n",
              "      <td>5.0</td>\n",
              "      <td>964980499</td>\n",
              "      <td>0</td>\n",
              "      <td>911</td>\n",
              "      <td>964980499</td>\n",
              "      <td>2</td>\n",
              "    </tr>\n",
              "    <tr>\n",
              "      <th>2</th>\n",
              "      <td>1</td>\n",
              "      <td>2018</td>\n",
              "      <td>5.0</td>\n",
              "      <td>964980523</td>\n",
              "      <td>0</td>\n",
              "      <td>1493</td>\n",
              "      <td>964980499</td>\n",
              "      <td>3</td>\n",
              "    </tr>\n",
              "    <tr>\n",
              "      <th>3</th>\n",
              "      <td>1</td>\n",
              "      <td>2628</td>\n",
              "      <td>4.0</td>\n",
              "      <td>964980523</td>\n",
              "      <td>0</td>\n",
              "      <td>1979</td>\n",
              "      <td>964980523</td>\n",
              "      <td>3</td>\n",
              "    </tr>\n",
              "    <tr>\n",
              "      <th>4</th>\n",
              "      <td>1</td>\n",
              "      <td>2826</td>\n",
              "      <td>4.0</td>\n",
              "      <td>964980523</td>\n",
              "      <td>0</td>\n",
              "      <td>2126</td>\n",
              "      <td>964980523</td>\n",
              "      <td>3</td>\n",
              "    </tr>\n",
              "  </tbody>\n",
              "</table>\n",
              "</div>"
            ],
            "text/plain": [
              "   userId  movieId  rating  timestamp  u_nid  m_nid  b4_timestamp  m_count\n",
              "0       1      804     4.0  964980499      0    632             0        2\n",
              "1       1     1210     5.0  964980499      0    911     964980499        2\n",
              "2       1     2018     5.0  964980523      0   1493     964980499        3\n",
              "3       1     2628     4.0  964980523      0   1979     964980523        3\n",
              "4       1     2826     4.0  964980523      0   2126     964980523        3"
            ]
          },
          "metadata": {
            "tags": []
          },
          "execution_count": 13
        }
      ]
    },
    {
      "cell_type": "code",
      "metadata": {
        "colab": {
          "base_uri": "https://localhost:8080/",
          "height": 117,
          "referenced_widgets": [
            "85e4970622e44fbcbc564a71ec7d03a2",
            "0477591e20e74469bb1b38020cb446ad",
            "759582e14f2746f2b6024aa4db876264",
            "0a83f6cd753e469ab31477653c497a54",
            "870ff79703d94316ad939f3f008cde33",
            "5d60a078b1ff4d22aa938dad6ead47aa",
            "5ae0245e09a1493da1fcbf245bf6193a",
            "101ff2fd8fb446dc9bf56c198f64795e"
          ]
        },
        "id": "-VmNRmuzTZGH",
        "outputId": "eea06691-7abc-4acc-cb2f-6d0310e8f65b"
      },
      "source": [
        "previous_timestamp = 0\n",
        "counter = 0\n",
        "former_movies = list()\n",
        "now_movies = list()\n",
        "movie_vectors = list()\n",
        "\n",
        "for idx,row in tqdm_notebook(sorted_ratings.iterrows()):\n",
        "  counter += 1\n",
        "  m_nid = row[\"m_nid\"].astype(\"int\")\n",
        "  m_count = row[\"m_count\"]\n",
        "  timestamp = row[\"timestamp\"]\n",
        "  b4_timestamp = row[\"b4_timestamp\"]\n",
        "\n",
        "  if previous_timestamp == 0 and counter <= m_count:\n",
        "    now_movies.append(m_nid)\n",
        "    movie_vector = np.zeros(len(dict_mid_2_nid)) \n",
        "    \n",
        "    if counter == m_count:\n",
        "      former_movies = now_movies\n",
        "      previous_timestamp = timestamp\n",
        "      now_movies = list()\n",
        "      counter = 0\n",
        "  \n",
        "  elif previous_timestamp != 0 and counter <= m_count:\n",
        "    now_movies.append(m_nid)\n",
        "    movie_vector = np.zeros(len(dict_mid_2_nid))\n",
        "    movie_vector[former_movies] = 1\n",
        "\n",
        "    if counter == m_count:\n",
        "      former_movies = now_movies\n",
        "      previous_timestamp = timestamp\n",
        "      now_movies = list()\n",
        "      counter = 0\n",
        "\n",
        "  movie_vectors.append(movie_vector)"
      ],
      "execution_count": 14,
      "outputs": [
        {
          "output_type": "stream",
          "text": [
            "/usr/local/lib/python3.6/dist-packages/ipykernel_launcher.py:7: TqdmDeprecationWarning: This function will be removed in tqdm==5.0.0\n",
            "Please use `tqdm.notebook.tqdm` instead of `tqdm.tqdm_notebook`\n",
            "  import sys\n"
          ],
          "name": "stderr"
        },
        {
          "output_type": "display_data",
          "data": {
            "application/vnd.jupyter.widget-view+json": {
              "model_id": "85e4970622e44fbcbc564a71ec7d03a2",
              "version_minor": 0,
              "version_major": 2
            },
            "text/plain": [
              "HBox(children=(FloatProgress(value=1.0, bar_style='info', max=1.0), HTML(value='')))"
            ]
          },
          "metadata": {
            "tags": []
          }
        },
        {
          "output_type": "stream",
          "text": [
            "\n"
          ],
          "name": "stdout"
        }
      ]
    },
    {
      "cell_type": "code",
      "metadata": {
        "colab": {
          "base_uri": "https://localhost:8080/",
          "height": 204
        },
        "id": "LesDaOHFgNdd",
        "outputId": "546e2e2f-303e-4ea7-b327-bb343abf5791"
      },
      "source": [
        "sorted_ratings.loc[:,\"last_rate_vector\"] = pd.Series(movie_vectors)\n",
        "sorted_ratings.head()"
      ],
      "execution_count": 15,
      "outputs": [
        {
          "output_type": "execute_result",
          "data": {
            "text/html": [
              "<div>\n",
              "<style scoped>\n",
              "    .dataframe tbody tr th:only-of-type {\n",
              "        vertical-align: middle;\n",
              "    }\n",
              "\n",
              "    .dataframe tbody tr th {\n",
              "        vertical-align: top;\n",
              "    }\n",
              "\n",
              "    .dataframe thead th {\n",
              "        text-align: right;\n",
              "    }\n",
              "</style>\n",
              "<table border=\"1\" class=\"dataframe\">\n",
              "  <thead>\n",
              "    <tr style=\"text-align: right;\">\n",
              "      <th></th>\n",
              "      <th>userId</th>\n",
              "      <th>movieId</th>\n",
              "      <th>rating</th>\n",
              "      <th>timestamp</th>\n",
              "      <th>u_nid</th>\n",
              "      <th>m_nid</th>\n",
              "      <th>b4_timestamp</th>\n",
              "      <th>m_count</th>\n",
              "      <th>last_rate_vector</th>\n",
              "    </tr>\n",
              "  </thead>\n",
              "  <tbody>\n",
              "    <tr>\n",
              "      <th>0</th>\n",
              "      <td>1</td>\n",
              "      <td>804</td>\n",
              "      <td>4.0</td>\n",
              "      <td>964980499</td>\n",
              "      <td>0</td>\n",
              "      <td>632</td>\n",
              "      <td>0</td>\n",
              "      <td>2</td>\n",
              "      <td>[0.0, 0.0, 0.0, 0.0, 0.0, 0.0, 0.0, 0.0, 0.0, ...</td>\n",
              "    </tr>\n",
              "    <tr>\n",
              "      <th>1</th>\n",
              "      <td>1</td>\n",
              "      <td>1210</td>\n",
              "      <td>5.0</td>\n",
              "      <td>964980499</td>\n",
              "      <td>0</td>\n",
              "      <td>911</td>\n",
              "      <td>964980499</td>\n",
              "      <td>2</td>\n",
              "      <td>[0.0, 0.0, 0.0, 0.0, 0.0, 0.0, 0.0, 0.0, 0.0, ...</td>\n",
              "    </tr>\n",
              "    <tr>\n",
              "      <th>2</th>\n",
              "      <td>1</td>\n",
              "      <td>2018</td>\n",
              "      <td>5.0</td>\n",
              "      <td>964980523</td>\n",
              "      <td>0</td>\n",
              "      <td>1493</td>\n",
              "      <td>964980499</td>\n",
              "      <td>3</td>\n",
              "      <td>[0.0, 0.0, 0.0, 0.0, 0.0, 0.0, 0.0, 0.0, 0.0, ...</td>\n",
              "    </tr>\n",
              "    <tr>\n",
              "      <th>3</th>\n",
              "      <td>1</td>\n",
              "      <td>2628</td>\n",
              "      <td>4.0</td>\n",
              "      <td>964980523</td>\n",
              "      <td>0</td>\n",
              "      <td>1979</td>\n",
              "      <td>964980523</td>\n",
              "      <td>3</td>\n",
              "      <td>[0.0, 0.0, 0.0, 0.0, 0.0, 0.0, 0.0, 0.0, 0.0, ...</td>\n",
              "    </tr>\n",
              "    <tr>\n",
              "      <th>4</th>\n",
              "      <td>1</td>\n",
              "      <td>2826</td>\n",
              "      <td>4.0</td>\n",
              "      <td>964980523</td>\n",
              "      <td>0</td>\n",
              "      <td>2126</td>\n",
              "      <td>964980523</td>\n",
              "      <td>3</td>\n",
              "      <td>[0.0, 0.0, 0.0, 0.0, 0.0, 0.0, 0.0, 0.0, 0.0, ...</td>\n",
              "    </tr>\n",
              "  </tbody>\n",
              "</table>\n",
              "</div>"
            ],
            "text/plain": [
              "   userId  movieId  ...  m_count                                   last_rate_vector\n",
              "0       1      804  ...        2  [0.0, 0.0, 0.0, 0.0, 0.0, 0.0, 0.0, 0.0, 0.0, ...\n",
              "1       1     1210  ...        2  [0.0, 0.0, 0.0, 0.0, 0.0, 0.0, 0.0, 0.0, 0.0, ...\n",
              "2       1     2018  ...        3  [0.0, 0.0, 0.0, 0.0, 0.0, 0.0, 0.0, 0.0, 0.0, ...\n",
              "3       1     2628  ...        3  [0.0, 0.0, 0.0, 0.0, 0.0, 0.0, 0.0, 0.0, 0.0, ...\n",
              "4       1     2826  ...        3  [0.0, 0.0, 0.0, 0.0, 0.0, 0.0, 0.0, 0.0, 0.0, ...\n",
              "\n",
              "[5 rows x 9 columns]"
            ]
          },
          "metadata": {
            "tags": []
          },
          "execution_count": 15
        }
      ]
    },
    {
      "cell_type": "code",
      "metadata": {
        "colab": {
          "base_uri": "https://localhost:8080/",
          "height": 204
        },
        "id": "nPpDpfi4mp1i",
        "outputId": "e0f679ad-240a-4a5e-84c6-3c0e58c1ca6f"
      },
      "source": [
        "ratings = sorted_ratings.sort_values(by=[\"userId\",\"movieId\"]).copy()\n",
        "ratings = ratings.reset_index(drop=True)\n",
        "ratings.head()"
      ],
      "execution_count": 16,
      "outputs": [
        {
          "output_type": "execute_result",
          "data": {
            "text/html": [
              "<div>\n",
              "<style scoped>\n",
              "    .dataframe tbody tr th:only-of-type {\n",
              "        vertical-align: middle;\n",
              "    }\n",
              "\n",
              "    .dataframe tbody tr th {\n",
              "        vertical-align: top;\n",
              "    }\n",
              "\n",
              "    .dataframe thead th {\n",
              "        text-align: right;\n",
              "    }\n",
              "</style>\n",
              "<table border=\"1\" class=\"dataframe\">\n",
              "  <thead>\n",
              "    <tr style=\"text-align: right;\">\n",
              "      <th></th>\n",
              "      <th>userId</th>\n",
              "      <th>movieId</th>\n",
              "      <th>rating</th>\n",
              "      <th>timestamp</th>\n",
              "      <th>u_nid</th>\n",
              "      <th>m_nid</th>\n",
              "      <th>b4_timestamp</th>\n",
              "      <th>m_count</th>\n",
              "      <th>last_rate_vector</th>\n",
              "    </tr>\n",
              "  </thead>\n",
              "  <tbody>\n",
              "    <tr>\n",
              "      <th>0</th>\n",
              "      <td>1</td>\n",
              "      <td>1</td>\n",
              "      <td>4.0</td>\n",
              "      <td>964982703</td>\n",
              "      <td>0</td>\n",
              "      <td>0</td>\n",
              "      <td>964982681</td>\n",
              "      <td>4</td>\n",
              "      <td>[0.0, 0.0, 0.0, 0.0, 0.0, 0.0, 0.0, 0.0, 0.0, ...</td>\n",
              "    </tr>\n",
              "    <tr>\n",
              "      <th>1</th>\n",
              "      <td>1</td>\n",
              "      <td>3</td>\n",
              "      <td>4.0</td>\n",
              "      <td>964981247</td>\n",
              "      <td>0</td>\n",
              "      <td>2</td>\n",
              "      <td>964981230</td>\n",
              "      <td>1</td>\n",
              "      <td>[0.0, 0.0, 0.0, 0.0, 0.0, 0.0, 0.0, 0.0, 0.0, ...</td>\n",
              "    </tr>\n",
              "    <tr>\n",
              "      <th>2</th>\n",
              "      <td>1</td>\n",
              "      <td>6</td>\n",
              "      <td>4.0</td>\n",
              "      <td>964982224</td>\n",
              "      <td>0</td>\n",
              "      <td>5</td>\n",
              "      <td>964982211</td>\n",
              "      <td>1</td>\n",
              "      <td>[0.0, 0.0, 0.0, 0.0, 0.0, 0.0, 0.0, 0.0, 0.0, ...</td>\n",
              "    </tr>\n",
              "    <tr>\n",
              "      <th>3</th>\n",
              "      <td>1</td>\n",
              "      <td>47</td>\n",
              "      <td>5.0</td>\n",
              "      <td>964983815</td>\n",
              "      <td>0</td>\n",
              "      <td>43</td>\n",
              "      <td>964983793</td>\n",
              "      <td>1</td>\n",
              "      <td>[0.0, 0.0, 0.0, 0.0, 0.0, 0.0, 0.0, 0.0, 0.0, ...</td>\n",
              "    </tr>\n",
              "    <tr>\n",
              "      <th>4</th>\n",
              "      <td>1</td>\n",
              "      <td>50</td>\n",
              "      <td>5.0</td>\n",
              "      <td>964982931</td>\n",
              "      <td>0</td>\n",
              "      <td>46</td>\n",
              "      <td>964982903</td>\n",
              "      <td>2</td>\n",
              "      <td>[0.0, 0.0, 0.0, 0.0, 0.0, 0.0, 0.0, 0.0, 0.0, ...</td>\n",
              "    </tr>\n",
              "  </tbody>\n",
              "</table>\n",
              "</div>"
            ],
            "text/plain": [
              "   userId  movieId  ...  m_count                                   last_rate_vector\n",
              "0       1        1  ...        4  [0.0, 0.0, 0.0, 0.0, 0.0, 0.0, 0.0, 0.0, 0.0, ...\n",
              "1       1        3  ...        1  [0.0, 0.0, 0.0, 0.0, 0.0, 0.0, 0.0, 0.0, 0.0, ...\n",
              "2       1        6  ...        1  [0.0, 0.0, 0.0, 0.0, 0.0, 0.0, 0.0, 0.0, 0.0, ...\n",
              "3       1       47  ...        1  [0.0, 0.0, 0.0, 0.0, 0.0, 0.0, 0.0, 0.0, 0.0, ...\n",
              "4       1       50  ...        2  [0.0, 0.0, 0.0, 0.0, 0.0, 0.0, 0.0, 0.0, 0.0, ...\n",
              "\n",
              "[5 rows x 9 columns]"
            ]
          },
          "metadata": {
            "tags": []
          },
          "execution_count": 16
        }
      ]
    },
    {
      "cell_type": "code",
      "metadata": {
        "colab": {
          "base_uri": "https://localhost:8080/",
          "height": 204
        },
        "id": "oqOu0nPMnSUG",
        "outputId": "979c05a1-e9fc-4a39-b32a-5f1bc58ff223"
      },
      "source": [
        "movies.head()"
      ],
      "execution_count": 17,
      "outputs": [
        {
          "output_type": "execute_result",
          "data": {
            "text/html": [
              "<div>\n",
              "<style scoped>\n",
              "    .dataframe tbody tr th:only-of-type {\n",
              "        vertical-align: middle;\n",
              "    }\n",
              "\n",
              "    .dataframe tbody tr th {\n",
              "        vertical-align: top;\n",
              "    }\n",
              "\n",
              "    .dataframe thead th {\n",
              "        text-align: right;\n",
              "    }\n",
              "</style>\n",
              "<table border=\"1\" class=\"dataframe\">\n",
              "  <thead>\n",
              "    <tr style=\"text-align: right;\">\n",
              "      <th></th>\n",
              "      <th>movieId</th>\n",
              "      <th>title</th>\n",
              "      <th>genres</th>\n",
              "      <th>m_nid</th>\n",
              "    </tr>\n",
              "  </thead>\n",
              "  <tbody>\n",
              "    <tr>\n",
              "      <th>0</th>\n",
              "      <td>1</td>\n",
              "      <td>Toy Story (1995)</td>\n",
              "      <td>Adventure|Animation|Children|Comedy|Fantasy</td>\n",
              "      <td>0</td>\n",
              "    </tr>\n",
              "    <tr>\n",
              "      <th>1</th>\n",
              "      <td>2</td>\n",
              "      <td>Jumanji (1995)</td>\n",
              "      <td>Adventure|Children|Fantasy</td>\n",
              "      <td>1</td>\n",
              "    </tr>\n",
              "    <tr>\n",
              "      <th>2</th>\n",
              "      <td>3</td>\n",
              "      <td>Grumpier Old Men (1995)</td>\n",
              "      <td>Comedy|Romance</td>\n",
              "      <td>2</td>\n",
              "    </tr>\n",
              "    <tr>\n",
              "      <th>3</th>\n",
              "      <td>4</td>\n",
              "      <td>Waiting to Exhale (1995)</td>\n",
              "      <td>Comedy|Drama|Romance</td>\n",
              "      <td>3</td>\n",
              "    </tr>\n",
              "    <tr>\n",
              "      <th>4</th>\n",
              "      <td>5</td>\n",
              "      <td>Father of the Bride Part II (1995)</td>\n",
              "      <td>Comedy</td>\n",
              "      <td>4</td>\n",
              "    </tr>\n",
              "  </tbody>\n",
              "</table>\n",
              "</div>"
            ],
            "text/plain": [
              "   movieId  ... m_nid\n",
              "0        1  ...     0\n",
              "1        2  ...     1\n",
              "2        3  ...     2\n",
              "3        4  ...     3\n",
              "4        5  ...     4\n",
              "\n",
              "[5 rows x 4 columns]"
            ]
          },
          "metadata": {
            "tags": []
          },
          "execution_count": 17
        }
      ]
    },
    {
      "cell_type": "code",
      "metadata": {
        "colab": {
          "base_uri": "https://localhost:8080/"
        },
        "id": "pEUuIcxSok0s",
        "outputId": "5c7c58c3-4990-4829-9d2a-1e794799bf01"
      },
      "source": [
        "unique_genres = np.unique(np.concatenate(np.array(movies.genres.apply(lambda x: np.array(x.split(\"|\"))).tolist())))\n",
        "dict_gid_2_gnr = { gid:genre for gid, genre in enumerate(unique_genres)} \n",
        "dict_gnr_2_gid = { genre:gid for gid, genre in dict_gid_2_gnr.items()}\n",
        "unique_genres"
      ],
      "execution_count": 18,
      "outputs": [
        {
          "output_type": "execute_result",
          "data": {
            "text/plain": [
              "array(['(no genres listed)', 'Action', 'Adventure', 'Animation',\n",
              "       'Children', 'Comedy', 'Crime', 'Documentary', 'Drama', 'Fantasy',\n",
              "       'Film-Noir', 'Horror', 'IMAX', 'Musical', 'Mystery', 'Romance',\n",
              "       'Sci-Fi', 'Thriller', 'War', 'Western'], dtype='<U18')"
            ]
          },
          "metadata": {
            "tags": []
          },
          "execution_count": 18
        }
      ]
    },
    {
      "cell_type": "code",
      "metadata": {
        "id": "qzzO3e5BqEgA"
      },
      "source": [
        "gnr_vectors = list()\n",
        "for gnrs in movies.genres.apply(lambda x: x.split(\"|\")).tolist():\n",
        "  gnr_vector = np.zeros(len(unique_genres))\n",
        "  for gnr in gnrs:\n",
        "    gnr_vector[dict_gnr_2_gid[gnr]] = 1\n",
        "  gnr_vectors.append(gnr_vector)"
      ],
      "execution_count": 19,
      "outputs": []
    },
    {
      "cell_type": "code",
      "metadata": {
        "colab": {
          "base_uri": "https://localhost:8080/",
          "height": 289
        },
        "id": "u19eqiiCol4q",
        "outputId": "8653e499-11c9-4574-fc0f-1b83142c3433"
      },
      "source": [
        "movies.loc[:,\"genres_vectors\"] = pd.Series(gnr_vectors)\n",
        "movies.head()"
      ],
      "execution_count": 20,
      "outputs": [
        {
          "output_type": "execute_result",
          "data": {
            "text/html": [
              "<div>\n",
              "<style scoped>\n",
              "    .dataframe tbody tr th:only-of-type {\n",
              "        vertical-align: middle;\n",
              "    }\n",
              "\n",
              "    .dataframe tbody tr th {\n",
              "        vertical-align: top;\n",
              "    }\n",
              "\n",
              "    .dataframe thead th {\n",
              "        text-align: right;\n",
              "    }\n",
              "</style>\n",
              "<table border=\"1\" class=\"dataframe\">\n",
              "  <thead>\n",
              "    <tr style=\"text-align: right;\">\n",
              "      <th></th>\n",
              "      <th>movieId</th>\n",
              "      <th>title</th>\n",
              "      <th>genres</th>\n",
              "      <th>m_nid</th>\n",
              "      <th>genres_vectors</th>\n",
              "    </tr>\n",
              "  </thead>\n",
              "  <tbody>\n",
              "    <tr>\n",
              "      <th>0</th>\n",
              "      <td>1</td>\n",
              "      <td>Toy Story (1995)</td>\n",
              "      <td>Adventure|Animation|Children|Comedy|Fantasy</td>\n",
              "      <td>0</td>\n",
              "      <td>[0.0, 0.0, 1.0, 1.0, 1.0, 1.0, 0.0, 0.0, 0.0, ...</td>\n",
              "    </tr>\n",
              "    <tr>\n",
              "      <th>1</th>\n",
              "      <td>2</td>\n",
              "      <td>Jumanji (1995)</td>\n",
              "      <td>Adventure|Children|Fantasy</td>\n",
              "      <td>1</td>\n",
              "      <td>[0.0, 0.0, 1.0, 0.0, 1.0, 0.0, 0.0, 0.0, 0.0, ...</td>\n",
              "    </tr>\n",
              "    <tr>\n",
              "      <th>2</th>\n",
              "      <td>3</td>\n",
              "      <td>Grumpier Old Men (1995)</td>\n",
              "      <td>Comedy|Romance</td>\n",
              "      <td>2</td>\n",
              "      <td>[0.0, 0.0, 0.0, 0.0, 0.0, 1.0, 0.0, 0.0, 0.0, ...</td>\n",
              "    </tr>\n",
              "    <tr>\n",
              "      <th>3</th>\n",
              "      <td>4</td>\n",
              "      <td>Waiting to Exhale (1995)</td>\n",
              "      <td>Comedy|Drama|Romance</td>\n",
              "      <td>3</td>\n",
              "      <td>[0.0, 0.0, 0.0, 0.0, 0.0, 1.0, 0.0, 0.0, 1.0, ...</td>\n",
              "    </tr>\n",
              "    <tr>\n",
              "      <th>4</th>\n",
              "      <td>5</td>\n",
              "      <td>Father of the Bride Part II (1995)</td>\n",
              "      <td>Comedy</td>\n",
              "      <td>4</td>\n",
              "      <td>[0.0, 0.0, 0.0, 0.0, 0.0, 1.0, 0.0, 0.0, 0.0, ...</td>\n",
              "    </tr>\n",
              "  </tbody>\n",
              "</table>\n",
              "</div>"
            ],
            "text/plain": [
              "   movieId  ...                                     genres_vectors\n",
              "0        1  ...  [0.0, 0.0, 1.0, 1.0, 1.0, 1.0, 0.0, 0.0, 0.0, ...\n",
              "1        2  ...  [0.0, 0.0, 1.0, 0.0, 1.0, 0.0, 0.0, 0.0, 0.0, ...\n",
              "2        3  ...  [0.0, 0.0, 0.0, 0.0, 0.0, 1.0, 0.0, 0.0, 0.0, ...\n",
              "3        4  ...  [0.0, 0.0, 0.0, 0.0, 0.0, 1.0, 0.0, 0.0, 1.0, ...\n",
              "4        5  ...  [0.0, 0.0, 0.0, 0.0, 0.0, 1.0, 0.0, 0.0, 0.0, ...\n",
              "\n",
              "[5 rows x 5 columns]"
            ]
          },
          "metadata": {
            "tags": []
          },
          "execution_count": 20
        }
      ]
    },
    {
      "cell_type": "code",
      "metadata": {
        "id": "PW86qYLBpd9L"
      },
      "source": [
        "import re\n",
        "\n",
        "def get_year(regex, string):\n",
        "  try:\n",
        "    found = re.search(regex,string).group(0)[1:-1]\n",
        "  except AttributeError:\n",
        "    found = ''\n",
        "  return found\n",
        "\n",
        "regex = '\\([0-9]{4}\\)'\n",
        "movies.loc[:,\"launch_year\"] = movies.title.apply(lambda x:get_year(regex,x))"
      ],
      "execution_count": 21,
      "outputs": []
    },
    {
      "cell_type": "code",
      "metadata": {
        "colab": {
          "base_uri": "https://localhost:8080/",
          "height": 289
        },
        "id": "g2GzZYguwMHt",
        "outputId": "46a040fa-ee5f-4d07-b94d-62e5d72cbb62"
      },
      "source": [
        "movies.head()"
      ],
      "execution_count": 22,
      "outputs": [
        {
          "output_type": "execute_result",
          "data": {
            "text/html": [
              "<div>\n",
              "<style scoped>\n",
              "    .dataframe tbody tr th:only-of-type {\n",
              "        vertical-align: middle;\n",
              "    }\n",
              "\n",
              "    .dataframe tbody tr th {\n",
              "        vertical-align: top;\n",
              "    }\n",
              "\n",
              "    .dataframe thead th {\n",
              "        text-align: right;\n",
              "    }\n",
              "</style>\n",
              "<table border=\"1\" class=\"dataframe\">\n",
              "  <thead>\n",
              "    <tr style=\"text-align: right;\">\n",
              "      <th></th>\n",
              "      <th>movieId</th>\n",
              "      <th>title</th>\n",
              "      <th>genres</th>\n",
              "      <th>m_nid</th>\n",
              "      <th>genres_vectors</th>\n",
              "      <th>launch_year</th>\n",
              "    </tr>\n",
              "  </thead>\n",
              "  <tbody>\n",
              "    <tr>\n",
              "      <th>0</th>\n",
              "      <td>1</td>\n",
              "      <td>Toy Story (1995)</td>\n",
              "      <td>Adventure|Animation|Children|Comedy|Fantasy</td>\n",
              "      <td>0</td>\n",
              "      <td>[0.0, 0.0, 1.0, 1.0, 1.0, 1.0, 0.0, 0.0, 0.0, ...</td>\n",
              "      <td>1995</td>\n",
              "    </tr>\n",
              "    <tr>\n",
              "      <th>1</th>\n",
              "      <td>2</td>\n",
              "      <td>Jumanji (1995)</td>\n",
              "      <td>Adventure|Children|Fantasy</td>\n",
              "      <td>1</td>\n",
              "      <td>[0.0, 0.0, 1.0, 0.0, 1.0, 0.0, 0.0, 0.0, 0.0, ...</td>\n",
              "      <td>1995</td>\n",
              "    </tr>\n",
              "    <tr>\n",
              "      <th>2</th>\n",
              "      <td>3</td>\n",
              "      <td>Grumpier Old Men (1995)</td>\n",
              "      <td>Comedy|Romance</td>\n",
              "      <td>2</td>\n",
              "      <td>[0.0, 0.0, 0.0, 0.0, 0.0, 1.0, 0.0, 0.0, 0.0, ...</td>\n",
              "      <td>1995</td>\n",
              "    </tr>\n",
              "    <tr>\n",
              "      <th>3</th>\n",
              "      <td>4</td>\n",
              "      <td>Waiting to Exhale (1995)</td>\n",
              "      <td>Comedy|Drama|Romance</td>\n",
              "      <td>3</td>\n",
              "      <td>[0.0, 0.0, 0.0, 0.0, 0.0, 1.0, 0.0, 0.0, 1.0, ...</td>\n",
              "      <td>1995</td>\n",
              "    </tr>\n",
              "    <tr>\n",
              "      <th>4</th>\n",
              "      <td>5</td>\n",
              "      <td>Father of the Bride Part II (1995)</td>\n",
              "      <td>Comedy</td>\n",
              "      <td>4</td>\n",
              "      <td>[0.0, 0.0, 0.0, 0.0, 0.0, 1.0, 0.0, 0.0, 0.0, ...</td>\n",
              "      <td>1995</td>\n",
              "    </tr>\n",
              "  </tbody>\n",
              "</table>\n",
              "</div>"
            ],
            "text/plain": [
              "   movieId  ... launch_year\n",
              "0        1  ...        1995\n",
              "1        2  ...        1995\n",
              "2        3  ...        1995\n",
              "3        4  ...        1995\n",
              "4        5  ...        1995\n",
              "\n",
              "[5 rows x 6 columns]"
            ]
          },
          "metadata": {
            "tags": []
          },
          "execution_count": 22
        }
      ]
    },
    {
      "cell_type": "code",
      "metadata": {
        "colab": {
          "base_uri": "https://localhost:8080/",
          "height": 289
        },
        "id": "p9IIlRtqv0Rx",
        "outputId": "6c46c3b1-c7f0-45cd-af27-169f07579059"
      },
      "source": [
        "movies.loc[movies.launch_year==\"\",\"launch_year\"] = 0\n",
        "movies.loc[:,\"launch_year\"] = movies.launch_year.astype(\"int\")\n",
        "movies.loc[movies.launch_year==0].head()"
      ],
      "execution_count": 23,
      "outputs": [
        {
          "output_type": "execute_result",
          "data": {
            "text/html": [
              "<div>\n",
              "<style scoped>\n",
              "    .dataframe tbody tr th:only-of-type {\n",
              "        vertical-align: middle;\n",
              "    }\n",
              "\n",
              "    .dataframe tbody tr th {\n",
              "        vertical-align: top;\n",
              "    }\n",
              "\n",
              "    .dataframe thead th {\n",
              "        text-align: right;\n",
              "    }\n",
              "</style>\n",
              "<table border=\"1\" class=\"dataframe\">\n",
              "  <thead>\n",
              "    <tr style=\"text-align: right;\">\n",
              "      <th></th>\n",
              "      <th>movieId</th>\n",
              "      <th>title</th>\n",
              "      <th>genres</th>\n",
              "      <th>m_nid</th>\n",
              "      <th>genres_vectors</th>\n",
              "      <th>launch_year</th>\n",
              "    </tr>\n",
              "  </thead>\n",
              "  <tbody>\n",
              "    <tr>\n",
              "      <th>6059</th>\n",
              "      <td>40697</td>\n",
              "      <td>Babylon 5</td>\n",
              "      <td>Sci-Fi</td>\n",
              "      <td>6059</td>\n",
              "      <td>[0.0, 0.0, 0.0, 0.0, 0.0, 0.0, 0.0, 0.0, 0.0, ...</td>\n",
              "      <td>0</td>\n",
              "    </tr>\n",
              "    <tr>\n",
              "      <th>9031</th>\n",
              "      <td>140956</td>\n",
              "      <td>Ready Player One</td>\n",
              "      <td>Action|Sci-Fi|Thriller</td>\n",
              "      <td>9031</td>\n",
              "      <td>[0.0, 1.0, 0.0, 0.0, 0.0, 0.0, 0.0, 0.0, 0.0, ...</td>\n",
              "      <td>0</td>\n",
              "    </tr>\n",
              "    <tr>\n",
              "      <th>9091</th>\n",
              "      <td>143410</td>\n",
              "      <td>Hyena Road</td>\n",
              "      <td>(no genres listed)</td>\n",
              "      <td>9091</td>\n",
              "      <td>[1.0, 0.0, 0.0, 0.0, 0.0, 0.0, 0.0, 0.0, 0.0, ...</td>\n",
              "      <td>0</td>\n",
              "    </tr>\n",
              "    <tr>\n",
              "      <th>9138</th>\n",
              "      <td>147250</td>\n",
              "      <td>The Adventures of Sherlock Holmes and Doctor W...</td>\n",
              "      <td>(no genres listed)</td>\n",
              "      <td>9138</td>\n",
              "      <td>[1.0, 0.0, 0.0, 0.0, 0.0, 0.0, 0.0, 0.0, 0.0, ...</td>\n",
              "      <td>0</td>\n",
              "    </tr>\n",
              "    <tr>\n",
              "      <th>9179</th>\n",
              "      <td>149334</td>\n",
              "      <td>Nocturnal Animals</td>\n",
              "      <td>Drama|Thriller</td>\n",
              "      <td>9179</td>\n",
              "      <td>[0.0, 0.0, 0.0, 0.0, 0.0, 0.0, 0.0, 0.0, 1.0, ...</td>\n",
              "      <td>0</td>\n",
              "    </tr>\n",
              "  </tbody>\n",
              "</table>\n",
              "</div>"
            ],
            "text/plain": [
              "      movieId  ... launch_year\n",
              "6059    40697  ...           0\n",
              "9031   140956  ...           0\n",
              "9091   143410  ...           0\n",
              "9138   147250  ...           0\n",
              "9179   149334  ...           0\n",
              "\n",
              "[5 rows x 6 columns]"
            ]
          },
          "metadata": {
            "tags": []
          },
          "execution_count": 23
        }
      ]
    },
    {
      "cell_type": "code",
      "metadata": {
        "id": "v1BQV748xMD0"
      },
      "source": [
        "movies.loc[movies.launch_year != 0,\"movie_title\"] = movies.loc[movies.launch_year!= 0,\"title\"].apply(lambda x:x[:-6].strip()) \n",
        "movies.loc[movies.launch_year== 0,\"movie_title\"] = movies.loc[movies.launch_year== 0,\"title\"]"
      ],
      "execution_count": 24,
      "outputs": []
    },
    {
      "cell_type": "code",
      "metadata": {
        "colab": {
          "base_uri": "https://localhost:8080/",
          "height": 374
        },
        "id": "p085FvUSrKmw",
        "outputId": "934f6936-92f2-4879-8e17-6f9a93571438"
      },
      "source": [
        "movies.head()"
      ],
      "execution_count": 25,
      "outputs": [
        {
          "output_type": "execute_result",
          "data": {
            "text/html": [
              "<div>\n",
              "<style scoped>\n",
              "    .dataframe tbody tr th:only-of-type {\n",
              "        vertical-align: middle;\n",
              "    }\n",
              "\n",
              "    .dataframe tbody tr th {\n",
              "        vertical-align: top;\n",
              "    }\n",
              "\n",
              "    .dataframe thead th {\n",
              "        text-align: right;\n",
              "    }\n",
              "</style>\n",
              "<table border=\"1\" class=\"dataframe\">\n",
              "  <thead>\n",
              "    <tr style=\"text-align: right;\">\n",
              "      <th></th>\n",
              "      <th>movieId</th>\n",
              "      <th>title</th>\n",
              "      <th>genres</th>\n",
              "      <th>m_nid</th>\n",
              "      <th>genres_vectors</th>\n",
              "      <th>launch_year</th>\n",
              "      <th>movie_title</th>\n",
              "    </tr>\n",
              "  </thead>\n",
              "  <tbody>\n",
              "    <tr>\n",
              "      <th>0</th>\n",
              "      <td>1</td>\n",
              "      <td>Toy Story (1995)</td>\n",
              "      <td>Adventure|Animation|Children|Comedy|Fantasy</td>\n",
              "      <td>0</td>\n",
              "      <td>[0.0, 0.0, 1.0, 1.0, 1.0, 1.0, 0.0, 0.0, 0.0, ...</td>\n",
              "      <td>1995</td>\n",
              "      <td>Toy Story</td>\n",
              "    </tr>\n",
              "    <tr>\n",
              "      <th>1</th>\n",
              "      <td>2</td>\n",
              "      <td>Jumanji (1995)</td>\n",
              "      <td>Adventure|Children|Fantasy</td>\n",
              "      <td>1</td>\n",
              "      <td>[0.0, 0.0, 1.0, 0.0, 1.0, 0.0, 0.0, 0.0, 0.0, ...</td>\n",
              "      <td>1995</td>\n",
              "      <td>Jumanji</td>\n",
              "    </tr>\n",
              "    <tr>\n",
              "      <th>2</th>\n",
              "      <td>3</td>\n",
              "      <td>Grumpier Old Men (1995)</td>\n",
              "      <td>Comedy|Romance</td>\n",
              "      <td>2</td>\n",
              "      <td>[0.0, 0.0, 0.0, 0.0, 0.0, 1.0, 0.0, 0.0, 0.0, ...</td>\n",
              "      <td>1995</td>\n",
              "      <td>Grumpier Old Men</td>\n",
              "    </tr>\n",
              "    <tr>\n",
              "      <th>3</th>\n",
              "      <td>4</td>\n",
              "      <td>Waiting to Exhale (1995)</td>\n",
              "      <td>Comedy|Drama|Romance</td>\n",
              "      <td>3</td>\n",
              "      <td>[0.0, 0.0, 0.0, 0.0, 0.0, 1.0, 0.0, 0.0, 1.0, ...</td>\n",
              "      <td>1995</td>\n",
              "      <td>Waiting to Exhale</td>\n",
              "    </tr>\n",
              "    <tr>\n",
              "      <th>4</th>\n",
              "      <td>5</td>\n",
              "      <td>Father of the Bride Part II (1995)</td>\n",
              "      <td>Comedy</td>\n",
              "      <td>4</td>\n",
              "      <td>[0.0, 0.0, 0.0, 0.0, 0.0, 1.0, 0.0, 0.0, 0.0, ...</td>\n",
              "      <td>1995</td>\n",
              "      <td>Father of the Bride Part II</td>\n",
              "    </tr>\n",
              "  </tbody>\n",
              "</table>\n",
              "</div>"
            ],
            "text/plain": [
              "   movieId  ...                  movie_title\n",
              "0        1  ...                    Toy Story\n",
              "1        2  ...                      Jumanji\n",
              "2        3  ...             Grumpier Old Men\n",
              "3        4  ...            Waiting to Exhale\n",
              "4        5  ...  Father of the Bride Part II\n",
              "\n",
              "[5 rows x 7 columns]"
            ]
          },
          "metadata": {
            "tags": []
          },
          "execution_count": 25
        }
      ]
    },
    {
      "cell_type": "code",
      "metadata": {
        "colab": {
          "base_uri": "https://localhost:8080/",
          "height": 234,
          "referenced_widgets": [
            "72418c9038ac4534a9f8561ce8472208",
            "99d39497335f41d58b495595d04c2fe6",
            "7a0576386ab749738b610aa2b0af098a",
            "d537cfff29904bffa716228a2a422699",
            "e643d35e2846434a89b94cf8af4a6501",
            "65958eb801a24d62b81301c8d2fda67c",
            "73244d1a6b82475ea0aa53c32f7ebeba",
            "10293aa8b95641da9df938b3d3da097a",
            "5b54ea7b2e3d4447b8334a3a4ecafd0c",
            "403a28775c2245f1885e462b6c054cde",
            "0320878323284a69b009aa26d58a270d",
            "e70c84cdcf19401698824e45047c606c",
            "a2292071be1443fb9bb689f436b0b32d",
            "356e8068f387411791f1d7f3a13fe034",
            "7f09a10cfc324017bf99eff4b5a465aa",
            "ae89e60295e94cdfb59c11ca38195d64"
          ]
        },
        "id": "tO5RK1M6JiGg",
        "outputId": "febbde7c-ef64-4b96-8b1c-538604ee0542"
      },
      "source": [
        "### 특수문자 제외 및 단어별 배열로 변경\n",
        "# list_title_frac= movies.movie_title.apply(lambda x:re.findall(regex,x)).to_list()\n",
        "\n",
        "vocab_size = 24000\n",
        "method = \"bpe\"\n",
        "\n",
        "input_file_path = os.path.join(data_path,\"title_tokenizer_input_{}_{}.txt\".format(method,vocab_size))\n",
        "tokenizer_name = os.path.join(data_path,\"title_tokenizer_{}_{}\".format(method, vocab_size))\n",
        "tokenizer_name_model = os.path.join(data_path,\"title_tokenizer_{}_{}.model\".format(method, vocab_size))\n",
        "\n",
        "### make_input4tokenizer\n",
        "# sentences = list(map(lambda x:\" \".join(x),list_title_frac))\n",
        "sentences = movies.movie_title.to_list()\n",
        "\n",
        "\n",
        "with open(input_file_path,'w',encoding='utf8') as f:\n",
        "  for sentence in tqdm_notebook(sentences):\n",
        "    f.write(sentence+'\\n')\n",
        "\n",
        "### train_tokenizer\n",
        "templates = ' --input={} \\\n",
        "    --pad_id=0 \\\n",
        "    --bos_id=1 \\\n",
        "    --eos_id=2 \\\n",
        "    --unk_id=3 \\\n",
        "    --model_prefix={} \\\n",
        "    --vocab_size={} \\\n",
        "    --character_coverage=1.0 \\\n",
        "    --model_type={}'\n",
        "\n",
        "cmd = templates.format(input_file_path, tokenizer_name, vocab_size, method)\n",
        "spm.SentencePieceTrainer.Train(cmd)\n",
        "print(\"title_tokenizer {} is generated\".format(tokenizer_name))\n",
        "sp = spm.SentencePieceProcessor()\n",
        "sp.Load(tokenizer_name_model)\n",
        "\n",
        "\n",
        "def get_tokens_from_sentences(sp, sentences):\n",
        "    tokenized_sentences = []\n",
        "    for sentence in sentences:\n",
        "        tokens = sp.EncodeAsPieces(sentence)\n",
        "        new_tokens = []\n",
        "        for token in tokens:\n",
        "            token = token.replace(\"▁\", \"\")\n",
        "            # if len(token) > 1:\n",
        "            new_tokens.append(token)\n",
        "        # if len(new_tokens) > 1:\n",
        "        tokenized_sentences.append(new_tokens)\n",
        "\n",
        "    return tokenized_sentences\n",
        "\n",
        "\n",
        "def get_tokens_from_sentence(sp, sentence):\n",
        "    new_tokens = []\n",
        "    tokens = sp.EncodeAsPieces(sentence)\n",
        "    for token in tokens:\n",
        "        token = token.replace(\"▁\", \"\")\n",
        "        if len(token) > 1:\n",
        "            new_tokens.append(token)\n",
        "    return new_tokens\n",
        "\n",
        "tokenized_sentences = get_tokens_from_sentences(sp,sentences)\n",
        "\n",
        "### train w2v\n",
        "w2v_name = os.path.join(data_path,\"title_w2v_{}_{}.model\".format(method,vocab_size))\n",
        "print(\"start train_title_w2v....\")\n",
        "\n",
        "size = 200\n",
        "window =5\n",
        "min_count = 2\n",
        "workers = 8\n",
        "sg = 1\n",
        "hs = 1\n",
        "\n",
        "model = w2v(tokenized_sentences,size=size,window=window,min_count=min_count,workers=workers,sg=sg,hs=hs)\n",
        "model.save(w2v_name)\n",
        "print(\"title_w2v {} is generated\".format(w2v_name))\n",
        "\n",
        "# ### get embedding\n",
        "\n",
        "sp = spm.SentencePieceProcessor()\n",
        "sp.Load(tokenizer_name_model)\n",
        "\n",
        "w2v_model = w2v.load(w2v_name)\n",
        "\n",
        "sentence_embs = []\n",
        "# # 학습이 안되는 벡터들에 대해서는 0값이 나으므로 0벡터로 input 처리 수행\n",
        "for sentence in tqdm_notebook(tokenized_sentences):\n",
        "  word_embs = []\n",
        "  for p_word in sentence:\n",
        "    try:\n",
        "      word_embs.append(w2v_model.wv[p_word])\n",
        "    except KeyError:\n",
        "      pass\n",
        "  if len(word_embs):\n",
        "    p_emb = np.average(word_embs, axis=0).tolist()\n",
        "  else:\n",
        "    p_emb = np.zeros(200).tolist()\n",
        "  sentence_embs.append(p_emb)"
      ],
      "execution_count": 26,
      "outputs": [
        {
          "output_type": "stream",
          "text": [
            "/usr/local/lib/python3.6/dist-packages/ipykernel_launcher.py:17: TqdmDeprecationWarning: This function will be removed in tqdm==5.0.0\n",
            "Please use `tqdm.notebook.tqdm` instead of `tqdm.tqdm_notebook`\n"
          ],
          "name": "stderr"
        },
        {
          "output_type": "display_data",
          "data": {
            "application/vnd.jupyter.widget-view+json": {
              "model_id": "72418c9038ac4534a9f8561ce8472208",
              "version_minor": 0,
              "version_major": 2
            },
            "text/plain": [
              "HBox(children=(FloatProgress(value=0.0, max=9742.0), HTML(value='')))"
            ]
          },
          "metadata": {
            "tags": []
          }
        },
        {
          "output_type": "stream",
          "text": [
            "\n",
            "title_tokenizer /gdrive/MyDrive/colab/Factorization_Machine/data/title_tokenizer_bpe_24000 is generated\n",
            "start train_title_w2v....\n",
            "title_w2v /gdrive/MyDrive/colab/Factorization_Machine/data/title_w2v_bpe_24000.model is generated\n"
          ],
          "name": "stdout"
        },
        {
          "output_type": "stream",
          "text": [
            "/usr/local/lib/python3.6/dist-packages/ipykernel_launcher.py:80: TqdmDeprecationWarning: This function will be removed in tqdm==5.0.0\n",
            "Please use `tqdm.notebook.tqdm` instead of `tqdm.tqdm_notebook`\n"
          ],
          "name": "stderr"
        },
        {
          "output_type": "display_data",
          "data": {
            "application/vnd.jupyter.widget-view+json": {
              "model_id": "5b54ea7b2e3d4447b8334a3a4ecafd0c",
              "version_minor": 0,
              "version_major": 2
            },
            "text/plain": [
              "HBox(children=(FloatProgress(value=0.0, max=9742.0), HTML(value='')))"
            ]
          },
          "metadata": {
            "tags": []
          }
        },
        {
          "output_type": "stream",
          "text": [
            "\n"
          ],
          "name": "stdout"
        }
      ]
    },
    {
      "cell_type": "code",
      "metadata": {
        "colab": {
          "base_uri": "https://localhost:8080/",
          "height": 411
        },
        "id": "6K0qXH2dJn7T",
        "outputId": "9ad05d27-411b-422d-e203-ef4e830da342"
      },
      "source": [
        "movies.loc[:,\"title_vector\"] = pd.Series(sentence_embs)\n",
        "movies.head()"
      ],
      "execution_count": 27,
      "outputs": [
        {
          "output_type": "execute_result",
          "data": {
            "text/html": [
              "<div>\n",
              "<style scoped>\n",
              "    .dataframe tbody tr th:only-of-type {\n",
              "        vertical-align: middle;\n",
              "    }\n",
              "\n",
              "    .dataframe tbody tr th {\n",
              "        vertical-align: top;\n",
              "    }\n",
              "\n",
              "    .dataframe thead th {\n",
              "        text-align: right;\n",
              "    }\n",
              "</style>\n",
              "<table border=\"1\" class=\"dataframe\">\n",
              "  <thead>\n",
              "    <tr style=\"text-align: right;\">\n",
              "      <th></th>\n",
              "      <th>movieId</th>\n",
              "      <th>title</th>\n",
              "      <th>genres</th>\n",
              "      <th>m_nid</th>\n",
              "      <th>genres_vectors</th>\n",
              "      <th>launch_year</th>\n",
              "      <th>movie_title</th>\n",
              "      <th>title_vector</th>\n",
              "    </tr>\n",
              "  </thead>\n",
              "  <tbody>\n",
              "    <tr>\n",
              "      <th>0</th>\n",
              "      <td>1</td>\n",
              "      <td>Toy Story (1995)</td>\n",
              "      <td>Adventure|Animation|Children|Comedy|Fantasy</td>\n",
              "      <td>0</td>\n",
              "      <td>[0.0, 0.0, 1.0, 1.0, 1.0, 1.0, 0.0, 0.0, 0.0, ...</td>\n",
              "      <td>1995</td>\n",
              "      <td>Toy Story</td>\n",
              "      <td>[-0.0016190423630177975, 0.020851947367191315,...</td>\n",
              "    </tr>\n",
              "    <tr>\n",
              "      <th>1</th>\n",
              "      <td>2</td>\n",
              "      <td>Jumanji (1995)</td>\n",
              "      <td>Adventure|Children|Fantasy</td>\n",
              "      <td>1</td>\n",
              "      <td>[0.0, 0.0, 1.0, 0.0, 1.0, 0.0, 0.0, 0.0, 0.0, ...</td>\n",
              "      <td>1995</td>\n",
              "      <td>Jumanji</td>\n",
              "      <td>[-0.0073105162009596825, 0.0023418047931045294...</td>\n",
              "    </tr>\n",
              "    <tr>\n",
              "      <th>2</th>\n",
              "      <td>3</td>\n",
              "      <td>Grumpier Old Men (1995)</td>\n",
              "      <td>Comedy|Romance</td>\n",
              "      <td>2</td>\n",
              "      <td>[0.0, 0.0, 0.0, 0.0, 0.0, 1.0, 0.0, 0.0, 0.0, ...</td>\n",
              "      <td>1995</td>\n",
              "      <td>Grumpier Old Men</td>\n",
              "      <td>[-0.02799421176314354, -0.0012682080268859863,...</td>\n",
              "    </tr>\n",
              "    <tr>\n",
              "      <th>3</th>\n",
              "      <td>4</td>\n",
              "      <td>Waiting to Exhale (1995)</td>\n",
              "      <td>Comedy|Drama|Romance</td>\n",
              "      <td>3</td>\n",
              "      <td>[0.0, 0.0, 0.0, 0.0, 0.0, 1.0, 0.0, 0.0, 1.0, ...</td>\n",
              "      <td>1995</td>\n",
              "      <td>Waiting to Exhale</td>\n",
              "      <td>[0.010159829631447792, 0.00872352346777916, 0....</td>\n",
              "    </tr>\n",
              "    <tr>\n",
              "      <th>4</th>\n",
              "      <td>5</td>\n",
              "      <td>Father of the Bride Part II (1995)</td>\n",
              "      <td>Comedy</td>\n",
              "      <td>4</td>\n",
              "      <td>[0.0, 0.0, 0.0, 0.0, 0.0, 1.0, 0.0, 0.0, 0.0, ...</td>\n",
              "      <td>1995</td>\n",
              "      <td>Father of the Bride Part II</td>\n",
              "      <td>[-0.009705641306936741, -0.001838729134760797,...</td>\n",
              "    </tr>\n",
              "  </tbody>\n",
              "</table>\n",
              "</div>"
            ],
            "text/plain": [
              "   movieId  ...                                       title_vector\n",
              "0        1  ...  [-0.0016190423630177975, 0.020851947367191315,...\n",
              "1        2  ...  [-0.0073105162009596825, 0.0023418047931045294...\n",
              "2        3  ...  [-0.02799421176314354, -0.0012682080268859863,...\n",
              "3        4  ...  [0.010159829631447792, 0.00872352346777916, 0....\n",
              "4        5  ...  [-0.009705641306936741, -0.001838729134760797,...\n",
              "\n",
              "[5 rows x 8 columns]"
            ]
          },
          "metadata": {
            "tags": []
          },
          "execution_count": 27
        }
      ]
    },
    {
      "cell_type": "code",
      "metadata": {
        "colab": {
          "base_uri": "https://localhost:8080/",
          "height": 204
        },
        "id": "KZ9kbv8P5g6T",
        "outputId": "a90ae9b5-f7cb-447d-f457-e8967fb74d54"
      },
      "source": [
        "tags.head()"
      ],
      "execution_count": 28,
      "outputs": [
        {
          "output_type": "execute_result",
          "data": {
            "text/html": [
              "<div>\n",
              "<style scoped>\n",
              "    .dataframe tbody tr th:only-of-type {\n",
              "        vertical-align: middle;\n",
              "    }\n",
              "\n",
              "    .dataframe tbody tr th {\n",
              "        vertical-align: top;\n",
              "    }\n",
              "\n",
              "    .dataframe thead th {\n",
              "        text-align: right;\n",
              "    }\n",
              "</style>\n",
              "<table border=\"1\" class=\"dataframe\">\n",
              "  <thead>\n",
              "    <tr style=\"text-align: right;\">\n",
              "      <th></th>\n",
              "      <th>userId</th>\n",
              "      <th>movieId</th>\n",
              "      <th>tag</th>\n",
              "      <th>timestamp</th>\n",
              "      <th>u_nid</th>\n",
              "      <th>m_nid</th>\n",
              "    </tr>\n",
              "  </thead>\n",
              "  <tbody>\n",
              "    <tr>\n",
              "      <th>0</th>\n",
              "      <td>2</td>\n",
              "      <td>60756</td>\n",
              "      <td>funny</td>\n",
              "      <td>1445714994</td>\n",
              "      <td>1</td>\n",
              "      <td>6801</td>\n",
              "    </tr>\n",
              "    <tr>\n",
              "      <th>1</th>\n",
              "      <td>2</td>\n",
              "      <td>60756</td>\n",
              "      <td>Highly quotable</td>\n",
              "      <td>1445714996</td>\n",
              "      <td>1</td>\n",
              "      <td>6801</td>\n",
              "    </tr>\n",
              "    <tr>\n",
              "      <th>2</th>\n",
              "      <td>2</td>\n",
              "      <td>60756</td>\n",
              "      <td>will ferrell</td>\n",
              "      <td>1445714992</td>\n",
              "      <td>1</td>\n",
              "      <td>6801</td>\n",
              "    </tr>\n",
              "    <tr>\n",
              "      <th>3</th>\n",
              "      <td>2</td>\n",
              "      <td>89774</td>\n",
              "      <td>Boxing story</td>\n",
              "      <td>1445715207</td>\n",
              "      <td>1</td>\n",
              "      <td>7697</td>\n",
              "    </tr>\n",
              "    <tr>\n",
              "      <th>4</th>\n",
              "      <td>2</td>\n",
              "      <td>89774</td>\n",
              "      <td>MMA</td>\n",
              "      <td>1445715200</td>\n",
              "      <td>1</td>\n",
              "      <td>7697</td>\n",
              "    </tr>\n",
              "  </tbody>\n",
              "</table>\n",
              "</div>"
            ],
            "text/plain": [
              "   userId  movieId              tag   timestamp  u_nid  m_nid\n",
              "0       2    60756            funny  1445714994      1   6801\n",
              "1       2    60756  Highly quotable  1445714996      1   6801\n",
              "2       2    60756     will ferrell  1445714992      1   6801\n",
              "3       2    89774     Boxing story  1445715207      1   7697\n",
              "4       2    89774              MMA  1445715200      1   7697"
            ]
          },
          "metadata": {
            "tags": []
          },
          "execution_count": 28
        }
      ]
    },
    {
      "cell_type": "code",
      "metadata": {
        "id": "fhrlcKGv5gzb"
      },
      "source": [
        "from collections import OrderedDict\n",
        "set_tag_user_movie = set(zip(tags.userId, tags.movieId))\n",
        "\n",
        "dict_tag_string = OrderedDict()\n",
        "for user, movie in set_tag_user_movie:\n",
        "  list_tag = tags.loc[np.logical_and(tags.userId==user,tags.movieId==movie),\"tag\"].tolist()\n",
        "  dict_tag_string[(user,movie)] = list_tag\n",
        "\n",
        "dict_tag_string = OrderedDict(sorted(dict_tag_string.items()))"
      ],
      "execution_count": 29,
      "outputs": []
    },
    {
      "cell_type": "code",
      "metadata": {
        "colab": {
          "base_uri": "https://localhost:8080/",
          "height": 204
        },
        "id": "MkNpy6HEKrNm",
        "outputId": "adb7e4cf-eb19-4610-975c-cb8041b89d78"
      },
      "source": [
        "user_series = pd.Series(list(map(lambda x:x[0],dict_tag_string.keys())))\n",
        "movie_series = pd.Series(list(map(lambda x:x[1],dict_tag_string.keys()))) \n",
        "tag_series = pd.Series(list(dict_tag_string.values()))\n",
        "\n",
        "df_tag_list = pd.concat([user_series,movie_series,tag_series],axis=1)\n",
        "df_tag_list.columns = [\"userId\",\"movieId\",\"tags\"]\n",
        "df_tag_list.head()"
      ],
      "execution_count": 30,
      "outputs": [
        {
          "output_type": "execute_result",
          "data": {
            "text/html": [
              "<div>\n",
              "<style scoped>\n",
              "    .dataframe tbody tr th:only-of-type {\n",
              "        vertical-align: middle;\n",
              "    }\n",
              "\n",
              "    .dataframe tbody tr th {\n",
              "        vertical-align: top;\n",
              "    }\n",
              "\n",
              "    .dataframe thead th {\n",
              "        text-align: right;\n",
              "    }\n",
              "</style>\n",
              "<table border=\"1\" class=\"dataframe\">\n",
              "  <thead>\n",
              "    <tr style=\"text-align: right;\">\n",
              "      <th></th>\n",
              "      <th>userId</th>\n",
              "      <th>movieId</th>\n",
              "      <th>tags</th>\n",
              "    </tr>\n",
              "  </thead>\n",
              "  <tbody>\n",
              "    <tr>\n",
              "      <th>0</th>\n",
              "      <td>2</td>\n",
              "      <td>60756</td>\n",
              "      <td>[funny, Highly quotable, will ferrell]</td>\n",
              "    </tr>\n",
              "    <tr>\n",
              "      <th>1</th>\n",
              "      <td>2</td>\n",
              "      <td>89774</td>\n",
              "      <td>[Boxing story, MMA, Tom Hardy]</td>\n",
              "    </tr>\n",
              "    <tr>\n",
              "      <th>2</th>\n",
              "      <td>2</td>\n",
              "      <td>106782</td>\n",
              "      <td>[drugs, Leonardo DiCaprio, Martin Scorsese]</td>\n",
              "    </tr>\n",
              "    <tr>\n",
              "      <th>3</th>\n",
              "      <td>7</td>\n",
              "      <td>48516</td>\n",
              "      <td>[way too long]</td>\n",
              "    </tr>\n",
              "    <tr>\n",
              "      <th>4</th>\n",
              "      <td>18</td>\n",
              "      <td>431</td>\n",
              "      <td>[Al Pacino, gangster, mafia]</td>\n",
              "    </tr>\n",
              "  </tbody>\n",
              "</table>\n",
              "</div>"
            ],
            "text/plain": [
              "   userId  movieId                                         tags\n",
              "0       2    60756       [funny, Highly quotable, will ferrell]\n",
              "1       2    89774               [Boxing story, MMA, Tom Hardy]\n",
              "2       2   106782  [drugs, Leonardo DiCaprio, Martin Scorsese]\n",
              "3       7    48516                               [way too long]\n",
              "4      18      431                 [Al Pacino, gangster, mafia]"
            ]
          },
          "metadata": {
            "tags": []
          },
          "execution_count": 30
        }
      ]
    },
    {
      "cell_type": "code",
      "metadata": {
        "colab": {
          "base_uri": "https://localhost:8080/",
          "height": 204
        },
        "id": "RH0IhD-2NWd4",
        "outputId": "b4d7395f-f450-4932-db90-b59743f0070d"
      },
      "source": [
        "ratings = pd.merge(left=ratings, right=df_tag_list, on=[\"userId\",\"movieId\"], how=\"left\")\n",
        "ratings.loc[:,\"tags\"]= ratings.tags.fillna(\" \")\n",
        "ratings.head()"
      ],
      "execution_count": 31,
      "outputs": [
        {
          "output_type": "execute_result",
          "data": {
            "text/html": [
              "<div>\n",
              "<style scoped>\n",
              "    .dataframe tbody tr th:only-of-type {\n",
              "        vertical-align: middle;\n",
              "    }\n",
              "\n",
              "    .dataframe tbody tr th {\n",
              "        vertical-align: top;\n",
              "    }\n",
              "\n",
              "    .dataframe thead th {\n",
              "        text-align: right;\n",
              "    }\n",
              "</style>\n",
              "<table border=\"1\" class=\"dataframe\">\n",
              "  <thead>\n",
              "    <tr style=\"text-align: right;\">\n",
              "      <th></th>\n",
              "      <th>userId</th>\n",
              "      <th>movieId</th>\n",
              "      <th>rating</th>\n",
              "      <th>timestamp</th>\n",
              "      <th>u_nid</th>\n",
              "      <th>m_nid</th>\n",
              "      <th>b4_timestamp</th>\n",
              "      <th>m_count</th>\n",
              "      <th>last_rate_vector</th>\n",
              "      <th>tags</th>\n",
              "    </tr>\n",
              "  </thead>\n",
              "  <tbody>\n",
              "    <tr>\n",
              "      <th>0</th>\n",
              "      <td>1</td>\n",
              "      <td>1</td>\n",
              "      <td>4.0</td>\n",
              "      <td>964982703</td>\n",
              "      <td>0</td>\n",
              "      <td>0</td>\n",
              "      <td>964982681</td>\n",
              "      <td>4</td>\n",
              "      <td>[0.0, 0.0, 0.0, 0.0, 0.0, 0.0, 0.0, 0.0, 0.0, ...</td>\n",
              "      <td></td>\n",
              "    </tr>\n",
              "    <tr>\n",
              "      <th>1</th>\n",
              "      <td>1</td>\n",
              "      <td>3</td>\n",
              "      <td>4.0</td>\n",
              "      <td>964981247</td>\n",
              "      <td>0</td>\n",
              "      <td>2</td>\n",
              "      <td>964981230</td>\n",
              "      <td>1</td>\n",
              "      <td>[0.0, 0.0, 0.0, 0.0, 0.0, 0.0, 0.0, 0.0, 0.0, ...</td>\n",
              "      <td></td>\n",
              "    </tr>\n",
              "    <tr>\n",
              "      <th>2</th>\n",
              "      <td>1</td>\n",
              "      <td>6</td>\n",
              "      <td>4.0</td>\n",
              "      <td>964982224</td>\n",
              "      <td>0</td>\n",
              "      <td>5</td>\n",
              "      <td>964982211</td>\n",
              "      <td>1</td>\n",
              "      <td>[0.0, 0.0, 0.0, 0.0, 0.0, 0.0, 0.0, 0.0, 0.0, ...</td>\n",
              "      <td></td>\n",
              "    </tr>\n",
              "    <tr>\n",
              "      <th>3</th>\n",
              "      <td>1</td>\n",
              "      <td>47</td>\n",
              "      <td>5.0</td>\n",
              "      <td>964983815</td>\n",
              "      <td>0</td>\n",
              "      <td>43</td>\n",
              "      <td>964983793</td>\n",
              "      <td>1</td>\n",
              "      <td>[0.0, 0.0, 0.0, 0.0, 0.0, 0.0, 0.0, 0.0, 0.0, ...</td>\n",
              "      <td></td>\n",
              "    </tr>\n",
              "    <tr>\n",
              "      <th>4</th>\n",
              "      <td>1</td>\n",
              "      <td>50</td>\n",
              "      <td>5.0</td>\n",
              "      <td>964982931</td>\n",
              "      <td>0</td>\n",
              "      <td>46</td>\n",
              "      <td>964982903</td>\n",
              "      <td>2</td>\n",
              "      <td>[0.0, 0.0, 0.0, 0.0, 0.0, 0.0, 0.0, 0.0, 0.0, ...</td>\n",
              "      <td></td>\n",
              "    </tr>\n",
              "  </tbody>\n",
              "</table>\n",
              "</div>"
            ],
            "text/plain": [
              "   userId  movieId  ...                                   last_rate_vector  tags\n",
              "0       1        1  ...  [0.0, 0.0, 0.0, 0.0, 0.0, 0.0, 0.0, 0.0, 0.0, ...      \n",
              "1       1        3  ...  [0.0, 0.0, 0.0, 0.0, 0.0, 0.0, 0.0, 0.0, 0.0, ...      \n",
              "2       1        6  ...  [0.0, 0.0, 0.0, 0.0, 0.0, 0.0, 0.0, 0.0, 0.0, ...      \n",
              "3       1       47  ...  [0.0, 0.0, 0.0, 0.0, 0.0, 0.0, 0.0, 0.0, 0.0, ...      \n",
              "4       1       50  ...  [0.0, 0.0, 0.0, 0.0, 0.0, 0.0, 0.0, 0.0, 0.0, ...      \n",
              "\n",
              "[5 rows x 10 columns]"
            ]
          },
          "metadata": {
            "tags": []
          },
          "execution_count": 31
        }
      ]
    },
    {
      "cell_type": "code",
      "metadata": {
        "colab": {
          "base_uri": "https://localhost:8080/",
          "height": 234,
          "referenced_widgets": [
            "b1f1417296bf4facb0258506f2dd5837",
            "6cb5f51dee43418f9008a47de03e2ab3",
            "1b05daca15dc4628b27bff07571c2b90",
            "c86adc6fbde644a8a9a162b474f98686",
            "d5733a40823144a8999992d66018d5f1",
            "ba4564a23cf548cdb3e459e35c5f8f48",
            "169e0cf0e1594d4790cd52a425b7512d",
            "c85f1e09b55843e78d296a7ba2f5f809",
            "a96cc74c8bc14075858030d2feb07487",
            "5ed906beca2045d9a10c362a17657ad9",
            "da53df61dbef423294d8e646be7634c9",
            "24763c38dda74fe3918b8e619e602d74",
            "d3d3150fa04b498ba5f744452dde0977",
            "9778410b0bdb4674be5f5862ff4d50e9",
            "75a06f9947424086bf8afbb10dcb05a6",
            "ab26a7ffea2c4bcfa8ca4fa1a82da6db"
          ]
        },
        "id": "UR_hx78Y5gpY",
        "outputId": "92cb5e6b-3c5d-48a9-c084-419ff7ea254c"
      },
      "source": [
        "### 특수문자 제외 및 단어별 배열로 변경\n",
        "# list_title_frac= movies.movie_title.apply(lambda x:re.findall(regex,x)).to_list()\n",
        "\n",
        "vocab_size = 100\n",
        "method = \"bpe\"\n",
        "\n",
        "input_file_path = os.path.join(data_path,\"tag_tokenizer_input_{}_{}.txt\".format(method,vocab_size))\n",
        "tokenizer_name = os.path.join(data_path,\"tag_tokenizer_{}_{}\".format(method, vocab_size))\n",
        "tokenizer_name_model = os.path.join(data_path,\"tag_tokenizer_{}_{}.model\".format(method, vocab_size))\n",
        "\n",
        "### make_input4tokenizer\n",
        "# sentences = list(map(lambda x:\" \".join(x),list_title_frac))\n",
        "tag_sentences = ratings.tags.to_list()\n",
        "\n",
        "sentences = []\n",
        "for tag_sentence in tag_sentences:\n",
        "  sentence = \" \".join(tag_sentence)\n",
        "  sentences.append(sentence)\n",
        "\n",
        "with open(input_file_path,'w',encoding='utf8') as f:\n",
        "  for sentence in tqdm_notebook(sentences):\n",
        "    tag_sentence = \" \".join(sentence)\n",
        "    f.write(tag_sentence+'\\n')\n",
        "\n",
        "### train_tokenizer\n",
        "templates = ' --input={} \\\n",
        "    --pad_id=0 \\\n",
        "    --bos_id=1 \\\n",
        "    --eos_id=2 \\\n",
        "    --unk_id=3 \\\n",
        "    --model_prefix={} \\\n",
        "    --vocab_size={} \\\n",
        "    --character_coverage=1.0 \\\n",
        "    --model_type={}'\n",
        "\n",
        "cmd = templates.format(input_file_path, tokenizer_name, vocab_size, method)\n",
        "spm.SentencePieceTrainer.Train(cmd)\n",
        "print(\"tag_tokenizer {} is generated\".format(tokenizer_name))\n",
        "sp = spm.SentencePieceProcessor()\n",
        "sp.Load(tokenizer_name_model)\n",
        "\n",
        "\n",
        "def get_tokens_from_sentences(sp, sentences):\n",
        "    tokenized_sentences = []\n",
        "    for sentence in sentences:\n",
        "        tokens = sp.EncodeAsPieces(sentence)\n",
        "        new_tokens = []\n",
        "        for token in tokens:\n",
        "            token = token.replace(\"▁\", \"\")\n",
        "            # if len(token) > 1:\n",
        "            new_tokens.append(token)\n",
        "        # if len(new_tokens) > 1:\n",
        "        tokenized_sentences.append(new_tokens)\n",
        "\n",
        "    return tokenized_sentences\n",
        "\n",
        "\n",
        "def get_tokens_from_sentence(sp, sentence):\n",
        "    new_tokens = []\n",
        "    tokens = sp.EncodeAsPieces(sentence)\n",
        "    for token in tokens:\n",
        "        token = token.replace(\"▁\", \"\")\n",
        "        if len(token) > 1:\n",
        "            new_tokens.append(token)\n",
        "    return new_tokens\n",
        "\n",
        "tokenized_sentences = get_tokens_from_sentences(sp,sentences)\n",
        "\n",
        "### train w2v\n",
        "w2v_name = os.path.join(data_path,\"tag_w2v_{}_{}.model\".format(method,vocab_size))\n",
        "print(\"start train_tag_w2v....\")\n",
        "\n",
        "size = 200\n",
        "window =5\n",
        "min_count = 2\n",
        "workers = 8\n",
        "sg = 1\n",
        "hs = 1\n",
        "\n",
        "model = w2v(tokenized_sentences,size=size,window=window,min_count=min_count,workers=workers,sg=sg,hs=hs)\n",
        "model.save(w2v_name)\n",
        "print(\"tag_w2v {} is generated\".format(w2v_name))\n",
        "\n",
        "# ### get embedding\n",
        "\n",
        "sp = spm.SentencePieceProcessor()\n",
        "sp.Load(tokenizer_name_model)\n",
        "\n",
        "w2v_model = w2v.load(w2v_name)\n",
        "\n",
        "sentence_embs = []\n",
        "# # 학습이 안되는 벡터들에 대해서는 0값이 나으므로 0벡터로 input 처리 수행\n",
        "for sentence in tqdm_notebook(tokenized_sentences):\n",
        "  word_embs = []\n",
        "  for p_word in sentence:\n",
        "    try:\n",
        "      word_embs.append(w2v_model.wv[p_word])\n",
        "    except KeyError:\n",
        "      pass\n",
        "  if len(word_embs):\n",
        "    p_emb = np.average(word_embs, axis=0).tolist()\n",
        "  else:\n",
        "    p_emb = np.zeros(200).tolist()\n",
        "  sentence_embs.append(p_emb)"
      ],
      "execution_count": 32,
      "outputs": [
        {
          "output_type": "stream",
          "text": [
            "/usr/local/lib/python3.6/dist-packages/ipykernel_launcher.py:21: TqdmDeprecationWarning: This function will be removed in tqdm==5.0.0\n",
            "Please use `tqdm.notebook.tqdm` instead of `tqdm.tqdm_notebook`\n"
          ],
          "name": "stderr"
        },
        {
          "output_type": "display_data",
          "data": {
            "application/vnd.jupyter.widget-view+json": {
              "model_id": "b1f1417296bf4facb0258506f2dd5837",
              "version_minor": 0,
              "version_major": 2
            },
            "text/plain": [
              "HBox(children=(FloatProgress(value=0.0, max=100836.0), HTML(value='')))"
            ]
          },
          "metadata": {
            "tags": []
          }
        },
        {
          "output_type": "stream",
          "text": [
            "\n",
            "tag_tokenizer /gdrive/MyDrive/colab/Factorization_Machine/data/tag_tokenizer_bpe_100 is generated\n",
            "start train_tag_w2v....\n",
            "tag_w2v /gdrive/MyDrive/colab/Factorization_Machine/data/tag_w2v_bpe_100.model is generated\n"
          ],
          "name": "stdout"
        },
        {
          "output_type": "stream",
          "text": [
            "/usr/local/lib/python3.6/dist-packages/ipykernel_launcher.py:85: TqdmDeprecationWarning: This function will be removed in tqdm==5.0.0\n",
            "Please use `tqdm.notebook.tqdm` instead of `tqdm.tqdm_notebook`\n"
          ],
          "name": "stderr"
        },
        {
          "output_type": "display_data",
          "data": {
            "application/vnd.jupyter.widget-view+json": {
              "model_id": "a96cc74c8bc14075858030d2feb07487",
              "version_minor": 0,
              "version_major": 2
            },
            "text/plain": [
              "HBox(children=(FloatProgress(value=0.0, max=100836.0), HTML(value='')))"
            ]
          },
          "metadata": {
            "tags": []
          }
        },
        {
          "output_type": "stream",
          "text": [
            "\n"
          ],
          "name": "stdout"
        }
      ]
    },
    {
      "cell_type": "code",
      "metadata": {
        "colab": {
          "base_uri": "https://localhost:8080/",
          "height": 374
        },
        "id": "PTQP-JOi9o9o",
        "outputId": "01a5ffc7-cd2d-41bd-d6ee-c9ed78155688"
      },
      "source": [
        "ratings.loc[:,\"tag_vector\"] = pd.Series(sentence_embs)\n",
        "ratings.head()"
      ],
      "execution_count": 33,
      "outputs": [
        {
          "output_type": "execute_result",
          "data": {
            "text/html": [
              "<div>\n",
              "<style scoped>\n",
              "    .dataframe tbody tr th:only-of-type {\n",
              "        vertical-align: middle;\n",
              "    }\n",
              "\n",
              "    .dataframe tbody tr th {\n",
              "        vertical-align: top;\n",
              "    }\n",
              "\n",
              "    .dataframe thead th {\n",
              "        text-align: right;\n",
              "    }\n",
              "</style>\n",
              "<table border=\"1\" class=\"dataframe\">\n",
              "  <thead>\n",
              "    <tr style=\"text-align: right;\">\n",
              "      <th></th>\n",
              "      <th>userId</th>\n",
              "      <th>movieId</th>\n",
              "      <th>rating</th>\n",
              "      <th>timestamp</th>\n",
              "      <th>u_nid</th>\n",
              "      <th>m_nid</th>\n",
              "      <th>b4_timestamp</th>\n",
              "      <th>m_count</th>\n",
              "      <th>last_rate_vector</th>\n",
              "      <th>tags</th>\n",
              "      <th>tag_vector</th>\n",
              "    </tr>\n",
              "  </thead>\n",
              "  <tbody>\n",
              "    <tr>\n",
              "      <th>0</th>\n",
              "      <td>1</td>\n",
              "      <td>1</td>\n",
              "      <td>4.0</td>\n",
              "      <td>964982703</td>\n",
              "      <td>0</td>\n",
              "      <td>0</td>\n",
              "      <td>964982681</td>\n",
              "      <td>4</td>\n",
              "      <td>[0.0, 0.0, 0.0, 0.0, 0.0, 0.0, 0.0, 0.0, 0.0, ...</td>\n",
              "      <td></td>\n",
              "      <td>[0.0, 0.0, 0.0, 0.0, 0.0, 0.0, 0.0, 0.0, 0.0, ...</td>\n",
              "    </tr>\n",
              "    <tr>\n",
              "      <th>1</th>\n",
              "      <td>1</td>\n",
              "      <td>3</td>\n",
              "      <td>4.0</td>\n",
              "      <td>964981247</td>\n",
              "      <td>0</td>\n",
              "      <td>2</td>\n",
              "      <td>964981230</td>\n",
              "      <td>1</td>\n",
              "      <td>[0.0, 0.0, 0.0, 0.0, 0.0, 0.0, 0.0, 0.0, 0.0, ...</td>\n",
              "      <td></td>\n",
              "      <td>[0.0, 0.0, 0.0, 0.0, 0.0, 0.0, 0.0, 0.0, 0.0, ...</td>\n",
              "    </tr>\n",
              "    <tr>\n",
              "      <th>2</th>\n",
              "      <td>1</td>\n",
              "      <td>6</td>\n",
              "      <td>4.0</td>\n",
              "      <td>964982224</td>\n",
              "      <td>0</td>\n",
              "      <td>5</td>\n",
              "      <td>964982211</td>\n",
              "      <td>1</td>\n",
              "      <td>[0.0, 0.0, 0.0, 0.0, 0.0, 0.0, 0.0, 0.0, 0.0, ...</td>\n",
              "      <td></td>\n",
              "      <td>[0.0, 0.0, 0.0, 0.0, 0.0, 0.0, 0.0, 0.0, 0.0, ...</td>\n",
              "    </tr>\n",
              "    <tr>\n",
              "      <th>3</th>\n",
              "      <td>1</td>\n",
              "      <td>47</td>\n",
              "      <td>5.0</td>\n",
              "      <td>964983815</td>\n",
              "      <td>0</td>\n",
              "      <td>43</td>\n",
              "      <td>964983793</td>\n",
              "      <td>1</td>\n",
              "      <td>[0.0, 0.0, 0.0, 0.0, 0.0, 0.0, 0.0, 0.0, 0.0, ...</td>\n",
              "      <td></td>\n",
              "      <td>[0.0, 0.0, 0.0, 0.0, 0.0, 0.0, 0.0, 0.0, 0.0, ...</td>\n",
              "    </tr>\n",
              "    <tr>\n",
              "      <th>4</th>\n",
              "      <td>1</td>\n",
              "      <td>50</td>\n",
              "      <td>5.0</td>\n",
              "      <td>964982931</td>\n",
              "      <td>0</td>\n",
              "      <td>46</td>\n",
              "      <td>964982903</td>\n",
              "      <td>2</td>\n",
              "      <td>[0.0, 0.0, 0.0, 0.0, 0.0, 0.0, 0.0, 0.0, 0.0, ...</td>\n",
              "      <td></td>\n",
              "      <td>[0.0, 0.0, 0.0, 0.0, 0.0, 0.0, 0.0, 0.0, 0.0, ...</td>\n",
              "    </tr>\n",
              "  </tbody>\n",
              "</table>\n",
              "</div>"
            ],
            "text/plain": [
              "   userId  movieId  ...  tags                                         tag_vector\n",
              "0       1        1  ...        [0.0, 0.0, 0.0, 0.0, 0.0, 0.0, 0.0, 0.0, 0.0, ...\n",
              "1       1        3  ...        [0.0, 0.0, 0.0, 0.0, 0.0, 0.0, 0.0, 0.0, 0.0, ...\n",
              "2       1        6  ...        [0.0, 0.0, 0.0, 0.0, 0.0, 0.0, 0.0, 0.0, 0.0, ...\n",
              "3       1       47  ...        [0.0, 0.0, 0.0, 0.0, 0.0, 0.0, 0.0, 0.0, 0.0, ...\n",
              "4       1       50  ...        [0.0, 0.0, 0.0, 0.0, 0.0, 0.0, 0.0, 0.0, 0.0, ...\n",
              "\n",
              "[5 rows x 11 columns]"
            ]
          },
          "metadata": {
            "tags": []
          },
          "execution_count": 33
        }
      ]
    },
    {
      "cell_type": "code",
      "metadata": {
        "colab": {
          "base_uri": "https://localhost:8080/",
          "height": 374
        },
        "id": "_6B4Am7Znq7e",
        "outputId": "0fab7d2e-ba8a-4df6-828b-962d3207ffa3"
      },
      "source": [
        "# user, movie, rating, movie_gnr_vec, movie_title_vec, launch_year, user_movie_tag_vector, last_rate_vector\n",
        "\n",
        "target_ratings = ratings.loc[:,[\"u_nid\",\"m_nid\",\"tag_vector\",\"last_rate_vector\",\"rating\"]]\n",
        "target_movies = movies.loc[:,[\"m_nid\",\"genres_vectors\",\"title_vector\",\"launch_year\"]]\n",
        "\n",
        "data = pd.merge(left=target_ratings, right=target_movies, on=\"m_nid\", how=\"left\")\n",
        "data.head()"
      ],
      "execution_count": 34,
      "outputs": [
        {
          "output_type": "execute_result",
          "data": {
            "text/html": [
              "<div>\n",
              "<style scoped>\n",
              "    .dataframe tbody tr th:only-of-type {\n",
              "        vertical-align: middle;\n",
              "    }\n",
              "\n",
              "    .dataframe tbody tr th {\n",
              "        vertical-align: top;\n",
              "    }\n",
              "\n",
              "    .dataframe thead th {\n",
              "        text-align: right;\n",
              "    }\n",
              "</style>\n",
              "<table border=\"1\" class=\"dataframe\">\n",
              "  <thead>\n",
              "    <tr style=\"text-align: right;\">\n",
              "      <th></th>\n",
              "      <th>u_nid</th>\n",
              "      <th>m_nid</th>\n",
              "      <th>tag_vector</th>\n",
              "      <th>last_rate_vector</th>\n",
              "      <th>rating</th>\n",
              "      <th>genres_vectors</th>\n",
              "      <th>title_vector</th>\n",
              "      <th>launch_year</th>\n",
              "    </tr>\n",
              "  </thead>\n",
              "  <tbody>\n",
              "    <tr>\n",
              "      <th>0</th>\n",
              "      <td>0</td>\n",
              "      <td>0</td>\n",
              "      <td>[0.0, 0.0, 0.0, 0.0, 0.0, 0.0, 0.0, 0.0, 0.0, ...</td>\n",
              "      <td>[0.0, 0.0, 0.0, 0.0, 0.0, 0.0, 0.0, 0.0, 0.0, ...</td>\n",
              "      <td>4.0</td>\n",
              "      <td>[0.0, 0.0, 1.0, 1.0, 1.0, 1.0, 0.0, 0.0, 0.0, ...</td>\n",
              "      <td>[-0.0016190423630177975, 0.020851947367191315,...</td>\n",
              "      <td>1995</td>\n",
              "    </tr>\n",
              "    <tr>\n",
              "      <th>1</th>\n",
              "      <td>0</td>\n",
              "      <td>2</td>\n",
              "      <td>[0.0, 0.0, 0.0, 0.0, 0.0, 0.0, 0.0, 0.0, 0.0, ...</td>\n",
              "      <td>[0.0, 0.0, 0.0, 0.0, 0.0, 0.0, 0.0, 0.0, 0.0, ...</td>\n",
              "      <td>4.0</td>\n",
              "      <td>[0.0, 0.0, 0.0, 0.0, 0.0, 1.0, 0.0, 0.0, 0.0, ...</td>\n",
              "      <td>[-0.02799421176314354, -0.0012682080268859863,...</td>\n",
              "      <td>1995</td>\n",
              "    </tr>\n",
              "    <tr>\n",
              "      <th>2</th>\n",
              "      <td>0</td>\n",
              "      <td>5</td>\n",
              "      <td>[0.0, 0.0, 0.0, 0.0, 0.0, 0.0, 0.0, 0.0, 0.0, ...</td>\n",
              "      <td>[0.0, 0.0, 0.0, 0.0, 0.0, 0.0, 0.0, 0.0, 0.0, ...</td>\n",
              "      <td>4.0</td>\n",
              "      <td>[0.0, 1.0, 0.0, 0.0, 0.0, 0.0, 1.0, 0.0, 0.0, ...</td>\n",
              "      <td>[-0.021820921450853348, -0.013219483196735382,...</td>\n",
              "      <td>1995</td>\n",
              "    </tr>\n",
              "    <tr>\n",
              "      <th>3</th>\n",
              "      <td>0</td>\n",
              "      <td>43</td>\n",
              "      <td>[0.0, 0.0, 0.0, 0.0, 0.0, 0.0, 0.0, 0.0, 0.0, ...</td>\n",
              "      <td>[0.0, 0.0, 0.0, 0.0, 0.0, 0.0, 0.0, 0.0, 0.0, ...</td>\n",
              "      <td>5.0</td>\n",
              "      <td>[0.0, 0.0, 0.0, 0.0, 0.0, 0.0, 0.0, 0.0, 0.0, ...</td>\n",
              "      <td>[0.09966608136892319, 0.17752325534820557, -0....</td>\n",
              "      <td>1995</td>\n",
              "    </tr>\n",
              "    <tr>\n",
              "      <th>4</th>\n",
              "      <td>0</td>\n",
              "      <td>46</td>\n",
              "      <td>[0.0, 0.0, 0.0, 0.0, 0.0, 0.0, 0.0, 0.0, 0.0, ...</td>\n",
              "      <td>[0.0, 0.0, 0.0, 0.0, 0.0, 0.0, 0.0, 0.0, 0.0, ...</td>\n",
              "      <td>5.0</td>\n",
              "      <td>[0.0, 0.0, 0.0, 0.0, 0.0, 0.0, 1.0, 0.0, 0.0, ...</td>\n",
              "      <td>[0.012014994397759438, 0.018455717712640762, -...</td>\n",
              "      <td>1995</td>\n",
              "    </tr>\n",
              "  </tbody>\n",
              "</table>\n",
              "</div>"
            ],
            "text/plain": [
              "   u_nid  m_nid  ...                                       title_vector launch_year\n",
              "0      0      0  ...  [-0.0016190423630177975, 0.020851947367191315,...        1995\n",
              "1      0      2  ...  [-0.02799421176314354, -0.0012682080268859863,...        1995\n",
              "2      0      5  ...  [-0.021820921450853348, -0.013219483196735382,...        1995\n",
              "3      0     43  ...  [0.09966608136892319, 0.17752325534820557, -0....        1995\n",
              "4      0     46  ...  [0.012014994397759438, 0.018455717712640762, -...        1995\n",
              "\n",
              "[5 rows x 8 columns]"
            ]
          },
          "metadata": {
            "tags": []
          },
          "execution_count": 34
        }
      ]
    },
    {
      "cell_type": "code",
      "metadata": {
        "colab": {
          "base_uri": "https://localhost:8080/",
          "height": 289
        },
        "id": "nzRoEpHcojhM",
        "outputId": "0f5c0407-1887-4817-df4d-916d81ff3fa1"
      },
      "source": [
        "y_data = data.loc[:,\"rating\"]\n",
        "X_data = data.drop(\"rating\",axis=1)\n",
        "X_data.head()"
      ],
      "execution_count": 35,
      "outputs": [
        {
          "output_type": "execute_result",
          "data": {
            "text/html": [
              "<div>\n",
              "<style scoped>\n",
              "    .dataframe tbody tr th:only-of-type {\n",
              "        vertical-align: middle;\n",
              "    }\n",
              "\n",
              "    .dataframe tbody tr th {\n",
              "        vertical-align: top;\n",
              "    }\n",
              "\n",
              "    .dataframe thead th {\n",
              "        text-align: right;\n",
              "    }\n",
              "</style>\n",
              "<table border=\"1\" class=\"dataframe\">\n",
              "  <thead>\n",
              "    <tr style=\"text-align: right;\">\n",
              "      <th></th>\n",
              "      <th>u_nid</th>\n",
              "      <th>m_nid</th>\n",
              "      <th>tag_vector</th>\n",
              "      <th>last_rate_vector</th>\n",
              "      <th>genres_vectors</th>\n",
              "      <th>title_vector</th>\n",
              "      <th>launch_year</th>\n",
              "    </tr>\n",
              "  </thead>\n",
              "  <tbody>\n",
              "    <tr>\n",
              "      <th>0</th>\n",
              "      <td>0</td>\n",
              "      <td>0</td>\n",
              "      <td>[0.0, 0.0, 0.0, 0.0, 0.0, 0.0, 0.0, 0.0, 0.0, ...</td>\n",
              "      <td>[0.0, 0.0, 0.0, 0.0, 0.0, 0.0, 0.0, 0.0, 0.0, ...</td>\n",
              "      <td>[0.0, 0.0, 1.0, 1.0, 1.0, 1.0, 0.0, 0.0, 0.0, ...</td>\n",
              "      <td>[-0.0016190423630177975, 0.020851947367191315,...</td>\n",
              "      <td>1995</td>\n",
              "    </tr>\n",
              "    <tr>\n",
              "      <th>1</th>\n",
              "      <td>0</td>\n",
              "      <td>2</td>\n",
              "      <td>[0.0, 0.0, 0.0, 0.0, 0.0, 0.0, 0.0, 0.0, 0.0, ...</td>\n",
              "      <td>[0.0, 0.0, 0.0, 0.0, 0.0, 0.0, 0.0, 0.0, 0.0, ...</td>\n",
              "      <td>[0.0, 0.0, 0.0, 0.0, 0.0, 1.0, 0.0, 0.0, 0.0, ...</td>\n",
              "      <td>[-0.02799421176314354, -0.0012682080268859863,...</td>\n",
              "      <td>1995</td>\n",
              "    </tr>\n",
              "    <tr>\n",
              "      <th>2</th>\n",
              "      <td>0</td>\n",
              "      <td>5</td>\n",
              "      <td>[0.0, 0.0, 0.0, 0.0, 0.0, 0.0, 0.0, 0.0, 0.0, ...</td>\n",
              "      <td>[0.0, 0.0, 0.0, 0.0, 0.0, 0.0, 0.0, 0.0, 0.0, ...</td>\n",
              "      <td>[0.0, 1.0, 0.0, 0.0, 0.0, 0.0, 1.0, 0.0, 0.0, ...</td>\n",
              "      <td>[-0.021820921450853348, -0.013219483196735382,...</td>\n",
              "      <td>1995</td>\n",
              "    </tr>\n",
              "    <tr>\n",
              "      <th>3</th>\n",
              "      <td>0</td>\n",
              "      <td>43</td>\n",
              "      <td>[0.0, 0.0, 0.0, 0.0, 0.0, 0.0, 0.0, 0.0, 0.0, ...</td>\n",
              "      <td>[0.0, 0.0, 0.0, 0.0, 0.0, 0.0, 0.0, 0.0, 0.0, ...</td>\n",
              "      <td>[0.0, 0.0, 0.0, 0.0, 0.0, 0.0, 0.0, 0.0, 0.0, ...</td>\n",
              "      <td>[0.09966608136892319, 0.17752325534820557, -0....</td>\n",
              "      <td>1995</td>\n",
              "    </tr>\n",
              "    <tr>\n",
              "      <th>4</th>\n",
              "      <td>0</td>\n",
              "      <td>46</td>\n",
              "      <td>[0.0, 0.0, 0.0, 0.0, 0.0, 0.0, 0.0, 0.0, 0.0, ...</td>\n",
              "      <td>[0.0, 0.0, 0.0, 0.0, 0.0, 0.0, 0.0, 0.0, 0.0, ...</td>\n",
              "      <td>[0.0, 0.0, 0.0, 0.0, 0.0, 0.0, 1.0, 0.0, 0.0, ...</td>\n",
              "      <td>[0.012014994397759438, 0.018455717712640762, -...</td>\n",
              "      <td>1995</td>\n",
              "    </tr>\n",
              "  </tbody>\n",
              "</table>\n",
              "</div>"
            ],
            "text/plain": [
              "   u_nid  m_nid  ...                                       title_vector launch_year\n",
              "0      0      0  ...  [-0.0016190423630177975, 0.020851947367191315,...        1995\n",
              "1      0      2  ...  [-0.02799421176314354, -0.0012682080268859863,...        1995\n",
              "2      0      5  ...  [-0.021820921450853348, -0.013219483196735382,...        1995\n",
              "3      0     43  ...  [0.09966608136892319, 0.17752325534820557, -0....        1995\n",
              "4      0     46  ...  [0.012014994397759438, 0.018455717712640762, -...        1995\n",
              "\n",
              "[5 rows x 7 columns]"
            ]
          },
          "metadata": {
            "tags": []
          },
          "execution_count": 35
        }
      ]
    },
    {
      "cell_type": "code",
      "metadata": {
        "colab": {
          "base_uri": "https://localhost:8080/"
        },
        "id": "ADlxjtfVUgSR",
        "outputId": "d7810f9d-1c3d-4931-cfff-e5a6905a38ea"
      },
      "source": [
        "num_tag_vec = len(X_data[\"tag_vector\"][0])\n",
        "num_last_rate_vec = len(X_data[\"last_rate_vector\"][0])\n",
        "num_gnrs_vec = len(X_data[\"genres_vectors\"][0])\n",
        "num_title_vec = len(X_data[\"title_vector\"][0])\n",
        "\n",
        "print(num_tag_vec, num_last_rate_vec, num_gnrs_vec, num_title_vec)"
      ],
      "execution_count": 36,
      "outputs": [
        {
          "output_type": "stream",
          "text": [
            "200 9742 20 200\n"
          ],
          "name": "stdout"
        }
      ]
    },
    {
      "cell_type": "code",
      "metadata": {
        "id": "4MKwv-Rty3ae"
      },
      "source": [
        "# from sklearn.preprocessing import StandardScaler\n",
        "\n",
        "# launch_years = np.array(X_data.loc[X_data.launch_year != 0].launch_year.to_list()).reshape(-1,1)\n",
        "\n",
        "# scaler = StandardScaler()\n",
        "# scaled_year = scaler.fit_transform(launch_years)\n",
        "\n",
        "# X_data.loc[X_data.launch_year !=0, \"launch_year\"] = scaled_year"
      ],
      "execution_count": 37,
      "outputs": []
    },
    {
      "cell_type": "code",
      "metadata": {
        "id": "A54mpvbnziDu"
      },
      "source": [
        "# X_data.loc[X_data.launch_year !=0, \"launch_year\"] = scaled_year"
      ],
      "execution_count": 38,
      "outputs": []
    },
    {
      "cell_type": "code",
      "metadata": {
        "colab": {
          "base_uri": "https://localhost:8080/",
          "height": 289
        },
        "id": "PrIMNKxQwI_-",
        "outputId": "e39b4ddd-4dca-4445-b59e-2b420e9364f0"
      },
      "source": [
        "X_data.head()"
      ],
      "execution_count": 39,
      "outputs": [
        {
          "output_type": "execute_result",
          "data": {
            "text/html": [
              "<div>\n",
              "<style scoped>\n",
              "    .dataframe tbody tr th:only-of-type {\n",
              "        vertical-align: middle;\n",
              "    }\n",
              "\n",
              "    .dataframe tbody tr th {\n",
              "        vertical-align: top;\n",
              "    }\n",
              "\n",
              "    .dataframe thead th {\n",
              "        text-align: right;\n",
              "    }\n",
              "</style>\n",
              "<table border=\"1\" class=\"dataframe\">\n",
              "  <thead>\n",
              "    <tr style=\"text-align: right;\">\n",
              "      <th></th>\n",
              "      <th>u_nid</th>\n",
              "      <th>m_nid</th>\n",
              "      <th>tag_vector</th>\n",
              "      <th>last_rate_vector</th>\n",
              "      <th>genres_vectors</th>\n",
              "      <th>title_vector</th>\n",
              "      <th>launch_year</th>\n",
              "    </tr>\n",
              "  </thead>\n",
              "  <tbody>\n",
              "    <tr>\n",
              "      <th>0</th>\n",
              "      <td>0</td>\n",
              "      <td>0</td>\n",
              "      <td>[0.0, 0.0, 0.0, 0.0, 0.0, 0.0, 0.0, 0.0, 0.0, ...</td>\n",
              "      <td>[0.0, 0.0, 0.0, 0.0, 0.0, 0.0, 0.0, 0.0, 0.0, ...</td>\n",
              "      <td>[0.0, 0.0, 1.0, 1.0, 1.0, 1.0, 0.0, 0.0, 0.0, ...</td>\n",
              "      <td>[-0.0016190423630177975, 0.020851947367191315,...</td>\n",
              "      <td>1995</td>\n",
              "    </tr>\n",
              "    <tr>\n",
              "      <th>1</th>\n",
              "      <td>0</td>\n",
              "      <td>2</td>\n",
              "      <td>[0.0, 0.0, 0.0, 0.0, 0.0, 0.0, 0.0, 0.0, 0.0, ...</td>\n",
              "      <td>[0.0, 0.0, 0.0, 0.0, 0.0, 0.0, 0.0, 0.0, 0.0, ...</td>\n",
              "      <td>[0.0, 0.0, 0.0, 0.0, 0.0, 1.0, 0.0, 0.0, 0.0, ...</td>\n",
              "      <td>[-0.02799421176314354, -0.0012682080268859863,...</td>\n",
              "      <td>1995</td>\n",
              "    </tr>\n",
              "    <tr>\n",
              "      <th>2</th>\n",
              "      <td>0</td>\n",
              "      <td>5</td>\n",
              "      <td>[0.0, 0.0, 0.0, 0.0, 0.0, 0.0, 0.0, 0.0, 0.0, ...</td>\n",
              "      <td>[0.0, 0.0, 0.0, 0.0, 0.0, 0.0, 0.0, 0.0, 0.0, ...</td>\n",
              "      <td>[0.0, 1.0, 0.0, 0.0, 0.0, 0.0, 1.0, 0.0, 0.0, ...</td>\n",
              "      <td>[-0.021820921450853348, -0.013219483196735382,...</td>\n",
              "      <td>1995</td>\n",
              "    </tr>\n",
              "    <tr>\n",
              "      <th>3</th>\n",
              "      <td>0</td>\n",
              "      <td>43</td>\n",
              "      <td>[0.0, 0.0, 0.0, 0.0, 0.0, 0.0, 0.0, 0.0, 0.0, ...</td>\n",
              "      <td>[0.0, 0.0, 0.0, 0.0, 0.0, 0.0, 0.0, 0.0, 0.0, ...</td>\n",
              "      <td>[0.0, 0.0, 0.0, 0.0, 0.0, 0.0, 0.0, 0.0, 0.0, ...</td>\n",
              "      <td>[0.09966608136892319, 0.17752325534820557, -0....</td>\n",
              "      <td>1995</td>\n",
              "    </tr>\n",
              "    <tr>\n",
              "      <th>4</th>\n",
              "      <td>0</td>\n",
              "      <td>46</td>\n",
              "      <td>[0.0, 0.0, 0.0, 0.0, 0.0, 0.0, 0.0, 0.0, 0.0, ...</td>\n",
              "      <td>[0.0, 0.0, 0.0, 0.0, 0.0, 0.0, 0.0, 0.0, 0.0, ...</td>\n",
              "      <td>[0.0, 0.0, 0.0, 0.0, 0.0, 0.0, 1.0, 0.0, 0.0, ...</td>\n",
              "      <td>[0.012014994397759438, 0.018455717712640762, -...</td>\n",
              "      <td>1995</td>\n",
              "    </tr>\n",
              "  </tbody>\n",
              "</table>\n",
              "</div>"
            ],
            "text/plain": [
              "   u_nid  m_nid  ...                                       title_vector launch_year\n",
              "0      0      0  ...  [-0.0016190423630177975, 0.020851947367191315,...        1995\n",
              "1      0      2  ...  [-0.02799421176314354, -0.0012682080268859863,...        1995\n",
              "2      0      5  ...  [-0.021820921450853348, -0.013219483196735382,...        1995\n",
              "3      0     43  ...  [0.09966608136892319, 0.17752325534820557, -0....        1995\n",
              "4      0     46  ...  [0.012014994397759438, 0.018455717712640762, -...        1995\n",
              "\n",
              "[5 rows x 7 columns]"
            ]
          },
          "metadata": {
            "tags": []
          },
          "execution_count": 39
        }
      ]
    },
    {
      "cell_type": "code",
      "metadata": {
        "id": "xtflIVFu5cx-"
      },
      "source": [
        "X_data.loc[:, \"user_id\"] = X_data.u_nid.apply(lambda x: dict_nid_2_uid[x])\n",
        "X_data.loc[:, \"movie_id\"] = X_data.m_nid.apply(lambda x: dict_nid_2_mid[x])"
      ],
      "execution_count": 40,
      "outputs": []
    },
    {
      "cell_type": "code",
      "metadata": {
        "colab": {
          "base_uri": "https://localhost:8080/",
          "height": 374
        },
        "id": "S9ewgZWv58Pv",
        "outputId": "f959b8cf-d2ee-45dc-f920-7041b67f136c"
      },
      "source": [
        "X_data.head()"
      ],
      "execution_count": 41,
      "outputs": [
        {
          "output_type": "execute_result",
          "data": {
            "text/html": [
              "<div>\n",
              "<style scoped>\n",
              "    .dataframe tbody tr th:only-of-type {\n",
              "        vertical-align: middle;\n",
              "    }\n",
              "\n",
              "    .dataframe tbody tr th {\n",
              "        vertical-align: top;\n",
              "    }\n",
              "\n",
              "    .dataframe thead th {\n",
              "        text-align: right;\n",
              "    }\n",
              "</style>\n",
              "<table border=\"1\" class=\"dataframe\">\n",
              "  <thead>\n",
              "    <tr style=\"text-align: right;\">\n",
              "      <th></th>\n",
              "      <th>u_nid</th>\n",
              "      <th>m_nid</th>\n",
              "      <th>tag_vector</th>\n",
              "      <th>last_rate_vector</th>\n",
              "      <th>genres_vectors</th>\n",
              "      <th>title_vector</th>\n",
              "      <th>launch_year</th>\n",
              "      <th>user_id</th>\n",
              "      <th>movie_id</th>\n",
              "    </tr>\n",
              "  </thead>\n",
              "  <tbody>\n",
              "    <tr>\n",
              "      <th>0</th>\n",
              "      <td>0</td>\n",
              "      <td>0</td>\n",
              "      <td>[0.0, 0.0, 0.0, 0.0, 0.0, 0.0, 0.0, 0.0, 0.0, ...</td>\n",
              "      <td>[0.0, 0.0, 0.0, 0.0, 0.0, 0.0, 0.0, 0.0, 0.0, ...</td>\n",
              "      <td>[0.0, 0.0, 1.0, 1.0, 1.0, 1.0, 0.0, 0.0, 0.0, ...</td>\n",
              "      <td>[-0.0016190423630177975, 0.020851947367191315,...</td>\n",
              "      <td>1995</td>\n",
              "      <td>1</td>\n",
              "      <td>1</td>\n",
              "    </tr>\n",
              "    <tr>\n",
              "      <th>1</th>\n",
              "      <td>0</td>\n",
              "      <td>2</td>\n",
              "      <td>[0.0, 0.0, 0.0, 0.0, 0.0, 0.0, 0.0, 0.0, 0.0, ...</td>\n",
              "      <td>[0.0, 0.0, 0.0, 0.0, 0.0, 0.0, 0.0, 0.0, 0.0, ...</td>\n",
              "      <td>[0.0, 0.0, 0.0, 0.0, 0.0, 1.0, 0.0, 0.0, 0.0, ...</td>\n",
              "      <td>[-0.02799421176314354, -0.0012682080268859863,...</td>\n",
              "      <td>1995</td>\n",
              "      <td>1</td>\n",
              "      <td>3</td>\n",
              "    </tr>\n",
              "    <tr>\n",
              "      <th>2</th>\n",
              "      <td>0</td>\n",
              "      <td>5</td>\n",
              "      <td>[0.0, 0.0, 0.0, 0.0, 0.0, 0.0, 0.0, 0.0, 0.0, ...</td>\n",
              "      <td>[0.0, 0.0, 0.0, 0.0, 0.0, 0.0, 0.0, 0.0, 0.0, ...</td>\n",
              "      <td>[0.0, 1.0, 0.0, 0.0, 0.0, 0.0, 1.0, 0.0, 0.0, ...</td>\n",
              "      <td>[-0.021820921450853348, -0.013219483196735382,...</td>\n",
              "      <td>1995</td>\n",
              "      <td>1</td>\n",
              "      <td>6</td>\n",
              "    </tr>\n",
              "    <tr>\n",
              "      <th>3</th>\n",
              "      <td>0</td>\n",
              "      <td>43</td>\n",
              "      <td>[0.0, 0.0, 0.0, 0.0, 0.0, 0.0, 0.0, 0.0, 0.0, ...</td>\n",
              "      <td>[0.0, 0.0, 0.0, 0.0, 0.0, 0.0, 0.0, 0.0, 0.0, ...</td>\n",
              "      <td>[0.0, 0.0, 0.0, 0.0, 0.0, 0.0, 0.0, 0.0, 0.0, ...</td>\n",
              "      <td>[0.09966608136892319, 0.17752325534820557, -0....</td>\n",
              "      <td>1995</td>\n",
              "      <td>1</td>\n",
              "      <td>47</td>\n",
              "    </tr>\n",
              "    <tr>\n",
              "      <th>4</th>\n",
              "      <td>0</td>\n",
              "      <td>46</td>\n",
              "      <td>[0.0, 0.0, 0.0, 0.0, 0.0, 0.0, 0.0, 0.0, 0.0, ...</td>\n",
              "      <td>[0.0, 0.0, 0.0, 0.0, 0.0, 0.0, 0.0, 0.0, 0.0, ...</td>\n",
              "      <td>[0.0, 0.0, 0.0, 0.0, 0.0, 0.0, 1.0, 0.0, 0.0, ...</td>\n",
              "      <td>[0.012014994397759438, 0.018455717712640762, -...</td>\n",
              "      <td>1995</td>\n",
              "      <td>1</td>\n",
              "      <td>50</td>\n",
              "    </tr>\n",
              "  </tbody>\n",
              "</table>\n",
              "</div>"
            ],
            "text/plain": [
              "   u_nid  m_nid  ... user_id movie_id\n",
              "0      0      0  ...       1        1\n",
              "1      0      2  ...       1        3\n",
              "2      0      5  ...       1        6\n",
              "3      0     43  ...       1       47\n",
              "4      0     46  ...       1       50\n",
              "\n",
              "[5 rows x 9 columns]"
            ]
          },
          "metadata": {
            "tags": []
          },
          "execution_count": 41
        }
      ]
    },
    {
      "cell_type": "code",
      "metadata": {
        "colab": {
          "base_uri": "https://localhost:8080/",
          "height": 374
        },
        "id": "XzTANXd7wKjt",
        "outputId": "895b4693-7f72-4928-d4ca-f88414d11b4c"
      },
      "source": [
        "X_columns = [\"user_id\", \"movie_id\",\"tag_vector\",\"last_rate_vector\",\"genres_vectors\",\"title_vector\",\"launch_year\"]\n",
        "X_data = X_data.loc[:,X_columns].copy()\n",
        "X_data.head()"
      ],
      "execution_count": 42,
      "outputs": [
        {
          "output_type": "execute_result",
          "data": {
            "text/html": [
              "<div>\n",
              "<style scoped>\n",
              "    .dataframe tbody tr th:only-of-type {\n",
              "        vertical-align: middle;\n",
              "    }\n",
              "\n",
              "    .dataframe tbody tr th {\n",
              "        vertical-align: top;\n",
              "    }\n",
              "\n",
              "    .dataframe thead th {\n",
              "        text-align: right;\n",
              "    }\n",
              "</style>\n",
              "<table border=\"1\" class=\"dataframe\">\n",
              "  <thead>\n",
              "    <tr style=\"text-align: right;\">\n",
              "      <th></th>\n",
              "      <th>user_id</th>\n",
              "      <th>movie_id</th>\n",
              "      <th>tag_vector</th>\n",
              "      <th>last_rate_vector</th>\n",
              "      <th>genres_vectors</th>\n",
              "      <th>title_vector</th>\n",
              "      <th>launch_year</th>\n",
              "    </tr>\n",
              "  </thead>\n",
              "  <tbody>\n",
              "    <tr>\n",
              "      <th>0</th>\n",
              "      <td>1</td>\n",
              "      <td>1</td>\n",
              "      <td>[0.0, 0.0, 0.0, 0.0, 0.0, 0.0, 0.0, 0.0, 0.0, ...</td>\n",
              "      <td>[0.0, 0.0, 0.0, 0.0, 0.0, 0.0, 0.0, 0.0, 0.0, ...</td>\n",
              "      <td>[0.0, 0.0, 1.0, 1.0, 1.0, 1.0, 0.0, 0.0, 0.0, ...</td>\n",
              "      <td>[-0.0016190423630177975, 0.020851947367191315,...</td>\n",
              "      <td>1995</td>\n",
              "    </tr>\n",
              "    <tr>\n",
              "      <th>1</th>\n",
              "      <td>1</td>\n",
              "      <td>3</td>\n",
              "      <td>[0.0, 0.0, 0.0, 0.0, 0.0, 0.0, 0.0, 0.0, 0.0, ...</td>\n",
              "      <td>[0.0, 0.0, 0.0, 0.0, 0.0, 0.0, 0.0, 0.0, 0.0, ...</td>\n",
              "      <td>[0.0, 0.0, 0.0, 0.0, 0.0, 1.0, 0.0, 0.0, 0.0, ...</td>\n",
              "      <td>[-0.02799421176314354, -0.0012682080268859863,...</td>\n",
              "      <td>1995</td>\n",
              "    </tr>\n",
              "    <tr>\n",
              "      <th>2</th>\n",
              "      <td>1</td>\n",
              "      <td>6</td>\n",
              "      <td>[0.0, 0.0, 0.0, 0.0, 0.0, 0.0, 0.0, 0.0, 0.0, ...</td>\n",
              "      <td>[0.0, 0.0, 0.0, 0.0, 0.0, 0.0, 0.0, 0.0, 0.0, ...</td>\n",
              "      <td>[0.0, 1.0, 0.0, 0.0, 0.0, 0.0, 1.0, 0.0, 0.0, ...</td>\n",
              "      <td>[-0.021820921450853348, -0.013219483196735382,...</td>\n",
              "      <td>1995</td>\n",
              "    </tr>\n",
              "    <tr>\n",
              "      <th>3</th>\n",
              "      <td>1</td>\n",
              "      <td>47</td>\n",
              "      <td>[0.0, 0.0, 0.0, 0.0, 0.0, 0.0, 0.0, 0.0, 0.0, ...</td>\n",
              "      <td>[0.0, 0.0, 0.0, 0.0, 0.0, 0.0, 0.0, 0.0, 0.0, ...</td>\n",
              "      <td>[0.0, 0.0, 0.0, 0.0, 0.0, 0.0, 0.0, 0.0, 0.0, ...</td>\n",
              "      <td>[0.09966608136892319, 0.17752325534820557, -0....</td>\n",
              "      <td>1995</td>\n",
              "    </tr>\n",
              "    <tr>\n",
              "      <th>4</th>\n",
              "      <td>1</td>\n",
              "      <td>50</td>\n",
              "      <td>[0.0, 0.0, 0.0, 0.0, 0.0, 0.0, 0.0, 0.0, 0.0, ...</td>\n",
              "      <td>[0.0, 0.0, 0.0, 0.0, 0.0, 0.0, 0.0, 0.0, 0.0, ...</td>\n",
              "      <td>[0.0, 0.0, 0.0, 0.0, 0.0, 0.0, 1.0, 0.0, 0.0, ...</td>\n",
              "      <td>[0.012014994397759438, 0.018455717712640762, -...</td>\n",
              "      <td>1995</td>\n",
              "    </tr>\n",
              "  </tbody>\n",
              "</table>\n",
              "</div>"
            ],
            "text/plain": [
              "   user_id  ...  launch_year\n",
              "0        1  ...         1995\n",
              "1        1  ...         1995\n",
              "2        1  ...         1995\n",
              "3        1  ...         1995\n",
              "4        1  ...         1995\n",
              "\n",
              "[5 rows x 7 columns]"
            ]
          },
          "metadata": {
            "tags": []
          },
          "execution_count": 42
        }
      ]
    },
    {
      "cell_type": "markdown",
      "metadata": {
        "id": "pLCwxVA2ouXc"
      },
      "source": [
        "interaction"
      ]
    },
    {
      "cell_type": "code",
      "metadata": {
        "colab": {
          "base_uri": "https://localhost:8080/",
          "height": 204
        },
        "id": "jocgWjFkoyhJ",
        "outputId": "4ee9e2d3-c36a-4d78-e0c8-a3ad06e8e9e7"
      },
      "source": [
        "interactions = X_data[[\"user_id\",\"movie_id\"]]\n",
        "interactions.columns = [\"user_id\",\"item_id\"]\n",
        "interactions.head()"
      ],
      "execution_count": 183,
      "outputs": [
        {
          "output_type": "execute_result",
          "data": {
            "text/html": [
              "<div>\n",
              "<style scoped>\n",
              "    .dataframe tbody tr th:only-of-type {\n",
              "        vertical-align: middle;\n",
              "    }\n",
              "\n",
              "    .dataframe tbody tr th {\n",
              "        vertical-align: top;\n",
              "    }\n",
              "\n",
              "    .dataframe thead th {\n",
              "        text-align: right;\n",
              "    }\n",
              "</style>\n",
              "<table border=\"1\" class=\"dataframe\">\n",
              "  <thead>\n",
              "    <tr style=\"text-align: right;\">\n",
              "      <th></th>\n",
              "      <th>user_id</th>\n",
              "      <th>item_id</th>\n",
              "    </tr>\n",
              "  </thead>\n",
              "  <tbody>\n",
              "    <tr>\n",
              "      <th>0</th>\n",
              "      <td>1</td>\n",
              "      <td>1</td>\n",
              "    </tr>\n",
              "    <tr>\n",
              "      <th>1</th>\n",
              "      <td>1</td>\n",
              "      <td>3</td>\n",
              "    </tr>\n",
              "    <tr>\n",
              "      <th>2</th>\n",
              "      <td>1</td>\n",
              "      <td>6</td>\n",
              "    </tr>\n",
              "    <tr>\n",
              "      <th>3</th>\n",
              "      <td>1</td>\n",
              "      <td>47</td>\n",
              "    </tr>\n",
              "    <tr>\n",
              "      <th>4</th>\n",
              "      <td>1</td>\n",
              "      <td>50</td>\n",
              "    </tr>\n",
              "  </tbody>\n",
              "</table>\n",
              "</div>"
            ],
            "text/plain": [
              "   user_id  item_id\n",
              "0        1        1\n",
              "1        1        3\n",
              "2        1        6\n",
              "3        1       47\n",
              "4        1       50"
            ]
          },
          "metadata": {
            "tags": []
          },
          "execution_count": 183
        }
      ]
    },
    {
      "cell_type": "markdown",
      "metadata": {
        "id": "dyGexGBHov_g"
      },
      "source": [
        "item_features"
      ]
    },
    {
      "cell_type": "code",
      "metadata": {
        "colab": {
          "base_uri": "https://localhost:8080/",
          "height": 319
        },
        "id": "awt4nErhWmoP",
        "outputId": "33e17f8b-ff2c-47af-88b8-20a955ca0d21"
      },
      "source": [
        "target_movies.loc[:,\"movie_id\"] = target_movies.m_nid.apply(lambda x:dict_nid_2_mid[x])\n",
        "target_movies = target_movies.loc[:,[\"movie_id\",\"genres_vectors\",\"title_vector\",\"launch_year\"]]\n",
        "target_movies.head()"
      ],
      "execution_count": 184,
      "outputs": [
        {
          "output_type": "error",
          "ename": "AttributeError",
          "evalue": "ignored",
          "traceback": [
            "\u001b[0;31m---------------------------------------------------------------------------\u001b[0m",
            "\u001b[0;31mAttributeError\u001b[0m                            Traceback (most recent call last)",
            "\u001b[0;32m<ipython-input-184-623e4fd63f26>\u001b[0m in \u001b[0;36m<module>\u001b[0;34m()\u001b[0m\n\u001b[0;32m----> 1\u001b[0;31m \u001b[0mtarget_movies\u001b[0m\u001b[0;34m.\u001b[0m\u001b[0mloc\u001b[0m\u001b[0;34m[\u001b[0m\u001b[0;34m:\u001b[0m\u001b[0;34m,\u001b[0m\u001b[0;34m\"movie_id\"\u001b[0m\u001b[0;34m]\u001b[0m \u001b[0;34m=\u001b[0m \u001b[0mtarget_movies\u001b[0m\u001b[0;34m.\u001b[0m\u001b[0mm_nid\u001b[0m\u001b[0;34m.\u001b[0m\u001b[0mapply\u001b[0m\u001b[0;34m(\u001b[0m\u001b[0;32mlambda\u001b[0m \u001b[0mx\u001b[0m\u001b[0;34m:\u001b[0m\u001b[0mdict_nid_2_mid\u001b[0m\u001b[0;34m[\u001b[0m\u001b[0mx\u001b[0m\u001b[0;34m]\u001b[0m\u001b[0;34m)\u001b[0m\u001b[0;34m\u001b[0m\u001b[0;34m\u001b[0m\u001b[0m\n\u001b[0m\u001b[1;32m      2\u001b[0m \u001b[0mtarget_movies\u001b[0m \u001b[0;34m=\u001b[0m \u001b[0mtarget_movies\u001b[0m\u001b[0;34m.\u001b[0m\u001b[0mloc\u001b[0m\u001b[0;34m[\u001b[0m\u001b[0;34m:\u001b[0m\u001b[0;34m,\u001b[0m\u001b[0;34m[\u001b[0m\u001b[0;34m\"movie_id\"\u001b[0m\u001b[0;34m,\u001b[0m\u001b[0;34m\"genres_vectors\"\u001b[0m\u001b[0;34m,\u001b[0m\u001b[0;34m\"title_vector\"\u001b[0m\u001b[0;34m,\u001b[0m\u001b[0;34m\"launch_year\"\u001b[0m\u001b[0;34m]\u001b[0m\u001b[0;34m]\u001b[0m\u001b[0;34m\u001b[0m\u001b[0;34m\u001b[0m\u001b[0m\n\u001b[1;32m      3\u001b[0m \u001b[0mtarget_movies\u001b[0m\u001b[0;34m.\u001b[0m\u001b[0mhead\u001b[0m\u001b[0;34m(\u001b[0m\u001b[0;34m)\u001b[0m\u001b[0;34m\u001b[0m\u001b[0;34m\u001b[0m\u001b[0m\n",
            "\u001b[0;32m/usr/local/lib/python3.6/dist-packages/pandas/core/generic.py\u001b[0m in \u001b[0;36m__getattr__\u001b[0;34m(self, name)\u001b[0m\n\u001b[1;32m   5137\u001b[0m             \u001b[0;32mif\u001b[0m \u001b[0mself\u001b[0m\u001b[0;34m.\u001b[0m\u001b[0m_info_axis\u001b[0m\u001b[0;34m.\u001b[0m\u001b[0m_can_hold_identifiers_and_holds_name\u001b[0m\u001b[0;34m(\u001b[0m\u001b[0mname\u001b[0m\u001b[0;34m)\u001b[0m\u001b[0;34m:\u001b[0m\u001b[0;34m\u001b[0m\u001b[0;34m\u001b[0m\u001b[0m\n\u001b[1;32m   5138\u001b[0m                 \u001b[0;32mreturn\u001b[0m \u001b[0mself\u001b[0m\u001b[0;34m[\u001b[0m\u001b[0mname\u001b[0m\u001b[0;34m]\u001b[0m\u001b[0;34m\u001b[0m\u001b[0;34m\u001b[0m\u001b[0m\n\u001b[0;32m-> 5139\u001b[0;31m             \u001b[0;32mreturn\u001b[0m \u001b[0mobject\u001b[0m\u001b[0;34m.\u001b[0m\u001b[0m__getattribute__\u001b[0m\u001b[0;34m(\u001b[0m\u001b[0mself\u001b[0m\u001b[0;34m,\u001b[0m \u001b[0mname\u001b[0m\u001b[0;34m)\u001b[0m\u001b[0;34m\u001b[0m\u001b[0;34m\u001b[0m\u001b[0m\n\u001b[0m\u001b[1;32m   5140\u001b[0m \u001b[0;34m\u001b[0m\u001b[0m\n\u001b[1;32m   5141\u001b[0m     \u001b[0;32mdef\u001b[0m \u001b[0m__setattr__\u001b[0m\u001b[0;34m(\u001b[0m\u001b[0mself\u001b[0m\u001b[0;34m,\u001b[0m \u001b[0mname\u001b[0m\u001b[0;34m:\u001b[0m \u001b[0mstr\u001b[0m\u001b[0;34m,\u001b[0m \u001b[0mvalue\u001b[0m\u001b[0;34m)\u001b[0m \u001b[0;34m->\u001b[0m \u001b[0;32mNone\u001b[0m\u001b[0;34m:\u001b[0m\u001b[0;34m\u001b[0m\u001b[0;34m\u001b[0m\u001b[0m\n",
            "\u001b[0;31mAttributeError\u001b[0m: 'DataFrame' object has no attribute 'm_nid'"
          ]
        }
      ]
    },
    {
      "cell_type": "code",
      "metadata": {
        "colab": {
          "base_uri": "https://localhost:8080/",
          "height": 204
        },
        "id": "KOdKznWwYcFO",
        "outputId": "97e3357f-3974-4aec-e04d-3e0932bcb67e"
      },
      "source": [
        "from sklearn.preprocessing import StandardScaler\n",
        "\n",
        "launch_years = np.array(target_movies.loc[target_movies.launch_year != 0].launch_year.to_list()).reshape(-1,1)\n",
        "\n",
        "scaler = StandardScaler()\n",
        "scaled_year = scaler.fit_transform(launch_years)\n",
        "\n",
        "target_movies.loc[target_movies.launch_year !=0, \"launch_year\"] = scaled_year\n",
        "target_movies.head()"
      ],
      "execution_count": 185,
      "outputs": [
        {
          "output_type": "execute_result",
          "data": {
            "text/html": [
              "<div>\n",
              "<style scoped>\n",
              "    .dataframe tbody tr th:only-of-type {\n",
              "        vertical-align: middle;\n",
              "    }\n",
              "\n",
              "    .dataframe tbody tr th {\n",
              "        vertical-align: top;\n",
              "    }\n",
              "\n",
              "    .dataframe thead th {\n",
              "        text-align: right;\n",
              "    }\n",
              "</style>\n",
              "<table border=\"1\" class=\"dataframe\">\n",
              "  <thead>\n",
              "    <tr style=\"text-align: right;\">\n",
              "      <th></th>\n",
              "      <th>movie_id</th>\n",
              "      <th>genres_vectors</th>\n",
              "      <th>title_vector</th>\n",
              "      <th>launch_year</th>\n",
              "    </tr>\n",
              "  </thead>\n",
              "  <tbody>\n",
              "    <tr>\n",
              "      <th>0</th>\n",
              "      <td>1</td>\n",
              "      <td>[0.0, 0.0, 1.0, 1.0, 1.0, 1.0, 0.0, 0.0, 0.0, ...</td>\n",
              "      <td>[-0.0016190423630177975, 0.020851947367191315,...</td>\n",
              "      <td>0.020846</td>\n",
              "    </tr>\n",
              "    <tr>\n",
              "      <th>1</th>\n",
              "      <td>2</td>\n",
              "      <td>[0.0, 0.0, 1.0, 0.0, 1.0, 0.0, 0.0, 0.0, 0.0, ...</td>\n",
              "      <td>[-0.0073105162009596825, 0.0023418047931045294...</td>\n",
              "      <td>0.020846</td>\n",
              "    </tr>\n",
              "    <tr>\n",
              "      <th>2</th>\n",
              "      <td>3</td>\n",
              "      <td>[0.0, 0.0, 0.0, 0.0, 0.0, 1.0, 0.0, 0.0, 0.0, ...</td>\n",
              "      <td>[-0.02799421176314354, -0.0012682080268859863,...</td>\n",
              "      <td>0.020846</td>\n",
              "    </tr>\n",
              "    <tr>\n",
              "      <th>3</th>\n",
              "      <td>4</td>\n",
              "      <td>[0.0, 0.0, 0.0, 0.0, 0.0, 1.0, 0.0, 0.0, 1.0, ...</td>\n",
              "      <td>[0.010159829631447792, 0.00872352346777916, 0....</td>\n",
              "      <td>0.020846</td>\n",
              "    </tr>\n",
              "    <tr>\n",
              "      <th>4</th>\n",
              "      <td>5</td>\n",
              "      <td>[0.0, 0.0, 0.0, 0.0, 0.0, 1.0, 0.0, 0.0, 0.0, ...</td>\n",
              "      <td>[-0.009705641306936741, -0.001838729134760797,...</td>\n",
              "      <td>0.020846</td>\n",
              "    </tr>\n",
              "  </tbody>\n",
              "</table>\n",
              "</div>"
            ],
            "text/plain": [
              "   movie_id  ... launch_year\n",
              "0         1  ...    0.020846\n",
              "1         2  ...    0.020846\n",
              "2         3  ...    0.020846\n",
              "3         4  ...    0.020846\n",
              "4         5  ...    0.020846\n",
              "\n",
              "[5 rows x 4 columns]"
            ]
          },
          "metadata": {
            "tags": []
          },
          "execution_count": 185
        }
      ]
    },
    {
      "cell_type": "code",
      "metadata": {
        "id": "9DLJeA_6XKVW"
      },
      "source": [
        "len_gnr_vec = len(target_movies.iloc[0][\"genres_vectors\"])\n",
        "len_title_vec = len(target_movies.iloc[0][\"title_vector\"])\n",
        "\n",
        "gnr_vec_cols = [\"gv_{}\".format(i) for i in range(len_gnr_vec)]\n",
        "title_vec_cols = [\"ttv_{}\".format(i) for i in range(len_title_vec)]"
      ],
      "execution_count": 186,
      "outputs": []
    },
    {
      "cell_type": "code",
      "metadata": {
        "id": "UnwT32rFWurA"
      },
      "source": [
        "df_gnr_vec =pd.DataFrame(target_movies[\"genres_vectors\"].to_list(),columns=gnr_vec_cols)\n",
        "df_title_vec =pd.DataFrame(target_movies[\"title_vector\"].to_list(),columns=title_vec_cols)"
      ],
      "execution_count": 187,
      "outputs": []
    },
    {
      "cell_type": "code",
      "metadata": {
        "colab": {
          "base_uri": "https://localhost:8080/",
          "height": 253
        },
        "id": "xdIaTd9ooVfo",
        "outputId": "036a4778-5e03-430a-952f-4b7f2d798fa4"
      },
      "source": [
        "item_features = pd.concat([target_movies[\"movie_id\"],df_gnr_vec,df_title_vec,target_movies[\"launch_year\"]],axis=1)\n",
        "item_features.columns = [\"item_id\"] + item_features.columns[1:].to_list()\n",
        "item_features.head()"
      ],
      "execution_count": 188,
      "outputs": [
        {
          "output_type": "execute_result",
          "data": {
            "text/html": [
              "<div>\n",
              "<style scoped>\n",
              "    .dataframe tbody tr th:only-of-type {\n",
              "        vertical-align: middle;\n",
              "    }\n",
              "\n",
              "    .dataframe tbody tr th {\n",
              "        vertical-align: top;\n",
              "    }\n",
              "\n",
              "    .dataframe thead th {\n",
              "        text-align: right;\n",
              "    }\n",
              "</style>\n",
              "<table border=\"1\" class=\"dataframe\">\n",
              "  <thead>\n",
              "    <tr style=\"text-align: right;\">\n",
              "      <th></th>\n",
              "      <th>item_id</th>\n",
              "      <th>gv_0</th>\n",
              "      <th>gv_1</th>\n",
              "      <th>gv_2</th>\n",
              "      <th>gv_3</th>\n",
              "      <th>gv_4</th>\n",
              "      <th>gv_5</th>\n",
              "      <th>gv_6</th>\n",
              "      <th>gv_7</th>\n",
              "      <th>gv_8</th>\n",
              "      <th>gv_9</th>\n",
              "      <th>gv_10</th>\n",
              "      <th>gv_11</th>\n",
              "      <th>gv_12</th>\n",
              "      <th>gv_13</th>\n",
              "      <th>gv_14</th>\n",
              "      <th>gv_15</th>\n",
              "      <th>gv_16</th>\n",
              "      <th>gv_17</th>\n",
              "      <th>gv_18</th>\n",
              "      <th>gv_19</th>\n",
              "      <th>ttv_0</th>\n",
              "      <th>ttv_1</th>\n",
              "      <th>ttv_2</th>\n",
              "      <th>ttv_3</th>\n",
              "      <th>ttv_4</th>\n",
              "      <th>ttv_5</th>\n",
              "      <th>ttv_6</th>\n",
              "      <th>ttv_7</th>\n",
              "      <th>ttv_8</th>\n",
              "      <th>ttv_9</th>\n",
              "      <th>ttv_10</th>\n",
              "      <th>ttv_11</th>\n",
              "      <th>ttv_12</th>\n",
              "      <th>ttv_13</th>\n",
              "      <th>ttv_14</th>\n",
              "      <th>ttv_15</th>\n",
              "      <th>ttv_16</th>\n",
              "      <th>ttv_17</th>\n",
              "      <th>ttv_18</th>\n",
              "      <th>...</th>\n",
              "      <th>ttv_161</th>\n",
              "      <th>ttv_162</th>\n",
              "      <th>ttv_163</th>\n",
              "      <th>ttv_164</th>\n",
              "      <th>ttv_165</th>\n",
              "      <th>ttv_166</th>\n",
              "      <th>ttv_167</th>\n",
              "      <th>ttv_168</th>\n",
              "      <th>ttv_169</th>\n",
              "      <th>ttv_170</th>\n",
              "      <th>ttv_171</th>\n",
              "      <th>ttv_172</th>\n",
              "      <th>ttv_173</th>\n",
              "      <th>ttv_174</th>\n",
              "      <th>ttv_175</th>\n",
              "      <th>ttv_176</th>\n",
              "      <th>ttv_177</th>\n",
              "      <th>ttv_178</th>\n",
              "      <th>ttv_179</th>\n",
              "      <th>ttv_180</th>\n",
              "      <th>ttv_181</th>\n",
              "      <th>ttv_182</th>\n",
              "      <th>ttv_183</th>\n",
              "      <th>ttv_184</th>\n",
              "      <th>ttv_185</th>\n",
              "      <th>ttv_186</th>\n",
              "      <th>ttv_187</th>\n",
              "      <th>ttv_188</th>\n",
              "      <th>ttv_189</th>\n",
              "      <th>ttv_190</th>\n",
              "      <th>ttv_191</th>\n",
              "      <th>ttv_192</th>\n",
              "      <th>ttv_193</th>\n",
              "      <th>ttv_194</th>\n",
              "      <th>ttv_195</th>\n",
              "      <th>ttv_196</th>\n",
              "      <th>ttv_197</th>\n",
              "      <th>ttv_198</th>\n",
              "      <th>ttv_199</th>\n",
              "      <th>launch_year</th>\n",
              "    </tr>\n",
              "  </thead>\n",
              "  <tbody>\n",
              "    <tr>\n",
              "      <th>0</th>\n",
              "      <td>1</td>\n",
              "      <td>0.0</td>\n",
              "      <td>0.0</td>\n",
              "      <td>1.0</td>\n",
              "      <td>1.0</td>\n",
              "      <td>1.0</td>\n",
              "      <td>1.0</td>\n",
              "      <td>0.0</td>\n",
              "      <td>0.0</td>\n",
              "      <td>0.0</td>\n",
              "      <td>1.0</td>\n",
              "      <td>0.0</td>\n",
              "      <td>0.0</td>\n",
              "      <td>0.0</td>\n",
              "      <td>0.0</td>\n",
              "      <td>0.0</td>\n",
              "      <td>0.0</td>\n",
              "      <td>0.0</td>\n",
              "      <td>0.0</td>\n",
              "      <td>0.0</td>\n",
              "      <td>0.0</td>\n",
              "      <td>-0.001619</td>\n",
              "      <td>0.020852</td>\n",
              "      <td>0.014607</td>\n",
              "      <td>-0.074470</td>\n",
              "      <td>0.037693</td>\n",
              "      <td>-0.022565</td>\n",
              "      <td>0.045284</td>\n",
              "      <td>0.148651</td>\n",
              "      <td>-0.059135</td>\n",
              "      <td>0.112576</td>\n",
              "      <td>0.039974</td>\n",
              "      <td>-0.052657</td>\n",
              "      <td>-0.101298</td>\n",
              "      <td>-0.003653</td>\n",
              "      <td>-0.016639</td>\n",
              "      <td>-0.062109</td>\n",
              "      <td>0.064035</td>\n",
              "      <td>0.021209</td>\n",
              "      <td>-0.094346</td>\n",
              "      <td>...</td>\n",
              "      <td>-0.045125</td>\n",
              "      <td>0.053715</td>\n",
              "      <td>0.021413</td>\n",
              "      <td>-0.111884</td>\n",
              "      <td>-0.031264</td>\n",
              "      <td>0.077764</td>\n",
              "      <td>0.047066</td>\n",
              "      <td>-0.053910</td>\n",
              "      <td>-0.088029</td>\n",
              "      <td>-0.037358</td>\n",
              "      <td>0.091443</td>\n",
              "      <td>-0.021182</td>\n",
              "      <td>-0.014649</td>\n",
              "      <td>-0.095442</td>\n",
              "      <td>-0.034684</td>\n",
              "      <td>-0.043085</td>\n",
              "      <td>-0.077699</td>\n",
              "      <td>-0.099904</td>\n",
              "      <td>-0.076316</td>\n",
              "      <td>-0.120376</td>\n",
              "      <td>-0.019520</td>\n",
              "      <td>-0.060019</td>\n",
              "      <td>0.034681</td>\n",
              "      <td>0.056294</td>\n",
              "      <td>0.082642</td>\n",
              "      <td>0.104642</td>\n",
              "      <td>-0.009676</td>\n",
              "      <td>-0.097496</td>\n",
              "      <td>-0.016171</td>\n",
              "      <td>-0.029408</td>\n",
              "      <td>-0.165758</td>\n",
              "      <td>0.071256</td>\n",
              "      <td>-0.007154</td>\n",
              "      <td>-0.053782</td>\n",
              "      <td>-0.064591</td>\n",
              "      <td>0.086768</td>\n",
              "      <td>-0.005433</td>\n",
              "      <td>0.063536</td>\n",
              "      <td>-0.009162</td>\n",
              "      <td>0.020846</td>\n",
              "    </tr>\n",
              "    <tr>\n",
              "      <th>1</th>\n",
              "      <td>2</td>\n",
              "      <td>0.0</td>\n",
              "      <td>0.0</td>\n",
              "      <td>1.0</td>\n",
              "      <td>0.0</td>\n",
              "      <td>1.0</td>\n",
              "      <td>0.0</td>\n",
              "      <td>0.0</td>\n",
              "      <td>0.0</td>\n",
              "      <td>0.0</td>\n",
              "      <td>1.0</td>\n",
              "      <td>0.0</td>\n",
              "      <td>0.0</td>\n",
              "      <td>0.0</td>\n",
              "      <td>0.0</td>\n",
              "      <td>0.0</td>\n",
              "      <td>0.0</td>\n",
              "      <td>0.0</td>\n",
              "      <td>0.0</td>\n",
              "      <td>0.0</td>\n",
              "      <td>0.0</td>\n",
              "      <td>-0.007311</td>\n",
              "      <td>0.002342</td>\n",
              "      <td>0.010191</td>\n",
              "      <td>-0.014122</td>\n",
              "      <td>0.024671</td>\n",
              "      <td>-0.024247</td>\n",
              "      <td>0.004481</td>\n",
              "      <td>0.028660</td>\n",
              "      <td>-0.005594</td>\n",
              "      <td>0.029289</td>\n",
              "      <td>0.004143</td>\n",
              "      <td>-0.011158</td>\n",
              "      <td>-0.026253</td>\n",
              "      <td>-0.002730</td>\n",
              "      <td>-0.004685</td>\n",
              "      <td>-0.007629</td>\n",
              "      <td>-0.003728</td>\n",
              "      <td>0.013750</td>\n",
              "      <td>-0.008839</td>\n",
              "      <td>...</td>\n",
              "      <td>-0.015092</td>\n",
              "      <td>0.015436</td>\n",
              "      <td>0.005814</td>\n",
              "      <td>-0.022853</td>\n",
              "      <td>-0.002913</td>\n",
              "      <td>0.010017</td>\n",
              "      <td>0.014642</td>\n",
              "      <td>-0.015833</td>\n",
              "      <td>-0.000161</td>\n",
              "      <td>-0.002677</td>\n",
              "      <td>0.004497</td>\n",
              "      <td>0.006157</td>\n",
              "      <td>-0.003202</td>\n",
              "      <td>-0.011360</td>\n",
              "      <td>0.005500</td>\n",
              "      <td>-0.003886</td>\n",
              "      <td>-0.006371</td>\n",
              "      <td>-0.034481</td>\n",
              "      <td>-0.018362</td>\n",
              "      <td>-0.021787</td>\n",
              "      <td>0.003398</td>\n",
              "      <td>-0.016522</td>\n",
              "      <td>0.008819</td>\n",
              "      <td>-0.000587</td>\n",
              "      <td>0.036083</td>\n",
              "      <td>0.025864</td>\n",
              "      <td>0.001697</td>\n",
              "      <td>-0.027222</td>\n",
              "      <td>0.008119</td>\n",
              "      <td>-0.001907</td>\n",
              "      <td>-0.027025</td>\n",
              "      <td>0.010351</td>\n",
              "      <td>-0.002751</td>\n",
              "      <td>-0.023396</td>\n",
              "      <td>-0.011686</td>\n",
              "      <td>0.030641</td>\n",
              "      <td>-0.001899</td>\n",
              "      <td>0.020159</td>\n",
              "      <td>0.000216</td>\n",
              "      <td>0.020846</td>\n",
              "    </tr>\n",
              "    <tr>\n",
              "      <th>2</th>\n",
              "      <td>3</td>\n",
              "      <td>0.0</td>\n",
              "      <td>0.0</td>\n",
              "      <td>0.0</td>\n",
              "      <td>0.0</td>\n",
              "      <td>0.0</td>\n",
              "      <td>1.0</td>\n",
              "      <td>0.0</td>\n",
              "      <td>0.0</td>\n",
              "      <td>0.0</td>\n",
              "      <td>0.0</td>\n",
              "      <td>0.0</td>\n",
              "      <td>0.0</td>\n",
              "      <td>0.0</td>\n",
              "      <td>0.0</td>\n",
              "      <td>0.0</td>\n",
              "      <td>1.0</td>\n",
              "      <td>0.0</td>\n",
              "      <td>0.0</td>\n",
              "      <td>0.0</td>\n",
              "      <td>0.0</td>\n",
              "      <td>-0.027994</td>\n",
              "      <td>-0.001268</td>\n",
              "      <td>0.036716</td>\n",
              "      <td>-0.117162</td>\n",
              "      <td>0.068892</td>\n",
              "      <td>-0.056321</td>\n",
              "      <td>0.056485</td>\n",
              "      <td>0.216030</td>\n",
              "      <td>-0.062820</td>\n",
              "      <td>0.145964</td>\n",
              "      <td>0.018308</td>\n",
              "      <td>-0.063717</td>\n",
              "      <td>-0.166279</td>\n",
              "      <td>-0.006023</td>\n",
              "      <td>-0.058182</td>\n",
              "      <td>-0.113430</td>\n",
              "      <td>0.059960</td>\n",
              "      <td>0.039956</td>\n",
              "      <td>-0.119160</td>\n",
              "      <td>...</td>\n",
              "      <td>-0.068407</td>\n",
              "      <td>0.083180</td>\n",
              "      <td>0.036119</td>\n",
              "      <td>-0.168197</td>\n",
              "      <td>-0.052839</td>\n",
              "      <td>0.089922</td>\n",
              "      <td>0.057375</td>\n",
              "      <td>-0.104971</td>\n",
              "      <td>-0.131909</td>\n",
              "      <td>-0.034791</td>\n",
              "      <td>0.117728</td>\n",
              "      <td>-0.004331</td>\n",
              "      <td>-0.009111</td>\n",
              "      <td>-0.127302</td>\n",
              "      <td>-0.021970</td>\n",
              "      <td>-0.045779</td>\n",
              "      <td>-0.088460</td>\n",
              "      <td>-0.163543</td>\n",
              "      <td>-0.102422</td>\n",
              "      <td>-0.169728</td>\n",
              "      <td>-0.017971</td>\n",
              "      <td>-0.091514</td>\n",
              "      <td>0.083277</td>\n",
              "      <td>0.079518</td>\n",
              "      <td>0.164443</td>\n",
              "      <td>0.174463</td>\n",
              "      <td>-0.015113</td>\n",
              "      <td>-0.181278</td>\n",
              "      <td>-0.012017</td>\n",
              "      <td>-0.021333</td>\n",
              "      <td>-0.222293</td>\n",
              "      <td>0.090442</td>\n",
              "      <td>-0.018218</td>\n",
              "      <td>-0.100902</td>\n",
              "      <td>-0.069906</td>\n",
              "      <td>0.158568</td>\n",
              "      <td>-0.051460</td>\n",
              "      <td>0.095885</td>\n",
              "      <td>-0.000069</td>\n",
              "      <td>0.020846</td>\n",
              "    </tr>\n",
              "    <tr>\n",
              "      <th>3</th>\n",
              "      <td>4</td>\n",
              "      <td>0.0</td>\n",
              "      <td>0.0</td>\n",
              "      <td>0.0</td>\n",
              "      <td>0.0</td>\n",
              "      <td>0.0</td>\n",
              "      <td>1.0</td>\n",
              "      <td>0.0</td>\n",
              "      <td>0.0</td>\n",
              "      <td>1.0</td>\n",
              "      <td>0.0</td>\n",
              "      <td>0.0</td>\n",
              "      <td>0.0</td>\n",
              "      <td>0.0</td>\n",
              "      <td>0.0</td>\n",
              "      <td>0.0</td>\n",
              "      <td>1.0</td>\n",
              "      <td>0.0</td>\n",
              "      <td>0.0</td>\n",
              "      <td>0.0</td>\n",
              "      <td>0.0</td>\n",
              "      <td>0.010160</td>\n",
              "      <td>0.008724</td>\n",
              "      <td>0.018908</td>\n",
              "      <td>-0.106886</td>\n",
              "      <td>0.044604</td>\n",
              "      <td>-0.027850</td>\n",
              "      <td>0.062720</td>\n",
              "      <td>0.177042</td>\n",
              "      <td>-0.058275</td>\n",
              "      <td>0.113545</td>\n",
              "      <td>0.027842</td>\n",
              "      <td>-0.066603</td>\n",
              "      <td>-0.131301</td>\n",
              "      <td>0.015575</td>\n",
              "      <td>-0.045344</td>\n",
              "      <td>-0.081402</td>\n",
              "      <td>0.042827</td>\n",
              "      <td>0.018336</td>\n",
              "      <td>-0.096594</td>\n",
              "      <td>...</td>\n",
              "      <td>-0.050559</td>\n",
              "      <td>0.082381</td>\n",
              "      <td>0.019653</td>\n",
              "      <td>-0.126730</td>\n",
              "      <td>-0.039895</td>\n",
              "      <td>0.072926</td>\n",
              "      <td>0.044712</td>\n",
              "      <td>-0.055442</td>\n",
              "      <td>-0.102742</td>\n",
              "      <td>-0.050351</td>\n",
              "      <td>0.099289</td>\n",
              "      <td>-0.027310</td>\n",
              "      <td>-0.004189</td>\n",
              "      <td>-0.097082</td>\n",
              "      <td>-0.030951</td>\n",
              "      <td>-0.033054</td>\n",
              "      <td>-0.077786</td>\n",
              "      <td>-0.125809</td>\n",
              "      <td>-0.078104</td>\n",
              "      <td>-0.128231</td>\n",
              "      <td>-0.014607</td>\n",
              "      <td>-0.081827</td>\n",
              "      <td>0.058767</td>\n",
              "      <td>0.053064</td>\n",
              "      <td>0.110467</td>\n",
              "      <td>0.123124</td>\n",
              "      <td>-0.006690</td>\n",
              "      <td>-0.137090</td>\n",
              "      <td>0.005266</td>\n",
              "      <td>-0.011584</td>\n",
              "      <td>-0.180073</td>\n",
              "      <td>0.075501</td>\n",
              "      <td>-0.000978</td>\n",
              "      <td>-0.068578</td>\n",
              "      <td>-0.065922</td>\n",
              "      <td>0.102897</td>\n",
              "      <td>-0.024040</td>\n",
              "      <td>0.067549</td>\n",
              "      <td>0.019952</td>\n",
              "      <td>0.020846</td>\n",
              "    </tr>\n",
              "    <tr>\n",
              "      <th>4</th>\n",
              "      <td>5</td>\n",
              "      <td>0.0</td>\n",
              "      <td>0.0</td>\n",
              "      <td>0.0</td>\n",
              "      <td>0.0</td>\n",
              "      <td>0.0</td>\n",
              "      <td>1.0</td>\n",
              "      <td>0.0</td>\n",
              "      <td>0.0</td>\n",
              "      <td>0.0</td>\n",
              "      <td>0.0</td>\n",
              "      <td>0.0</td>\n",
              "      <td>0.0</td>\n",
              "      <td>0.0</td>\n",
              "      <td>0.0</td>\n",
              "      <td>0.0</td>\n",
              "      <td>0.0</td>\n",
              "      <td>0.0</td>\n",
              "      <td>0.0</td>\n",
              "      <td>0.0</td>\n",
              "      <td>0.0</td>\n",
              "      <td>-0.009706</td>\n",
              "      <td>-0.001839</td>\n",
              "      <td>-0.004205</td>\n",
              "      <td>-0.151756</td>\n",
              "      <td>-0.004311</td>\n",
              "      <td>0.010818</td>\n",
              "      <td>0.084913</td>\n",
              "      <td>0.283817</td>\n",
              "      <td>-0.091185</td>\n",
              "      <td>0.134200</td>\n",
              "      <td>0.020124</td>\n",
              "      <td>-0.094595</td>\n",
              "      <td>-0.220452</td>\n",
              "      <td>-0.008585</td>\n",
              "      <td>-0.087853</td>\n",
              "      <td>-0.150233</td>\n",
              "      <td>0.149963</td>\n",
              "      <td>-0.000101</td>\n",
              "      <td>-0.176484</td>\n",
              "      <td>...</td>\n",
              "      <td>-0.066000</td>\n",
              "      <td>0.074140</td>\n",
              "      <td>-0.010416</td>\n",
              "      <td>-0.217991</td>\n",
              "      <td>-0.101602</td>\n",
              "      <td>0.142051</td>\n",
              "      <td>0.054253</td>\n",
              "      <td>-0.087568</td>\n",
              "      <td>-0.205137</td>\n",
              "      <td>-0.055496</td>\n",
              "      <td>0.213550</td>\n",
              "      <td>-0.046543</td>\n",
              "      <td>0.016487</td>\n",
              "      <td>-0.179826</td>\n",
              "      <td>-0.072562</td>\n",
              "      <td>-0.055356</td>\n",
              "      <td>-0.126756</td>\n",
              "      <td>-0.135448</td>\n",
              "      <td>-0.089017</td>\n",
              "      <td>-0.210058</td>\n",
              "      <td>0.010490</td>\n",
              "      <td>-0.131375</td>\n",
              "      <td>0.095569</td>\n",
              "      <td>0.125783</td>\n",
              "      <td>0.115550</td>\n",
              "      <td>0.170745</td>\n",
              "      <td>-0.045340</td>\n",
              "      <td>-0.231334</td>\n",
              "      <td>-0.024179</td>\n",
              "      <td>-0.033537</td>\n",
              "      <td>-0.260236</td>\n",
              "      <td>0.151213</td>\n",
              "      <td>0.021207</td>\n",
              "      <td>-0.106634</td>\n",
              "      <td>-0.096092</td>\n",
              "      <td>0.122233</td>\n",
              "      <td>-0.046903</td>\n",
              "      <td>0.116846</td>\n",
              "      <td>-0.008933</td>\n",
              "      <td>0.020846</td>\n",
              "    </tr>\n",
              "  </tbody>\n",
              "</table>\n",
              "<p>5 rows × 222 columns</p>\n",
              "</div>"
            ],
            "text/plain": [
              "   item_id  gv_0  gv_1  gv_2  ...   ttv_197   ttv_198   ttv_199  launch_year\n",
              "0        1   0.0   0.0   1.0  ... -0.005433  0.063536 -0.009162     0.020846\n",
              "1        2   0.0   0.0   1.0  ... -0.001899  0.020159  0.000216     0.020846\n",
              "2        3   0.0   0.0   0.0  ... -0.051460  0.095885 -0.000069     0.020846\n",
              "3        4   0.0   0.0   0.0  ... -0.024040  0.067549  0.019952     0.020846\n",
              "4        5   0.0   0.0   0.0  ... -0.046903  0.116846 -0.008933     0.020846\n",
              "\n",
              "[5 rows x 222 columns]"
            ]
          },
          "metadata": {
            "tags": []
          },
          "execution_count": 188
        }
      ]
    },
    {
      "cell_type": "code",
      "metadata": {
        "colab": {
          "base_uri": "https://localhost:8080/"
        },
        "id": "YffRSnRDwqWd",
        "outputId": "9e0a536a-b10b-4db3-cfc2-a82cf6b78972"
      },
      "source": [
        "item_features.item_id.nunique()"
      ],
      "execution_count": 189,
      "outputs": [
        {
          "output_type": "execute_result",
          "data": {
            "text/plain": [
              "9742"
            ]
          },
          "metadata": {
            "tags": []
          },
          "execution_count": 189
        }
      ]
    },
    {
      "cell_type": "code",
      "metadata": {
        "colab": {
          "base_uri": "https://localhost:8080/"
        },
        "id": "ddYtVgubwsPY",
        "outputId": "2ad463f0-f0c7-4c11-ea11-d2c431606b22"
      },
      "source": [
        "interactions.item_id.nunique()"
      ],
      "execution_count": 191,
      "outputs": [
        {
          "output_type": "execute_result",
          "data": {
            "text/plain": [
              "9724"
            ]
          },
          "metadata": {
            "tags": []
          },
          "execution_count": 191
        }
      ]
    },
    {
      "cell_type": "code",
      "metadata": {
        "id": "lIH9R1RzyOWS"
      },
      "source": [
        "drop_target = [if_item  for if_item in item_features.item_id.unique() if if_item not in interactions.item_id.unique()]"
      ],
      "execution_count": 193,
      "outputs": []
    },
    {
      "cell_type": "code",
      "metadata": {
        "id": "SOr2p9vpy6sE"
      },
      "source": [
        "# interaction에 없는 item_id의 feature 정보는 제외\n",
        "n_item_features= item_features.loc[~item_features.item_id.apply(lambda x: x in drop_target)]"
      ],
      "execution_count": 194,
      "outputs": []
    },
    {
      "cell_type": "code",
      "metadata": {
        "colab": {
          "base_uri": "https://localhost:8080/"
        },
        "id": "FXk0B7HJ36U1",
        "outputId": "345e034f-c06c-4887-a0d2-a18450aad74f"
      },
      "source": [
        "np.random.seed(1492)\n",
        "interactions[\"random\"] = np.random.random(size=len(interactions))\n",
        "test_pct = 0.2\n",
        "\n",
        "train_mask = interactions['random'] <  (1 - test_pct)\n",
        "valid_mask = interactions['random'] >= (1 - test_pct)\n",
        "\n",
        "interactions_train = interactions[train_mask][['user_id', 'item_id']]\n",
        "interactions_valid = interactions[valid_mask][['user_id', 'item_id']]\n",
        "\n",
        "train_users = np.sort(interactions_train.user_id.unique())\n",
        "valid_users = np.sort(interactions_valid.user_id.unique())\n",
        "cold_start_users = set(valid_users) - set(train_users)\n",
        "\n",
        "train_items = np.sort(interactions_train.item_id.unique())\n",
        "valid_items = np.sort(interactions_valid.item_id.unique())\n",
        "cold_start_items = set(valid_items) - set(train_items)\n",
        "\n",
        "print(\"train shape: {}\".format(interactions_train.shape))\n",
        "print(\"valid shape: {}\".format(interactions_valid.shape))\n",
        "\n",
        "print(\"train users: {}\".format(len(train_users)))\n",
        "print(\"valid users: {}\".format(len(valid_users)))\n",
        "print(\"cold-start users: {}\".format(cold_start_users))\n",
        "\n",
        "print(\"train items: {}\".format(len(train_items)))\n",
        "print(\"valid items: {}\".format(len(valid_items)))\n",
        "print(\"cold-start items: {}\".format(cold_start_items))"
      ],
      "execution_count": 196,
      "outputs": [
        {
          "output_type": "stream",
          "text": [
            "train shape: (80392, 2)\n",
            "valid shape: (20444, 2)\n",
            "train users: 610\n",
            "valid users: 610\n",
            "cold-start users: set()\n",
            "train items: 8967\n",
            "valid items: 5172\n",
            "cold-start items: {83969, 2056, 155659, 6158, 77841, 6163, 4116, 79897, 131098, 96283, 118814, 131104, 4129, 159779, 6181, 6182, 65577, 8238, 135216, 118834, 143410, 86068, 98361, 4154, 77881, 6204, 36931, 26693, 133195, 6223, 6225, 149590, 120919, 141400, 26713, 4189, 65631, 6241, 143458, 151653, 53355, 77931, 8302, 26736, 118896, 51314, 117, 2165, 96373, 2172, 73858, 90243, 71810, 90245, 100487, 127116, 163981, 151695, 8336, 163985, 32914, 149, 32917, 127134, 26791, 6316, 100527, 82095, 121007, 57526, 84156, 92348, 110781, 102590, 104644, 6342, 6344, 121035, 127180, 129229, 151759, 78034, 6358, 219, 172253, 4323, 2281, 8427, 127212, 168174, 241, 243, 6390, 80124, 8446, 2304, 8450, 96518, 88327, 78088, 8462, 51471, 90384, 69904, 96530, 180497, 26901, 43289, 176413, 6429, 106785, 295, 51498, 4394, 301, 53550, 26928, 67888, 4402, 6448, 170289, 6453, 129333, 170297, 8506, 2362, 2364, 90428, 8511, 8512, 2368, 123200, 26947, 174403, 63808, 71999, 31049, 6480, 59731, 2388, 8534, 47446, 4449, 4454, 51562, 4459, 33132, 4462, 31086, 33138, 51573, 129397, 156025, 27002, 61818, 8575, 27008, 8577, 70015, 106883, 8580, 6528, 164226, 391, 139655, 4490, 8588, 4496, 184721, 6545, 31123, 4500, 129428, 131480, 8601, 4504, 8605, 170399, 188833, 8617, 4524, 119218, 6578, 96691, 178615, 2493, 6598, 2503, 6603, 4557, 72142, 90576, 184791, 176601, 31193, 476, 92637, 488, 2538, 51694, 8690, 57843, 92665, 141818, 4603, 55805, 168456, 8713, 59915, 6667, 526, 2577, 141846, 4630, 6678, 6679, 164375, 43549, 547, 43558, 27178, 172589, 158254, 8753, 6706, 170551, 4666, 86593, 8771, 37444, 113225, 31309, 4687, 139855, 59985, 602, 6746, 98908, 4704, 2659, 37475, 74342, 615, 82534, 109161, 6760, 47721, 146024, 6768, 90738, 189043, 4722, 103027, 37495, 88697, 121469, 109183, 2695, 4743, 649, 137863, 8844, 131724, 160400, 6803, 107159, 123545, 184987, 131739, 43677, 84637, 123553, 679, 4775, 88746, 68269, 2737, 96945, 4788, 2742, 2744, 80572, 99005, 4798, 31422, 31424, 86721, 113350, 8905, 4810, 4813, 152270, 31445, 726, 99030, 174815, 101088, 8934, 6886, 8938, 27370, 60141, 2800, 6899, 757, 142074, 4860, 49917, 109313, 135937, 2820, 775, 111375, 2837, 2839, 111384, 172825, 170777, 78620, 27426, 6950, 176935, 162598, 27434, 2865, 4917, 824, 82744, 109372, 4925, 4926, 31553, 170817, 2884, 2885, 6982, 6986, 170827, 2897, 4946, 144210, 4953, 144222, 4961, 164707, 88932, 140133, 4970, 7023, 33649, 142196, 4988, 7037, 179073, 43908, 160644, 43914, 107408, 27537, 74647, 134041, 78746, 2974, 95135, 48032, 7073, 5028, 2984, 7085, 58287, 7088, 72624, 179119, 183227, 156605, 5053, 5054, 170945, 58306, 5059, 7107, 3013, 95175, 68552, 80839, 31692, 3021, 60365, 66511, 76751, 89039, 56274, 979, 84950, 80858, 76763, 7131, 80864, 993, 3043, 60389, 62437, 5095, 50160, 3056, 68597, 72694, 68600, 5112, 31737, 5116, 183295, 158721, 5121, 7177, 162828, 125970, 80917, 7191, 3096, 142366, 7205, 113705, 7212, 27695, 5168, 70703, 193583, 7217, 70708, 132153, 103483, 109633, 5197, 27728, 152658, 99415, 5209, 3165, 7262, 27744, 128097, 136297, 5226, 115819, 189547, 3183, 1140, 27769, 158842, 91261, 177285, 27784, 126088, 7304, 173197, 136341, 5272, 101529, 27802, 5278, 44197, 5285, 7344, 31923, 27829, 103609, 148667, 5307, 126142, 148675, 25795, 173253, 62662, 173255, 113862, 31952, 44243, 3289, 27866, 91355, 72921, 5345, 79073, 25826, 146662, 60647, 140523, 81132, 132333, 140525, 132335, 7411, 171251, 87287, 146684, 5373, 62718, 136447, 27905, 60674, 58627, 142598, 5384, 44301, 85261, 5390, 105746, 165139, 38164, 7443, 95519, 48416, 163112, 146730, 25905, 3379, 99636, 7479, 179511, 3389, 136511, 60737, 187717, 175431, 116044, 3414, 25947, 144734, 3428, 124273, 138610, 136564, 109941, 5493, 114044, 97665, 60803, 25996, 132496, 148881, 130452, 118166, 7584, 3492, 97701, 77233, 50610, 32179, 118198, 60857, 107962, 103865, 5562, 1473, 140737, 1475, 71108, 58826, 26059, 95690, 1496, 159193, 58842, 46559, 87522, 1507, 60904, 128488, 1514, 52715, 89580, 54768, 54771, 157172, 58879, 101895, 34312, 65037, 91666, 118290, 126482, 95771, 40478, 5664, 7714, 146986, 1583, 1585, 7730, 3637, 63033, 26176, 7745, 97858, 5699, 114246, 26183, 5706, 136778, 3660, 1613, 3661, 118354, 138835, 26198, 157270, 5720, 44633, 5723, 175707, 67168, 48741, 7786, 69227, 165483, 77421, 167538, 1652, 5749, 1654, 134775, 93819, 1660, 26236, 26237, 3711, 136834, 52867, 5768, 134796, 1677, 5773, 104078, 59026, 5780, 1685, 7832, 26265, 136859, 93855, 106144, 5797, 5801, 65193, 54962, 102070, 143031, 38583, 128695, 5818, 32442, 5829, 112326, 26313, 32460, 26317, 3792, 3795, 7900, 1757, 3806, 1759, 3808, 91873, 157407, 128736, 171749, 171751, 3816, 44777, 55020, 61167, 91890, 5875, 42740, 3832, 55036, 26366, 136958, 32511, 71429, 7943, 100106, 165645, 71438, 7951, 73488, 46865, 55061, 130842, 93982, 1824, 7976, 5929, 71466, 7979, 3888, 7984, 7993, 100159, 153408, 112450, 71494, 55112, 102217, 32589, 3919, 65359, 147282, 59220, 1881, 69469, 5984, 1891, 5990, 8043, 1902, 3958, 96121, 8057, 3965, 100226, 55190, 8093, 130976, 6049, 55207, 6057, 59306, 8117, 8118, 151479, 120761, 116668, 42943, 184257, 1985, 71619, 8131, 1990, 6086, 59336, 8136, 106441, 110541, 8142, 178129, 147410, 4051, 8167, 34800, 4083, 98296, 8188, 26622, 110591}\n"
          ],
          "name": "stdout"
        },
        {
          "output_type": "stream",
          "text": [
            "/usr/local/lib/python3.6/dist-packages/ipykernel_launcher.py:2: SettingWithCopyWarning: \n",
            "A value is trying to be set on a copy of a slice from a DataFrame.\n",
            "Try using .loc[row_indexer,col_indexer] = value instead\n",
            "\n",
            "See the caveats in the documentation: https://pandas.pydata.org/pandas-docs/stable/user_guide/indexing.html#returning-a-view-versus-a-copy\n",
            "  \n"
          ],
          "name": "stderr"
        }
      ]
    },
    {
      "cell_type": "code",
      "metadata": {
        "colab": {
          "base_uri": "https://localhost:8080/"
        },
        "id": "jqDtBVb05Q4h",
        "outputId": "0d63abdb-eb77-47df-caaa-76007247d3f4"
      },
      "source": [
        "# user_features = user_features[user_features.user_id.isin(train_users)]\n",
        "item_features = item_features[item_features.item_id.isin(train_items)]\n",
        "item_features.shape"
      ],
      "execution_count": 205,
      "outputs": [
        {
          "output_type": "execute_result",
          "data": {
            "text/plain": [
              "(8967, 222)"
            ]
          },
          "metadata": {
            "tags": []
          },
          "execution_count": 205
        }
      ]
    },
    {
      "cell_type": "markdown",
      "metadata": {
        "id": "tX4eUn5spNSM"
      },
      "source": [
        "Rankfm"
      ]
    },
    {
      "cell_type": "code",
      "metadata": {
        "colab": {
          "base_uri": "https://localhost:8080/"
        },
        "id": "mOLJaakipO8I",
        "outputId": "64eed39d-2e36-4afc-c035-1f5050e1d1a0"
      },
      "source": [
        "!pip install rankfm"
      ],
      "execution_count": 63,
      "outputs": [
        {
          "output_type": "stream",
          "text": [
            "Collecting rankfm\n",
            "\u001b[?25l  Downloading https://files.pythonhosted.org/packages/75/4a/34c98f1c2784204ba1bfccc98b9bf19c21cf2fb2a058582ca2961b02dd80/rankfm-0.2.5.tar.gz (145kB)\n",
            "\r\u001b[K     |██▎                             | 10kB 24.3MB/s eta 0:00:01\r\u001b[K     |████▌                           | 20kB 19.5MB/s eta 0:00:01\r\u001b[K     |██████▊                         | 30kB 11.5MB/s eta 0:00:01\r\u001b[K     |█████████                       | 40kB 9.8MB/s eta 0:00:01\r\u001b[K     |███████████▎                    | 51kB 5.3MB/s eta 0:00:01\r\u001b[K     |█████████████▌                  | 61kB 5.9MB/s eta 0:00:01\r\u001b[K     |███████████████▊                | 71kB 6.4MB/s eta 0:00:01\r\u001b[K     |██████████████████              | 81kB 6.5MB/s eta 0:00:01\r\u001b[K     |████████████████████▎           | 92kB 6.8MB/s eta 0:00:01\r\u001b[K     |██████████████████████▌         | 102kB 6.9MB/s eta 0:00:01\r\u001b[K     |████████████████████████▊       | 112kB 6.9MB/s eta 0:00:01\r\u001b[K     |███████████████████████████     | 122kB 6.9MB/s eta 0:00:01\r\u001b[K     |█████████████████████████████▎  | 133kB 6.9MB/s eta 0:00:01\r\u001b[K     |███████████████████████████████▌| 143kB 6.9MB/s eta 0:00:01\r\u001b[K     |████████████████████████████████| 153kB 6.9MB/s \n",
            "\u001b[?25hRequirement already satisfied: numpy>=1.15 in /usr/local/lib/python3.6/dist-packages (from rankfm) (1.18.5)\n",
            "Requirement already satisfied: pandas>=0.24 in /usr/local/lib/python3.6/dist-packages (from rankfm) (1.1.4)\n",
            "Requirement already satisfied: pytz>=2017.2 in /usr/local/lib/python3.6/dist-packages (from pandas>=0.24->rankfm) (2018.9)\n",
            "Requirement already satisfied: python-dateutil>=2.7.3 in /usr/local/lib/python3.6/dist-packages (from pandas>=0.24->rankfm) (2.8.1)\n",
            "Requirement already satisfied: six>=1.5 in /usr/local/lib/python3.6/dist-packages (from python-dateutil>=2.7.3->pandas>=0.24->rankfm) (1.15.0)\n",
            "Building wheels for collected packages: rankfm\n",
            "  Building wheel for rankfm (setup.py) ... \u001b[?25l\u001b[?25hdone\n",
            "  Created wheel for rankfm: filename=rankfm-0.2.5-cp36-cp36m-linux_x86_64.whl size=386894 sha256=b45d2fa6ae731e22575ee500fa39067b8540690dffb24194ab5c0219464b908e\n",
            "  Stored in directory: /root/.cache/pip/wheels/5a/be/fe/2beeed2439eeae96689187d4d82fe8a037c7131555c9d695fe\n",
            "Successfully built rankfm\n",
            "Installing collected packages: rankfm\n",
            "Successfully installed rankfm-0.2.5\n"
          ],
          "name": "stdout"
        }
      ]
    },
    {
      "cell_type": "code",
      "metadata": {
        "colab": {
          "base_uri": "https://localhost:8080/"
        },
        "id": "U5cEqT90pO3j",
        "outputId": "da8274b1-2beb-4dd5-ac01-d9857585a3ec"
      },
      "source": [
        "from rankfm.rankfm import RankFM\n",
        "from rankfm.evaluation import hit_rate, reciprocal_rank, discounted_cumulative_gain, precision, recall, diversity\n",
        "\n",
        "model = RankFM(factors=20, loss='warp', max_samples=20, alpha=0.01, sigma=0.1, learning_rate=0.10, learning_schedule='invscaling')\n",
        "model"
      ],
      "execution_count": 206,
      "outputs": [
        {
          "output_type": "execute_result",
          "data": {
            "text/plain": [
              "<rankfm.rankfm.RankFM at 0x7ff295158c50>"
            ]
          },
          "metadata": {
            "tags": []
          },
          "execution_count": 206
        }
      ]
    },
    {
      "cell_type": "code",
      "metadata": {
        "colab": {
          "base_uri": "https://localhost:8080/"
        },
        "id": "YipSQ_t95u6O",
        "outputId": "a9d95491-b212-48c3-b3de-6b85b1cfdd76"
      },
      "source": [
        "interactions_train.item_id.unique()"
      ],
      "execution_count": 212,
      "outputs": [
        {
          "output_type": "execute_result",
          "data": {
            "text/plain": [
              "array([     1,      6,     47, ..., 160527, 160836, 163937])"
            ]
          },
          "metadata": {
            "tags": []
          },
          "execution_count": 212
        }
      ]
    },
    {
      "cell_type": "code",
      "metadata": {
        "id": "nPPkh1m05xT4"
      },
      "source": [
        "n_item_features = n_item_features.loc[n_item_features.item_id.isin(interactions_train.item_id.unique())]"
      ],
      "execution_count": 215,
      "outputs": []
    },
    {
      "cell_type": "code",
      "metadata": {
        "colab": {
          "base_uri": "https://localhost:8080/"
        },
        "id": "GqnDOyjSpO0W",
        "outputId": "8b6b8fec-6452-4f56-ddae-cb36dd51844a"
      },
      "source": [
        "model.fit(interactions = interactions_train, item_features= n_item_features, epochs=20,verbose=True)"
      ],
      "execution_count": 216,
      "outputs": [
        {
          "output_type": "stream",
          "text": [
            "\n",
            "training epoch: 0\n",
            "log likelihood: -44315.4296875\n",
            "\n",
            "training epoch: 1\n",
            "log likelihood: -41140.01953125\n",
            "\n",
            "training epoch: 2\n",
            "log likelihood: -40590.671875\n",
            "\n",
            "training epoch: 3\n",
            "log likelihood: -40032.69921875\n",
            "\n",
            "training epoch: 4\n",
            "log likelihood: -38975.2109375\n",
            "\n",
            "training epoch: 5\n",
            "log likelihood: -38289.23046875\n",
            "\n",
            "training epoch: 6\n",
            "log likelihood: -37383.6484375\n",
            "\n",
            "training epoch: 7\n",
            "log likelihood: -36384.01171875\n",
            "\n",
            "training epoch: 8\n",
            "log likelihood: -35681.3203125\n",
            "\n",
            "training epoch: 9\n",
            "log likelihood: -34959.87890625\n",
            "\n",
            "training epoch: 10\n",
            "log likelihood: -34325.96875\n",
            "\n",
            "training epoch: 11\n",
            "log likelihood: -33674.51953125\n",
            "\n",
            "training epoch: 12\n",
            "log likelihood: -33256.28125\n",
            "\n",
            "training epoch: 13\n",
            "log likelihood: -32794.58984375\n",
            "\n",
            "training epoch: 14\n",
            "log likelihood: -32336.529296875\n",
            "\n",
            "training epoch: 15\n",
            "log likelihood: -32013.0\n",
            "\n",
            "training epoch: 16\n",
            "log likelihood: -31739.2109375\n",
            "\n",
            "training epoch: 17\n",
            "log likelihood: -31555.890625\n",
            "\n",
            "training epoch: 18\n",
            "log likelihood: -31245.939453125\n",
            "\n",
            "training epoch: 19\n",
            "log likelihood: -31239.400390625\n"
          ],
          "name": "stdout"
        }
      ]
    },
    {
      "cell_type": "code",
      "metadata": {
        "colab": {
          "base_uri": "https://localhost:8080/"
        },
        "id": "9HyZw8NN6oUp",
        "outputId": "2ab82a50-6f03-42fb-e21e-164cf2c1ead4"
      },
      "source": [
        "valid_scores = model.predict(interactions_valid, cold_start='nan') \n",
        "print(valid_scores.shape)\n",
        "pd.Series(valid_scores).describe()"
      ],
      "execution_count": 217,
      "outputs": [
        {
          "output_type": "stream",
          "text": [
            "(20444,)\n"
          ],
          "name": "stdout"
        },
        {
          "output_type": "execute_result",
          "data": {
            "text/plain": [
              "count    19623.000000\n",
              "mean         1.299727\n",
              "std          1.198021\n",
              "min         -2.426176\n",
              "25%          0.362357\n",
              "50%          1.274077\n",
              "75%          2.177650\n",
              "max          5.143312\n",
              "dtype: float64"
            ]
          },
          "metadata": {
            "tags": []
          },
          "execution_count": 217
        }
      ]
    },
    {
      "cell_type": "code",
      "metadata": {
        "colab": {
          "base_uri": "https://localhost:8080/",
          "height": 419
        },
        "id": "IAIofJHy6153",
        "outputId": "ef2f1b79-9a00-4b39-85d2-ab0994aea5fd"
      },
      "source": [
        "valid_recommendations = model.recommend(valid_users, n_items=10, filter_previous=True, cold_start='nan')\n",
        "valid_recommendations"
      ],
      "execution_count": 301,
      "outputs": [
        {
          "output_type": "execute_result",
          "data": {
            "text/html": [
              "<div>\n",
              "<style scoped>\n",
              "    .dataframe tbody tr th:only-of-type {\n",
              "        vertical-align: middle;\n",
              "    }\n",
              "\n",
              "    .dataframe tbody tr th {\n",
              "        vertical-align: top;\n",
              "    }\n",
              "\n",
              "    .dataframe thead th {\n",
              "        text-align: right;\n",
              "    }\n",
              "</style>\n",
              "<table border=\"1\" class=\"dataframe\">\n",
              "  <thead>\n",
              "    <tr style=\"text-align: right;\">\n",
              "      <th></th>\n",
              "      <th>0</th>\n",
              "      <th>1</th>\n",
              "      <th>2</th>\n",
              "      <th>3</th>\n",
              "      <th>4</th>\n",
              "      <th>5</th>\n",
              "      <th>6</th>\n",
              "      <th>7</th>\n",
              "      <th>8</th>\n",
              "      <th>9</th>\n",
              "    </tr>\n",
              "  </thead>\n",
              "  <tbody>\n",
              "    <tr>\n",
              "      <th>1</th>\n",
              "      <td>2716</td>\n",
              "      <td>1407</td>\n",
              "      <td>2081</td>\n",
              "      <td>1391</td>\n",
              "      <td>223</td>\n",
              "      <td>3114</td>\n",
              "      <td>3175</td>\n",
              "      <td>588</td>\n",
              "      <td>1968</td>\n",
              "      <td>2605</td>\n",
              "    </tr>\n",
              "    <tr>\n",
              "      <th>2</th>\n",
              "      <td>68157</td>\n",
              "      <td>80463</td>\n",
              "      <td>48516</td>\n",
              "      <td>59315</td>\n",
              "      <td>2959</td>\n",
              "      <td>69122</td>\n",
              "      <td>112183</td>\n",
              "      <td>593</td>\n",
              "      <td>112556</td>\n",
              "      <td>54286</td>\n",
              "    </tr>\n",
              "    <tr>\n",
              "      <th>3</th>\n",
              "      <td>1196</td>\n",
              "      <td>1200</td>\n",
              "      <td>1214</td>\n",
              "      <td>1197</td>\n",
              "      <td>1356</td>\n",
              "      <td>1036</td>\n",
              "      <td>2918</td>\n",
              "      <td>2161</td>\n",
              "      <td>1282</td>\n",
              "      <td>1269</td>\n",
              "    </tr>\n",
              "    <tr>\n",
              "      <th>4</th>\n",
              "      <td>2858</td>\n",
              "      <td>1247</td>\n",
              "      <td>223</td>\n",
              "      <td>1</td>\n",
              "      <td>858</td>\n",
              "      <td>1172</td>\n",
              "      <td>50</td>\n",
              "      <td>2396</td>\n",
              "      <td>2987</td>\n",
              "      <td>1285</td>\n",
              "    </tr>\n",
              "    <tr>\n",
              "      <th>5</th>\n",
              "      <td>780</td>\n",
              "      <td>318</td>\n",
              "      <td>593</td>\n",
              "      <td>356</td>\n",
              "      <td>454</td>\n",
              "      <td>592</td>\n",
              "      <td>32</td>\n",
              "      <td>480</td>\n",
              "      <td>648</td>\n",
              "      <td>350</td>\n",
              "    </tr>\n",
              "    <tr>\n",
              "      <th>...</th>\n",
              "      <td>...</td>\n",
              "      <td>...</td>\n",
              "      <td>...</td>\n",
              "      <td>...</td>\n",
              "      <td>...</td>\n",
              "      <td>...</td>\n",
              "      <td>...</td>\n",
              "      <td>...</td>\n",
              "      <td>...</td>\n",
              "      <td>...</td>\n",
              "    </tr>\n",
              "    <tr>\n",
              "      <th>606</th>\n",
              "      <td>296</td>\n",
              "      <td>7153</td>\n",
              "      <td>3949</td>\n",
              "      <td>1246</td>\n",
              "      <td>8949</td>\n",
              "      <td>923</td>\n",
              "      <td>4993</td>\n",
              "      <td>92259</td>\n",
              "      <td>47</td>\n",
              "      <td>3996</td>\n",
              "    </tr>\n",
              "    <tr>\n",
              "      <th>607</th>\n",
              "      <td>1210</td>\n",
              "      <td>648</td>\n",
              "      <td>593</td>\n",
              "      <td>1580</td>\n",
              "      <td>1200</td>\n",
              "      <td>1197</td>\n",
              "      <td>588</td>\n",
              "      <td>1073</td>\n",
              "      <td>1240</td>\n",
              "      <td>1198</td>\n",
              "    </tr>\n",
              "    <tr>\n",
              "      <th>608</th>\n",
              "      <td>333</td>\n",
              "      <td>2115</td>\n",
              "      <td>2683</td>\n",
              "      <td>3793</td>\n",
              "      <td>1517</td>\n",
              "      <td>2700</td>\n",
              "      <td>466</td>\n",
              "      <td>1690</td>\n",
              "      <td>3253</td>\n",
              "      <td>1197</td>\n",
              "    </tr>\n",
              "    <tr>\n",
              "      <th>609</th>\n",
              "      <td>780</td>\n",
              "      <td>153</td>\n",
              "      <td>377</td>\n",
              "      <td>593</td>\n",
              "      <td>165</td>\n",
              "      <td>32</td>\n",
              "      <td>95</td>\n",
              "      <td>349</td>\n",
              "      <td>434</td>\n",
              "      <td>648</td>\n",
              "    </tr>\n",
              "    <tr>\n",
              "      <th>610</th>\n",
              "      <td>1387</td>\n",
              "      <td>1219</td>\n",
              "      <td>858</td>\n",
              "      <td>6874</td>\n",
              "      <td>47610</td>\n",
              "      <td>2542</td>\n",
              "      <td>48394</td>\n",
              "      <td>4132</td>\n",
              "      <td>4995</td>\n",
              "      <td>143355</td>\n",
              "    </tr>\n",
              "  </tbody>\n",
              "</table>\n",
              "<p>610 rows × 10 columns</p>\n",
              "</div>"
            ],
            "text/plain": [
              "         0      1      2      3      4      5       6      7       8       9\n",
              "1     2716   1407   2081   1391    223   3114    3175    588    1968    2605\n",
              "2    68157  80463  48516  59315   2959  69122  112183    593  112556   54286\n",
              "3     1196   1200   1214   1197   1356   1036    2918   2161    1282    1269\n",
              "4     2858   1247    223      1    858   1172      50   2396    2987    1285\n",
              "5      780    318    593    356    454    592      32    480     648     350\n",
              "..     ...    ...    ...    ...    ...    ...     ...    ...     ...     ...\n",
              "606    296   7153   3949   1246   8949    923    4993  92259      47    3996\n",
              "607   1210    648    593   1580   1200   1197     588   1073    1240    1198\n",
              "608    333   2115   2683   3793   1517   2700     466   1690    3253    1197\n",
              "609    780    153    377    593    165     32      95    349     434     648\n",
              "610   1387   1219    858   6874  47610   2542   48394   4132    4995  143355\n",
              "\n",
              "[610 rows x 10 columns]"
            ]
          },
          "metadata": {
            "tags": []
          },
          "execution_count": 301
        }
      ]
    },
    {
      "cell_type": "code",
      "metadata": {
        "id": "cPOsz71p7SDL"
      },
      "source": [
        "k = 10"
      ],
      "execution_count": 302,
      "outputs": []
    },
    {
      "cell_type": "code",
      "metadata": {
        "colab": {
          "base_uri": "https://localhost:8080/"
        },
        "id": "b_F3A9MV7DFH",
        "outputId": "5b10d4d3-ee2e-43f1-832f-b5aca85c20d8"
      },
      "source": [
        "most_popular = interactions_train.groupby('item_id')['user_id'].count().sort_values(ascending=False)[:k]\n",
        "most_popular"
      ],
      "execution_count": 303,
      "outputs": [
        {
          "output_type": "execute_result",
          "data": {
            "text/plain": [
              "item_id\n",
              "318     263\n",
              "356     262\n",
              "296     252\n",
              "593     227\n",
              "2571    225\n",
              "260     199\n",
              "480     198\n",
              "110     186\n",
              "589     182\n",
              "50      175\n",
              "Name: user_id, dtype: int64"
            ]
          },
          "metadata": {
            "tags": []
          },
          "execution_count": 303
        }
      ]
    },
    {
      "cell_type": "code",
      "metadata": {
        "colab": {
          "base_uri": "https://localhost:8080/"
        },
        "id": "aHGJp2Rs7Xvi",
        "outputId": "7580f6dd-6062-4c9b-9017-ffa36be510fd"
      },
      "source": [
        "test_user_items = interactions_valid.groupby('user_id')['item_id'].apply(set).to_dict()\n",
        "test_user_items = {key: val for key, val in test_user_items.items() if key in set(train_users)}\n",
        "\n",
        "base_hrt = np.mean([int(len(set(most_popular.index) & set(val)) > 0)                       for key, val in test_user_items.items()])\n",
        "base_pre = np.mean([len(set(most_popular.index) & set(val)) / len(set(most_popular.index)) for key, val in test_user_items.items()])\n",
        "base_rec = np.mean([len(set(most_popular.index) & set(val)) / len(set(val))                for key, val in test_user_items.items()])\n",
        "\n",
        "print(\"number of test users: {}\".format(len(test_user_items)))\n",
        "print(\"baseline hit rate: {:.3f}\".format(base_hrt))\n",
        "print(\"baseline precision: {:.3f}\".format(base_pre))\n",
        "print(\"baseline recall: {:.3f}\".format(base_rec))"
      ],
      "execution_count": 304,
      "outputs": [
        {
          "output_type": "stream",
          "text": [
            "number of test users: 610\n",
            "baseline hit rate: 0.515\n",
            "baseline precision: 0.081\n",
            "baseline recall: 0.048\n"
          ],
          "name": "stdout"
        }
      ]
    },
    {
      "cell_type": "markdown",
      "metadata": {
        "id": "F1RYJ0fSb7NJ"
      },
      "source": [
        "## predict dcg for baseline [popular]"
      ]
    },
    {
      "cell_type": "code",
      "metadata": {
        "id": "i8krh650jOcc"
      },
      "source": [
        "def idcg(l):\n",
        "  return sum((1.0 / np.log(i + 2) for i in range(l)))"
      ],
      "execution_count": 322,
      "outputs": []
    },
    {
      "cell_type": "code",
      "metadata": {
        "id": "f6T2Nt2OlA9K"
      },
      "source": [
        "def get_data(obj):\n",
        "    \"\"\"get the numeric data from either a pd.dataframe or np.ndarray\n",
        "\n",
        "    :param obj: pd.dataframe or np.ndarray\n",
        "    :return: the object's underlying np.ndarray data\n",
        "    \"\"\"\n",
        "\n",
        "    if obj.__class__.__name__ in ('DataFrame', 'Series'):\n",
        "        data = obj.values\n",
        "    elif obj.__class__.__name__ == 'ndarray':\n",
        "        data = obj\n",
        "    else:\n",
        "        raise TypeError(\"input data must be in either pd.dataframe/pd.series or np.ndarray format\")\n",
        "    return data\n"
      ],
      "execution_count": 336,
      "outputs": []
    },
    {
      "cell_type": "code",
      "metadata": {
        "id": "OGLlEZqdbnyH"
      },
      "source": [
        "def discounted_cumulative_gain(model, test_interactions, k=10, filter_previous=False):\n",
        "    \"\"\"evaluate discounted cumulative gain wrt out-of-sample observed interactions\n",
        "\n",
        "    :param model: trained RankFM model instance\n",
        "    :param test_interactions: pandas dataframe of out-of-sample observed user/item interactions\n",
        "    :param k: number of recommendations to generate for each user\n",
        "    :param filter_previous: remove observed training items from generated recommendations\n",
        "    :return: mean discounted cumulative gain wrt the test users\n",
        "    \"\"\"\n",
        "\n",
        "    # ensure that the model has been fit before attempting to generate predictions\n",
        "    assert model.is_fit, \"you must fit the model prior to evaluating hold-out metrics\"\n",
        "\n",
        "    # transform interactions into a user -> items dictionary\n",
        "    test_user_items = pd.DataFrame(get_data(test_interactions), columns=['user_id', 'item_id'])\n",
        "    test_user_items = test_user_items.groupby('user_id')['item_id'].apply(set).to_dict()\n",
        "    test_users = list(test_user_items.keys())\n",
        "\n",
        "    # generate topK recommendations for all test users also present in the training data\n",
        "    test_recs = model.recommend(users=test_users, n_items=k, filter_previous=filter_previous, cold_start='drop')\n",
        "    comm_user = test_recs.index.values\n",
        "\n",
        "    # calculate the discounted cumulative gain (sum of inverse log scaled ranks of relevant items) wrt common users\n",
        "    # 맞는 노래의 index를 가져오기.\n",
        "    match_indexes = [np.where(test_recs.loc[u].isin(set(test_recs.loc[u]) & test_user_items[u]))[0] for u in comm_user]\n",
        "    # discounted_cumulative_gain = np.mean([np.sum(1 / np.log2(index + 2)) if len(index) > 0 else 0 for index in match_indexes])\n",
        "    dgcs = np.array([np.sum(1 / np.log2(index + 2)) if len(index) > 0 else 0 for index in match_indexes])\n",
        "    idcgs = np.array([idcg(k) for idx in range(len(dgcs))])\n",
        "    ndcgs = dgcs / idcgs\n",
        "\n",
        "    return np.mean(ndcgs)\n"
      ],
      "execution_count": 337,
      "outputs": []
    },
    {
      "cell_type": "code",
      "metadata": {
        "id": "wZWZ-LhfiTGN"
      },
      "source": [
        "d1 = np.array([i+2 for i in range(10)])\n",
        "d2 = np.array([i+1%5 for i in range(10)])"
      ],
      "execution_count": 338,
      "outputs": []
    },
    {
      "cell_type": "code",
      "metadata": {
        "colab": {
          "base_uri": "https://localhost:8080/"
        },
        "id": "CqwFS7Wx27cz",
        "outputId": "0046daca-8b18-42b3-84b3-b9aeaf52069f"
      },
      "source": [
        "%%time\n",
        "# model_hit_rate = hit_rate(model, interactions_valid, k=k)\n",
        "# model_reciprocal_rank = reciprocal_rank(model, interactions_valid, k=k)\n",
        "model_dcg = discounted_cumulative_gain(model, interactions_valid, k=k)\n",
        "# model_precision = precision(model, interactions_valid, k=k)\n",
        "# model_recall = recall(model, interactions_valid, k=k)"
      ],
      "execution_count": 339,
      "outputs": [
        {
          "output_type": "stream",
          "text": [
            "CPU times: user 24 s, sys: 8.98 ms, total: 24 s\n",
            "Wall time: 24 s\n"
          ],
          "name": "stdout"
        }
      ]
    },
    {
      "cell_type": "code",
      "metadata": {
        "colab": {
          "base_uri": "https://localhost:8080/"
        },
        "id": "GG_bq9m73SWS",
        "outputId": "ffc4caf9-64bf-4f06-e511-3b5697d6fb47"
      },
      "source": [
        "print(\"hit_rate: {:.3f}\".format(model_hit_rate))\n",
        "print(\"reciprocal_rank: {:.3f}\".format(model_reciprocal_rank))\n",
        "print(\"dcg: {:.3f}\".format(model_dcg, 3))\n",
        "print(\"precision: {:.3f}\".format(model_precision))\n",
        "print(\"recall: {:.3f}\".format(model_recall))"
      ],
      "execution_count": 312,
      "outputs": [
        {
          "output_type": "stream",
          "text": [
            "hit_rate: 0.528\n",
            "reciprocal_rank: 0.208\n",
            "dcg: 0.378\n",
            "precision: 0.080\n",
            "recall: 0.060\n"
          ],
          "name": "stdout"
        }
      ]
    },
    {
      "cell_type": "code",
      "metadata": {
        "colab": {
          "base_uri": "https://localhost:8080/"
        },
        "id": "_PDs_12NlMad",
        "outputId": "64b7101d-841c-4bc7-e236-8604d4f2d245"
      },
      "source": [
        "print(\"dcg: {:.3f}\".format(model_dcg, 3))"
      ],
      "execution_count": 340,
      "outputs": [
        {
          "output_type": "stream",
          "text": [
            "dcg: 0.058\n"
          ],
          "name": "stdout"
        }
      ]
    },
    {
      "cell_type": "code",
      "metadata": {
        "colab": {
          "base_uri": "https://localhost:8080/"
        },
        "id": "CJZzhhEfftWF",
        "outputId": "48c32e97-bac7-4451-ede6-05f1c475fad0"
      },
      "source": [
        "model_dcg"
      ],
      "execution_count": 314,
      "outputs": [
        {
          "output_type": "execute_result",
          "data": {
            "text/plain": [
              "0.3782754228922356"
            ]
          },
          "metadata": {
            "tags": []
          },
          "execution_count": 314
        }
      ]
    },
    {
      "cell_type": "code",
      "metadata": {
        "id": "iB5zVFx3f1Oo"
      },
      "source": [
        "idcg = 0.0\n",
        "for i in range(10):\n",
        "  idcg += 1.0 / np.log(i+2)"
      ],
      "execution_count": 315,
      "outputs": []
    },
    {
      "cell_type": "code",
      "metadata": {
        "colab": {
          "base_uri": "https://localhost:8080/"
        },
        "id": "xhI4YVUtgLvr",
        "outputId": "83a2709a-0aa5-4241-f87e-e0b140280aca"
      },
      "source": [
        "idcg"
      ],
      "execution_count": 316,
      "outputs": [
        {
          "output_type": "execute_result",
          "data": {
            "text/plain": [
              "6.554970525044798"
            ]
          },
          "metadata": {
            "tags": []
          },
          "execution_count": 316
        }
      ]
    },
    {
      "cell_type": "markdown",
      "metadata": {
        "id": "TM2FwI67Gj5V"
      },
      "source": [
        "Implicit Baseline"
      ]
    },
    {
      "cell_type": "code",
      "metadata": {
        "colab": {
          "base_uri": "https://localhost:8080/"
        },
        "id": "t2-7A2W5GaE7",
        "outputId": "aa3ed3cf-1748-4033-9a4d-1d9443382c82"
      },
      "source": [
        "!pip install implicit"
      ],
      "execution_count": 276,
      "outputs": [
        {
          "output_type": "stream",
          "text": [
            "Collecting implicit\n",
            "\u001b[?25l  Downloading https://files.pythonhosted.org/packages/bc/07/c0121884722d16e2c5beeb815f6b84b41cbf22e738e4075f1475be2791bc/implicit-0.4.4.tar.gz (1.1MB)\n",
            "\u001b[K     |████████████████████████████████| 1.1MB 6.6MB/s \n",
            "\u001b[?25hRequirement already satisfied: numpy in /usr/local/lib/python3.6/dist-packages (from implicit) (1.18.5)\n",
            "Requirement already satisfied: scipy>=0.16 in /usr/local/lib/python3.6/dist-packages (from implicit) (1.4.1)\n",
            "Requirement already satisfied: tqdm>=4.27 in /usr/local/lib/python3.6/dist-packages (from implicit) (4.41.1)\n",
            "Building wheels for collected packages: implicit\n",
            "  Building wheel for implicit (setup.py) ... \u001b[?25l\u001b[?25hdone\n",
            "  Created wheel for implicit: filename=implicit-0.4.4-cp36-cp36m-linux_x86_64.whl size=3419451 sha256=5011bbfb16495aeffb893eed2fe3181b22581e51286b59b0db41362cd5f7f003\n",
            "  Stored in directory: /root/.cache/pip/wheels/bf/d4/ec/fd4f622fcbefb7521f149905295b2c26adecb23af38aa28217\n",
            "Successfully built implicit\n",
            "Installing collected packages: implicit\n",
            "Successfully installed implicit-0.4.4\n"
          ],
          "name": "stdout"
        }
      ]
    },
    {
      "cell_type": "code",
      "metadata": {
        "id": "sAhhfSxyIZEK"
      },
      "source": [
        "n_users_train = interactions.user_id.max()\n",
        "n_items_train = interactions.item_id.max()"
      ],
      "execution_count": 286,
      "outputs": []
    },
    {
      "cell_type": "code",
      "metadata": {
        "id": "4weYQUbNGxRh"
      },
      "source": [
        "from scipy.sparse import csr_matrix\n",
        "\n",
        "# create zero-based index position <-> user/item ID mappings\n",
        "index_to_user = pd.Series(np.sort(np.unique(interactions_train['user_id'])))\n",
        "index_to_item = pd.Series(np.sort(np.unique(interactions_train['item_id'])))\n",
        "\n",
        "# create reverse mappings from user/item ID to index positions\n",
        "user_to_index = pd.Series(data=index_to_user.index, index=index_to_user.values)\n",
        "item_to_index = pd.Series(data=index_to_item.index, index=index_to_item.values)\n",
        "\n",
        "# convert user/item identifiers to index positions\n",
        "interactions_train_imp = interactions_train.copy()\n",
        "interactions_train_imp['user_id'] = interactions_train['user_id'].map(user_to_index)\n",
        "interactions_train_imp['item_id'] = interactions_train['item_id'].map(item_to_index)\n",
        "\n",
        "rows = interactions_train_imp['user_id']\n",
        "cols = interactions_train_imp['item_id']\n",
        "data = np.ones(len(rows))\n",
        "\n",
        "# n_users_train\n",
        "user_items_imp = csr_matrix((data, (rows, cols)), shape=(n_users_train, n_items_train))\n",
        "item_users_imp = user_items_imp.T.tocsr()"
      ],
      "execution_count": 288,
      "outputs": []
    },
    {
      "cell_type": "code",
      "metadata": {
        "colab": {
          "base_uri": "https://localhost:8080/",
          "height": 120,
          "referenced_widgets": [
            "d803aad8ef814ec7ba298f26384c7ddb",
            "f384d08e25c3462a8baa492400b054c9",
            "232a1f7b05cf481c8edcd6724ff1c274",
            "167bfa7853b44f98bfe9680819b04605",
            "081f5baf12934f38b40f0bc02b610a64",
            "f4d0960ea09546ebadbdf50c28752998",
            "dfdb9eb8adc84019bff05e374eae9f7d",
            "118522656b834eabb5e1b4f03627191b"
          ]
        },
        "id": "qBa2gVAVGhH-",
        "outputId": "882a97ba-0730-4494-d93e-aa33c27a5c6d"
      },
      "source": [
        "from implicit.als import AlternatingLeastSquares\n",
        "\n",
        "imp_model = AlternatingLeastSquares(factors=20)\n",
        "imp_model.fit(item_users_imp)"
      ],
      "execution_count": 291,
      "outputs": [
        {
          "output_type": "stream",
          "text": [
            "GPU training requires factor size to be a multiple of 32. Increasing factors from 20 to 32.\n",
            "WARNING:root:OpenBLAS detected. Its highly recommend to set the environment variable 'export OPENBLAS_NUM_THREADS=1' to disable its internal multithreading\n"
          ],
          "name": "stderr"
        },
        {
          "output_type": "display_data",
          "data": {
            "application/vnd.jupyter.widget-view+json": {
              "model_id": "d803aad8ef814ec7ba298f26384c7ddb",
              "version_minor": 0,
              "version_major": 2
            },
            "text/plain": [
              "HBox(children=(FloatProgress(value=0.0, max=15.0), HTML(value='')))"
            ]
          },
          "metadata": {
            "tags": []
          }
        },
        {
          "output_type": "stream",
          "text": [
            "\n"
          ],
          "name": "stdout"
        }
      ]
    },
    {
      "cell_type": "code",
      "metadata": {
        "colab": {
          "base_uri": "https://localhost:8080/",
          "height": 66,
          "referenced_widgets": [
            "8c74996291434ab3a99de9fdd31d3db5",
            "7f4dc9729f8b4edfa2c01ecd95daa905",
            "ded8a58ac5b34d60aac8809b641ffd42",
            "545e282319e041f48d7c10295829be94",
            "93484363d48941d484085ee6e3ea2e5d",
            "a3c7f5c24e7e4317a4daea9aa85ae33e",
            "bb2fb259dc85470a9c71762aab65561b",
            "f0eec779a78d4370b57c3e713556a9ac"
          ]
        },
        "id": "qu0GNLVVpOxN",
        "outputId": "31e2b9c9-652e-48a8-bd0b-941c4a0b2716"
      },
      "source": [
        "recs_imp = imp_model.recommend_all(user_items=user_items_imp, N=10, filter_already_liked_items=False)\n",
        "recs_imp = pd.DataFrame(recs_imp, index=index_to_user.values).apply(lambda c: c.map(index_to_item))"
      ],
      "execution_count": 298,
      "outputs": [
        {
          "output_type": "display_data",
          "data": {
            "application/vnd.jupyter.widget-view+json": {
              "model_id": "8c74996291434ab3a99de9fdd31d3db5",
              "version_minor": 0,
              "version_major": 2
            },
            "text/plain": [
              "HBox(children=(FloatProgress(value=0.0, max=610.0), HTML(value='')))"
            ]
          },
          "metadata": {
            "tags": []
          }
        },
        {
          "output_type": "stream",
          "text": [
            "\n"
          ],
          "name": "stdout"
        }
      ]
    },
    {
      "cell_type": "code",
      "metadata": {
        "id": "Bxp_QgEnL8Ms"
      },
      "source": [
        "valid_user_items = interactions_valid.groupby('user_id')['item_id'].apply(set).to_dict()\n",
        "combined_users = set(train_users) & set(valid_users)\n",
        "\n",
        "imp_hrt = np.mean([int(len(set(recs_imp.loc[u]) & valid_user_items[u]) > 0) for u in combined_users])\n",
        "imp_pre = np.mean([len(set(recs_imp.loc[u]) & valid_user_items[u]) / len(recs_imp.loc[u]) for u in combined_users])\n",
        "imp_rec = np.mean([len(set(recs_imp.loc[u]) & valid_user_items[u]) / len(valid_user_items[u]) for u in combined_users])"
      ],
      "execution_count": 299,
      "outputs": []
    },
    {
      "cell_type": "code",
      "metadata": {
        "colab": {
          "base_uri": "https://localhost:8080/"
        },
        "id": "eE-cuf-yMHBw",
        "outputId": "1cc583c3-8567-4ca0-9612-2e8674c93615"
      },
      "source": [
        "print(imp_hrt)\n",
        "print(imp_pre)\n",
        "print(imp_rec)"
      ],
      "execution_count": 300,
      "outputs": [
        {
          "output_type": "stream",
          "text": [
            "0.5131147540983606\n",
            "0.07967213114754099\n",
            "0.06547803694496168\n"
          ],
          "name": "stdout"
        }
      ]
    },
    {
      "cell_type": "code",
      "metadata": {
        "colab": {
          "base_uri": "https://localhost:8080/",
          "height": 204
        },
        "id": "KZHB7djtMZPx",
        "outputId": "c539991c-cb55-4cfa-9c82-42a45abbdbf3"
      },
      "source": [
        "recs_imp.head()"
      ],
      "execution_count": 297,
      "outputs": [
        {
          "output_type": "execute_result",
          "data": {
            "text/html": [
              "<div>\n",
              "<style scoped>\n",
              "    .dataframe tbody tr th:only-of-type {\n",
              "        vertical-align: middle;\n",
              "    }\n",
              "\n",
              "    .dataframe tbody tr th {\n",
              "        vertical-align: top;\n",
              "    }\n",
              "\n",
              "    .dataframe thead th {\n",
              "        text-align: right;\n",
              "    }\n",
              "</style>\n",
              "<table border=\"1\" class=\"dataframe\">\n",
              "  <thead>\n",
              "    <tr style=\"text-align: right;\">\n",
              "      <th></th>\n",
              "      <th>0</th>\n",
              "      <th>1</th>\n",
              "      <th>2</th>\n",
              "      <th>3</th>\n",
              "      <th>4</th>\n",
              "      <th>5</th>\n",
              "      <th>6</th>\n",
              "      <th>7</th>\n",
              "      <th>8</th>\n",
              "      <th>9</th>\n",
              "    </tr>\n",
              "  </thead>\n",
              "  <tbody>\n",
              "    <tr>\n",
              "      <th>1</th>\n",
              "      <td>858</td>\n",
              "      <td>589</td>\n",
              "      <td>1968</td>\n",
              "      <td>1200</td>\n",
              "      <td>2918</td>\n",
              "      <td>919</td>\n",
              "      <td>1036</td>\n",
              "      <td>1374</td>\n",
              "      <td>2762</td>\n",
              "      <td>1221</td>\n",
              "    </tr>\n",
              "    <tr>\n",
              "      <th>2</th>\n",
              "      <td>2959</td>\n",
              "      <td>2571</td>\n",
              "      <td>296</td>\n",
              "      <td>356</td>\n",
              "      <td>593</td>\n",
              "      <td>68157</td>\n",
              "      <td>7153</td>\n",
              "      <td>59315</td>\n",
              "      <td>4993</td>\n",
              "      <td>2329</td>\n",
              "    </tr>\n",
              "    <tr>\n",
              "      <th>3</th>\n",
              "      <td>1200</td>\n",
              "      <td>924</td>\n",
              "      <td>1214</td>\n",
              "      <td>1499</td>\n",
              "      <td>2641</td>\n",
              "      <td>1375</td>\n",
              "      <td>2985</td>\n",
              "      <td>1222</td>\n",
              "      <td>1994</td>\n",
              "      <td>3702</td>\n",
              "    </tr>\n",
              "    <tr>\n",
              "      <th>4</th>\n",
              "      <td>2858</td>\n",
              "      <td>1</td>\n",
              "      <td>2396</td>\n",
              "      <td>608</td>\n",
              "      <td>858</td>\n",
              "      <td>50</td>\n",
              "      <td>1206</td>\n",
              "      <td>527</td>\n",
              "      <td>318</td>\n",
              "      <td>1270</td>\n",
              "    </tr>\n",
              "    <tr>\n",
              "      <th>5</th>\n",
              "      <td>356</td>\n",
              "      <td>592</td>\n",
              "      <td>480</td>\n",
              "      <td>318</td>\n",
              "      <td>380</td>\n",
              "      <td>165</td>\n",
              "      <td>593</td>\n",
              "      <td>454</td>\n",
              "      <td>377</td>\n",
              "      <td>161</td>\n",
              "    </tr>\n",
              "  </tbody>\n",
              "</table>\n",
              "</div>"
            ],
            "text/plain": [
              "      0     1     2     3     4      5     6      7     8     9\n",
              "1   858   589  1968  1200  2918    919  1036   1374  2762  1221\n",
              "2  2959  2571   296   356   593  68157  7153  59315  4993  2329\n",
              "3  1200   924  1214  1499  2641   1375  2985   1222  1994  3702\n",
              "4  2858     1  2396   608   858     50  1206    527   318  1270\n",
              "5   356   592   480   318   380    165   593    454   377   161"
            ]
          },
          "metadata": {
            "tags": []
          },
          "execution_count": 297
        }
      ]
    }
  ]
}